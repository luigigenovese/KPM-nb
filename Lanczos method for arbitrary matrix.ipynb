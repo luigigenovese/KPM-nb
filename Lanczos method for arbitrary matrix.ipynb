{
 "cells": [
  {
   "cell_type": "code",
   "execution_count": 1,
   "metadata": {
    "collapsed": true
   },
   "outputs": [],
   "source": [
    "import numpy as np\n",
    "import matplotlib.pyplot as plt\n",
    "%matplotlib inline\n",
    "import Krylov as K\n",
    "np.set_printoptions(precision=4)"
   ]
  },
  {
   "cell_type": "markdown",
   "metadata": {},
   "source": [
    "We start by considering the spectral decomposition for an arbitrary matrix (with random elements)"
   ]
  },
  {
   "cell_type": "code",
   "execution_count": 2,
   "metadata": {},
   "outputs": [
    {
     "data": {
      "text/plain": [
       "1.0"
      ]
     },
     "execution_count": 2,
     "metadata": {},
     "output_type": "execute_result"
    }
   ],
   "source": [
    "n=50\n",
    "Hr=np.matrix(np.random.rand(n*n).reshape(n,n))\n",
    "Hi=np.matrix(np.random.rand(n*n).reshape(n,n))\n",
    "H = Hr+1*1j*Hi\n",
    "#H += H.H\n",
    "u0 = np.matrix(np.random.rand(n).reshape(n,1))\n",
    "u0norm = K.norm(u0)\n",
    "u0=u0/u0norm\n",
    "K.norm(u0)"
   ]
  },
  {
   "cell_type": "code",
   "execution_count": 3,
   "metadata": {
    "collapsed": true
   },
   "outputs": [],
   "source": [
    "#H"
   ]
  },
  {
   "cell_type": "markdown",
   "metadata": {},
   "source": [
    "We compute eigenvalues and left and right eigenvectors (all written as row vectors). Eigenvalues are sorted in decreasing order. We also check the meaning of the left and right eigenvalue conditions."
   ]
  },
  {
   "cell_type": "code",
   "execution_count": 4,
   "metadata": {},
   "outputs": [
    {
     "name": "stdout",
     "output_type": "stream",
     "text": [
      "Validation terminated\n",
      "Validation terminated\n"
     ]
    }
   ],
   "source": [
    "e,vr,vl = K.nonHermitian_eigensystem(H)\n",
    "K.validate_eigensystem(H,e,vr)\n",
    "K.validate_eigensystem(H.H,e.conj(),vl)"
   ]
  },
  {
   "cell_type": "code",
   "execution_count": 5,
   "metadata": {
    "collapsed": true
   },
   "outputs": [],
   "source": [
    "#print(e)"
   ]
  },
  {
   "cell_type": "markdown",
   "metadata": {},
   "source": [
    "The eigenvectors are normalized to 1"
   ]
  },
  {
   "cell_type": "code",
   "execution_count": 27,
   "metadata": {},
   "outputs": [
    {
     "name": "stdout",
     "output_type": "stream",
     "text": [
      "True\n",
      "True\n"
     ]
    }
   ],
   "source": [
    "lnorm = np.zeros(n,dtype=np.complex_)\n",
    "rnorm = np.zeros(n,dtype=np.complex_)\n",
    "for i in range(n):\n",
    "    lnorm[i] = K.sp(vl[:,i],vl[:,i])\n",
    "    rnorm[i] = K.sp(vr[:,i],vr[:,i])\n",
    "idnorm = np.empty(n)\n",
    "idnorm.fill(1)\n",
    "print(np.allclose(lnorm,idnorm,atol=1.e-12))\n",
    "print(np.allclose(rnorm,idnorm,atol=1.e-12))"
   ]
  },
  {
   "cell_type": "markdown",
   "metadata": {},
   "source": [
    "The basis is bi-orthonormal in the sense that left and right vectors associated to different eigenvalues are orthogonal but the scalar products $\\langle \\chi_{n} | \\phi_{n} \\rangle$ are not equal to 1....is it wrong?>"
   ]
  },
  {
   "cell_type": "code",
   "execution_count": 28,
   "metadata": {},
   "outputs": [
    {
     "data": {
      "text/plain": [
       "True"
      ]
     },
     "execution_count": 28,
     "metadata": {},
     "output_type": "execute_result"
    }
   ],
   "source": [
    "K.sp(vl[:,1],vr[0:,2])\n",
    "M=np.matrix(np.zeros((n*n),dtype=np.complex_).reshape(n,n))\n",
    "dval = np.zeros(n,dtype=np.complex_)\n",
    "for i in range(n):\n",
    "    dval[i] = K.sp(vl[:,i],vr[:,i])\n",
    "    for j in range(n):\n",
    "        M[i,j] = K.sp(vl[:,i],vr[0:,j])\n",
    "Diag = np.matrix(np.diag(dval),dtype=np.complex_)\n",
    "#print(dval)\n",
    "np.allclose(M,Diag,atol=1.e-12)"
   ]
  },
  {
   "cell_type": "markdown",
   "metadata": {},
   "source": [
    "Using the left and right eigenvector we can write and check the completeness relation, that is:\n",
    "$$\n",
    "\\sum_{n} \\frac{ | \\phi_{n} \\rangle \\langle \\chi_{n} | }{\\langle \\chi_{n}|\\phi_{n}\\rangle} = 1\n",
    "$$"
   ]
  },
  {
   "cell_type": "code",
   "execution_count": 29,
   "metadata": {},
   "outputs": [
    {
     "data": {
      "text/plain": [
       "True"
      ]
     },
     "execution_count": 29,
     "metadata": {},
     "output_type": "execute_result"
    }
   ],
   "source": [
    "Id=np.matrix(np.zeros((n*n),dtype=np.complex_).reshape(n,n))\n",
    "for ind in range(n):\n",
    "    Id += np.matmul(vr[:,ind],vl[:,ind].H)/K.sp(vl[:,ind],vr[:,ind])\n",
    "np.allclose(Id,np.eye(n),atol=1.e-12)"
   ]
  },
  {
   "cell_type": "markdown",
   "metadata": {},
   "source": [
    "We compute the resolvent of $H$ by using the spectral representation of $H$\n",
    "$$ G(z) = \\frac{1}{z-H}  = \\sum_{n,m} \\frac{ | \\phi_{n} \\rangle \\langle \\chi_{n} | }{\\langle \\chi_{n}|\\phi_{n}\\rangle}\\frac{1}{z-H}\\frac{| \\phi_{m} \\rangle \\langle \\chi_{m}|}{\\langle \\chi_{m}|\\phi_{m}\\rangle} = \\sum_{n}\\frac{| \\phi_{n} \\rangle \\langle \\chi_{n}|}{\\langle \\chi_{n}|\\phi_{n}\\rangle}\\frac{1}{z-E_{n}}\n",
    "$$\n",
    "where $|\\phi_{n}\\rangle$ and $\\langle \\chi_{n}|$ are the right and left eigenvectors of $H$.\n",
    "\n",
    "and we check the validity of the resolvent condition\n",
    "$$G(z)(z-H)=1\n",
    "$$"
   ]
  },
  {
   "cell_type": "code",
   "execution_count": 9,
   "metadata": {
    "collapsed": true
   },
   "outputs": [],
   "source": [
    "def Gcheck(omega,eta=1.e-2):\n",
    "    G=np.matrix(np.zeros((n*n),dtype=np.complex_).reshape(n,n))\n",
    "    for ind,E in enumerate(e):\n",
    "        G += np.matmul(vr[:,ind],vl[:,ind].H)/K.sp(vl[:,ind],vr[:,ind])*1.0/(omega-E+1j*eta)\n",
    "    zmH = (omega+1j*eta)*np.eye(n) - H\n",
    "    GzmH = np.matmul(G,zmH)\n",
    "    isok = np.allclose(GzmH,np.eye(n),atol=1.e-12)\n",
    "    return isok"
   ]
  },
  {
   "cell_type": "code",
   "execution_count": 10,
   "metadata": {},
   "outputs": [
    {
     "name": "stdout",
     "output_type": "stream",
     "text": [
      "Gcheck Terminated\n"
     ]
    }
   ],
   "source": [
    "x=np.arange(-2.0, 2.0, 0.01)\n",
    "for val in x: \n",
    "    if not Gcheck(val): print('False resolvent condition')\n",
    "print('Gcheck Terminated')"
   ]
  },
  {
   "cell_type": "markdown",
   "metadata": {},
   "source": [
    "Now I compute the resolvent of $H$ on $u_{0}$ by using the spectral representation of $H$\n",
    "$$ G_{0}(z) = \\langle u_{0} | \\frac{1}{z-H} | u_{0} \\rangle = \\sum_{n}\\frac{\\langle u_{0} | \\phi_{n} \\rangle \\langle \\chi_{n}|u_{0}\\rangle}{\\langle \\chi_{n}|\\phi_{n}\\rangle}\\frac{1}{z-E_{n}}\n",
    "$$\n",
    "where $|\\phi_{n}\\rangle$ and $\\langle \\chi_{n}|$ are the right and left eigenvectors of $H$."
   ]
  },
  {
   "cell_type": "code",
   "execution_count": 11,
   "metadata": {},
   "outputs": [
    {
     "data": {
      "text/plain": [
       "[<matplotlib.lines.Line2D at 0x7f9383eb93c8>]"
      ]
     },
     "execution_count": 11,
     "metadata": {},
     "output_type": "execute_result"
    },
    {
     "data": {
      "image/png": "[encoded data removed]",
      "text/plain": [
       "<matplotlib.figure.Figure at 0x7f9385f56780>"
      ]
     },
     "metadata": {},
     "output_type": "display_data"
    }
   ],
   "source": [
    "x=np.arange(-5.0, 5.0, 0.01)\n",
    "plt.plot(x,K.resolvent_nonHermitian(u0,e,vr,vl,x))"
   ]
  },
  {
   "cell_type": "markdown",
   "metadata": {},
   "source": [
    "Now we want to reproduce this result using the Lanczos procedure. We build the right and left Krylov spaces $|\\phi_{j}\\rangle, \\langle \\chi_{j}|$ generated by the repeated action of $H$ on the given (normalized) right and left vectors $|u_{0}\\rangle, \\langle u_{0}|$. We use the procedure described in the paper of Gruning. \n",
    "\n",
    "The procedure takes as input the values of $|\\phi_{j}\\rangle,|\\phi_{j-1}\\rangle,\\langle\\chi_{j}|,\\langle\\chi_{j-1}|,\\alpha_{j},\\beta_{j},\\gamma_{j}$ and gives $|\\phi_{j+1}\\rangle,\\langle\\chi_{j+1}|,\\alpha_{j+1},\\beta_{j+1},\\gamma_{j+1}$ built by the following operations:\n",
    "\n",
    "$$\n",
    "|\\tilde\\phi_{j+1}\\rangle = (H-\\alpha_{j})|\\phi_{j}\\rangle - \\gamma_{j}|\\phi_{j-1}\\rangle \\; , \\qquad\n",
    "\\langle\\tilde\\chi_{j+1}| = \\langle\\chi_{j}|(H-\\alpha_{j})  - \\langle\\chi_{j-1}|\\beta_{j}\n",
    "$$\n",
    "\n",
    "$$\n",
    "\\beta_{j+1} = || \\tilde\\phi_{j+1} || \\; , \\quad \n",
    "\\gamma_{j+1} = \\frac{\\langle\\tilde\\chi_{j+1}|\\tilde\\phi_{j+1}\\rangle}{\\beta_{j+1}} \\; , \\quad\n",
    "|\\phi_{j+1}\\rangle = \\frac{|\\tilde\\phi_{j+1}\\rangle}{\\beta_{j+1}} \\; , \\quad\n",
    "\\langle\\chi_{j+1}| = \\frac{\\langle\\tilde\\chi_{j+1}|}{\\gamma_{j+1}} \\; , \\quad\n",
    "\\alpha_{j+1} = \\langle\\chi_{j+1}|H|\\phi_{j+1}\\rangle\n",
    "$$\n",
    "\n",
    "The procedure is initialized as follows:\n",
    "\n",
    "$$\n",
    "|\\phi_{0}\\rangle = |u_{0}\\rangle \\; , \\quad \\langle \\chi_{0}| = \\langle u_{0}|  \\; , \\quad \\alpha_{0} = \\langle u_{0}|H|u_{0}\\rangle \\; , \\quad \\beta_{0} = \\gamma_{0} = 0\n",
    "$$"
   ]
  },
  {
   "cell_type": "markdown",
   "metadata": {},
   "source": [
    "We perform the recursion until the Krylov space reaches a given dimension"
   ]
  },
  {
   "cell_type": "code",
   "execution_count": 12,
   "metadata": {},
   "outputs": [
    {
     "name": "stdout",
     "output_type": "stream",
     "text": [
      "Dimension Krylov space =  3 Orthogonality check =  True Tridiagonal check =  True\n",
      "Dimension Krylov space =  4 Orthogonality check =  True Tridiagonal check =  True\n",
      "Dimension Krylov space =  5 Orthogonality check =  True Tridiagonal check =  True\n",
      "Dimension Krylov space =  6 Orthogonality check =  True Tridiagonal check =  False\n",
      "Dimension Krylov space =  7 Orthogonality check =  False Tridiagonal check =  False\n",
      "Dimension Krylov space =  8 Orthogonality check =  False Tridiagonal check =  False\n",
      "Dimension Krylov space =  9 Orthogonality check =  False Tridiagonal check =  False\n",
      "Dimension Krylov space =  10 Orthogonality check =  False Tridiagonal check =  False\n",
      "Dimension Krylov space =  11 Orthogonality check =  False Tridiagonal check =  False\n",
      "Dimension Krylov space =  12 Orthogonality check =  False Tridiagonal check =  False\n",
      "Dimension Krylov space =  13 Orthogonality check =  False Tridiagonal check =  False\n",
      "Dimension Krylov space =  14 Orthogonality check =  False Tridiagonal check =  False\n",
      "Dimension Krylov space =  15 Orthogonality check =  False Tridiagonal check =  False\n",
      "Dimension Krylov space =  16 Orthogonality check =  False Tridiagonal check =  False\n",
      "Dimension Krylov space =  17 Orthogonality check =  False Tridiagonal check =  False\n",
      "Dimension Krylov space =  18 Orthogonality check =  False Tridiagonal check =  False\n",
      "Dimension Krylov space =  19 Orthogonality check =  False Tridiagonal check =  False\n",
      "Dimension Krylov space =  20 Orthogonality check =  False Tridiagonal check =  False\n",
      "Dimension Krylov space =  21 Orthogonality check =  False Tridiagonal check =  False\n",
      "Dimension Krylov space =  22 Orthogonality check =  False Tridiagonal check =  False\n",
      "Dimension Krylov space =  23 Orthogonality check =  False Tridiagonal check =  False\n",
      "Dimension Krylov space =  24 Orthogonality check =  False Tridiagonal check =  False\n",
      "Dimension Krylov space =  25 Orthogonality check =  False Tridiagonal check =  False\n",
      "Dimension Krylov space =  26 Orthogonality check =  False Tridiagonal check =  False\n",
      "Dimension Krylov space =  27 Orthogonality check =  False Tridiagonal check =  False\n",
      "Dimension Krylov space =  28 Orthogonality check =  False Tridiagonal check =  False\n",
      "Dimension Krylov space =  29 Orthogonality check =  False Tridiagonal check =  False\n",
      "Dimension Krylov space =  30 Orthogonality check =  False Tridiagonal check =  False\n",
      "Dimension Krylov space =  31 Orthogonality check =  False Tridiagonal check =  False\n",
      "Dimension Krylov space =  32 Orthogonality check =  False Tridiagonal check =  False\n",
      "Dimension Krylov space =  33 Orthogonality check =  False Tridiagonal check =  False\n",
      "Dimension Krylov space =  34 Orthogonality check =  False Tridiagonal check =  False\n",
      "Dimension Krylov space =  35 Orthogonality check =  False Tridiagonal check =  False\n",
      "Dimension Krylov space =  36 Orthogonality check =  False Tridiagonal check =  False\n",
      "Dimension Krylov space =  37 Orthogonality check =  False Tridiagonal check =  False\n",
      "Dimension Krylov space =  38 Orthogonality check =  False Tridiagonal check =  False\n",
      "Dimension Krylov space =  39 Orthogonality check =  False Tridiagonal check =  False\n",
      "Dimension Krylov space =  40 Orthogonality check =  False Tridiagonal check =  False\n",
      "Dimension Krylov space =  41 Orthogonality check =  False Tridiagonal check =  False\n",
      "Dimension Krylov space =  42 Orthogonality check =  False Tridiagonal check =  False\n",
      "Dimension Krylov space =  43 Orthogonality check =  False Tridiagonal check =  False\n",
      "Dimension Krylov space =  44 Orthogonality check =  False Tridiagonal check =  False\n",
      "Dimension Krylov space =  45 Orthogonality check =  False Tridiagonal check =  False\n",
      "Dimension Krylov space =  46 Orthogonality check =  False Tridiagonal check =  False\n",
      "Dimension Krylov space =  47 Orthogonality check =  False Tridiagonal check =  False\n",
      "Dimension Krylov space =  48 Orthogonality check =  False Tridiagonal check =  False\n",
      "Dimension Krylov space =  49 Orthogonality check =  False Tridiagonal check =  False\n",
      "Dimension Krylov space =  50 Orthogonality check =  False Tridiagonal check =  False\n",
      "Dimension Krylov space =  51 Orthogonality check =  False Tridiagonal check =  False\n",
      "Dimension Krylov space =  52 Orthogonality check =  False Tridiagonal check =  False\n",
      "Dimension Krylov space =  53 Orthogonality check =  False Tridiagonal check =  False\n",
      "Dimension Krylov space =  54 Orthogonality check =  False Tridiagonal check =  False\n",
      "Dimension Krylov space =  55 Orthogonality check =  False Tridiagonal check =  False\n",
      "Dimension Krylov space =  56 Orthogonality check =  False Tridiagonal check =  False\n",
      "Dimension Krylov space =  57 Orthogonality check =  False Tridiagonal check =  False\n",
      "Dimension Krylov space =  58 Orthogonality check =  False Tridiagonal check =  False\n",
      "Dimension Krylov space =  59 Orthogonality check =  False Tridiagonal check =  False\n",
      "Dimension Krylov space =  60 Orthogonality check =  False Tridiagonal check =  False\n"
     ]
    }
   ],
   "source": [
    "dimKrylov = n+10\n",
    "KL=K.KrylovLoop_nonHermitian(dimKrylov,H,u0)\n",
    "KL.iterate()"
   ]
  },
  {
   "cell_type": "markdown",
   "metadata": {},
   "source": [
    "We compute the resolvent as a continued fraction"
   ]
  },
  {
   "cell_type": "code",
   "execution_count": 13,
   "metadata": {},
   "outputs": [
    {
     "data": {
      "image/png": "[encoded data removed]",
      "text/plain": [
       "<matplotlib.figure.Figure at 0x7f9385f33e10>"
      ]
     },
     "metadata": {},
     "output_type": "display_data"
    }
   ],
   "source": [
    "x=np.arange(-5.0, 5.0, 0.01)\n",
    "plt.plot(x,0.1+K.resolvent_nonHermitian(u0,e,vr,vl,x))\n",
    "plt.plot(x,K.Gfrac(KL.alpha,KL.beta,KL.gamma,x))\n",
    "plt.show()"
   ]
  },
  {
   "cell_type": "code",
   "execution_count": 14,
   "metadata": {},
   "outputs": [
    {
     "data": {
      "image/png": "[encoded data removed]",
      "text/plain": [
       "<matplotlib.figure.Figure at 0x7f9385f4c630>"
      ]
     },
     "metadata": {},
     "output_type": "display_data"
    }
   ],
   "source": [
    "x=np.arange(-5.0, 5.0, 0.01)\n",
    "plt.plot(x,K.resolvent_nonHermitian(u0,e,vr,vl,x)-K.Gfrac(KL.alpha,KL.beta,KL.gamma,x))\n",
    "plt.show()"
   ]
  },
  {
   "cell_type": "code",
   "execution_count": null,
   "metadata": {
    "collapsed": true
   },
   "outputs": [],
   "source": []
  }
 ],
 "metadata": {
  "kernelspec": {
   "display_name": "Python 3",
   "language": "python",
   "name": "python3"
  },
  "language_info": {
   "codemirror_mode": {
    "name": "ipython",
    "version": 3
   },
   "file_extension": ".py",
   "mimetype": "text/x-python",
   "name": "python",
   "nbconvert_exporter": "python",
   "pygments_lexer": "ipython3",
   "version": "3.5.2+"
  }
 },
 "nbformat": 4,
 "nbformat_minor": 2
}
