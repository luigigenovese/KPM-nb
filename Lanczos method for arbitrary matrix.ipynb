{
 "cells": [
  {
   "cell_type": "code",
   "execution_count": 1,
   "metadata": {
    "collapsed": false,
    "deletable": true,
    "editable": true
   },
   "outputs": [
    {
     "name": "stderr",
     "output_type": "stream",
     "text": [
      "/usr/local/lib/python2.7/dist-packages/matplotlib/font_manager.py:273: UserWarning: Matplotlib is building the font cache using fc-list. This may take a moment.\n",
      "  warnings.warn('Matplotlib is building the font cache using fc-list. This may take a moment.')\n"
     ]
    }
   ],
   "source": [
    "import numpy as np\n",
    "import matplotlib.pyplot as plt\n",
    "%matplotlib inline\n",
    "np.set_printoptions(precision=4)\n",
    "import Krylov as K"
   ]
  },
  {
   "cell_type": "markdown",
   "metadata": {
    "deletable": true,
    "editable": true
   },
   "source": [
    "I start by considering the spectral decomposition for an arbitrary matrix (with random elements)"
   ]
  },
  {
   "cell_type": "code",
   "execution_count": 2,
   "metadata": {
    "collapsed": false,
    "deletable": true,
    "editable": true
   },
   "outputs": [
    {
     "data": {
      "text/plain": [
       "1.0"
      ]
     },
     "execution_count": 2,
     "metadata": {},
     "output_type": "execute_result"
    }
   ],
   "source": [
    "n=4\n",
    "Hr=np.matrix(np.random.rand(n*n).reshape(n,n))\n",
    "Hi=np.matrix(np.random.rand(n*n).reshape(n,n))\n",
    "H = Hr+1*1j*Hi\n",
    "#H += H.conj().T\n",
    "u0 = np.matrix(np.random.rand(n).reshape(n,1))\n",
    "u0norm = K.norm(u0)\n",
    "u0=u0/u0norm\n",
    "K.norm(u0)"
   ]
  },
  {
   "cell_type": "code",
   "execution_count": 3,
   "metadata": {
    "collapsed": false,
    "deletable": true,
    "editable": true
   },
   "outputs": [
    {
     "data": {
      "text/plain": [
       "matrix([[ 0.2182+0.1772j,  0.2734+0.1418j,  0.0352+0.1677j,  0.3731+0.396j ],\n",
       "        [ 0.4893+0.5644j,  0.7046+0.448j ,  0.9911+0.4989j,  0.5767+0.5807j],\n",
       "        [ 0.9776+0.4109j,  0.0741+0.8648j,  0.8825+0.3364j,  0.7480+0.8141j],\n",
       "        [ 0.6834+0.0524j,  0.2443+0.6438j,  0.9803+0.2525j,  0.4634+0.3896j]])"
      ]
     },
     "execution_count": 3,
     "metadata": {},
     "output_type": "execute_result"
    }
   ],
   "source": [
    "H"
   ]
  },
  {
   "cell_type": "markdown",
   "metadata": {
    "deletable": true,
    "editable": true
   },
   "source": [
    "I use eig (and not eigh) and compute eigenvalues and left and right eigenvectors. I sort the eigenvalues and eigenvector in decreasing order"
   ]
  },
  {
   "cell_type": "code",
   "execution_count": 4,
   "metadata": {
    "collapsed": false,
    "deletable": true,
    "editable": true
   },
   "outputs": [],
   "source": [
    "er,vr = np.linalg.eig(H)\n",
    "es,vl = np.linalg.eig(H.conj().T)\n",
    "es = es.conj()\n",
    "\n",
    "ind = er.argsort()[::-1] \n",
    "er = er[ind]\n",
    "vr = vr[:,ind]\n",
    "\n",
    "ind = es.argsort()[::-1] \n",
    "es = es[ind]\n",
    "vl = vl[:,ind]\n",
    "\n",
    "def ket(ind):\n",
    "    k = vr[:,ind]\n",
    "    return k\n",
    "def bra(ind):\n",
    "    b = vl[:,ind].conj().T\n",
    "    return b"
   ]
  },
  {
   "cell_type": "code",
   "execution_count": 5,
   "metadata": {
    "collapsed": false,
    "deletable": true,
    "editable": true
   },
   "outputs": [
    {
     "name": "stdout",
     "output_type": "stream",
     "text": [
      "[ 2.1788+1.8068j  0.3142+0.009j   0.0364-0.4794j -0.2608+0.0147j]\n",
      "[ 2.1788+1.8068j  0.3142+0.009j   0.0364-0.4794j -0.2608+0.0147j]\n"
     ]
    }
   ],
   "source": [
    "print(er)\n",
    "print(es)"
   ]
  },
  {
   "cell_type": "markdown",
   "metadata": {
    "deletable": true,
    "editable": true
   },
   "source": [
    "I check the meaning of the left and right eigenvalue condition"
   ]
  },
  {
   "cell_type": "code",
   "execution_count": 6,
   "metadata": {
    "collapsed": false
   },
   "outputs": [
    {
     "name": "stdout",
     "output_type": "stream",
     "text": [
      "Validation terminated\n"
     ]
    }
   ],
   "source": [
    "K.validate_eigensystem(H,er,vr)"
   ]
  },
  {
   "cell_type": "code",
   "execution_count": 8,
   "metadata": {
    "collapsed": false
   },
   "outputs": [
    {
     "name": "stdout",
     "output_type": "stream",
     "text": [
      "Validation terminated\n"
     ]
    }
   ],
   "source": [
    "K.validate_eigensystem(H.T,es,vl.conj())"
   ]
  },
  {
   "cell_type": "markdown",
   "metadata": {
    "deletable": true,
    "editable": true
   },
   "source": [
    "Using the left and right eigenvector I can write a completeness relation"
   ]
  },
  {
   "cell_type": "code",
   "execution_count": 10,
   "metadata": {
    "collapsed": false,
    "deletable": true,
    "editable": true
   },
   "outputs": [
    {
     "data": {
      "text/plain": [
       "True"
      ]
     },
     "execution_count": 10,
     "metadata": {},
     "output_type": "execute_result"
    }
   ],
   "source": [
    "Id=np.matrix(np.zeros((n*n),dtype=np.complex_).reshape(n,n))\n",
    "for ind in range(n):\n",
    "    Id += np.matmul(ket(ind),bra(ind))/K.sp(bra(ind),ket(ind))\n",
    "np.allclose(Id,np.eye(n),atol=1.e-12)"
   ]
  },
  {
   "cell_type": "markdown",
   "metadata": {
    "deletable": true,
    "editable": true
   },
   "source": [
    "The basis is bi-orthonormal in the sense that"
   ]
  },
  {
   "cell_type": "code",
   "execution_count": 11,
   "metadata": {
    "collapsed": false,
    "deletable": true,
    "editable": true
   },
   "outputs": [
    {
     "data": {
      "text/plain": [
       "(-1.1102230246251565e-16-1.2836953722228372e-16j)"
      ]
     },
     "execution_count": 11,
     "metadata": {},
     "output_type": "execute_result"
    }
   ],
   "source": [
    "K.sp(bra(0),ket(1))"
   ]
  },
  {
   "cell_type": "markdown",
   "metadata": {
    "deletable": true,
    "editable": true
   },
   "source": [
    "I build the spectral decomposition of $H$"
   ]
  },
  {
   "cell_type": "code",
   "execution_count": 12,
   "metadata": {
    "collapsed": false,
    "deletable": true,
    "editable": true
   },
   "outputs": [
    {
     "data": {
      "text/plain": [
       "True"
      ]
     },
     "execution_count": 12,
     "metadata": {},
     "output_type": "execute_result"
    }
   ],
   "source": [
    "M=np.matrix(np.zeros((n*n),dtype=np.complex_).reshape(n,n))\n",
    "for ind in range(n):\n",
    "    M += er[ind]*np.matmul(ket(ind),bra(ind))/K.sp(bra(ind),ket(ind))\n",
    "M\n",
    "np.allclose(M,H,atol=1.e-12)"
   ]
  },
  {
   "cell_type": "markdown",
   "metadata": {
    "deletable": true,
    "editable": true
   },
   "source": [
    "I compute the resolvent of $H$ by using the spectral representation of $H$\n",
    "$$ G(z) = \\frac{1}{z-H}  = \\sum_{n,m} \\frac{ | \\phi_{n} \\rangle \\langle \\chi_{n} | }{\\langle \\chi_{n}|\\phi_{n}\\rangle}\\frac{1}{z-H}\\frac{| \\phi_{m} \\rangle \\langle \\chi_{m}|}{\\langle \\chi_{m}|\\phi_{m}\\rangle} = \\sum_{n}\\frac{| \\phi_{n} \\rangle \\langle \\chi_{n}|}{\\langle \\chi_{n}|\\phi_{n}\\rangle}\\frac{1}{z-E_{n}}\n",
    "$$\n",
    "where $|\\phi_{n}\\rangle$ and $\\langle \\chi_{n}|$ are the right and left eigenvectors of $H$.\n",
    "\n",
    "I check for the resolvent condition\n",
    "$$G(z)(z-H)=1\n",
    "$$"
   ]
  },
  {
   "cell_type": "code",
   "execution_count": 13,
   "metadata": {
    "collapsed": false,
    "deletable": true,
    "editable": true
   },
   "outputs": [],
   "source": [
    "def Gcheck(omega,eta=1.e-2):\n",
    "    G=np.matrix(np.zeros((n*n),dtype=np.complex_).reshape(n,n))\n",
    "    for ind,E in enumerate(er):\n",
    "        G += np.matmul(ket(ind),bra(ind))/K.sp(bra(ind),ket(ind))*1.0/(omega-E+1j*eta)\n",
    "    zmH = (omega+1j*eta)*np.eye(n) - H\n",
    "    GzmH = np.matmul(G,zmH)\n",
    "    isok = np.allclose(GzmH,np.eye(n),atol=1.e-12)\n",
    "    return isok"
   ]
  },
  {
   "cell_type": "code",
   "execution_count": 14,
   "metadata": {
    "collapsed": false,
    "deletable": true,
    "editable": true
   },
   "outputs": [],
   "source": [
    "x=np.arange(-2.0, 2.0, 0.01)\n",
    "for val in x: \n",
    "    if not Gcheck(val): print('False resolvent condition')"
   ]
  },
  {
   "cell_type": "markdown",
   "metadata": {
    "collapsed": false,
    "deletable": true,
    "editable": true
   },
   "source": [
    "Now I compute the resolvent of $H$ on $u_{0}$ by using the spectral representation of $H$\n",
    "$$ G_{0}(z) = \\langle u_{0} | \\frac{1}{z-H} | u_{0} \\rangle = \\sum_{n}\\frac{\\langle u_{0} | \\phi_{n} \\rangle \\langle \\chi_{n}|u_{0}\\rangle}{\\langle \\chi_{n}|\\phi_{n}\\rangle}\\frac{1}{z-E_{n}}\n",
    "$$\n",
    "where $|\\phi_{n}\\rangle$ and $\\langle \\chi_{n}|$ are the right and left eigenvectors of $H$."
   ]
  },
  {
   "cell_type": "code",
   "execution_count": 17,
   "metadata": {
    "collapsed": false,
    "deletable": true,
    "editable": true
   },
   "outputs": [],
   "source": [
    "def resolvent(omega,eta=1.e-2):\n",
    "    G = 0.0\n",
    "    u0bra = u0.conj().T \n",
    "    for ind,E in enumerate(er):\n",
    "        u0dotphin = K.sp(u0bra,ket(ind))\n",
    "        chindotu0 = K.sp(bra(ind),u0)\n",
    "        G+=u0dotphin*chindotu0/K.sp(bra(ind),ket(ind))*1.0/(omega-E+1j*eta)\n",
    "    G = -1/np.pi*G.imag\n",
    "    return G"
   ]
  },
  {
   "cell_type": "code",
   "execution_count": 18,
   "metadata": {
    "collapsed": false,
    "deletable": true,
    "editable": true
   },
   "outputs": [
    {
     "data": {
      "text/plain": [
       "[<matplotlib.lines.Line2D at 0x7f976d86ed90>]"
      ]
     },
     "execution_count": 18,
     "metadata": {},
     "output_type": "execute_result"
    },
    {
     "data": {
      "image/png": "[encoded data removed]",
      "text/plain": [
       "<matplotlib.figure.Figure at 0x7f976d86ee90>"
      ]
     },
     "metadata": {},
     "output_type": "display_data"
    }
   ],
   "source": [
    "x=np.arange(-5.0, 5.0, 0.01)\n",
    "plt.plot(x,resolvent(x))"
   ]
  },
  {
   "cell_type": "markdown",
   "metadata": {
    "collapsed": true,
    "deletable": true,
    "editable": true
   },
   "source": [
    "Now I want to reproduce this result using the Lanczos procedure. I build the right and left Krylov spaces $|\\phi_{n}\\rangle, \\langle \\chi_{n}|$ generated by the repeated action of $H$ on the given (normalized) right and left vectors $|u_{0}\\rangle, \\langle u_{0}|$. The elements of the space satisfy the relation:\n",
    "\n",
    "$$\n",
    "H|\\phi_{n} \\rangle = \\beta_{n}|\\phi_{n-1}\\rangle + \\alpha_{n}|\\phi_{n}\\rangle + \\beta_{n+1}|\\phi_{n+1}\\rangle\n",
    "$$\n",
    "$$\n",
    "\\langle \\chi_{n}|H = \\langle \\chi_{n-1}|\\gamma_{n} + \\langle\\chi_{n}|\\alpha_{n}^{*} + \\langle\\chi_{n+1}|\\gamma_{n+1}\n",
    "$$\n",
    "\n",
    "I define the routine that generates the Krylov spaces and computes the coefficients $\\alpha$ and $\\beta$.\n",
    "The first step of the procedure $(dimKrylov=1)$ is given by:\n",
    "\n",
    "$$\n",
    "|\\phi_{0}\\rangle = |u_{0}\\rangle \\; , \\quad \\alpha_{0} = \\langle u_{0}|H|u_{0}\\rangle \\; , \\quad \\beta_{0} = 0 \\; , \\quad\n",
    "\\beta_{1} = ||(H-\\alpha_{0})|u_{0}\\rangle ||\n",
    "$$\n",
    "$$\n",
    "\\langle \\chi_{0}| = \\langle u_{0}|  \\; , \\quad \\gamma_{0} = 0 \\; , \\quad\n",
    "\\gamma_{1} = ||\\langle u_{0}|(H-\\alpha_{0}^{*}) ||\n",
    "$$\n",
    "\n",
    "The second step of the procedure $(dimKrylov=2)$ takes $|\\phi_{0}\\rangle,\\langle\\chi_{0}|,\\alpha_{0},\\beta_{1},\\gamma_{1},\\beta_{0}=\\gamma_{0}=0$ as input and returns $|\\phi_{1}\\rangle,\\langle\\chi_{1}|,\\alpha_{1},\\beta_{2},\\gamma_{2}$ according to:\n",
    "\n",
    "$$\n",
    "|\\phi_{1}\\rangle = \\frac{(H-\\alpha_{0})|\\phi_{0}\\rangle}{\\beta_{1}} \\; , \\quad \\langle\\chi_{1}| = \\frac{\\langle\\chi_{0}|(H-\\alpha_{0}^{*})}{\\gamma_{1}} \\; , \\quad \\alpha_{1} = \\langle \\chi_{1}|H|\\phi_{1}\\rangle  \n",
    "$$\n",
    "$$\n",
    "\\beta_{2} = ||(H-\\alpha_{1})|\\phi_{1}\\rangle-\\beta_{1}|\\phi_{0}\\rangle || \\; , \\quad\n",
    "\\gamma_{2} = ||\\langle\\chi_{1}|(H-\\alpha_{1}^{*})-\\langle\\chi_{0}|\\gamma_{1} ||\n",
    "$$\n",
    "\n",
    "The third step of the procedure $(dimKrylov=3)$ takes $|\\phi_{1}\\rangle,|\\phi_{0}\\rangle,\\langle\\chi_{1}|,\\langle\\chi_{0}|,\\alpha_{1},\\beta_{2},\\beta_{1},\\gamma_{2},\\gamma_{1}$ as input and returns $|\\phi_{2}\\rangle,\\langle\\chi_{2}|,\\alpha_{2},\\beta_{3},\\gamma_{3}$ according to:\n",
    "\n",
    "$$\n",
    "|\\phi_{2}\\rangle = \\frac{(H-\\alpha_{1})|\\phi_{1}\\rangle-\\beta_{1}|\\phi_{0}\\rangle}{\\beta_{2}} \\; , \\quad \\langle\\chi_{2}| = \\frac{\\langle\\chi_{1}|(H-\\alpha_{1}^{*})-\\langle\\chi_{0}|\\gamma_{1}}{\\gamma_{2}} \\; , \\quad \\alpha_{2} = \\langle \\chi_{2}|H|\\phi_{2}\\rangle  \n",
    "$$\n",
    "$$\n",
    "\\beta_{3} = ||(H-\\alpha_{2})|\\phi_{2}\\rangle-\\beta_{2}|\\phi_{1}\\rangle || \\; , \\quad \n",
    "\\gamma_{3} = ||\\langle\\chi_{2}|(H-\\alpha_{2}^{*})-\\langle\\chi_{1}|\\gamma_{2}||\n",
    "$$\n",
    "\n",
    "The generic step takes $|\\phi_{s}\\rangle,|\\phi_{s-1}\\rangle,\\langle\\chi_{s}|,\\langle\\chi_{s-1}|,\\alpha_{s},\\beta_{s+1}\\beta_{s},\\gamma_{s+1},\\gamma_{s}$ as input and gives $|\\phi_{s+1}\\rangle,\\langle\\chi_{s+1}|,\\alpha_{s+1},\\beta_{s+2},\\gamma_{s+2}$ according to the formula:\n",
    "\n",
    "$$\n",
    "|\\phi_{s+1}\\rangle = \\frac{(H-\\alpha_{s})|\\phi_{s}\\rangle-\\beta_{s}|\\phi_{s-1}\\rangle}{\\beta_{s+1}} \\; , \\quad \n",
    "\\langle\\chi_{s+1}| = \\frac{\\langle\\chi_{s}|(H-\\alpha_{s}^{*})-\\langle\\chi_{s-1}|\\gamma_{s}}{\\gamma_{s+1}} \\; , \\quad \\alpha_{s+1} = \\langle \\chi_{s+1}|H|\\phi_{s+1}\\rangle  \n",
    "$$\n",
    "$$\n",
    "\\beta_{s+2} = ||(H-\\alpha_{s+1})|\\phi_{s+1}\\rangle-\\beta_{s+1}|\\phi_{s}\\rangle || \\; , \\quad \n",
    "\\gamma_{s+2} = ||\\langle\\chi_{s+1}|(H-\\alpha_{s+1}^{*})-\\langle\\chi_{s}|\\gamma_{s+1}||\n",
    "$$"
   ]
  },
  {
   "cell_type": "code",
   "execution_count": 19,
   "metadata": {
    "collapsed": true,
    "deletable": true,
    "editable": true
   },
   "outputs": [],
   "source": [
    "def lanc_rec(H,phij,phijm1,chij,chijm1,alphaj,betaj,gammaj):\n",
    "    phihatjp1 = H.dot(phij)-alphaj*phij-gammaj*phijm1\n",
    "    chihatjp1 = chij.dot(H)-chij*alphaj.conj()-chijm1*betaj\n",
    "    betajp1 = norm(phihatjp1)\n",
    "    gammajp1 = sp(chihatjp1,phihatjp1)/betajp1\n",
    "    phijp1 = phihatjp1/betajp1\n",
    "    chijp1=chihatjp1/gammajp1\n",
    "    alphajp1 = sp(chijp1,H.dot(phijp1))\n",
    "    \n",
    "    return phijp1,chijp1,alphajp1,betajp1,gammajp1"
   ]
  },
  {
   "cell_type": "markdown",
   "metadata": {
    "collapsed": true,
    "deletable": true,
    "editable": true
   },
   "source": [
    "I perform the recursion until the Krylov space reaches a given dimension"
   ]
  },
  {
   "cell_type": "code",
   "execution_count": 17,
   "metadata": {
    "collapsed": false,
    "deletable": true,
    "editable": true
   },
   "outputs": [],
   "source": [
    "dimKrylov = 4\n",
    "\n",
    "# definition and init\n",
    "alpha=[]\n",
    "beta=[]\n",
    "gamma=[]\n",
    "krylovr = np.matrix(np.zeros((n*dimKrylov),dtype=np.complex_).reshape(n,dimKrylov))\n",
    "krylovl = np.matrix(np.zeros((n*dimKrylov),dtype=np.complex_).reshape(dimKrylov,n))\n",
    "\n",
    "krylovr[:,0] = u0\n",
    "krylovl[0,:] = u0.conj().T\n",
    "alpha0 =  sp(krylovl[0,:],H.dot(krylovr[:,0]))\n",
    "alpha.append(alpha0)\n",
    "beta.append(0)\n",
    "gamma.append(0)\n",
    "dimVal = 1 #actual dimension of Krylov space\n",
    "\n",
    "# first iteration\n",
    "unot = np.matrix(np.zeros(n).reshape(n,1)) #needed for the first step\n",
    "bunot = np.matrix(np.zeros(n).reshape(1,n))\n",
    "phi1,chi1,alpha1,beta1,gamma1=lanc_rec(H,krylovr[:,0],unot,krylovl[0,:],bunot,alpha[-1],beta[-1],gamma[-1])\n",
    "krylovr[:,dimVal] = phi1\n",
    "krylovl[dimVal,:] = chi1\n",
    "alpha.append(alpha1)\n",
    "beta.append(beta1)\n",
    "gamma.append(gamma1)\n",
    "dimVal += 1\n",
    "\n",
    "# generic iteration\n",
    "while dimVal < dimKrylov :\n",
    "    phijp1,chijp1,alphajp1,betajp1,gammajp1=lanc_rec(H,krylovr[:,dimVal-1],krylovr[:,dimVal-2],krylovl[dimVal-1,:],krylovl[dimVal-2,:],alpha[-1],beta[-1],gamma[-1])\n",
    "    krylovr[:,dimVal] = phijp1\n",
    "    krylovl[dimVal,:] = chijp1\n",
    "    alpha.append(alphajp1)\n",
    "    beta.append(betajp1)\n",
    "    gamma.append(gammajp1)\n",
    "    dimVal += 1"
   ]
  },
  {
   "cell_type": "code",
   "execution_count": 18,
   "metadata": {
    "collapsed": false,
    "deletable": true,
    "editable": true
   },
   "outputs": [
    {
     "data": {
      "text/plain": [
       "matrix([[ 0.4201+0.j    ,  0.2035+0.3971j,  0.3488-0.1373j, -0.1129-0.333j ],\n",
       "        [ 0.5214+0.j    ,  0.4289+0.1068j,  0.0430-0.5944j, -0.4703-0.0229j],\n",
       "        [ 0.0908+0.j    ,  0.3460+0.3877j,  0.3120-0.2379j, -0.2815-0.3185j],\n",
       "        [ 0.7372+0.j    , -0.4619-0.3495j, -0.2676+0.528j ,  0.6255+0.2877j]])"
      ]
     },
     "execution_count": 18,
     "metadata": {},
     "output_type": "execute_result"
    }
   ],
   "source": [
    "krylovr"
   ]
  },
  {
   "cell_type": "code",
   "execution_count": 19,
   "metadata": {
    "collapsed": false
   },
   "outputs": [
    {
     "data": {
      "text/plain": [
       "matrix([[ 0.4201+0.j    ,  0.5214+0.j    ,  0.0908+0.j    ,  0.7372+0.j    ],\n",
       "        [ 1.0370-0.4991j,  1.3649-0.1894j,  0.6670-0.8029j,  1.1368-0.0907j],\n",
       "        [ 0.6228+0.8821j,  0.3509+1.092j ,  0.9103+0.6318j,  0.2718+0.6897j],\n",
       "        [-1.1087+0.838j , -1.3681+0.513j , -0.7783+1.1837j, -0.8526+0.4251j]])"
      ]
     },
     "execution_count": 19,
     "metadata": {},
     "output_type": "execute_result"
    }
   ],
   "source": [
    "krylovl"
   ]
  },
  {
   "cell_type": "code",
   "execution_count": 20,
   "metadata": {
    "collapsed": false,
    "deletable": true,
    "editable": true
   },
   "outputs": [
    {
     "name": "stdout",
     "output_type": "stream",
     "text": [
      "[(1.3091068902593945+1.5146815598443952j), (0.071610652599914754+3.5810930917389112j), (0.5927951643723427+2.7058655855734566j), (0.40747388442867777+3.0819897800819178j)]\n",
      "[0, (1.0272944713205099+0j), (3.290554447456532+0j), (9.1027918136736155+0j)]\n",
      "[0, (-0.30954391972453565+1.4129094042493036j), (6.5675820849603337-0.024560703105589617j), (6.6429904591037214+0.088647719869131544j)]\n"
     ]
    }
   ],
   "source": [
    "print(alpha)\n",
    "print(beta)\n",
    "print(gamma)"
   ]
  },
  {
   "cell_type": "markdown",
   "metadata": {
    "deletable": true,
    "editable": true
   },
   "source": [
    "I compute $H$ in the basis of the krylov vectors and verify if it is a tridiagonal matrix $T$ with elements given by\n",
    "$\\alpha,\\beta,\\gamma$ parameters."
   ]
  },
  {
   "cell_type": "code",
   "execution_count": 21,
   "metadata": {
    "collapsed": false,
    "deletable": true,
    "editable": true
   },
   "outputs": [
    {
     "name": "stdout",
     "output_type": "stream",
     "text": [
      "[[ 1.3091+1.5147j -0.3095+1.4129j  1.3008+0.285j   0.3568-1.0902j]\n",
      " [ 4.3845+2.5121j  0.0716+3.5811j  3.2707-0.0905j  0.2707-2.8545j]\n",
      " [-1.3322+4.1935j -2.9676+0.6255j  0.5928+2.7059j  2.4217-0.2043j]\n",
      " [-5.4582-1.469j  -0.9810-3.7568j -3.4253+0.9228j  0.4075+3.082j ]]\n"
     ]
    }
   ],
   "source": [
    "Hkrylov = np.matmul(krylovl,np.matmul(H,krylovr))\n",
    "print(Hkrylov)"
   ]
  },
  {
   "cell_type": "code",
   "execution_count": 22,
   "metadata": {
    "collapsed": false,
    "deletable": true,
    "editable": true
   },
   "outputs": [
    {
     "data": {
      "text/plain": [
       "matrix([[ 1.3091+1.5147j, -0.3095+1.4129j,  0.0000+0.j    ,  0.0000+0.j    ],\n",
       "        [ 1.0273+0.j    ,  0.0716+3.5811j,  6.5676-0.0246j,  0.0000+0.j    ],\n",
       "        [ 0.0000+0.j    ,  3.2906+0.j    ,  0.5928+2.7059j,  6.6430+0.0886j],\n",
       "        [ 0.0000+0.j    ,  0.0000+0.j    ,  9.1028+0.j    ,  0.4075+3.082j ]])"
      ]
     },
     "execution_count": 22,
     "metadata": {},
     "output_type": "execute_result"
    }
   ],
   "source": [
    "Up = np.matrix(np.zeros(dimKrylov**2,dtype=np.complex_).reshape(dimKrylov,dimKrylov))\n",
    "Down = np.matrix(np.zeros(dimKrylov**2,dtype=np.complex_).reshape(dimKrylov,dimKrylov))\n",
    "T = np.matrix(np.diag(alpha))\n",
    "for i in range(dimKrylov-1):\n",
    "    Up[i,i+1] = gamma[i+1]\n",
    "    Down[i+1,i] = beta[i+1]\n",
    "T += Up + Down\n",
    "T"
   ]
  },
  {
   "cell_type": "code",
   "execution_count": 23,
   "metadata": {
    "collapsed": false
   },
   "outputs": [
    {
     "data": {
      "text/plain": [
       "False"
      ]
     },
     "execution_count": 23,
     "metadata": {},
     "output_type": "execute_result"
    }
   ],
   "source": [
    "np.allclose(Hkrylov,T,atol=1.e-10)"
   ]
  },
  {
   "cell_type": "code",
   "execution_count": null,
   "metadata": {
    "collapsed": false
   },
   "outputs": [],
   "source": []
  },
  {
   "cell_type": "code",
   "execution_count": null,
   "metadata": {
    "collapsed": true
   },
   "outputs": [],
   "source": []
  },
  {
   "cell_type": "code",
   "execution_count": null,
   "metadata": {
    "collapsed": true
   },
   "outputs": [],
   "source": []
  }
 ],
 "metadata": {
  "kernelspec": {
   "display_name": "Python 2",
   "language": "python",
   "name": "python2"
  },
  "language_info": {
   "codemirror_mode": {
    "name": "ipython",
    "version": 2
   },
   "file_extension": ".py",
   "mimetype": "text/x-python",
   "name": "python",
   "nbconvert_exporter": "python",
   "pygments_lexer": "ipython2",
   "version": "2.7.6"
  }
 },
 "nbformat": 4,
 "nbformat_minor": 2
}
