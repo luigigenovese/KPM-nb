{
 "cells": [
  {
   "cell_type": "code",
   "execution_count": 1,
   "metadata": {
    "collapsed": true
   },
   "outputs": [],
   "source": [
    "import numpy as np\n",
    "import matplotlib.pyplot as plt\n",
    "%matplotlib inline\n",
    "import Krylov as K"
   ]
  },
  {
   "cell_type": "markdown",
   "metadata": {},
   "source": [
    "In this notebook we discuss the Lanczos procedure for a symmetric matrix $H$. Starting from $H$ and given an arbitrary vector $u_0$ we build the Krylov space and compute the tridiagonal symmetric matrix $T$ that represents the $H$ matrix expressed in the Krilov base. Then we compute the diagonal matrix element of the resolvent of $H$ on $u_{0}$."
   ]
  },
  {
   "cell_type": "markdown",
   "metadata": {},
   "source": [
    "We start by building an arbitrary symmetric matrix and a normalized column vector"
   ]
  },
  {
   "cell_type": "code",
   "execution_count": 2,
   "metadata": {},
   "outputs": [
    {
     "data": {
      "text/plain": [
       "1.0"
      ]
     },
     "execution_count": 2,
     "metadata": {},
     "output_type": "execute_result"
    }
   ],
   "source": [
    "n=50\n",
    "M=np.matrix(np.random.rand(n*n).reshape(n,n))\n",
    "H = M + M.T\n",
    "u0 = np.matrix(np.random.rand(n).reshape(n,1))\n",
    "u0norm = K.norm(u0)\n",
    "u0=u0/u0norm\n",
    "K.norm(u0)"
   ]
  },
  {
   "cell_type": "markdown",
   "metadata": {},
   "source": [
    "Now we compute the resolvent of $H$ on $u_{0}$ by using the standard spectral representation of $H$\n",
    "$$ G(z) = \\langle u_{0} | \\frac{1}{z-H} | u_{0} \\rangle = \\sum_{v=1}^{n} \\frac{ \\langle u_{0} | v \\rangle \\langle v | u_{0} \\rangle }{z-E_v}\n",
    "$$\n",
    "where $|v \\rangle$ are the eigenvectors of H."
   ]
  },
  {
   "cell_type": "code",
   "execution_count": 3,
   "metadata": {},
   "outputs": [
    {
     "name": "stdout",
     "output_type": "stream",
     "text": [
      "Validation terminated\n"
     ]
    }
   ],
   "source": [
    "e,w = np.linalg.eigh(H)\n",
    "K.validate_eigensystem(H,e,w)"
   ]
  },
  {
   "cell_type": "code",
   "execution_count": 20,
   "metadata": {},
   "outputs": [
    {
     "name": "stdout",
     "output_type": "stream",
     "text": [
      "[ -5.35852506e+00  -5.13021949e+00  -4.72951873e+00  -4.44442277e+00\n",
      "  -4.35277568e+00  -3.95084028e+00  -3.66826649e+00  -3.49262477e+00\n",
      "  -3.16590728e+00  -3.01424648e+00  -2.91661792e+00  -2.61079410e+00\n",
      "  -2.53141242e+00  -2.22913340e+00  -2.08543514e+00  -1.96322501e+00\n",
      "  -1.73359308e+00  -1.41707704e+00  -1.09212086e+00  -9.04325470e-01\n",
      "  -7.61509348e-01  -5.03873327e-01  -3.72519388e-01  -1.67513242e-01\n",
      "  -1.11252697e-02   7.78137638e-02   4.37748087e-01   5.66004502e-01\n",
      "   7.21277117e-01   7.55569356e-01   9.81310649e-01   1.13489777e+00\n",
      "   1.18804965e+00   1.46914311e+00   1.60898434e+00   1.91885836e+00\n",
      "   2.04726177e+00   2.43755009e+00   2.72591183e+00   2.81043623e+00\n",
      "   2.98183460e+00   3.15179516e+00   3.25416823e+00   3.55431218e+00\n",
      "   3.76191404e+00   4.38448359e+00   4.46235602e+00   5.10885457e+00\n",
      "   5.22749515e+00   4.99208404e+01]\n"
     ]
    }
   ],
   "source": [
    "print(e)"
   ]
  },
  {
   "cell_type": "code",
   "execution_count": 4,
   "metadata": {},
   "outputs": [
    {
     "data": {
      "text/plain": [
       "[<matplotlib.lines.Line2D at 0x7f0c65654c88>]"
      ]
     },
     "execution_count": 4,
     "metadata": {},
     "output_type": "execute_result"
    },
    {
     "data": {
      "image/png": "[encoded data removed]",
      "text/plain": [
       "<matplotlib.figure.Figure at 0x7f0ca31629e8>"
      ]
     },
     "metadata": {},
     "output_type": "display_data"
    }
   ],
   "source": [
    "x=np.arange(-5.0, 5.0, 0.01)\n",
    "plt.plot(x,K.resolvent(u0,e,w,x))"
   ]
  },
  {
   "cell_type": "markdown",
   "metadata": {},
   "source": [
    "Now we want to reproduce this result using the Lanczos procedure. We build the Krylov space $|\\phi_{j}\\rangle$ generated by the repeated action of $H$ on the given (normalized) right vector $|u_{0}\\rangle$. We use the procedure described in the paper of Gruning. \n",
    "\n",
    "The procedure takes as input the values of $|\\phi_{j}\\rangle,|\\phi_{j-1}\\rangle,\\alpha_{j},\\beta_{j}$ and gives $|\\phi_{j+1}\\rangle,\\alpha_{j+1},\\beta_{j+1}$ built by the following operations:\n",
    "\n",
    "$$\n",
    "|\\tilde\\phi_{j+1}\\rangle = (H-\\alpha_{j})|\\phi_{j}\\rangle - \\beta_{j}|\\phi_{j-1}\\rangle\n",
    "$$\n",
    "\n",
    "$$\n",
    "\\beta_{j+1} = || \\tilde\\phi_{j+1} || \\; , \\quad\n",
    "|\\phi_{j+1}\\rangle = \\frac{|\\tilde\\phi_{j+1}\\rangle}{\\beta_{j+1}} \\; , \\quad\n",
    "\\alpha_{j+1} = \\langle\\phi_{j+1}|H|\\phi_{j+1}\\rangle\n",
    "$$\n",
    "\n",
    "The procedure is initialized as follows:\n",
    "\n",
    "$$\n",
    "|\\phi_{0}\\rangle = |u_{0}\\rangle  \\; , \\quad \\alpha_{0} = \\langle u_{0}|H|u_{0}\\rangle \\; , \\quad \\beta_{0} = 0\n",
    "$$"
   ]
  },
  {
   "cell_type": "markdown",
   "metadata": {},
   "source": [
    "We perform the recursion until the Krylov space reaches a given dimension"
   ]
  },
  {
   "cell_type": "code",
   "execution_count": 44,
   "metadata": {
    "collapsed": true
   },
   "outputs": [],
   "source": [
    "def GramSchimdt(vet,space,dim):\n",
    "    out = vet\n",
    "    for i in range(dim):\n",
    "        out = out - K.sp(space[:,i],out)*space[:,i]\n",
    "    return out\n",
    "\n",
    "def lanc_recursion(H,krylov,alpha,beta,j):\n",
    "    \"\"\"\n",
    "    j is the actual dimension of the Krylov space    \n",
    "    \"\"\"\n",
    "    k = krylov\n",
    "    a = alpha\n",
    "    b = beta\n",
    "    phihatjp1 = H.dot(k[:,j-1])-a[-1]*k[:,j-1]-b[-1]*k[:,j-2]\n",
    "    #phihatjp1 = GramSchimdt(phihatjp1,k,j-1) \n",
    "    betajp1 = K.norm(phihatjp1)\n",
    "    k[:,j] = phihatjp1/betajp1\n",
    "    alphajp1 = K.sp(k[:,j],H.dot(k[:,j]))\n",
    "    a.append(alphajp1)\n",
    "    b.append(betajp1)\n",
    "    dimVal = j+1\n",
    "    return k,a,b,dimVal"
   ]
  },
  {
   "cell_type": "code",
   "execution_count": 45,
   "metadata": {
    "collapsed": true
   },
   "outputs": [],
   "source": [
    "class KrylovLoop():\n",
    "    def __init__(self,dimKrylov,H,phi0,norm_=K.norm,recursion_=lanc_recursion):\n",
    "        \n",
    "        # definition and init\n",
    "        self.dimKrylov=dimKrylov\n",
    "        self.H=H\n",
    "        self.alpha=[]\n",
    "        self.beta=[]\n",
    "        n,n1=self.H.shape\n",
    "        assert n == n1\n",
    "        self.recursion=recursion_\n",
    "        self.krylov = np.matrix(np.zeros(n*dimKrylov).reshape(n,dimKrylov))\n",
    "        \n",
    "        self.krylov[:,0] = phi0\n",
    "        alpha0 = K.sp(phi0,H.dot(phi0))\n",
    "        self.alpha.append(alpha0)\n",
    "        self.beta.append(0)\n",
    "        self.dimVal = 1\n",
    "\n",
    "        # first iteration\n",
    "        self.__iterate()\n",
    "        \n",
    "    def __iterate(self):#,phi_j,phi_jm1):\n",
    "        self.krylov,self.alpha,self.beta,self.dimVal = self.recursion(self.H,self.krylov,self.alpha,self.beta,self.dimVal) \n",
    "        \n",
    "    def iterate(self,niter=None):\n",
    "        # generic iteration\n",
    "        nit=niter if niter is not None else self.dimKrylov\n",
    "        while self.dimVal < nit :\n",
    "            self.__iterate()\n",
    "            print('Dimension Krylov space = ',self.dimVal,'Orthogonality check = ',K.ortCheck(self.krylov.H,self.krylov,self.dimVal),'Tridiagonal check = ',K.tridiagCheck(self.H,self.krylov.H,self.krylov,self.alpha,self.beta,self.beta,self.dimVal))"
   ]
  },
  {
   "cell_type": "code",
   "execution_count": 46,
   "metadata": {},
   "outputs": [
    {
     "name": "stdout",
     "output_type": "stream",
     "text": [
      "Dimension Krylov space =  3 Orthogonality check =  True Tridiagonal check =  True\n",
      "Dimension Krylov space =  4 Orthogonality check =  True Tridiagonal check =  True\n",
      "Dimension Krylov space =  5 Orthogonality check =  True Tridiagonal check =  True\n",
      "Dimension Krylov space =  6 Orthogonality check =  True Tridiagonal check =  False\n",
      "Dimension Krylov space =  7 Orthogonality check =  False Tridiagonal check =  False\n",
      "Dimension Krylov space =  8 Orthogonality check =  False Tridiagonal check =  False\n",
      "Dimension Krylov space =  9 Orthogonality check =  False Tridiagonal check =  False\n",
      "Dimension Krylov space =  10 Orthogonality check =  False Tridiagonal check =  False\n",
      "Dimension Krylov space =  11 Orthogonality check =  False Tridiagonal check =  False\n",
      "Dimension Krylov space =  12 Orthogonality check =  False Tridiagonal check =  False\n",
      "Dimension Krylov space =  13 Orthogonality check =  False Tridiagonal check =  False\n",
      "Dimension Krylov space =  14 Orthogonality check =  False Tridiagonal check =  False\n",
      "Dimension Krylov space =  15 Orthogonality check =  False Tridiagonal check =  False\n",
      "Dimension Krylov space =  16 Orthogonality check =  False Tridiagonal check =  False\n",
      "Dimension Krylov space =  17 Orthogonality check =  False Tridiagonal check =  False\n",
      "Dimension Krylov space =  18 Orthogonality check =  False Tridiagonal check =  False\n",
      "Dimension Krylov space =  19 Orthogonality check =  False Tridiagonal check =  False\n",
      "Dimension Krylov space =  20 Orthogonality check =  False Tridiagonal check =  False\n",
      "Dimension Krylov space =  21 Orthogonality check =  False Tridiagonal check =  False\n",
      "Dimension Krylov space =  22 Orthogonality check =  False Tridiagonal check =  False\n",
      "Dimension Krylov space =  23 Orthogonality check =  False Tridiagonal check =  False\n",
      "Dimension Krylov space =  24 Orthogonality check =  False Tridiagonal check =  False\n",
      "Dimension Krylov space =  25 Orthogonality check =  False Tridiagonal check =  False\n",
      "Dimension Krylov space =  26 Orthogonality check =  False Tridiagonal check =  False\n",
      "Dimension Krylov space =  27 Orthogonality check =  False Tridiagonal check =  False\n",
      "Dimension Krylov space =  28 Orthogonality check =  False Tridiagonal check =  False\n",
      "Dimension Krylov space =  29 Orthogonality check =  False Tridiagonal check =  False\n",
      "Dimension Krylov space =  30 Orthogonality check =  False Tridiagonal check =  False\n",
      "Dimension Krylov space =  31 Orthogonality check =  False Tridiagonal check =  False\n",
      "Dimension Krylov space =  32 Orthogonality check =  False Tridiagonal check =  False\n",
      "Dimension Krylov space =  33 Orthogonality check =  False Tridiagonal check =  False\n",
      "Dimension Krylov space =  34 Orthogonality check =  False Tridiagonal check =  False\n",
      "Dimension Krylov space =  35 Orthogonality check =  False Tridiagonal check =  False\n",
      "Dimension Krylov space =  36 Orthogonality check =  False Tridiagonal check =  False\n",
      "Dimension Krylov space =  37 Orthogonality check =  False Tridiagonal check =  False\n",
      "Dimension Krylov space =  38 Orthogonality check =  False Tridiagonal check =  False\n",
      "Dimension Krylov space =  39 Orthogonality check =  False Tridiagonal check =  False\n",
      "Dimension Krylov space =  40 Orthogonality check =  False Tridiagonal check =  False\n",
      "Dimension Krylov space =  41 Orthogonality check =  False Tridiagonal check =  False\n",
      "Dimension Krylov space =  42 Orthogonality check =  False Tridiagonal check =  False\n",
      "Dimension Krylov space =  43 Orthogonality check =  False Tridiagonal check =  False\n",
      "Dimension Krylov space =  44 Orthogonality check =  False Tridiagonal check =  False\n",
      "Dimension Krylov space =  45 Orthogonality check =  False Tridiagonal check =  False\n",
      "Dimension Krylov space =  46 Orthogonality check =  False Tridiagonal check =  False\n",
      "Dimension Krylov space =  47 Orthogonality check =  False Tridiagonal check =  False\n",
      "Dimension Krylov space =  48 Orthogonality check =  False Tridiagonal check =  False\n",
      "Dimension Krylov space =  49 Orthogonality check =  False Tridiagonal check =  False\n",
      "Dimension Krylov space =  50 Orthogonality check =  False Tridiagonal check =  False\n",
      "Dimension Krylov space =  51 Orthogonality check =  False Tridiagonal check =  False\n",
      "Dimension Krylov space =  52 Orthogonality check =  False Tridiagonal check =  False\n",
      "Dimension Krylov space =  53 Orthogonality check =  False Tridiagonal check =  False\n",
      "Dimension Krylov space =  54 Orthogonality check =  False Tridiagonal check =  False\n",
      "Dimension Krylov space =  55 Orthogonality check =  False Tridiagonal check =  False\n",
      "Dimension Krylov space =  56 Orthogonality check =  False Tridiagonal check =  False\n",
      "Dimension Krylov space =  57 Orthogonality check =  False Tridiagonal check =  False\n",
      "Dimension Krylov space =  58 Orthogonality check =  False Tridiagonal check =  False\n",
      "Dimension Krylov space =  59 Orthogonality check =  False Tridiagonal check =  False\n",
      "Dimension Krylov space =  60 Orthogonality check =  False Tridiagonal check =  False\n"
     ]
    }
   ],
   "source": [
    "#reload(K)\n",
    "dimKrylov = n+10\n",
    "KL=KrylovLoop(dimKrylov,H,u0)\n",
    "KL.iterate()"
   ]
  },
  {
   "cell_type": "markdown",
   "metadata": {},
   "source": [
    "We compute $G(z)$ as a continued fraction:"
   ]
  },
  {
   "cell_type": "code",
   "execution_count": 47,
   "metadata": {},
   "outputs": [
    {
     "data": {
      "image/png": "[encoded data removed]",
      "text/plain": [
       "<matplotlib.figure.Figure at 0x7f0c654ce5f8>"
      ]
     },
     "metadata": {},
     "output_type": "display_data"
    }
   ],
   "source": [
    "x=np.arange(-5.0, 5.0, 0.01)\n",
    "plt.plot(x,0.5+K.resolvent(u0,e,w,x))\n",
    "plt.plot(x,K.Gfrac(KL.alpha,KL.beta,KL.beta,x))\n",
    "plt.show()"
   ]
  },
  {
   "cell_type": "code",
   "execution_count": 48,
   "metadata": {},
   "outputs": [
    {
     "data": {
      "image/png": "[encoded data removed]",
      "text/plain": [
       "<matplotlib.figure.Figure at 0x7f0c650ec588>"
      ]
     },
     "metadata": {},
     "output_type": "display_data"
    }
   ],
   "source": [
    "x=np.arange(-5.0, 5.0, 0.01)\n",
    "plt.plot(x,K.resolvent(u0,e,w,x)-K.Gfrac(KL.alpha,KL.beta,KL.beta,x))\n",
    "plt.show()"
   ]
  },
  {
   "cell_type": "code",
   "execution_count": 49,
   "metadata": {},
   "outputs": [],
   "source": [
    "\n",
    "T = K.Tmatrix(KL.alpha,KL.beta,KL.beta,dimKrylov)\n",
    "eT,wT = np.linalg.eigh(T)\n",
    "#print(e)\n",
    "#print(eT)"
   ]
  },
  {
   "cell_type": "code",
   "execution_count": 50,
   "metadata": {},
   "outputs": [
    {
     "data": {
      "image/png": "[encoded data removed]",
      "text/plain": [
       "<matplotlib.figure.Figure at 0x7f0c64fe9208>"
      ]
     },
     "metadata": {},
     "output_type": "display_data"
    }
   ],
   "source": [
    "#plt.xlim([-4,4])\n",
    "plt.plot(eT)\n",
    "plt.plot(e)\n",
    "plt.show()"
   ]
  },
  {
   "cell_type": "code",
   "execution_count": 51,
   "metadata": {
    "collapsed": true
   },
   "outputs": [],
   "source": []
  },
  {
   "cell_type": "code",
   "execution_count": null,
   "metadata": {
    "collapsed": true
   },
   "outputs": [],
   "source": []
  },
  {
   "cell_type": "code",
   "execution_count": null,
   "metadata": {
    "collapsed": true
   },
   "outputs": [],
   "source": []
  },
  {
   "cell_type": "code",
   "execution_count": null,
   "metadata": {
    "collapsed": true
   },
   "outputs": [],
   "source": []
  },
  {
   "cell_type": "code",
   "execution_count": null,
   "metadata": {
    "collapsed": true
   },
   "outputs": [],
   "source": []
  }
 ],
 "metadata": {
  "kernelspec": {
   "display_name": "Python 3",
   "language": "python",
   "name": "python3"
  },
  "language_info": {
   "codemirror_mode": {
    "name": "ipython",
    "version": 3
   },
   "file_extension": ".py",
   "mimetype": "text/x-python",
   "name": "python",
   "nbconvert_exporter": "python",
   "pygments_lexer": "ipython3",
   "version": "3.5.3"
  }
 },
 "nbformat": 4,
 "nbformat_minor": 2
}
