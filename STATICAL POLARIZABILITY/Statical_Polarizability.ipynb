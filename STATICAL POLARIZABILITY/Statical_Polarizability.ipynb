{
 "cells": [
  {
   "cell_type": "code",
   "execution_count": 1,
   "metadata": {},
   "outputs": [],
   "source": [
    "from BigDFT import Datasets as D, Calculators as C, Inputfiles as I, Logfiles as lf\n",
    "from futile.Utils import write\n",
    "import numpy as np\n",
    "import matplotlib.pyplot as plt\n",
    "from copy import deepcopy\n",
    "import os"
   ]
  },
  {
   "cell_type": "markdown",
   "metadata": {},
   "source": [
    "# Computation of the statical polarizability "
   ]
  },
  {
   "cell_type": "markdown",
   "metadata": {},
   "source": [
    "This nb assume that the GS analysis for a set of molecule has been performed. The structure of this working directory consists in a folder for each molecule. Inside each folder there is one logifle (or more if different study varying for instance xc functional or equilibrium position) that contains the result of the GS computation used as input of the present analysis"
   ]
  },
  {
   "cell_type": "markdown",
   "metadata": {},
   "source": [
    "Scan the path folder and build the molecules_database by looking at the directories in the path"
   ]
  },
  {
   "cell_type": "code",
   "execution_count": 2,
   "metadata": {},
   "outputs": [
    {
     "data": {
      "text/plain": [
       "['H20', 'CO']"
      ]
     },
     "execution_count": 2,
     "metadata": {},
     "output_type": "execute_result"
    }
   ],
   "source": [
    "molecules_database = os.listdir('.')\n",
    "for f in reversed(molecules_database):\n",
    "    if os.path.isdir(f) == False:\n",
    "        molecules_database.remove(f)\n",
    "if os.path.isdir('.ipynb_checkpoints'):\n",
    "    molecules_database.remove('.ipynb_checkpoints')\n",
    "    \n",
    "molecules_database"
   ]
  },
  {
   "cell_type": "markdown",
   "metadata": {},
   "source": [
    "Choose a molecule to perform the analysis and move the path in the associated folder"
   ]
  },
  {
   "cell_type": "code",
   "execution_count": 3,
   "metadata": {},
   "outputs": [
    {
     "name": "stdout",
     "output_type": "stream",
     "text": [
      "/home/marco/Data/RICERCA/LINEAR RESPONSE/LR-nb/STATICAL POLARIZABILITY/CO\n"
     ]
    }
   ],
   "source": [
    "molecule = molecules_database[1]\n",
    "%cd $molecule"
   ]
  },
  {
   "cell_type": "markdown",
   "metadata": {},
   "source": [
    "Get the relevant parameters of the gs analysis"
   ]
  },
  {
   "cell_type": "code",
   "execution_count": 4,
   "metadata": {},
   "outputs": [],
   "source": [
    "posinp_file = molecule+'_posinp.xyz'\n",
    "gs = lf.Logfile('log-lda.yaml')"
   ]
  },
  {
   "cell_type": "markdown",
   "metadata": {},
   "source": [
    "Build the input file and define the parameters common to all the runs.\n",
    "\n",
    "The values of rmult and of the field intensity will be specified subsequently since a convergence study will be performed on this parameters."
   ]
  },
  {
   "cell_type": "code",
   "execution_count": 5,
   "metadata": {},
   "outputs": [
    {
     "data": {
      "text/plain": [
       "{'dft': {'gnrm_cv': 1e-05, 'hgrids': 0.37, 'ixc': 'LDA'}}"
      ]
     },
     "execution_count": 5,
     "metadata": {},
     "output_type": "execute_result"
    }
   ],
   "source": [
    "inp = I.Inputfile()\n",
    "inp.set_hgrid(gs.log['dft']['hgrids'])\n",
    "inp.set_xc('LDA')\n",
    "inp.set_wavefunction_convergence(gnrm=1.0e-5)\n",
    "inp"
   ]
  },
  {
   "cell_type": "code",
   "execution_count": 6,
   "metadata": {},
   "outputs": [],
   "source": [
    "def build_alpha_dataset(**kwargs):\n",
    "    \"\"\"\n",
    "    Create the dataset and append the runs needed to compute the statical polarizability\n",
    "    for a specific choice of the input parameters . Set also a postprocessing function \n",
    "    to extract the value of alpha.\n",
    "    \n",
    "    Args:\n",
    "        kwargs['intensity'] : the intensity of the field\n",
    "        kwargs['input']     : the input file\n",
    "        kwargs['posinp']    : the posinp\n",
    "        kwargs['ppf']       : the postprocessing function\n",
    "        kwargs['runner']    : the instance of SystemCalculator\n",
    "    \"\"\"\n",
    "    lbl = 'alpha_'+str(kwargs['intensity'])\n",
    "    study = D.Dataset(label=lbl,run_dir='alpha',intensity=kwargs['intensity'],posinp=kwargs['posinp'])\n",
    "    study.set_postprocessing_function(kwargs['ppf'])\n",
    "    \n",
    "    f = kwargs['intensity']\n",
    "    inp = kwargs['input']\n",
    "    for ind,sign in enumerate(['+','-']):\n",
    "        for idir,coord in enumerate(['x','y','z']):\n",
    "            el=np.zeros(3)\n",
    "            el[idir]=(1-2*ind)*f\n",
    "            inp.apply_electric_field(el.tolist())\n",
    "            idd = {'rmult':inp['dft']['rmult'][0],'dir':coord,'sign':sign,'F':f}\n",
    "            study.append_run(id=idd,runner=kwargs['runner'],input=inp)\n",
    "    \n",
    "    return study\n",
    "\n",
    "def eval_alpha(study):\n",
    "    \"\"\"\"\n",
    "    Extract the statical polarizability tensor from the study dataset\n",
    "    \"\"\"\n",
    "    dipoles = study.fetch_results(attribute = 'dipole')\n",
    "    f = study.get_global_option('intensity')\n",
    "    alpha=np.mat(np.zeros(9)).reshape(3,3)\n",
    "    for ind in range(3):\n",
    "        alpha[ind] = np.array(dipoles[ind])-np.array(dipoles[ind+3])\n",
    "    alpha = alpha.T / (2.0*f)\n",
    "    return alpha"
   ]
  },
  {
   "cell_type": "code",
   "execution_count": 7,
   "metadata": {},
   "outputs": [
    {
     "name": "stdout",
     "output_type": "stream",
     "text": [
      "Initialize a Calculator with OMP_NUM_THREADS=2 and command mpirun -np 4 /home/marco/Applications/BigDFT/binaries/v1.8.3/install/bin/bigdft\n"
     ]
    }
   ],
   "source": [
    "code=C.SystemCalculator(omp=2,mpi_run='mpirun -np 4',skip=True)"
   ]
  },
  {
   "cell_type": "markdown",
   "metadata": {},
   "source": [
    "Example of usage of this functionality"
   ]
  },
  {
   "cell_type": "code",
   "execution_count": 8,
   "metadata": {},
   "outputs": [],
   "source": [
    "inp.set_rmult(gs.log['dft']['rmult'])\n",
    "f = 1e-2"
   ]
  },
  {
   "cell_type": "code",
   "execution_count": 9,
   "metadata": {},
   "outputs": [
    {
     "name": "stdout",
     "output_type": "stream",
     "text": [
      "{'run_dir': 'alpha', 'intensity': 0.01, 'posinp': 'CO_posinp.xyz', 'label': 'alpha_0.01'}\n",
      "{'run_dir': 'alpha', 'input': {'dft': {'ixc': 'LDA', 'gnrm_cv': 1e-05, 'elecfield': [0.01, 0.0, 0.0], 'hgrids': 0.37, 'rmult': [7.0, 9.0]}}, 'intensity': 0.01, 'posinp': 'CO_posinp.xyz', 'label': 'alpha_0.01'}\n"
     ]
    }
   ],
   "source": [
    "a = build_alpha_dataset(intensity=f,input=inp,runner=code,posinp=posinp_file,ppf=eval_alpha)\n",
    "write(a.global_options())\n",
    "ind = 0\n",
    "write(a.runs[ind])"
   ]
  },
  {
   "cell_type": "code",
   "execution_count": 10,
   "metadata": {},
   "outputs": [
    {
     "name": "stdout",
     "output_type": "stream",
     "text": [
      "Copy the posinp file 'CO_posinp.xyz' into 'alpha'\n",
      "Creating the yaml input file \"alpha/F:0.01,dir:x,rmult:7.0,sign:+.yaml\"\n",
      "Run directory alpha\n",
      "Executing command:  mpirun -np 4 /home/marco/Applications/BigDFT/binaries/v1.8.3/install/bin/bigdft -n F:0.01,dir:x,rmult:7.0,sign:+ -s Yes\n",
      "Copy the posinp file 'CO_posinp.xyz' into 'alpha'\n",
      "Creating the yaml input file \"alpha/F:0.01,dir:y,rmult:7.0,sign:+.yaml\"\n",
      "Run directory alpha\n",
      "Executing command:  mpirun -np 4 /home/marco/Applications/BigDFT/binaries/v1.8.3/install/bin/bigdft -n F:0.01,dir:y,rmult:7.0,sign:+ -s Yes\n",
      "Copy the posinp file 'CO_posinp.xyz' into 'alpha'\n",
      "Creating the yaml input file \"alpha/F:0.01,dir:z,rmult:7.0,sign:+.yaml\"\n",
      "Run directory alpha\n",
      "Executing command:  mpirun -np 4 /home/marco/Applications/BigDFT/binaries/v1.8.3/install/bin/bigdft -n F:0.01,dir:z,rmult:7.0,sign:+ -s Yes\n",
      "Copy the posinp file 'CO_posinp.xyz' into 'alpha'\n",
      "Creating the yaml input file \"alpha/F:0.01,dir:x,rmult:7.0,sign:-.yaml\"\n",
      "Run directory alpha\n",
      "Executing command:  mpirun -np 4 /home/marco/Applications/BigDFT/binaries/v1.8.3/install/bin/bigdft -n F:0.01,dir:x,rmult:7.0,sign:- -s Yes\n",
      "Copy the posinp file 'CO_posinp.xyz' into 'alpha'\n",
      "Creating the yaml input file \"alpha/F:0.01,dir:y,rmult:7.0,sign:-.yaml\"\n",
      "Run directory alpha\n",
      "Executing command:  mpirun -np 4 /home/marco/Applications/BigDFT/binaries/v1.8.3/install/bin/bigdft -n F:0.01,dir:y,rmult:7.0,sign:- -s Yes\n",
      "Copy the posinp file 'CO_posinp.xyz' into 'alpha'\n",
      "Creating the yaml input file \"alpha/F:0.01,dir:z,rmult:7.0,sign:-.yaml\"\n",
      "Run directory alpha\n",
      "Executing command:  mpirun -np 4 /home/marco/Applications/BigDFT/binaries/v1.8.3/install/bin/bigdft -n F:0.01,dir:z,rmult:7.0,sign:- -s Yes\n"
     ]
    },
    {
     "data": {
      "text/plain": [
       "matrix([[ 1.323614e+01, -1.279955e-05, -3.389697e-05],\n",
       "        [-1.279955e-05,  1.323614e+01, -3.389697e-05],\n",
       "        [-1.125000e-04, -1.125000e-04,  1.856809e+01]])"
      ]
     },
     "execution_count": 10,
     "metadata": {},
     "output_type": "execute_result"
    }
   ],
   "source": [
    "alpha = a.run()\n",
    "alpha"
   ]
  },
  {
   "cell_type": "markdown",
   "metadata": {},
   "source": [
    "Convergence study w.r.t. the intensity of the field.\n",
    "\n",
    "Perform a comparison among the alpha computed with different field intensity of 1e-2 and 5e-3 and perform a further computation with a field equal to 1e-3 if the alphas differ more than a given tolerance. The comparison is performed with the allcloe functions that returns true if\n",
    "\n",
    "abs(a-b) < atol + rtol*abs(b)\n",
    "\n",
    "So for small elements that are deeply affected by numerical noise the maximum allowed discrepacy is atol while for the relevan ones the percentage difference is rtol. "
   ]
  },
  {
   "cell_type": "code",
   "execution_count": 11,
   "metadata": {},
   "outputs": [],
   "source": [
    "field_int = [1e-2,5e-3,1e-3]\n",
    "at = 1e-3\n",
    "rt = 1e-3"
   ]
  },
  {
   "cell_type": "code",
   "execution_count": 12,
   "metadata": {},
   "outputs": [],
   "source": [
    "alpha_rmult = {}"
   ]
  },
  {
   "cell_type": "code",
   "execution_count": 13,
   "metadata": {},
   "outputs": [
    {
     "name": "stdout",
     "output_type": "stream",
     "text": [
      "Copy the posinp file 'CO_posinp.xyz' into 'alpha'\n",
      "Creating the yaml input file \"alpha/F:0.01,dir:x,rmult:7.0,sign:+.yaml\"\n",
      "Run directory alpha\n",
      "Executing command:  mpirun -np 4 /home/marco/Applications/BigDFT/binaries/v1.8.3/install/bin/bigdft -n F:0.01,dir:x,rmult:7.0,sign:+ -s Yes\n",
      "Copy the posinp file 'CO_posinp.xyz' into 'alpha'\n",
      "Creating the yaml input file \"alpha/F:0.01,dir:y,rmult:7.0,sign:+.yaml\"\n",
      "Run directory alpha\n",
      "Executing command:  mpirun -np 4 /home/marco/Applications/BigDFT/binaries/v1.8.3/install/bin/bigdft -n F:0.01,dir:y,rmult:7.0,sign:+ -s Yes\n",
      "Copy the posinp file 'CO_posinp.xyz' into 'alpha'\n",
      "Creating the yaml input file \"alpha/F:0.01,dir:z,rmult:7.0,sign:+.yaml\"\n",
      "Run directory alpha\n",
      "Executing command:  mpirun -np 4 /home/marco/Applications/BigDFT/binaries/v1.8.3/install/bin/bigdft -n F:0.01,dir:z,rmult:7.0,sign:+ -s Yes\n",
      "Copy the posinp file 'CO_posinp.xyz' into 'alpha'\n",
      "Creating the yaml input file \"alpha/F:0.01,dir:x,rmult:7.0,sign:-.yaml\"\n",
      "Run directory alpha\n",
      "Executing command:  mpirun -np 4 /home/marco/Applications/BigDFT/binaries/v1.8.3/install/bin/bigdft -n F:0.01,dir:x,rmult:7.0,sign:- -s Yes\n",
      "Copy the posinp file 'CO_posinp.xyz' into 'alpha'\n",
      "Creating the yaml input file \"alpha/F:0.01,dir:y,rmult:7.0,sign:-.yaml\"\n",
      "Run directory alpha\n",
      "Executing command:  mpirun -np 4 /home/marco/Applications/BigDFT/binaries/v1.8.3/install/bin/bigdft -n F:0.01,dir:y,rmult:7.0,sign:- -s Yes\n",
      "Copy the posinp file 'CO_posinp.xyz' into 'alpha'\n",
      "Creating the yaml input file \"alpha/F:0.01,dir:z,rmult:7.0,sign:-.yaml\"\n",
      "Run directory alpha\n",
      "Executing command:  mpirun -np 4 /home/marco/Applications/BigDFT/binaries/v1.8.3/install/bin/bigdft -n F:0.01,dir:z,rmult:7.0,sign:- -s Yes\n",
      "Copy the posinp file 'CO_posinp.xyz' into 'alpha'\n",
      "Creating the yaml input file \"alpha/F:0.005,dir:x,rmult:7.0,sign:+.yaml\"\n",
      "Run directory alpha\n",
      "Executing command:  mpirun -np 4 /home/marco/Applications/BigDFT/binaries/v1.8.3/install/bin/bigdft -n F:0.005,dir:x,rmult:7.0,sign:+ -s Yes\n",
      "Copy the posinp file 'CO_posinp.xyz' into 'alpha'\n",
      "Creating the yaml input file \"alpha/F:0.005,dir:y,rmult:7.0,sign:+.yaml\"\n",
      "Run directory alpha\n",
      "Executing command:  mpirun -np 4 /home/marco/Applications/BigDFT/binaries/v1.8.3/install/bin/bigdft -n F:0.005,dir:y,rmult:7.0,sign:+ -s Yes\n",
      "Copy the posinp file 'CO_posinp.xyz' into 'alpha'\n",
      "Creating the yaml input file \"alpha/F:0.005,dir:z,rmult:7.0,sign:+.yaml\"\n",
      "Run directory alpha\n",
      "Executing command:  mpirun -np 4 /home/marco/Applications/BigDFT/binaries/v1.8.3/install/bin/bigdft -n F:0.005,dir:z,rmult:7.0,sign:+ -s Yes\n",
      "Copy the posinp file 'CO_posinp.xyz' into 'alpha'\n",
      "Creating the yaml input file \"alpha/F:0.005,dir:x,rmult:7.0,sign:-.yaml\"\n",
      "Run directory alpha\n",
      "Executing command:  mpirun -np 4 /home/marco/Applications/BigDFT/binaries/v1.8.3/install/bin/bigdft -n F:0.005,dir:x,rmult:7.0,sign:- -s Yes\n",
      "Copy the posinp file 'CO_posinp.xyz' into 'alpha'\n",
      "Creating the yaml input file \"alpha/F:0.005,dir:y,rmult:7.0,sign:-.yaml\"\n",
      "Run directory alpha\n",
      "Executing command:  mpirun -np 4 /home/marco/Applications/BigDFT/binaries/v1.8.3/install/bin/bigdft -n F:0.005,dir:y,rmult:7.0,sign:- -s Yes\n",
      "Copy the posinp file 'CO_posinp.xyz' into 'alpha'\n",
      "Creating the yaml input file \"alpha/F:0.005,dir:z,rmult:7.0,sign:-.yaml\"\n",
      "Run directory alpha\n",
      "Executing command:  mpirun -np 4 /home/marco/Applications/BigDFT/binaries/v1.8.3/install/bin/bigdft -n F:0.005,dir:z,rmult:7.0,sign:- -s Yes\n",
      "\n",
      "Convergence for field intensity  0.01  failed\n",
      "Reduce the value of the field\n",
      "Copy the posinp file 'CO_posinp.xyz' into 'alpha'\n",
      "Creating the yaml input file \"alpha/F:0.001,dir:x,rmult:7.0,sign:+.yaml\"\n",
      "Run directory alpha\n",
      "Executing command:  mpirun -np 4 /home/marco/Applications/BigDFT/binaries/v1.8.3/install/bin/bigdft -n F:0.001,dir:x,rmult:7.0,sign:+ -s Yes\n",
      "Copy the posinp file 'CO_posinp.xyz' into 'alpha'\n",
      "Creating the yaml input file \"alpha/F:0.001,dir:y,rmult:7.0,sign:+.yaml\"\n",
      "Run directory alpha\n",
      "Executing command:  mpirun -np 4 /home/marco/Applications/BigDFT/binaries/v1.8.3/install/bin/bigdft -n F:0.001,dir:y,rmult:7.0,sign:+ -s Yes\n",
      "Copy the posinp file 'CO_posinp.xyz' into 'alpha'\n",
      "Creating the yaml input file \"alpha/F:0.001,dir:z,rmult:7.0,sign:+.yaml\"\n",
      "Run directory alpha\n",
      "Executing command:  mpirun -np 4 /home/marco/Applications/BigDFT/binaries/v1.8.3/install/bin/bigdft -n F:0.001,dir:z,rmult:7.0,sign:+ -s Yes\n",
      "Copy the posinp file 'CO_posinp.xyz' into 'alpha'\n",
      "Creating the yaml input file \"alpha/F:0.001,dir:x,rmult:7.0,sign:-.yaml\"\n",
      "Run directory alpha\n",
      "Executing command:  mpirun -np 4 /home/marco/Applications/BigDFT/binaries/v1.8.3/install/bin/bigdft -n F:0.001,dir:x,rmult:7.0,sign:- -s Yes\n",
      "Copy the posinp file 'CO_posinp.xyz' into 'alpha'\n",
      "Creating the yaml input file \"alpha/F:0.001,dir:y,rmult:7.0,sign:-.yaml\"\n",
      "Run directory alpha\n",
      "Executing command:  mpirun -np 4 /home/marco/Applications/BigDFT/binaries/v1.8.3/install/bin/bigdft -n F:0.001,dir:y,rmult:7.0,sign:- -s Yes\n",
      "Copy the posinp file 'CO_posinp.xyz' into 'alpha'\n",
      "Creating the yaml input file \"alpha/F:0.001,dir:z,rmult:7.0,sign:-.yaml\"\n",
      "Run directory alpha\n",
      "Executing command:  mpirun -np 4 /home/marco/Applications/BigDFT/binaries/v1.8.3/install/bin/bigdft -n F:0.001,dir:z,rmult:7.0,sign:- -s Yes\n",
      "\n",
      "Convergence for field intensity  0.005  failed\n",
      "Return the value of alpha associated to  0.005 . Perform further check!!!\n"
     ]
    }
   ],
   "source": [
    "alphas = {}\n",
    "\n",
    "for f in field_int[:2]:\n",
    "    a = build_alpha_dataset(intensity=f,input=inp,runner=code,posinp=posinp_file,ppf=eval_alpha)\n",
    "    alphas[f] = a.run()\n",
    "\n",
    "convergence = np.allclose(alphas[field_int[0]],alphas[field_int[1]],atol = at, rtol = rt)\n",
    "if convergence:\n",
    "    write('')\n",
    "    write('Convergence achieved for field intensity ',field_int[0])\n",
    "    alpha_rmult[inp['dft']['rmult'][0]] = alphas[field_int[0]]\n",
    "else:\n",
    "    write('')\n",
    "    write('Convergence for field intensity ',field_int[0],' failed')\n",
    "    write('Reduce the value of the field')\n",
    "    a = build_alpha_dataset(intensity=field_int[2],input=inp,runner=code,posinp=posinp_file,ppf=eval_alpha)\n",
    "    alphas[field_int[2]] = a.run()\n",
    "    convergence = np.allclose(alphas[field_int[1]],alphas[field_int[2]],atol = at, rtol = rt)\n",
    "    if convergence:\n",
    "        write('')\n",
    "        write('Convergence achieved for field intensity ',field_int[1])\n",
    "        alpha_rmult[inp['dft']['rmult'][0]] = alphas[field_int[1]]\n",
    "    else:\n",
    "        write('')\n",
    "        write('Convergence for field intensity ',field_int[1],' failed')\n",
    "        write('Return the value of alpha associated to ',field_int[1],'. Perform further check!!!')\n",
    "        alpha_rmult[inp['dft']['rmult'][0]] = alphas[field_int[1]]\n"
   ]
  },
  {
   "cell_type": "code",
   "execution_count": 14,
   "metadata": {},
   "outputs": [
    {
     "data": {
      "text/plain": [
       "{7.0: matrix([[ 1.3211721e+01, -4.5186718e-04, -2.4358770e-05],\n",
       "         [-4.5186719e-04,  1.3211721e+01, -2.4358770e-05],\n",
       "         [ 1.0600000e-04,  1.0600000e-04,  1.8530906e+01]])}"
      ]
     },
     "execution_count": 14,
     "metadata": {},
     "output_type": "execute_result"
    }
   ],
   "source": [
    "alpha_rmult"
   ]
  },
  {
   "cell_type": "code",
   "execution_count": null,
   "metadata": {},
   "outputs": [],
   "source": []
  },
  {
   "cell_type": "code",
   "execution_count": null,
   "metadata": {},
   "outputs": [],
   "source": []
  },
  {
   "cell_type": "code",
   "execution_count": null,
   "metadata": {},
   "outputs": [],
   "source": []
  },
  {
   "cell_type": "code",
   "execution_count": null,
   "metadata": {},
   "outputs": [],
   "source": []
  },
  {
   "cell_type": "code",
   "execution_count": null,
   "metadata": {},
   "outputs": [],
   "source": [
    "####################################################################################################"
   ]
  },
  {
   "cell_type": "markdown",
   "metadata": {},
   "source": [
    "Perform a comparison among the alpha computed with different field and perform a further computation with a field\n",
    "equal to 1e-3 if the alphas differ more than a given tolerance. The comparison is performed with the allcloe functions that returns true if\n",
    "\n",
    "abs(a-b) < atol + rtol*abs(b)\n",
    "\n",
    "So for small elements that are deeply affected by numerical noise the maximum allowed discrepacy is atol while for the relevan ones the percentage difference is rtol. "
   ]
  },
  {
   "cell_type": "code",
   "execution_count": 9,
   "metadata": {},
   "outputs": [],
   "source": [
    "at = 1e-3\n",
    "rt = 1e-2"
   ]
  },
  {
   "cell_type": "markdown",
   "metadata": {},
   "source": [
    "if the comparison returns False we need to perform a further computation for the lowest value of the field intensity"
   ]
  },
  {
   "cell_type": "code",
   "execution_count": 10,
   "metadata": {},
   "outputs": [
    {
     "ename": "NameError",
     "evalue": "name 'alphas' is not defined",
     "output_type": "error",
     "traceback": [
      "\u001b[0;31m---------------------------------------------------------------------------\u001b[0m",
      "\u001b[0;31mNameError\u001b[0m                                 Traceback (most recent call last)",
      "\u001b[0;32m<ipython-input-10-b1867b122381>\u001b[0m in \u001b[0;36m<module>\u001b[0;34m()\u001b[0m\n\u001b[0;32m----> 1\u001b[0;31m \u001b[0mconvergence\u001b[0m \u001b[0;34m=\u001b[0m \u001b[0mnp\u001b[0m\u001b[0;34m.\u001b[0m\u001b[0mallclose\u001b[0m\u001b[0;34m(\u001b[0m\u001b[0malphas\u001b[0m\u001b[0;34m[\u001b[0m\u001b[0mfield_intensity\u001b[0m\u001b[0;34m[\u001b[0m\u001b[0;36m0\u001b[0m\u001b[0;34m]\u001b[0m\u001b[0;34m]\u001b[0m\u001b[0;34m,\u001b[0m\u001b[0malphas\u001b[0m\u001b[0;34m[\u001b[0m\u001b[0mfield_intensity\u001b[0m\u001b[0;34m[\u001b[0m\u001b[0;36m1\u001b[0m\u001b[0;34m]\u001b[0m\u001b[0;34m]\u001b[0m\u001b[0;34m,\u001b[0m\u001b[0matol\u001b[0m \u001b[0;34m=\u001b[0m \u001b[0mat\u001b[0m\u001b[0;34m,\u001b[0m \u001b[0mrtol\u001b[0m \u001b[0;34m=\u001b[0m \u001b[0mrt\u001b[0m\u001b[0;34m)\u001b[0m\u001b[0;34m\u001b[0m\u001b[0m\n\u001b[0m\u001b[1;32m      2\u001b[0m \u001b[0;32mif\u001b[0m \u001b[0mconvergence\u001b[0m\u001b[0;34m:\u001b[0m\u001b[0;34m\u001b[0m\u001b[0m\n\u001b[1;32m      3\u001b[0m     \u001b[0mwrite\u001b[0m\u001b[0;34m(\u001b[0m\u001b[0;34m'Convergence achieved for field intensity '\u001b[0m\u001b[0;34m,\u001b[0m\u001b[0mfield_intensity\u001b[0m\u001b[0;34m[\u001b[0m\u001b[0;36m0\u001b[0m\u001b[0;34m]\u001b[0m\u001b[0;34m)\u001b[0m\u001b[0;34m\u001b[0m\u001b[0m\n\u001b[1;32m      4\u001b[0m     \u001b[0malpha\u001b[0m\u001b[0;34m[\u001b[0m\u001b[0minp\u001b[0m\u001b[0;34m[\u001b[0m\u001b[0;34m'dft'\u001b[0m\u001b[0;34m]\u001b[0m\u001b[0;34m[\u001b[0m\u001b[0;34m'rmult'\u001b[0m\u001b[0;34m]\u001b[0m\u001b[0;34m[\u001b[0m\u001b[0;36m0\u001b[0m\u001b[0;34m]\u001b[0m\u001b[0;34m]\u001b[0m \u001b[0;34m=\u001b[0m \u001b[0malphas\u001b[0m\u001b[0;34m[\u001b[0m\u001b[0mfield_intensity\u001b[0m\u001b[0;34m[\u001b[0m\u001b[0;36m0\u001b[0m\u001b[0;34m]\u001b[0m\u001b[0;34m]\u001b[0m\u001b[0;34m\u001b[0m\u001b[0m\n\u001b[1;32m      5\u001b[0m \u001b[0;32melse\u001b[0m\u001b[0;34m:\u001b[0m\u001b[0;34m\u001b[0m\u001b[0m\n",
      "\u001b[0;31mNameError\u001b[0m: name 'alphas' is not defined"
     ]
    }
   ],
   "source": [
    "convergence = np.allclose(alphas[field_intensity[0]],alphas[field_intensity[1]],atol = at, rtol = rt)\n",
    "if convergence:\n",
    "    write('Convergence achieved for field intensity ',field_intensity[0])\n",
    "    alpha[inp['dft']['rmult'][0]] = alphas[field_intensity[0]]\n",
    "else:\n",
    "    write('Convergence for field intensity ',field_intensity[0],' failed')\n",
    "    write('Reduce the value of the field')\n",
    "    append_electric_field_runs(study,field_intensity[2],inp)\n",
    "    study.run()\n",
    "    dipoles = study.fetch_results({'F':field_intensity[2]},attribute = 'dipole')\n",
    "    alphas[field_intensity[2]] = eval_alpha_one_field(dipoles,field_intensity[2])\n",
    "    convergence = np.allclose(alphas[field_intensity[0]],alphas[field_intensity[1]],atol = at, rtol = rt)\n",
    "    if convergence:\n",
    "        write('Convergence achieved for field intensity ',field_intensity[1])\n",
    "        alpha[inp['dft']['rmult'][0]] = alphas[field_intensity[1]]\n",
    "    else:\n",
    "        write('Convergence for field intensity ',field_intensity[1],' failed')\n",
    "        write('Return the value of alpha associated to ',field_intensity[1],'. Perform further check!!!')\n",
    "        alpha[inp['dft']['rmult'][0]] = alphas[field_intensity[1]]"
   ]
  },
  {
   "cell_type": "code",
   "execution_count": null,
   "metadata": {},
   "outputs": [],
   "source": [
    "#################################################"
   ]
  },
  {
   "cell_type": "markdown",
   "metadata": {},
   "source": [
    "Define some useful functions"
   ]
  },
  {
   "cell_type": "code",
   "execution_count": 16,
   "metadata": {},
   "outputs": [],
   "source": [
    "\n",
    "def append_electric_field_runs(study,intensity,inp):\n",
    "    \"\"\"\n",
    "    Append 6 runs (one for each direction of the field including both positive and negative values) to\n",
    "    the dataset\n",
    "    \n",
    "    Args:\n",
    "        study (dataset): the dataset\n",
    "        intensity (float): the field intensity\n",
    "        inp (inputFile): the input file of the run \n",
    "    \"\"\"\n",
    "    for ind,sign in enumerate(['+','-']):\n",
    "        for idir,coord in enumerate(['x','y','z']):\n",
    "            el=np.zeros(3)\n",
    "            el[idir]=(1-2*ind)*intensity\n",
    "            inp.apply_electric_field(el.tolist())\n",
    "            study.append_run({'rmult':inp['dft']['rmult'][0],'dir':coord,'sign':sign,'F':intensity},code,input=inp)"
   ]
  },
  {
   "cell_type": "markdown",
   "metadata": {},
   "source": [
    "Define global variables"
   ]
  },
  {
   "cell_type": "code",
   "execution_count": 57,
   "metadata": {},
   "outputs": [],
   "source": [
    "def eval_alpha_one_field(dipoles,f):\n",
    "    \"\"\"\"\n",
    "    Compute alpha given one value of the field intensity and the associated list of \n",
    "    six dipoles\n",
    "    \"\"\"\n",
    "    alpha=np.mat(np.zeros(9)).reshape(3,3)\n",
    "    for ind in range(3):\n",
    "        alpha[ind] = np.array(dipoles[ind])-np.array(dipoles[ind+3])\n",
    "    alpha = alpha.T / (2.0*f)\n",
    "    return alpha"
   ]
  },
  {
   "cell_type": "markdown",
   "metadata": {},
   "source": [
    "Introduce the alphas dictionary that contains the polarizability tensors for each value of the field intensity. Needed for the convergence study"
   ]
  },
  {
   "cell_type": "code",
   "execution_count": 58,
   "metadata": {},
   "outputs": [],
   "source": [
    "alphas = {}"
   ]
  },
  {
   "cell_type": "code",
   "execution_count": 59,
   "metadata": {},
   "outputs": [
    {
     "data": {
      "text/plain": [
       "{0.005: matrix([[ 1.3211721e+01, -4.5186718e-04, -2.4358770e-05],\n",
       "         [-4.5186719e-04,  1.3211721e+01, -2.4358770e-05],\n",
       "         [ 1.0600000e-04,  1.0600000e-04,  1.8530906e+01]]),\n",
       " 0.01: matrix([[ 1.323614e+01, -1.279955e-05, -3.389697e-05],\n",
       "         [-1.279955e-05,  1.323614e+01, -3.389697e-05],\n",
       "         [-1.125000e-04, -1.125000e-04,  1.856809e+01]])}"
      ]
     },
     "execution_count": 59,
     "metadata": {},
     "output_type": "execute_result"
    }
   ],
   "source": [
    "for f in field_intensity[:2]:\n",
    "    dipoles = study.fetch_results({'F':f},attribute = 'dipole')\n",
    "    alphas[f] = eval_alpha_one_field(dipoles,f)\n",
    "alphas"
   ]
  },
  {
   "cell_type": "markdown",
   "metadata": {},
   "source": [
    "Perform a comparison among the alpha computed with different field and perform a further computation with a field\n",
    "equal to 1e-3 if the alphas differ more than a given tolerance. The comparison is performed with the allcloe functions that returns true if\n",
    "\n",
    "abs(a-b) < atol + rtol*abs(b)\n",
    "\n",
    "So for small elements that are deeply affected by numerical noise the maximum allowed discrepacy is atol while for the relevan ones the percentage difference is rtol. "
   ]
  },
  {
   "cell_type": "code",
   "execution_count": 9,
   "metadata": {},
   "outputs": [],
   "source": [
    "at = 1e-3\n",
    "rt = 1e-2"
   ]
  },
  {
   "cell_type": "markdown",
   "metadata": {},
   "source": [
    "if the comparison returns False we need to perform a further computation for the lowest value of the field intensity"
   ]
  },
  {
   "cell_type": "code",
   "execution_count": 10,
   "metadata": {},
   "outputs": [
    {
     "ename": "NameError",
     "evalue": "name 'alphas' is not defined",
     "output_type": "error",
     "traceback": [
      "\u001b[0;31m---------------------------------------------------------------------------\u001b[0m",
      "\u001b[0;31mNameError\u001b[0m                                 Traceback (most recent call last)",
      "\u001b[0;32m<ipython-input-10-b1867b122381>\u001b[0m in \u001b[0;36m<module>\u001b[0;34m()\u001b[0m\n\u001b[0;32m----> 1\u001b[0;31m \u001b[0mconvergence\u001b[0m \u001b[0;34m=\u001b[0m \u001b[0mnp\u001b[0m\u001b[0;34m.\u001b[0m\u001b[0mallclose\u001b[0m\u001b[0;34m(\u001b[0m\u001b[0malphas\u001b[0m\u001b[0;34m[\u001b[0m\u001b[0mfield_intensity\u001b[0m\u001b[0;34m[\u001b[0m\u001b[0;36m0\u001b[0m\u001b[0;34m]\u001b[0m\u001b[0;34m]\u001b[0m\u001b[0;34m,\u001b[0m\u001b[0malphas\u001b[0m\u001b[0;34m[\u001b[0m\u001b[0mfield_intensity\u001b[0m\u001b[0;34m[\u001b[0m\u001b[0;36m1\u001b[0m\u001b[0;34m]\u001b[0m\u001b[0;34m]\u001b[0m\u001b[0;34m,\u001b[0m\u001b[0matol\u001b[0m \u001b[0;34m=\u001b[0m \u001b[0mat\u001b[0m\u001b[0;34m,\u001b[0m \u001b[0mrtol\u001b[0m \u001b[0;34m=\u001b[0m \u001b[0mrt\u001b[0m\u001b[0;34m)\u001b[0m\u001b[0;34m\u001b[0m\u001b[0m\n\u001b[0m\u001b[1;32m      2\u001b[0m \u001b[0;32mif\u001b[0m \u001b[0mconvergence\u001b[0m\u001b[0;34m:\u001b[0m\u001b[0;34m\u001b[0m\u001b[0m\n\u001b[1;32m      3\u001b[0m     \u001b[0mwrite\u001b[0m\u001b[0;34m(\u001b[0m\u001b[0;34m'Convergence achieved for field intensity '\u001b[0m\u001b[0;34m,\u001b[0m\u001b[0mfield_intensity\u001b[0m\u001b[0;34m[\u001b[0m\u001b[0;36m0\u001b[0m\u001b[0;34m]\u001b[0m\u001b[0;34m)\u001b[0m\u001b[0;34m\u001b[0m\u001b[0m\n\u001b[1;32m      4\u001b[0m     \u001b[0malpha\u001b[0m\u001b[0;34m[\u001b[0m\u001b[0minp\u001b[0m\u001b[0;34m[\u001b[0m\u001b[0;34m'dft'\u001b[0m\u001b[0;34m]\u001b[0m\u001b[0;34m[\u001b[0m\u001b[0;34m'rmult'\u001b[0m\u001b[0;34m]\u001b[0m\u001b[0;34m[\u001b[0m\u001b[0;36m0\u001b[0m\u001b[0;34m]\u001b[0m\u001b[0;34m]\u001b[0m \u001b[0;34m=\u001b[0m \u001b[0malphas\u001b[0m\u001b[0;34m[\u001b[0m\u001b[0mfield_intensity\u001b[0m\u001b[0;34m[\u001b[0m\u001b[0;36m0\u001b[0m\u001b[0;34m]\u001b[0m\u001b[0;34m]\u001b[0m\u001b[0;34m\u001b[0m\u001b[0m\n\u001b[1;32m      5\u001b[0m \u001b[0;32melse\u001b[0m\u001b[0;34m:\u001b[0m\u001b[0;34m\u001b[0m\u001b[0m\n",
      "\u001b[0;31mNameError\u001b[0m: name 'alphas' is not defined"
     ]
    }
   ],
   "source": [
    "convergence = np.allclose(alphas[field_intensity[0]],alphas[field_intensity[1]],atol = at, rtol = rt)\n",
    "if convergence:\n",
    "    write('Convergence achieved for field intensity ',field_intensity[0])\n",
    "    alpha[inp['dft']['rmult'][0]] = alphas[field_intensity[0]]\n",
    "else:\n",
    "    write('Convergence for field intensity ',field_intensity[0],' failed')\n",
    "    write('Reduce the value of the field')\n",
    "    append_electric_field_runs(study,field_intensity[2],inp)\n",
    "    study.run()\n",
    "    dipoles = study.fetch_results({'F':field_intensity[2]},attribute = 'dipole')\n",
    "    alphas[field_intensity[2]] = eval_alpha_one_field(dipoles,field_intensity[2])\n",
    "    convergence = np.allclose(alphas[field_intensity[0]],alphas[field_intensity[1]],atol = at, rtol = rt)\n",
    "    if convergence:\n",
    "        write('Convergence achieved for field intensity ',field_intensity[1])\n",
    "        alpha[inp['dft']['rmult'][0]] = alphas[field_intensity[1]]\n",
    "    else:\n",
    "        write('Convergence for field intensity ',field_intensity[1],' failed')\n",
    "        write('Return the value of alpha associated to ',field_intensity[1],'. Perform further check!!!')\n",
    "        alpha[inp['dft']['rmult'][0]] = alphas[field_intensity[1]]"
   ]
  },
  {
   "cell_type": "code",
   "execution_count": null,
   "metadata": {},
   "outputs": [],
   "source": [
    "#############################################################"
   ]
  },
  {
   "cell_type": "markdown",
   "metadata": {},
   "source": [
    "The aim of this nb is to provide all the tools needed to compute the statical polarizability of a molecule.\n",
    "The results of this analysis allow us to perform convergence study of the statical polarizability w.r.t the size of the simulation domain and to check if the strenght of the field used to perturb the ground state configuration of the molecule is compatible with the linear response regime "
   ]
  },
  {
   "cell_type": "markdown",
   "metadata": {},
   "source": [
    "The data structure which encodes all the computation that will be performed during the analysis is a python dictionary generically called molecule with structure:\n",
    "* molecule[rmult][field]\n",
    "\n",
    "where [field] is a tuple with the cartesian components of the statical field"
   ]
  },
  {
   "cell_type": "markdown",
   "metadata": {},
   "source": [
    "In order to perform this analysis several methods need to be defined, in particular:\n",
    " * computeStatPol(molecule,fieldNorm,box) : take as inputs the properties of the choses molecule, the value of the field norm and the value of the box size (rmult in our specific case). This method check if the results associated to the given field norm and box value are present in molecule. If needed perform the computation storing the results in molecule and add the 'statPol' key to molecule with the (matrix valued) result for the statical polarizability"
   ]
  },
  {
   "cell_type": "markdown",
   "metadata": {},
   "source": [
    "Let us start this analysis with some specific examples"
   ]
  },
  {
   "cell_type": "code",
   "execution_count": null,
   "metadata": {},
   "outputs": [],
   "source": []
  }
 ],
 "metadata": {
  "kernelspec": {
   "display_name": "Python 2",
   "language": "python",
   "name": "python2"
  },
  "language_info": {
   "codemirror_mode": {
    "name": "ipython",
    "version": 2
   },
   "file_extension": ".py",
   "mimetype": "text/x-python",
   "name": "python",
   "nbconvert_exporter": "python",
   "pygments_lexer": "ipython2",
   "version": "2.7.15rc1"
  }
 },
 "nbformat": 4,
 "nbformat_minor": 2
}
