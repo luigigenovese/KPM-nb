{
 "cells": [
  {
   "cell_type": "code",
   "execution_count": 1,
   "metadata": {},
   "outputs": [],
   "source": [
    "from BigDFT import Datasets as D, Calculators as C, Inputfiles as I, Logfiles as lf\n",
    "from futile.Utils import write\n",
    "import numpy as np\n",
    "import matplotlib.pyplot as plt\n",
    "from copy import deepcopy\n",
    "import os"
   ]
  },
  {
   "cell_type": "markdown",
   "metadata": {},
   "source": [
    "# Computation of the statical polarizability "
   ]
  },
  {
   "cell_type": "markdown",
   "metadata": {},
   "source": [
    "This nb assume that the GS analysis for a set of molecule has been performed. The structure of this working directory consists in a folder for each molecule. Inside each folder there is one logifle (or more if different study varying for instance xc functional or equilibrium position) that contains the result of the GS computation used as input of the present analysis"
   ]
  },
  {
   "cell_type": "markdown",
   "metadata": {},
   "source": [
    "Scan the path folder and build the molecules_database by looking at the directories in the path"
   ]
  },
  {
   "cell_type": "code",
   "execution_count": 40,
   "metadata": {},
   "outputs": [
    {
     "data": {
      "text/plain": [
       "['H20', 'CO']"
      ]
     },
     "execution_count": 40,
     "metadata": {},
     "output_type": "execute_result"
    }
   ],
   "source": [
    "molecules_database = os.listdir('.')\n",
    "for f in reversed(molecules_database):\n",
    "    if os.path.isdir(f) == False:\n",
    "        molecules_database.remove(f)\n",
    "if os.path.isdir('.ipynb_checkpoints'):\n",
    "    molecules_database.remove('.ipynb_checkpoints')\n",
    "if os.path.isdir('alpha'):\n",
    "    molecules_database.remove('alpha')\n",
    "\n",
    "molecules_database"
   ]
  },
  {
   "cell_type": "code",
   "execution_count": 41,
   "metadata": {},
   "outputs": [
    {
     "data": {
      "text/plain": [
       "'CO'"
      ]
     },
     "execution_count": 41,
     "metadata": {},
     "output_type": "execute_result"
    }
   ],
   "source": [
    "# Choose a molecule to perform the analysis\n",
    "molecule = molecules_database[1]\n",
    "molecule"
   ]
  },
  {
   "cell_type": "code",
   "execution_count": 42,
   "metadata": {},
   "outputs": [],
   "source": [
    "gs = lf.Logfile(molecule+'/'+'log-lda.yaml')"
   ]
  },
  {
   "cell_type": "markdown",
   "metadata": {},
   "source": [
    "Define some useful functions"
   ]
  },
  {
   "cell_type": "code",
   "execution_count": 45,
   "metadata": {},
   "outputs": [],
   "source": [
    "# may be moved into logfiles?\n",
    "def get_xc_functional(l):\n",
    "    \"\"\"\n",
    "    Read the field ['dft']['ixc'] of the logfile and return\n",
    "    the 'LDA' if the result is 1 or 'PBE' if it is equal to 11\n",
    "    \n",
    "    Args:\n",
    "        l (logFile): the logFile\n",
    "    \"\"\"\n",
    "    value = l.log['dft']['ixc']\n",
    "    if value == 1:\n",
    "        xc = 'LDA'\n",
    "    elif value == 11:\n",
    "            xc = 'PBE'\n",
    "    else:\n",
    "        xc = None\n",
    "    return xc\n",
    "\n",
    "def append_electric_field_runs(study,intensity,inp):\n",
    "    \"\"\"\n",
    "    Append 6 runs (one for each direction of the field including both positive and negative values) to\n",
    "    the dataset\n",
    "    \n",
    "    Args:\n",
    "        study (dataset): the dataset\n",
    "        intensity (float): the field intensity\n",
    "        inp (inputFile): the input file of the run \n",
    "    \"\"\"\n",
    "    for ind,sign in enumerate(['+','-']):\n",
    "        for idir,coord in enumerate(['x','y','z']):\n",
    "            el=np.zeros(3)\n",
    "            el[idir]=(1-2*ind)*intensity\n",
    "            inp.apply_electric_field(el.tolist())\n",
    "            study.append_run({'rmult':inp['dft']['rmult'][0],'dir':coord,'sign':sign,'F':intensity},code,input=inp)"
   ]
  },
  {
   "cell_type": "markdown",
   "metadata": {},
   "source": [
    "Define global variables"
   ]
  },
  {
   "cell_type": "code",
   "execution_count": 47,
   "metadata": {},
   "outputs": [],
   "source": [
    "# Alpha dictionary. At the end of the convergence procedure it will contains the value of the statical\n",
    "# polarizability associated to the actual value of rmult\n",
    "alpha = {}\n",
    "# Field intensity\n",
    "field_intensity = [1e-2,5e-3,1e-3]"
   ]
  },
  {
   "cell_type": "code",
   "execution_count": 48,
   "metadata": {},
   "outputs": [
    {
     "data": {
      "text/plain": [
       "{'dft': {'gnrm_cv': 1e-05, 'hgrids': 0.37, 'ixc': 'LDA'}}"
      ]
     },
     "execution_count": 48,
     "metadata": {},
     "output_type": "execute_result"
    }
   ],
   "source": [
    "# Define the default parameters of the input file\n",
    "inp = I.Inputfile()\n",
    "inp.set_hgrid(gs.log['dft']['hgrids'])\n",
    "inp.set_xc(get_xc_functional(gs))\n",
    "inp.set_wavefunction_convergence(gnrm=1.0e-5)\n",
    "inp"
   ]
  },
  {
   "cell_type": "markdown",
   "metadata": {},
   "source": [
    "As first step study choose the value of the rmult of the gs and perform an analysis to determine the value of the electric field for computing the statical polarizability"
   ]
  },
  {
   "cell_type": "code",
   "execution_count": 49,
   "metadata": {},
   "outputs": [
    {
     "data": {
      "text/plain": [
       "{'dft': {'gnrm_cv': 1e-05, 'hgrids': 0.37, 'ixc': 'LDA', 'rmult': [7.0, 9.0]}}"
      ]
     },
     "execution_count": 49,
     "metadata": {},
     "output_type": "execute_result"
    }
   ],
   "source": [
    "inp.set_rmult(gs.log['dft']['rmult'])\n",
    "inp"
   ]
  },
  {
   "cell_type": "markdown",
   "metadata": {},
   "source": [
    "Define the dataset for the evaluation of the statical polarizability"
   ]
  },
  {
   "cell_type": "code",
   "execution_count": 53,
   "metadata": {},
   "outputs": [
    {
     "name": "stdout",
     "output_type": "stream",
     "text": [
      "CO/CO_posinp.xyz\n",
      "Initialize a Calculator with OMP_NUM_THREADS=2 and command mpirun -np 4 /home/marco/Applications/BigDFT/binaries/v1.8.3/install/bin/bigdft\n"
     ]
    }
   ],
   "source": [
    "posinp_file = molecule+'/'+molecule+'_posinp.xyz'\n",
    "print posinp_file\n",
    "\n",
    "code=C.SystemCalculator(omp=2,mpi_run='mpirun -np 4',skip=True)\n",
    "study = D.Dataset(label='alpha',run_dir='alpha',posinp=posinp_file)"
   ]
  },
  {
   "cell_type": "code",
   "execution_count": 54,
   "metadata": {},
   "outputs": [],
   "source": [
    "for f in field_intensity[:2]:\n",
    "    append_electric_field_runs(study,f,inp)"
   ]
  },
  {
   "cell_type": "code",
   "execution_count": 55,
   "metadata": {},
   "outputs": [
    {
     "name": "stdout",
     "output_type": "stream",
     "text": [
      "{'rmult': 7.0, 'F': 0.005, 'dir': 'x', 'sign': '-'}\n",
      "{'run_dir': 'alpha', 'input': {'dft': {'ixc': 'LDA', 'gnrm_cv': 1e-05, 'elecfield': [-0.005, 0.0, 0.0], 'hgrids': 0.37, 'rmult': [7.0, 9.0]}}, 'posinp': 'CO/CO_posinp.xyz', 'label': 'alpha'}\n"
     ]
    }
   ],
   "source": [
    "ind = 9\n",
    "write(study.ids[ind])\n",
    "write(study.runs[ind])"
   ]
  },
  {
   "cell_type": "markdown",
   "metadata": {},
   "source": [
    "Can we define eval_alpha_one_field as a post processing functions? In this case it would be better to append run associated to a single field value, extract and store alphas[F] and then remove the appended run and start again with the new value of the field...Otherwise a new instance of study can be created for each value of the field intensity"
   ]
  },
  {
   "cell_type": "code",
   "execution_count": 56,
   "metadata": {},
   "outputs": [
    {
     "name": "stdout",
     "output_type": "stream",
     "text": [
      "Copy the posinp file 'CO/CO_posinp.xyz' into 'alpha'\n",
      "Creating the yaml input file \"alpha/F:0.01,dir:x,rmult:7.0,sign:+.yaml\"\n",
      "Run directory alpha\n",
      "Executing command:  mpirun -np 4 /home/marco/Applications/BigDFT/binaries/v1.8.3/install/bin/bigdft -n F:0.01,dir:x,rmult:7.0,sign:+ -s Yes\n",
      "Copy the posinp file 'CO/CO_posinp.xyz' into 'alpha'\n",
      "Creating the yaml input file \"alpha/F:0.01,dir:y,rmult:7.0,sign:+.yaml\"\n",
      "Run directory alpha\n",
      "Executing command:  mpirun -np 4 /home/marco/Applications/BigDFT/binaries/v1.8.3/install/bin/bigdft -n F:0.01,dir:y,rmult:7.0,sign:+ -s Yes\n",
      "Copy the posinp file 'CO/CO_posinp.xyz' into 'alpha'\n",
      "Creating the yaml input file \"alpha/F:0.01,dir:z,rmult:7.0,sign:+.yaml\"\n",
      "Run directory alpha\n",
      "Executing command:  mpirun -np 4 /home/marco/Applications/BigDFT/binaries/v1.8.3/install/bin/bigdft -n F:0.01,dir:z,rmult:7.0,sign:+ -s Yes\n",
      "Copy the posinp file 'CO/CO_posinp.xyz' into 'alpha'\n",
      "Creating the yaml input file \"alpha/F:0.01,dir:x,rmult:7.0,sign:-.yaml\"\n",
      "Run directory alpha\n",
      "Executing command:  mpirun -np 4 /home/marco/Applications/BigDFT/binaries/v1.8.3/install/bin/bigdft -n F:0.01,dir:x,rmult:7.0,sign:- -s Yes\n",
      "Copy the posinp file 'CO/CO_posinp.xyz' into 'alpha'\n",
      "Creating the yaml input file \"alpha/F:0.01,dir:y,rmult:7.0,sign:-.yaml\"\n",
      "Run directory alpha\n",
      "Executing command:  mpirun -np 4 /home/marco/Applications/BigDFT/binaries/v1.8.3/install/bin/bigdft -n F:0.01,dir:y,rmult:7.0,sign:- -s Yes\n",
      "Copy the posinp file 'CO/CO_posinp.xyz' into 'alpha'\n",
      "Creating the yaml input file \"alpha/F:0.01,dir:z,rmult:7.0,sign:-.yaml\"\n",
      "Run directory alpha\n",
      "Executing command:  mpirun -np 4 /home/marco/Applications/BigDFT/binaries/v1.8.3/install/bin/bigdft -n F:0.01,dir:z,rmult:7.0,sign:- -s Yes\n",
      "Copy the posinp file 'CO/CO_posinp.xyz' into 'alpha'\n",
      "Creating the yaml input file \"alpha/F:0.005,dir:x,rmult:7.0,sign:+.yaml\"\n",
      "Run directory alpha\n",
      "Executing command:  mpirun -np 4 /home/marco/Applications/BigDFT/binaries/v1.8.3/install/bin/bigdft -n F:0.005,dir:x,rmult:7.0,sign:+ -s Yes\n",
      "Copy the posinp file 'CO/CO_posinp.xyz' into 'alpha'\n",
      "Creating the yaml input file \"alpha/F:0.005,dir:y,rmult:7.0,sign:+.yaml\"\n",
      "Run directory alpha\n",
      "Executing command:  mpirun -np 4 /home/marco/Applications/BigDFT/binaries/v1.8.3/install/bin/bigdft -n F:0.005,dir:y,rmult:7.0,sign:+ -s Yes\n",
      "Copy the posinp file 'CO/CO_posinp.xyz' into 'alpha'\n",
      "Creating the yaml input file \"alpha/F:0.005,dir:z,rmult:7.0,sign:+.yaml\"\n",
      "Run directory alpha\n",
      "Executing command:  mpirun -np 4 /home/marco/Applications/BigDFT/binaries/v1.8.3/install/bin/bigdft -n F:0.005,dir:z,rmult:7.0,sign:+ -s Yes\n",
      "Copy the posinp file 'CO/CO_posinp.xyz' into 'alpha'\n",
      "Creating the yaml input file \"alpha/F:0.005,dir:x,rmult:7.0,sign:-.yaml\"\n",
      "Run directory alpha\n",
      "Executing command:  mpirun -np 4 /home/marco/Applications/BigDFT/binaries/v1.8.3/install/bin/bigdft -n F:0.005,dir:x,rmult:7.0,sign:- -s Yes\n",
      "Copy the posinp file 'CO/CO_posinp.xyz' into 'alpha'\n",
      "Creating the yaml input file \"alpha/F:0.005,dir:y,rmult:7.0,sign:-.yaml\"\n",
      "Run directory alpha\n",
      "Executing command:  mpirun -np 4 /home/marco/Applications/BigDFT/binaries/v1.8.3/install/bin/bigdft -n F:0.005,dir:y,rmult:7.0,sign:- -s Yes\n",
      "Copy the posinp file 'CO/CO_posinp.xyz' into 'alpha'\n",
      "Creating the yaml input file \"alpha/F:0.005,dir:z,rmult:7.0,sign:-.yaml\"\n",
      "Run directory alpha\n",
      "Executing command:  mpirun -np 4 /home/marco/Applications/BigDFT/binaries/v1.8.3/install/bin/bigdft -n F:0.005,dir:z,rmult:7.0,sign:- -s Yes\n"
     ]
    },
    {
     "data": {
      "text/plain": [
       "{0: <BigDFT.Logfiles.Logfile instance at 0x7f6aaa4ef368>,\n",
       " 1: <BigDFT.Logfiles.Logfile instance at 0x7f6aaafb3098>,\n",
       " 2: <BigDFT.Logfiles.Logfile instance at 0x7f6aaa77c320>,\n",
       " 3: <BigDFT.Logfiles.Logfile instance at 0x7f6aaa6ed0e0>,\n",
       " 4: <BigDFT.Logfiles.Logfile instance at 0x7f6aaa74ed40>,\n",
       " 5: <BigDFT.Logfiles.Logfile instance at 0x7f6aaa502638>,\n",
       " 6: <BigDFT.Logfiles.Logfile instance at 0x7f6aaa502998>,\n",
       " 7: <BigDFT.Logfiles.Logfile instance at 0x7f6aaa3495f0>,\n",
       " 8: <BigDFT.Logfiles.Logfile instance at 0x7f6aaa30a170>,\n",
       " 9: <BigDFT.Logfiles.Logfile instance at 0x7f6aaa30a0e0>,\n",
       " 10: <BigDFT.Logfiles.Logfile instance at 0x7f6aaa30a200>,\n",
       " 11: <BigDFT.Logfiles.Logfile instance at 0x7f6aaa30a1b8>}"
      ]
     },
     "execution_count": 56,
     "metadata": {},
     "output_type": "execute_result"
    }
   ],
   "source": [
    "# how to avoid the high-verbose mode?\n",
    "study.run()"
   ]
  },
  {
   "cell_type": "code",
   "execution_count": 57,
   "metadata": {},
   "outputs": [],
   "source": [
    "def eval_alpha_one_field(dipoles,f):\n",
    "    \"\"\"\"\n",
    "    Compute alpha given one value of the field intensity and the associated list of \n",
    "    six dipoles\n",
    "    \"\"\"\n",
    "    alpha=np.mat(np.zeros(9)).reshape(3,3)\n",
    "    for ind in range(3):\n",
    "        alpha[ind] = np.array(dipoles[ind])-np.array(dipoles[ind+3])\n",
    "    alpha = alpha.T / (2.0*f)\n",
    "    return alpha"
   ]
  },
  {
   "cell_type": "markdown",
   "metadata": {},
   "source": [
    "Introduce the alphas dictionary that contains the polarizability tensors for each value of the field intensity. Needed for the convergence study"
   ]
  },
  {
   "cell_type": "code",
   "execution_count": 58,
   "metadata": {},
   "outputs": [],
   "source": [
    "alphas = {}"
   ]
  },
  {
   "cell_type": "code",
   "execution_count": 59,
   "metadata": {},
   "outputs": [
    {
     "data": {
      "text/plain": [
       "{0.005: matrix([[ 1.3211721e+01, -4.5186718e-04, -2.4358770e-05],\n",
       "         [-4.5186719e-04,  1.3211721e+01, -2.4358770e-05],\n",
       "         [ 1.0600000e-04,  1.0600000e-04,  1.8530906e+01]]),\n",
       " 0.01: matrix([[ 1.323614e+01, -1.279955e-05, -3.389697e-05],\n",
       "         [-1.279955e-05,  1.323614e+01, -3.389697e-05],\n",
       "         [-1.125000e-04, -1.125000e-04,  1.856809e+01]])}"
      ]
     },
     "execution_count": 59,
     "metadata": {},
     "output_type": "execute_result"
    }
   ],
   "source": [
    "for f in field_intensity[:2]:\n",
    "    dipoles = study.fetch_results({'F':f},attribute = 'dipole')\n",
    "    alphas[f] = eval_alpha_one_field(dipoles,f)\n",
    "alphas"
   ]
  },
  {
   "cell_type": "markdown",
   "metadata": {},
   "source": [
    "Perform a comparison among the alpha computed with different field and perform a further computation with a field\n",
    "equal to 1e-3 if the alphas differ more than a given tolerance. The comparison is performed with the allcloe functions that returns true if\n",
    "\n",
    "abs(a-b) < atol + rtol*abs(b)\n",
    "\n",
    "so we chose atol = 1e-3 and rtol = 1e-2. So for small elements that are deeply affected by numerical noise the\n",
    "maximum allowed discrepacy is atol while for the relevan ones the percentage difference is rtol"
   ]
  },
  {
   "cell_type": "code",
   "execution_count": 61,
   "metadata": {},
   "outputs": [],
   "source": [
    "at = 1e-3\n",
    "rt = 1e-2"
   ]
  },
  {
   "cell_type": "markdown",
   "metadata": {},
   "source": [
    "if the comparison returns False we need to perform a further computation for the lowest value of the field intensity"
   ]
  },
  {
   "cell_type": "code",
   "execution_count": 62,
   "metadata": {},
   "outputs": [
    {
     "name": "stdout",
     "output_type": "stream",
     "text": [
      "Convergence achieved for field intensity  0.01\n"
     ]
    }
   ],
   "source": [
    "convergence = np.allclose(alphas[field_intensity[0]],alphas[field_intensity[1]],atol = at, rtol = rt)\n",
    "if convergence:\n",
    "    write('Convergence achieved for field intensity ',field_intensity[0])\n",
    "    alpha[inp['dft']['rmult'][0]] = alphas[field_intensity[0]]\n",
    "else:\n",
    "    write('Convergence for field intensity ',field_intensity[0],' failed')\n",
    "    write('Reduce the value of the field')\n",
    "    append_electric_field_runs(study,field_intensity[2],inp)\n",
    "    study.run()\n",
    "    dipoles = study.fetch_results({'F':field_intensity[2]},attribute = 'dipole')\n",
    "    alphas[field_intensity[2]] = eval_alpha_one_field(dipoles,field_intensity[2])\n",
    "    convergence = np.allclose(alphas[field_intensity[0]],alphas[field_intensity[1]],atol = at, rtol = rt)\n",
    "    if convergence:\n",
    "        write('Convergence achieved for field intensity ',field_intensity[1])\n",
    "        alpha[inp['dft']['rmult'][0]] = alphas[field_intensity[1]]\n",
    "    else:\n",
    "        write('Convergence for field intensity ',field_intensity[1],' failed')\n",
    "        write('Return the value of alpha associated to ',field_intensity[1],'. Perform further check!!!')\n",
    "        alpha[inp['dft']['rmult'][0]] = alphas[field_intensity[1]]"
   ]
  },
  {
   "cell_type": "code",
   "execution_count": 63,
   "metadata": {},
   "outputs": [
    {
     "data": {
      "text/plain": [
       "{7.0: matrix([[ 1.323614e+01, -1.279955e-05, -3.389697e-05],\n",
       "         [-1.279955e-05,  1.323614e+01, -3.389697e-05],\n",
       "         [-1.125000e-04, -1.125000e-04,  1.856809e+01]])}"
      ]
     },
     "execution_count": 63,
     "metadata": {},
     "output_type": "execute_result"
    }
   ],
   "source": [
    "alpha"
   ]
  },
  {
   "cell_type": "code",
   "execution_count": null,
   "metadata": {},
   "outputs": [],
   "source": []
  },
  {
   "cell_type": "code",
   "execution_count": null,
   "metadata": {},
   "outputs": [],
   "source": []
  },
  {
   "cell_type": "code",
   "execution_count": null,
   "metadata": {},
   "outputs": [],
   "source": []
  },
  {
   "cell_type": "code",
   "execution_count": null,
   "metadata": {},
   "outputs": [],
   "source": []
  },
  {
   "cell_type": "code",
   "execution_count": null,
   "metadata": {},
   "outputs": [],
   "source": []
  },
  {
   "cell_type": "code",
   "execution_count": null,
   "metadata": {},
   "outputs": [],
   "source": []
  },
  {
   "cell_type": "code",
   "execution_count": null,
   "metadata": {},
   "outputs": [],
   "source": []
  },
  {
   "cell_type": "code",
   "execution_count": null,
   "metadata": {},
   "outputs": [],
   "source": [
    "#############################################################"
   ]
  },
  {
   "cell_type": "markdown",
   "metadata": {},
   "source": [
    "The aim of this nb is to provide all the tools needed to compute the statical polarizability of a molecule.\n",
    "The results of this analysis allow us to perform convergence study of the statical polarizability w.r.t the size of the simulation domain and to check if the strenght of the field used to perturb the ground state configuration of the molecule is compatible with the linear response regime "
   ]
  },
  {
   "cell_type": "markdown",
   "metadata": {},
   "source": [
    "The data structure which encodes all the computation that will be performed during the analysis is a python dictionary generically called molecule with structure:\n",
    "* molecule[rmult][field]\n",
    "\n",
    "where [field] is a tuple with the cartesian components of the statical field"
   ]
  },
  {
   "cell_type": "markdown",
   "metadata": {},
   "source": [
    "In order to perform this analysis several methods need to be defined, in particular:\n",
    " * computeStatPol(molecule,fieldNorm,box) : take as inputs the properties of the choses molecule, the value of the field norm and the value of the box size (rmult in our specific case). This method check if the results associated to the given field norm and box value are present in molecule. If needed perform the computation storing the results in molecule and add the 'statPol' key to molecule with the (matrix valued) result for the statical polarizability"
   ]
  },
  {
   "cell_type": "markdown",
   "metadata": {},
   "source": [
    "Let us start this analysis with some specific examples"
   ]
  },
  {
   "cell_type": "code",
   "execution_count": null,
   "metadata": {},
   "outputs": [],
   "source": []
  }
 ],
 "metadata": {
  "kernelspec": {
   "display_name": "Python 2",
   "language": "python",
   "name": "python2"
  },
  "language_info": {
   "codemirror_mode": {
    "name": "ipython",
    "version": 2
   },
   "file_extension": ".py",
   "mimetype": "text/x-python",
   "name": "python",
   "nbconvert_exporter": "python",
   "pygments_lexer": "ipython2",
   "version": "2.7.15rc1"
  }
 },
 "nbformat": 4,
 "nbformat_minor": 2
}
