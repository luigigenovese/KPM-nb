{
 "cells": [
  {
   "cell_type": "code",
   "execution_count": 1,
   "metadata": {},
   "outputs": [],
   "source": [
    "from BigDFT import Datasets as D, Calculators as C, Inputfiles as I, Logfiles as lf\n",
    "from futile.Utils import write\n",
    "import numpy as np\n",
    "import matplotlib.pyplot as plt\n",
    "import os, sys\n",
    "sys.path.insert(0,'../')\n",
    "import StatPol as SP"
   ]
  },
  {
   "cell_type": "markdown",
   "metadata": {},
   "source": [
    "# Analysis of the StatPol module"
   ]
  },
  {
   "cell_type": "markdown",
   "metadata": {},
   "source": [
    "This nb describe the usage of the StatPol module that allows us to compute the statical polarizability of a system and to perform convergence analysis w.r.t. the intensity of the static field and the size of the simulation domain"
   ]
  },
  {
   "cell_type": "markdown",
   "metadata": {},
   "source": [
    "We assume that the GS analysis for a set of molecule has been performed. The structure of this working directory consists in a folder for each molecule. Inside each folder there is one logifle (or more if different study varying for instance xc functional or equilibrium position) that contains the result of the GS computation used as input of the present analysis"
   ]
  },
  {
   "cell_type": "markdown",
   "metadata": {},
   "source": [
    "Scan the path folder and build the molecules_database by looking at the directories in the path"
   ]
  },
  {
   "cell_type": "code",
   "execution_count": 2,
   "metadata": {},
   "outputs": [
    {
     "data": {
      "text/plain": [
       "['H20', 'CO']"
      ]
     },
     "execution_count": 2,
     "metadata": {},
     "output_type": "execute_result"
    }
   ],
   "source": [
    "molecules_database = SP.get_molecule_database()\n",
    "molecules_database"
   ]
  },
  {
   "cell_type": "markdown",
   "metadata": {},
   "source": [
    "Choose a molecule to perform the analysis, move the path in the associated folder and get the relevant parameters of the gs analysis"
   ]
  },
  {
   "cell_type": "code",
   "execution_count": 3,
   "metadata": {},
   "outputs": [
    {
     "name": "stdout",
     "output_type": "stream",
     "text": [
      "/home/marco/Data/RICERCA/LINEAR RESPONSE/LR-nb/STATICAL POLARIZABILITY/Tutorial for StatPol module/CO\n"
     ]
    }
   ],
   "source": [
    "molecule = molecules_database[1]\n",
    "%cd $molecule\n",
    "sys.path.insert(1,'../../')\n",
    "posinp_file = molecule+'_posinp.xyz'\n",
    "gs = lf.Logfile('log-lda.yaml')"
   ]
  },
  {
   "cell_type": "markdown",
   "metadata": {},
   "source": [
    "## Computation of alpha for a specific choice of the input parameters"
   ]
  },
  {
   "cell_type": "markdown",
   "metadata": {},
   "source": [
    "Build the input file and define the parameters common to all the runs.\n",
    "\n",
    "The values of rmult and of the field intensity will be specified subsequently since a convergence study will be performed on this parameters."
   ]
  },
  {
   "cell_type": "markdown",
   "metadata": {},
   "source": [
    "As a first usage of the module we compute the statical polarizabiltiy tensor for a specific choice of the field intensity and the simulation domain"
   ]
  },
  {
   "cell_type": "code",
   "execution_count": 6,
   "metadata": {},
   "outputs": [
    {
     "data": {
      "text/plain": [
       "{'dft': {'gnrm_cv': 1e-05, 'hgrids': 0.37, 'ixc': 'LDA', 'rmult': [7.0, 9.0]}}"
      ]
     },
     "execution_count": 6,
     "metadata": {},
     "output_type": "execute_result"
    }
   ],
   "source": [
    "fieldInt = 1e-2\n",
    "\n",
    "inp = I.Inputfile()\n",
    "inp.set_hgrid(gs.log['dft']['hgrids'])\n",
    "inp.set_xc('LDA')\n",
    "inp.set_wavefunction_convergence(gnrm=1.0e-5)\n",
    "inp.set_rmult(gs.log['dft']['rmult'])\n",
    "inp"
   ]
  },
  {
   "cell_type": "code",
   "execution_count": 7,
   "metadata": {},
   "outputs": [
    {
     "name": "stdout",
     "output_type": "stream",
     "text": [
      "Initialize a Calculator with OMP_NUM_THREADS=2 and command mpirun -np 4 /home/marco/Applications/BigDFT/binaries/v1.8.3/install/bin/bigdft\n"
     ]
    }
   ],
   "source": [
    "code=C.SystemCalculator(omp=2,mpi_run='mpirun -np 4',skip=True)"
   ]
  },
  {
   "cell_type": "code",
   "execution_count": 8,
   "metadata": {},
   "outputs": [
    {
     "name": "stdout",
     "output_type": "stream",
     "text": [
      "{'run_dir': 'alpha', 'intensity': 0.01, 'posinp': 'CO_posinp.xyz', 'label': 'alpha_0.01'}\n",
      "{'run_dir': 'alpha', 'input': {'dft': {'ixc': 'LDA', 'gnrm_cv': 1e-05, 'elecfield': [0.01, 0.0, 0.0], 'hgrids': 0.37, 'rmult': [7.0, 9.0]}}, 'intensity': 0.01, 'posinp': 'CO_posinp.xyz', 'label': 'alpha_0.01'}\n"
     ]
    }
   ],
   "source": [
    "reload(SP)\n",
    "a = SP.build_alpha_dataset(run_dir='alpha',intensity=fieldInt,input=inp,runner=code,posinp=posinp_file,ppf=SP.eval_alpha)\n",
    "# display some info on a\n",
    "write(a.global_options())\n",
    "ind = 0\n",
    "write(a.runs[ind])"
   ]
  },
  {
   "cell_type": "code",
   "execution_count": 9,
   "metadata": {},
   "outputs": [
    {
     "name": "stdout",
     "output_type": "stream",
     "text": [
      "Copy the posinp file 'CO_posinp.xyz' into 'alpha'\n",
      "Creating the yaml input file \"alpha/F:0.01,dir:x,rmult:7.0,sign:+.yaml\"\n",
      "Run directory alpha\n",
      "Executing command:  mpirun -np 4 /home/marco/Applications/BigDFT/binaries/v1.8.3/install/bin/bigdft -n F:0.01,dir:x,rmult:7.0,sign:+ -s Yes\n",
      "Copy the posinp file 'CO_posinp.xyz' into 'alpha'\n",
      "Creating the yaml input file \"alpha/F:0.01,dir:y,rmult:7.0,sign:+.yaml\"\n",
      "Run directory alpha\n",
      "Executing command:  mpirun -np 4 /home/marco/Applications/BigDFT/binaries/v1.8.3/install/bin/bigdft -n F:0.01,dir:y,rmult:7.0,sign:+ -s Yes\n",
      "Copy the posinp file 'CO_posinp.xyz' into 'alpha'\n",
      "Creating the yaml input file \"alpha/F:0.01,dir:z,rmult:7.0,sign:+.yaml\"\n",
      "Run directory alpha\n",
      "Executing command:  mpirun -np 4 /home/marco/Applications/BigDFT/binaries/v1.8.3/install/bin/bigdft -n F:0.01,dir:z,rmult:7.0,sign:+ -s Yes\n",
      "Copy the posinp file 'CO_posinp.xyz' into 'alpha'\n",
      "Creating the yaml input file \"alpha/F:0.01,dir:x,rmult:7.0,sign:-.yaml\"\n",
      "Run directory alpha\n",
      "Executing command:  mpirun -np 4 /home/marco/Applications/BigDFT/binaries/v1.8.3/install/bin/bigdft -n F:0.01,dir:x,rmult:7.0,sign:- -s Yes\n",
      "Copy the posinp file 'CO_posinp.xyz' into 'alpha'\n",
      "Creating the yaml input file \"alpha/F:0.01,dir:y,rmult:7.0,sign:-.yaml\"\n",
      "Run directory alpha\n",
      "Executing command:  mpirun -np 4 /home/marco/Applications/BigDFT/binaries/v1.8.3/install/bin/bigdft -n F:0.01,dir:y,rmult:7.0,sign:- -s Yes\n",
      "Copy the posinp file 'CO_posinp.xyz' into 'alpha'\n",
      "Creating the yaml input file \"alpha/F:0.01,dir:z,rmult:7.0,sign:-.yaml\"\n",
      "Run directory alpha\n",
      "Executing command:  mpirun -np 4 /home/marco/Applications/BigDFT/binaries/v1.8.3/install/bin/bigdft -n F:0.01,dir:z,rmult:7.0,sign:- -s Yes\n"
     ]
    },
    {
     "data": {
      "text/plain": [
       "matrix([[ 1.323614e+01, -1.279955e-05, -3.389697e-05],\n",
       "        [-1.279955e-05,  1.323614e+01, -3.389697e-05],\n",
       "        [-1.125000e-04, -1.125000e-04,  1.856809e+01]])"
      ]
     },
     "execution_count": 9,
     "metadata": {},
     "output_type": "execute_result"
    }
   ],
   "source": [
    "alpha = a.run()\n",
    "alpha"
   ]
  },
  {
   "cell_type": "markdown",
   "metadata": {},
   "source": [
    "The verbose option of SystemCalculator can be used to limit the display on terminal"
   ]
  },
  {
   "cell_type": "code",
   "execution_count": 10,
   "metadata": {},
   "outputs": [
    {
     "data": {
      "text/plain": [
       "matrix([[ 1.323614e+01, -1.279955e-05, -3.389697e-05],\n",
       "        [-1.279955e-05,  1.323614e+01, -3.389697e-05],\n",
       "        [-1.125000e-04, -1.125000e-04,  1.856809e+01]])"
      ]
     },
     "execution_count": 10,
     "metadata": {},
     "output_type": "execute_result"
    }
   ],
   "source": [
    "code.update_global_options(verbose=False)\n",
    "alpha = a.run()\n",
    "alpha"
   ]
  },
  {
   "cell_type": "code",
   "execution_count": 11,
   "metadata": {},
   "outputs": [
    {
     "name": "stdout",
     "output_type": "stream",
     "text": [
      "15.013456666666668\n"
     ]
    }
   ],
   "source": [
    "write(SP.eval_alpha_avg(alpha))"
   ]
  },
  {
   "cell_type": "markdown",
   "metadata": {},
   "source": [
    "## Usage of the seek_convergence function"
   ]
  },
  {
   "cell_type": "markdown",
   "metadata": {},
   "source": [
    "We have defined the function seek_convergence that take as input the dataset associated to a convergence parameter (three values of the parameter are allowed) and perform a convergence analysis.\n",
    "The features and usage of this function is described in the next example, in which we discuss the convergence of the statical polarizability w.r.t. the intensity of the field"
   ]
  },
  {
   "cell_type": "code",
   "execution_count": 13,
   "metadata": {},
   "outputs": [
    {
     "name": "stdout",
     "output_type": "stream",
     "text": [
      "Perform the run with field_int 0.01\n",
      "Perform the run with field_int 0.005\n",
      "Convergence achieved for field_int 0.01\n"
     ]
    },
    {
     "data": {
      "text/plain": [
       "{'converged': True,\n",
       " 'converged_value': 0.01,\n",
       " 'label': 'field_int',\n",
       " 'results': {0.001: None,\n",
       "  0.005: matrix([[ 1.3211721e+01, -4.5186718e-04, -2.4358770e-05],\n",
       "          [-4.5186719e-04,  1.3211721e+01, -2.4358770e-05],\n",
       "          [ 1.0600000e-04,  1.0600000e-04,  1.8530906e+01]]),\n",
       "  0.01: matrix([[ 1.323614e+01, -1.279955e-05, -3.389697e-05],\n",
       "          [-1.279955e-05,  1.323614e+01, -3.389697e-05],\n",
       "          [-1.125000e-04, -1.125000e-04,  1.856809e+01]])},\n",
       " 'values': [0.01, 0.005, 0.001]}"
      ]
     },
     "execution_count": 13,
     "metadata": {},
     "output_type": "execute_result"
    }
   ],
   "source": [
    "field_int = [1e-2,5e-3,1e-3]\n",
    "data = []\n",
    "code.update_global_options(verbose=False)\n",
    "for f in field_int:\n",
    "    data.append(SP.build_alpha_dataset(run_dir='alpha',intensity=f,input=inp,runner=code,posinp=posinp_file,ppf=SP.eval_alpha))\n",
    "    \n",
    "SP.seek_convergence(rt=1e-2,label='field_int',values=field_int,data=data)"
   ]
  },
  {
   "cell_type": "markdown",
   "metadata": {},
   "source": [
    "## Convergence analysis w.r.t the intensity of the field"
   ]
  },
  {
   "cell_type": "markdown",
   "metadata": {},
   "source": [
    "We make usage of the seek_convergence function to define a tool that perform the convergence study w.r.t. the \n",
    "intensity of the field.\n",
    "We remember that the comparison is performed with np.allclose functions that returns true if\n",
    "\n",
    "abs(a-b) < atol + rtol*abs(b)\n",
    "\n",
    "So for small elements that are deeply affected by numerical noise the maximum allowed discrepacy is atol while for the relevan ones the percentage difference is rtol. "
   ]
  },
  {
   "cell_type": "code",
   "execution_count": 14,
   "metadata": {},
   "outputs": [
    {
     "name": "stdout",
     "output_type": "stream",
     "text": [
      "Perform the run with field_int 0.01\n",
      "Perform the run with field_int 0.005\n",
      "Convergence achieved for field_int 0.01\n"
     ]
    },
    {
     "data": {
      "text/plain": [
       "{'converged': True,\n",
       " 'converged_value': 0.01,\n",
       " 'label': 'field_int',\n",
       " 'results': {0.001: None,\n",
       "  0.005: matrix([[ 1.3211721e+01, -4.5186718e-04, -2.4358770e-05],\n",
       "          [-4.5186719e-04,  1.3211721e+01, -2.4358770e-05],\n",
       "          [ 1.0600000e-04,  1.0600000e-04,  1.8530906e+01]]),\n",
       "  0.01: matrix([[ 1.323614e+01, -1.279955e-05, -3.389697e-05],\n",
       "          [-1.279955e-05,  1.323614e+01, -3.389697e-05],\n",
       "          [-1.125000e-04, -1.125000e-04,  1.856809e+01]])},\n",
       " 'values': [0.01, 0.005, 0.001]}"
      ]
     },
     "execution_count": 14,
     "metadata": {},
     "output_type": "execute_result"
    }
   ],
   "source": [
    "reload(SP)\n",
    "inp = I.Inputfile()\n",
    "inp.set_hgrid(gs.log['dft']['hgrids'])\n",
    "inp.set_xc('LDA')\n",
    "inp.set_wavefunction_convergence(gnrm=1.0e-5)\n",
    "inp.set_rmult(gs.log['dft']['rmult'])\n",
    "\n",
    "SP.perform_field_convergence(rt=1e-2,run_dir='alpha',input=inp,runner=code,posinp=posinp_file,ppf=SP.eval_alpha)"
   ]
  },
  {
   "cell_type": "markdown",
   "metadata": {},
   "source": [
    "## Convergence analysis w.r.t. the size of the simulation domain"
   ]
  },
  {
   "cell_type": "markdown",
   "metadata": {},
   "source": [
    "In an analogous way we build the tool to perform the convergence w.r.t the dimension of the simulation domain (i.e. the coarse value of the rmult parameter). In this case the intensity of the field has to be provided as input"
   ]
  },
  {
   "cell_type": "code",
   "execution_count": 15,
   "metadata": {},
   "outputs": [
    {
     "name": "stdout",
     "output_type": "stream",
     "text": [
      "Perform the run with rmult 7.0\n",
      "Perform the run with rmult 8.0\n",
      "Convergence achieved for rmult 7.0\n"
     ]
    },
    {
     "data": {
      "text/plain": [
       "{'converged': True,\n",
       " 'converged_value': 7.0,\n",
       " 'label': 'rmult',\n",
       " 'results': {7.0: matrix([[ 1.323614e+01, -1.279955e-05, -3.389697e-05],\n",
       "          [-1.279955e-05,  1.323614e+01, -3.389697e-05],\n",
       "          [-1.125000e-04, -1.125000e-04,  1.856809e+01]]),\n",
       "  8.0: matrix([[ 1.32401e+01, -1.15354e-05, -7.16880e-05],\n",
       "          [-1.15354e-05,  1.32401e+01, -7.16880e-05],\n",
       "          [ 1.57000e-04,  1.57000e-04,  1.85763e+01]]),\n",
       "  9.0: None,\n",
       "  10.0: None,\n",
       "  11.0: None},\n",
       " 'values': [7.0, 8.0, 9.0, 10.0, 11.0]}"
      ]
     },
     "execution_count": 15,
     "metadata": {},
     "output_type": "execute_result"
    }
   ],
   "source": [
    "reload(SP)\n",
    "inp = I.Inputfile()\n",
    "inp.set_hgrid(gs.log['dft']['hgrids'])\n",
    "inp.set_xc('LDA')\n",
    "inp.set_wavefunction_convergence(gnrm=1.0e-5)\n",
    "f = 1e-2\n",
    "\n",
    "rmult_list=SP.build_rmult_list(gs)\n",
    "SP.perform_rmult_convergence(run_dir='alpha',intensity=f,rmult=rmult_list,input=inp,runner=code,posinp=posinp_file,ppf=SP.eval_alpha)"
   ]
  },
  {
   "cell_type": "markdown",
   "metadata": {},
   "source": [
    "## An example of convergence workflow"
   ]
  },
  {
   "cell_type": "markdown",
   "metadata": {},
   "source": [
    "These tools can be used to build a complete workflow that produces the polarizability starting from the GS computation.\n",
    "\n",
    "For instance we can evaluate the convergence value of the field intensity for the value of rmult of the GS analysis and then perform a rmult convergence using this value of the field. This procedure can be implemented as follows:"
   ]
  },
  {
   "cell_type": "code",
   "execution_count": 16,
   "metadata": {},
   "outputs": [
    {
     "name": "stdout",
     "output_type": "stream",
     "text": [
      "Perform the run with field_int 0.01\n",
      "Perform the run with field_int 0.005\n",
      "Convergence achieved for field_int 0.01\n",
      "Perform the run with rmult 7.0\n",
      "Perform the run with rmult 8.0\n",
      "Convergence achieved for rmult 7.0\n"
     ]
    },
    {
     "data": {
      "text/plain": [
       "matrix([[ 1.323614e+01, -1.279955e-05, -3.389697e-05],\n",
       "        [-1.279955e-05,  1.323614e+01, -3.389697e-05],\n",
       "        [-1.125000e-04, -1.125000e-04,  1.856809e+01]])"
      ]
     },
     "execution_count": 16,
     "metadata": {},
     "output_type": "execute_result"
    }
   ],
   "source": [
    "reload(SP)\n",
    "\n",
    "rtol=1e-2\n",
    "\n",
    "inp = I.Inputfile()\n",
    "inp.set_hgrid(gs.log['dft']['hgrids'])\n",
    "inp.set_xc('LDA')\n",
    "inp.set_wavefunction_convergence(gnrm=1.0e-5)\n",
    "inp.set_rmult(gs.log['dft']['rmult'])\n",
    "\n",
    "field_conv=SP.perform_field_convergence(rt=rtol,run_dir='alpha',input=inp,runner=code,posinp=posinp_file,ppf=SP.eval_alpha)\n",
    "\n",
    "f=field_conv['converged_value']\n",
    "rmult_list=SP.build_rmult_list(gs)\n",
    "\n",
    "rmult_conv=SP.perform_rmult_convergence(rt=rtol,run_dir='alpha',intensity=f,rmult=rmult_list,input=inp,runner=code,posinp=posinp_file,ppf=SP.eval_alpha)\n",
    "alpha =  rmult_conv['results'][rmult_conv['converged_value']]\n",
    "alpha"
   ]
  },
  {
   "cell_type": "markdown",
   "metadata": {},
   "source": [
    "The dictionary field_conv and rmult_conv contain all the data of the convergence analysis and can be used to check the procedure"
   ]
  },
  {
   "cell_type": "code",
   "execution_count": 17,
   "metadata": {},
   "outputs": [
    {
     "name": "stdout",
     "output_type": "stream",
     "text": [
      "{'converged': True, 'converged_value': 0.01, 'values': [0.01, 0.005, 0.001], 'results': {0.001: None, 0.005: matrix([[ 1.3211721e+01, -4.5186718e-04, -2.4358770e-05],\n",
      "        [-4.5186719e-04,  1.3211721e+01, -2.4358770e-05],\n",
      "        [ 1.0600000e-04,  1.0600000e-04,  1.8530906e+01]]), 0.01: matrix([[ 1.323614e+01, -1.279955e-05, -3.389697e-05],\n",
      "        [-1.279955e-05,  1.323614e+01, -3.389697e-05],\n",
      "        [-1.125000e-04, -1.125000e-04,  1.856809e+01]])}, 'label': 'field_int'}\n",
      "{'converged': True, 'converged_value': 7.0, 'values': [7.0, 8.0, 9.0, 10.0, 11.0], 'results': {8.0: matrix([[ 1.32401e+01, -1.15354e-05, -7.16880e-05],\n",
      "        [-1.15354e-05,  1.32401e+01, -7.16880e-05],\n",
      "        [ 1.57000e-04,  1.57000e-04,  1.85763e+01]]), 9.0: None, 10.0: None, 11.0: None, 7.0: matrix([[ 1.323614e+01, -1.279955e-05, -3.389697e-05],\n",
      "        [-1.279955e-05,  1.323614e+01, -3.389697e-05],\n",
      "        [-1.125000e-04, -1.125000e-04,  1.856809e+01]])}, 'label': 'rmult'}\n"
     ]
    }
   ],
   "source": [
    "write(field_conv)\n",
    "write(rmult_conv)"
   ]
  },
  {
   "cell_type": "markdown",
   "metadata": {},
   "source": [
    "## Perform an iteration over a parameter"
   ]
  },
  {
   "cell_type": "markdown",
   "metadata": {},
   "source": [
    "Iteration over the field_int"
   ]
  },
  {
   "cell_type": "code",
   "execution_count": 18,
   "metadata": {},
   "outputs": [
    {
     "name": "stdout",
     "output_type": "stream",
     "text": [
      "Run the dataset with field_int 0.1\n",
      "Run the dataset with field_int 0.05\n",
      "Run the dataset with field_int 0.01\n",
      "Run the dataset with field_int 0.005\n",
      "Run the dataset with field_int 0.001\n"
     ]
    }
   ],
   "source": [
    "reload(SP)\n",
    "inp = I.Inputfile()\n",
    "inp.set_hgrid(gs.log['dft']['hgrids'])\n",
    "inp.set_xc('LDA')\n",
    "inp.set_wavefunction_convergence(gnrm=1.0e-5)\n",
    "inp.set_rmult([7.0,9.0])\n",
    "f_int = [1e-1,5e-2,1e-2,5e-3,1e-3]\n",
    "\n",
    "f_iter=SP.perform_field_iteration(run_dir='alpha',field_int=f_int,input=inp,runner=code,posinp=posinp_file,ppf=SP.eval_alpha)"
   ]
  },
  {
   "cell_type": "code",
   "execution_count": 19,
   "metadata": {},
   "outputs": [
    {
     "data": {
      "text/plain": [
       "{'converged': None,\n",
       " 'converged_values': None,\n",
       " 'label': 'field_int',\n",
       " 'results': {0.001: matrix([[ 1.32041850e+01, -1.70408565e-03, -1.76627000e-05],\n",
       "          [-1.70408565e-03,  1.32041850e+01, -1.76627000e-05],\n",
       "          [-1.05000000e-04, -1.05000000e-04,  1.85191700e+01]]),\n",
       "  0.005: matrix([[ 1.3211721e+01, -4.5186718e-04, -2.4358770e-05],\n",
       "          [-4.5186719e-04,  1.3211721e+01, -2.4358770e-05],\n",
       "          [ 1.0600000e-04,  1.0600000e-04,  1.8530906e+01]]),\n",
       "  0.01: matrix([[ 1.323614e+01, -1.279955e-05, -3.389697e-05],\n",
       "          [-1.279955e-05,  1.323614e+01, -3.389697e-05],\n",
       "          [-1.125000e-04, -1.125000e-04,  1.856809e+01]]),\n",
       "  0.05: matrix([[ 1.4739724e+01,  4.8563000e-05, -2.0940130e-03],\n",
       "          [ 4.8563000e-05,  1.4739724e+01, -2.0940130e-03],\n",
       "          [-2.0219000e-03, -2.0219000e-03,  2.1474140e+01]]),\n",
       "  0.1: matrix([[ 2.8612880e+01, -3.9930000e-04, -4.4282500e-03],\n",
       "          [-3.9992500e-04,  2.8612825e+01, -4.4282000e-03],\n",
       "          [-5.4468825e-01, -5.4468690e-01,  4.9316385e+01]])},\n",
       " 'values': [0.1, 0.05, 0.01, 0.005, 0.001]}"
      ]
     },
     "execution_count": 19,
     "metadata": {},
     "output_type": "execute_result"
    }
   ],
   "source": [
    "f_iter"
   ]
  },
  {
   "cell_type": "code",
   "execution_count": 20,
   "metadata": {},
   "outputs": [
    {
     "data": {
      "image/png": "[encoded data removed]",
      "text/plain": [
       "<Figure size 432x288 with 1 Axes>"
      ]
     },
     "metadata": {},
     "output_type": "display_data"
    }
   ],
   "source": [
    "# plot the induced dipole\n",
    "values = f_iter['values']\n",
    "for x in values:\n",
    "    a = f_iter['results'][x]\n",
    "    if a is not None:\n",
    "        y = SP.eval_alpha_avg(a)*x\n",
    "        plt.scatter(x,y)\n",
    "plt.show()"
   ]
  },
  {
   "cell_type": "markdown",
   "metadata": {},
   "source": [
    "Iteration over rmult"
   ]
  },
  {
   "cell_type": "code",
   "execution_count": 21,
   "metadata": {},
   "outputs": [
    {
     "name": "stdout",
     "output_type": "stream",
     "text": [
      "Run the dataset with rmult 4.0\n",
      "Run the dataset with rmult 5.0\n",
      "Run the dataset with rmult 6.0\n",
      "Run the dataset with rmult 7.0\n",
      "Run the dataset with rmult 8.0\n",
      "Run the dataset with rmult 9.0\n"
     ]
    }
   ],
   "source": [
    "reload(SP)\n",
    "inp = I.Inputfile()\n",
    "inp.set_hgrid(gs.log['dft']['hgrids'])\n",
    "inp.set_xc('LDA')\n",
    "inp.set_wavefunction_convergence(gnrm=1.0e-5)\n",
    "f = 1e-2\n",
    "\n",
    "rmult_list=[[float(i),9.0] for i in range(4,10)]\n",
    "rmult_iter=SP.perform_rmult_iteration(run_dir='alpha',intensity=f,rmult=rmult_list,input=inp,runner=code,posinp=posinp_file,ppf=SP.eval_alpha)"
   ]
  },
  {
   "cell_type": "code",
   "execution_count": 22,
   "metadata": {},
   "outputs": [],
   "source": [
    "#rmult_iter"
   ]
  },
  {
   "cell_type": "code",
   "execution_count": 23,
   "metadata": {},
   "outputs": [
    {
     "data": {
      "image/png": "[encoded data removed]",
      "text/plain": [
       "<Figure size 432x288 with 1 Axes>"
      ]
     },
     "metadata": {},
     "output_type": "display_data"
    }
   ],
   "source": [
    "values = rmult_iter['values']\n",
    "for x in values:\n",
    "    a = rmult_iter['results'][x]\n",
    "    if a is not None:\n",
    "        y = SP.eval_alpha_avg(a)\n",
    "        plt.scatter(x,y)\n",
    "plt.show()"
   ]
  },
  {
   "cell_type": "code",
   "execution_count": null,
   "metadata": {},
   "outputs": [],
   "source": []
  },
  {
   "cell_type": "code",
   "execution_count": null,
   "metadata": {},
   "outputs": [],
   "source": []
  },
  {
   "cell_type": "code",
   "execution_count": null,
   "metadata": {},
   "outputs": [],
   "source": []
  }
 ],
 "metadata": {
  "kernelspec": {
   "display_name": "Python 2",
   "language": "python",
   "name": "python2"
  },
  "language_info": {
   "codemirror_mode": {
    "name": "ipython",
    "version": 2
   },
   "file_extension": ".py",
   "mimetype": "text/x-python",
   "name": "python",
   "nbconvert_exporter": "python",
   "pygments_lexer": "ipython2",
   "version": "2.7.15rc1"
  }
 },
 "nbformat": 4,
 "nbformat_minor": 2
}
