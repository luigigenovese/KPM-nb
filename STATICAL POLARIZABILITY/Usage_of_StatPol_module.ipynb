{
 "cells": [
  {
   "cell_type": "code",
   "execution_count": 1,
   "metadata": {},
   "outputs": [],
   "source": [
    "from BigDFT import Datasets as D, Calculators as C, Inputfiles as I, Logfiles as lf\n",
    "from futile.Utils import write\n",
    "import numpy as np\n",
    "import matplotlib.pyplot as plt\n",
    "import os\n",
    "import sys\n",
    "import StatPol as SP"
   ]
  },
  {
   "cell_type": "markdown",
   "metadata": {},
   "source": [
    "# Analysis of the StatPol module"
   ]
  },
  {
   "cell_type": "markdown",
   "metadata": {},
   "source": [
    "This nb describe the usage of the StaticalPolarizability module that allows us to compute the statical polarizability of a system and to perform convergence analysis w.r.t. the intensity of the static field and the size of the simulation domain"
   ]
  },
  {
   "cell_type": "markdown",
   "metadata": {},
   "source": [
    "We assume that the GS analysis for a set of molecule has been performed. The structure of this working directory consists in a folder for each molecule. Inside each folder there is one logifle (or more if different study varying for instance xc functional or equilibrium position) that contains the result of the GS computation used as input of the present analysis"
   ]
  },
  {
   "cell_type": "markdown",
   "metadata": {},
   "source": [
    "Scan the path folder and build the molecules_database by looking at the directories in the path"
   ]
  },
  {
   "cell_type": "code",
   "execution_count": 2,
   "metadata": {},
   "outputs": [
    {
     "data": {
      "text/plain": [
       "['H20', 'CO']"
      ]
     },
     "execution_count": 2,
     "metadata": {},
     "output_type": "execute_result"
    }
   ],
   "source": [
    "molecules_database = SP.get_molecule_database()\n",
    "molecules_database"
   ]
  },
  {
   "cell_type": "markdown",
   "metadata": {},
   "source": [
    "Define the dictionary that contains the polarizability data of the molecules"
   ]
  },
  {
   "cell_type": "code",
   "execution_count": 3,
   "metadata": {},
   "outputs": [],
   "source": [
    "polTensor_data = {}"
   ]
  },
  {
   "cell_type": "markdown",
   "metadata": {},
   "source": [
    "Choose a molecule to perform the analysis, move the path in the associated folder and get the relevan parameters of the gs analysis"
   ]
  },
  {
   "cell_type": "code",
   "execution_count": 4,
   "metadata": {},
   "outputs": [
    {
     "name": "stdout",
     "output_type": "stream",
     "text": [
      "/home/marco/Data/RICERCA/LINEAR RESPONSE/LR-nb/STATICAL POLARIZABILITY/CO\n"
     ]
    }
   ],
   "source": [
    "molecule = molecules_database[1]\n",
    "%cd $molecule\n",
    "sys.path.insert(0,'../')\n",
    "posinp_file = molecule+'_posinp.xyz'\n",
    "gs = lf.Logfile('log-lda.yaml')"
   ]
  },
  {
   "cell_type": "markdown",
   "metadata": {},
   "source": [
    "## Computation of alpha for a specific choice of the input parameters"
   ]
  },
  {
   "cell_type": "markdown",
   "metadata": {},
   "source": [
    "Build the input file and define the parameters common to all the runs.\n",
    "\n",
    "The values of rmult and of the field intensity will be specified subsequently since a convergence study will be performed on this parameters."
   ]
  },
  {
   "cell_type": "markdown",
   "metadata": {},
   "source": [
    "As a first usage of the module we compute the statical polarizabiltiy tensor for a specific choice of the field intensity and the simulation domain"
   ]
  },
  {
   "cell_type": "code",
   "execution_count": 5,
   "metadata": {},
   "outputs": [
    {
     "data": {
      "text/plain": [
       "{'dft': {'gnrm_cv': 1e-05, 'hgrids': 0.37, 'ixc': 'LDA', 'rmult': [7.0, 9.0]}}"
      ]
     },
     "execution_count": 5,
     "metadata": {},
     "output_type": "execute_result"
    }
   ],
   "source": [
    "fieldInt = 1e-2\n",
    "\n",
    "inp = I.Inputfile()\n",
    "inp.set_hgrid(gs.log['dft']['hgrids'])\n",
    "inp.set_xc('LDA')\n",
    "inp.set_wavefunction_convergence(gnrm=1.0e-5)\n",
    "inp.set_rmult(gs.log['dft']['rmult'])\n",
    "inp"
   ]
  },
  {
   "cell_type": "code",
   "execution_count": 6,
   "metadata": {},
   "outputs": [
    {
     "name": "stdout",
     "output_type": "stream",
     "text": [
      "Initialize a Calculator with OMP_NUM_THREADS=2 and command mpirun -np 4 /home/marco/Applications/BigDFT/binaries/v1.8.3/install/bin/bigdft\n"
     ]
    }
   ],
   "source": [
    "code=C.SystemCalculator(omp=2,mpi_run='mpirun -np 4',skip=True) #,verbose=False"
   ]
  },
  {
   "cell_type": "code",
   "execution_count": 7,
   "metadata": {},
   "outputs": [
    {
     "name": "stdout",
     "output_type": "stream",
     "text": [
      "{'run_dir': 'alpha', 'intensity': 0.01, 'posinp': 'CO_posinp.xyz', 'label': 'alpha_0.01'}\n",
      "{'run_dir': 'alpha', 'input': {'dft': {'ixc': 'LDA', 'gnrm_cv': 1e-05, 'elecfield': [0.01, 0.0, 0.0], 'hgrids': 0.37, 'rmult': [7.0, 9.0]}}, 'intensity': 0.01, 'posinp': 'CO_posinp.xyz', 'label': 'alpha_0.01'}\n"
     ]
    }
   ],
   "source": [
    "reload(SP)\n",
    "a = SP.build_alpha_dataset(intensity=fieldInt,input=inp,runner=code,posinp=posinp_file,ppf=SP.eval_alpha)\n",
    "# display some info on a\n",
    "write(a.global_options())\n",
    "ind = 0\n",
    "write(a.runs[ind])"
   ]
  },
  {
   "cell_type": "code",
   "execution_count": 8,
   "metadata": {},
   "outputs": [
    {
     "name": "stdout",
     "output_type": "stream",
     "text": [
      "Copy the posinp file 'CO_posinp.xyz' into 'alpha'\n",
      "Creating the yaml input file \"alpha/F:0.01,dir:x,rmult:7.0,sign:+.yaml\"\n",
      "Run directory alpha\n",
      "Executing command:  mpirun -np 4 /home/marco/Applications/BigDFT/binaries/v1.8.3/install/bin/bigdft -n F:0.01,dir:x,rmult:7.0,sign:+ -s Yes\n",
      "Copy the posinp file 'CO_posinp.xyz' into 'alpha'\n",
      "Creating the yaml input file \"alpha/F:0.01,dir:y,rmult:7.0,sign:+.yaml\"\n",
      "Run directory alpha\n",
      "Executing command:  mpirun -np 4 /home/marco/Applications/BigDFT/binaries/v1.8.3/install/bin/bigdft -n F:0.01,dir:y,rmult:7.0,sign:+ -s Yes\n",
      "Copy the posinp file 'CO_posinp.xyz' into 'alpha'\n",
      "Creating the yaml input file \"alpha/F:0.01,dir:z,rmult:7.0,sign:+.yaml\"\n",
      "Run directory alpha\n",
      "Executing command:  mpirun -np 4 /home/marco/Applications/BigDFT/binaries/v1.8.3/install/bin/bigdft -n F:0.01,dir:z,rmult:7.0,sign:+ -s Yes\n",
      "Copy the posinp file 'CO_posinp.xyz' into 'alpha'\n",
      "Creating the yaml input file \"alpha/F:0.01,dir:x,rmult:7.0,sign:-.yaml\"\n",
      "Run directory alpha\n",
      "Executing command:  mpirun -np 4 /home/marco/Applications/BigDFT/binaries/v1.8.3/install/bin/bigdft -n F:0.01,dir:x,rmult:7.0,sign:- -s Yes\n",
      "Copy the posinp file 'CO_posinp.xyz' into 'alpha'\n",
      "Creating the yaml input file \"alpha/F:0.01,dir:y,rmult:7.0,sign:-.yaml\"\n",
      "Run directory alpha\n",
      "Executing command:  mpirun -np 4 /home/marco/Applications/BigDFT/binaries/v1.8.3/install/bin/bigdft -n F:0.01,dir:y,rmult:7.0,sign:- -s Yes\n",
      "Copy the posinp file 'CO_posinp.xyz' into 'alpha'\n",
      "Creating the yaml input file \"alpha/F:0.01,dir:z,rmult:7.0,sign:-.yaml\"\n",
      "Run directory alpha\n",
      "Executing command:  mpirun -np 4 /home/marco/Applications/BigDFT/binaries/v1.8.3/install/bin/bigdft -n F:0.01,dir:z,rmult:7.0,sign:- -s Yes\n"
     ]
    },
    {
     "data": {
      "text/plain": [
       "matrix([[ 1.323614e+01, -1.279955e-05, -3.389697e-05],\n",
       "        [-1.279955e-05,  1.323614e+01, -3.389697e-05],\n",
       "        [-1.125000e-04, -1.125000e-04,  1.856809e+01]])"
      ]
     },
     "execution_count": 8,
     "metadata": {},
     "output_type": "execute_result"
    }
   ],
   "source": [
    "alpha = a.run()\n",
    "alpha"
   ]
  },
  {
   "cell_type": "markdown",
   "metadata": {},
   "source": [
    "The verbose option of SystemCalculator can be used to limit the display on terminal"
   ]
  },
  {
   "cell_type": "code",
   "execution_count": 9,
   "metadata": {},
   "outputs": [
    {
     "data": {
      "text/plain": [
       "matrix([[ 1.323614e+01, -1.279955e-05, -3.389697e-05],\n",
       "        [-1.279955e-05,  1.323614e+01, -3.389697e-05],\n",
       "        [-1.125000e-04, -1.125000e-04,  1.856809e+01]])"
      ]
     },
     "execution_count": 9,
     "metadata": {},
     "output_type": "execute_result"
    }
   ],
   "source": [
    "code.update_global_options(verbose=False)\n",
    "alpha = a.run()\n",
    "alpha"
   ]
  },
  {
   "cell_type": "code",
   "execution_count": null,
   "metadata": {},
   "outputs": [],
   "source": []
  },
  {
   "cell_type": "markdown",
   "metadata": {},
   "source": [
    "Attempt for a general convergence function (or class???)\n",
    "\n",
    "Comincio a definire una funzione che prende come input un array con i valori del parametro di convergenza, un array con i tre dataset associati, una label con il nome del parametro e le tolleranze. \n",
    "Che cosa ritorna? Forse conviene un dizionario con i parametri di input, i risultati del run del dataset per tutti i valori, il valore di convergenza e un boleano che dice se la convergenza è raggiunta o no"
   ]
  },
  {
   "cell_type": "code",
   "execution_count": 63,
   "metadata": {},
   "outputs": [],
   "source": [
    "def seek_convergence(at=1e-3,rt=1e-2,**kwargs):\n",
    "    \"\"\"\n",
    "    Perform a convergence procedure by using 3 values of a parameter.\n",
    "    Return a dictionary with the input parameters, the results of all\n",
    "    the computation performed, the value of the convergence parameter and a\n",
    "    boolean that states if the convergence procedure succeeds or not\n",
    "    \n",
    "    Args:\n",
    "        kwargs['label']     : the name of the convergence parameter\n",
    "        kwargs['values']    : the array with the 3 ordered values of the convergence parameter\n",
    "        kwargs['data']      : the array with the dataset buit with kwargs['values']\n",
    "        at,rt               : absolute and relative tol of np.allclose\n",
    "    \"\"\"\n",
    "    label = kwargs['label']\n",
    "    values = kwargs['values']\n",
    "    data = kwargs['data']\n",
    "    results = {}\n",
    "    for ind,v in enumerate(values[:2]):    \n",
    "        print 'Run the dataset with', label, v\n",
    "        results[v] = data[ind].run()\n",
    "    \n",
    "    out = {'label':label,'values':values}\n",
    "    \n",
    "    convergence = np.allclose(results[values[0]],results[values[1]],atol = at, rtol = rt)\n",
    "    if convergence:\n",
    "        write('Convergence achieved for', label ,values[0])\n",
    "        results[values[2]] = None\n",
    "        out['results'] = results\n",
    "        out['converged'] = True\n",
    "        out['converged_value'] = values[0]\n",
    "    else:\n",
    "        write('Convergence for', label,values[0],'failed')\n",
    "        write('Set the value of the parameter to', values[1])\n",
    "        write('')\n",
    "        print 'Run the dataset with', label, values[2]\n",
    "        results[values[2]]=data[2].run()\n",
    "        out['results'] = results\n",
    "        convergence = np.allclose(results[values[1]],results[values[2]],atol = at, rtol = rt)\n",
    "        if convergence:\n",
    "            write('Convergence achieved for', label ,values[1])\n",
    "            out['converged'] = True\n",
    "            out['converged_value'] = values[1]\n",
    "        else:\n",
    "            write('Convergence for', label,values[1],'failed')\n",
    "            write('Return the value associated to',label,values[2],'. Perform further check!!!')\n",
    "            out['converged'] = False\n",
    "            out['converged_value'] = values[2]\n",
    "\n",
    "    return out"
   ]
  },
  {
   "cell_type": "code",
   "execution_count": 66,
   "metadata": {},
   "outputs": [
    {
     "name": "stdout",
     "output_type": "stream",
     "text": [
      "Run the dataset with field_int 0.01\n",
      "Run the dataset with field_int 0.005\n",
      "Convergence achieved for field_int 0.01\n"
     ]
    },
    {
     "data": {
      "text/plain": [
       "{'converged': True,\n",
       " 'converged_value': 0.01,\n",
       " 'label': 'field_int',\n",
       " 'results': {0.001: None,\n",
       "  0.005: matrix([[ 1.3211721e+01, -4.5186718e-04, -2.4358770e-05],\n",
       "          [-4.5186719e-04,  1.3211721e+01, -2.4358770e-05],\n",
       "          [ 1.0600000e-04,  1.0600000e-04,  1.8530906e+01]]),\n",
       "  0.01: matrix([[ 1.323614e+01, -1.279955e-05, -3.389697e-05],\n",
       "          [-1.279955e-05,  1.323614e+01, -3.389697e-05],\n",
       "          [-1.125000e-04, -1.125000e-04,  1.856809e+01]])},\n",
       " 'values': [0.01, 0.005, 0.001]}"
      ]
     },
     "execution_count": 66,
     "metadata": {},
     "output_type": "execute_result"
    }
   ],
   "source": [
    "field_int = [1e-2,5e-3,1e-3]\n",
    "data = []\n",
    "code.update_global_options(verbose=False)\n",
    "for f in field_int:\n",
    "    data.append(SP.build_alpha_dataset(intensity=f,input=inp,runner=code,posinp=posinp_file,ppf=SP.eval_alpha))\n",
    "    \n",
    "r = seek_convergence(rt=1e-2,label='field_int',values=field_int,data=data)\n",
    "r"
   ]
  },
  {
   "cell_type": "markdown",
   "metadata": {},
   "source": [
    "## Convergence analysis w.r.t the intensity of the field"
   ]
  },
  {
   "cell_type": "markdown",
   "metadata": {},
   "source": [
    "Perform a comparison among the alpha computed with different field intensity of 1e-2 and 5e-3 and perform a further computation with a field equal to 1e-3 if the alphas differ more than a given tolerance. The comparison is performed with np.allclose functions that returns true if\n",
    "\n",
    "abs(a-b) < atol + rtol*abs(b)\n",
    "\n",
    "So for small elements that are deeply affected by numerical noise the maximum allowed discrepacy is atol while for the relevan ones the percentage difference is rtol. "
   ]
  },
  {
   "cell_type": "markdown",
   "metadata": {},
   "source": [
    "Define the function that performs the convergence of alpha w.r.t. the intensity of the field"
   ]
  },
  {
   "cell_type": "code",
   "execution_count": 15,
   "metadata": {},
   "outputs": [],
   "source": [
    "def perform_field_convergence(at = 1e-3, rt = 1e-2,**kwargs):\n",
    "    \"\"\"\n",
    "    Perform the corvergence procedure w.r.t. the intensity of the static field to extract the\n",
    "    result of the polarizability tensor. \n",
    "    Return a dictionary with the polarizability tensor, the value of the field at which is\n",
    "    calculated and a boolean variable that states if the convergence procedure succeds or not\n",
    "    \n",
    "    Args:\n",
    "        kwargs['input']     : the input file\n",
    "        kwargs['posinp']    : the posinp\n",
    "        kwargs['ppf']       : the postprocessing function\n",
    "        kwargs['runner']    : the instance of SystemCalculator\n",
    "        at,rt               : absolute and relative tol of np.allclose\n",
    "    \"\"\"\n",
    "    field_int = [1e-2,5e-3,1e-3]\n",
    "    alphas = {}\n",
    "    out = {}\n",
    "    for f in field_int[:2]:\n",
    "        a = build_alpha_dataset(intensity=f,input=kwargs['input'],runner=kwargs['runner'],posinp=kwargs['posinp'],ppf=kwargs['ppf'])\n",
    "        alphas[f] = a.run()\n",
    "    \n",
    "    convergence = np.allclose(alphas[field_int[0]],alphas[field_int[1]],atol = at, rtol = rt)\n",
    "    if convergence:\n",
    "        write('')\n",
    "        write('Convergence achieved for field intensity ',field_int[0])\n",
    "        write('')\n",
    "        out = {'alpha' : alphas[field_int[0]],'F' : field_int[0], 'f_convergence' : True} \n",
    "    else:\n",
    "        write('')\n",
    "        write('Convergence for field intensity ',field_int[0],' failed')\n",
    "        write('Reduce the value of the field')\n",
    "        write('')\n",
    "        a = build_alpha_dataset(intensity=field_int[2],input=kwargs['input'],runner=kwargs['runner'],posinp=kwargs['posinp'],ppf=kwargs['ppf'])\n",
    "        alphas[field_int[2]] = a.run()\n",
    "        convergence = np.allclose(alphas[field_int[1]],alphas[field_int[2]],atol = at, rtol = rt)\n",
    "        if convergence:\n",
    "            write('')\n",
    "            write('Convergence achieved for field intensity ',field_int[1])\n",
    "            write('')\n",
    "            out = {'alpha' : alphas[field_int[1]],'F' : field_int[1], 'f_convergence' : True} \n",
    "        else:\n",
    "            write('')\n",
    "            write('Convergence for field intensity ',field_int[1],' failed')\n",
    "            write('Return the value of alpha associated to ',field_int[2],'. Perform further check!!!')\n",
    "            write('')\n",
    "            out = {'alpha' : alphas[field_int[2]],'F' : field_int[2], 'f_convergence' : False} \n",
    "    return out"
   ]
  },
  {
   "cell_type": "code",
   "execution_count": 16,
   "metadata": {},
   "outputs": [
    {
     "name": "stdout",
     "output_type": "stream",
     "text": [
      "\n",
      "Convergence achieved for field intensity  0.01\n",
      "\n"
     ]
    },
    {
     "data": {
      "text/plain": [
       "{'F': 0.01, 'alpha': matrix([[ 1.323614e+01, -1.279955e-05, -3.389697e-05],\n",
       "         [-1.279955e-05,  1.323614e+01, -3.389697e-05],\n",
       "         [-1.125000e-04, -1.125000e-04,  1.856809e+01]]), 'f_convergence': True}"
      ]
     },
     "execution_count": 16,
     "metadata": {},
     "output_type": "execute_result"
    }
   ],
   "source": [
    "inp.set_rmult(gs.log['dft']['rmult'])\n",
    "out = perform_field_convergence(rt=1e-2,input=inp,runner=code,posinp=posinp_file,ppf=eval_alpha)\n",
    "out"
   ]
  },
  {
   "cell_type": "markdown",
   "metadata": {},
   "source": [
    "The last step of this analysis is the convergence of alpha w.r.t. the size of the box"
   ]
  },
  {
   "cell_type": "code",
   "execution_count": 17,
   "metadata": {},
   "outputs": [],
   "source": [
    "def build_rmult_list(gs):\n",
    "    \"\"\"\n",
    "    Return a set of values of rmult. The set starts at the value of rmult of the gs\n",
    "    calculation and contains 3 values to perform a convergence procedure analogous \n",
    "    to the one performed w.r.t. the field intensity\n",
    "    \"\"\"\n",
    "    \n",
    "    r0 = gs.log['dft']['rmult']\n",
    "    rmult_set = []\n",
    "    for incr in range(3):\n",
    "        rmult_set.append([r0[0]+incr,r0[1]])\n",
    "    return rmult_set\n",
    "\n",
    "def perform_rmult_convergence(gs_log = gs,at = 1e-3, r_rtol = 1e-2,f_rtol = 1e-2,**kwargs):\n",
    "    \"\"\"\n",
    "    Perform the convergence procedure w.r.t. the size of the simulation domain to extract the\n",
    "    result of the polarizability tensor. \n",
    "    Return a dictionary with the value of rmult, the results of the field convergence procedure \n",
    "    and a boolean variable that states if the convergence procedure succedes or not\n",
    "    \n",
    "    Args:\n",
    "        gs_log              : log of the gs calculation\n",
    "        kwargs['input']     : the input file\n",
    "        kwargs['posinp']    : the posinp\n",
    "        kwargs['ppf']       : the postprocessing function\n",
    "        kwargs['runner']    : the instance of SystemCalculator\n",
    "        at                  : absolute tol of np.allclose\n",
    "        f_rtol,r_rtol       : relative tol of np.allclose for f and r convergence\n",
    "    \"\"\"\n",
    "    alphas = {}\n",
    "    out = {}\n",
    "    \n",
    "    print 'r_rtol', r_rtol\n",
    "    print 'f_rtol', f_rtol\n",
    "    \n",
    "    rmult = build_rmult_list(gs)\n",
    "    for r in rmult[:2]:\n",
    "        kwargs['input'].set_rmult(r)\n",
    "        alphas[r[0]]=perform_field_convergence(at,rt=f_rtol,input=kwargs['input'],runner=kwargs['runner'],posinp=kwargs['posinp'],ppf=kwargs['ppf'])\n",
    "    \n",
    "    convergence = np.allclose(alphas[rmult[0][0]]['alpha'],alphas[rmult[1][0]]['alpha'],atol = at, rtol = r_rtol)\n",
    "    if convergence:\n",
    "        write('')\n",
    "        write('Convergence achieved for rmult value : ',rmult[0][0])\n",
    "        write('')\n",
    "        out = {'rmult':rmult[0][0],'r_convergence':True,'results':alphas[rmult[0][0]]}\n",
    "    else:\n",
    "        write('')\n",
    "        write('Convergence for rmult value ',rmult[0][0],' failed')\n",
    "        write('Increase the size of the box')\n",
    "        write('')\n",
    "        kwargs['input'].set_rmult(rmult[2])\n",
    "        alphas[rmult[2][0]]=perform_field_convergence(at,rt=f_rtol,input=kwargs['input'],runner=kwargs['runner'],posinp=kwargs['posinp'],ppf=kwargs['ppf'])\n",
    "        convergence = np.allclose(alphas[rmult[1][0]]['alpha'],alphas[rmult[2][0]]['alpha'],atol = at, rtol = r_rtol)\n",
    "        if convergence:\n",
    "            write('')\n",
    "            write('Convergence achieved for rmult value :  ',rmult[1][0])\n",
    "            write('')\n",
    "            out = {'rmult':rmult[1][0],'r_convergence':True,'results':alphas[rmult[1][0]]}\n",
    "        else:\n",
    "            write('')\n",
    "            write('Convergence for rmult value ',rmult[1][0],' failed')\n",
    "            write('Return the value of alpha associated to rmult ',rmult[2][0],'. Perform further check!!!')\n",
    "            write('')\n",
    "            out = {'rmult':rmult[2][0],'r_convergence':False,'results':alphas[rmult[2][0]]}\n",
    "        \n",
    "    return out"
   ]
  },
  {
   "cell_type": "code",
   "execution_count": 18,
   "metadata": {},
   "outputs": [
    {
     "data": {
      "text/plain": [
       "[[7.0, 9.0], [8.0, 9.0], [9.0, 9.0]]"
      ]
     },
     "execution_count": 18,
     "metadata": {},
     "output_type": "execute_result"
    }
   ],
   "source": [
    "build_rmult_list(gs)"
   ]
  },
  {
   "cell_type": "markdown",
   "metadata": {},
   "source": [
    "So the complete convergence procedure to determine the statical polarizability of a molecule can be performed as follows"
   ]
  },
  {
   "cell_type": "code",
   "execution_count": 19,
   "metadata": {
    "scrolled": false
   },
   "outputs": [
    {
     "name": "stdout",
     "output_type": "stream",
     "text": [
      "r_rtol 0.01\n",
      "f_rtol 0.01\n",
      "\n",
      "Convergence achieved for field intensity  0.01\n",
      "\n",
      "\n",
      "Convergence achieved for field intensity  0.01\n",
      "\n",
      "\n",
      "Convergence achieved for rmult value :  7.0\n",
      "\n"
     ]
    },
    {
     "data": {
      "text/plain": [
       "{'CO': {'r_convergence': True,\n",
       "  'results': {'F': 0.01,\n",
       "   'alpha': matrix([[ 1.323614e+01, -1.279955e-05, -3.389697e-05],\n",
       "           [-1.279955e-05,  1.323614e+01, -3.389697e-05],\n",
       "           [-1.125000e-04, -1.125000e-04,  1.856809e+01]]),\n",
       "   'f_convergence': True},\n",
       "  'rmult': 7.0}}"
      ]
     },
     "execution_count": 19,
     "metadata": {},
     "output_type": "execute_result"
    }
   ],
   "source": [
    "posinp_file = molecule+'_posinp.xyz'\n",
    "gs = lf.Logfile('log-lda.yaml')\n",
    "\n",
    "r_rt = 1e-2 # relative tol for rmult convergence\n",
    "f_rt = 1e-2 # relative tol for fieldInt convergence\n",
    "\n",
    "inp = I.Inputfile()\n",
    "inp.set_hgrid(gs.log['dft']['hgrids'])\n",
    "inp.set_xc('LDA')\n",
    "inp.set_wavefunction_convergence(gnrm=1.0e-5)\n",
    "\n",
    "polTensor_data[molecule] = perform_rmult_convergence(gs_log=gs,r_rtol=r_rt,f_rtol=f_rt,input=inp,runner=code,posinp=posinp_file,ppf=eval_alpha)\n",
    "polTensor_data"
   ]
  },
  {
   "cell_type": "code",
   "execution_count": null,
   "metadata": {},
   "outputs": [],
   "source": []
  },
  {
   "cell_type": "code",
   "execution_count": null,
   "metadata": {},
   "outputs": [],
   "source": []
  },
  {
   "cell_type": "code",
   "execution_count": null,
   "metadata": {},
   "outputs": [],
   "source": []
  },
  {
   "cell_type": "code",
   "execution_count": null,
   "metadata": {},
   "outputs": [],
   "source": []
  }
 ],
 "metadata": {
  "kernelspec": {
   "display_name": "Python 2",
   "language": "python",
   "name": "python2"
  },
  "language_info": {
   "codemirror_mode": {
    "name": "ipython",
    "version": 2
   },
   "file_extension": ".py",
   "mimetype": "text/x-python",
   "name": "python",
   "nbconvert_exporter": "python",
   "pygments_lexer": "ipython2",
   "version": "2.7.15rc1"
  }
 },
 "nbformat": 4,
 "nbformat_minor": 2
}
