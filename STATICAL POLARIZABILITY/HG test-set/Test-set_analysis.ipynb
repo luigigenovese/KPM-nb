{
 "cells": [
  {
   "cell_type": "code",
   "execution_count": 1,
   "metadata": {},
   "outputs": [],
   "source": [
    "from BigDFT import Datasets as D, Calculators as C, Inputfiles as I, Logfiles as lf\n",
    "from BigDFT.Database import Molecules\n",
    "from futile.Utils import write\n",
    "import numpy as np\n",
    "import matplotlib.pyplot as plt\n",
    "import os, sys\n",
    "sys.path.insert(0,'../')\n",
    "import StatPol as SP, workflow as w\n",
    "#import workflow as w"
   ]
  },
  {
   "cell_type": "markdown",
   "metadata": {},
   "source": [
    "# Analysis of the statical polarizability for the HG test-set"
   ]
  },
  {
   "cell_type": "markdown",
   "metadata": {},
   "source": [
    "We convert the workflow defined in the single study analysis nb into a python method and make usage of this tool to compute the statical polarizability for the elements of the HG test-set."
   ]
  },
  {
   "cell_type": "code",
   "execution_count": 2,
   "metadata": {},
   "outputs": [],
   "source": [
    "molecule_set = ['CO','N2','H2O']\n",
    "xc_set = ['lda']\n",
    "psp_set = ['hgh-k']"
   ]
  },
  {
   "cell_type": "code",
   "execution_count": 3,
   "metadata": {},
   "outputs": [
    {
     "data": {
      "text/plain": [
       "'/home/marco/Data/RICERCA/LINEAR RESPONSE/LR-nb/STATICAL POLARIZABILITY/HG test-set'"
      ]
     },
     "execution_count": 3,
     "metadata": {},
     "output_type": "execute_result"
    }
   ],
   "source": [
    "#os.getcwd()\n",
    "#os.chdir('CO')\n",
    "#ps.getcwd()\n",
    "#os.chdir('../')\n",
    "os.getcwd()"
   ]
  },
  {
   "cell_type": "code",
   "execution_count": 4,
   "metadata": {},
   "outputs": [
    {
     "name": "stdout",
     "output_type": "stream",
     "text": [
      "\n",
      "Compute alpha for :  CO lda hgh-k\n",
      "Initialize a Calculator with OMP_NUM_THREADS=2 and command mpirun -np 4 /home/marco/Applications/BigDFT/binaries/v1.8.3/install/bin/bigdft\n",
      "\n",
      "Compute alpha for :  N2 lda hgh-k\n",
      "Initialize a Calculator with OMP_NUM_THREADS=2 and command mpirun -np 4 /home/marco/Applications/BigDFT/binaries/v1.8.3/install/bin/bigdft\n",
      "\n",
      "Compute alpha for :  H2O lda hgh-k\n",
      "Initialize a Calculator with OMP_NUM_THREADS=2 and command mpirun -np 4 /home/marco/Applications/BigDFT/binaries/v1.8.3/install/bin/bigdft\n"
     ]
    }
   ],
   "source": [
    "reload(w)\n",
    "set = {}\n",
    "for molecule in molecule_set:\n",
    "    set[molecule] = {}\n",
    "    for xc in xc_set:\n",
    "        for psp in psp_set:\n",
    "            set[molecule][xc,psp] = w.single_study_workflow(term_verb=False,molecule=molecule,xc=xc,psp=psp)"
   ]
  },
  {
   "cell_type": "code",
   "execution_count": 5,
   "metadata": {},
   "outputs": [
    {
     "data": {
      "text/plain": [
       "{'converged': True,\n",
       " 'converged_value': 6.0,\n",
       " 'label': 'rmult',\n",
       " 'results': {5.0: matrix([[ 1.019865e+01, -4.705500e-05,  1.792800e-03],\n",
       "          [-4.227350e-05,  1.053065e+01,  1.819900e-04],\n",
       "          [ 1.780000e-03,  1.750000e-04,  1.037251e+01]]),\n",
       "  6.0: matrix([[ 1.0567905e+01,  7.8150000e-06,  5.3025300e-04],\n",
       "          [-9.6765000e-06,  1.0619555e+01,  7.6018500e-05],\n",
       "          [ 5.5500000e-04,  9.0000000e-05,  1.0611285e+01]]),\n",
       "  7.0: matrix([[ 1.0662775e+01,  5.9640000e-06,  1.3451335e-04],\n",
       "          [-3.4163500e-06,  1.0639385e+01,  2.5610200e-05],\n",
       "          [ 1.1500000e-04,  2.5000000e-05,  1.0664220e+01]]),\n",
       "  8.0: None,\n",
       "  9.0: None,\n",
       "  10.0: None,\n",
       "  11.0: None},\n",
       " 'values': [5.0, 6.0, 7.0, 8.0, 9.0, 10.0, 11.0]}"
      ]
     },
     "execution_count": 5,
     "metadata": {},
     "output_type": "execute_result"
    }
   ],
   "source": [
    "# extract the relevant quantities from set, e.g\n",
    "set['H2O']['lda','hgh-k']['rmult_conv']"
   ]
  },
  {
   "cell_type": "code",
   "execution_count": null,
   "metadata": {},
   "outputs": [],
   "source": []
  }
 ],
 "metadata": {
  "kernelspec": {
   "display_name": "Python 2",
   "language": "python",
   "name": "python2"
  },
  "language_info": {
   "codemirror_mode": {
    "name": "ipython",
    "version": 2
   },
   "file_extension": ".py",
   "mimetype": "text/x-python",
   "name": "python",
   "nbconvert_exporter": "python",
   "pygments_lexer": "ipython2",
   "version": "2.7.15rc1"
  }
 },
 "nbformat": 4,
 "nbformat_minor": 2
}
