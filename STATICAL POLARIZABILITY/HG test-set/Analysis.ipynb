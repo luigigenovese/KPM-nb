{
 "cells": [
  {
   "cell_type": "code",
   "execution_count": 1,
   "metadata": {},
   "outputs": [],
   "source": [
    "from BigDFT import Datasets as D, Calculators as C, Inputfiles as I, Logfiles as lf\n",
    "from futile.Utils import write\n",
    "import numpy as np\n",
    "import matplotlib.pyplot as plt\n",
    "import os, sys\n",
    "sys.path.insert(0,'../')\n",
    "import StatPol as SP"
   ]
  },
  {
   "cell_type": "markdown",
   "metadata": {},
   "source": [
    "# Statical polarizability for the HG test set"
   ]
  },
  {
   "cell_type": "markdown",
   "metadata": {},
   "source": [
    "Set the molecule type, build the associated folder and move there"
   ]
  },
  {
   "cell_type": "code",
   "execution_count": 2,
   "metadata": {},
   "outputs": [
    {
     "name": "stdout",
     "output_type": "stream",
     "text": [
      "/home/marco/Data/RICERCA/LINEAR RESPONSE/LR-nb/STATICAL POLARIZABILITY/HG test-set/CO\n"
     ]
    }
   ],
   "source": [
    "mol = 'CO'\n",
    "if not os.path.isdir(mol): os.mkdir(mol)\n",
    "%cd $mol"
   ]
  },
  {
   "cell_type": "markdown",
   "metadata": {},
   "source": [
    "Set the study type that is the xc functional and the pseudopotential (psp). Build the associated folder and define the path variable"
   ]
  },
  {
   "cell_type": "code",
   "execution_count": 7,
   "metadata": {},
   "outputs": [
    {
     "data": {
      "text/plain": [
       "'lda,pseudo1'"
      ]
     },
     "execution_count": 7,
     "metadata": {},
     "output_type": "execute_result"
    }
   ],
   "source": [
    "xc = 'lda'\n",
    "psp = 'pseudo1'\n",
    "path=xc+','+psp\n",
    "if not os.path.isdir(path): os.mkdir(path)\n",
    "path"
   ]
  },
  {
   "cell_type": "code",
   "execution_count": 5,
   "metadata": {},
   "outputs": [
    {
     "name": "stdout",
     "output_type": "stream",
     "text": [
      "Warning, line not parsed: \" C 0.0000 0.0000 0.0000\n",
      " 'NoneType' object has no attribute '__getitem__' \"\n",
      "Warning, line not parsed: \" O 0.0000 0.0000 1.1282 'NoneType' object has no attribute '__getitem__' \"\n",
      "{'units': 'angstroem', 'positions': [], 'global monopole': 0.0}\n"
     ]
    }
   ],
   "source": [
    "# attemp to take the posinp from the bigdft database\n",
    "from BigDFT.Database import Molecules\n",
    "CO=Molecules.Molecule(mol)\n",
    "print CO\n",
    "# actually it seems it does not work. Use a standard posinp placed in the mol folder"
   ]
  },
  {
   "cell_type": "code",
   "execution_count": 6,
   "metadata": {},
   "outputs": [
    {
     "name": "stdout",
     "output_type": "stream",
     "text": [
      "Initialize a Calculator with OMP_NUM_THREADS=2 and command mpirun -np 4 /home/marco/Applications/BigDFT/binaries/v1.8.3/install/bin/bigdft\n"
     ]
    }
   ],
   "source": [
    "code=C.SystemCalculator(omp=2,mpi_run='mpirun -np 4',skip=True)"
   ]
  },
  {
   "cell_type": "code",
   "execution_count": 9,
   "metadata": {},
   "outputs": [
    {
     "data": {
      "text/plain": [
       "{'label': 'CO_GS', 'posinp': 'CO_posinp.xyz', 'run_dir': 'lda,pseudo1'}"
      ]
     },
     "execution_count": 9,
     "metadata": {},
     "output_type": "execute_result"
    }
   ],
   "source": [
    "study = D.Dataset(label=mol+'_GS',run_dir=path,posinp='CO_posinp.xyz')\n",
    "study.global_options()"
   ]
  },
  {
   "cell_type": "markdown",
   "metadata": {},
   "source": [
    "Set some global parameters. How do we choose them?"
   ]
  },
  {
   "cell_type": "code",
   "execution_count": 10,
   "metadata": {},
   "outputs": [],
   "source": [
    "wf_convergence=1.0e-5\n",
    "hgrids=0.4\n",
    "rmult_fine=9.0"
   ]
  },
  {
   "cell_type": "code",
   "execution_count": 11,
   "metadata": {},
   "outputs": [
    {
     "data": {
      "text/plain": [
       "{'dft': {'gnrm_cv': 1e-05, 'hgrids': 0.4, 'ixc': 'LDA'}}"
      ]
     },
     "execution_count": 11,
     "metadata": {},
     "output_type": "execute_result"
    }
   ],
   "source": [
    "inp = I.Inputfile()\n",
    "inp.set_hgrid(hgrids)\n",
    "inp.set_xc(xc.upper())\n",
    "inp.set_wavefunction_convergence(wf_convergence)\n",
    "inp"
   ]
  },
  {
   "cell_type": "code",
   "execution_count": 12,
   "metadata": {},
   "outputs": [],
   "source": [
    "rmult_coarse = [5.0,6.0,7.0]"
   ]
  },
  {
   "cell_type": "code",
   "execution_count": 13,
   "metadata": {},
   "outputs": [],
   "source": [
    "for r in rmult_coarse:\n",
    "    inp.set_rmult(coarse=r,fine=rmult_fine)\n",
    "    idd={'rmult':r}\n",
    "    study.append_run(id=idd,runner=code,input=inp)"
   ]
  },
  {
   "cell_type": "code",
   "execution_count": 14,
   "metadata": {},
   "outputs": [
    {
     "name": "stdout",
     "output_type": "stream",
     "text": [
      "Copy the posinp file 'CO_posinp.xyz' into 'lda,pseudo1'\n",
      "Creating the yaml input file \"lda,pseudo1/rmult:5.0.yaml\"\n",
      "Run directory lda,pseudo1\n",
      "Executing command:  mpirun -np 4 /home/marco/Applications/BigDFT/binaries/v1.8.3/install/bin/bigdft -n rmult:5.0 -s Yes\n",
      "Copy the posinp file 'CO_posinp.xyz' into 'lda,pseudo1'\n",
      "Creating the yaml input file \"lda,pseudo1/rmult:6.0.yaml\"\n",
      "Run directory lda,pseudo1\n",
      "Executing command:  mpirun -np 4 /home/marco/Applications/BigDFT/binaries/v1.8.3/install/bin/bigdft -n rmult:6.0 -s Yes\n",
      "Copy the posinp file 'CO_posinp.xyz' into 'lda,pseudo1'\n",
      "Creating the yaml input file \"lda,pseudo1/rmult:7.0.yaml\"\n",
      "Run directory lda,pseudo1\n",
      "Executing command:  mpirun -np 4 /home/marco/Applications/BigDFT/binaries/v1.8.3/install/bin/bigdft -n rmult:7.0 -s Yes\n"
     ]
    },
    {
     "data": {
      "text/plain": [
       "{0: <BigDFT.Logfiles.Logfile instance at 0x7fe85e73d830>,\n",
       " 1: <BigDFT.Logfiles.Logfile instance at 0x7fe82a0d8dd0>,\n",
       " 2: <BigDFT.Logfiles.Logfile instance at 0x7fe82a082710>}"
      ]
     },
     "execution_count": 14,
     "metadata": {},
     "output_type": "execute_result"
    }
   ],
   "source": [
    "study.run()"
   ]
  },
  {
   "cell_type": "code",
   "execution_count": 15,
   "metadata": {},
   "outputs": [],
   "source": [
    "results = study.results"
   ]
  },
  {
   "cell_type": "code",
   "execution_count": 18,
   "metadata": {},
   "outputs": [
    {
     "data": {
      "text/plain": [
       "[BandArray([[-1.0158817 , -0.52294464, -0.40796988, -0.40796978,\n",
       "             -0.34365882]])]"
      ]
     },
     "execution_count": 18,
     "metadata": {},
     "output_type": "execute_result"
    }
   ],
   "source": [
    "results[0].evals"
   ]
  },
  {
   "cell_type": "code",
   "execution_count": null,
   "metadata": {},
   "outputs": [],
   "source": []
  },
  {
   "cell_type": "code",
   "execution_count": null,
   "metadata": {},
   "outputs": [],
   "source": []
  },
  {
   "cell_type": "code",
   "execution_count": null,
   "metadata": {},
   "outputs": [],
   "source": []
  },
  {
   "cell_type": "code",
   "execution_count": null,
   "metadata": {},
   "outputs": [],
   "source": []
  },
  {
   "cell_type": "code",
   "execution_count": null,
   "metadata": {},
   "outputs": [],
   "source": []
  },
  {
   "cell_type": "code",
   "execution_count": null,
   "metadata": {},
   "outputs": [],
   "source": []
  }
 ],
 "metadata": {
  "kernelspec": {
   "display_name": "Python 2",
   "language": "python",
   "name": "python2"
  },
  "language_info": {
   "codemirror_mode": {
    "name": "ipython",
    "version": 2
   },
   "file_extension": ".py",
   "mimetype": "text/x-python",
   "name": "python",
   "nbconvert_exporter": "python",
   "pygments_lexer": "ipython2",
   "version": "2.7.15rc1"
  }
 },
 "nbformat": 4,
 "nbformat_minor": 2
}
