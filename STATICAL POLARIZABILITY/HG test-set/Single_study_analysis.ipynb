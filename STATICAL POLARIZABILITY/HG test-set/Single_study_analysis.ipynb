{
 "cells": [
  {
   "cell_type": "code",
   "execution_count": 1,
   "metadata": {},
   "outputs": [],
   "source": [
    "from BigDFT import Datasets as D, Calculators as C, Inputfiles as I, Logfiles as lf\n",
    "from BigDFT.Database import Molecules\n",
    "from futile.Utils import write\n",
    "import numpy as np\n",
    "import matplotlib.pyplot as plt\n",
    "import os, sys\n",
    "sys.path.insert(0,'../')\n",
    "import StatPol as SP"
   ]
  },
  {
   "cell_type": "markdown",
   "metadata": {},
   "source": [
    "# Analysis of the statical polarizability for a single study of the HG test set"
   ]
  },
  {
   "cell_type": "markdown",
   "metadata": {},
   "source": [
    "Discuss the workflow to compute the statical polarizability of a specific study defined by the molecule type, the xc and the psp"
   ]
  },
  {
   "cell_type": "markdown",
   "metadata": {},
   "source": [
    "Set some global parameters"
   ]
  },
  {
   "cell_type": "code",
   "execution_count": 2,
   "metadata": {},
   "outputs": [],
   "source": [
    "wf_convergence = 1.0e-6\n",
    "hgrids = 0.4 # to be set to 0.3 in the production phase\n",
    "rmult_fine = 9.0"
   ]
  },
  {
   "cell_type": "markdown",
   "metadata": {},
   "source": [
    "Choose the molecule type, build the associated folder and move there"
   ]
  },
  {
   "cell_type": "code",
   "execution_count": 3,
   "metadata": {},
   "outputs": [
    {
     "name": "stdout",
     "output_type": "stream",
     "text": [
      "/home/marco/Data/RICERCA/LINEAR RESPONSE/LR-nb/STATICAL POLARIZABILITY/HG test-set/CO\n"
     ]
    }
   ],
   "source": [
    "#%cd ../\n",
    "molecule = 'CO'\n",
    "if not os.path.isdir(molecule): os.mkdir(molecule)\n",
    "%cd $molecule\n",
    "sys.path.insert(1,'../../')"
   ]
  },
  {
   "cell_type": "markdown",
   "metadata": {},
   "source": [
    "Set the study type that is the xc functional and the pseudopotential (psp). Build the associated folder and define the path variable"
   ]
  },
  {
   "cell_type": "code",
   "execution_count": 4,
   "metadata": {},
   "outputs": [
    {
     "data": {
      "text/plain": [
       "'pbe-hgh-k'"
      ]
     },
     "execution_count": 4,
     "metadata": {},
     "output_type": "execute_result"
    }
   ],
   "source": [
    "xc = 'pbe' #'lda'\n",
    "psp = 'hgh-k'\n",
    "path=xc+'-'+psp\n",
    "if not os.path.isdir(path): os.mkdir(path)\n",
    "path"
   ]
  },
  {
   "cell_type": "markdown",
   "metadata": {},
   "source": [
    "Build a dictionary to collect the results of the analysis"
   ]
  },
  {
   "cell_type": "code",
   "execution_count": 5,
   "metadata": {},
   "outputs": [],
   "source": [
    "study = {}"
   ]
  },
  {
   "cell_type": "code",
   "execution_count": 6,
   "metadata": {},
   "outputs": [
    {
     "name": "stdout",
     "output_type": "stream",
     "text": [
      "{'units': 'angstroem', 'positions': [{'C': [0.0, 0.0, 0.0], 'sym': 'C'}, {'sym': 'O', 'O': [0.0, 0.0, 1.1282]}], 'global monopole': 0.0}\n"
     ]
    }
   ],
   "source": [
    "# read the posinp from the bigdft database\n",
    "posinp=Molecules.Molecule(molecule)\n",
    "print posinp"
   ]
  },
  {
   "cell_type": "code",
   "execution_count": 7,
   "metadata": {},
   "outputs": [
    {
     "name": "stdout",
     "output_type": "stream",
     "text": [
      "Initialize a Calculator with OMP_NUM_THREADS=2 and command mpirun -np 4 /home/marco/Applications/BigDFT/binaries/v1.8.3/install/bin/bigdft\n"
     ]
    }
   ],
   "source": [
    "code=C.SystemCalculator(omp=2,mpi_run='mpirun -np 4',skip=True)"
   ]
  },
  {
   "cell_type": "markdown",
   "metadata": {},
   "source": [
    "Perform a convergence study for the gs. Use the value of the total energy (or the value of the gs dipole) to set the dimension of the box"
   ]
  },
  {
   "cell_type": "code",
   "execution_count": 8,
   "metadata": {},
   "outputs": [
    {
     "name": "stdout",
     "output_type": "stream",
     "text": [
      "Perform the run with rmult 3.0\n",
      "Perform the run with rmult 4.0\n",
      "Convergence for rmult 3.0 failed\n",
      "Perform the run with rmult 5.0\n",
      "Convergence achieved for rmult 4.0\n"
     ]
    },
    {
     "data": {
      "text/plain": [
       "{'gs_conv': {'converged': True,\n",
       "  'converged_value': 4.0,\n",
       "  'label': 'rmult',\n",
       "  'results': {3.0: -21.643196972154243,\n",
       "   4.0: -21.68076000399936,\n",
       "   5.0: -21.6835262676615,\n",
       "   6.0: None,\n",
       "   7.0: None,\n",
       "   8.0: None,\n",
       "   9.0: None,\n",
       "   10.0: None,\n",
       "   11.0: None},\n",
       "  'values': [3.0, 4.0, 5.0, 6.0, 7.0, 8.0, 9.0, 10.0, 11.0]}}"
      ]
     },
     "execution_count": 8,
     "metadata": {},
     "output_type": "execute_result"
    }
   ],
   "source": [
    "reload(SP)\n",
    "rtol=1e-3 #relative tolerance for the gs convergence using the total energy as control quantity\n",
    "\n",
    "inp = I.Inputfile()\n",
    "inp.set_hgrid(hgrids)\n",
    "inp.set_xc(xc.upper())\n",
    "inp.set_wavefunction_convergence(wf_convergence)\n",
    "\n",
    "rmult_coarse = [1.0*i for i in range(3,12)]\n",
    "data = []\n",
    "code.update_global_options(verbose=False)\n",
    "for r in rmult_coarse:\n",
    "    gs_study = D.Dataset(label=molecule+'_GS',run_dir=path,posinp=posinp)\n",
    "    gs_study.set_postprocessing_function(SP.get_energy)\n",
    "    #gs_study.set_postprocessing_function(SP-get_dipole)\n",
    "    inp.set_rmult(coarse=r,fine=rmult_fine)\n",
    "    idd={'rmult':r}\n",
    "    gs_study.append_run(id=idd,runner=code,input=inp)\n",
    "    data.append(gs_study)\n",
    "    \n",
    "study['gs_conv'] = SP.seek_convergence(rt=rtol,label='rmult',values=rmult_coarse,data=data)\n",
    "study"
   ]
  },
  {
   "cell_type": "markdown",
   "metadata": {},
   "source": [
    "It emerges that the convergence performed with the energy is less demanding that the one done with the dipole!"
   ]
  },
  {
   "cell_type": "markdown",
   "metadata": {},
   "source": [
    "From this analysis we extract the converged log of the gs to be used as the starting point for the computation of the statical polarizability"
   ]
  },
  {
   "cell_type": "code",
   "execution_count": 9,
   "metadata": {},
   "outputs": [
    {
     "name": "stdout",
     "output_type": "stream",
     "text": [
      "log-rmult:4.0.yaml\n"
     ]
    }
   ],
   "source": [
    "conv_val = study['gs_conv']['converged_value']\n",
    "gslog = 'log-'+data[rmult_coarse.index(conv_val)].names[0]+'.yaml'\n",
    "print gslog\n",
    "gs = lf.Logfile(path+os.sep+gslog)"
   ]
  },
  {
   "cell_type": "markdown",
   "metadata": {},
   "source": [
    "Convergence flow for the calculation of alpha: take the rmult of the gs convergence. Perform the field convergence with this value of rmult and finally perform the rmult convergence for alpha using the converged value of the field"
   ]
  },
  {
   "cell_type": "code",
   "execution_count": 10,
   "metadata": {},
   "outputs": [
    {
     "name": "stdout",
     "output_type": "stream",
     "text": [
      "{'dft': {'ixc': 'PBE', 'rmult': [4.0, 9.0], 'hgrids': 0.4, 'gnrm_cv': 1e-06}}\n",
      "Perform the run with field_int 0.01\n",
      "Perform the run with field_int 0.005\n",
      "Convergence achieved for field_int 0.01\n",
      "\n",
      "Perform the run with rmult 4.0\n",
      "Perform the run with rmult 5.0\n",
      "Convergence for rmult 4.0 failed\n",
      "Perform the run with rmult 6.0\n",
      "Convergence for rmult 5.0 failed\n",
      "Perform the run with rmult 7.0\n",
      "Convergence achieved for rmult 6.0\n"
     ]
    }
   ],
   "source": [
    "rtol=1e-2 #relative tolerance for the alpha convergence\n",
    "\n",
    "inp = I.Inputfile()\n",
    "inp.set_hgrid(gs.log['dft']['hgrids'])\n",
    "inp.set_xc(xc.upper())\n",
    "inp.set_wavefunction_convergence(gnrm=wf_convergence)\n",
    "inp.set_rmult(gs.log['dft']['rmult'])\n",
    "print inp\n",
    "\n",
    "study['field_conv']=SP.perform_field_convergence(rt=rtol,run_dir=path,input=inp,runner=code,posinp=posinp,ppf=SP.eval_alpha)\n",
    "print ''\n",
    "\n",
    "f=study['field_conv']['converged_value']\n",
    "rmult_list=SP.build_rmult_list(gs)\n",
    "study['rmult_conv']=SP.perform_rmult_convergence(rt=rtol,run_dir=path,intensity=f,rmult=rmult_list,input=inp,runner=code,posinp=posinp,ppf=SP.eval_alpha)"
   ]
  },
  {
   "cell_type": "code",
   "execution_count": 11,
   "metadata": {},
   "outputs": [
    {
     "name": "stdout",
     "output_type": "stream",
     "text": [
      "[[ 1.2511570e+01 -2.8314000e-05 -4.3799000e-05]\n",
      " [-2.8314000e-05  1.2511570e+01 -4.3799000e-05]\n",
      " [-4.6000000e-05 -4.6000000e-05  1.5899891e+01]]\n",
      "13.641010333333332\n"
     ]
    }
   ],
   "source": [
    "r_conv = study['rmult_conv']['converged_value']\n",
    "alpha_final = study['rmult_conv']['results'][r_conv]\n",
    "print alpha_final\n",
    "print SP.eval_alpha_avg(alpha_final)"
   ]
  },
  {
   "cell_type": "code",
   "execution_count": 12,
   "metadata": {},
   "outputs": [
    {
     "data": {
      "text/plain": [
       "{'field_conv': {'converged': True,\n",
       "  'converged_value': 0.01,\n",
       "  'label': 'field_int',\n",
       "  'results': {0.001: None,\n",
       "   0.005: matrix([[ 1.1583312e+01, -4.1900000e-04,  9.4440000e-04],\n",
       "           [-4.1900000e-04,  1.1583312e+01,  9.4440000e-04],\n",
       "           [ 9.7000000e-04,  9.7000000e-04,  1.4620368e+01]]),\n",
       "   0.01: matrix([[ 1.15910800e+01, -4.17000000e-04,  9.21650000e-04],\n",
       "           [-4.17000000e-04,  1.15910800e+01,  9.21650000e-04],\n",
       "           [ 9.25000000e-04,  9.25000000e-04,  1.46287645e+01]])},\n",
       "  'values': [0.01, 0.005, 0.001]},\n",
       " 'gs_conv': {'converged': True,\n",
       "  'converged_value': 4.0,\n",
       "  'label': 'rmult',\n",
       "  'results': {3.0: -21.643196972154243,\n",
       "   4.0: -21.68076000399936,\n",
       "   5.0: -21.6835262676615,\n",
       "   6.0: None,\n",
       "   7.0: None,\n",
       "   8.0: None,\n",
       "   9.0: None,\n",
       "   10.0: None,\n",
       "   11.0: None},\n",
       "  'values': [3.0, 4.0, 5.0, 6.0, 7.0, 8.0, 9.0, 10.0, 11.0]},\n",
       " 'rmult_conv': {'converged': True,\n",
       "  'converged_value': 6.0,\n",
       "  'label': 'rmult',\n",
       "  'results': {4.0: matrix([[ 1.15910800e+01, -4.17000000e-04,  9.21650000e-04],\n",
       "           [-4.17000000e-04,  1.15910800e+01,  9.21650000e-04],\n",
       "           [ 9.25000000e-04,  9.25000000e-04,  1.46287645e+01]]),\n",
       "   5.0: matrix([[ 1.23459450e+01, -1.39465000e-04,  4.22000000e-05],\n",
       "           [-1.39465000e-04,  1.23459450e+01,  4.22000000e-05],\n",
       "           [ 3.25000000e-05,  3.25000000e-05,  1.56408635e+01]]),\n",
       "   6.0: matrix([[ 1.2511570e+01, -2.8314000e-05, -4.3799000e-05],\n",
       "           [-2.8314000e-05,  1.2511570e+01, -4.3799000e-05],\n",
       "           [-4.6000000e-05, -4.6000000e-05,  1.5899891e+01]]),\n",
       "   7.0: matrix([[ 1.25396350e+01, -4.25690000e-06,  4.24600000e-06],\n",
       "           [-4.25690000e-06,  1.25396350e+01,  4.24600000e-06],\n",
       "           [-6.50000000e-06, -6.50000000e-06,  1.59469155e+01]]),\n",
       "   8.0: None,\n",
       "   9.0: None,\n",
       "   10.0: None,\n",
       "   11.0: None},\n",
       "  'values': [4.0, 5.0, 6.0, 7.0, 8.0, 9.0, 10.0, 11.0]}}"
      ]
     },
     "execution_count": 12,
     "metadata": {},
     "output_type": "execute_result"
    }
   ],
   "source": [
    "study"
   ]
  },
  {
   "cell_type": "markdown",
   "metadata": {},
   "source": [
    "This workflow will be translated into a single method to be used at higher level when one is dealing with several studies..."
   ]
  },
  {
   "cell_type": "code",
   "execution_count": null,
   "metadata": {},
   "outputs": [],
   "source": []
  },
  {
   "cell_type": "code",
   "execution_count": null,
   "metadata": {},
   "outputs": [],
   "source": []
  },
  {
   "cell_type": "code",
   "execution_count": null,
   "metadata": {},
   "outputs": [],
   "source": []
  },
  {
   "cell_type": "code",
   "execution_count": null,
   "metadata": {},
   "outputs": [],
   "source": []
  },
  {
   "cell_type": "code",
   "execution_count": null,
   "metadata": {},
   "outputs": [],
   "source": []
  },
  {
   "cell_type": "code",
   "execution_count": null,
   "metadata": {},
   "outputs": [],
   "source": []
  }
 ],
 "metadata": {
  "kernelspec": {
   "display_name": "Python 2",
   "language": "python",
   "name": "python2"
  },
  "language_info": {
   "codemirror_mode": {
    "name": "ipython",
    "version": 2
   },
   "file_extension": ".py",
   "mimetype": "text/x-python",
   "name": "python",
   "nbconvert_exporter": "python",
   "pygments_lexer": "ipython2",
   "version": "2.7.15rc1"
  }
 },
 "nbformat": 4,
 "nbformat_minor": 2
}
