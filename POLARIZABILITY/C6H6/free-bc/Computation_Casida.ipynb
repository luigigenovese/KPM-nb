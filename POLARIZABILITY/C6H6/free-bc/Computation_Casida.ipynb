{
 "cells": [
  {
   "cell_type": "markdown",
   "metadata": {},
   "source": [
    "# Computation of the coupling matrix and transition quantities for $C_6H_6$"
   ]
  },
  {
   "cell_type": "markdown",
   "metadata": {
    "collapsed": true
   },
   "source": [
    "We compute the coupling matrix and transition quantities"
   ]
  },
  {
   "cell_type": "code",
   "execution_count": 1,
   "metadata": {},
   "outputs": [
    {
     "data": {
      "application/javascript": [
       "IPython.notebook.set_autosave_interval(0)"
      ]
     },
     "metadata": {},
     "output_type": "display_data"
    },
    {
     "name": "stdout",
     "output_type": "stream",
     "text": [
      "Autosave disabled\n"
     ]
    }
   ],
   "source": [
    "%autosave 0\n",
    "from BigDFT import Logfiles as lf\n",
    "from futile import Yaml\n",
    "from futile.Utils import write\n",
    "import matplotlib.pyplot as plt\n",
    "import numpy as np\n",
    "import sys\n",
    "sys.path.insert(0,'../../')\n",
    "import Routine as R\n",
    "outputpath = 'linear-response/'\n",
    "#import os # use with docker\n",
    "#os.environ['BIGDFT_ROOT']='/bigdft/bin'"
   ]
  },
  {
   "cell_type": "markdown",
   "metadata": {},
   "source": [
    "Define simulation setup, build default imput file and create link"
   ]
  },
  {
   "cell_type": "code",
   "execution_count": 2,
   "metadata": {},
   "outputs": [],
   "source": [
    "norb=15\n",
    "box={7.0: {'nvirt':220},9.0: {'nvirt':220},10.0: {'nvirt':220}}"
   ]
  },
  {
   "cell_type": "code",
   "execution_count": 3,
   "metadata": {},
   "outputs": [
    {
     "name": "stdout",
     "output_type": "stream",
     "text": [
      "/media/DATA/RICERCA/LINEAR RESPONSE/LR-nb/POLARIZABILITY/C6H6/free-bc/linear-response/log\n",
      "ln: creazione del collegamento simbolico './data-Rmult_9.0' non riuscita: File già esistente\n",
      "/media/DATA/RICERCA/LINEAR RESPONSE/LR-nb/POLARIZABILITY/C6H6/free-bc\n",
      "/media/DATA/RICERCA/LINEAR RESPONSE/LR-nb/POLARIZABILITY/C6H6/free-bc/linear-response/log\n",
      "ln: creazione del collegamento simbolico './data-Rmult_10.0' non riuscita: File già esistente\n",
      "/media/DATA/RICERCA/LINEAR RESPONSE/LR-nb/POLARIZABILITY/C6H6/free-bc\n",
      "/media/DATA/RICERCA/LINEAR RESPONSE/LR-nb/POLARIZABILITY/C6H6/free-bc/linear-response/log\n",
      "ln: creazione del collegamento simbolico './data-Rmult_7.0' non riuscita: File già esistente\n",
      "/media/DATA/RICERCA/LINEAR RESPONSE/LR-nb/POLARIZABILITY/C6H6/free-bc\n"
     ]
    }
   ],
   "source": [
    "inp0 = {'dft' : \n",
    "        {'hgrids': 0.40,\n",
    "         'gnrm_cv' : 1e-8,\n",
    "         'itermax' : 100,\n",
    "         'inputpsiid': 2},\n",
    "        'tddft':{'tddft_approach': 'full'},\n",
    "        'posinp': 'C6H6_posinp.xyz'}\n",
    "Yaml.dump(inp0,outputpath + 'default.yaml')\n",
    "\n",
    "import shutil\n",
    "for rVal in box:\n",
    "    dest='linear-response/log/data-Rmult_'+str(rVal)\n",
    "    #shutil.rmtree(dest) #to be used if present\n",
    "    link='../../virtual-orbitals/log/data-Rmult_'+str(rVal)\n",
    "    %cd linear-response/log/\n",
    "    !ln -s $link .\n",
    "    %cd ../../"
   ]
  },
  {
   "cell_type": "markdown",
   "metadata": {},
   "source": [
    "Run the simulations and read the results"
   ]
  },
  {
   "cell_type": "code",
   "execution_count": 4,
   "metadata": {},
   "outputs": [
    {
     "name": "stdout",
     "output_type": "stream",
     "text": [
      "input written in the file linear-response/Rmult_9.0_numVirt_220.yaml\n",
      "input written in the file linear-response/Rmult_10.0_numVirt_220.yaml\n",
      "input written in the file linear-response/Rmult_7.0_numVirt_220.yaml\n"
     ]
    }
   ],
   "source": [
    "reload(R)\n",
    "for rVal,b in box.iteritems():\n",
    "    R.write_input_for(b['nvirt'],rVal,outputpath)"
   ]
  },
  {
   "cell_type": "code",
   "execution_count": 6,
   "metadata": {},
   "outputs": [],
   "source": [
    "def eval_Casida(box,omp,mpi,outp,skip=True):\n",
    "    from BigDFT import Calculators as C\n",
    "    for rVal in box:\n",
    "        virtMax=box[rVal]['nvirt']\n",
    "        code=C.SystemCalculator(omp=omp,mpi=mpi)\n",
    "        %cd $outp\n",
    "        code.run(name='Rmult_'+str(rVal)+'_numVirt_'+str(virtMax),skip=skip,outdir='./log/')\n",
    "        %cd ../"
   ]
  },
  {
   "cell_type": "code",
   "execution_count": 7,
   "metadata": {
    "scrolled": true
   },
   "outputs": [
    {
     "name": "stdout",
     "output_type": "stream",
     "text": [
      "/media/DATA/RICERCA/LINEAR RESPONSE/LR-nb/POLARIZABILITY/C6H6/free-bc/linear-response\n",
      "Executing command:  mpirun -np 4 $BIGDFT_ROOT/bigdft -n Rmult_9.0_numVirt_220 -d ./log/ -s Yes\n",
      "/media/DATA/RICERCA/LINEAR RESPONSE/LR-nb/POLARIZABILITY/C6H6/free-bc\n",
      "/media/DATA/RICERCA/LINEAR RESPONSE/LR-nb/POLARIZABILITY/C6H6/free-bc/linear-response\n",
      "Executing command:  mpirun -np 4 $BIGDFT_ROOT/bigdft -n Rmult_10.0_numVirt_220 -d ./log/ -s Yes\n",
      "/media/DATA/RICERCA/LINEAR RESPONSE/LR-nb/POLARIZABILITY/C6H6/free-bc\n",
      "/media/DATA/RICERCA/LINEAR RESPONSE/LR-nb/POLARIZABILITY/C6H6/free-bc/linear-response\n",
      "Executing command:  mpirun -np 4 $BIGDFT_ROOT/bigdft -n Rmult_7.0_numVirt_220 -d ./log/ -s Yes\n",
      "/media/DATA/RICERCA/LINEAR RESPONSE/LR-nb/POLARIZABILITY/C6H6/free-bc\n"
     ]
    }
   ],
   "source": [
    "eval_Casida(box,2,4,outputpath)"
   ]
  },
  {
   "cell_type": "code",
   "execution_count": null,
   "metadata": {},
   "outputs": [],
   "source": []
  }
 ],
 "metadata": {
  "kernelspec": {
   "display_name": "Python 2",
   "language": "python",
   "name": "python2"
  },
  "language_info": {
   "codemirror_mode": {
    "name": "ipython",
    "version": 2
   },
   "file_extension": ".py",
   "mimetype": "text/x-python",
   "name": "python",
   "nbconvert_exporter": "python",
   "pygments_lexer": "ipython2",
   "version": "2.7.14"
  }
 },
 "nbformat": 4,
 "nbformat_minor": 2
}
