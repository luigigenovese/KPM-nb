{
 "cells": [
  {
   "cell_type": "markdown",
   "metadata": {},
   "source": [
    "# Analysis of dynamical polarizability of $C_6H_6$ in the linear response formalism"
   ]
  },
  {
   "cell_type": "markdown",
   "metadata": {
    "collapsed": true
   },
   "source": [
    "We analyze the computation of the dynamical polarizabilityi inside the linear response formalism.\n",
    "\n",
    "The aim of this notebook is to:\n",
    "\n",
    "* compute the Casida matrix associated to the highest value of virtual orbitals. \n",
    "* build the matrices associated to a lower number of virtual orbitals (by extracting its elements from the highest one) and discuss the rate of convergence of the statical polarizability to the reference value (formerly computed by including an explicit electric field). \n",
    "* evaluate the dynamical polarizability spectrum and discuss its stability"
   ]
  },
  {
   "cell_type": "code",
   "execution_count": 1,
   "metadata": {},
   "outputs": [
    {
     "data": {
      "application/javascript": [
       "IPython.notebook.set_autosave_interval(0)"
      ]
     },
     "metadata": {},
     "output_type": "display_data"
    },
    {
     "name": "stdout",
     "output_type": "stream",
     "text": [
      "Autosave disabled\n"
     ]
    }
   ],
   "source": [
    "%autosave 0\n",
    "from BigDFT import Logfiles as lf\n",
    "from futile import Yaml\n",
    "from futile.Utils import write\n",
    "import matplotlib.pyplot as plt\n",
    "import numpy as np\n",
    "import sys\n",
    "sys.path.insert(0,'../../')\n",
    "import Routine as R\n",
    "outputpath = 'linear-response/'\n",
    "import os\n",
    "os.environ['BIGDFT_ROOT']='/bigdft/bin'"
   ]
  },
  {
   "cell_type": "markdown",
   "metadata": {},
   "source": [
    "Define simulation setup, build default imput file and create link"
   ]
  },
  {
   "cell_type": "code",
   "execution_count": null,
   "metadata": {},
   "outputs": [],
   "source": [
    "norb=15\n",
    "box={7.0: {'nvirt':220},9.0: {'nvirt':220},10.0: {'nvirt':220}}"
   ]
  },
  {
   "cell_type": "code",
   "execution_count": 4,
   "metadata": {},
   "outputs": [
    {
     "name": "stdout",
     "output_type": "stream",
     "text": [
      "/media/DATA/RICERCA/LINEAR RESPONSE/LR-nb/POLARIZABILITY/C6H6/free-bc/linear-response/log\n",
      "ln: creazione del collegamento simbolico './data-Rmult_9.0' non riuscita: File già esistente\n",
      "/media/DATA/RICERCA/LINEAR RESPONSE/LR-nb/POLARIZABILITY/C6H6/free-bc\n",
      "/media/DATA/RICERCA/LINEAR RESPONSE/LR-nb/POLARIZABILITY/C6H6/free-bc/linear-response/log\n",
      "ln: creazione del collegamento simbolico './data-Rmult_10.0' non riuscita: File già esistente\n",
      "/media/DATA/RICERCA/LINEAR RESPONSE/LR-nb/POLARIZABILITY/C6H6/free-bc\n",
      "/media/DATA/RICERCA/LINEAR RESPONSE/LR-nb/POLARIZABILITY/C6H6/free-bc/linear-response/log\n",
      "ln: creazione del collegamento simbolico './data-Rmult_7.0' non riuscita: File già esistente\n",
      "/media/DATA/RICERCA/LINEAR RESPONSE/LR-nb/POLARIZABILITY/C6H6/free-bc\n"
     ]
    }
   ],
   "source": [
    "inp0 = {'dft' : \n",
    "        {'hgrids': 0.40,\n",
    "         'gnrm_cv' : 1e-8,\n",
    "         'itermax' : 100,\n",
    "         'inputpsiid': 2},\n",
    "        'tddft':{'tddft_approach': 'full'},\n",
    "        'posinp': 'C6H6_posinp.xyz'}\n",
    "Yaml.dump(inp0,outputpath + 'default.yaml')\n",
    "\n",
    "import shutil\n",
    "for rVal in box:\n",
    "    dest='linear-response/log/data-Rmult_'+str(rVal)\n",
    "    #shutil.rmtree(dest) #to be used if present\n",
    "    link='../../virtual-orbitals/log/data-Rmult_'+str(rVal)\n",
    "    %cd linear-response/log/\n",
    "    !ln -s $link .\n",
    "    %cd ../../"
   ]
  },
  {
   "cell_type": "markdown",
   "metadata": {},
   "source": [
    "Run the simulations and read the results"
   ]
  },
  {
   "cell_type": "code",
   "execution_count": 5,
   "metadata": {},
   "outputs": [
    {
     "name": "stdout",
     "output_type": "stream",
     "text": [
      "input written in the file linear-response/Rmult_9.0_numVirt_220.yaml\n",
      "input written in the file linear-response/Rmult_10.0_numVirt_220.yaml\n",
      "input written in the file linear-response/Rmult_7.0_numVirt_220.yaml\n"
     ]
    }
   ],
   "source": [
    "reload(R)\n",
    "for rVal,b in box.iteritems():\n",
    "    R.write_input_for(b['nvirt'],rVal,outputpath)"
   ]
  },
  {
   "cell_type": "code",
   "execution_count": 6,
   "metadata": {},
   "outputs": [],
   "source": [
    "def get_tddft_quantities(box,omp,mpi,outp,skip=True):\n",
    "    from BigDFT import Calculators as C\n",
    "    from futile.Utils import write\n",
    "    for rVal in box:\n",
    "        virtMax=box[rVal]['nvirt']\n",
    "        code=C.SystemCalculator(omp=omp,mpi=mpi)\n",
    "        %cd $outp\n",
    "        code.run(name='Rmult_'+str(rVal)+'_numVirt_'+str(virtMax),skip=skip,outdir='./log/')\n",
    "        dpath = './log/data-'+'Rmult_'+str(rVal)+'/transition_quantities.txt'\n",
    "        trans = np.loadtxt(dpath)\n",
    "        cpath = './log/data-'+'Rmult_'+str(rVal)+'/coupling_matrix.txt'\n",
    "        Cmat = np.loadtxt(cpath)\n",
    "        %cd ../\n",
    "        box[rVal]['C']=Cmat\n",
    "        write('Casida Matrix is symmetric',np.allclose(Cmat,Cmat.T,atol=1.e-12))\n",
    "        box[rVal]['T']=trans"
   ]
  },
  {
   "cell_type": "code",
   "execution_count": 7,
   "metadata": {},
   "outputs": [
    {
     "name": "stdout",
     "output_type": "stream",
     "text": [
      "/media/DATA/RICERCA/LINEAR RESPONSE/LR-nb/POLARIZABILITY/C6H6/free-bc/linear-response\n",
      "Executing command:  mpirun -np 4 $BIGDFT_ROOT/bigdft -n Rmult_9.0_numVirt_220 -d ./log/ -s Yes\n",
      "/media/DATA/RICERCA/LINEAR RESPONSE/LR-nb/POLARIZABILITY/C6H6/free-bc\n",
      "Casida Matrix is symmetric True\n",
      "/media/DATA/RICERCA/LINEAR RESPONSE/LR-nb/POLARIZABILITY/C6H6/free-bc/linear-response\n",
      "Executing command:  mpirun -np 4 $BIGDFT_ROOT/bigdft -n Rmult_10.0_numVirt_220 -d ./log/ -s Yes\n",
      "/media/DATA/RICERCA/LINEAR RESPONSE/LR-nb/POLARIZABILITY/C6H6/free-bc\n",
      "Casida Matrix is symmetric True\n",
      "/media/DATA/RICERCA/LINEAR RESPONSE/LR-nb/POLARIZABILITY/C6H6/free-bc/linear-response\n",
      "Executing command:  mpirun -np 4 $BIGDFT_ROOT/bigdft -n Rmult_7.0_numVirt_220 -d ./log/ -s Yes\n",
      "/media/DATA/RICERCA/LINEAR RESPONSE/LR-nb/POLARIZABILITY/C6H6/free-bc\n",
      "Casida Matrix is symmetric True\n"
     ]
    }
   ],
   "source": [
    "get_tddft_quantities(box,2,4,outputpath)"
   ]
  },
  {
   "cell_type": "code",
   "execution_count": 8,
   "metadata": {},
   "outputs": [],
   "source": [
    "#update with logfile information\n",
    "box[7.0]['logfilex']=lf.Logfile('virtual-orbitals/log/log-CR_Ex_rmult_7.0_numVirt_233.yaml')\n",
    "box[7.0]['logfilez']=lf.Logfile('virtual-orbitals/log/log-CR_Ez_rmult_7.0_numVirt_233.yaml')\n",
    "box[9.0]['logfilex']=lf.Logfile('virtual-orbitals/log/log-CR_Ex_rmult_9.0_numVirt_223.yaml')\n",
    "box[9.0]['logfilez']=lf.Logfile('virtual-orbitals/log/log-CR_Ez_rmult_9.0_numVirt_223.yaml')\n",
    "box[10.0]['logfilex']=lf.Logfile('virtual-orbitals/log/log-CR_Ex_rmult_10.0_numVirt_239.yaml')\n",
    "box[10.0]['logfilez']=lf.Logfile('virtual-orbitals/log/log-CR_Ez_rmult_10.0_numVirt_239.yaml')"
   ]
  },
  {
   "cell_type": "markdown",
   "metadata": {},
   "source": [
    "Define a list of virtual orbitals and the solve the eigenproblems"
   ]
  },
  {
   "cell_type": "code",
   "execution_count": 9,
   "metadata": {},
   "outputs": [
    {
     "data": {
      "text/plain": [
       "['logfilez', 'C', 'logfilex', 'T', 'nvirt']"
      ]
     },
     "execution_count": 9,
     "metadata": {},
     "output_type": "execute_result"
    }
   ],
   "source": [
    "box[7.0].keys()"
   ]
  },
  {
   "cell_type": "code",
   "execution_count": 30,
   "metadata": {},
   "outputs": [
    {
     "name": "stdout",
     "output_type": "stream",
     "text": [
      "Solve for rVal =  9.0\n",
      "Eigensystem solved for 16\n",
      "Eigensystem solved for 64\n",
      "Eigensystem solved for 160\n",
      "Eigensystem solved for 220\n",
      "Solve for rVal =  10.0\n",
      "Eigensystem solved for 16\n",
      "Eigensystem solved for 64\n",
      "Eigensystem solved for 160\n",
      "Eigensystem solved for 220\n",
      "Solve for rVal =  7.0\n",
      "Eigensystem solved for 16\n",
      "Eigensystem solved for 64\n",
      "Eigensystem solved for 160\n",
      "Eigensystem solved for 220\n"
     ]
    }
   ],
   "source": [
    "reload(R)\n",
    "#virtsmall = [16, 32, 48, 64, 80, 96, 112, 128, 160, 224]\n",
    "virtsmall = [16,64,160]\n",
    "for rVal,dict_box in box.iteritems():\n",
    "    print 'Solve for rVal = ', rVal\n",
    "    dict_tmp=R.solveEigenProblems(norb,dict_box,virtsmall+[dict_box['nvirt']])\n",
    "    #dict_tmp=R.solveEigenProblems(norb,dict_box,virtsmall)\n",
    "    dict_box['eigenproblems']=dict_tmp"
   ]
  },
  {
   "cell_type": "code",
   "execution_count": 31,
   "metadata": {},
   "outputs": [
    {
     "data": {
      "text/plain": [
       "['eigenvectors', 'eigenvalues', 'transitions', 'Cmat']"
      ]
     },
     "execution_count": 31,
     "metadata": {},
     "output_type": "execute_result"
    }
   ],
   "source": [
    "box[7.0]['eigenproblems'][16].keys()"
   ]
  },
  {
   "cell_type": "markdown",
   "metadata": {},
   "source": [
    "we gather the quantities relevant for the linear reponse calculation by adding keys to the box[rVal][eigenproblems][nalpha] dictionary"
   ]
  },
  {
   "cell_type": "code",
   "execution_count": 32,
   "metadata": {},
   "outputs": [],
   "source": [
    "reload(R)\n",
    "for rVal in box:\n",
    "    dict_box=box[rVal]\n",
    "    for nalpha in dict_box['eigenproblems']:\n",
    "        dict_casida=dict_box['eigenproblems'][nalpha]\n",
    "        R.gather_excitation_informations(dict_casida)"
   ]
  },
  {
   "cell_type": "code",
   "execution_count": 33,
   "metadata": {},
   "outputs": [
    {
     "data": {
      "text/plain": [
       "['eigenvectors',\n",
       " 'alpha_xyz',\n",
       " 'oscillator_strengths',\n",
       " 'Cmat',\n",
       " 'eigenvalues',\n",
       " 'transitions',\n",
       " 'oscillator_strength_avg']"
      ]
     },
     "execution_count": 33,
     "metadata": {},
     "output_type": "execute_result"
    }
   ],
   "source": [
    "box[7.0]['eigenproblems'][16].keys()"
   ]
  },
  {
   "cell_type": "markdown",
   "metadata": {},
   "source": [
    "### Analysis of the statical polarizability"
   ]
  },
  {
   "cell_type": "markdown",
   "metadata": {},
   "source": [
    "Plot the convergence of the statical polarizability in the various box"
   ]
  },
  {
   "cell_type": "code",
   "execution_count": 34,
   "metadata": {},
   "outputs": [],
   "source": [
    "alpha = {}\n",
    "for rVal in box:\n",
    "    alpha[rVal] = {}\n",
    "    nalpha = box[rVal]['eigenproblems'].keys()\n",
    "    for na in nalpha:\n",
    "        alpha[rVal][na] = box[rVal]['eigenproblems'][na]['alpha_xyz']"
   ]
  },
  {
   "cell_type": "code",
   "execution_count": 36,
   "metadata": {},
   "outputs": [],
   "source": [
    "alphaX_ref = [83.856,83.856,45.620]\n",
    "HaeV=27.21138386"
   ]
  },
  {
   "cell_type": "code",
   "execution_count": 39,
   "metadata": {},
   "outputs": [
    {
     "data": {
      "image/png": "[encoded data removed]",
      "text/plain": [
       "<matplotlib.figure.Figure at 0x7f23dea656d0>"
      ]
     },
     "metadata": {},
     "output_type": "display_data"
    }
   ],
   "source": [
    "%matplotlib inline\n",
    "alpha_ind = 0 #x,y,z\n",
    "for rVal in alpha:\n",
    "    alpha_plot = []\n",
    "    eng = []\n",
    "    nalpha = alpha[rVal].keys()\n",
    "    nalpha.sort()\n",
    "    for na in nalpha:\n",
    "        alpha_plot.append(alpha[rVal][na][alpha_ind])\n",
    "        eng.append(R.get_alpha_energy(box[rVal]['logfilex'],norb,na))\n",
    "    alpha_plot = np.array(alpha_plot)/alphaX_ref[alpha_ind]\n",
    "    eng = np.array(eng)*HaeV\n",
    "    plt.plot(eng,alpha_plot,label='alpha_'+str(alpha_ind)+'-rVal_'+str(rVal))\n",
    "plt.axhline(y=1.0, color='r', linestyle='--')\n",
    "plt.title('Alpha_'+str(alpha_ind))\n",
    "plt.legend(loc='best')\n",
    "plt.xlabel('energy(eV)')\n",
    "#plt.ylim(ymax=1.05)\n",
    "plt.show()"
   ]
  },
  {
   "cell_type": "markdown",
   "metadata": {},
   "source": [
    "### Analysis of the dynamical polarizability"
   ]
  },
  {
   "cell_type": "code",
   "execution_count": 43,
   "metadata": {},
   "outputs": [
    {
     "name": "stdout",
     "output_type": "stream",
     "text": [
      "numpoint =  240  omegaMax (eV) =  32.7395929853\n",
      "numpoint =  228  omegaMax (eV) =  31.0826343534\n",
      "numpoint =  280  omegaMax (eV) =  38.1269227268\n"
     ]
    }
   ],
   "source": [
    "reload(R)\n",
    "sp = {}\n",
    "for rVal in box:\n",
    "    nalpha = box[rVal]['nvirt']\n",
    "    f = box[rVal]['eigenproblems'][nalpha]['oscillator_strength_avg']\n",
    "    e2 = box[rVal]['eigenproblems'][nalpha]['eigenvalues']\n",
    "    sp[rVal] = R.get_spectrum(e2,f)"
   ]
  },
  {
   "cell_type": "code",
   "execution_count": 47,
   "metadata": {},
   "outputs": [
    {
     "data": {
      "image/png": "[encoded data removed]",
      "text/plain": [
       "<matplotlib.figure.Figure at 0x7f23de8b2f50>"
      ]
     },
     "metadata": {},
     "output_type": "display_data"
    }
   ],
   "source": [
    "%matplotlib inline\n",
    "for rVal in sp:\n",
    "    plt.plot(sp[rVal]['omega'],sp[rVal]['imagPart'],label='rVal_'+str(rVal))\n",
    "plt.xlim(xmax=20)\n",
    "plt.legend(loc='best')\n",
    "plt.xlabel('energy(eV)')\n",
    "#plt.title('Absorption spectrum')\n",
    "eps_h = abs(HaeV*R.get_alpha_energy(box[7.0]['logfilex'],norb,0))\n",
    "plt.axvline(x=eps_h, color='black', linestyle='--')\n",
    "plt.show()"
   ]
  },
  {
   "cell_type": "code",
   "execution_count": null,
   "metadata": {},
   "outputs": [],
   "source": []
  },
  {
   "cell_type": "code",
   "execution_count": null,
   "metadata": {},
   "outputs": [],
   "source": []
  },
  {
   "cell_type": "code",
   "execution_count": null,
   "metadata": {},
   "outputs": [],
   "source": []
  },
  {
   "cell_type": "code",
   "execution_count": null,
   "metadata": {
    "collapsed": true
   },
   "outputs": [],
   "source": []
  }
 ],
 "metadata": {
  "kernelspec": {
   "display_name": "Python 2",
   "language": "python",
   "name": "python2"
  },
  "language_info": {
   "codemirror_mode": {
    "name": "ipython",
    "version": 2
   },
   "file_extension": ".py",
   "mimetype": "text/x-python",
   "name": "python",
   "nbconvert_exporter": "python",
   "pygments_lexer": "ipython2",
   "version": "2.7.14"
  }
 },
 "nbformat": 4,
 "nbformat_minor": 2
}
