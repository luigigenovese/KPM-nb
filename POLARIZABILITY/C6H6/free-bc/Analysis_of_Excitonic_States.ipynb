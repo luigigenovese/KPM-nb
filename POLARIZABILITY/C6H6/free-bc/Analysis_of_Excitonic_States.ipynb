{
 "cells": [
  {
   "cell_type": "markdown",
   "metadata": {},
   "source": [
    "# Analysis of excitonic states for $C_6H_6$"
   ]
  },
  {
   "cell_type": "code",
   "execution_count": 1,
   "metadata": {},
   "outputs": [
    {
     "data": {
      "application/javascript": [
       "IPython.notebook.set_autosave_interval(0)"
      ]
     },
     "metadata": {},
     "output_type": "display_data"
    },
    {
     "name": "stdout",
     "output_type": "stream",
     "text": [
      "Autosave disabled\n"
     ]
    }
   ],
   "source": [
    "%autosave 0\n",
    "from BigDFT import Logfiles as lf\n",
    "from BigDFT import Calculators as C\n",
    "from futile import Yaml\n",
    "import matplotlib.pyplot as plt\n",
    "import numpy as np\n",
    "import scipy.fftpack\n",
    "import sys\n",
    "sys.path.insert(0,'../../')\n",
    "import Routine as R\n",
    "outputpath = 'linear-response/'"
   ]
  },
  {
   "cell_type": "markdown",
   "metadata": {},
   "source": [
    "Set up of the main parameters"
   ]
  },
  {
   "cell_type": "code",
   "execution_count": 2,
   "metadata": {},
   "outputs": [],
   "source": [
    "rVal = [7.0, 9.0]\n",
    "virtMax = [235, 239]\n",
    "numOrb = 15 # number of occupied orbitals"
   ]
  },
  {
   "cell_type": "markdown",
   "metadata": {},
   "source": [
    "Read the dipoles and coupling matrix (for a single value of rVal specified by rmultInd)"
   ]
  },
  {
   "cell_type": "code",
   "execution_count": 3,
   "metadata": {},
   "outputs": [
    {
     "name": "stdout",
     "output_type": "stream",
     "text": [
      "Read data for rmult =  9.0\n",
      "Maximum value of virtual orbitals =  239\n",
      "\n",
      "/media/DATA/RICERCA/LINEAR RESPONSE/LR-nb/POLARIZABILITY/C6H6/free-bc/linear-response\n",
      "/media/DATA/RICERCA/LINEAR RESPONSE/LR-nb/POLARIZABILITY/C6H6/free-bc\n"
     ]
    },
    {
     "data": {
      "text/plain": [
       "(7170, 7170)"
      ]
     },
     "execution_count": 3,
     "metadata": {},
     "output_type": "execute_result"
    }
   ],
   "source": [
    "rmultInd = 1\n",
    "print 'Read data for rmult = ', rVal[rmultInd]\n",
    "print 'Maximum value of virtual orbitals = ', virtMax[rmultInd]\n",
    "print ''\n",
    "\n",
    "%cd $outputpath\n",
    "dpath = 'log/TDDFT-Results/transition_dipoles_rmult'+str(rVal[rmultInd])+'_numVirt'+str(virtMax[rmultInd])+'.txt'\n",
    "dipoles = np.loadtxt(dpath)\n",
    "cpath = 'log/TDDFT-Results/coupling_matrix_rmult'+str(rVal[rmultInd])+'_numVirt'+str(virtMax[rmultInd])+'.txt'\n",
    "Cmat = np.loadtxt(cpath)\n",
    "logpath = 'log/log-Rmult_'+str(rVal[rmultInd])+'_numVirt_'+str(virtMax[rmultInd])+'.yaml'\n",
    "log = !ls $logpath\n",
    "Data = lf.Logfile(log[0])\n",
    "%cd ..\n",
    "\n",
    "Cmat.shape"
   ]
  },
  {
   "cell_type": "markdown",
   "metadata": {},
   "source": [
    "## Convergence of the excitation with respect to $n_\\alpha$"
   ]
  },
  {
   "cell_type": "markdown",
   "metadata": {},
   "source": [
    "We define the list nalpha used to analyze the convergence of the excitations with respect to the number of virtual orbitals"
   ]
  },
  {
   "cell_type": "code",
   "execution_count": 4,
   "metadata": {},
   "outputs": [
    {
     "name": "stdout",
     "output_type": "stream",
     "text": [
      "[64, 128, 192, 239]\n",
      "emax =  12.0990705409 eV\n"
     ]
    }
   ],
   "source": [
    "nalpha = [64,128,192,virtMax[rmultInd]] #rVal = 7.0 and 9.0\n",
    "#nalpha = [virtMax[rmultInd]] # single nalpha analysis\n",
    "print nalpha\n",
    "print 'emax = ', R.engMax(Data,numOrb,virtMax[rmultInd]), 'eV'"
   ]
  },
  {
   "cell_type": "markdown",
   "metadata": {},
   "source": [
    "We solve the eigenproblems"
   ]
  },
  {
   "cell_type": "code",
   "execution_count": 5,
   "metadata": {},
   "outputs": [
    {
     "name": "stdout",
     "output_type": "stream",
     "text": [
      "(1920, 1920)\n",
      "(3840, 3840)\n",
      "(5760, 5760)\n",
      "(7170, 7170)\n"
     ]
    }
   ],
   "source": [
    "reload(R)\n",
    "eigenproblems = R.solveEigenProblems(numOrb,virtMax[rmultInd],Cmat,dipoles,nalpha)"
   ]
  },
  {
   "cell_type": "markdown",
   "metadata": {},
   "source": [
    "We build the dictionary with the first excitations (for each na) and remove the degeneracies"
   ]
  },
  {
   "cell_type": "code",
   "execution_count": 6,
   "metadata": {},
   "outputs": [],
   "source": [
    "reload(R)\n",
    "exc = [i for i in range(1,100)]\n",
    "excitations = R.buildExcitations(numOrb,nalpha,exc,eigenproblems)\n",
    "#excitations = R.removeDegenarices(excitations)"
   ]
  },
  {
   "cell_type": "markdown",
   "metadata": {},
   "source": [
    "The list allTr contains the labels of the transitions considered (the procedure consider only the transitions that appears for all the values of nalpha). The list is sorted with increasing energy (for each transition it consider the energy of the highest na)."
   ]
  },
  {
   "cell_type": "code",
   "execution_count": 7,
   "metadata": {},
   "outputs": [
    {
     "name": "stdout",
     "output_type": "stream",
     "text": [
      "[64, 128, 192, 239]\n",
      "Number of transition 93\n",
      "['14,15to1,2-0', '14,15to1,2-1', '14,15to1,2-2', '14,15to1,2-3', '14,15to1,2-4', '15to3-0', '14to3-0', '15to3-1', '14to3-1', '14,15to1,2-5', '14,15to4,5-0', '14,15to4,5-1', '14,15to4,5-2', '14,15to4,5-3', '14,15to4,5-4', '14,15to4,5-5', '14,15to4,5-6', '14,15to4,5-7', '12,13to1,2-0', '12,13to1,2-1', '12,13to1,2-2', '12,13to1,2-3', '14,15to1,2,6-0', '14,15to1,2,6-1', '12,13to1,2-4', '12,13to1,2-5', '12,13to1,2-6', '15to6-0', '14to6-0', '12,13to1,2-7', '14,15to7,8-0', '14,15to7,8-1', '14,15to7,8-2', '14,15to7,8-3', '14,15to7,8-4', '14,15to7,8-5', '14,15to7,8-6', '14,15to7,8-7', '15to9-0', '14to9-0', '15to9-1', '14to9-1', '14,15to10,11-0', '14,15to10,11-1', '14,15to10,11-2', '14,15to10,11-3', '14,15to10,11-4', '14,15to10,11-5', '14,15to10,11-6', '14,15to10,11-7', '13to3-0', '12to3-0', '13to3-1', '12to3-1', '15to12-0', '14to12-0', '15to12-1', '14to12-1', '15to13-0', '14to13-0', '15to13-1', '14to13-1', '15to14-0', '14to14-0', '15to14-1', '14to14-1', '11,14to1,22-0', '11,15to2,22-0', '12,13to4,5-0', '12,13to4,5-1', '12,13to4,5-2', '12,13to4,5-3', '12,13to4,5-4', '12,13to4,5-5', '15to22-0', '14to22-0', '14,15to15,16-0', '14,15to15,16-1', '14,15to15,16-2', '14,15to15,16-3', '14,15to15,16-4', '14,15to15,16-5', '14,15to15,16-6', '14,15to15,16-7', '14,15to17,18-0', '14,15to17,18-1', '14,15to17,18-2', '14,15to17,18-3', '14,15to17,18-4', '14,15to17,18-5', '14,15to17,18,19-0', '14,15to17,18,19-1', '9,10to1,2-0']\n"
     ]
    }
   ],
   "source": [
    "reload(R)\n",
    "allTr = R.allTransitions(excitations)\n",
    "print 'Number of transition', len(allTr)\n",
    "print allTr"
   ]
  },
  {
   "cell_type": "markdown",
   "metadata": {},
   "source": [
    "We remove the transitions that are not in allTr from excitations"
   ]
  },
  {
   "cell_type": "code",
   "execution_count": 8,
   "metadata": {
    "scrolled": false
   },
   "outputs": [
    {
     "name": "stdout",
     "output_type": "stream",
     "text": [
      "na =  64  - number of transitions 99\n",
      "na =  128  - number of transitions 99\n",
      "na =  192  - number of transitions 99\n",
      "na =  239  - number of transitions 99\n"
     ]
    }
   ],
   "source": [
    "for na in nalpha:\n",
    "    transitions = excitations[na].keys()\n",
    "    for tr in transitions:\n",
    "        if tr not in allTr:\n",
    "            del excitations[na][tr]\n",
    "    print 'na = ', na,' - number of transitions', len(transitions)"
   ]
  },
  {
   "cell_type": "markdown",
   "metadata": {},
   "source": [
    "We add the key oscillator strenght"
   ]
  },
  {
   "cell_type": "code",
   "execution_count": 9,
   "metadata": {},
   "outputs": [],
   "source": [
    "fAvg = R.evalOscStrenghtAvg(eigenproblems)\n",
    "for na,e in excitations.iteritems():\n",
    "    for tr in e:\n",
    "        level = excitations[na][tr]['level']\n",
    "        os = 0.0\n",
    "        for l in range(len(level)):\n",
    "            os+=fAvg[na][l-1]\n",
    "        e[tr]['oscillatorStrenght'] = os"
   ]
  },
  {
   "cell_type": "markdown",
   "metadata": {},
   "source": [
    "Display the energy of the lower excitations ($E_{homo}$ for $C_6H_6$ is 6.51 eV)"
   ]
  },
  {
   "cell_type": "code",
   "execution_count": 10,
   "metadata": {},
   "outputs": [
    {
     "name": "stdout",
     "output_type": "stream",
     "text": [
      "14,15to1,2-0 4.31336918688\n",
      "14,15to1,2-1 4.68390140605\n",
      "14,15to1,2-2 4.68394937228\n",
      "14,15to1,2-3 4.96399286364\n",
      "14,15to1,2-4 5.25292922007\n",
      "15to3-0 6.00600576845\n",
      "14to3-0 6.00619912944\n",
      "15to3-1 6.02884987555\n",
      "14to3-1 6.02905700391\n",
      "14,15to1,2-5 6.11680831262\n",
      "14,15to4,5-0 6.56798753961\n",
      "14,15to4,5-1 6.59109194473\n",
      "14,15to4,5-2 6.59111206512\n",
      "14,15to4,5-3 6.59391707857\n",
      "14,15to4,5-4 6.59392876136\n",
      "14,15to4,5-5 6.59846853092\n",
      "14,15to4,5-6 6.61330022345\n",
      "14,15to4,5-7 6.61345155191\n",
      "12,13to1,2-0 6.72009161642\n",
      "12,13to1,2-1 6.73924757652\n",
      "12,13to1,2-2 6.73932383281\n",
      "12,13to1,2-3 6.76120213508\n",
      "14,15to1,2,6-0 6.83174129695\n",
      "14,15to1,2,6-1 6.83191953054\n",
      "12,13to1,2-4 6.88008659882\n",
      "12,13to1,2-5 6.99220902384\n",
      "12,13to1,2-6 6.99226537287\n",
      "15to6-0 6.99831921959\n",
      "14to6-0 6.99851899257\n",
      "12,13to1,2-7 7.02474949911\n",
      "14,15to7,8-0 7.19290263906\n",
      "14,15to7,8-1 7.20237380696\n",
      "14,15to7,8-2 7.2023851253\n",
      "14,15to7,8-3 7.2032691092\n",
      "14,15to7,8-4 7.21227310982\n",
      "14,15to7,8-5 7.21716878693\n",
      "14,15to7,8-6 7.21719162022\n",
      "14,15to7,8-7 7.23296601652\n",
      "15to9-0 7.26042796363\n",
      "14to9-0 7.26060780037\n",
      "15to9-1 7.31693797575\n",
      "14to9-1 7.31715835016\n",
      "14,15to10,11-0 7.65534420347\n",
      "14,15to10,11-1 7.66755212719\n",
      "14,15to10,11-2 7.66756961434\n",
      "14,15to10,11-3 7.68818074617\n",
      "14,15to10,11-4 7.68820071283\n",
      "14,15to10,11-5 7.70226298026\n",
      "14,15to10,11-6 7.70226869418\n",
      "14,15to10,11-7 7.72317027597\n",
      "13to3-0 7.76396422952\n",
      "12to3-0 7.76589224995\n",
      "13to3-1 7.8550786839\n",
      "12to3-1 7.85697491742\n",
      "15to12-0 8.06228306657\n",
      "14to12-0 8.06242854384\n",
      "15to12-1 8.07569791945\n",
      "14to12-1 8.07591206861\n",
      "15to13-0 8.14783603551\n",
      "14to13-0 8.14805365061\n",
      "15to13-1 8.15474787499\n",
      "14to13-1 8.15495969836\n",
      "15to14-0 8.21255780892\n",
      "14to14-0 8.21275876017\n",
      "15to14-1 8.23717389825\n",
      "14to14-1 8.2373689696\n",
      "11,14to1,22-0 8.25186587739\n",
      "11,15to2,22-0 8.25189639822\n",
      "12,13to4,5-0 8.32151630011\n",
      "12,13to4,5-1 8.3501481687\n",
      "12,13to4,5-2 8.35025941531\n",
      "12,13to4,5-3 8.37993507552\n",
      "12,13to4,5-4 8.40508128936\n",
      "12,13to4,5-5 8.40545726651\n",
      "15to22-0 8.52988007506\n",
      "14to22-0 8.53008130303\n",
      "14,15to15,16-0 8.53726144067\n",
      "14,15to15,16-1 8.54150304585\n",
      "14,15to15,16-2 8.54157238405\n",
      "14,15to15,16-3 8.55870148892\n",
      "14,15to15,16-4 8.558729352\n",
      "14,15to15,16-5 8.5595378293\n",
      "14,15to15,16-6 8.57553561867\n",
      "14,15to15,16-7 8.57561331059\n",
      "14,15to17,18-0 8.57661261862\n",
      "14,15to17,18-1 8.58005675203\n",
      "14,15to17,18-2 8.58654980667\n",
      "14,15to17,18-3 8.58667824407\n",
      "14,15to17,18-4 8.59649810436\n",
      "14,15to17,18-5 8.6172206461\n",
      "14,15to17,18,19-0 8.6298221381\n",
      "14,15to17,18,19-1 8.62991157252\n",
      "9,10to1,2-0 8.67118524366\n"
     ]
    }
   ],
   "source": [
    "for a in allTr[0:99]:\n",
    "    print a, excitations[virtMax[rmultInd]][a]['energy']"
   ]
  },
  {
   "cell_type": "markdown",
   "metadata": {},
   "source": [
    "We define a routine to plot the energy of the excitations (specified in the list using the level of the excitations) in function of the number of virtual orbitals. "
   ]
  },
  {
   "cell_type": "code",
   "execution_count": 11,
   "metadata": {},
   "outputs": [
    {
     "data": {
      "image/png": "[encoded data removed]",
      "text/plain": [
       "<matplotlib.figure.Figure at 0x7fe78e147610>"
      ]
     },
     "metadata": {},
     "output_type": "display_data"
    }
   ],
   "source": [
    "%matplotlib inline\n",
    "reload(R)\n",
    "selTr = [6,7,8,9] #the routine count 2 times the degenerate excitations\n",
    "#selTr = [28,29,30]\n",
    "R.pltTrLevel(selTr,excitations,Data,numOrb,True)"
   ]
  },
  {
   "cell_type": "markdown",
   "metadata": {},
   "source": [
    "Transitions energies can be also plotted specifying the values of the transition labels"
   ]
  },
  {
   "cell_type": "code",
   "execution_count": 12,
   "metadata": {},
   "outputs": [
    {
     "data": {
      "image/png": "[encoded data removed]",
      "text/plain": [
       "<matplotlib.figure.Figure at 0x7fe7c054f2d0>"
      ]
     },
     "metadata": {},
     "output_type": "display_data"
    }
   ],
   "source": [
    "reload(R)\n",
    "selLab = ['14,15to1,2-5','15to3-0','15to3-1']\n",
    "R.pltTrLabel(selLab,excitations,Data,numOrb,True)"
   ]
  },
  {
   "cell_type": "markdown",
   "metadata": {},
   "source": [
    "COMMENT:\n",
    " * Transition '14,15to1,2-5' has a strong dependence on the nalpha and at 12 eV realizes a crossover with respect to the other excitations. The crossover is only visible at rmult = 7 since at rmult = 9 the maximum accessible energy is not sufficient.\n",
    " * The less clear behavior is due to the excitations 15to3-0 and 1, that are stable with respect to nalpha but seems to have an energy which is different (of about 0.1) for rmult 7 and 9..."
   ]
  },
  {
   "cell_type": "markdown",
   "metadata": {},
   "source": [
    "Save the excitation dictionary on a file for a further compared analysis in other notebook"
   ]
  },
  {
   "cell_type": "code",
   "execution_count": 13,
   "metadata": {},
   "outputs": [],
   "source": [
    "excList = {}\n",
    "for na,e in excitations.iteritems():\n",
    "    val = {}\n",
    "    for tr,v in e.iteritems():\n",
    "        val[tr] = {'weightP' : v['weightP'].tolist(),'weightAlpha' : v['weightAlpha'].tolist(),'level' : v['level'], 'energy' : v['energy'].tolist(), 'oscillatorStrenght' : v['oscillatorStrenght'].tolist()}\n",
    "    excList[na] = val"
   ]
  },
  {
   "cell_type": "code",
   "execution_count": 14,
   "metadata": {},
   "outputs": [
    {
     "name": "stdout",
     "output_type": "stream",
     "text": [
      "Save data for rmult =  9.0\n",
      "Maximum value of virtual orbitals =  239\n",
      "\n",
      "linear-response/log/excitations_rmult_9.0.yaml\n"
     ]
    }
   ],
   "source": [
    "print 'Save data for rmult = ', rVal[rmultInd]\n",
    "print 'Maximum value of virtual orbitals = ', virtMax[rmultInd]\n",
    "print ''\n",
    "\n",
    "filename = outputpath+'log/excitations_rmult_'+str(rVal[rmultInd])+'.yaml'\n",
    "#filename = outputpath+'log/excitations_singlena_rmult_'+str(rVal[rmultInd])+'.yaml' # for the single na analysis\n",
    "print filename\n",
    "Yaml.dump(excList,filename)"
   ]
  },
  {
   "cell_type": "code",
   "execution_count": null,
   "metadata": {},
   "outputs": [],
   "source": []
  },
  {
   "cell_type": "code",
   "execution_count": null,
   "metadata": {},
   "outputs": [],
   "source": []
  },
  {
   "cell_type": "code",
   "execution_count": null,
   "metadata": {},
   "outputs": [],
   "source": []
  },
  {
   "cell_type": "code",
   "execution_count": null,
   "metadata": {},
   "outputs": [],
   "source": []
  },
  {
   "cell_type": "code",
   "execution_count": null,
   "metadata": {},
   "outputs": [],
   "source": []
  },
  {
   "cell_type": "code",
   "execution_count": null,
   "metadata": {},
   "outputs": [],
   "source": []
  },
  {
   "cell_type": "code",
   "execution_count": null,
   "metadata": {},
   "outputs": [],
   "source": []
  },
  {
   "cell_type": "code",
   "execution_count": null,
   "metadata": {},
   "outputs": [],
   "source": []
  },
  {
   "cell_type": "code",
   "execution_count": null,
   "metadata": {},
   "outputs": [],
   "source": []
  },
  {
   "cell_type": "code",
   "execution_count": null,
   "metadata": {},
   "outputs": [],
   "source": []
  }
 ],
 "metadata": {
  "kernelspec": {
   "display_name": "Python 2",
   "language": "python",
   "name": "python2"
  },
  "language_info": {
   "codemirror_mode": {
    "name": "ipython",
    "version": 2
   },
   "file_extension": ".py",
   "mimetype": "text/x-python",
   "name": "python",
   "nbconvert_exporter": "python",
   "pygments_lexer": "ipython2",
   "version": "2.7.14"
  }
 },
 "nbformat": 4,
 "nbformat_minor": 2
}
