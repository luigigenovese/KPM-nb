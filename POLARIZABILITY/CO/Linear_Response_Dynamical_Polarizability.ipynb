{
 "cells": [
  {
   "cell_type": "markdown",
   "metadata": {},
   "source": [
    "# Analysis of dynamical polarizability of $CO$ in the linear response formalism"
   ]
  },
  {
   "cell_type": "markdown",
   "metadata": {
    "collapsed": true
   },
   "source": [
    "We analyze the computation of the dynamical polarizabilityi inside the linear response formalism.\n",
    "\n",
    "The aim of this notebook is to:\n",
    "\n",
    "* compute the Casida matrix associated to the highest value of virtual orbitals. \n",
    "* build the matrices associated to a lower number of virtual orbitals (by extracting its elements from the highest one) and discuss the rate of convergence of the statical polarizability to the reference value (formerly computed by including an explicit electric field). \n",
    "* evaluate the dynamical polarizability spectrum and discuss its stability in function of the number of virtual orbitals considered.  "
   ]
  },
  {
   "cell_type": "code",
   "execution_count": 1,
   "metadata": {},
   "outputs": [
    {
     "data": {
      "application/javascript": [
       "IPython.notebook.set_autosave_interval(0)"
      ]
     },
     "metadata": {},
     "output_type": "display_data"
    },
    {
     "name": "stdout",
     "output_type": "stream",
     "text": [
      "Autosave disabled\n"
     ]
    }
   ],
   "source": [
    "%autosave 0\n",
    "from BigDFT import Logfiles as lf\n",
    "from BigDFT import Calculators as C\n",
    "from futile import Yaml\n",
    "import matplotlib.pyplot as plt\n",
    "import numpy as np\n",
    "import scipy.fftpack\n",
    "import sys\n",
    "sys.path.insert(0,'../')\n",
    "import Routine as R\n",
    "outputpath = 'linear-response/'"
   ]
  },
  {
   "cell_type": "markdown",
   "metadata": {},
   "source": [
    "First of all we compute the coupling matrix"
   ]
  },
  {
   "cell_type": "code",
   "execution_count": 2,
   "metadata": {
    "collapsed": true
   },
   "outputs": [],
   "source": [
    "inp0 = {'dft' : \n",
    "        {'hgrids': 0.37,\n",
    "         'gnrm_cv' : 1e-8,\n",
    "         'itermax' : 100,\n",
    "         'inputpsiid': 2},\n",
    "        'tddft':{'tddft_approach': 'full'},\n",
    "        'posinp': 'CO_posinp.xyz'}\n",
    "Yaml.dump(inp0,outputpath + 'default.yaml')"
   ]
  },
  {
   "cell_type": "code",
   "execution_count": 3,
   "metadata": {
    "collapsed": true
   },
   "outputs": [],
   "source": [
    "virtMax = 256 #deve diventare 282\n",
    "rVal = 7.0"
   ]
  },
  {
   "cell_type": "code",
   "execution_count": 4,
   "metadata": {
    "collapsed": true
   },
   "outputs": [],
   "source": [
    "inp={'dft':\n",
    "     {'rmult': [rVal, 9.0],\n",
    "      'itermax_virt' : 1},\n",
    "     'output': {\n",
    "      'orbitals' : 'No',\n",
    "      'verbosity' : 3}, \n",
    "     'radical': 'Rmult_7.0'}\n",
    "\n",
    "inp['dft']['norbv'] = -virtMax\n",
    "inpname = 'NumVirt_'+str(virtMax)\n",
    "Yaml.dump(inp,outputpath + inpname + '.yaml')"
   ]
  },
  {
   "cell_type": "markdown",
   "metadata": {},
   "source": [
    "We execute the input file and copy the coupling matrix and transition dipoles in the \"TDDFT-Results\" folder with the name coupling_matrix_n and transition_dipoles_n"
   ]
  },
  {
   "cell_type": "code",
   "execution_count": 5,
   "metadata": {},
   "outputs": [
    {
     "name": "stdout",
     "output_type": "stream",
     "text": [
      "/media/DATA/RICERCA/LINEAR RESPONSE/LR-nb/POLARIZABILITY/CO/linear-response\n",
      "Executing command:  mpirun -np 6 $BIGDFT_ROOT/bigdft -n NumVirt_256 -d ./log/ -s Yes\n",
      "/media/DATA/RICERCA/LINEAR RESPONSE/LR-nb/POLARIZABILITY/CO\n"
     ]
    }
   ],
   "source": [
    "code=C.SystemCalculator(omp=1,mpi=6)\n",
    "%cd $outputpath\n",
    "code.run(name='NumVirt_'+str(virtMax),skip=True,outdir='./log/')\n",
    "%cd ../"
   ]
  },
  {
   "cell_type": "markdown",
   "metadata": {},
   "source": [
    "Read the dipoles and coupling matrix"
   ]
  },
  {
   "cell_type": "code",
   "execution_count": 6,
   "metadata": {},
   "outputs": [
    {
     "name": "stdout",
     "output_type": "stream",
     "text": [
      "/media/DATA/RICERCA/LINEAR RESPONSE/LR-nb/POLARIZABILITY/CO/linear-response\n",
      "/media/DATA/RICERCA/LINEAR RESPONSE/LR-nb/POLARIZABILITY/CO\n"
     ]
    }
   ],
   "source": [
    "%cd $outputpath\n",
    "dpath = 'log/TDDFT-Results/transition_dipoles_256.txt'\n",
    "dipoles = np.loadtxt(dpath)\n",
    "cpath = 'log/TDDFT-Results/coupling_matrix_256.txt'\n",
    "C = np.loadtxt(cpath)\n",
    "%cd .."
   ]
  },
  {
   "cell_type": "markdown",
   "metadata": {},
   "source": [
    "We observe that $C$ is a symmetric matrix"
   ]
  },
  {
   "cell_type": "code",
   "execution_count": 7,
   "metadata": {},
   "outputs": [
    {
     "data": {
      "text/plain": [
       "True"
      ]
     },
     "execution_count": 7,
     "metadata": {},
     "output_type": "execute_result"
    }
   ],
   "source": [
    "np.allclose(C,C.T,atol=1.e-12)"
   ]
  },
  {
   "cell_type": "markdown",
   "metadata": {},
   "source": [
    "### Analysis of the statical polarizability"
   ]
  },
  {
   "cell_type": "markdown",
   "metadata": {},
   "source": [
    "We discuss the convergence of the static polarizability to its reference value obtained with the explicit electric field.\n",
    "We make use of the \"extract_subset\" routine to build coupling matrix and dipoles corresponding to a given set of virtual orbitals."
   ]
  },
  {
   "cell_type": "code",
   "execution_count": 8,
   "metadata": {},
   "outputs": [
    {
     "name": "stdout",
     "output_type": "stream",
     "text": [
      "[9.5966645530539481, 11.355838900756142, 11.544540364021046, 11.919063395297487, 12.611191700260182, 12.628648206990444, 12.717038493642814, 12.717065118132984, 12.853274473457789, 12.874311305584321, 13.047648108641637, 13.070581476413089, 13.080665372818908]\n",
      "[9.5966645530537971, 11.355838900756147, 11.54454036402103, 11.919063395297469, 12.611191700260177, 12.628648206990416, 12.717038493642702, 12.717065118132853, 12.853274473457796, 12.874311305584319, 13.047648108641605, 13.070581476413077, 13.080665372818816]\n",
      "[12.875602242123769, 15.004124358518437, 16.259128284170664, 16.669204329083382, 16.955380307903777, 17.046156081643961, 17.366269886233937, 17.366302395770784, 17.707387334924515, 17.714873175657008, 18.018202850459087, 18.040745654207374, 18.070023873459867]\n"
     ]
    }
   ],
   "source": [
    "alphaX = []\n",
    "alphaY = []\n",
    "alphaZ = []\n",
    "virt = [16, 32, 48, 64, 80, 96, 112, 128, 144, 160, 192, 224, 256]\n",
    "for nind,nval in enumerate(virt):\n",
    "    C_ext,dipoles_ext=R.extract_subset([5],[virtMax],C,dipoles,[nval])\n",
    "    E2,C_E2=np.linalg.eigh(C_ext)\n",
    "    sumx = 0.0\n",
    "    sumy = 0.0\n",
    "    sumz = 0.0\n",
    "    for i,e in enumerate(E2):\n",
    "        a = np.dot(C_E2.T[i],dipoles_ext)\n",
    "        sumx+=2.0*a[0]*a[0]/e\n",
    "        sumy+=2.0*a[1]*a[1]/e\n",
    "        sumz+=2.0*a[2]*a[2]/e\n",
    "    alphaX.append(sumx)\n",
    "    alphaY.append(sumy)\n",
    "    alphaZ.append(sumz)\n",
    "print alphaX\n",
    "print alphaY\n",
    "print alphaZ"
   ]
  },
  {
   "cell_type": "code",
   "execution_count": 9,
   "metadata": {
    "collapsed": true
   },
   "outputs": [],
   "source": [
    "alphaX_ref = 13.24\n",
    "alphaZ_ref = 18.73"
   ]
  },
  {
   "cell_type": "code",
   "execution_count": 10,
   "metadata": {},
   "outputs": [
    {
     "data": {
      "image/png": "[encoded data removed]",
      "text/plain": [
       "<matplotlib.figure.Figure at 0x7f05c0580e10>"
      ]
     },
     "metadata": {},
     "output_type": "display_data"
    },
    {
     "data": {
      "image/png": "[encoded data removed]",
      "text/plain": [
       "<matplotlib.figure.Figure at 0x7f05b76bc490>"
      ]
     },
     "metadata": {},
     "output_type": "display_data"
    }
   ],
   "source": [
    "plt.plot(virt,alphaX,color ='b')\n",
    "plt.axhline(y=alphaX_ref, color='r', linestyle='--')\n",
    "plt.show()\n",
    "plt.plot(virt,alphaZ,color='b')\n",
    "plt.axhline(y=alphaZ_ref, color='r', linestyle='--')\n",
    "plt.show()"
   ]
  },
  {
   "cell_type": "markdown",
   "metadata": {},
   "source": [
    "To check the correctness of the procedure for the construcion of the coupling matrices (given the one with the highest numbero of virtual orbitals) we compare some of the result obtained above with the ones build in terms of the true coupling matrix computed with 16 and 32 virtual orbitals."
   ]
  },
  {
   "cell_type": "code",
   "execution_count": 11,
   "metadata": {},
   "outputs": [
    {
     "name": "stdout",
     "output_type": "stream",
     "text": [
      "/media/DATA/RICERCA/LINEAR RESPONSE/LR-nb/POLARIZABILITY/CO/linear-response\n",
      "/media/DATA/RICERCA/LINEAR RESPONSE/LR-nb/POLARIZABILITY/CO\n"
     ]
    }
   ],
   "source": [
    "%cd $outputpath\n",
    "dpath = 'log/TDDFT-Results/transition_dipoles_16.txt'\n",
    "dipoles_16 = np.loadtxt(dpath)\n",
    "cpath = 'log/TDDFT-Results/coupling_matrix_16.txt'\n",
    "C_16 = np.loadtxt(cpath)\n",
    "dpath = 'log/TDDFT-Results/transition_dipoles_32.txt'\n",
    "dipoles_32 = np.loadtxt(dpath)\n",
    "cpath = 'log/TDDFT-Results/coupling_matrix_32.txt'\n",
    "C_32 = np.loadtxt(cpath)\n",
    "%cd .."
   ]
  },
  {
   "cell_type": "code",
   "execution_count": 14,
   "metadata": {},
   "outputs": [
    {
     "name": "stdout",
     "output_type": "stream",
     "text": [
      "9.59666455305 12.8756022421\n",
      "11.3558389008 15.0041243585\n"
     ]
    }
   ],
   "source": [
    "alphaX_16 = 0.0\n",
    "alphaZ_16 = 0.0\n",
    "E2,C_E2=np.linalg.eigh(C_16)\n",
    "for i,e in enumerate(E2):\n",
    "    a = np.dot(C_E2.T[i],dipoles_16)\n",
    "    alphaX_16+=2.0*a[0]*a[0]/e\n",
    "    alphaZ_16+=2.0*a[2]*a[2]/e\n",
    "print alphaX_16, alphaZ_16\n",
    "\n",
    "alphaX_32 = 0.0\n",
    "alphaZ_32 = 0.0\n",
    "E2,C_E2=np.linalg.eigh(C_32)\n",
    "for i,e in enumerate(E2):\n",
    "    a = np.dot(C_E2.T[i],dipoles_32)\n",
    "    alphaX_32+=2.0*a[0]*a[0]/e\n",
    "    alphaZ_32+=2.0*a[2]*a[2]/e\n",
    "print alphaX_32, alphaZ_32"
   ]
  },
  {
   "cell_type": "markdown",
   "metadata": {},
   "source": [
    "Results agree with those obtained by the application of the \"extract_subset\" routine."
   ]
  },
  {
   "cell_type": "markdown",
   "metadata": {
    "collapsed": true
   },
   "source": [
    "### Dynamical polarizability in the adiabatic case"
   ]
  },
  {
   "cell_type": "markdown",
   "metadata": {},
   "source": [
    "We plot the imaginary part of (minus) $A(\\omega_0)$ using the coupling matrix e transition dipoles in function of the number of virtual orbitals considered in the computation. In particular we want to compare results for numVirt = 64,128,virtMax"
   ]
  },
  {
   "cell_type": "code",
   "execution_count": 15,
   "metadata": {},
   "outputs": [
    {
     "name": "stdout",
     "output_type": "stream",
     "text": [
      "lenE2 640 omegaMax 1.46081274276\n",
      "lenE2 1280 omegaMax 1.66502703311\n",
      "lenE2 2560 omegaMax 2.05700659432\n"
     ]
    }
   ],
   "source": [
    "npoint = 1000\n",
    "eta = 1.0e-2\n",
    "omega = []\n",
    "A = []\n",
    "virt = [64,128,virtMax]\n",
    "for ii,nVal in enumerate(virt):\n",
    "    C_ext,dipoles_ext=R.extract_subset([5],[virtMax],C,dipoles,[nVal])\n",
    "    E2,C_E2=np.linalg.eigh(C_ext)\n",
    "    omegaMax = np.sqrt(E2[-1]) #square root of the highest eigenvalues\n",
    "    print 'lenE2', len(E2), 'omegaMax', omegaMax\n",
    "    omega.append(np.linspace(0.0,omegaMax,npoint))\n",
    "    A_nVirt = np.zeros(npoint, dtype=complex)\n",
    "    fE = []\n",
    "    for i in range(len(E2)):\n",
    "        fE.append(np.dot(C_E2.T[i],dipoles_ext[:,2]))\n",
    "    for ind,o in enumerate(omega[ii]):\n",
    "        s = 0.0\n",
    "        for i,e in enumerate(E2):\n",
    "            s+=fE[i]**2/(complex(o,2*eta)**2-e)\n",
    "        A_nVirt[ind] = s\n",
    "    A.append(-np.imag(A_nVirt))"
   ]
  },
  {
   "cell_type": "code",
   "execution_count": 16,
   "metadata": {},
   "outputs": [
    {
     "data": {
      "image/png": "[encoded data removed]",
      "text/plain": [
       "<matplotlib.figure.Figure at 0x7f05bfc01d10>"
      ]
     },
     "metadata": {},
     "output_type": "display_data"
    }
   ],
   "source": [
    "%matplotlib inline\n",
    "#%matplotlib auto \n",
    "for i in range(len(virt)):\n",
    "    plt.plot(omega[i],A[i],label='NumVirt_'+str(virt[i]))\n",
    "plt.legend()\n",
    "plt.title('Absorptium spectrum of CO', fontsize=14)\n",
    "plt.show()"
   ]
  },
  {
   "cell_type": "code",
   "execution_count": null,
   "metadata": {
    "collapsed": true
   },
   "outputs": [],
   "source": []
  }
 ],
 "metadata": {
  "kernelspec": {
   "display_name": "Python 2",
   "language": "python",
   "name": "python2"
  },
  "language_info": {
   "codemirror_mode": {
    "name": "ipython",
    "version": 2
   },
   "file_extension": ".py",
   "mimetype": "text/x-python",
   "name": "python",
   "nbconvert_exporter": "python",
   "pygments_lexer": "ipython2",
   "version": "2.7.13"
  }
 },
 "nbformat": 4,
 "nbformat_minor": 2
}
