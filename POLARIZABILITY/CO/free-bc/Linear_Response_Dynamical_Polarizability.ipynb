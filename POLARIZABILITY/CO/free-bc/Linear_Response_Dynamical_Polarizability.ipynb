{
 "cells": [
  {
   "cell_type": "markdown",
   "metadata": {},
   "source": [
    "# Analysis of dynamical polarizability of $CO$ in the linear response formalism"
   ]
  },
  {
   "cell_type": "markdown",
   "metadata": {
    "collapsed": true
   },
   "source": [
    "We analyze the computation of the dynamical polarizabilityi inside the linear response formalism.\n",
    "\n",
    "The aim of this notebook is to:\n",
    "\n",
    "* compute the Casida matrix associated to the highest value of virtual orbitals. \n",
    "* build the matrices associated to a lower number of virtual orbitals (by extracting its elements from the highest one) and discuss the rate of convergence of the statical polarizability to the reference value (formerly computed by including an explicit electric field). \n",
    "* evaluate the dynamical polarizability spectrum and discuss its stability in function of the number of virtual orbitals considered.  "
   ]
  },
  {
   "cell_type": "code",
   "execution_count": 1,
   "metadata": {},
   "outputs": [
    {
     "data": {
      "application/javascript": [
       "IPython.notebook.set_autosave_interval(0)"
      ]
     },
     "metadata": {},
     "output_type": "display_data"
    },
    {
     "name": "stdout",
     "output_type": "stream",
     "text": [
      "Autosave disabled\n"
     ]
    }
   ],
   "source": [
    "%autosave 0\n",
    "from BigDFT import Logfiles as lf\n",
    "from BigDFT import Calculators as C\n",
    "from futile import Yaml\n",
    "import matplotlib.pyplot as plt\n",
    "import numpy as np\n",
    "import scipy.fftpack\n",
    "import sys\n",
    "sys.path.insert(0,'../../')\n",
    "import Routine as R\n",
    "outputpath = 'linear-response/'"
   ]
  },
  {
   "cell_type": "markdown",
   "metadata": {},
   "source": [
    "Set up of the main parameters"
   ]
  },
  {
   "cell_type": "code",
   "execution_count": 3,
   "metadata": {},
   "outputs": [],
   "source": [
    "rVal = [7.0, 9.0]\n",
    "virtMax = [282, 184]"
   ]
  },
  {
   "cell_type": "markdown",
   "metadata": {},
   "source": [
    "### Computation of the coupling matrix and transition dipoles"
   ]
  },
  {
   "cell_type": "code",
   "execution_count": 4,
   "metadata": {},
   "outputs": [],
   "source": [
    "inp0 = {'dft' : \n",
    "        {'hgrids': 0.37,\n",
    "         'gnrm_cv' : 1e-8,\n",
    "         'itermax' : 100,\n",
    "         'inputpsiid': 2},\n",
    "        'tddft':{'tddft_approach': 'full'},\n",
    "        'posinp': 'CO_posinp.xyz'}\n",
    "Yaml.dump(inp0,outputpath + 'default.yaml')"
   ]
  },
  {
   "cell_type": "code",
   "execution_count": 5,
   "metadata": {},
   "outputs": [],
   "source": [
    "for ind,r in enumerate(rVal):\n",
    "    inp={'dft': {'rmult': [r, 9.0], 'itermax_virt' : 1},\n",
    "         'output': {'orbitals' : 'No', 'verbosity' : 3}, \n",
    "         'radical': 'Rmult_'+str(r)}\n",
    "\n",
    "    inp['dft']['norbv'] = -virtMax[ind]\n",
    "    inpname = 'Rmult_'+str(r)+'_numVirt_'+str(virtMax[ind])\n",
    "    Yaml.dump(inp,outputpath + inpname + '.yaml')"
   ]
  },
  {
   "cell_type": "markdown",
   "metadata": {},
   "source": [
    "We execute the input file and copy the coupling matrix and transition dipoles in the \"TDDFT-Results\" folder"
   ]
  },
  {
   "cell_type": "code",
   "execution_count": 6,
   "metadata": {},
   "outputs": [
    {
     "name": "stdout",
     "output_type": "stream",
     "text": [
      "Run computation for rmult =  7.0\n",
      "/media/DATA/RICERCA/LINEAR RESPONSE/LR-nb/POLARIZABILITY/CO/free-bc/linear-response\n",
      "Executing command:  mpirun -np 4 $BIGDFT_ROOT/bigdft -n Rmult_7.0_numVirt_282 -d ./log/ -s Yes\n",
      "/media/DATA/RICERCA/LINEAR RESPONSE/LR-nb/POLARIZABILITY/CO/free-bc\n"
     ]
    }
   ],
   "source": [
    "rmultInd = 0\n",
    "print 'Run computation for rmult = ', rVal[rmultInd]\n",
    "\n",
    "code=C.SystemCalculator(omp=2,mpi=4)\n",
    "%cd $outputpath\n",
    "inpname = 'Rmult_'+str(rVal[rmultInd])+'_numVirt_'+str(virtMax[rmultInd])\n",
    "code.run(name=inpname,skip=True,outdir='./log/')\n",
    "%cd ../"
   ]
  },
  {
   "cell_type": "markdown",
   "metadata": {},
   "source": [
    "## Data analysis"
   ]
  },
  {
   "cell_type": "markdown",
   "metadata": {},
   "source": [
    "Read the dipoles and coupling matrix (for a single value of rVal specified by rmultInd)"
   ]
  },
  {
   "cell_type": "code",
   "execution_count": 4,
   "metadata": {},
   "outputs": [
    {
     "name": "stdout",
     "output_type": "stream",
     "text": [
      "Read data for rmult =  7.0\n",
      "Maximum value of virtual orbitals =  282\n",
      "\n",
      "/media/DATA/RICERCA/LINEAR RESPONSE/LR-nb/POLARIZABILITY/CO/free-bc/linear-response\n",
      "/media/DATA/RICERCA/LINEAR RESPONSE/LR-nb/POLARIZABILITY/CO/free-bc\n"
     ]
    }
   ],
   "source": [
    "rmultInd = 0\n",
    "print 'Read data for rmult = ', rVal[rmultInd]\n",
    "print 'Maximum value of virtual orbitals = ', virtMax[rmultInd]\n",
    "print ''\n",
    "\n",
    "%cd $outputpath\n",
    "dpath = 'log/TDDFT-Results/transition_dipoles_rmult'+str(rVal[rmultInd])+'_numVirt'+str(virtMax[rmultInd])+'.txt'\n",
    "dipoles = np.loadtxt(dpath)\n",
    "cpath = 'log/TDDFT-Results/coupling_matrix_rmult'+str(rVal[rmultInd])+'_numVirt'+str(virtMax[rmultInd])+'.txt'\n",
    "Cmat = np.loadtxt(cpath)\n",
    "%cd .."
   ]
  },
  {
   "cell_type": "markdown",
   "metadata": {},
   "source": [
    "We observe that $C$ is a symmetric matrix"
   ]
  },
  {
   "cell_type": "code",
   "execution_count": 5,
   "metadata": {},
   "outputs": [
    {
     "data": {
      "text/plain": [
       "True"
      ]
     },
     "execution_count": 5,
     "metadata": {},
     "output_type": "execute_result"
    }
   ],
   "source": [
    "np.allclose(Cmat,Cmat.T,atol=1.e-12)"
   ]
  },
  {
   "cell_type": "code",
   "execution_count": 6,
   "metadata": {},
   "outputs": [
    {
     "data": {
      "text/plain": [
       "[16, 32, 64, 96, 128, 160, 192, 224, 256, 282]"
      ]
     },
     "execution_count": 6,
     "metadata": {},
     "output_type": "execute_result"
    }
   ],
   "source": [
    "numOrb = 5\n",
    "nalpha = [16,32,64,96,128,160,192,224,256,virtMax[rmultInd]] #rmult 7.0\n",
    "#nalpha = [16,32,64,96,128,160,virtMax[rmultInd]] #rmult 9.0\n",
    "nalpha"
   ]
  },
  {
   "cell_type": "code",
   "execution_count": 7,
   "metadata": {},
   "outputs": [
    {
     "name": "stdout",
     "output_type": "stream",
     "text": [
      "(160, 160)\n",
      "(320, 320)\n",
      "(640, 640)\n",
      "(960, 960)\n",
      "(1280, 1280)\n",
      "(1600, 1600)\n",
      "(1920, 1920)\n",
      "(2240, 2240)\n",
      "(2560, 2560)\n",
      "(2820, 2820)\n"
     ]
    }
   ],
   "source": [
    "reload(R)\n",
    "eigenproblems = R.solveEigenProblems(numOrb,virtMax[rmultInd],Cmat,dipoles,nalpha)"
   ]
  },
  {
   "cell_type": "markdown",
   "metadata": {},
   "source": [
    "### Analysis of the statical polarizability"
   ]
  },
  {
   "cell_type": "markdown",
   "metadata": {},
   "source": [
    "We discuss the convergence of the static polarizability to its reference value obtained with the explicit electric field."
   ]
  },
  {
   "cell_type": "code",
   "execution_count": 7,
   "metadata": {},
   "outputs": [
    {
     "data": {
      "text/plain": [
       "[13.113788887340034, 13.113788883007453, 18.161401216784313]"
      ]
     },
     "execution_count": 7,
     "metadata": {},
     "output_type": "execute_result"
    }
   ],
   "source": [
    "reload(R)\n",
    "statPol = R.evalStatPol(eigenproblems)\n",
    "statPol[virtMax[rmultInd]]"
   ]
  },
  {
   "cell_type": "code",
   "execution_count": 8,
   "metadata": {},
   "outputs": [],
   "source": [
    "statPol_ref = [13.24,13.24,18.73]"
   ]
  },
  {
   "cell_type": "code",
   "execution_count": 9,
   "metadata": {},
   "outputs": [
    {
     "data": {
      "image/png": "[encoded data removed]",
      "text/plain": [
       "<matplotlib.figure.Figure at 0x7fc28c23e490>"
      ]
     },
     "metadata": {},
     "output_type": "display_data"
    }
   ],
   "source": [
    "%matplotlib inline\n",
    "for x in range(3):\n",
    "    val = []\n",
    "    for na in nalpha:\n",
    "        val.append(statPol[na][x])\n",
    "    val = np.array(val)/statPol_ref[x]\n",
    "    plt.plot(nalpha,val,label='alpha_'+str(x))\n",
    "plt.axhline(y=1.0, color='r', linestyle='--')\n",
    "plt.legend()\n",
    "plt.show()"
   ]
  },
  {
   "cell_type": "markdown",
   "metadata": {
    "collapsed": true
   },
   "source": [
    "We write the statical-polarizability dictionary on file"
   ]
  },
  {
   "cell_type": "code",
   "execution_count": 10,
   "metadata": {},
   "outputs": [
    {
     "name": "stdout",
     "output_type": "stream",
     "text": [
      "Write statical polarizability data for rmult =  9.0\n"
     ]
    }
   ],
   "source": [
    "print 'Write statical polarizability data for rmult = ', rVal[rmultInd]\n",
    "statPolToFile = {}\n",
    "for na, s in statPol.iteritems():\n",
    "    slist = []\n",
    "    for val in s:\n",
    "        slist.append(val.tolist())\n",
    "    statPolToFile[na] = slist\n",
    "filename = outputpath+'log/statPol_rmult_'+str(rVal[rmultInd])+'.yaml'\n",
    "Yaml.dump(statPolToFile,filename)"
   ]
  },
  {
   "cell_type": "markdown",
   "metadata": {},
   "source": [
    "### Dynamical polarizability in the adiabatic case"
   ]
  },
  {
   "cell_type": "code",
   "execution_count": 9,
   "metadata": {},
   "outputs": [
    {
     "name": "stdout",
     "output_type": "stream",
     "text": [
      "for na =  16  numpoint =  239  omegaMax (eV) =  32.6217901391\n",
      "for na =  32  numpoint =  253  omegaMax (eV) =  34.5523320077\n",
      "for na =  64  numpoint =  292  omegaMax (eV) =  39.7501755433\n"
     ]
    },
    {
     "data": {
      "image/png": "[encoded data removed]",
      "text/plain": [
       "<matplotlib.figure.Figure at 0x7f4a7b534950>"
      ]
     },
     "metadata": {},
     "output_type": "display_data"
    }
   ],
   "source": [
    "reload(R)\n",
    "%matplotlib inline\n",
    "#nalphaPlot = [128,256,virtMax[rmultInd]] #rmult 7\n",
    "nalphaPlot = [16,32,64] #rmult 7 (low energy spectrum)\n",
    "#nalphaPlot = [128,160,virtMax[rmultInd]] #rmult 9\n",
    "spectrum = R.evalSpectrum(eigenproblems,nalphaPlot)\n",
    "for na in nalphaPlot:\n",
    "    plt.plot(spectrum[na]['omega'],spectrum[na]['imagPart'],label='numVirt'+str(na))\n",
    "plt.legend()\n",
    "plt.xlim(0,15)\n",
    "plt.show()"
   ]
  },
  {
   "cell_type": "markdown",
   "metadata": {
    "collapsed": true
   },
   "source": [
    "We write the spectrum dictionary on file"
   ]
  },
  {
   "cell_type": "code",
   "execution_count": 14,
   "metadata": {},
   "outputs": [
    {
     "name": "stdout",
     "output_type": "stream",
     "text": [
      "Write spectrum data for rmult =  9.0\n"
     ]
    }
   ],
   "source": [
    "print 'Write spectrum data for rmult = ', rVal[rmultInd]\n",
    "spToFile = {}\n",
    "for na, s in spectrum.iteritems():\n",
    "    spToFile[na] = {'omega': spectrum[na]['omega'].tolist(), 'realPart':spectrum[na]['realPart'].tolist(), 'imagPart':spectrum[na]['imagPart'].tolist()}\n",
    "filename = outputpath+'log/spectrum_rmult_'+str(rVal[rmultInd])+'.yaml'\n",
    "Yaml.dump(spToFile,filename)"
   ]
  },
  {
   "cell_type": "code",
   "execution_count": null,
   "metadata": {
    "collapsed": true
   },
   "outputs": [],
   "source": []
  }
 ],
 "metadata": {
  "kernelspec": {
   "display_name": "Python 2",
   "language": "python",
   "name": "python2"
  },
  "language_info": {
   "codemirror_mode": {
    "name": "ipython",
    "version": 2
   },
   "file_extension": ".py",
   "mimetype": "text/x-python",
   "name": "python",
   "nbconvert_exporter": "python",
   "pygments_lexer": "ipython2",
   "version": "2.7.12"
  }
 },
 "nbformat": 4,
 "nbformat_minor": 2
}
