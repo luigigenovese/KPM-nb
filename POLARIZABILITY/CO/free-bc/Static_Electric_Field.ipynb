{
 "cells": [
  {
   "cell_type": "markdown",
   "metadata": {},
   "source": [
    "# Analysis of $CO$ in a static electric field"
   ]
  },
  {
   "cell_type": "markdown",
   "metadata": {},
   "source": [
    "We consider a $CO$ molecule (oriented along the $z$-axis) in a static electric field. We present results for fields both directed in the z (axial) and in the x directions. \n",
    "The main aim of this analysis is to determine the minimum dimension allowed of the simulation box as a function of the field intensity. As a criterium of consistency we require that the energy of the occupied KS orbitals should remain constant as the dimension of the box is increased.  "
   ]
  },
  {
   "cell_type": "code",
   "execution_count": 16,
   "metadata": {},
   "outputs": [
    {
     "data": {
      "application/javascript": [
       "IPython.notebook.set_autosave_interval(0)"
      ]
     },
     "metadata": {},
     "output_type": "display_data"
    },
    {
     "name": "stdout",
     "output_type": "stream",
     "text": [
      "Autosave disabled\n"
     ]
    }
   ],
   "source": [
    "%autosave 0\n",
    "from BigDFT import Logfiles as lf\n",
    "from BigDFT import Calculators as C\n",
    "from futile import Yaml\n",
    "import matplotlib.pyplot as plt\n",
    "import numpy as np\n",
    "import sys\n",
    "sys.path.insert(0,'../../')\n",
    "import Routine as R\n",
    "outputpath = 'static-field/'"
   ]
  },
  {
   "cell_type": "markdown",
   "metadata": {},
   "source": [
    "First of all we define the python dictionary that contains the basic keys common to all the file in the run and we write these common variables in the default file"
   ]
  },
  {
   "cell_type": "code",
   "execution_count": 17,
   "metadata": {},
   "outputs": [],
   "source": [
    "inp0 = {'dft' : \n",
    "        {'hgrids': 0.37,\n",
    "         'gnrm_cv' : 1e-8,\n",
    "         'itermax' : 100},\n",
    "        'posinp': 'CO_posinp.xyz'}\n",
    "Yaml.dump(inp0,outputpath + 'default.yaml')"
   ]
  },
  {
   "cell_type": "markdown",
   "metadata": {},
   "source": [
    "We perform the analysis for different values of the field norm and different boz sizes"
   ]
  },
  {
   "cell_type": "markdown",
   "metadata": {},
   "source": [
    "## Generation and execution of the input files"
   ]
  },
  {
   "cell_type": "code",
   "execution_count": 18,
   "metadata": {},
   "outputs": [
    {
     "name": "stdout",
     "output_type": "stream",
     "text": [
      "[4.0, 5.0, 6.0, 7.0, 8.0, 9.0, 10.0]\n"
     ]
    }
   ],
   "source": [
    "enorm = [[0.0,str('0_')],[1e-4,str('1em4_')], [1e-3,str('1em3_')],[1e-2,str('1em2_')], [5e-2,str('5em2_')]]\n",
    "rVal = [float(i) for i in range(4,11)]\n",
    "print rVal"
   ]
  },
  {
   "cell_type": "markdown",
   "metadata": {},
   "source": [
    "We generate the input files and the run files (one for each value of the field norm)"
   ]
  },
  {
   "cell_type": "code",
   "execution_count": 20,
   "metadata": {},
   "outputs": [],
   "source": [
    "for e in enorm:\n",
    "    ez=[0.0,0.0,e[0]]\n",
    "    ex=[e[0],0.0,0.0]\n",
    "    inpEz={'dft':{'elecfield': ez}}\n",
    "    inpEx={'dft':{'elecfield': ex}}\n",
    "    lrun=[]\n",
    "    for r in rVal:\n",
    "        inpEz['dft']['rmult'] = [r, 9.0]\n",
    "        inpEx['dft']['rmult'] = [r, 9.0]\n",
    "        inpnameEz = 'Ez_'+e[1]+str('rmult_')+str(r)\n",
    "        inpnameEx = 'Ex_'+e[1]+str('rmult_')+str(r)\n",
    "        Yaml.dump(inpEz,outputpath + inpnameEz + '.yaml')\n",
    "        Yaml.dump(inpEx,outputpath + inpnameEx + '.yaml')\n",
    "        lrun.append(inpnameEz)\n",
    "        lrun.append(inpnameEx)\n",
    "    Yaml.dump(lrun,outputpath+'runs_'+e[1])"
   ]
  },
  {
   "cell_type": "markdown",
   "metadata": {},
   "source": [
    "We execute the run files"
   ]
  },
  {
   "cell_type": "code",
   "execution_count": 21,
   "metadata": {},
   "outputs": [
    {
     "name": "stdout",
     "output_type": "stream",
     "text": [
      "/LR-nb/POLARIZABILITY/CO/free-bc/static-field\n",
      "Executing command:  mpirun -np 4 $BIGDFT_ROOT/bigdft -r runs_0_ -d ./log/ -s Yes\n",
      "Executing command:  mpirun -np 4 $BIGDFT_ROOT/bigdft -r runs_1em4_ -d ./log/ -s Yes\n",
      "Executing command:  mpirun -np 4 $BIGDFT_ROOT/bigdft -r runs_1em3_ -d ./log/ -s Yes\n",
      "Executing command:  mpirun -np 4 $BIGDFT_ROOT/bigdft -r runs_1em2_ -d ./log/ -s Yes\n",
      "Executing command:  mpirun -np 4 $BIGDFT_ROOT/bigdft -r runs_5em2_ -d ./log/ -s Yes\n",
      "/LR-nb/POLARIZABILITY/CO/free-bc\n"
     ]
    }
   ],
   "source": [
    "import os\n",
    "os.environ['BIGDFT_ROOT']='/bigdft/bin/'\n",
    "code=C.SystemCalculator(omp=2,mpi=4)\n",
    "%cd $outputpath\n",
    "for e in enorm:\n",
    "    code.run(run_name='runs_'+e[1],skip=True,outdir='./log/')\n",
    "%cd ../"
   ]
  },
  {
   "cell_type": "markdown",
   "metadata": {
    "collapsed": true
   },
   "source": [
    "## Data Analysis"
   ]
  },
  {
   "cell_type": "markdown",
   "metadata": {},
   "source": [
    "We discuss the results of these computations. In particular we analyze the scaling of the energy of the occupied orbitals for each value of the field and we check the if the choosen value of the field belong the regime of linear response."
   ]
  },
  {
   "cell_type": "markdown",
   "metadata": {},
   "source": [
    "We read all the log files and organize them in two lists (one for Ex and one for Ez) sorted according to the field norm"
   ]
  },
  {
   "cell_type": "code",
   "execution_count": 22,
   "metadata": {},
   "outputs": [
    {
     "name": "stdout",
     "output_type": "stream",
     "text": [
      "/LR-nb/POLARIZABILITY/CO/free-bc/static-field\n",
      "/LR-nb/POLARIZABILITY/CO/free-bc\n"
     ]
    }
   ],
   "source": [
    "ExLog = []\n",
    "EzLog = []\n",
    "%cd $outputpath\n",
    "for e in enorm:\n",
    "    spath = 'log/'+str('log-Ex_')+e[1]+str('*') \n",
    "    logsEx = !ls $spath\n",
    "    #print logsEx\n",
    "    ExLog.append([lf.Logfile(l) for l in logsEx])\n",
    "for e in enorm:\n",
    "    spath = 'log/'+str('log-Ez_')+e[1]+str('*') \n",
    "    logsEz = !ls $spath\n",
    "    #print logsEz\n",
    "    EzLog.append([lf.Logfile(l) for l in logsEz])\n",
    "%cd .."
   ]
  },
  {
   "cell_type": "markdown",
   "metadata": {},
   "source": [
    "sort the box index in increasing order of dimension"
   ]
  },
  {
   "cell_type": "code",
   "execution_count": 23,
   "metadata": {},
   "outputs": [],
   "source": [
    "for E in [ExLog,EzLog]:\n",
    "    for eind in range(len(enorm)):\n",
    "        rm = []\n",
    "        for box in range(len(E[eind])):\n",
    "            rm.append(E[eind][box].log['dft']['rmult'][0])\n",
    "        bla = np.argsort(rm)\n",
    "        E[eind] = [E[eind][i] for i in bla]"
   ]
  },
  {
   "cell_type": "code",
   "execution_count": 24,
   "metadata": {},
   "outputs": [
    {
     "name": "stdout",
     "output_type": "stream",
     "text": [
      "0 [4.0, 5.0, 6.0, 7.0, 8.0, 9.0, 10.0]\n",
      "1 [4.0, 5.0, 6.0, 7.0, 8.0, 9.0, 10.0]\n",
      "2 [4.0, 5.0, 6.0, 7.0, 8.0, 9.0, 10.0]\n",
      "3 [4.0, 5.0, 6.0, 7.0, 8.0, 9.0, 10.0]\n",
      "4 [4.0, 5.0, 6.0, 7.0, 8.0, 9.0, 10.0]\n",
      "0 [4.0, 5.0, 6.0, 7.0, 8.0, 9.0, 10.0]\n",
      "1 [4.0, 5.0, 6.0, 7.0, 8.0, 9.0, 10.0]\n",
      "2 [4.0, 5.0, 6.0, 7.0, 8.0, 9.0, 10.0]\n",
      "3 [4.0, 5.0, 6.0, 7.0, 8.0, 9.0, 10.0]\n",
      "4 [4.0, 5.0, 6.0, 7.0, 8.0, 9.0, 10.0]\n"
     ]
    }
   ],
   "source": [
    "for E in [ExLog,EzLog]:\n",
    "    for eind in range(len(enorm)):\n",
    "        rm = []\n",
    "        for box in range(len(E[eind])):\n",
    "            rm.append(ExLog[eind][box].log['dft']['rmult'][0])\n",
    "        print eind, rm"
   ]
  },
  {
   "cell_type": "code",
   "execution_count": 25,
   "metadata": {},
   "outputs": [
    {
     "name": "stdout",
     "output_type": "stream",
     "text": [
      "[0.0001, 0.0, 0.0]\n",
      "[10.0, 9.0]\n",
      "[-1.01123146 -0.51844249 -0.40367754 -0.40367626 -0.33912737]\n"
     ]
    }
   ],
   "source": [
    "# The first index select the field, the second the box. For intance:\n",
    "print ExLog[1][0].log['dft']['elecfield']\n",
    "print ExLog[0][-1].log['dft']['rmult']\n",
    "print ExLog[0][0].evals[0][0] #give the energy of the orbitals"
   ]
  },
  {
   "cell_type": "markdown",
   "metadata": {},
   "source": [
    "We define some useful parameters"
   ]
  },
  {
   "cell_type": "code",
   "execution_count": 26,
   "metadata": {},
   "outputs": [
    {
     "name": "stdout",
     "output_type": "stream",
     "text": [
      "numField 5\n",
      "numBox 7\n",
      "numOrb 5\n"
     ]
    }
   ],
   "source": [
    "numField = len(ExLog)\n",
    "numBox = len(ExLog[0])\n",
    "numOrb = len(ExLog[0][0].evals[0][0])\n",
    "print 'numField',numField\n",
    "print 'numBox', numBox\n",
    "print 'numOrb', numOrb"
   ]
  },
  {
   "cell_type": "markdown",
   "metadata": {},
   "source": [
    "### Energy scaling of the occupied orbitals vs. size of the simulation box"
   ]
  },
  {
   "cell_type": "markdown",
   "metadata": {},
   "source": [
    "We chose a value of the field norm"
   ]
  },
  {
   "cell_type": "code",
   "execution_count": 31,
   "metadata": {},
   "outputs": [
    {
     "name": "stdout",
     "output_type": "stream",
     "text": [
      "Field norm = 1em2_\n"
     ]
    }
   ],
   "source": [
    "eind = 3\n",
    "print 'Field norm = ' + enorm[eind][1]"
   ]
  },
  {
   "cell_type": "markdown",
   "metadata": {},
   "source": [
    "Plot the energy of each orbitals in function of the size of the box (z dimension) (for both directions of the field)"
   ]
  },
  {
   "cell_type": "code",
   "execution_count": 32,
   "metadata": {
    "scrolled": false
   },
   "outputs": [
    {
     "name": "stdout",
     "output_type": "stream",
     "text": [
      "Ex [0.01, 0.0, 0.0]\n",
      "Ez [0.0, 0.0, 0.01]\n"
     ]
    },
    {
     "data": {
      "image/png": "[encoded data removed]",
      "text/plain": [
       "<matplotlib.figure.Figure at 0x7fb2f7a30a50>"
      ]
     },
     "metadata": {},
     "output_type": "display_data"
    },
    {
     "data": {
      "image/png": "[encoded data removed]",
      "text/plain": [
       "<matplotlib.figure.Figure at 0x7fb2f7aec050>"
      ]
     },
     "metadata": {},
     "output_type": "display_data"
    }
   ],
   "source": [
    "print  'Ex',ExLog[eind][0].log['dft']['elecfield']\n",
    "enOrbEx=[]\n",
    "for orb in range(numOrb):\n",
    "    eorb=[]\n",
    "    for box in range(numBox):\n",
    "        eorb.append(ExLog[eind][box].evals[0][0][orb])\n",
    "    enOrbEx.append(eorb)\n",
    "\n",
    "print  'Ez',EzLog[eind][0].log['dft']['elecfield']\n",
    "enOrbEz=[]\n",
    "for orb in range(numOrb):\n",
    "    eorb=[]\n",
    "    for box in range(numBox):\n",
    "        eorb.append(EzLog[eind][box].evals[0][0][orb])\n",
    "    enOrbEz.append(eorb)\n",
    "    \n",
    "dimBox=[]\n",
    "for box in range(numBox):\n",
    "    dimBox.append(ExLog[eind][box].log['Sizes of the simulation domain']['Angstroem'][2])\n",
    "\n",
    "for orb in range(numOrb):\n",
    "    plt.plot(dimBox,enOrbEx[orb])\n",
    "    plt.scatter(dimBox,enOrbEx[orb])\n",
    "    title = 'Energy of KS orbitals (Ex= '+ enorm[eind][1]+str(')')\n",
    "plt.title(title,fontsize=16)\n",
    "plt.show()\n",
    "\n",
    "for orb in range(numOrb):\n",
    "    plt.plot(dimBox,enOrbEz[orb])\n",
    "    plt. scatter(dimBox,enOrbEz[orb])\n",
    "    title = 'Energy of KS orbitals (Ez= '+ enorm[eind][1]+str(')')\n",
    "plt.title(title,fontsize=16)\n",
    "plt.show()"
   ]
  },
  {
   "cell_type": "markdown",
   "metadata": {},
   "source": [
    "These plots evidence that the orbitals are not stable for norm of the field greater than $1e^{-2}$. So we conlude that a field norm equal to $1e^{-2}$ is the highest value compatible with a static stable deformation"
   ]
  },
  {
   "cell_type": "markdown",
   "metadata": {},
   "source": [
    "Now we perform some plots that aim to extablish a criterium for choosing the optimum value of the simulation box.\n",
    "\n",
    "First of all we plot the difference between the energy of each orbital and its value for the greatest simulation box"
   ]
  },
  {
   "cell_type": "code",
   "execution_count": 33,
   "metadata": {},
   "outputs": [
    {
     "data": {
      "image/png": "[encoded data removed]",
      "text/plain": [
       "<matplotlib.figure.Figure at 0x7fb2f7c26d50>"
      ]
     },
     "metadata": {},
     "output_type": "display_data"
    },
    {
     "data": {
      "image/png": "[encoded data removed]",
      "text/plain": [
       "<matplotlib.figure.Figure at 0x7fb2f7537090>"
      ]
     },
     "metadata": {},
     "output_type": "display_data"
    }
   ],
   "source": [
    "deltaEx=[]\n",
    "deltaEz=[]\n",
    "for orb in range(numOrb):\n",
    "    delta = enOrbEx[orb]-enOrbEx[orb][-1]\n",
    "    deltaEx.append(delta)\n",
    "    delta = enOrbEz[orb]-enOrbEz[orb][-1]\n",
    "    deltaEz.append(delta)\n",
    "\n",
    "for orb in range(numOrb):\n",
    "    plt.plot(dimBox,deltaEx[orb])\n",
    "    plt.scatter(dimBox,deltaEx[orb])\n",
    "    title = 'Delta energy of KS orbitals (Ex= '+ enorm[eind][1]+str(')')\n",
    "plt.title(title,fontsize=16)\n",
    "#plt.yscale('log')\n",
    "plt.show()\n",
    "\n",
    "for orb in range(numOrb):\n",
    "    plt.plot(dimBox,deltaEz[orb])\n",
    "    plt.scatter(dimBox,deltaEz[orb])\n",
    "    title = 'Delta energy of KS orbitals (Ez= '+ enorm[eind][1]+str(')')\n",
    "plt.title(title,fontsize=16)\n",
    "#plt.yscale('log')\n",
    "plt.show()"
   ]
  },
  {
   "cell_type": "markdown",
   "metadata": {
    "collapsed": true
   },
   "source": [
    "These plots evidence that the scaling of the energy with the size of the box reduce exponentially and for rmult = 7.0\n",
    "is lower than $1e^{-4}$. "
   ]
  },
  {
   "cell_type": "markdown",
   "metadata": {},
   "source": [
    "### Computation of the static polarizability"
   ]
  },
  {
   "cell_type": "markdown",
   "metadata": {},
   "source": [
    "We build the following lists, with the values of the x and z components of the induced dipole moments of the fields. We use these values to check the linearity of the dipole moments with respect to the field"
   ]
  },
  {
   "cell_type": "code",
   "execution_count": 34,
   "metadata": {},
   "outputs": [
    {
     "name": "stdout",
     "output_type": "stream",
     "text": [
      "rmult=  7.0\n",
      "Max Field norm = 1em2_\n"
     ]
    }
   ],
   "source": [
    "box = 3\n",
    "eMax = 3\n",
    "print 'rmult= ', ExLog[0][box].log['dft']['rmult'][0]\n",
    "print 'Max Field norm = ' + enorm[eMax][1]"
   ]
  },
  {
   "cell_type": "code",
   "execution_count": 39,
   "metadata": {},
   "outputs": [
    {
     "data": {
      "image/png": "[encoded data removed]",
      "text/plain": [
       "<matplotlib.figure.Figure at 0x7fb2f74b1290>"
      ]
     },
     "metadata": {},
     "output_type": "display_data"
    },
    {
     "data": {
      "image/png": "[encoded data removed]",
      "text/plain": [
       "<matplotlib.figure.Figure at 0x7fb2f7a905d0>"
      ]
     },
     "metadata": {},
     "output_type": "display_data"
    },
    {
     "name": "stdout",
     "output_type": "stream",
     "text": [
      "alphaX =  13.23555587\n",
      "alphaZ =  18.7278\n"
     ]
    }
   ],
   "source": [
    "dipoleX=[]\n",
    "dipoleZ=[]\n",
    "eFieldX=[]\n",
    "eFieldZ=[]\n",
    "for i in range(eMax+1):\n",
    "    dipoleX.append(ExLog[i][box].log['Electric Dipole Moment (AU)']['P vector'][0])\n",
    "    dipoleZ.append(EzLog[i][box].log['Electric Dipole Moment (AU)']['P vector'][2])\n",
    "    eFieldX.append(enorm[i][0])\n",
    "    eFieldZ.append(enorm[i][0])\n",
    "    \n",
    "# compute the induced dipole by subtracting the value of the dipole at zero field\n",
    "indDipoleX=[dipoleX[i]-dipoleX[0] for i in range(len(dipoleX))]\n",
    "indDipoleZ=[dipoleZ[i]-dipoleZ[0] for i in range(len(dipoleZ))]\n",
    "\n",
    "plt.plot(eFieldX,indDipoleX)\n",
    "plt.scatter(eFieldX,indDipoleX, color='r')\n",
    "plt.title('Dipole moment vs E field (x component)',fontsize=16)\n",
    "plt.show()\n",
    "\n",
    "plt.plot(eFieldZ,indDipoleZ)\n",
    "plt.scatter(eFieldZ,indDipoleZ, color='r')\n",
    "plt.title('Dipole moment vs E field (z component)',fontsize=16)\n",
    "plt.show()\n",
    "\n",
    "alphaX = indDipoleX[-1]/eFieldX[-1]\n",
    "alphaZ = indDipoleZ[-1]/eFieldZ[-1]\n",
    "print 'alphaX = ', alphaX\n",
    "print 'alphaZ = ', alphaZ\n",
    "\n",
    "#from scipy import stats\n",
    "#alpha, intercept, r_value, p_value, std_err = stats.linregress(eFieldZ,indDipoleZ)\n",
    "#print 'alphaZ = ', alpha\n",
    "#print 'interceptZ = ', intercept\n",
    "\n",
    "#alpha, intercept, r_value, p_value, std_err = stats.linregress(eFieldX,indDipoleX)\n",
    "#print 'alphaX = ', alpha\n",
    "#print 'interceptX = ', intercept\n"
   ]
  },
  {
   "cell_type": "markdown",
   "metadata": {
    "collapsed": true
   },
   "source": [
    "### Write the occupied orbitals on disk"
   ]
  },
  {
   "cell_type": "markdown",
   "metadata": {},
   "source": [
    "As a final task of this nb we compute the KS orbitals of the ground state for the field norm equal to $1e-2$, which is the highest computed value of the field for which the linear response regime has been confirmed."
   ]
  },
  {
   "cell_type": "code",
   "execution_count": 40,
   "metadata": {},
   "outputs": [],
   "source": [
    "eind = 3 # corresponds to enorm = 1e-2\n",
    "rMult = [7.0,9.0,10.0] # value of rmult\n",
    "ez=[0.0,0.0,enorm[eind][0]]\n",
    "ex=[enorm[eind][0],0.0,0.0]\n",
    "inpEz={'dft':{'elecfield': ez},\n",
    "       'output': {'orbitals' : 'binary'}}\n",
    "inpEx={'dft':{'elecfield': ex},\n",
    "       'output': {'orbitals' : 'binary'}}\n",
    "lrun=[]\n",
    "for r in rMult:\n",
    "    inpEz['dft']['rmult'] = [r, 9.0]\n",
    "    inpEx['dft']['rmult'] = [r, 9.0]\n",
    "    inpEz['radical'] = 'Ez_'+enorm[eind][1]+'rmult_'+str(r)\n",
    "    inpEx['radical'] = 'Ex_'+enorm[eind][1]+'rmult_'+str(r)\n",
    "    inpnameEz = 'Ez_wf_'+enorm[eind][1]+str('rmult_')+str(r)\n",
    "    inpnameEx = 'Ex_wf_'+enorm[eind][1]+str('rmult_')+str(r)\n",
    "    Yaml.dump(inpEz,outputpath + inpnameEz + '.yaml')\n",
    "    Yaml.dump(inpEx,outputpath + inpnameEx + '.yaml')\n",
    "    lrun.append(inpnameEz)\n",
    "    lrun.append(inpnameEx)\n",
    "Yaml.dump(lrun,outputpath+'runs_wf')"
   ]
  },
  {
   "cell_type": "markdown",
   "metadata": {},
   "source": [
    "We execute the input files"
   ]
  },
  {
   "cell_type": "code",
   "execution_count": 41,
   "metadata": {},
   "outputs": [
    {
     "name": "stdout",
     "output_type": "stream",
     "text": [
      "/LR-nb/POLARIZABILITY/CO/free-bc/static-field\n",
      "Executing command:  mpirun -np 4 $BIGDFT_ROOT/bigdft -r runs_wf -d ./log/ -s Yes\n",
      "/LR-nb/POLARIZABILITY/CO/free-bc\n"
     ]
    }
   ],
   "source": [
    "%cd $outputpath\n",
    "code.run(run_name='runs_wf',skip=True,outdir='./log/')\n",
    "%cd ../"
   ]
  },
  {
   "cell_type": "code",
   "execution_count": null,
   "metadata": {
    "collapsed": true
   },
   "outputs": [],
   "source": []
  }
 ],
 "metadata": {
  "kernelspec": {
   "display_name": "Python 2",
   "language": "python",
   "name": "python2"
  },
  "language_info": {
   "codemirror_mode": {
    "name": "ipython",
    "version": 2
   },
   "file_extension": ".py",
   "mimetype": "text/x-python",
   "name": "python",
   "nbconvert_exporter": "python",
   "pygments_lexer": "ipython2",
   "version": "2.7.14"
  }
 },
 "nbformat": 4,
 "nbformat_minor": 2
}
