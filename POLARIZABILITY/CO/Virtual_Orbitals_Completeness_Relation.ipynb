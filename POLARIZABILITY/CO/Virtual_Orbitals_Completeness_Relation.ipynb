{
 "cells": [
  {
   "cell_type": "markdown",
   "metadata": {},
   "source": [
    "# Computation of virtual orbitals and check of the completeness relation for $CO$"
   ]
  },
  {
   "cell_type": "markdown",
   "metadata": {},
   "source": [
    "We compute the virtual orbitals of the $CO$ molecule and evalute the maximum energy sampled by the system. Then we use this basis to express the occupied orbitals of the same molecule subjected to a static electric field."
   ]
  },
  {
   "cell_type": "code",
   "execution_count": 1,
   "metadata": {},
   "outputs": [
    {
     "data": {
      "application/javascript": [
       "IPython.notebook.set_autosave_interval(0)"
      ]
     },
     "metadata": {},
     "output_type": "display_data"
    },
    {
     "name": "stdout",
     "output_type": "stream",
     "text": [
      "Autosave disabled\n"
     ]
    }
   ],
   "source": [
    "%autosave 0\n",
    "from BigDFT import Logfiles as lf\n",
    "from BigDFT import Calculators as C\n",
    "from futile import Yaml\n",
    "from copy import deepcopy\n",
    "import matplotlib.pyplot as plt\n",
    "import numpy as np\n",
    "import sys\n",
    "sys.path.insert(0,'../')\n",
    "import Routine as R\n",
    "outputpath = 'virtual-orbitals/'"
   ]
  },
  {
   "cell_type": "markdown",
   "metadata": {},
   "source": [
    "First of all we define the python dictionary that contains the basic keys common to all the file in the run and we write these common variables in the default file"
   ]
  },
  {
   "cell_type": "code",
   "execution_count": 2,
   "metadata": {
    "collapsed": true
   },
   "outputs": [],
   "source": [
    "inp0 = {'dft' : \n",
    "        {'hgrids': 0.37,\n",
    "         'gnrm_cv' : 1e-8,\n",
    "         'itermax' : 100,\n",
    "         'inputpsiid': 2},\n",
    "        'posinp': 'CO_posinp.xyz'}\n",
    "Yaml.dump(inp0,outputpath + 'default.yaml')"
   ]
  },
  {
   "cell_type": "markdown",
   "metadata": {},
   "source": [
    "## Computation of the virtual orbitals (cubic code)"
   ]
  },
  {
   "cell_type": "markdown",
   "metadata": {},
   "source": [
    "The aim of this computation is to produce the set of virtual orbitals, up to the highest value specified by the 'virtMax' parameter with a maximum residue of $1e^{-4}$. To obtain this result we produce a list of virtual orbitals denoted as 'virt' (using a linear spacing). virt contains a number of virtual orbitals higher than virtMax, because the last elements have a higher residue and are included only to improve the convergence of the lower ones.\n",
    "\n",
    "The computation is performed for rMult = 7.0, but the code is written in a way prone to the inclusion of other values."
   ]
  },
  {
   "cell_type": "code",
   "execution_count": 3,
   "metadata": {},
   "outputs": [
    {
     "name": "stdout",
     "output_type": "stream",
     "text": [
      "[16, 32, 48, 64, 80, 96, 112, 128, 144, 160, 176, 192, 208, 224, 240, 256, 272, 288, 304]\n"
     ]
    }
   ],
   "source": [
    "virt=[16+16*i for i in range(19)]\n",
    "print virt\n",
    "rVal = [7.0]"
   ]
  },
  {
   "cell_type": "markdown",
   "metadata": {},
   "source": [
    "We run the first set of calculation with 'itermax_virt' in the range 20-30. In this way we build a first guess of the virtual orbitals. Further refinement are performed later. We build the input file:"
   ]
  },
  {
   "cell_type": "code",
   "execution_count": 4,
   "metadata": {
    "collapsed": true
   },
   "outputs": [],
   "source": [
    "for r in rVal:\n",
    "    inp={'dft':{\n",
    "          'rmult': [r, 9.0],\n",
    "          'itermax_virt' : 20,\n",
    "          'gnrm_cv_virt' : 1e-4},\n",
    "         'output': {\n",
    "          'orbitals' : 'binary',\n",
    "          'verbosity' : 3}\n",
    "        }\n",
    "    inp['radical'] = 'Rmult_'+str(r)\n",
    "    lrun=[]\n",
    "    for n in virt:\n",
    "        inp['dft']['norbv'] = -n\n",
    "        inpname = 'Rmult_'+str(r)+'_numVirt_'+str(n)\n",
    "        Yaml.dump(inp,outputpath + inpname + '.yaml')\n",
    "        lrun.append(inpname)\n",
    "    Yaml.dump(lrun,outputpath+'runs_'+str(r))"
   ]
  },
  {
   "cell_type": "markdown",
   "metadata": {},
   "source": [
    "and execute the computation via the run file:"
   ]
  },
  {
   "cell_type": "code",
   "execution_count": 5,
   "metadata": {},
   "outputs": [
    {
     "name": "stdout",
     "output_type": "stream",
     "text": [
      "/media/DATA/RICERCA/LINEAR RESPONSE/LR-nb/POLARIZABILITY/CO/virtual-orbitals\n",
      "Executing command:  mpirun -np 4 $BIGDFT_ROOT/bigdft -r runs_7.0 -d ./log/ -s Yes\n",
      "/media/DATA/RICERCA/LINEAR RESPONSE/LR-nb/POLARIZABILITY/CO\n"
     ]
    }
   ],
   "source": [
    "code=C.SystemCalculator(omp=2,mpi=4)\n",
    "%cd $outputpath\n",
    "for r in rVal:\n",
    "    code.run(run_name='runs_'+str(r),skip=True,outdir='./log/')\n",
    "%cd ../"
   ]
  },
  {
   "cell_type": "markdown",
   "metadata": {},
   "source": [
    "We read the log files associated to the highest number of virtual orbitals and organize them in the lists Data."
   ]
  },
  {
   "cell_type": "code",
   "execution_count": 6,
   "metadata": {},
   "outputs": [
    {
     "name": "stdout",
     "output_type": "stream",
     "text": [
      "/media/DATA/RICERCA/LINEAR RESPONSE/LR-nb/POLARIZABILITY/CO/virtual-orbitals\n",
      "['log/log-Rmult_7.0_numVirt_304.yaml']\n",
      "/media/DATA/RICERCA/LINEAR RESPONSE/LR-nb/POLARIZABILITY/CO\n"
     ]
    }
   ],
   "source": [
    "Data = []\n",
    "%cd $outputpath\n",
    "for r in rVal:\n",
    "    spath = 'log/log-Rmult_'+str(r)+'_numVirt_'+str(virt[-1])+'.yaml'\n",
    "    log = !ls $spath\n",
    "    print log\n",
    "    Data.append(lf.Logfile(log[0]))\n",
    "%cd .."
   ]
  },
  {
   "cell_type": "markdown",
   "metadata": {},
   "source": [
    "We extract the value of the residue od the each orbital and plot it (we also display the reference value)\n",
    "\n",
    "The value 48 is the last iteration value (50 nominal iteration but for the last one the residue are not computed)"
   ]
  },
  {
   "cell_type": "code",
   "execution_count": 10,
   "metadata": {
    "collapsed": true
   },
   "outputs": [],
   "source": [
    "residues = Data[0].log['Optimization of virtual orbitals'][-2]['Residues per orbital']"
   ]
  },
  {
   "cell_type": "code",
   "execution_count": 11,
   "metadata": {},
   "outputs": [
    {
     "data": {
      "image/png": "[encoded data removed]",
      "text/plain": [
       "<matplotlib.figure.Figure at 0x7f9fe91efc10>"
      ]
     },
     "metadata": {},
     "output_type": "display_data"
    }
   ],
   "source": [
    "plt.plot(residues)\n",
    "plt.axhline(y=1e-4, color='r', linestyle='--')\n",
    "plt.title('Residue of virtual orbitals',fontsize=14)\n",
    "plt.yscale('log')\n",
    "plt.show()"
   ]
  },
  {
   "cell_type": "markdown",
   "metadata": {},
   "source": [
    "On the basis of this plot we set the number of virtual orbitals with the chosen level of confidence"
   ]
  },
  {
   "cell_type": "code",
   "execution_count": 12,
   "metadata": {},
   "outputs": [
    {
     "name": "stdout",
     "output_type": "stream",
     "text": [
      "282 res =  1.82537403716e-05\n"
     ]
    }
   ],
   "source": [
    "errMax = 1e-4\n",
    "notExcede = True\n",
    "i = 0\n",
    "while (notExcede):\n",
    "    if residues[i] > errMax:\n",
    "        notExcede = False\n",
    "    i+=1\n",
    "\n",
    "    virtMax = i-2\n",
    "print virtMax, 'res = ', residues[virtMax]"
   ]
  },
  {
   "cell_type": "markdown",
   "metadata": {},
   "source": [
    "To refine the result we perform the computation again (with a higher value of 'itermax_virt') and if needed we repeat the computation starting from the number of virtual orbitals that exceed the maximum allowed value:"
   ]
  },
  {
   "cell_type": "code",
   "execution_count": 13,
   "metadata": {},
   "outputs": [
    {
     "name": "stdout",
     "output_type": "stream",
     "text": [
      "[304, 256, 272, 288, 304, 256, 272, 288, 304]\n"
     ]
    }
   ],
   "source": [
    "virt_reduced = [304, 256, 272, 288, 304, 256, 272, 288, 304]\n",
    "print virt_reduced"
   ]
  },
  {
   "cell_type": "code",
   "execution_count": 14,
   "metadata": {
    "collapsed": true
   },
   "outputs": [],
   "source": [
    "for r in rVal:\n",
    "    inp={'dft':{\n",
    "          'rmult': [r, 9.0],\n",
    "          'itermax_virt' : 50,\n",
    "          'gnrm_cv_virt' : 1e-4},\n",
    "         'output': {\n",
    "          'orbitals' : 'binary',\n",
    "          'verbosity' : 3}\n",
    "        }\n",
    "    inp['radical'] = 'Rmult_'+str(r)\n",
    "    lrun=[]\n",
    "    for n in virt_reduced:\n",
    "        inp['dft']['norbv'] = -n\n",
    "        inpname = 'Rmult_'+str(r)+'_numVirt_'+str(n)\n",
    "        Yaml.dump(inp,outputpath + inpname + '.yaml')\n",
    "        lrun.append(inpname)\n",
    "    Yaml.dump(lrun,outputpath+'runs_reduced_'+str(r))"
   ]
  },
  {
   "cell_type": "markdown",
   "metadata": {},
   "source": [
    "we execute againg the selected input files"
   ]
  },
  {
   "cell_type": "code",
   "execution_count": 15,
   "metadata": {},
   "outputs": [
    {
     "name": "stdout",
     "output_type": "stream",
     "text": [
      "/media/DATA/RICERCA/LINEAR RESPONSE/LR-nb/POLARIZABILITY/CO/virtual-orbitals\n",
      "Executing command:  mpirun -np 4 $BIGDFT_ROOT/bigdft -r runs_reduced_7.0 -d ./log/ -s Yes\n",
      "/media/DATA/RICERCA/LINEAR RESPONSE/LR-nb/POLARIZABILITY/CO\n"
     ]
    }
   ],
   "source": [
    "code=C.SystemCalculator(omp=2,mpi=4)\n",
    "%cd $outputpath\n",
    "for r in rVal:\n",
    "    code.run(run_name='runs_reduced_'+str(r),skip=True,outdir='./log/')\n",
    "%cd ../"
   ]
  },
  {
   "cell_type": "markdown",
   "metadata": {},
   "source": [
    "We proceed with the refinement up to the choosen level of precision.\n",
    "\n",
    "We observe that the last computation performed is the one with the highest number of virtual orbitals, so the orbitals written on file are associated to this log, and we have to refer to it in order to correctly attribute energy and other paramters associated to them."
   ]
  },
  {
   "cell_type": "markdown",
   "metadata": {},
   "source": [
    "## Scaling of the energy vs. number of virtual orbitals"
   ]
  },
  {
   "cell_type": "markdown",
   "metadata": {},
   "source": [
    "We read data in the log associated to a specific number of virtual orbitals"
   ]
  },
  {
   "cell_type": "code",
   "execution_count": 16,
   "metadata": {},
   "outputs": [
    {
     "name": "stdout",
     "output_type": "stream",
     "text": [
      "/media/DATA/RICERCA/LINEAR RESPONSE/LR-nb/POLARIZABILITY/CO/virtual-orbitals\n",
      "['log/log-Rmult_7.0_numVirt_304.yaml']\n",
      "/media/DATA/RICERCA/LINEAR RESPONSE/LR-nb/POLARIZABILITY/CO\n"
     ]
    }
   ],
   "source": [
    "Data = []\n",
    "%cd $outputpath\n",
    "for r in rVal:\n",
    "    spath = 'log/log-Rmult_'+str(r)+'_numVirt_'+str(virt[-1])+'.yaml'\n",
    "    log = !ls $spath\n",
    "    print log\n",
    "    Data.append(lf.Logfile(log[0]))\n",
    "%cd .."
   ]
  },
  {
   "cell_type": "markdown",
   "metadata": {},
   "source": [
    "We build the array with the energy of the empty orbitals, up to virtMax. Results are expressed in eV"
   ]
  },
  {
   "cell_type": "code",
   "execution_count": 17,
   "metadata": {
    "collapsed": true
   },
   "outputs": [],
   "source": [
    "numOccOrb = 5\n",
    "engVirt = 27.211*Data[0].evals[0][0][numOccOrb:numOccOrb+virtMax-1]"
   ]
  },
  {
   "cell_type": "code",
   "execution_count": 18,
   "metadata": {},
   "outputs": [
    {
     "data": {
      "image/png": "[encoded data removed]",
      "text/plain": [
       "<matplotlib.figure.Figure at 0x7f9fe91d6b90>"
      ]
     },
     "metadata": {},
     "output_type": "display_data"
    }
   ],
   "source": [
    "plt.plot(engVirt)\n",
    "plt.title('Maximum Energy vs. number of virtual orbitals',fontsize=12)\n",
    "plt.show()"
   ]
  },
  {
   "cell_type": "markdown",
   "metadata": {},
   "source": [
    "We also plot the difference of the energy between two adiacent virtual orbitals:"
   ]
  },
  {
   "cell_type": "code",
   "execution_count": 19,
   "metadata": {
    "collapsed": true
   },
   "outputs": [],
   "source": [
    "deltaEng = []\n",
    "for i in range(len(engVirt)-1):\n",
    "    deltaEng.append(engVirt[i+1]-engVirt[i])"
   ]
  },
  {
   "cell_type": "code",
   "execution_count": 20,
   "metadata": {},
   "outputs": [
    {
     "data": {
      "image/png": "[encoded data removed]",
      "text/plain": [
       "<matplotlib.figure.Figure at 0x7f9fe8835810>"
      ]
     },
     "metadata": {},
     "output_type": "display_data"
    }
   ],
   "source": [
    "plt.plot(deltaEng)\n",
    "plt.title('Delta energy vs. number of virtual orbitals',fontsize=12)\n",
    "plt.yscale('log')\n",
    "plt.show()"
   ]
  },
  {
   "cell_type": "markdown",
   "metadata": {
    "collapsed": true
   },
   "source": [
    "## Expansion of the perturbed KS orbitals (cubic code)"
   ]
  },
  {
   "cell_type": "markdown",
   "metadata": {
    "collapsed": true
   },
   "source": [
    "We compute the projection of the KS orbitals for the ground state of the system under the action of a static electric field on the orbitals (both occupied and empty) computed here. We consider a field of norm $1e^{-2}$ both in the $z$ and $x$ directions. First of all we we build the input file, perform the computations and read the results."
   ]
  },
  {
   "cell_type": "markdown",
   "metadata": {},
   "source": [
    "### Generation of the input files and execution of the computations"
   ]
  },
  {
   "cell_type": "code",
   "execution_count": 21,
   "metadata": {},
   "outputs": [
    {
     "name": "stdout",
     "output_type": "stream",
     "text": [
      "/media/DATA/RICERCA/LINEAR RESPONSE/LR-nb/POLARIZABILITY/CO/virtual-orbitals\n",
      "Executing command:  mpirun -np 4 $BIGDFT_ROOT/bigdft -n CR_Ex_rmult_7.0_numVirt_282 -d ./log/ -s Yes\n",
      "Executing command:  mpirun -np 4 $BIGDFT_ROOT/bigdft -n CR_Ez_rmult_7.0_numVirt_282 -d ./log/ -s Yes\n",
      "/media/DATA/RICERCA/LINEAR RESPONSE/LR-nb/POLARIZABILITY/CO\n"
     ]
    }
   ],
   "source": [
    "for r in rVal:\n",
    "    psip_Ex = '../static-field/log/data-Ex_1em2_rmult_'+str(r) #relative path starting from outputpath\n",
    "    psip_Ez = '../static-field/log/data-Ez_1em2_rmult_'+str(r)\n",
    "    inpEx={'dft':\n",
    "           {'rmult': [r, 9.0],\n",
    "            'norbv': -virtMax,\n",
    "            'itermax_virt' : 1},\n",
    "           'output': {'orbitals' : 'No'},\n",
    "           'radical': 'Rmult_'+str(r),\n",
    "           'tddft':{'decompose_perturbation': psip_Ex}}\n",
    "    inpEz={'dft':\n",
    "           {'rmult': [r, 9.0],\n",
    "            'norbv': -virtMax,\n",
    "            'itermax_virt' : 1},\n",
    "           'output': {'orbitals' : 'No'},\n",
    "           'radical': 'Rmult_'+str(r),\n",
    "           'tddft':{'decompose_perturbation': psip_Ez}}\n",
    "    InpnameEx = 'CR_Ex_rmult_'+str(r)+'_numVirt_'+str(virtMax)\n",
    "    InpnameEz = 'CR_Ez_rmult_'+str(r)+'_numVirt_'+str(virtMax)\n",
    "\n",
    "    Yaml.dump(inpEz,outputpath + InpnameEz + '.yaml')\n",
    "    Yaml.dump(inpEx,outputpath + InpnameEx + '.yaml')\n",
    "    # execute the input files\n",
    "    %cd $outputpath\n",
    "    code.run(name=InpnameEx,skip=True,outdir='./log/')\n",
    "    code.run(name=InpnameEz,skip=True,outdir='./log/')\n",
    "    %cd ../\n",
    "\n"
   ]
  },
  {
   "cell_type": "code",
   "execution_count": 28,
   "metadata": {},
   "outputs": [
    {
     "name": "stdout",
     "output_type": "stream",
     "text": [
      "/media/DATA/RICERCA/LINEAR RESPONSE/LR-nb/POLARIZABILITY/CO/virtual-orbitals\n",
      "['log/log-CR_Ex_rmult_7.0_numVirt_282.yaml', 'log/log-CR_Ez_rmult_7.0_numVirt_282.yaml']\n",
      "/media/DATA/RICERCA/LINEAR RESPONSE/LR-nb/POLARIZABILITY/CO\n"
     ]
    }
   ],
   "source": [
    "# read the data. First index for the value of rmult, second index for the direction of the field\n",
    "CR_data = []\n",
    "%cd $outputpath\n",
    "for r in rVal:\n",
    "    spath = 'log/log-CR_E*_rmult_'+str(r)+'_numVirt_'+str(virtMax)+'.yaml'\n",
    "    logs = !ls $spath\n",
    "    print logs\n",
    "    CR_data.append([lf.Logfile(l) for l in logs])\n",
    "%cd .."
   ]
  },
  {
   "cell_type": "markdown",
   "metadata": {},
   "source": [
    "The element [i,j] of coeff_occ[n] contains the projection of the j-th perturbed (occupied) orbital on the i-th unperturbed (occupied) one. In the same way but with the opposite convention, coeff_vrt contains the projection of the i-th perturbed (occupied) orbital on the j-th unperturbed empty one"
   ]
  },
  {
   "cell_type": "markdown",
   "metadata": {},
   "source": [
    "### Assessment of the completeness of the basis"
   ]
  },
  {
   "cell_type": "markdown",
   "metadata": {},
   "source": [
    "The natural normalization condition for the (perturbed) occupied orbitals and the fact that orbitals can be chosen to be real functions, imply the following condition:\n",
    "$$\n",
    "n_{occ} = \\sum_p \\langle\\psi'_p|\\psi'_p\\rangle =\n",
    "\\sum_p \\int dr \\psi'_p(r)^2\n",
    "$$\n",
    "We expand the perturbed orbitals on the basis of the unpertubed ones (occupied and empty). If the basis is complete we have the following equality:\n",
    "$$\n",
    "\\psi'_p(r) = \\sum_p a_{pq}\\psi_p(r) + \\sum_{\\alpha}a_{p\\alpha}\\psi_{\\alpha}(r)\n",
    "$$\n",
    "Plugging this expansion in the first formula and remembering that the eigenstates of $H_0$ are orthonormal we have:\n",
    "$$\n",
    "n_{occ} = \\sum_{pq}a_{pq}^2 + \\sum_{p\\alpha}a_{p\\alpha}^2\n",
    "$$\n",
    "This equation can be used as an estimator to assess the completeness of a basis (built in terms of a finite number of empty orbitals). We observe that the contribute of the empty orbitals has to be equal to:\n",
    "$$\n",
    "R = n_{occ} - \\sum_{pq}a_{pq}^2 \n",
    "$$\n",
    "and we can intrdoduce the following estimator\n",
    "$$\n",
    "S_{n_{virt}} = R - \\sum_{p}\\sum_{\\alpha=1}^{n_{virt}}a_{p\\alpha}^2\n",
    "$$\n",
    "$S_{n_{virt}}$ is positive definite and vanishes only id the basis is complete. We observe that $S_{n_{virt}}$ is an extensive quantity (it scales linearly with the number of electrons), so in order to define an estimator that is independent from the size of the system we can analyze the quantity $S_{n_{virt}}/n_{occ}$. \n",
    "\n",
    "If we want to analyze the influence of the basis orbital per orbital we can introduce the partial estimators\n",
    "$$\n",
    "S^{p}_{n_{virt}} = 1 - \\sum_{q}a_{pq}^2  - \\sum_{\\alpha=1}^{n_{virt}}a_{p\\alpha}^2 \\doteq R^{p} \n",
    "- \\sum_{\\alpha=1}^{n_{virt}}a_{p\\alpha}^2 \n",
    "$$\n",
    "$S^{p}_{n_{virt}}$ is linked to the global estimator by the relation:\n",
    "$$\n",
    "\\sum_{p}S^{p}_{n_{virt}} = S_{n_{virt}}\n",
    "$$\n",
    "The routine that perform this computation is defined in the Routine.py module. The function evalS_nirt computes the \"intensive\" estimator $S_{n_{virt}}/n_{occ}$."
   ]
  },
  {
   "cell_type": "code",
   "execution_count": 29,
   "metadata": {},
   "outputs": [
    {
     "name": "stdout",
     "output_type": "stream",
     "text": [
      "no_occ 5 n_vrt 282\n",
      "R =  0.000552621442699\n",
      "no_occ 5 n_vrt 282\n",
      "R =  0.000718595017285\n"
     ]
    }
   ],
   "source": [
    "reload(R)\n",
    "e,S_nvirt_Ex = R.evalS_nvirt(CR_data[0][0])\n",
    "e,S_nvirt_Ez = R.evalS_nvirt(CR_data[0][1])"
   ]
  },
  {
   "cell_type": "code",
   "execution_count": 30,
   "metadata": {},
   "outputs": [
    {
     "data": {
      "image/png": "[encoded data removed]",
      "text/plain": [
       "<matplotlib.figure.Figure at 0x7f9fe85d90d0>"
      ]
     },
     "metadata": {},
     "output_type": "display_data"
    }
   ],
   "source": [
    "plt.semilogy(e,S_nvirt_Ex,label='Ex')\n",
    "plt.semilogy(e,S_nvirt_Ez,label='Ez')\n",
    "plt.xlabel('energy(eV)')\n",
    "plt.legend()\n",
    "plt.show()"
   ]
  },
  {
   "cell_type": "markdown",
   "metadata": {},
   "source": [
    "It is also interesting to compare the shape of the curves when plotted in terms of the number of virtual orbitals:"
   ]
  },
  {
   "cell_type": "code",
   "execution_count": 31,
   "metadata": {},
   "outputs": [
    {
     "data": {
      "image/png": "[encoded data removed]",
      "text/plain": [
       "<matplotlib.figure.Figure at 0x7f9fe8665650>"
      ]
     },
     "metadata": {},
     "output_type": "display_data"
    }
   ],
   "source": [
    "plt.semilogy(S_nvirt_Ex,label='Ex')\n",
    "plt.semilogy(S_nvirt_Ez,label='Ez')\n",
    "plt.xlabel('number of virtual orbitals')\n",
    "plt.legend()\n",
    "plt.show()"
   ]
  },
  {
   "cell_type": "code",
   "execution_count": null,
   "metadata": {
    "collapsed": true
   },
   "outputs": [],
   "source": []
  }
 ],
 "metadata": {
  "kernelspec": {
   "display_name": "Python 2",
   "language": "python",
   "name": "python2"
  },
  "language_info": {
   "codemirror_mode": {
    "name": "ipython",
    "version": 2
   },
   "file_extension": ".py",
   "mimetype": "text/x-python",
   "name": "python",
   "nbconvert_exporter": "python",
   "pygments_lexer": "ipython2",
   "version": "2.7.13"
  }
 },
 "nbformat": 4,
 "nbformat_minor": 2
}
