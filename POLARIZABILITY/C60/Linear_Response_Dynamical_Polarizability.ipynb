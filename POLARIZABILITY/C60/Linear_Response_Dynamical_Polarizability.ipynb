{
 "cells": [
  {
   "cell_type": "markdown",
   "metadata": {},
   "source": [
    "# Analysis of dynamical polarizability of $C_{60}$ in the linear response formalism"
   ]
  },
  {
   "cell_type": "markdown",
   "metadata": {
    "collapsed": true
   },
   "source": [
    "We analyze the computation of the dynamical polarizabilityi inside the linear response formalism.\n",
    "\n",
    "The aim of this notebook is to:\n",
    "\n",
    "* compute the Casida matrix associated to the highest value of virtual orbitals. \n",
    "* build the matrices associated to a lower number of virtual orbitals (by extracting its elements from the highest one) and discuss the rate of convergence of the statical polarizability to the reference value (formerly computed by including an explicit electric field). \n",
    "* evaluate the dynamical polarizability spectrum and discuss its stability in function of the number of virtual orbitals considered.  "
   ]
  },
  {
   "cell_type": "code",
   "execution_count": 2,
   "metadata": {
    "collapsed": false
   },
   "outputs": [
    {
     "data": {
      "application/javascript": [
       "IPython.notebook.set_autosave_interval(0)"
      ]
     },
     "metadata": {},
     "output_type": "display_data"
    },
    {
     "name": "stdout",
     "output_type": "stream",
     "text": [
      "Autosave disabled\n"
     ]
    }
   ],
   "source": [
    "%autosave 0\n",
    "from BigDFT import Logfiles as lf\n",
    "from BigDFT import Calculators as C\n",
    "from futile import Yaml\n",
    "import matplotlib.pyplot as plt\n",
    "import numpy as np\n",
    "#import scipy.fftpack\n",
    "import sys\n",
    "sys.path.insert(0,'../')\n",
    "import Routine as R\n",
    "outputpath = 'linear-response/'"
   ]
  },
  {
   "cell_type": "markdown",
   "metadata": {},
   "source": [
    "First of all we compute the coupling matrix"
   ]
  },
  {
   "cell_type": "code",
   "execution_count": 3,
   "metadata": {
    "collapsed": false
   },
   "outputs": [],
   "source": [
    "inp0 = {'dft' : \n",
    "        {'hgrids': 0.40,\n",
    "         'gnrm_cv' : 1e-8,\n",
    "         'itermax' : 100,\n",
    "         'inputpsiid': 2},\n",
    "        'tddft':{'tddft_approach': 'full'},\n",
    "        'posinp': 'C60_posinp.xyz'}\n",
    "Yaml.dump(inp0,outputpath + 'default.yaml')"
   ]
  },
  {
   "cell_type": "code",
   "execution_count": 4,
   "metadata": {
    "collapsed": true
   },
   "outputs": [],
   "source": [
    "virtMax = 112\n",
    "rVal = 7.0"
   ]
  },
  {
   "cell_type": "code",
   "execution_count": 5,
   "metadata": {
    "collapsed": true
   },
   "outputs": [],
   "source": [
    "inp={'dft':\n",
    "     {'rmult': [rVal, 9.0],\n",
    "      'itermax_virt' : 1},\n",
    "     'output': {\n",
    "      'orbitals' : 'No',\n",
    "      'verbosity' : 3}, \n",
    "     'radical': 'Rmult_7.0'}\n",
    "\n",
    "inp['dft']['norbv'] = -virtMax\n",
    "inpname = 'NumVirt_'+str(virtMax)\n",
    "Yaml.dump(inp,outputpath + inpname + '.yaml')"
   ]
  },
  {
   "cell_type": "markdown",
   "metadata": {},
   "source": [
    "We execute the input file and copy the coupling matrix and transition dipoles in the \"TDDFT-Results\" folder with the name coupling_matrix_n and transition_dipoles_n"
   ]
  },
  {
   "cell_type": "code",
   "execution_count": 6,
   "metadata": {
    "collapsed": false
   },
   "outputs": [
    {
     "name": "stdout",
     "output_type": "stream",
     "text": [
      "/local/genovese/LR-nb/POLARIZABILITY/C60/linear-response\n",
      "Executing command:  mpirun -np 4 $BIGDFT_ROOT/bigdft -n NumVirt_112 -d ./log/ -s Yes\n",
      "/local/genovese/LR-nb/POLARIZABILITY/C60\n"
     ]
    }
   ],
   "source": [
    "code=C.SystemCalculator(omp=3,mpi=4)\n",
    "%cd $outputpath\n",
    "code.run(name='NumVirt_'+str(virtMax),skip=True,outdir='./log/')\n",
    "%cd ../"
   ]
  },
  {
   "cell_type": "markdown",
   "metadata": {},
   "source": [
    "Read the dipoles and coupling matrix"
   ]
  },
  {
   "cell_type": "code",
   "execution_count": 7,
   "metadata": {
    "collapsed": false
   },
   "outputs": [],
   "source": [
    "import pandas as pd"
   ]
  },
  {
   "cell_type": "code",
   "execution_count": 8,
   "metadata": {
    "collapsed": false
   },
   "outputs": [
    {
     "name": "stdout",
     "output_type": "stream",
     "text": [
      "/local/genovese/LR-nb/POLARIZABILITY/C60/linear-response\n",
      "/local/genovese/LR-nb/POLARIZABILITY/C60\n"
     ]
    }
   ],
   "source": [
    "%cd $outputpath\n",
    "dpath = 'transition_dipoles.txt'\n",
    "dipoles = np.mat(pd.read_csv(dpath,delim_whitespace=True,header=None))#np.loadtxt(dpath)\n",
    "cpath = 'coupling_matrix.txt'\n",
    "C = np.mat(pd.read_csv(cpath,delim_whitespace=True,header=None))#np.loadtxt(cpath)\n",
    "%cd .."
   ]
  },
  {
   "cell_type": "markdown",
   "metadata": {},
   "source": [
    "We observe that $C$ is a symmetric matrix"
   ]
  },
  {
   "cell_type": "code",
   "execution_count": 9,
   "metadata": {
    "collapsed": false
   },
   "outputs": [
    {
     "data": {
      "text/plain": [
       "True"
      ]
     },
     "execution_count": 9,
     "metadata": {},
     "output_type": "execute_result"
    }
   ],
   "source": [
    "np.allclose(C,C.T,atol=1.e-12)"
   ]
  },
  {
   "cell_type": "code",
   "execution_count": 10,
   "metadata": {
    "collapsed": false
   },
   "outputs": [
    {
     "name": "stdout",
     "output_type": "stream",
     "text": [
      "26880\n"
     ]
    }
   ],
   "source": [
    "print 120*112*2\n",
    "C2=np.asarray(C)\n",
    "C2[0].shape\n",
    "C=np.asarray(C)"
   ]
  },
  {
   "cell_type": "code",
   "execution_count": 11,
   "metadata": {
    "collapsed": true
   },
   "outputs": [],
   "source": [
    "dipoles=np.asarray(dipoles)"
   ]
  },
  {
   "cell_type": "markdown",
   "metadata": {},
   "source": [
    "### Analysis of the statical polarizability"
   ]
  },
  {
   "cell_type": "markdown",
   "metadata": {},
   "source": [
    "We discuss the convergence of the static polarizability to its reference value obtained with the explicit electric field.\n",
    "We make use of the \"extract_subset\" routine to build coupling matrix and dipoles corresponding to a given set of virtual orbitals."
   ]
  },
  {
   "cell_type": "code",
   "execution_count": 12,
   "metadata": {
    "collapsed": true
   },
   "outputs": [],
   "source": [
    "eigenproblems={}"
   ]
  },
  {
   "cell_type": "code",
   "execution_count": 22,
   "metadata": {
    "collapsed": false
   },
   "outputs": [
    {
     "name": "stdout",
     "output_type": "stream",
     "text": [
      "treating 8\n",
      "extracted 8\n",
      "treating 16\n",
      "extracted 16\n",
      "treating 24\n",
      "extracted 24\n",
      "treating 32\n",
      "extracted 32\n",
      "treating 48\n",
      "extracted 48\n",
      "treating 64\n",
      "extracted 64\n",
      "diagonalized 64\n",
      "[338.25799043172663, 389.14261359628625, 399.70771716082311, 415.22060191800728, 453.55099881924883, 474.20662748783536]\n",
      "[340.37326802309059, 388.81838985311549, 399.71438799552612, 417.55721722996424, 453.14659387380226, 474.00967697560219]\n"
     ]
    }
   ],
   "source": [
    "alphaX = []\n",
    "alphaY = []\n",
    "alphaZ = []\n",
    "virt = [8,16,24, 32, 48, 64]#, 80, 96,virtMax]\n",
    "for nind,nval in enumerate(virt):\n",
    "    print 'treating',nval\n",
    "    C_ext,dipoles_ext=R.extract_subset([120],[virtMax],C,dipoles,[nval])\n",
    "    print 'extracted',nval\n",
    "\n",
    "    if nval not in eigenproblems:\n",
    "        E2,C_E2=np.linalg.eigh(C_ext)\n",
    "        print 'diagonalized',nval\n",
    "        eigenproblems[nval]=(E2,C_E2)\n",
    "    else:\n",
    "        E2,C_E2=eigenproblems[nval]\n",
    "    sumx = 0.0\n",
    "    sumy = 0.0\n",
    "    sumz = 0.0\n",
    "    for i,e in enumerate(E2):\n",
    "        a = np.dot(C_E2.T[i],dipoles_ext)\n",
    "        sumx+=2.0*a[0]*a[0]/e\n",
    "        sumy+=2.0*a[1]*a[1]/e\n",
    "        sumz+=2.0*a[2]*a[2]/e\n",
    "    alphaX.append(sumx)\n",
    "    alphaY.append(sumy)\n",
    "    alphaZ.append(sumz)\n",
    "print alphaX\n",
    "#print alphaY #to check if it equal to alphaX, ok!\n",
    "print alphaZ"
   ]
  },
  {
   "cell_type": "code",
   "execution_count": 23,
   "metadata": {
    "collapsed": true
   },
   "outputs": [],
   "source": [
    "alphaX_ref = 561.59\n",
    "alphaZ_ref = 561.59"
   ]
  },
  {
   "cell_type": "code",
   "execution_count": 24,
   "metadata": {
    "collapsed": true
   },
   "outputs": [],
   "source": [
    "alphaX_norm = [i/alphaX_ref for i in alphaX]\n",
    "alphaZ_norm = [i/alphaZ_ref for i in alphaZ]"
   ]
  },
  {
   "cell_type": "code",
   "execution_count": 25,
   "metadata": {
    "collapsed": false
   },
   "outputs": [
    {
     "data": {
      "image/png": "[encoded data removed]",
      "text/plain": [
       "<matplotlib.figure.Figure at 0x7f5b78582190>"
      ]
     },
     "metadata": {},
     "output_type": "display_data"
    }
   ],
   "source": [
    "plt.plot(virt,alphaX_norm,label='alphaX')\n",
    "plt.axhline(y=1.0, color='r', linestyle='--')\n",
    "plt.plot(virt,alphaZ_norm,label='alphaZ')\n",
    "plt.legend()\n",
    "plt.show()"
   ]
  },
  {
   "cell_type": "markdown",
   "metadata": {
    "collapsed": true
   },
   "source": [
    "### Dynamical polarizability in the adiabatic case"
   ]
  },
  {
   "cell_type": "markdown",
   "metadata": {},
   "source": [
    "We plot the imaginary part of (minus) $A(\\omega_0)$ using the coupling matrix e transition dipoles in function of the number of virtual orbitals considered in the computation. In particular we want to compare results for numVirt = 64,128,virtMax"
   ]
  },
  {
   "cell_type": "code",
   "execution_count": 26,
   "metadata": {
    "collapsed": false
   },
   "outputs": [
    {
     "name": "stdout",
     "output_type": "stream",
     "text": [
      "lenE2 1920 omegaMax 0.812307233246\n",
      "lenE2 3840 omegaMax 0.873417275485\n",
      "lenE2 5760 omegaMax 0.888950371069\n",
      "lenE2 7680 omegaMax 0.916372909789\n",
      "lenE2 11520 omegaMax 0.963775438116\n",
      "lenE2 15360 omegaMax 0.993015807528\n"
     ]
    }
   ],
   "source": [
    "npoint = 1000\n",
    "eta = 1.0e-2\n",
    "omega = []\n",
    "A = []\n",
    "#virt = [8,16,32,64,128,256,virtMax] #use previous one\n",
    "for ii,nVal in enumerate(virt):\n",
    "    C_ext,dipoles_ext=R.extract_subset([120],[virtMax],C,dipoles,[nVal])\n",
    "    E2,C_E2=eigenproblems[nVal]#np.linalg.eigh(C_ext)\n",
    "    omegaMax = np.sqrt(E2[-1]) #square root of the highest eigenvalues\n",
    "    print 'lenE2', len(E2), 'omegaMax', omegaMax\n",
    "    omega.append(np.linspace(0.0,omegaMax,npoint))\n",
    "    A_nVirt = np.zeros(npoint, dtype=complex)\n",
    "    fE = []\n",
    "    for i in range(len(E2)):\n",
    "        fE.append(np.dot(C_E2.T[i],dipoles_ext[:,2]))\n",
    "    for ind,o in enumerate(omega[ii]):\n",
    "        s = 0.0\n",
    "        for i,e in enumerate(E2):\n",
    "            s+=fE[i]**2/(complex(o,2*eta)**2-e)\n",
    "        A_nVirt[ind] = s\n",
    "    A.append(-np.imag(A_nVirt))"
   ]
  },
  {
   "cell_type": "code",
   "execution_count": 27,
   "metadata": {
    "collapsed": true
   },
   "outputs": [],
   "source": [
    "omega_ev = []\n",
    "for i in range(len(omega)):\n",
    "    omega_ev.append(27.211*omega[i])"
   ]
  },
  {
   "cell_type": "code",
   "execution_count": 29,
   "metadata": {
    "collapsed": false
   },
   "outputs": [
    {
     "data": {
      "image/png": "[encoded data removed]",
      "text/plain": [
       "<matplotlib.figure.Figure at 0x7f5b22fe91d0>"
      ]
     },
     "metadata": {},
     "output_type": "display_data"
    }
   ],
   "source": [
    "%matplotlib inline\n",
    "##%matplotlib auto \n",
    "for i in range(0,len(virt)):\n",
    "    plt.plot(omega_ev[i],A[i],label='NumVirt_'+str(virt[i]))\n",
    "plt.legend()\n",
    "plt.xlabel('energy(eV)')\n",
    "plt.title('Absorptium spectrum of C60', fontsize=14)\n",
    "plt.xlim([0,20])\n",
    "plt.show()"
   ]
  },
  {
   "cell_type": "markdown",
   "metadata": {
    "collapsed": true
   },
   "source": [
    "# Density of states of the optical excitations\n",
    "We can plot in the following the values of the energies of the Casida matrix to understand how the continuum plays a role in the identification of the excitation energies."
   ]
  },
  {
   "cell_type": "code",
   "execution_count": 31,
   "metadata": {
    "collapsed": false
   },
   "outputs": [
    {
     "name": "stdout",
     "output_type": "stream",
     "text": [
      "done 0.659843041184\n",
      "done 0.762857737116\n",
      "done 0.790232762224\n",
      "done 0.839739309796\n",
      "done 0.928863095116\n",
      "done 0.986080394001\n"
     ]
    }
   ],
   "source": [
    "evals=[]\n",
    "#virt = [8,16,32,64,128,256,virtMax]\n",
    "for ii,nVal in enumerate(virt):\n",
    "    #C_ext,dipoles_ext=R.extract_subset([120],[virtMax],C,dipoles,[nVal])\n",
    "    E2,C_E2=eigenproblems[nVal] #np.linalg.eigh(C_ext)\n",
    "    evals.append(E2)\n",
    "    print 'done',np.max(E2)"
   ]
  },
  {
   "cell_type": "code",
   "execution_count": 34,
   "metadata": {
    "collapsed": false
   },
   "outputs": [
    {
     "data": {
      "image/png": "[encoded data removed]",
      "text/plain": [
       "<matplotlib.figure.Figure at 0x7f5b34f2ef50>"
      ]
     },
     "metadata": {},
     "output_type": "display_data"
    }
   ],
   "source": [
    "for e in range(0,64):\n",
    "    plt.semilogx(virt[0:],[27.21138*np.sqrt(ev[e]) for ev in evals[0:]],'-o')\n",
    "    #plt.scatter(dimBox,enOrbEx[orb])\n",
    "    title = 'Energies of excitations'\n",
    "    plt.title(title,fontsize=16)\n",
    "plt.show()"
   ]
  },
  {
   "cell_type": "code",
   "execution_count": null,
   "metadata": {
    "collapsed": true
   },
   "outputs": [],
   "source": []
  }
 ],
 "metadata": {
  "kernelspec": {
   "display_name": "Python 2",
   "language": "python",
   "name": "python2"
  },
  "language_info": {
   "codemirror_mode": {
    "name": "ipython",
    "version": 2
   },
   "file_extension": ".py",
   "mimetype": "text/x-python",
   "name": "python",
   "nbconvert_exporter": "python",
   "pygments_lexer": "ipython2",
   "version": "2.7.12+"
  }
 },
 "nbformat": 4,
 "nbformat_minor": 2
}
