{
 "cells": [
  {
   "cell_type": "markdown",
   "metadata": {},
   "source": [
    "# Analysis of $C_{60}$ in a static electric field"
   ]
  },
  {
   "cell_type": "markdown",
   "metadata": {},
   "source": [
    "We consider a $C_{60}$ molecule in a static electric field. We present results for field directed in the z directions. Other directions should provide the same results due to the spherical symmetry of the system.  \n",
    "The main aim of this analysis is to determine the minimum dimension allowed of the simulation box as a function of the field intensity. As a criterium of consistency we require that the energy of the occupied KS orbitals should remain constant as the dimension of the box is increased.  "
   ]
  },
  {
   "cell_type": "code",
   "execution_count": 1,
   "metadata": {},
   "outputs": [
    {
     "data": {
      "application/javascript": [
       "IPython.notebook.set_autosave_interval(0)"
      ]
     },
     "metadata": {},
     "output_type": "display_data"
    },
    {
     "name": "stdout",
     "output_type": "stream",
     "text": [
      "Autosave disabled\n"
     ]
    }
   ],
   "source": [
    "%autosave 0\n",
    "from BigDFT import Logfiles as lf\n",
    "from BigDFT import Calculators as C\n",
    "from futile import Yaml\n",
    "from copy import deepcopy\n",
    "import matplotlib.pyplot as plt\n",
    "import numpy as np\n",
    "import sys\n",
    "sys.path.insert(0,'../')\n",
    "import Routine as R\n",
    "outputpath = 'static-field/'"
   ]
  },
  {
   "cell_type": "markdown",
   "metadata": {},
   "source": [
    "First of all we define the python dictionary that contains the basic keys common to all the file in the run and we write these common variables in the default file"
   ]
  },
  {
   "cell_type": "code",
   "execution_count": 2,
   "metadata": {
    "collapsed": true
   },
   "outputs": [],
   "source": [
    "inp0 = {'dft' : \n",
    "        {'hgrids': 0.40,\n",
    "         'gnrm_cv' : 1e-8,\n",
    "         'itermax' : 100},\n",
    "        'posinp': 'C60_posinp.xyz'}\n",
    "Yaml.dump(inp0,outputpath + 'default.yaml')"
   ]
  },
  {
   "cell_type": "markdown",
   "metadata": {},
   "source": [
    "We perform the analysis for different values of the field norm and different boz sizes"
   ]
  },
  {
   "cell_type": "markdown",
   "metadata": {},
   "source": [
    "## Generation and execution of the input files"
   ]
  },
  {
   "cell_type": "code",
   "execution_count": 7,
   "metadata": {},
   "outputs": [
    {
     "name": "stdout",
     "output_type": "stream",
     "text": [
      "[[0.0, '0_'], [0.0001, '1em4_'], [0.001, '1em3_'], [0.01, '1em2_'], [0.05, '5em2_']]\n",
      "[5.0, 6.0, 7.0, 8.0]\n"
     ]
    }
   ],
   "source": [
    "enorm = [[0.0,str('0_')],[1e-4,str('1em4_')], [1e-3,str('1em3_')],[1e-2,str('1em2_')], [5e-2,str('5em2_')]]#, [1e-1,str('1em1_')]]\n",
    "rVal = [float(i) for i in range(5,9)]\n",
    "print enorm\n",
    "print rVal"
   ]
  },
  {
   "cell_type": "markdown",
   "metadata": {},
   "source": [
    "We generate the input files and the run files (one for each value of the field norm)"
   ]
  },
  {
   "cell_type": "code",
   "execution_count": 8,
   "metadata": {
    "collapsed": true
   },
   "outputs": [],
   "source": [
    "for e in enorm:\n",
    "    ez=[0.0,0.0,e[0]]\n",
    "    inpEz={'dft':{'elecfield': ez}}\n",
    "    lrun=[]\n",
    "    for r in rVal:\n",
    "        inpEz['dft']['rmult'] = [r, 9.0]\n",
    "        inpnameEz = 'Ez_'+e[1]+str('rmult_')+str(r)\n",
    "        Yaml.dump(inpEz,outputpath + inpnameEz + '.yaml')\n",
    "        lrun.append(inpnameEz)\n",
    "    Yaml.dump(lrun,outputpath+'runs_'+e[1])"
   ]
  },
  {
   "cell_type": "markdown",
   "metadata": {},
   "source": [
    "We execute the run files"
   ]
  },
  {
   "cell_type": "code",
   "execution_count": 5,
   "metadata": {},
   "outputs": [
    {
     "name": "stdout",
     "output_type": "stream",
     "text": [
      "/media/DATA/RICERCA/LINEAR RESPONSE/LR-nb/POLARIZABILITY/C60/static-field\n",
      "Executing command:  mpirun -np 4 $BIGDFT_ROOT/bigdft -r runs_0_ -d ./log/ -s Yes\n",
      "Executing command:  mpirun -np 4 $BIGDFT_ROOT/bigdft -r runs_1em4_ -d ./log/ -s Yes\n",
      "Executing command:  mpirun -np 4 $BIGDFT_ROOT/bigdft -r runs_1em3_ -d ./log/ -s Yes\n",
      "Executing command:  mpirun -np 4 $BIGDFT_ROOT/bigdft -r runs_1em2_ -d ./log/ -s Yes\n",
      "Executing command:  mpirun -np 4 $BIGDFT_ROOT/bigdft -r runs_5em2_ -d ./log/ -s Yes\n",
      "/media/DATA/RICERCA/LINEAR RESPONSE/LR-nb/POLARIZABILITY/C60\n"
     ]
    }
   ],
   "source": [
    "code=C.SystemCalculator(omp=2,mpi=4)\n",
    "%cd $outputpath\n",
    "for e in enorm:\n",
    "    code.run(run_name='runs_'+e[1],skip=True,outdir='./log/')\n",
    "%cd ../"
   ]
  },
  {
   "cell_type": "markdown",
   "metadata": {
    "collapsed": true
   },
   "source": [
    "## Data Analysis"
   ]
  },
  {
   "cell_type": "markdown",
   "metadata": {},
   "source": [
    "We discuss the results of these computations. In particular we analyze the scaling of the energy of the occupied orbitals for each value of the field and we check the if the choosen value of the field belong the regime of linear response."
   ]
  },
  {
   "cell_type": "markdown",
   "metadata": {},
   "source": [
    "We read all the log files and organize them in a lists sorted according to the field norm"
   ]
  },
  {
   "cell_type": "code",
   "execution_count": 9,
   "metadata": {},
   "outputs": [
    {
     "name": "stdout",
     "output_type": "stream",
     "text": [
      "/media/DATA/RICERCA/LINEAR RESPONSE/LR-nb/POLARIZABILITY/C60/static-field\n",
      "/media/DATA/RICERCA/LINEAR RESPONSE/LR-nb/POLARIZABILITY/C60\n"
     ]
    }
   ],
   "source": [
    "EzLog = []\n",
    "%cd $outputpath\n",
    "for e in enorm:\n",
    "    spath = 'log/'+str('log-Ez_')+e[1]+str('*') \n",
    "    logsEz = !ls $spath\n",
    "    #print logsEz\n",
    "    EzLog.append([lf.Logfile(l) for l in logsEz])\n",
    "%cd .."
   ]
  },
  {
   "cell_type": "code",
   "execution_count": 44,
   "metadata": {},
   "outputs": [
    {
     "name": "stdout",
     "output_type": "stream",
     "text": [
      "[0.0, 0.0, 0.01]\n",
      "[7.0, 9.0]\n",
      "[-0.90406523 -0.88371887 -0.88371349 -0.88148953 -0.84786366 -0.84748279\n",
      " -0.84747466 -0.84689453 -0.84668375 -0.8103353  -0.80978222 -0.80957253\n",
      " -0.77939693 -0.77938286 -0.77936497 -0.779265   -0.73288118 -0.73277333\n",
      " -0.73274789 -0.7325422  -0.73244387 -0.71545067 -0.71537714 -0.71536081\n",
      " -0.71495678 -0.65998292 -0.65992781 -0.65955    -0.65952809 -0.65945691\n",
      " -0.65517231 -0.6551692  -0.65502351 -0.61861727 -0.61842405 -0.61792063\n",
      " -0.57878126 -0.57862126 -0.57851652 -0.5781538  -0.57783854 -0.57273018\n",
      " -0.57254708 -0.57254424 -0.56431511 -0.51967888 -0.51965213 -0.51954833\n",
      " -0.51948294 -0.49056056 -0.49049244 -0.49023088 -0.49014574 -0.49014051\n",
      " -0.4824879  -0.48248446 -0.48235182 -0.46186206 -0.4601571  -0.46013802\n",
      " -0.46009524 -0.43777178 -0.43776275 -0.43558334 -0.43548349 -0.43543542\n",
      " -0.43539375 -0.43452166 -0.41678819 -0.41646394 -0.41645458 -0.4159481\n",
      " -0.41591079 -0.40273179 -0.40266196 -0.40230855 -0.40215724 -0.3964367\n",
      " -0.3962187  -0.39571262 -0.39534437 -0.3950315  -0.39278764 -0.3925442\n",
      " -0.39190851 -0.37394796 -0.37378778 -0.3733986  -0.37328017 -0.3483282\n",
      " -0.34783231 -0.34762051 -0.34178516 -0.34176718 -0.33909477 -0.33881816\n",
      " -0.33738536 -0.32840873 -0.32836811 -0.32825244 -0.32823152 -0.32650647\n",
      " -0.32521443 -0.32493865 -0.32248524 -0.32242378 -0.27180754 -0.27172653\n",
      " -0.27075462 -0.27071866 -0.27034466 -0.26747982 -0.26714808 -0.26673684\n",
      " -0.26565992 -0.2234436  -0.22297859 -0.22218122 -0.22183284 -0.22148299]\n"
     ]
    }
   ],
   "source": [
    "# The first index select the field, the second the box. For intance:\n",
    "print EzLog[3][0].log['dft']['elecfield']\n",
    "print EzLog[0][2].log['dft']['rmult']\n",
    "print EzLog[3][0].evals[0][0] #give the energy of the orbitals"
   ]
  },
  {
   "cell_type": "markdown",
   "metadata": {},
   "source": [
    "We define some useful parameters"
   ]
  },
  {
   "cell_type": "code",
   "execution_count": 18,
   "metadata": {},
   "outputs": [
    {
     "name": "stdout",
     "output_type": "stream",
     "text": [
      "numField 5\n",
      "numBox 4\n",
      "numOrb 120\n"
     ]
    }
   ],
   "source": [
    "numField = len(EzLog)\n",
    "numBox = len(EzLog[0])\n",
    "numOrb = len(EzLog[0][0].evals[0][0])\n",
    "print 'numField',numField\n",
    "print 'numBox', numBox\n",
    "print 'numOrb', numOrb"
   ]
  },
  {
   "cell_type": "markdown",
   "metadata": {},
   "source": [
    "### Energy scaling of the occupied orbitals vs. size of the simulation box"
   ]
  },
  {
   "cell_type": "markdown",
   "metadata": {},
   "source": [
    "We chose a value of the field norm"
   ]
  },
  {
   "cell_type": "code",
   "execution_count": 23,
   "metadata": {},
   "outputs": [
    {
     "name": "stdout",
     "output_type": "stream",
     "text": [
      "Field norm = 1em2_\n"
     ]
    }
   ],
   "source": [
    "eind = 3\n",
    "print 'Field norm = ' + enorm[eind][1]"
   ]
  },
  {
   "cell_type": "markdown",
   "metadata": {},
   "source": [
    "Plot the energy of each orbitals in function of the size of the box (z dimension) (for both directions of the field)"
   ]
  },
  {
   "cell_type": "code",
   "execution_count": 24,
   "metadata": {
    "scrolled": false
   },
   "outputs": [
    {
     "name": "stdout",
     "output_type": "stream",
     "text": [
      "Ez [0.0, 0.0, 0.01]\n"
     ]
    },
    {
     "data": {
      "image/png": "[encoded data removed]",
      "text/plain": [
       "<matplotlib.figure.Figure at 0x7f5fac08bc10>"
      ]
     },
     "metadata": {},
     "output_type": "display_data"
    }
   ],
   "source": [
    "print  'Ez',EzLog[eind][0].log['dft']['elecfield']\n",
    "enOrbEz=[]\n",
    "for orb in range(numOrb):\n",
    "    eorb=[]\n",
    "    for box in range(numBox):\n",
    "        eorb.append(EzLog[eind][box].evals[0][0][orb])\n",
    "    enOrbEz.append(eorb)\n",
    "    \n",
    "dimBox=[]\n",
    "for box in range(numBox):\n",
    "    dimBox.append(EzLog[eind][box].log['Sizes of the simulation domain']['Angstroem'][2])\n",
    "\n",
    "for orb in range(numOrb):\n",
    "    plt.plot(dimBox,enOrbEz[orb])\n",
    "    plt. scatter(dimBox,enOrbEz[orb])\n",
    "    title = 'Energy of KS orbitals (Ez= '+ enorm[eind][1]+str(')')\n",
    "plt.title(title,fontsize=16)\n",
    "plt.show()"
   ]
  },
  {
   "cell_type": "markdown",
   "metadata": {},
   "source": [
    "These plots evidence that the orbitals are not stable for norm of the field greater than $1e^{-2}$. So we conlude that a field norm equal to $1e^{-2}$ is the highest value compatible with a static stable deformation"
   ]
  },
  {
   "cell_type": "markdown",
   "metadata": {},
   "source": [
    "Now we perform some plots that aim to extablish a criterium for choosing the optimum value of the simulation box.\n",
    "\n",
    "First of all we plot the difference between the energy of each orbital and its value for the greatest simulation box"
   ]
  },
  {
   "cell_type": "code",
   "execution_count": 25,
   "metadata": {},
   "outputs": [
    {
     "data": {
      "image/png": "[encoded data removed]",
      "text/plain": [
       "<matplotlib.figure.Figure at 0x7f5fac602c90>"
      ]
     },
     "metadata": {},
     "output_type": "display_data"
    }
   ],
   "source": [
    "deltaEz=[]\n",
    "for orb in range(numOrb):\n",
    "    delta = enOrbEz[orb]-enOrbEz[orb][-1]\n",
    "    deltaEz.append(delta)\n",
    "\n",
    "for orb in range(numOrb):\n",
    "    plt.plot(dimBox,deltaEz[orb])\n",
    "    plt.scatter(dimBox,deltaEz[orb])\n",
    "    title = 'Delta energy of KS orbitals (Ez= '+ enorm[eind][1]+str(')')\n",
    "plt.title(title,fontsize=16)\n",
    "plt.yscale('log')\n",
    "plt.show()"
   ]
  },
  {
   "cell_type": "markdown",
   "metadata": {},
   "source": [
    "We also plot the (module of the) difference between the energy of each orbital and its value in the box immeadetly lower."
   ]
  },
  {
   "cell_type": "code",
   "execution_count": 27,
   "metadata": {},
   "outputs": [
    {
     "data": {
      "image/png": "[encoded data removed]",
      "text/plain": [
       "<matplotlib.figure.Figure at 0x7f5faa642310>"
      ]
     },
     "metadata": {},
     "output_type": "display_data"
    }
   ],
   "source": [
    "deltaEz=[]\n",
    "for orb in range(numOrb):\n",
    "    dz = []\n",
    "    for i in range(numBox-1):\n",
    "        dz.append(np.abs(enOrbEz[orb][i+1]-enOrbEz[orb][i]))\n",
    "    deltaEz.append(dz)\n",
    "\n",
    "dimBoxCut = [dimBox[i] for i in range(1,numBox)]\n",
    "\n",
    "for orb in range(numOrb):\n",
    "    plt.plot(dimBoxCut,deltaEz[orb])\n",
    "    plt.scatter(dimBoxCut,deltaEz[orb])\n",
    "    title = 'Delta energy of KS orbitals (Ez= '+ enorm[eind][1]+str(')')\n",
    "plt.title(title,fontsize=16)\n",
    "plt.yscale('log')\n",
    "plt.show()"
   ]
  },
  {
   "cell_type": "markdown",
   "metadata": {
    "collapsed": true
   },
   "source": [
    "These plots evidence that the scaling of the energy with the size of the box reduce exponentially and for rmult = 7.0\n",
    "is lower than $1e^{-4}$. "
   ]
  },
  {
   "cell_type": "markdown",
   "metadata": {},
   "source": [
    "### Computation of the static polarizability"
   ]
  },
  {
   "cell_type": "markdown",
   "metadata": {},
   "source": [
    "We build the following lists, with the values of the x and z components of the induced dipole moments of the fields. We use these values to check the linearity of the dipole moments with respect to the field"
   ]
  },
  {
   "cell_type": "code",
   "execution_count": 71,
   "metadata": {},
   "outputs": [
    {
     "name": "stdout",
     "output_type": "stream",
     "text": [
      "rmult =  7.0\n",
      "Max Field norm = 1em2_\n"
     ]
    }
   ],
   "source": [
    "box = 2\n",
    "eMax = 3\n",
    "print 'rmult = ', EzLog[0][box].log['dft']['rmult'][0]\n",
    "print 'Max Field norm = ' + enorm[eMax][1]"
   ]
  },
  {
   "cell_type": "code",
   "execution_count": 72,
   "metadata": {},
   "outputs": [
    {
     "data": {
      "image/png": "[encoded data removed]",
      "text/plain": [
       "<matplotlib.figure.Figure at 0x7f5fac90b210>"
      ]
     },
     "metadata": {},
     "output_type": "display_data"
    },
    {
     "name": "stdout",
     "output_type": "stream",
     "text": [
      "alphaZ =  561.594233465\n",
      "intercept =  -0.000768661114624\n"
     ]
    }
   ],
   "source": [
    "dipoleZ=[]\n",
    "eFieldZ=[]\n",
    "for i in range(eMax+1):\n",
    "    dipoleZ.append(EzLog[i][box].log['Electric Dipole Moment (AU)']['P vector'][2])\n",
    "    eFieldZ.append(enorm[i][0])\n",
    "    \n",
    "# compute the induced dipole by subtracting the value of the dipole at zero field\n",
    "indDipoleZ=[dipoleZ[i]-dipoleZ[0] for i in range(len(dipoleZ))]\n",
    "\n",
    "plt.plot(eFieldZ,indDipoleZ)\n",
    "plt.scatter(eFieldZ,indDipoleZ, color='r')\n",
    "plt.title('Dipole moment vs E field (z component)',fontsize=16)\n",
    "plt.show()\n",
    "\n",
    "from scipy import stats\n",
    "alphaZ, intercept, r_value, p_value, std_err = stats.linregress(eFieldZ,indDipoleZ)\n",
    "print 'alphaZ = ', alphaZ\n",
    "print 'intercept = ', intercept"
   ]
  },
  {
   "cell_type": "markdown",
   "metadata": {},
   "source": [
    "We compute the variation of the energy of the orbitals induced by the electric field:"
   ]
  },
  {
   "cell_type": "code",
   "execution_count": 52,
   "metadata": {},
   "outputs": [
    {
     "name": "stdout",
     "output_type": "stream",
     "text": [
      "[  3.46856952e-03   1.78919667e-03   1.78388541e-03   4.47636798e-04\n",
      "   1.58429988e-03   1.20121810e-03   1.19657505e-03   6.13484870e-04\n",
      "   4.02628917e-04   9.34833074e-04   3.81156087e-04   1.72560349e-04\n",
      "   1.29656356e-03   1.34119908e-03   1.32520834e-03   1.22245907e-03\n",
      "   1.04575933e-03   9.38526010e-04   9.14393087e-04   7.33243168e-04\n",
      "   6.35293821e-04   1.15337695e-03   1.17767589e-03   1.16251216e-03\n",
      "   7.61369891e-04   9.72378542e-04   9.23277631e-04   5.51084355e-04\n",
      "   5.30638334e-04   4.64246517e-04   1.04360526e-03   1.04442727e-03\n",
      "   9.03086575e-04   1.75040049e-03   1.56132906e-03   1.05980746e-03\n",
      "   8.56314767e-04   7.04573797e-04   7.37922383e-04   3.78211167e-04\n",
      "   6.51928577e-05   1.05032885e-03   8.71453642e-04   8.70992693e-04\n",
      "   1.10603791e-03   1.48324534e-03   1.45771045e-03   1.35626105e-03\n",
      "   1.34844605e-03   8.69214555e-04   8.06044740e-04   6.01311407e-04\n",
      "   5.17631975e-04   5.16790686e-04   1.14561489e-03   1.14211352e-03\n",
      "   1.01114726e-03   2.80427047e-03   1.11313735e-03   1.09937391e-03\n",
      "   2.78446609e-03   2.19867578e-03   2.18964509e-03   2.59323642e-05\n",
      "   1.46337092e-03   1.42083512e-03   1.38087214e-03   5.83773601e-04\n",
      "   1.06084630e-03   7.38149267e-04   7.33071799e-04   4.04673031e-04\n",
      "   3.69053791e-04   1.43302103e-03   1.36568804e-03   1.01893326e-03\n",
      "   1.06158989e-03   1.67164968e-03   1.45339612e-03   9.47958564e-04\n",
      "   5.83394473e-04   2.70476775e-04   9.91658461e-04   7.51670017e-04\n",
      "   1.18808838e-04   1.84769848e-05   6.38718173e-05   3.23103187e-04\n",
      "   4.40222306e-04   1.14756924e-03   6.53910812e-04   4.43545823e-04\n",
      "   4.57841961e-03   4.57324571e-03   1.89357817e-03   1.81934899e-03\n",
      "   3.91501299e-04   1.31238925e-03   1.32823580e-03   1.21450034e-03\n",
      "   1.19461012e-03   5.83772943e-04   7.01495020e-04   8.51887496e-04\n",
      "   3.30487062e-03   3.35483421e-03   1.94082104e-03   1.85933750e-03\n",
      "   8.87164117e-04   8.52767266e-04   4.78430696e-04   1.89559339e-03\n",
      "   1.63172670e-03   1.22119492e-03   1.46108680e-04   6.31004403e-04\n",
      "   1.70210262e-04   5.90609632e-04   9.37849185e-04   1.28126426e-03]\n",
      "min =  1.84769848e-05 max =  0.0045784196113\n"
     ]
    }
   ],
   "source": [
    "deltaEngOrb = abs(EzLog[3][2].evals[0][0]-EzLog[0][2].evals[0][0])\n",
    "print deltaEngOrb\n",
    "print 'min = ', min(deltaEngOrb), 'max = ', max(deltaEngOrb)"
   ]
  },
  {
   "cell_type": "markdown",
   "metadata": {
    "collapsed": true
   },
   "source": [
    "### Write the occupied orbitals on disk"
   ]
  },
  {
   "cell_type": "markdown",
   "metadata": {},
   "source": [
    "As a final task of this nb we compute the KS orbitals of the ground state for the field norm equal to $1e-2$, which is the highest computed value of the field for which the linear response regime has been confirmed."
   ]
  },
  {
   "cell_type": "code",
   "execution_count": 41,
   "metadata": {
    "collapsed": true
   },
   "outputs": [],
   "source": [
    "eind = 3 # corresponds to enorm = 1e-2\n",
    "rMult = [7.0] # value of rmult\n",
    "ez=[0.0,0.0,enorm[eind][0]]\n",
    "inpEz={'dft':{'elecfield': ez},\n",
    "       'output': {'orbitals' : 'binary'}}\n",
    "lrun=[]\n",
    "for r in rMult:\n",
    "    inpEz['dft']['rmult'] = [r, 9.0]\n",
    "    inpEz['radical'] = 'Ez_'+enorm[eind][1]+'rmult_'+str(r)\n",
    "    inpnameEz = 'Ez_wf_'+enorm[eind][1]+str('rmult_')+str(r)\n",
    "    Yaml.dump(inpEz,outputpath + inpnameEz + '.yaml')\n",
    "    lrun.append(inpnameEz)\n",
    "Yaml.dump(lrun,outputpath+'runs_wf')"
   ]
  },
  {
   "cell_type": "markdown",
   "metadata": {},
   "source": [
    "We execute the input files"
   ]
  },
  {
   "cell_type": "code",
   "execution_count": 42,
   "metadata": {},
   "outputs": [
    {
     "name": "stdout",
     "output_type": "stream",
     "text": [
      "/media/DATA/RICERCA/LINEAR RESPONSE/LR-nb/POLARIZABILITY/C60/static-field\n",
      "Executing command:  mpirun -np 4 $BIGDFT_ROOT/bigdft -r runs_wf -d ./log/ -s Yes\n",
      "/media/DATA/RICERCA/LINEAR RESPONSE/LR-nb/POLARIZABILITY/C60\n"
     ]
    }
   ],
   "source": [
    "%cd $outputpath\n",
    "code.run(run_name='runs_wf',skip=True,outdir='./log/')\n",
    "%cd ../"
   ]
  },
  {
   "cell_type": "code",
   "execution_count": null,
   "metadata": {
    "collapsed": true
   },
   "outputs": [],
   "source": []
  }
 ],
 "metadata": {
  "kernelspec": {
   "display_name": "Python 2",
   "language": "python",
   "name": "python2"
  },
  "language_info": {
   "codemirror_mode": {
    "name": "ipython",
    "version": 2
   },
   "file_extension": ".py",
   "mimetype": "text/x-python",
   "name": "python",
   "nbconvert_exporter": "python",
   "pygments_lexer": "ipython2",
   "version": "2.7.13"
  }
 },
 "nbformat": 4,
 "nbformat_minor": 2
}
