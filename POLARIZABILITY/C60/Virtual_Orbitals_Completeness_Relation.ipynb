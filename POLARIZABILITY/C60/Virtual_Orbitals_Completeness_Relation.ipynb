{
 "cells": [
  {
   "cell_type": "markdown",
   "metadata": {},
   "source": [
    "# Computation of virtual orbitals and check of the completeness relation for $C_{60}$"
   ]
  },
  {
   "cell_type": "markdown",
   "metadata": {},
   "source": [
    "We compute the virtual orbitals of the $C_{60}$ molecule and evalute the maximum energy sampled by the system. Then we use this basis to express the occupied orbitals of the same molecule subjected to a static electric field."
   ]
  },
  {
   "cell_type": "code",
   "execution_count": 1,
   "metadata": {},
   "outputs": [
    {
     "data": {
      "application/javascript": [
       "IPython.notebook.set_autosave_interval(0)"
      ]
     },
     "metadata": {},
     "output_type": "display_data"
    },
    {
     "name": "stdout",
     "output_type": "stream",
     "text": [
      "Autosave disabled\n"
     ]
    }
   ],
   "source": [
    "%autosave 0\n",
    "from BigDFT import Logfiles as lf\n",
    "from BigDFT import Calculators as C\n",
    "from futile import Yaml\n",
    "from copy import deepcopy\n",
    "import matplotlib.pyplot as plt\n",
    "import numpy as np\n",
    "import sys\n",
    "sys.path.insert(0,'../')\n",
    "import Routine as R\n",
    "outputpath = 'virtual-orbitals/'"
   ]
  },
  {
   "cell_type": "markdown",
   "metadata": {},
   "source": [
    "First of all we define the python dictionary that contains the basic keys common to all the file in the run and we write these common variables in the default file"
   ]
  },
  {
   "cell_type": "code",
   "execution_count": 2,
   "metadata": {
    "collapsed": true
   },
   "outputs": [],
   "source": [
    "inp0 = {'dft' : \n",
    "        {'hgrids': 0.40,\n",
    "         'gnrm_cv' : 1e-8,\n",
    "         'itermax' : 100,\n",
    "         'inputpsiid': 2},\n",
    "        'posinp': 'C60_posinp.xyz'}\n",
    "Yaml.dump(inp0,outputpath + 'default.yaml')"
   ]
  },
  {
   "cell_type": "markdown",
   "metadata": {},
   "source": [
    "## Computation of the virtual orbitals (cubic code)"
   ]
  },
  {
   "cell_type": "markdown",
   "metadata": {},
   "source": [
    "The aim of this computation is to produce the set of virtual orbitals, up to the highest value specified by the 'virtMax' parameter with a maximum residue of $1e^{-4}$. To obtain this result we produce a list of virtual orbitals denoted as 'virt' (using a linear spacing). virt contains a number of virtual orbitals higher than virtMax, because the last elements have a higher residue and are included only to improve the convergence of the lower ones.\n",
    "\n",
    "The computation is performed for rMult = 7.0, but the code is written in a way prone to the inclusion of other values."
   ]
  },
  {
   "cell_type": "code",
   "execution_count": 3,
   "metadata": {},
   "outputs": [
    {
     "name": "stdout",
     "output_type": "stream",
     "text": [
      "[8, 16, 24, 32, 40, 48, 56, 64, 72, 80]\n"
     ]
    }
   ],
   "source": [
    "virt=[8+8*i for i in range(10)]\n",
    "#virt = [8, 16, 24, 32, 40, 48]\n",
    "print virt\n",
    "rVal = [7.0]"
   ]
  },
  {
   "cell_type": "markdown",
   "metadata": {},
   "source": [
    "We run the first set of calculation with 'itermax_virt' in the range 20-30. In this way we build a first guess of the virtual orbitals. Further refinement are performed later. We build the input file:"
   ]
  },
  {
   "cell_type": "code",
   "execution_count": 4,
   "metadata": {
    "collapsed": true
   },
   "outputs": [],
   "source": [
    "for r in rVal:\n",
    "    inp={'dft':{\n",
    "          'rmult': [r, 9.0],\n",
    "          'itermax_virt' : 20,\n",
    "          'gnrm_cv_virt' : 1e-4},\n",
    "         'output': {\n",
    "          'orbitals' : 'binary',\n",
    "          'verbosity' : 3}\n",
    "        }\n",
    "    inp['radical'] = 'Rmult_'+str(r)\n",
    "    lrun=[]\n",
    "    for n in virt:\n",
    "        inp['dft']['norbv'] = -n\n",
    "        inpname = 'Rmult_'+str(r)+'_numVirt_'+str(n)\n",
    "        Yaml.dump(inp,outputpath + inpname + '.yaml')\n",
    "        lrun.append(inpname)\n",
    "    Yaml.dump(lrun,outputpath+'runs_'+str(r))"
   ]
  },
  {
   "cell_type": "markdown",
   "metadata": {},
   "source": [
    "and execute the computation via the run file:"
   ]
  },
  {
   "cell_type": "markdown",
   "metadata": {},
   "source": [
    "and execute the computation via the run file:"
   ]
  },
  {
   "cell_type": "code",
   "execution_count": 5,
   "metadata": {},
   "outputs": [
    {
     "name": "stdout",
     "output_type": "stream",
     "text": [
      "/media/DATA/RICERCA/LINEAR RESPONSE/LR-nb/POLARIZABILITY/C60/virtual-orbitals\n",
      "Executing command:  mpirun -np 4 $BIGDFT_ROOT/bigdft -r runs_7.0 -d ./log/ -s Yes\n",
      "/media/DATA/RICERCA/LINEAR RESPONSE/LR-nb/POLARIZABILITY/C60\n"
     ]
    }
   ],
   "source": [
    "code=C.SystemCalculator(omp=2,mpi=4)\n",
    "%cd $outputpath\n",
    "for r in rVal:\n",
    "    code.run(run_name='runs_'+str(r),skip=True,outdir='./log/')\n",
    "%cd ../"
   ]
  },
  {
   "cell_type": "markdown",
   "metadata": {},
   "source": [
    "We read the log files associated to the highest number of virtual orbitals and organize them in the lists Data."
   ]
  },
  {
   "cell_type": "code",
   "execution_count": 6,
   "metadata": {},
   "outputs": [
    {
     "name": "stdout",
     "output_type": "stream",
     "text": [
      "/media/DATA/RICERCA/LINEAR RESPONSE/LR-nb/POLARIZABILITY/C60/virtual-orbitals\n",
      "['log/log-Rmult_7.0_numVirt_80.yaml']\n",
      "/media/DATA/RICERCA/LINEAR RESPONSE/LR-nb/POLARIZABILITY/C60\n"
     ]
    }
   ],
   "source": [
    "Data = []\n",
    "%cd $outputpath\n",
    "for r in rVal:\n",
    "    spath = 'log/log-Rmult_'+str(r)+'_numVirt_'+str(virt[-1])+'.yaml'\n",
    "    log = !ls $spath\n",
    "    print log\n",
    "    Data.append(lf.Logfile(log[0]))\n",
    "%cd .."
   ]
  },
  {
   "cell_type": "markdown",
   "metadata": {},
   "source": [
    "We extract the value of the residue od the each orbital and plot it (we also display the reference value)"
   ]
  },
  {
   "cell_type": "code",
   "execution_count": 7,
   "metadata": {
    "collapsed": true
   },
   "outputs": [],
   "source": [
    "residues = Data[0].log['Optimization of virtual orbitals'][0]['Residues per orbital']"
   ]
  },
  {
   "cell_type": "code",
   "execution_count": 8,
   "metadata": {
    "scrolled": true
   },
   "outputs": [
    {
     "data": {
      "image/png": "[encoded data removed]",
      "text/plain": [
       "<matplotlib.figure.Figure at 0x7f6798b78ad0>"
      ]
     },
     "metadata": {},
     "output_type": "display_data"
    }
   ],
   "source": [
    "plt.plot(residues)#[0:virtMax-1])\n",
    "plt.axhline(y=1e-4, color='r', linestyle='--')\n",
    "plt.title('Residue of virtual orbitals',fontsize=14)\n",
    "plt.yscale('log')\n",
    "plt.show()"
   ]
  },
  {
   "cell_type": "markdown",
   "metadata": {},
   "source": [
    "On the basis of this plot we set the number of virtual orbitals with the chosen level of confidence"
   ]
  },
  {
   "cell_type": "code",
   "execution_count": 9,
   "metadata": {
    "collapsed": true
   },
   "outputs": [],
   "source": [
    "virtMax = 64"
   ]
  },
  {
   "cell_type": "markdown",
   "metadata": {},
   "source": [
    "To refine the result we perform the computation again (with a higher value of 'itermax_virt') and if needed we repeat the computation starting from the number of virtual orbitals that exceed the maximum allowed value:"
   ]
  },
  {
   "cell_type": "code",
   "execution_count": 10,
   "metadata": {},
   "outputs": [
    {
     "name": "stdout",
     "output_type": "stream",
     "text": [
      "[56, 64, 72, 80, 48, 56, 64, 72, 80]\n"
     ]
    }
   ],
   "source": [
    "virt_reduced = [56, 64, 72, 80, 48, 56, 64, 72, 80]\n",
    "print virt_reduced"
   ]
  },
  {
   "cell_type": "code",
   "execution_count": 11,
   "metadata": {
    "collapsed": true
   },
   "outputs": [],
   "source": [
    "for r in rVal:\n",
    "    inp={'dft':{\n",
    "          'rmult': [r, 9.0],\n",
    "          'itermax_virt' : 50,\n",
    "          'gnrm_cv_virt' : 1e-4},\n",
    "         'output': {\n",
    "          'orbitals' : 'binary',\n",
    "          'verbosity' : 3}\n",
    "        }\n",
    "    inp['radical'] = 'Rmult_'+str(r)\n",
    "    lrun=[]\n",
    "    for n in virt_reduced:\n",
    "        inp['dft']['norbv'] = -n\n",
    "        inpname = 'Rmult_'+str(r)+'_numVirt_'+str(n)\n",
    "        Yaml.dump(inp,outputpath + inpname + '.yaml')\n",
    "        lrun.append(inpname)\n",
    "    Yaml.dump(lrun,outputpath+'runs_reduced_'+str(r))"
   ]
  },
  {
   "cell_type": "markdown",
   "metadata": {},
   "source": [
    "we execute againg the selected input files"
   ]
  },
  {
   "cell_type": "code",
   "execution_count": 12,
   "metadata": {},
   "outputs": [
    {
     "name": "stdout",
     "output_type": "stream",
     "text": [
      "/media/DATA/RICERCA/LINEAR RESPONSE/LR-nb/POLARIZABILITY/C60/virtual-orbitals\n",
      "Executing command:  mpirun -np 4 $BIGDFT_ROOT/bigdft -r runs_reduced_7.0 -d ./log/ -s Yes\n",
      "/media/DATA/RICERCA/LINEAR RESPONSE/LR-nb/POLARIZABILITY/C60\n"
     ]
    }
   ],
   "source": [
    "code=C.SystemCalculator(omp=2,mpi=4)\n",
    "%cd $outputpath\n",
    "for r in rVal:\n",
    "    code.run(run_name='runs_reduced_'+str(r),skip=True,outdir='./log/') #we use skip=False to perform the computation\n",
    "%cd ../"
   ]
  },
  {
   "cell_type": "markdown",
   "metadata": {},
   "source": [
    "We proceed with the refinement up to the choosen level of precision.\n",
    "\n",
    "We observe that the last computation performed is the one with the highest number of virtual orbitals, so the orbitals written on file are associated to this log, and we have to refer to it in order to correctly attribute energy and other paramters associated to them."
   ]
  },
  {
   "cell_type": "markdown",
   "metadata": {},
   "source": [
    "## Scaling of the energy vs. number of virtual orbitals"
   ]
  },
  {
   "cell_type": "markdown",
   "metadata": {},
   "source": [
    "We read data in the log associated to a specific number of virtual orbitals"
   ]
  },
  {
   "cell_type": "code",
   "execution_count": 13,
   "metadata": {},
   "outputs": [
    {
     "name": "stdout",
     "output_type": "stream",
     "text": [
      "/media/DATA/RICERCA/LINEAR RESPONSE/LR-nb/POLARIZABILITY/C60/virtual-orbitals\n",
      "['log/log-Rmult_7.0_numVirt_80.yaml']\n",
      "/media/DATA/RICERCA/LINEAR RESPONSE/LR-nb/POLARIZABILITY/C60\n"
     ]
    }
   ],
   "source": [
    "Data = []\n",
    "%cd $outputpath\n",
    "for r in rVal:\n",
    "    spath = 'log/log-Rmult_'+str(r)+'_numVirt_'+str(virt[-1])+'.yaml'\n",
    "    log = !ls $spath\n",
    "    print log\n",
    "    Data.append(lf.Logfile(log[0]))\n",
    "%cd .."
   ]
  },
  {
   "cell_type": "markdown",
   "metadata": {},
   "source": [
    "We build the array with the energy of the empty orbitals, up to virtMax. Results are expressed in eV"
   ]
  },
  {
   "cell_type": "code",
   "execution_count": 14,
   "metadata": {},
   "outputs": [
    {
     "name": "stdout",
     "output_type": "stream",
     "text": [
      "64\n"
     ]
    }
   ],
   "source": [
    "numOccOrb = 120\n",
    "print virtMax\n",
    "engVirt = 27.211*Data[0].evals[0][0][numOccOrb:numOccOrb+virtMax-1]"
   ]
  },
  {
   "cell_type": "code",
   "execution_count": 15,
   "metadata": {},
   "outputs": [
    {
     "data": {
      "image/png": "[encoded data removed]",
      "text/plain": [
       "<matplotlib.figure.Figure at 0x7f67b0b501d0>"
      ]
     },
     "metadata": {},
     "output_type": "display_data"
    }
   ],
   "source": [
    "plt.plot(engVirt)\n",
    "plt.title('Maximum Energy vs. number of virtual orbitals',fontsize=12)\n",
    "plt.show()"
   ]
  },
  {
   "cell_type": "code",
   "execution_count": 16,
   "metadata": {},
   "outputs": [
    {
     "name": "stdout",
     "output_type": "stream",
     "text": [
      "[-4.44932701 -4.44917087 -4.44895607 -3.35799025 -3.35782602 -3.3577205\n",
      " -2.4823284  -2.48217108 -2.48203715 -2.28598845 -2.28584469 -2.28394244\n",
      " -2.28388919 -2.2838001  -1.22427748 -0.81520449 -0.81513454 -0.81464007\n",
      " -0.81461565 -0.81449323 -0.39315872 -0.3931043  -0.39302543 -0.39214016\n",
      " -0.23708925 -0.23708826 -0.2370679   0.3516221   0.35164789  0.35169315\n",
      "  0.35180151  0.36234922  0.36235394  0.36251552  0.36251931  0.36257285\n",
      "  0.40235688  0.84275006  0.84277886  0.84281509  1.02528936  1.02535624\n",
      "  1.02535785  1.03150095  1.03154514  1.03154852  1.03172229  1.63863355\n",
      "  1.63882621  1.63912508  1.77623432  1.77625347  1.77726996  1.77729359\n",
      "  1.77732457  1.77764905  1.77855178  1.77855546  1.77856984  2.28325815\n",
      "  2.28326493  2.28332052  2.46638648]\n"
     ]
    }
   ],
   "source": [
    "print engVirt"
   ]
  },
  {
   "cell_type": "markdown",
   "metadata": {
    "collapsed": true
   },
   "source": [
    "## Expansion of the perturbed KS orbitals (cubic code)"
   ]
  },
  {
   "cell_type": "markdown",
   "metadata": {
    "collapsed": true
   },
   "source": [
    "We compute the projection of the KS orbitals for the ground state of the system under the action of a static electric field on the orbitals (both occupied and empty) computed here. We consider a field of norm $1e^{-2}$ in the $z$ directions. First of all we we build the input file, perform the computations and read the results."
   ]
  },
  {
   "cell_type": "markdown",
   "metadata": {},
   "source": [
    "### Generation of the input files and execution of the computations"
   ]
  },
  {
   "cell_type": "code",
   "execution_count": 17,
   "metadata": {},
   "outputs": [
    {
     "name": "stdout",
     "output_type": "stream",
     "text": [
      "/media/DATA/RICERCA/LINEAR RESPONSE/LR-nb/POLARIZABILITY/C60/virtual-orbitals\n",
      "Executing command:  mpirun -np 4 $BIGDFT_ROOT/bigdft -n CR_Ez_rmult_7.0_numVirt_64 -d ./log/ -s Yes\n",
      "/media/DATA/RICERCA/LINEAR RESPONSE/LR-nb/POLARIZABILITY/C60\n"
     ]
    }
   ],
   "source": [
    "for r in rVal:\n",
    "    psip_Ez = '../static-field/log/data-Ez_1em2_rmult_'+str(r) #relative path starting from outputpath\n",
    "    inpEz={'dft':\n",
    "           {'rmult': [r, 9.0],\n",
    "            'norbv': -virtMax,\n",
    "            'itermax_virt' : 1},\n",
    "           'output': {'orbitals' : 'No'},\n",
    "           'radical': 'Rmult_'+str(r),\n",
    "           'tddft':{'decompose_perturbation': psip_Ez}}\n",
    "    InpnameEz = 'CR_Ez_rmult_'+str(r)+'_numVirt_'+str(virtMax)\n",
    "\n",
    "    Yaml.dump(inpEz,outputpath + InpnameEz + '.yaml')\n",
    "    # execute the input files\n",
    "    %cd $outputpath\n",
    "    code.run(name=InpnameEz,skip=True,outdir='./log/')\n",
    "    %cd ../"
   ]
  },
  {
   "cell_type": "code",
   "execution_count": 18,
   "metadata": {},
   "outputs": [
    {
     "name": "stdout",
     "output_type": "stream",
     "text": [
      "/media/DATA/RICERCA/LINEAR RESPONSE/LR-nb/POLARIZABILITY/C60/virtual-orbitals\n",
      "['log/log-CR_Ez_rmult_7.0_numVirt_64.yaml']\n",
      "/media/DATA/RICERCA/LINEAR RESPONSE/LR-nb/POLARIZABILITY/C60\n"
     ]
    }
   ],
   "source": [
    "# read the data. First index for the value of rmult, second index for the direction of the field\n",
    "CR_data = []\n",
    "%cd $outputpath\n",
    "for r in rVal:\n",
    "    spath = 'log/log-CR_Ez_rmult_'+str(r)+'_numVirt_'+str(virtMax)+'.yaml'\n",
    "    logs = !ls $spath\n",
    "    print logs\n",
    "    CR_data.append([lf.Logfile(l) for l in logs])\n",
    "%cd .."
   ]
  },
  {
   "cell_type": "markdown",
   "metadata": {},
   "source": [
    "The element [i,j] of coeff_occ[n] contains the projection of the j-th perturbed (occupied) orbital on the i-th unperturbed (occupied) one. In the same way but with the opposite convention, coeff_vrt contains the projection of the i-th perturbed (occupied) orbital on the j-th unperturbed empty one"
   ]
  },
  {
   "cell_type": "markdown",
   "metadata": {},
   "source": [
    "### Assessment of the completeness of the basis"
   ]
  },
  {
   "cell_type": "markdown",
   "metadata": {},
   "source": [
    "The natural normalization condition for the (perturbed) occupied orbitals and the fact that orbitals can be chosen to be real functions, imply the following condition:\n",
    "$$\n",
    "n_{occ} = \\sum_p \\langle\\psi'_p|\\psi'_p\\rangle =\n",
    "\\sum_p = \\int dr \\psi'_p(r)^2\n",
    "$$\n",
    "We expand the perturbed orbitals on the basis of the unpertubed ones (occupied and empty). If the basis is complete we have the following equality:\n",
    "$$\n",
    "\\psi'_p(r) = \\sum_p a_{pq}\\psi_p(r) + \\sum_{\\alpha}a_{p\\alpha}\\psi_{\\alpha}(r)\n",
    "$$\n",
    "Plugging this expansion in the first formula and remembering that the eigenstates of $H_0$ are orthonormal we have:\n",
    "$$\n",
    "n_{occ} = \\sum_{pq}a_{pq}^2 + \\sum_{p\\alpha}a_{p\\alpha}^2\n",
    "$$\n",
    "This equation can be used as an estimator to assess the completeness of a basis (built in terms of a finite number of empty orbitals). We observe that the contribute of the empty orbitals has to be equal to:\n",
    "$$\n",
    "R = n_{occ} - \\sum_{pq}a_{pq}^2 \n",
    "$$\n",
    "and we can intrdoduce the following estimator\n",
    "$$\n",
    "S_{n_{virt}} = R - \\sum_{p}\\sum_{\\alpha=1}^{n_{virt}}a_{p\\alpha}^2\n",
    "$$\n",
    "$S$ is positive definite and vanishes only id the basis is complete.\n",
    "\n",
    "If we want to analyze the influence of the basis orbital per orbital we can introduce the partial estimators\n",
    "$$\n",
    "S^{p}_{n_{virt}} = 1 - \\sum_{q}a_{pq}^2  - \\sum_{\\alpha=1}^{n_{virt}}a_{p\\alpha}^2 \\doteq R^{p} \n",
    "- \\sum_{\\alpha=1}^{n_{virt}}a_{p\\alpha}^2 \n",
    "$$\n",
    "$S^{p}_{n_{virt}}$ is linked to the global estimator by the relation:\n",
    "$$\n",
    "\\sum_{p}S^{p}_{n_{virt}} = S_{n_{virt}}\n",
    "$$\n",
    "The routine that perform this computation is defined in the Routine.py module."
   ]
  },
  {
   "cell_type": "code",
   "execution_count": 23,
   "metadata": {},
   "outputs": [
    {
     "name": "stdout",
     "output_type": "stream",
     "text": [
      "no_occ 120 n_vrt 64\n",
      "R =  0.0257808376749\n"
     ]
    }
   ],
   "source": [
    "reload(R)\n",
    "e,S_nvirt_Ez = R.evalS_nvirt(CR_data[0][0])"
   ]
  },
  {
   "cell_type": "code",
   "execution_count": 24,
   "metadata": {},
   "outputs": [
    {
     "data": {
      "image/png": "[encoded data removed]",
      "text/plain": [
       "<matplotlib.figure.Figure at 0x7f67b0b51090>"
      ]
     },
     "metadata": {},
     "output_type": "display_data"
    }
   ],
   "source": [
    "plt.semilogy(e,S_nvirt_Ez,label='Ez')\n",
    "plt.xlabel('energy(eV)')\n",
    "plt.legend()\n",
    "plt.show()"
   ]
  },
  {
   "cell_type": "markdown",
   "metadata": {},
   "source": [
    "It is also interesting to compare the shape of the curves when plotted in terms of the number of virtual orbitals:"
   ]
  },
  {
   "cell_type": "code",
   "execution_count": 25,
   "metadata": {},
   "outputs": [
    {
     "data": {
      "image/png": "[encoded data removed]",
      "text/plain": [
       "<matplotlib.figure.Figure at 0x7f67b0b50690>"
      ]
     },
     "metadata": {},
     "output_type": "display_data"
    }
   ],
   "source": [
    "plt.semilogy(S_nvirt_Ez,label='Ez')\n",
    "plt.legend()\n",
    "plt.show()"
   ]
  },
  {
   "cell_type": "code",
   "execution_count": null,
   "metadata": {
    "collapsed": true
   },
   "outputs": [],
   "source": []
  },
  {
   "cell_type": "code",
   "execution_count": null,
   "metadata": {
    "collapsed": true
   },
   "outputs": [],
   "source": []
  },
  {
   "cell_type": "code",
   "execution_count": null,
   "metadata": {
    "collapsed": true
   },
   "outputs": [],
   "source": []
  },
  {
   "cell_type": "code",
   "execution_count": null,
   "metadata": {
    "collapsed": true
   },
   "outputs": [],
   "source": []
  },
  {
   "cell_type": "code",
   "execution_count": null,
   "metadata": {
    "collapsed": true
   },
   "outputs": [],
   "source": [
    "################################ ANALISI VECCHIA ######################"
   ]
  },
  {
   "cell_type": "code",
   "execution_count": 41,
   "metadata": {},
   "outputs": [
    {
     "name": "stdout",
     "output_type": "stream",
     "text": [
      "no_occ 120 n_vrt 64\n",
      "sqrt(1-psiprime) [ 0.00131688  0.00104448  0.00103566  0.00156583  0.00108614  0.00085969\n",
      "  0.00159257  0.00144388  0.00157621  0.00097694  0.00151729  0.00168382\n",
      "  0.00158393  0.00186316  0.00176875  0.00101402  0.00168125  0.00247879\n",
      "  0.00142685  0.00232165  0.00248806  0.00161161  0.00174473  0.00195208\n",
      "  0.00238329  0.00186219  0.00216839  0.00258266  0.00230121  0.00238688\n",
      "  0.00294288  0.00295119  0.00289841  0.0031809   0.0032254   0.00334101\n",
      "  0.00262855  0.00292622  0.00289477  0.0041196   0.0043583   0.00268867\n",
      "  0.00515258  0.00515572  0.00362296  0.00336963  0.00363559  0.00402255\n",
      "  0.00491884  0.00464407  0.00452261  0.00543548  0.00557098  0.00550914\n",
      "  0.00462562  0.00472269  0.00406831  0.01203014  0.00471023  0.00454299\n",
      "  0.0042238   0.00865523  0.00874415  0.00467602  0.0059976   0.0049964\n",
      "  0.004844    0.01388156  0.00326886  0.0046888   0.00405058  0.00590782\n",
      "  0.00661549  0.00528844  0.00542384  0.00556145  0.0058926   0.00805755\n",
      "  0.00676777  0.01417143  0.01325265  0.01498529  0.00474427  0.00544942\n",
      "  0.00682955  0.00463813  0.00494182  0.00516891  0.00527141  0.00838626\n",
      "  0.01416977  0.01605492  0.0053235   0.0050308   0.0077728   0.00814693\n",
      "  0.00904289  0.0085165   0.01452328  0.01688541  0.0179041   0.00638846\n",
      "  0.0064028   0.00715213  0.00607248  0.00566668  0.01933543  0.01591352\n",
      "  0.05265976  0.05082311  0.05794785  0.0164091   0.02146465  0.0248374\n",
      "  0.03289012  0.0436153   0.04407377  0.04632373  0.04436845  0.04252169]\n"
     ]
    }
   ],
   "source": [
    "reload(R)\n",
    "e_v,cr=R.completeness_relation_new(CR_data[0][0])"
   ]
  },
  {
   "cell_type": "code",
   "execution_count": 42,
   "metadata": {},
   "outputs": [
    {
     "name": "stdout",
     "output_type": "stream",
     "text": [
      "rmult = § 7.0\n"
     ]
    },
    {
     "data": {
      "image/png": "[encoded data removed]",
      "text/plain": [
       "<matplotlib.figure.Figure at 0x7f430dca9810>"
      ]
     },
     "metadata": {},
     "output_type": "display_data"
    },
    {
     "data": {
      "image/png": "[encoded data removed]",
      "text/plain": [
       "<matplotlib.figure.Figure at 0x7f430d249310>"
      ]
     },
     "metadata": {},
     "output_type": "display_data"
    }
   ],
   "source": [
    "r = 0\n",
    "print 'rmult = ', rVal[r]\n",
    "\n",
    "rhoPlot = False\n",
    "R.crplot_new(e_v,cr,'Ez field (rmult='+str(rVal[r])+')',rhoPlot)\n",
    "plt.show()\n",
    "rhoPlot = True\n",
    "R.crplot_new(e_v,cr,'Ez field (rmult='+str(rVal[r])+')',rhoPlot)\n",
    "plt.show()"
   ]
  },
  {
   "cell_type": "code",
   "execution_count": null,
   "metadata": {
    "collapsed": true
   },
   "outputs": [],
   "source": []
  },
  {
   "cell_type": "code",
   "execution_count": null,
   "metadata": {
    "collapsed": true
   },
   "outputs": [],
   "source": []
  },
  {
   "cell_type": "code",
   "execution_count": null,
   "metadata": {
    "collapsed": true
   },
   "outputs": [],
   "source": []
  },
  {
   "cell_type": "code",
   "execution_count": null,
   "metadata": {
    "collapsed": true
   },
   "outputs": [],
   "source": []
  },
  {
   "cell_type": "code",
   "execution_count": null,
   "metadata": {
    "collapsed": true
   },
   "outputs": [],
   "source": []
  },
  {
   "cell_type": "code",
   "execution_count": null,
   "metadata": {
    "collapsed": true
   },
   "outputs": [],
   "source": []
  },
  {
   "cell_type": "code",
   "execution_count": null,
   "metadata": {
    "collapsed": true
   },
   "outputs": [],
   "source": []
  },
  {
   "cell_type": "code",
   "execution_count": null,
   "metadata": {
    "collapsed": true
   },
   "outputs": [],
   "source": []
  },
  {
   "cell_type": "code",
   "execution_count": null,
   "metadata": {
    "collapsed": true
   },
   "outputs": [],
   "source": []
  },
  {
   "cell_type": "code",
   "execution_count": null,
   "metadata": {
    "collapsed": true
   },
   "outputs": [],
   "source": []
  },
  {
   "cell_type": "code",
   "execution_count": null,
   "metadata": {
    "collapsed": true
   },
   "outputs": [],
   "source": []
  }
 ],
 "metadata": {
  "kernelspec": {
   "display_name": "Python 2",
   "language": "python",
   "name": "python2"
  },
  "language_info": {
   "codemirror_mode": {
    "name": "ipython",
    "version": 2
   },
   "file_extension": ".py",
   "mimetype": "text/x-python",
   "name": "python",
   "nbconvert_exporter": "python",
   "pygments_lexer": "ipython2",
   "version": "2.7.13"
  }
 },
 "nbformat": 4,
 "nbformat_minor": 2
}
