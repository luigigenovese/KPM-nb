{
 "cells": [
  {
   "cell_type": "markdown",
   "metadata": {},
   "source": [
    "# LR Analysis"
   ]
  },
  {
   "cell_type": "markdown",
   "metadata": {},
   "source": [
    "This notebook analyze the LR properties of a system starting from the coupling matrix, transition quantities and the energies of the virtual orbitals"
   ]
  },
  {
   "cell_type": "code",
   "execution_count": 1,
   "metadata": {},
   "outputs": [
    {
     "data": {
      "application/javascript": [
       "IPython.notebook.set_autosave_interval(0)"
      ]
     },
     "metadata": {},
     "output_type": "display_data"
    },
    {
     "name": "stdout",
     "output_type": "stream",
     "text": [
      "Autosave disabled\n"
     ]
    }
   ],
   "source": [
    "%autosave 0\n",
    "from BigDFT import Logfiles as lf\n",
    "from futile import Yaml\n",
    "from futile.Utils import write\n",
    "import matplotlib.pyplot as plt\n",
    "import numpy as np\n",
    "import LRTDDFT as LR\n",
    "HaeV=27.21138386"
   ]
  },
  {
   "cell_type": "code",
   "execution_count": 2,
   "metadata": {},
   "outputs": [],
   "source": [
    "def build_syst_dict(systPath,norb):\n",
    "    syst = {}\n",
    "    outp = systPath+'linear-response/log'\n",
    "    %cd $outp\n",
    "    logs = !ls log-Rmult_*\n",
    "    for l in logs:\n",
    "        data = lf.Logfile(l)\n",
    "        rmult = data.log['dft']['rmult'][0]\n",
    "        nvirt = len(data.evals[0][0]) - norb\n",
    "        syst[rmult] = {'nvirt':nvirt}\n",
    "    %cd ../../../../\n",
    "    return syst\n",
    "    \n",
    "def get_tddft_quantities(syst,sysPath):\n",
    "    from futile.Utils import write\n",
    "    outp = sysPath+'linear-response/log'\n",
    "    %cd $outp\n",
    "    for rVal in syst:\n",
    "        dpath = 'data-'+'Rmult_'+str(rVal)+'/transition_quantities.txt'\n",
    "        trans = np.loadtxt(dpath)\n",
    "        syst[rVal]['T']=trans\n",
    "        cpath = 'data-'+'Rmult_'+str(rVal)+'/coupling_matrix.txt'\n",
    "        Cmat = np.loadtxt(cpath)\n",
    "        syst[rVal]['C']=Cmat\n",
    "        write('Casida Matrix is symmetric',np.allclose(Cmat,Cmat.T,atol=1.e-12))\n",
    "        syst[rVal]['logfile'] = lf.Logfile('log-Rmult_'+str(rVal)+'_numVirt_'+str(syst[rVal]['nvirt'])+'.yaml')\n",
    "    %cd ../../../../"
   ]
  },
  {
   "cell_type": "markdown",
   "metadata": {},
   "source": [
    "## Analysis of $CO$"
   ]
  },
  {
   "cell_type": "code",
   "execution_count": 3,
   "metadata": {},
   "outputs": [
    {
     "name": "stdout",
     "output_type": "stream",
     "text": [
      "/media/DATA/RICERCA/LINEAR RESPONSE/LR-nb/POLARIZABILITY/CO/free-bc/linear-response/log\n",
      "/media/DATA/RICERCA/LINEAR RESPONSE/LR-nb/POLARIZABILITY\n"
     ]
    },
    {
     "data": {
      "text/plain": [
       "{7.0: {'nvirt': 280}, 9.0: {'nvirt': 280}, 10.0: {'nvirt': 280}}"
      ]
     },
     "execution_count": 3,
     "metadata": {},
     "output_type": "execute_result"
    }
   ],
   "source": [
    "norbCO = 5\n",
    "pathCO = 'CO/free-bc/'\n",
    "CO = build_syst_dict(pathCO, norbCO)\n",
    "nalphaCO = [16,64,160,224]\n",
    "CO"
   ]
  },
  {
   "cell_type": "code",
   "execution_count": 4,
   "metadata": {},
   "outputs": [
    {
     "name": "stdout",
     "output_type": "stream",
     "text": [
      "/media/DATA/RICERCA/LINEAR RESPONSE/LR-nb/POLARIZABILITY/CO/free-bc/linear-response/log\n",
      "Casida Matrix is symmetric True\n",
      "Casida Matrix is symmetric True\n",
      "Casida Matrix is symmetric True\n",
      "/media/DATA/RICERCA/LINEAR RESPONSE/LR-nb/POLARIZABILITY\n",
      "Solve for rVal =  9.0\n",
      "Eigensystem solved for 16\n",
      "Eigensystem solved for 64\n",
      "Eigensystem solved for 160\n",
      "Eigensystem solved for 224\n",
      "Eigensystem solved for 280\n",
      "Solve for rVal =  10.0\n",
      "Eigensystem solved for 16\n",
      "Eigensystem solved for 64\n",
      "Eigensystem solved for 160\n",
      "Eigensystem solved for 224\n",
      "Eigensystem solved for 280\n",
      "Solve for rVal =  7.0\n",
      "Eigensystem solved for 16\n",
      "Eigensystem solved for 64\n",
      "Eigensystem solved for 160\n",
      "Eigensystem solved for 224\n",
      "Eigensystem solved for 280\n"
     ]
    }
   ],
   "source": [
    "reload(LR)\n",
    "get_tddft_quantities(CO,pathCO)\n",
    "LR.diagonalize_CM(norbCO,CO,nalphaCO)\n",
    "LR.collect_LR(CO)"
   ]
  },
  {
   "cell_type": "code",
   "execution_count": 5,
   "metadata": {},
   "outputs": [
    {
     "data": {
      "text/plain": [
       "['eigenvectors',\n",
       " 'alpha_xyz',\n",
       " 'oscillator_strengths',\n",
       " 'Cmat',\n",
       " 'eigenvalues',\n",
       " 'transitions',\n",
       " 'oscillator_strength_avg']"
      ]
     },
     "execution_count": 5,
     "metadata": {},
     "output_type": "execute_result"
    }
   ],
   "source": [
    "CO[7.0]['eigenproblems'][16].keys()"
   ]
  },
  {
   "cell_type": "markdown",
   "metadata": {},
   "source": [
    "### Statical polarizability"
   ]
  },
  {
   "cell_type": "markdown",
   "metadata": {},
   "source": [
    "Plot the convergence of the statical polarizability in the various box"
   ]
  },
  {
   "cell_type": "code",
   "execution_count": 6,
   "metadata": {},
   "outputs": [],
   "source": [
    "CO_alpha_ref = {'alphaX':13.235,'alphaY':13.235,'alphaZ':18.728}"
   ]
  },
  {
   "cell_type": "code",
   "execution_count": 7,
   "metadata": {},
   "outputs": [],
   "source": [
    "reload(LR)\n",
    "alpha_CO = LR.collect_Alpha(CO,norbCO)\n",
    "#alpha_CO"
   ]
  },
  {
   "cell_type": "code",
   "execution_count": 8,
   "metadata": {},
   "outputs": [
    {
     "data": {
      "image/png": "[encoded data removed]",
      "text/plain": [
       "<matplotlib.figure.Figure at 0x7f5dcf218ed0>"
      ]
     },
     "metadata": {},
     "output_type": "display_data"
    }
   ],
   "source": [
    "%matplotlib inline\n",
    "component = 'alphaX'\n",
    "for rVal in alpha_CO:\n",
    "    val = np.array(alpha_CO[rVal][component])/CO_alpha_ref[component]\n",
    "    plt.plot(alpha_CO[rVal]['naEnergy'],val,label='rVal_'+str(rVal))\n",
    "plt.legend(loc='best')\n",
    "plt.xlabel('energy (eV)')\n",
    "plt.axhline(y=1.0, color='r', linestyle='--')\n",
    "plt.title(component)\n",
    "plt.ylim(ymax=1.05)\n",
    "plt.show()"
   ]
  },
  {
   "cell_type": "markdown",
   "metadata": {},
   "source": [
    "### Dynamical polarizability"
   ]
  },
  {
   "cell_type": "code",
   "execution_count": 9,
   "metadata": {},
   "outputs": [
    {
     "name": "stdout",
     "output_type": "stream",
     "text": [
      "numpoint =  336  omegaMax (eV) =  45.8177386411\n",
      "numpoint =  311  omegaMax (eV) =  42.4313836822\n",
      "numpoint =  434  omegaMax (eV) =  59.1058563081\n"
     ]
    }
   ],
   "source": [
    "reload(LR)\n",
    "CO_spectrum = LR.collect_spectrum(CO)"
   ]
  },
  {
   "cell_type": "code",
   "execution_count": 10,
   "metadata": {},
   "outputs": [
    {
     "data": {
      "image/png": "[encoded data removed]",
      "text/plain": [
       "<matplotlib.figure.Figure at 0x7f5df215c390>"
      ]
     },
     "metadata": {},
     "output_type": "display_data"
    }
   ],
   "source": [
    "%matplotlib inline\n",
    "for rVal in CO_spectrum:\n",
    "    plt.plot(CO_spectrum[rVal]['omega'],CO_spectrum[rVal]['imagPart'],label='rVal_'+str(rVal))\n",
    "plt.xlim(xmax=20)\n",
    "plt.legend(loc='best')\n",
    "plt.xlabel('energy (eV)')\n",
    "#plt.title('Absorption spectrum')\n",
    "eps_h = abs(HaeV*LR.get_alpha_energy(CO[7.0]['logfile'],norbCO,0))\n",
    "plt.axvline(x=eps_h, color='black', linestyle='--')\n",
    "plt.show()"
   ]
  },
  {
   "cell_type": "markdown",
   "metadata": {},
   "source": [
    "### Excitations"
   ]
  },
  {
   "cell_type": "markdown",
   "metadata": {},
   "source": [
    "First of all we choose a value of rmult and we plot a given number of excitations according to their threshold value \n",
    "and energy"
   ]
  },
  {
   "cell_type": "code",
   "execution_count": 64,
   "metadata": {},
   "outputs": [],
   "source": [
    "reload(LR)\n",
    "rVal = 7.0\n",
    "syst = CO[rVal]\n",
    "numExc = 500\n",
    "nvirt = syst['nvirt']\n",
    "dict_casida = syst['eigenproblems'][nvirt]\n",
    "pEng = LR.get_p_energy(syst['logfile'],norbCO)\n",
    "LR.find_excitation_thr(dict_casida,nvirt,numExc,pEng)"
   ]
  },
  {
   "cell_type": "code",
   "execution_count": 77,
   "metadata": {},
   "outputs": [
    {
     "data": {
      "image/png": "[encoded data removed]",
      "text/plain": [
       "<matplotlib.figure.Figure at 0x7f5d947efed0>"
      ]
     },
     "metadata": {},
     "output_type": "display_data"
    }
   ],
   "source": [
    "%matplotlib inline\n",
    "Emin = HaeV*np.sqrt(syst['eigenproblems'][nvirt]['eigenvalues'][0])\n",
    "Emax = HaeV*np.sqrt(syst['eigenproblems'][nvirt]['eigenvalues'][numExc])\n",
    "\n",
    "for ind,p in enumerate(pEng):\n",
    "    plt.plot((Emin,HaeV*abs(p)),(ind+1,ind+1),'--',c='red',linewidth=1)\n",
    "    plt.plot((HaeV*abs(p),Emax),(ind+1,ind+1),'-',c='red',linewidth=1)\n",
    "    \n",
    "for exc in range(numExc):\n",
    "    eng = HaeV*np.sqrt(syst['eigenproblems'][nvirt]['eigenvalues'][exc])\n",
    "    thind = syst['eigenproblems'][nvirt]['thresholds'][exc][0]\n",
    "    th = HaeV*syst['eigenproblems'][nvirt]['thresholds'][exc][1]\n",
    "    if eng < th : \n",
    "        plt.scatter(eng,thind,s=16,marker='o',c='black')\n",
    "    else :\n",
    "        plt.scatter(eng,thind,s=14,marker='s',c='blue')\n",
    "plt.title('Excitation landscape for CO',size=14) \n",
    "plt.xlabel('energy (eV)')\n",
    "plt.ylabel('Threshold level')\n",
    "plt.xlim(xmin=Emin-1,xmax=Emax)\n",
    "plt.show()"
   ]
  },
  {
   "cell_type": "markdown",
   "metadata": {},
   "source": [
    "We observe that the multi threshold scenario does not realizes in this case and there are no below threshold excitations \n",
    "for energy greater than the ionization potential"
   ]
  },
  {
   "cell_type": "code",
   "execution_count": null,
   "metadata": {},
   "outputs": [],
   "source": []
  },
  {
   "cell_type": "code",
   "execution_count": null,
   "metadata": {},
   "outputs": [],
   "source": []
  },
  {
   "cell_type": "code",
   "execution_count": null,
   "metadata": {},
   "outputs": [],
   "source": []
  },
  {
   "cell_type": "code",
   "execution_count": null,
   "metadata": {},
   "outputs": [],
   "source": []
  },
  {
   "cell_type": "code",
   "execution_count": null,
   "metadata": {},
   "outputs": [],
   "source": [
    "############################################################################"
   ]
  },
  {
   "cell_type": "code",
   "execution_count": null,
   "metadata": {},
   "outputs": [],
   "source": [
    "def regroup_excitations(e2,ths,evals):\n",
    "    channels=[ [] for e in evals]\n",
    "    for e,th in zip(e2,ths):\n",
    "        ind=np.argmin(np.abs(evals+th))\n",
    "        channels[ind].append(np.sqrt(e))\n",
    "    return channels\n",
    "from BigDFT import DoS as D\n",
    "def get_channels(bb):\n",
    "    tt=bb['eigenproblems'][bb['nvirt']]\n",
    "    ev=bb['logfilex'].evals[0][0][0:norb].tolist()\n",
    "    chs=regroup_excitations(tt['eigenvalues'],tt['thresholds'],np.array(ev))\n",
    "    chs.reverse()\n",
    "    return [np.array(ch) for ch in chs]"
   ]
  },
  {
   "cell_type": "code",
   "execution_count": null,
   "metadata": {},
   "outputs": [],
   "source": [
    "\n",
    "chs7=get_channels(box[7.0])\n",
    "chs9=get_channels(box[9.0])\n",
    "evals=box[9.0]['logfilex'].evals[0][0][0:norb].tolist()"
   ]
  },
  {
   "cell_type": "code",
   "execution_count": null,
   "metadata": {},
   "outputs": [],
   "source": []
  },
  {
   "cell_type": "code",
   "execution_count": null,
   "metadata": {},
   "outputs": [],
   "source": []
  },
  {
   "cell_type": "code",
   "execution_count": null,
   "metadata": {},
   "outputs": [],
   "source": []
  }
 ],
 "metadata": {
  "kernelspec": {
   "display_name": "Python 2",
   "language": "python",
   "name": "python2"
  },
  "language_info": {
   "codemirror_mode": {
    "name": "ipython",
    "version": 2
   },
   "file_extension": ".py",
   "mimetype": "text/x-python",
   "name": "python",
   "nbconvert_exporter": "python",
   "pygments_lexer": "ipython2",
   "version": "2.7.14"
  }
 },
 "nbformat": 4,
 "nbformat_minor": 2
}
