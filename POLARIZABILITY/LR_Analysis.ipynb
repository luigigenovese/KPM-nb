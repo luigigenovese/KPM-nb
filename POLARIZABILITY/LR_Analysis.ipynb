{
 "cells": [
  {
   "cell_type": "markdown",
   "metadata": {},
   "source": [
    "# LR Analysis"
   ]
  },
  {
   "cell_type": "markdown",
   "metadata": {},
   "source": [
    "This notebook analyze the LR properties of a system starting from the coupling matrix, transition quantities and the energies of the virtual orbitals"
   ]
  },
  {
   "cell_type": "code",
   "execution_count": 1,
   "metadata": {},
   "outputs": [
    {
     "data": {
      "application/javascript": [
       "IPython.notebook.set_autosave_interval(0)"
      ]
     },
     "metadata": {},
     "output_type": "display_data"
    },
    {
     "name": "stdout",
     "output_type": "stream",
     "text": [
      "Autosave disabled\n"
     ]
    }
   ],
   "source": [
    "%autosave 0\n",
    "from BigDFT import Logfiles as lf\n",
    "from futile import Yaml\n",
    "from futile.Utils import write\n",
    "import matplotlib.pyplot as plt\n",
    "import numpy as np\n",
    "import LRTDDFT as LR\n",
    "HaeV=27.21138386"
   ]
  },
  {
   "cell_type": "code",
   "execution_count": 2,
   "metadata": {},
   "outputs": [],
   "source": [
    "def build_syst_dict(systPath,norb):\n",
    "    syst = {}\n",
    "    outp = systPath+'linear-response/log'\n",
    "    %cd $outp\n",
    "    logs = !ls log-Rmult_*\n",
    "    for l in logs:\n",
    "        data = lf.Logfile(l)\n",
    "        rmult = data.log['dft']['rmult'][0]\n",
    "        nvirt = len(data.evals[0][0]) - norb\n",
    "        syst[rmult] = {'nvirt':nvirt}\n",
    "    %cd ../../../../\n",
    "    return syst\n",
    "    \n",
    "def get_tddft_quantities(syst,sysPath):\n",
    "    from futile.Utils import write\n",
    "    outp = sysPath+'linear-response/log'\n",
    "    %cd $outp\n",
    "    for rVal in syst:\n",
    "        dpath = 'data-'+'Rmult_'+str(rVal)+'/transition_quantities.txt'\n",
    "        trans = np.loadtxt(dpath)\n",
    "        syst[rVal]['T']=trans\n",
    "        cpath = 'data-'+'Rmult_'+str(rVal)+'/coupling_matrix.txt'\n",
    "        Cmat = np.loadtxt(cpath)\n",
    "        syst[rVal]['C']=Cmat\n",
    "        write('Casida Matrix is symmetric',np.allclose(Cmat,Cmat.T,atol=1.e-12))\n",
    "        syst[rVal]['logfile'] = lf.Logfile('log-Rmult_'+str(rVal)+'_numVirt_'+str(syst[rVal]['nvirt'])+'.yaml')\n",
    "    %cd ../../../../"
   ]
  },
  {
   "cell_type": "markdown",
   "metadata": {},
   "source": [
    "## Analysis of $CO$"
   ]
  },
  {
   "cell_type": "code",
   "execution_count": 3,
   "metadata": {},
   "outputs": [
    {
     "name": "stdout",
     "output_type": "stream",
     "text": [
      "/media/DATA/RICERCA/LINEAR RESPONSE/LR-nb/POLARIZABILITY/CO/free-bc/linear-response/log\n",
      "/media/DATA/RICERCA/LINEAR RESPONSE/LR-nb/POLARIZABILITY\n"
     ]
    },
    {
     "data": {
      "text/plain": [
       "{7.0: {'nvirt': 280}, 9.0: {'nvirt': 280}, 10.0: {'nvirt': 280}}"
      ]
     },
     "execution_count": 3,
     "metadata": {},
     "output_type": "execute_result"
    }
   ],
   "source": [
    "norbCO = 5\n",
    "pathCO = 'CO/free-bc/'\n",
    "CO = build_syst_dict(pathCO, norbCO)\n",
    "nalphaCO = [16,64,160,224]\n",
    "CO"
   ]
  },
  {
   "cell_type": "code",
   "execution_count": 4,
   "metadata": {},
   "outputs": [
    {
     "name": "stdout",
     "output_type": "stream",
     "text": [
      "/media/DATA/RICERCA/LINEAR RESPONSE/LR-nb/POLARIZABILITY/CO/free-bc/linear-response/log\n",
      "Casida Matrix is symmetric True\n",
      "Casida Matrix is symmetric True\n",
      "Casida Matrix is symmetric True\n",
      "/media/DATA/RICERCA/LINEAR RESPONSE/LR-nb/POLARIZABILITY\n",
      "Solve for rVal =  9.0\n",
      "Eigensystem solved for 16\n",
      "Eigensystem solved for 64\n",
      "Eigensystem solved for 160\n",
      "Eigensystem solved for 224\n",
      "Eigensystem solved for 280\n",
      "Solve for rVal =  10.0\n",
      "Eigensystem solved for 16\n",
      "Eigensystem solved for 64\n",
      "Eigensystem solved for 160\n",
      "Eigensystem solved for 224\n",
      "Eigensystem solved for 280\n",
      "Solve for rVal =  7.0\n",
      "Eigensystem solved for 16\n",
      "Eigensystem solved for 64\n",
      "Eigensystem solved for 160\n",
      "Eigensystem solved for 224\n",
      "Eigensystem solved for 280\n"
     ]
    }
   ],
   "source": [
    "reload(LR)\n",
    "get_tddft_quantities(CO,pathCO)\n",
    "LR.diagonalize_CM(norbCO,CO,nalphaCO)\n",
    "LR.collect_LR(CO)"
   ]
  },
  {
   "cell_type": "code",
   "execution_count": 5,
   "metadata": {},
   "outputs": [
    {
     "data": {
      "text/plain": [
       "['eigenvectors',\n",
       " 'alpha_xyz',\n",
       " 'oscillator_strengths',\n",
       " 'Cmat',\n",
       " 'eigenvalues',\n",
       " 'transitions',\n",
       " 'oscillator_strength_avg']"
      ]
     },
     "execution_count": 5,
     "metadata": {},
     "output_type": "execute_result"
    }
   ],
   "source": [
    "CO[7.0]['eigenproblems'][16].keys()"
   ]
  },
  {
   "cell_type": "markdown",
   "metadata": {},
   "source": [
    "### Statical polarizability"
   ]
  },
  {
   "cell_type": "markdown",
   "metadata": {},
   "source": [
    "Plot the convergence of the statical polarizability in the various box"
   ]
  },
  {
   "cell_type": "code",
   "execution_count": 122,
   "metadata": {},
   "outputs": [],
   "source": [
    "CO_alpha_ref = {'alphaX':13.235,'alphaY':13.235,'alphaZ':18.728}"
   ]
  },
  {
   "cell_type": "code",
   "execution_count": 141,
   "metadata": {},
   "outputs": [],
   "source": [
    "reload(LR)\n",
    "alpha_CO = LR.collect_Alpha(CO,norbCO)"
   ]
  },
  {
   "cell_type": "code",
   "execution_count": 142,
   "metadata": {},
   "outputs": [
    {
     "data": {
      "image/png": "[encoded data removed]",
      "text/plain": [
       "<matplotlib.figure.Figure at 0x7f5d94a0c310>"
      ]
     },
     "metadata": {},
     "output_type": "display_data"
    }
   ],
   "source": [
    "%matplotlib inline\n",
    "component = 'alphaX'\n",
    "for rVal in alpha_CO:\n",
    "    val = np.array(alpha_CO[rVal][component])/CO_alpha_ref[component]\n",
    "    plt.plot(alpha_CO[rVal]['naEnergy'],val,label='rVal_'+str(rVal))\n",
    "plt.legend(loc='best')\n",
    "plt.xlabel('energy (eV)')\n",
    "plt.axhline(y=1.0, color='r', linestyle='--')\n",
    "plt.title(component)\n",
    "plt.ylim(ymax=1.05)\n",
    "plt.show()"
   ]
  },
  {
   "cell_type": "markdown",
   "metadata": {},
   "source": [
    "### Dynamical polarizability"
   ]
  },
  {
   "cell_type": "code",
   "execution_count": 129,
   "metadata": {},
   "outputs": [
    {
     "name": "stdout",
     "output_type": "stream",
     "text": [
      "numpoint =  336  omegaMax (eV) =  45.8177386411\n",
      "numpoint =  311  omegaMax (eV) =  42.4313836822\n",
      "numpoint =  434  omegaMax (eV) =  59.1058563081\n"
     ]
    }
   ],
   "source": [
    "reload(LR)\n",
    "CO_spectrum = LR.collect_spectrum(CO)"
   ]
  },
  {
   "cell_type": "code",
   "execution_count": 130,
   "metadata": {},
   "outputs": [
    {
     "data": {
      "image/png": "[encoded data removed]",
      "text/plain": [
       "<matplotlib.figure.Figure at 0x7f5df0d630d0>"
      ]
     },
     "metadata": {},
     "output_type": "display_data"
    }
   ],
   "source": [
    "%matplotlib inline\n",
    "for rVal in CO_spectrum:\n",
    "    plt.plot(CO_spectrum[rVal]['omega'],CO_spectrum[rVal]['imagPart'],label='rVal_'+str(rVal))\n",
    "plt.xlim(xmax=20)\n",
    "plt.legend(loc='best')\n",
    "plt.xlabel('energy (eV)')\n",
    "#plt.title('Absorption spectrum')\n",
    "eps_h = abs(HaeV*LR.get_alpha_energy(CO[7.0]['logfile'],norbCO,0))\n",
    "plt.axvline(x=eps_h, color='black', linestyle='--')\n",
    "plt.show()"
   ]
  },
  {
   "cell_type": "markdown",
   "metadata": {},
   "source": [
    "### Excitations"
   ]
  },
  {
   "cell_type": "markdown",
   "metadata": {},
   "source": [
    "First of all we choose a value of rmult and we plot a given number of excitations according to their threshold value \n",
    "and energy"
   ]
  },
  {
   "cell_type": "code",
   "execution_count": 131,
   "metadata": {},
   "outputs": [],
   "source": [
    "reload(LR)\n",
    "rVal = 7.0\n",
    "syst = CO[rVal]\n",
    "numExc = 1000\n",
    "nvirt = syst['nvirt']\n",
    "dict_casida = syst['eigenproblems'][nvirt]\n",
    "pEng = LR.get_p_energy(syst['logfile'],norbCO)\n",
    "LR.find_excitation_thr(dict_casida,nvirt,numExc,pEng,5e-2)"
   ]
  },
  {
   "cell_type": "code",
   "execution_count": 132,
   "metadata": {},
   "outputs": [
    {
     "data": {
      "image/png": "[encoded data removed]",
      "text/plain": [
       "<matplotlib.figure.Figure at 0x7f5dbb709210>"
      ]
     },
     "metadata": {},
     "output_type": "display_data"
    }
   ],
   "source": [
    "%matplotlib inline\n",
    "Emin = HaeV*np.sqrt(syst['eigenproblems'][nvirt]['eigenvalues'][0])\n",
    "Emax = HaeV*np.sqrt(syst['eigenproblems'][nvirt]['eigenvalues'][numExc])\n",
    "\n",
    "for ind,p in enumerate(pEng):\n",
    "    plt.plot((Emin,HaeV*abs(p)),(ind+1,ind+1),'--',c='red',linewidth=1)\n",
    "    plt.plot((HaeV*abs(p),Emax),(ind+1,ind+1),'-',c='red',linewidth=1)\n",
    "    \n",
    "for exc in range(numExc):\n",
    "    eng = HaeV*np.sqrt(syst['eigenproblems'][nvirt]['eigenvalues'][exc])\n",
    "    thind = syst['eigenproblems'][nvirt]['thresholds'][exc][0]\n",
    "    th = HaeV*syst['eigenproblems'][nvirt]['thresholds'][exc][1]\n",
    "    if eng < th : \n",
    "        plt.scatter(eng,thind,s=16,marker='o',c='black')\n",
    "    else :\n",
    "        plt.scatter(eng,thind,s=14,marker='s',c='blue')\n",
    "plt.title('Excitation landscape for CO',size=14) \n",
    "plt.xlabel('energy (eV)')\n",
    "plt.ylabel('Threshold level')\n",
    "plt.xlim(xmin=Emin-1,xmax=Emax)\n",
    "plt.show()"
   ]
  },
  {
   "cell_type": "markdown",
   "metadata": {},
   "source": [
    "It is not clear if the multi-threshold scenario is realized in this case. Some excitations below threshold above |eps_h|\n",
    "seems to be present but the result depend from the choice of the box and of the tolerance. It is better to look for the stability by comparing the excitations dos in different boxes"
   ]
  },
  {
   "cell_type": "code",
   "execution_count": null,
   "metadata": {},
   "outputs": [],
   "source": []
  },
  {
   "cell_type": "code",
   "execution_count": null,
   "metadata": {},
   "outputs": [],
   "source": []
  },
  {
   "cell_type": "code",
   "execution_count": null,
   "metadata": {},
   "outputs": [],
   "source": []
  },
  {
   "cell_type": "code",
   "execution_count": null,
   "metadata": {},
   "outputs": [],
   "source": []
  },
  {
   "cell_type": "code",
   "execution_count": null,
   "metadata": {},
   "outputs": [],
   "source": [
    "############################################################################"
   ]
  },
  {
   "cell_type": "code",
   "execution_count": null,
   "metadata": {},
   "outputs": [],
   "source": [
    "def regroup_excitations(e2,ths,evals):\n",
    "    channels=[ [] for e in evals]\n",
    "    for e,th in zip(e2,ths):\n",
    "        ind=np.argmin(np.abs(evals+th))\n",
    "        channels[ind].append(np.sqrt(e))\n",
    "    return channels\n",
    "from BigDFT import DoS as D\n",
    "def get_channels(bb):\n",
    "    tt=bb['eigenproblems'][bb['nvirt']]\n",
    "    ev=bb['logfilex'].evals[0][0][0:norb].tolist()\n",
    "    chs=regroup_excitations(tt['eigenvalues'],tt['thresholds'],np.array(ev))\n",
    "    chs.reverse()\n",
    "    return [np.array(ch) for ch in chs]"
   ]
  },
  {
   "cell_type": "code",
   "execution_count": null,
   "metadata": {},
   "outputs": [],
   "source": [
    "\n",
    "chs7=get_channels(box[7.0])\n",
    "chs9=get_channels(box[9.0])\n",
    "evals=box[9.0]['logfilex'].evals[0][0][0:norb].tolist()"
   ]
  },
  {
   "cell_type": "code",
   "execution_count": null,
   "metadata": {},
   "outputs": [],
   "source": []
  },
  {
   "cell_type": "code",
   "execution_count": null,
   "metadata": {},
   "outputs": [],
   "source": []
  },
  {
   "cell_type": "markdown",
   "metadata": {},
   "source": [
    "## Analysis of $C_6H_6$"
   ]
  },
  {
   "cell_type": "code",
   "execution_count": 98,
   "metadata": {},
   "outputs": [
    {
     "name": "stdout",
     "output_type": "stream",
     "text": [
      "/media/DATA/RICERCA/LINEAR RESPONSE/LR-nb/POLARIZABILITY/C6H6/free-bc/linear-response/log\n",
      "/media/DATA/RICERCA/LINEAR RESPONSE/LR-nb/POLARIZABILITY\n"
     ]
    },
    {
     "data": {
      "text/plain": [
       "{7.0: {'nvirt': 220}, 9.0: {'nvirt': 220}, 10.0: {'nvirt': 220}}"
      ]
     },
     "execution_count": 98,
     "metadata": {},
     "output_type": "execute_result"
    }
   ],
   "source": [
    "norbC6H6 = 15\n",
    "pathC6H6 = 'C6H6/free-bc/'\n",
    "C6H6 = build_syst_dict(pathC6H6, norbC6H6)\n",
    "nalphaC6H6 = [16,64,160]\n",
    "C6H6"
   ]
  },
  {
   "cell_type": "code",
   "execution_count": 99,
   "metadata": {},
   "outputs": [
    {
     "name": "stdout",
     "output_type": "stream",
     "text": [
      "/media/DATA/RICERCA/LINEAR RESPONSE/LR-nb/POLARIZABILITY/C6H6/free-bc/linear-response/log\n",
      "Casida Matrix is symmetric True\n",
      "Casida Matrix is symmetric True\n",
      "Casida Matrix is symmetric True\n",
      "/media/DATA/RICERCA/LINEAR RESPONSE/LR-nb/POLARIZABILITY\n",
      "Solve for rVal =  9.0\n",
      "Eigensystem solved for 16\n",
      "Eigensystem solved for 64\n",
      "Eigensystem solved for 160\n",
      "Eigensystem solved for 220\n",
      "Solve for rVal =  10.0\n",
      "Eigensystem solved for 16\n",
      "Eigensystem solved for 64\n",
      "Eigensystem solved for 160\n",
      "Eigensystem solved for 220\n",
      "Solve for rVal =  7.0\n",
      "Eigensystem solved for 16\n",
      "Eigensystem solved for 64\n",
      "Eigensystem solved for 160\n",
      "Eigensystem solved for 220\n"
     ]
    }
   ],
   "source": [
    "reload(LR)\n",
    "get_tddft_quantities(C6H6,pathC6H6)\n",
    "LR.diagonalize_CM(norbC6H6,C6H6,nalphaC6H6)\n",
    "LR.collect_LR(C6H6)"
   ]
  },
  {
   "cell_type": "code",
   "execution_count": 100,
   "metadata": {},
   "outputs": [
    {
     "data": {
      "text/plain": [
       "['eigenvectors',\n",
       " 'alpha_xyz',\n",
       " 'oscillator_strengths',\n",
       " 'Cmat',\n",
       " 'eigenvalues',\n",
       " 'transitions',\n",
       " 'oscillator_strength_avg']"
      ]
     },
     "execution_count": 100,
     "metadata": {},
     "output_type": "execute_result"
    }
   ],
   "source": [
    "C6H6[7.0]['eigenproblems'][16].keys()"
   ]
  },
  {
   "cell_type": "markdown",
   "metadata": {},
   "source": [
    "### Statical polarizability"
   ]
  },
  {
   "cell_type": "markdown",
   "metadata": {},
   "source": [
    "Plot the convergence of the statical polarizability in the various box"
   ]
  },
  {
   "cell_type": "code",
   "execution_count": 133,
   "metadata": {},
   "outputs": [],
   "source": [
    "C6H6_alpha_ref = {'alphaX':83.856,'alphaY':83.856,'alphaZ':45.62}"
   ]
  },
  {
   "cell_type": "code",
   "execution_count": 143,
   "metadata": {},
   "outputs": [],
   "source": [
    "reload(LR)\n",
    "alpha_C6H6 = LR.collect_Alpha(C6H6,norbC6H6)"
   ]
  },
  {
   "cell_type": "code",
   "execution_count": 144,
   "metadata": {},
   "outputs": [
    {
     "data": {
      "image/png": "[encoded data removed]",
      "text/plain": [
       "<matplotlib.figure.Figure at 0x7f5df0d1d950>"
      ]
     },
     "metadata": {},
     "output_type": "display_data"
    }
   ],
   "source": [
    "%matplotlib inline\n",
    "component = 'alphaX'\n",
    "for rVal in alpha_C6H6:\n",
    "    val = np.array(alpha_C6H6[rVal][component])/C6H6_alpha_ref[component]\n",
    "    plt.plot(alpha_C6H6[rVal]['naEnergy'],val,label='rVal_'+str(rVal))\n",
    "plt.legend(loc='best')\n",
    "plt.xlabel('energy (eV)')\n",
    "plt.axhline(y=1.0, color='r', linestyle='--')\n",
    "plt.title(component)\n",
    "plt.ylim(ymax=1.05)\n",
    "plt.show()"
   ]
  },
  {
   "cell_type": "markdown",
   "metadata": {},
   "source": [
    "### Dynamical polarizability"
   ]
  },
  {
   "cell_type": "code",
   "execution_count": 136,
   "metadata": {},
   "outputs": [
    {
     "name": "stdout",
     "output_type": "stream",
     "text": [
      "numpoint =  240  omegaMax (eV) =  32.7395929853\n",
      "numpoint =  228  omegaMax (eV) =  31.0826343534\n",
      "numpoint =  280  omegaMax (eV) =  38.1269227268\n"
     ]
    }
   ],
   "source": [
    "reload(LR)\n",
    "C6H6_spectrum = LR.collect_spectrum(C6H6)"
   ]
  },
  {
   "cell_type": "code",
   "execution_count": 138,
   "metadata": {},
   "outputs": [
    {
     "data": {
      "image/png": "[encoded data removed]",
      "text/plain": [
       "<matplotlib.figure.Figure at 0x7f5d94a67350>"
      ]
     },
     "metadata": {},
     "output_type": "display_data"
    }
   ],
   "source": [
    "%matplotlib inline\n",
    "for rVal in C6H6_spectrum:\n",
    "    plt.plot(C6H6_spectrum[rVal]['omega'],C6H6_spectrum[rVal]['imagPart'],label='rVal_'+str(rVal))\n",
    "plt.xlim(xmax=20)\n",
    "plt.legend(loc='best')\n",
    "plt.xlabel('energy (eV)')\n",
    "#plt.title('Absorption spectrum')\n",
    "eps_h = abs(HaeV*LR.get_alpha_energy(C6H6[7.0]['logfile'],norbC6H6,0))\n",
    "plt.axvline(x=eps_h, color='black', linestyle='--')\n",
    "plt.show()"
   ]
  },
  {
   "cell_type": "markdown",
   "metadata": {},
   "source": [
    "### Excitations"
   ]
  },
  {
   "cell_type": "markdown",
   "metadata": {},
   "source": [
    "First of all we choose a value of rmult and we plot a given number of excitations according to their threshold value \n",
    "and energy"
   ]
  },
  {
   "cell_type": "code",
   "execution_count": 139,
   "metadata": {},
   "outputs": [],
   "source": [
    "reload(LR)\n",
    "rVal = 7.0\n",
    "syst = C6H6[rVal]\n",
    "numExc = 1000\n",
    "nvirt = syst['nvirt']\n",
    "dict_casida = syst['eigenproblems'][nvirt]\n",
    "pEng = LR.get_p_energy(syst['logfile'],norbC6H6)\n",
    "LR.find_excitation_thr(dict_casida,nvirt,numExc,pEng,5e-2)"
   ]
  },
  {
   "cell_type": "code",
   "execution_count": 145,
   "metadata": {},
   "outputs": [
    {
     "data": {
      "image/png": "[encoded data removed]",
      "text/plain": [
       "<matplotlib.figure.Figure at 0x7f5d94bbd810>"
      ]
     },
     "metadata": {},
     "output_type": "display_data"
    }
   ],
   "source": [
    "%matplotlib inline\n",
    "Emin = HaeV*np.sqrt(syst['eigenproblems'][nvirt]['eigenvalues'][0])\n",
    "Emax = HaeV*np.sqrt(syst['eigenproblems'][nvirt]['eigenvalues'][numExc])\n",
    "\n",
    "for ind,p in enumerate(pEng):\n",
    "    plt.plot((Emin,HaeV*abs(p)),(ind+1,ind+1),'--',c='red',linewidth=1)\n",
    "    plt.plot((HaeV*abs(p),Emax),(ind+1,ind+1),'-',c='red',linewidth=1)\n",
    "    \n",
    "for exc in range(numExc):\n",
    "    eng = HaeV*np.sqrt(syst['eigenproblems'][nvirt]['eigenvalues'][exc])\n",
    "    thind = syst['eigenproblems'][nvirt]['thresholds'][exc][0]\n",
    "    th = HaeV*syst['eigenproblems'][nvirt]['thresholds'][exc][1]\n",
    "    if eng < th : \n",
    "        plt.scatter(eng,thind,s=16,marker='o',c='black')\n",
    "    else :\n",
    "        plt.scatter(eng,thind,s=14,marker='s',c='blue')\n",
    "plt.title('Excitation landscape for C6H6',size=14) \n",
    "plt.xlabel('energy (eV)')\n",
    "plt.ylabel('Threshold level')\n",
    "plt.ylim(ymin=4)\n",
    "plt.xlim(xmin=Emin-1,xmax=Emax)\n",
    "plt.show()"
   ]
  },
  {
   "cell_type": "markdown",
   "metadata": {},
   "source": [
    "In this case the multi-threshold scenario is quite evident. This fact is responsible of the stability of the spectrum above |eps_h|"
   ]
  },
  {
   "cell_type": "code",
   "execution_count": null,
   "metadata": {},
   "outputs": [],
   "source": []
  },
  {
   "cell_type": "code",
   "execution_count": null,
   "metadata": {},
   "outputs": [],
   "source": []
  }
 ],
 "metadata": {
  "kernelspec": {
   "display_name": "Python 2",
   "language": "python",
   "name": "python2"
  },
  "language_info": {
   "codemirror_mode": {
    "name": "ipython",
    "version": 2
   },
   "file_extension": ".py",
   "mimetype": "text/x-python",
   "name": "python",
   "nbconvert_exporter": "python",
   "pygments_lexer": "ipython2",
   "version": "2.7.14"
  }
 },
 "nbformat": 4,
 "nbformat_minor": 2
}
