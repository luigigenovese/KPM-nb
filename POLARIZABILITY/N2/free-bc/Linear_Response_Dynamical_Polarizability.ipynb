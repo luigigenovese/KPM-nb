{
 "cells": [
  {
   "cell_type": "markdown",
   "metadata": {},
   "source": [
    "# Analysis of dynamical polarizability of $N_2$ in the linear response formalism"
   ]
  },
  {
   "cell_type": "markdown",
   "metadata": {
    "collapsed": true
   },
   "source": [
    "We analyze the computation of the dynamical polarizability inside the linear response formalism.\n",
    "\n",
    "The aim of this notebook is to:\n",
    "\n",
    "* compute the Casida matrix associated to the highest value of virtual orbitals. \n",
    "* build the matrices associated to a lower number of virtual orbitals (by extracting its elements from the highest one) and discuss the rate of convergence of the statical polarizability to the reference value (formerly computed by including an explicit electric field). \n",
    "* evaluate the dynamical polarizability spectrum and discuss its stability in function of the number of virtual orbitals considered.  "
   ]
  },
  {
   "cell_type": "code",
   "execution_count": 1,
   "metadata": {},
   "outputs": [
    {
     "data": {
      "application/javascript": [
       "IPython.notebook.set_autosave_interval(0)"
      ]
     },
     "metadata": {},
     "output_type": "display_data"
    },
    {
     "name": "stdout",
     "output_type": "stream",
     "text": [
      "Autosave disabled\n"
     ]
    }
   ],
   "source": [
    "%autosave 0\n",
    "from BigDFT import Logfiles as lf\n",
    "from BigDFT import Calculators as C\n",
    "from futile import Yaml\n",
    "import matplotlib.pyplot as plt\n",
    "import numpy as np\n",
    "import scipy.fftpack\n",
    "import sys\n",
    "sys.path.insert(0,'../../')\n",
    "import Routine as R\n",
    "outputpath = 'linear-response/'"
   ]
  },
  {
   "cell_type": "markdown",
   "metadata": {},
   "source": [
    "Set up of the main parameters"
   ]
  },
  {
   "cell_type": "code",
   "execution_count": 2,
   "metadata": {
    "collapsed": true
   },
   "outputs": [],
   "source": [
    "rVal = [7.0, 9.0, 11.0]\n",
    "virtMax = [303, 279, 232]"
   ]
  },
  {
   "cell_type": "markdown",
   "metadata": {},
   "source": [
    "### Computation of the coupling matrix and transition dipoles"
   ]
  },
  {
   "cell_type": "code",
   "execution_count": 3,
   "metadata": {
    "collapsed": true
   },
   "outputs": [],
   "source": [
    "inp0 = {'dft' : \n",
    "        {'hgrids': 0.40,\n",
    "         'gnrm_cv' : 1e-8,\n",
    "         'itermax' : 100,\n",
    "         'inputpsiid': 2},\n",
    "        'tddft':{'tddft_approach': 'full'},\n",
    "        'posinp': 'N2_posinp.xyz'}\n",
    "Yaml.dump(inp0,outputpath + 'default.yaml')"
   ]
  },
  {
   "cell_type": "code",
   "execution_count": 9,
   "metadata": {
    "collapsed": true
   },
   "outputs": [],
   "source": [
    "for ind,r in enumerate(rVal):\n",
    "    inp={'dft': {'rmult': [r, 9.0], 'itermax_virt' : 1},\n",
    "         'output': {'orbitals' : 'No', 'verbosity' : 3}, \n",
    "         'radical': 'Rmult_'+str(r)}\n",
    "\n",
    "    inp['dft']['norbv'] = -virtMax[ind]\n",
    "    inpname = 'Rmult_'+str(r)+'_numVirt_'+str(virtMax[ind])\n",
    "    Yaml.dump(inp,outputpath + inpname + '.yaml')"
   ]
  },
  {
   "cell_type": "markdown",
   "metadata": {},
   "source": [
    "We execute the input file and copy the coupling matrix and transition dipoles in the \"TDDFT-Results\" folder"
   ]
  },
  {
   "cell_type": "code",
   "execution_count": 5,
   "metadata": {},
   "outputs": [
    {
     "name": "stdout",
     "output_type": "stream",
     "text": [
      "Run computation for rmult =  11.0\n",
      "/media/DATA/RICERCA/LINEAR RESPONSE/LR-nb/POLARIZABILITY/N2/free-bc/linear-response\n",
      "Executing command:  mpirun -np 8 $BIGDFT_ROOT/bigdft -n Rmult_11.0_numVirt_8 -d ./log/ -s Yes\n",
      "/media/DATA/RICERCA/LINEAR RESPONSE/LR-nb/POLARIZABILITY/N2/free-bc\n"
     ]
    }
   ],
   "source": [
    "rmultInd = 2\n",
    "print 'Run computation for rmult = ', rVal[rmultInd]\n",
    "\n",
    "code=C.SystemCalculator(omp=1,mpi=8)\n",
    "%cd $outputpath\n",
    "inpname = 'Rmult_'+str(rVal[rmultInd])+'_numVirt_'+str(virtMax[rmultInd])\n",
    "code.run(name=inpname,skip=True,outdir='./log/')\n",
    "%cd ../"
   ]
  },
  {
   "cell_type": "markdown",
   "metadata": {},
   "source": [
    "## Data analysis"
   ]
  },
  {
   "cell_type": "markdown",
   "metadata": {},
   "source": [
    "Read the dipoles and coupling matrix (for a single value of rVal specified by rmultInd)"
   ]
  },
  {
   "cell_type": "code",
   "execution_count": 3,
   "metadata": {},
   "outputs": [
    {
     "name": "stdout",
     "output_type": "stream",
     "text": [
      "Read data for rmult =  11.0\n",
      "Maximum value of virtual orbitals =  232\n",
      "\n",
      "/media/DATA/RICERCA/LINEAR RESPONSE/LR-nb/POLARIZABILITY/N2/free-bc/linear-response\n",
      "/media/DATA/RICERCA/LINEAR RESPONSE/LR-nb/POLARIZABILITY/N2/free-bc\n"
     ]
    }
   ],
   "source": [
    "rmultInd = 2\n",
    "print 'Read data for rmult = ', rVal[rmultInd]\n",
    "print 'Maximum value of virtual orbitals = ', virtMax[rmultInd]\n",
    "print ''\n",
    "\n",
    "%cd $outputpath\n",
    "dpath = 'log/TDDFT-Results/transition_dipoles_rmult'+str(rVal[rmultInd])+'_numVirt'+str(virtMax[rmultInd])+'.txt'\n",
    "dipoles = np.loadtxt(dpath)\n",
    "cpath = 'log/TDDFT-Results/coupling_matrix_rmult'+str(rVal[rmultInd])+'_numVirt'+str(virtMax[rmultInd])+'.txt'\n",
    "Cmat = np.loadtxt(cpath)\n",
    "%cd .."
   ]
  },
  {
   "cell_type": "markdown",
   "metadata": {},
   "source": [
    "We observe that $C$ is a symmetric matrix"
   ]
  },
  {
   "cell_type": "code",
   "execution_count": 4,
   "metadata": {},
   "outputs": [
    {
     "data": {
      "text/plain": [
       "True"
      ]
     },
     "execution_count": 4,
     "metadata": {},
     "output_type": "execute_result"
    }
   ],
   "source": [
    "np.allclose(Cmat,Cmat.T,atol=1.e-12)"
   ]
  },
  {
   "cell_type": "code",
   "execution_count": 5,
   "metadata": {},
   "outputs": [
    {
     "data": {
      "text/plain": [
       "[16, 32, 64, 96, 128, 160, 192, 224, 232]"
      ]
     },
     "execution_count": 5,
     "metadata": {},
     "output_type": "execute_result"
    }
   ],
   "source": [
    "numOrb = 5\n",
    "#nalpha = [16,32,64,96,128,160,192,224,256,virtMax[rmultInd]] #rmult 7 and 9\n",
    "nalpha = [16,32,64,96,128,160,192,224,virtMax[rmultInd]] #rmult 11\n",
    "nalpha"
   ]
  },
  {
   "cell_type": "code",
   "execution_count": 6,
   "metadata": {},
   "outputs": [
    {
     "name": "stdout",
     "output_type": "stream",
     "text": [
      "(160, 160)\n",
      "(320, 320)\n",
      "(640, 640)\n",
      "(960, 960)\n",
      "(1280, 1280)\n",
      "(1600, 1600)\n",
      "(1920, 1920)\n",
      "(2240, 2240)\n",
      "(2320, 2320)\n"
     ]
    }
   ],
   "source": [
    "reload(R)\n",
    "eigenproblems = R.solveEigenProblems(numOrb,virtMax[rmultInd],Cmat,dipoles,nalpha)"
   ]
  },
  {
   "cell_type": "code",
   "execution_count": 7,
   "metadata": {},
   "outputs": [
    {
     "data": {
      "text/plain": [
       "[32, 128, 64, 96, 160, 192, 224, 16, 232]"
      ]
     },
     "execution_count": 7,
     "metadata": {},
     "output_type": "execute_result"
    }
   ],
   "source": [
    "eigenproblems.keys()"
   ]
  },
  {
   "cell_type": "markdown",
   "metadata": {},
   "source": [
    "### Analysis of the statical polarizability"
   ]
  },
  {
   "cell_type": "markdown",
   "metadata": {},
   "source": [
    "We discuss the convergence of the static polarizability to its reference value obtained with the explicit electric field."
   ]
  },
  {
   "cell_type": "code",
   "execution_count": 8,
   "metadata": {},
   "outputs": [
    {
     "data": {
      "text/plain": [
       "[10.171051864727421, 10.171051850970551, 14.451673475988196]"
      ]
     },
     "execution_count": 8,
     "metadata": {},
     "output_type": "execute_result"
    }
   ],
   "source": [
    "reload(R)\n",
    "statPol = R.evalStatPol(eigenproblems)\n",
    "statPol[virtMax[rmultInd]]"
   ]
  },
  {
   "cell_type": "code",
   "execution_count": 9,
   "metadata": {
    "collapsed": true
   },
   "outputs": [],
   "source": [
    "statPol_ref = [10.87,10.87,15.736]"
   ]
  },
  {
   "cell_type": "code",
   "execution_count": 10,
   "metadata": {},
   "outputs": [
    {
     "data": {
      "image/png": "[encoded data removed]",
      "text/plain": [
       "<matplotlib.figure.Figure at 0x7fa9505bd050>"
      ]
     },
     "metadata": {},
     "output_type": "display_data"
    }
   ],
   "source": [
    "for x in range(3):\n",
    "    val = []\n",
    "    for na in nalpha:\n",
    "        val.append(statPol[na][x])\n",
    "    val = np.array(val)/statPol_ref[x]\n",
    "    plt.plot(nalpha,val,label='alpha_'+str(x))\n",
    "plt.axhline(y=1.0, color='r', linestyle='--')\n",
    "plt.legend()\n",
    "plt.show()"
   ]
  },
  {
   "cell_type": "markdown",
   "metadata": {},
   "source": [
    "To check the correctness of the procedure for the construcion of the coupling matrix (given the one with the highest number of virtual orbitals) we compare some of the result (only for rmult = 7) obtained above with the ones build in terms of the true coupling matrix computed with 16 virtual orbitals."
   ]
  },
  {
   "cell_type": "code",
   "execution_count": 54,
   "metadata": {},
   "outputs": [
    {
     "name": "stdout",
     "output_type": "stream",
     "text": [
      "/media/DATA/RICERCA/LINEAR RESPONSE/LR-nb/POLARIZABILITY/N2/free-bc/linear-response\n",
      "/media/DATA/RICERCA/LINEAR RESPONSE/LR-nb/POLARIZABILITY/N2/free-bc\n"
     ]
    }
   ],
   "source": [
    "%cd $outputpath\n",
    "dpath = 'log/TDDFT-Results/transition_dipoles_rmult7.0_numVirt16.txt'\n",
    "dipoles_16 = np.loadtxt(dpath)\n",
    "cpath = 'log/TDDFT-Results/coupling_matrix_rmult7.0_numVirt16.txt'\n",
    "C_16 = np.loadtxt(cpath)\n",
    "%cd .."
   ]
  },
  {
   "cell_type": "code",
   "execution_count": 55,
   "metadata": {},
   "outputs": [
    {
     "name": "stdout",
     "output_type": "stream",
     "text": [
      "(160, 160)\n",
      "[7.3652949235158021, 7.3652950885610453, 11.059355580932314]\n",
      "[7.3652950119485476, 7.3652950119485903, 11.059355520654851]\n"
     ]
    }
   ],
   "source": [
    "eigenproblems_16 = R.solveEigenProblems(numOrb,16,C_16,dipoles_16,[16])\n",
    "statPol_16 = R.evalStatPol(eigenproblems_16)\n",
    "print statPol_16[16]\n",
    "print statPol[16]"
   ]
  },
  {
   "cell_type": "markdown",
   "metadata": {
    "collapsed": true
   },
   "source": [
    "We write the statical-polarizability dictionary on file"
   ]
  },
  {
   "cell_type": "code",
   "execution_count": 11,
   "metadata": {},
   "outputs": [
    {
     "name": "stdout",
     "output_type": "stream",
     "text": [
      "Write statical polarizability data for rmult =  11.0\n"
     ]
    }
   ],
   "source": [
    "print 'Write statical polarizability data for rmult = ', rVal[rmultInd]\n",
    "statPolToFile = {}\n",
    "for na, s in statPol.iteritems():\n",
    "    slist = []\n",
    "    for val in s:\n",
    "        slist.append(val.tolist())\n",
    "    statPolToFile[na] = slist\n",
    "filename = outputpath+'log/statPol_rmult_'+str(rVal[rmultInd])+'.yaml'\n",
    "Yaml.dump(statPolToFile,filename)"
   ]
  },
  {
   "cell_type": "markdown",
   "metadata": {},
   "source": [
    "### Dynamical polarizability in the adiabatic case"
   ]
  },
  {
   "cell_type": "code",
   "execution_count": 14,
   "metadata": {},
   "outputs": [
    {
     "name": "stdout",
     "output_type": "stream",
     "text": [
      "for na =  128  numpoint =  275  omegaMax (eV) =  37.5333840428\n",
      "for na =  192  numpoint =  297  omegaMax (eV) =  40.502319179\n",
      "for na =  232  numpoint =  310  omegaMax (eV) =  42.2921666863\n"
     ]
    },
    {
     "data": {
      "image/png": "[encoded data removed]",
      "text/plain": [
       "<matplotlib.figure.Figure at 0x7fa90f7c0c90>"
      ]
     },
     "metadata": {},
     "output_type": "display_data"
    }
   ],
   "source": [
    "reload(R)\n",
    "#nalphaPlot = [192,256,virtMax[rmultInd]] #rmult 7 and 9\n",
    "nalphaPlot = [128,192,virtMax[rmultInd]] #rmult 11\n",
    "spectrum = R.evalSpectrum(eigenproblems,nalphaPlot)\n",
    "for na in nalphaPlot:\n",
    "    plt.plot(spectrum[na]['omega'],spectrum[na]['imagPart'],label='numVirt'+str(na))\n",
    "plt.legend()\n",
    "#plt.xlim(0,50)\n",
    "plt.show()"
   ]
  },
  {
   "cell_type": "markdown",
   "metadata": {
    "collapsed": true
   },
   "source": [
    "We write the spectrum dictionary on file"
   ]
  },
  {
   "cell_type": "code",
   "execution_count": 15,
   "metadata": {},
   "outputs": [
    {
     "name": "stdout",
     "output_type": "stream",
     "text": [
      "Write spectrum data for rmult =  11.0\n"
     ]
    }
   ],
   "source": [
    "print 'Write spectrum data for rmult = ', rVal[rmultInd]\n",
    "spToFile = {}\n",
    "for na, s in spectrum.iteritems():\n",
    "    spToFile[na] = {'omega': spectrum[na]['omega'].tolist(), 'realPart':spectrum[na]['realPart'].tolist(), 'imagPart':spectrum[na]['imagPart'].tolist()}\n",
    "filename = outputpath+'log/spectrum_rmult_'+str(rVal[rmultInd])+'.yaml'\n",
    "Yaml.dump(spToFile,filename)"
   ]
  },
  {
   "cell_type": "markdown",
   "metadata": {},
   "source": [
    "### Spectrum at rmult = 7.0 with the same omegaMax of rmult = 9.0"
   ]
  },
  {
   "cell_type": "markdown",
   "metadata": {},
   "source": [
    "We compute the spectrum at rmult = 7.0 with na = 303 but we cut the sum over the eigenvalues of Cmat to the same value of omegaMax = 1.9226 obtained at rmult = 9.0 with na = 279"
   ]
  },
  {
   "cell_type": "code",
   "execution_count": 15,
   "metadata": {},
   "outputs": [
    {
     "name": "stdout",
     "output_type": "stream",
     "text": [
      "indMax =  2693  omegaMax_r7 =  1.9277260206\n"
     ]
    }
   ],
   "source": [
    "nalpha = eigenproblems.keys()\n",
    "nalpha.sort()\n",
    "nalpha[-1]\n",
    "omegaMax_r9 = 1.9226\n",
    "indMax = 0\n",
    "while np.sqrt(eigenproblems[nalpha[-1]]['eigenvalues'][indMax]) < omegaMax_r9:\n",
    "    indMax+=1\n",
    "print 'indMax = ', indMax, ' omegaMax_r7 = ', np.sqrt(eigenproblems[nalpha[-1]]['eigenvalues'][indMax])"
   ]
  },
  {
   "cell_type": "code",
   "execution_count": 16,
   "metadata": {},
   "outputs": [
    {
     "name": "stdout",
     "output_type": "stream",
     "text": [
      "for na =  303  numpoint =  385  omegaMax =  1.9277260206\n"
     ]
    }
   ],
   "source": [
    "spectrum_r7cut = {}\n",
    "fAvg = R.evalOscStrenghtAvg(eigenproblems)\n",
    "omegaMax = np.sqrt(eigenproblems[nalpha[-1]]['eigenvalues'][indMax])\n",
    "domega = 0.005\n",
    "eta = 1.0e-2\n",
    "npoint = int(omegaMax/domega)\n",
    "print 'for na = ', nalpha[-1], ' numpoint = ', npoint, ' omegaMax = ', omegaMax\n",
    "omega = np.linspace(0.0,omegaMax,npoint)\n",
    "spectrum_r7cut['omega'] = 27.211*omega\n",
    "        \n",
    "sp = np.zeros(npoint,dtype=np.complex)\n",
    "for ind,o in enumerate(omega):\n",
    "    for i,E in enumerate(eigenproblems[nalpha[-1]]['eigenvalues'][0:indMax]):\n",
    "            sp[ind]+=2.0*fAvg[nalpha[-1]][i]/(complex(o,2*eta)**2-E)\n",
    "                    \n",
    "spectrum_r7cut['realPart'] = -np.real(sp)\n",
    "spectrum_r7cut['imagPart'] = -np.imag(sp)"
   ]
  },
  {
   "cell_type": "code",
   "execution_count": 17,
   "metadata": {},
   "outputs": [
    {
     "data": {
      "image/png": "[encoded data removed]",
      "text/plain": [
       "<matplotlib.figure.Figure at 0x7f467398be10>"
      ]
     },
     "metadata": {},
     "output_type": "display_data"
    }
   ],
   "source": [
    "plt.plot(spectrum_r7cut['omega'],spectrum_r7cut['imagPart'],label='numVirt'+str(na))\n",
    "plt.show()"
   ]
  },
  {
   "cell_type": "code",
   "execution_count": 18,
   "metadata": {
    "collapsed": true
   },
   "outputs": [],
   "source": [
    "spToFile = {'omega': spectrum_r7cut['omega'].tolist(), 'realPart':spectrum_r7cut['realPart'].tolist(), 'imagPart':spectrum_r7cut['imagPart'].tolist()}\n",
    "filename = outputpath+'log/spectrum_r7cut.yaml'\n",
    "Yaml.dump(spToFile,filename)"
   ]
  },
  {
   "cell_type": "code",
   "execution_count": null,
   "metadata": {
    "collapsed": true
   },
   "outputs": [],
   "source": []
  },
  {
   "cell_type": "code",
   "execution_count": null,
   "metadata": {
    "collapsed": true
   },
   "outputs": [],
   "source": []
  }
 ],
 "metadata": {
  "kernelspec": {
   "display_name": "Python 2",
   "language": "python",
   "name": "python2"
  },
  "language_info": {
   "codemirror_mode": {
    "name": "ipython",
    "version": 2
   },
   "file_extension": ".py",
   "mimetype": "text/x-python",
   "name": "python",
   "nbconvert_exporter": "python",
   "pygments_lexer": "ipython2",
   "version": "2.7.13"
  }
 },
 "nbformat": 4,
 "nbformat_minor": 2
}
