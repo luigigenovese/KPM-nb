{
 "cells": [
  {
   "cell_type": "markdown",
   "metadata": {},
   "source": [
    "# Analysis of dynamical polarizability of $N_2$ in the linear response formalism"
   ]
  },
  {
   "cell_type": "markdown",
   "metadata": {
    "collapsed": true
   },
   "source": [
    "We analyze the computation of the dynamical polarizabilityi inside the linear response formalism.\n",
    "\n",
    "The aim of this notebook is to:\n",
    "\n",
    "* compute the Casida matrix associated to the highest value of virtual orbitals. \n",
    "* build the matrices associated to a lower number of virtual orbitals (by extracting its elements from the highest one) and discuss the rate of convergence of the statical polarizability to the reference value (formerly computed by including an explicit electric field). \n",
    "* evaluate the dynamical polarizability spectrum and discuss its stability in function of the number of virtual orbitals considered.  "
   ]
  },
  {
   "cell_type": "code",
   "execution_count": 1,
   "metadata": {},
   "outputs": [
    {
     "data": {
      "application/javascript": [
       "IPython.notebook.set_autosave_interval(0)"
      ]
     },
     "metadata": {},
     "output_type": "display_data"
    },
    {
     "name": "stdout",
     "output_type": "stream",
     "text": [
      "Autosave disabled\n"
     ]
    }
   ],
   "source": [
    "%autosave 0\n",
    "from BigDFT import Logfiles as lf\n",
    "from BigDFT import Calculators as C\n",
    "from futile import Yaml\n",
    "import matplotlib.pyplot as plt\n",
    "import numpy as np\n",
    "import scipy.fftpack\n",
    "import sys\n",
    "sys.path.insert(0,'../')\n",
    "import Routine as R\n",
    "outputpath = 'linear-response/'"
   ]
  },
  {
   "cell_type": "markdown",
   "metadata": {},
   "source": [
    "First of all we compute the coupling matrix"
   ]
  },
  {
   "cell_type": "code",
   "execution_count": 2,
   "metadata": {
    "collapsed": true
   },
   "outputs": [],
   "source": [
    "inp0 = {'dft' : \n",
    "        {'hgrids': 0.40,\n",
    "         'gnrm_cv' : 1e-8,\n",
    "         'itermax' : 100,\n",
    "         'inputpsiid': 2},\n",
    "        'tddft':{'tddft_approach': 'full'},\n",
    "        'posinp': 'N2_posinp.xyz'}\n",
    "Yaml.dump(inp0,outputpath + 'default.yaml')"
   ]
  },
  {
   "cell_type": "code",
   "execution_count": 3,
   "metadata": {
    "collapsed": true
   },
   "outputs": [],
   "source": [
    "virtMax = 303 # 279 for Rmult = 9.0 and 303 for Rmult = 7.0\n",
    "rVal = 7.0 # calculation performed for rVal = 7.0 and 9.0 to check the stability of the spectrum"
   ]
  },
  {
   "cell_type": "code",
   "execution_count": 4,
   "metadata": {
    "collapsed": true
   },
   "outputs": [],
   "source": [
    "inp={'dft':\n",
    "     {'rmult': [rVal, 9.0],\n",
    "      'itermax_virt' : 1},\n",
    "     'output': {\n",
    "      'orbitals' : 'No',\n",
    "      'verbosity' : 3}, \n",
    "     'radical': 'Rmult_'+str(rVal)}\n",
    "\n",
    "inp['dft']['norbv'] = -virtMax\n",
    "inpname = 'NumVirt_'+str(virtMax)\n",
    "Yaml.dump(inp,outputpath + inpname + '.yaml')"
   ]
  },
  {
   "cell_type": "markdown",
   "metadata": {},
   "source": [
    "We execute the input file and copy the coupling matrix and transition dipoles in the \"TDDFT-Results\" folder with the name coupling_matrix_n and transition_dipoles_n"
   ]
  },
  {
   "cell_type": "code",
   "execution_count": 5,
   "metadata": {},
   "outputs": [
    {
     "name": "stdout",
     "output_type": "stream",
     "text": [
      "/media/DATA/RICERCA/LINEAR RESPONSE/LR-nb/POLARIZABILITY/N2/linear-response\n",
      "Executing command:  mpirun -np 4 $BIGDFT_ROOT/bigdft -n NumVirt_303 -d ./log/ -s Yes\n",
      "/media/DATA/RICERCA/LINEAR RESPONSE/LR-nb/POLARIZABILITY/N2\n"
     ]
    }
   ],
   "source": [
    "code=C.SystemCalculator(omp=2,mpi=4)\n",
    "%cd $outputpath\n",
    "code.run(name='NumVirt_'+str(virtMax),skip=True,outdir='./log/')\n",
    "%cd ../"
   ]
  },
  {
   "cell_type": "markdown",
   "metadata": {},
   "source": [
    "Read the dipoles and coupling matrix (for Rmult = 7.0)"
   ]
  },
  {
   "cell_type": "code",
   "execution_count": 6,
   "metadata": {},
   "outputs": [
    {
     "name": "stdout",
     "output_type": "stream",
     "text": [
      "/media/DATA/RICERCA/LINEAR RESPONSE/LR-nb/POLARIZABILITY/N2/linear-response\n",
      "/media/DATA/RICERCA/LINEAR RESPONSE/LR-nb/POLARIZABILITY/N2\n"
     ]
    }
   ],
   "source": [
    "%cd $outputpath\n",
    "dpath = 'log/TDDFT-Results/transition_dipoles_303.txt'\n",
    "dipoles = np.loadtxt(dpath)\n",
    "cpath = 'log/TDDFT-Results/coupling_matrix_303.txt'\n",
    "C = np.loadtxt(cpath)\n",
    "%cd .."
   ]
  },
  {
   "cell_type": "markdown",
   "metadata": {},
   "source": [
    "We observe that $C$ is a symmetric matrix"
   ]
  },
  {
   "cell_type": "code",
   "execution_count": 7,
   "metadata": {},
   "outputs": [
    {
     "data": {
      "text/plain": [
       "True"
      ]
     },
     "execution_count": 7,
     "metadata": {},
     "output_type": "execute_result"
    }
   ],
   "source": [
    "np.allclose(C,C.T,atol=1.e-12)"
   ]
  },
  {
   "cell_type": "markdown",
   "metadata": {},
   "source": [
    "### Analysis of the statical polarizability for Rmult = 7.0"
   ]
  },
  {
   "cell_type": "markdown",
   "metadata": {},
   "source": [
    "We discuss the convergence of the static polarizability to its reference value obtained with the explicit electric field.\n",
    "We make use of the \"extract_subset\" routine to build coupling matrix and dipoles corresponding to a given set of virtual orbitals."
   ]
  },
  {
   "cell_type": "code",
   "execution_count": 9,
   "metadata": {
    "collapsed": true
   },
   "outputs": [],
   "source": [
    "virtMax_rmult7 = 303"
   ]
  },
  {
   "cell_type": "code",
   "execution_count": 9,
   "metadata": {},
   "outputs": [
    {
     "name": "stdout",
     "output_type": "stream",
     "text": [
      "[7.3652950119485476, 9.6242684396559124, 9.8590060344400037, 9.9364599831261238, 10.339951031264928, 10.482367211649217, 10.653716399235877, 10.674905928324078, 10.681847969511644, 10.813931701943329, 10.816648493212673, 10.817183972186124, 10.817482977440704]\n",
      "[11.059355520654851, 13.342467191524742, 14.110484711878737, 14.112372059335186, 14.481305891704139, 14.835325601281776, 15.128965766060759, 15.130305079916655, 15.158499711887121, 15.449218616028533, 15.463779379233685, 15.494289416258189, 15.494538708805711]\n"
     ]
    }
   ],
   "source": [
    "alphaX = []\n",
    "alphaY = []\n",
    "alphaZ = []\n",
    "virt = [16, 32, 48, 64, 80, 96, 112, 128, 160, 224, 256, 282, virtMax_rmult7]\n",
    "for nind,nval in enumerate(virt):\n",
    "    C_ext,dipoles_ext=R.extract_subset([5],[virtMax_rmult7],C,dipoles,[nval])\n",
    "    E2,C_E2=np.linalg.eigh(C_ext)\n",
    "    sumx = 0.0\n",
    "    sumy = 0.0\n",
    "    sumz = 0.0\n",
    "    for i,e in enumerate(E2):\n",
    "        a = np.dot(C_E2.T[i],dipoles_ext)\n",
    "        sumx+=2.0*a[0]*a[0]/e\n",
    "        sumy+=2.0*a[1]*a[1]/e\n",
    "        sumz+=2.0*a[2]*a[2]/e\n",
    "    alphaX.append(sumx)\n",
    "    alphaY.append(sumy)\n",
    "    alphaZ.append(sumz)\n",
    "print alphaX\n",
    "#print alphaY #to check if it equal to alphaX, ok!\n",
    "print alphaZ"
   ]
  },
  {
   "cell_type": "code",
   "execution_count": 10,
   "metadata": {
    "collapsed": true
   },
   "outputs": [],
   "source": [
    "alphaX_ref = 10.87\n",
    "alphaZ_ref = 15.736"
   ]
  },
  {
   "cell_type": "code",
   "execution_count": 11,
   "metadata": {
    "collapsed": true
   },
   "outputs": [],
   "source": [
    "alphaX_norm = [i/alphaX_ref for i in alphaX]\n",
    "alphaZ_norm = [i/alphaZ_ref for i in alphaZ]"
   ]
  },
  {
   "cell_type": "code",
   "execution_count": 12,
   "metadata": {},
   "outputs": [
    {
     "data": {
      "image/png": "[encoded data removed]",
      "text/plain": [
       "<matplotlib.figure.Figure at 0x7f98b6132810>"
      ]
     },
     "metadata": {},
     "output_type": "display_data"
    }
   ],
   "source": [
    "%matplotlib inline\n",
    "plt.plot(virt,alphaX_norm,label='alphaX')\n",
    "plt.axhline(y=1.0, color='r', linestyle='--')\n",
    "plt.plot(virt,alphaZ_norm,label='alphaZ')\n",
    "plt.legend()\n",
    "plt.show()"
   ]
  },
  {
   "cell_type": "markdown",
   "metadata": {},
   "source": [
    "To check the correctness of the procedure for the construcion of the coupling matrix (given the one with the highest number of virtual orbitals) we compare some of the result obtained above with the ones build in terms of the true coupling matrix computed with 16 and 32 virtual orbitals."
   ]
  },
  {
   "cell_type": "code",
   "execution_count": 33,
   "metadata": {},
   "outputs": [
    {
     "name": "stdout",
     "output_type": "stream",
     "text": [
      "/media/DATA/RICERCA/LINEAR RESPONSE/LR-nb/POLARIZABILITY/N2/linear-response\n",
      "/media/DATA/RICERCA/LINEAR RESPONSE/LR-nb/POLARIZABILITY/N2\n"
     ]
    }
   ],
   "source": [
    "%cd $outputpath\n",
    "dpath = 'log/TDDFT-Results/transition_dipoles_16.txt'\n",
    "dipoles_16 = np.loadtxt(dpath)\n",
    "cpath = 'log/TDDFT-Results/coupling_matrix_16.txt'\n",
    "C_16 = np.loadtxt(cpath)\n",
    "dpath = 'log/TDDFT-Results/transition_dipoles_32.txt'\n",
    "dipoles_32 = np.loadtxt(dpath)\n",
    "cpath = 'log/TDDFT-Results/coupling_matrix_32.txt'\n",
    "C_32 = np.loadtxt(cpath)\n",
    "%cd .."
   ]
  },
  {
   "cell_type": "code",
   "execution_count": 34,
   "metadata": {},
   "outputs": [
    {
     "name": "stdout",
     "output_type": "stream",
     "text": [
      "7.36529492352 11.0593555809\n",
      "9.62426842818 13.3424672819\n"
     ]
    }
   ],
   "source": [
    "alphaX_16 = 0.0\n",
    "alphaZ_16 = 0.0\n",
    "E2,C_E2=np.linalg.eigh(C_16)\n",
    "for i,e in enumerate(E2):\n",
    "    a = np.dot(C_E2.T[i],dipoles_16)\n",
    "    alphaX_16+=2.0*a[0]*a[0]/e\n",
    "    alphaZ_16+=2.0*a[2]*a[2]/e\n",
    "print alphaX_16, alphaZ_16\n",
    "\n",
    "alphaX_32 = 0.0\n",
    "alphaZ_32 = 0.0\n",
    "E2,C_E2=np.linalg.eigh(C_32)\n",
    "for i,e in enumerate(E2):\n",
    "    a = np.dot(C_E2.T[i],dipoles_32)\n",
    "    alphaX_32+=2.0*a[0]*a[0]/e\n",
    "    alphaZ_32+=2.0*a[2]*a[2]/e\n",
    "print alphaX_32, alphaZ_32"
   ]
  },
  {
   "cell_type": "markdown",
   "metadata": {},
   "source": [
    "Results agree with those obtained by the application of the \"extract_subset\" routine."
   ]
  },
  {
   "cell_type": "markdown",
   "metadata": {
    "collapsed": true
   },
   "source": [
    "### Dynamical polarizability in the adiabatic case for Rmult=7.0"
   ]
  },
  {
   "cell_type": "markdown",
   "metadata": {},
   "source": [
    "We plot the imaginary part of (minus) $A(\\omega_0)$ using the coupling matrix e transition dipoles in function of the number of virtual orbitals considered in the computation. In particular we want to compare results for numVirt = 64,128,virtMax"
   ]
  },
  {
   "cell_type": "code",
   "execution_count": 24,
   "metadata": {},
   "outputs": [
    {
     "name": "stdout",
     "output_type": "stream",
     "text": [
      "lenE2 320 omegaMax 1.35374670349\n",
      "lenE2 640 omegaMax 1.56325137367\n",
      "lenE2 1280 omegaMax 1.83601135465\n",
      "lenE2 1920 omegaMax 2.10867642813\n",
      "lenE2 2560 omegaMax 2.30125811398\n",
      "lenE2 3030 omegaMax 2.46915758956\n"
     ]
    }
   ],
   "source": [
    "npoint = 1000\n",
    "eta = 1.0e-2\n",
    "omega = []\n",
    "A = []\n",
    "#virt = [64,128,virtMax_rmult7] # for plot\n",
    "virt = [32,64,128,192,256,virtMax_rmult7] # for writing the dictionary on file\n",
    "for ii,nVal in enumerate(virt):\n",
    "    C_ext,dipoles_ext=R.extract_subset([5],[virtMax_rmult7],C,dipoles,[nVal])\n",
    "    E2,C_E2=np.linalg.eigh(C_ext)\n",
    "    omegaMax = np.sqrt(E2[-1]) #square root of the highest eigenvalues\n",
    "    print 'lenE2', len(E2), 'omegaMax', omegaMax\n",
    "    omega.append(np.linspace(0.0,omegaMax,npoint))\n",
    "    A_nVirt = np.zeros(npoint, dtype=complex)\n",
    "    fE = []\n",
    "    for i in range(len(E2)):\n",
    "        fE.append(np.dot(C_E2.T[i],dipoles_ext[:,2]))\n",
    "    for ind,o in enumerate(omega[ii]):\n",
    "        s = 0.0\n",
    "        for i,e in enumerate(E2):\n",
    "            s+=fE[i]**2/(complex(o,2*eta)**2-e)\n",
    "        A_nVirt[ind] = s\n",
    "    A.append(-np.imag(A_nVirt))"
   ]
  },
  {
   "cell_type": "code",
   "execution_count": 25,
   "metadata": {
    "collapsed": true
   },
   "outputs": [],
   "source": [
    "omega_ev = []\n",
    "for i in range(len(omega)):\n",
    "    omega_ev.append(27.211*omega[i])"
   ]
  },
  {
   "cell_type": "code",
   "execution_count": 26,
   "metadata": {},
   "outputs": [
    {
     "data": {
      "image/png": "[encoded data removed]",
      "text/plain": [
       "<matplotlib.figure.Figure at 0x7facf3b31c50>"
      ]
     },
     "metadata": {},
     "output_type": "display_data"
    }
   ],
   "source": [
    "%matplotlib inline\n",
    "for i in range(len(virt)):\n",
    "    plt.plot(omega_ev[i],A[i],label='NumVirt_'+str(virt[i]))\n",
    "plt.legend()\n",
    "plt.xlabel('energy(eV)')\n",
    "plt.title('Absorptium spectrum of N2', fontsize=14)\n",
    "plt.show()"
   ]
  },
  {
   "cell_type": "code",
   "execution_count": 28,
   "metadata": {},
   "outputs": [
    {
     "name": "stdout",
     "output_type": "stream",
     "text": [
      "\n",
      "\n",
      "\n",
      "\n",
      "\n",
      "\n"
     ]
    }
   ],
   "source": [
    "AbSpectrum = {}\n",
    "for ind,na in enumerate(virt):\n",
    "    print\n",
    "    AbSpectrum[na] = {'omega' : omega_ev[ind].tolist(), 'spectrum' : A[ind].tolist()}\n",
    "filename = outputpath+'log/spectrum_rmult7.0.yaml '\n",
    "#Yaml.dump(AbSpectrum,filename)"
   ]
  },
  {
   "cell_type": "markdown",
   "metadata": {},
   "source": [
    "### Stability of the results vs. size of the simultation box"
   ]
  },
  {
   "cell_type": "markdown",
   "metadata": {},
   "source": [
    "We analyze the convergence of the statical polarizability to the reference value for Rmult = 9.0"
   ]
  },
  {
   "cell_type": "code",
   "execution_count": 29,
   "metadata": {},
   "outputs": [
    {
     "name": "stdout",
     "output_type": "stream",
     "text": [
      "/media/DATA/RICERCA/LINEAR RESPONSE/LR-nb/POLARIZABILITY/N2/linear-response\n",
      "/media/DATA/RICERCA/LINEAR RESPONSE/LR-nb/POLARIZABILITY/N2\n"
     ]
    }
   ],
   "source": [
    "%cd $outputpath\n",
    "dpath = 'log/TDDFT-Results/transition_dipoles_rmult=9.0_279.txt'\n",
    "dipoles = np.loadtxt(dpath)\n",
    "cpath = 'log/TDDFT-Results/coupling_matrix_rmult=9.0_279.txt'\n",
    "C = np.loadtxt(cpath)\n",
    "%cd .."
   ]
  },
  {
   "cell_type": "code",
   "execution_count": 30,
   "metadata": {
    "collapsed": true
   },
   "outputs": [],
   "source": [
    "virtMax_rmult9 = 279"
   ]
  },
  {
   "cell_type": "code",
   "execution_count": 53,
   "metadata": {},
   "outputs": [
    {
     "name": "stdout",
     "output_type": "stream",
     "text": [
      "[6.4626561123892055, 8.4354956508710313, 8.5663026715236121, 8.8642454775988888, 9.7611222584797162, 9.8721503816250493, 10.059414788310804, 10.10099456101829, 10.171737615659101, 10.631972230523898, 10.643056253792423, 10.643700998141032]\n",
      "[6.462656112388987, 8.4354956508708288, 8.5663026715234416, 8.8642454775987005, 9.7611222584795581, 9.8721503816248806, 10.05941478831066, 10.10099456101814, 10.171737615658966, 10.631972230523809, 10.643056253792249, 10.643701005208033]\n",
      "[9.7087505567632615, 11.882177668613133, 12.411397249705038, 12.451605332609098, 13.813491067570668, 13.814027204686461, 14.315673257169275, 14.341833122951826, 14.546232505676423, 15.070483556366511, 15.074267132648856, 15.092620758654903]\n"
     ]
    }
   ],
   "source": [
    "alphaX = []\n",
    "alphaY = []\n",
    "alphaZ = []\n",
    "virt = [16, 32, 48, 64, 80, 96, 112, 128, 160, 224, 256, virtMax_rmult9]\n",
    "for nind,nval in enumerate(virt):\n",
    "    C_ext,dipoles_ext=R.extract_subset([5],[virtMax_rmult9],C,dipoles,[nval])\n",
    "    E2,C_E2=np.linalg.eigh(C_ext)\n",
    "    sumx = 0.0\n",
    "    sumy = 0.0\n",
    "    sumz = 0.0\n",
    "    for i,e in enumerate(E2):\n",
    "        a = np.dot(C_E2.T[i],dipoles_ext)\n",
    "        sumx+=2.0*a[0]*a[0]/e\n",
    "        sumy+=2.0*a[1]*a[1]/e\n",
    "        sumz+=2.0*a[2]*a[2]/e\n",
    "    alphaX.append(sumx)\n",
    "    alphaY.append(sumy)\n",
    "    alphaZ.append(sumz)\n",
    "print alphaX\n",
    "#print alphaY #to check if it equal to alphaX, ok!\n",
    "print alphaZ"
   ]
  },
  {
   "cell_type": "code",
   "execution_count": 54,
   "metadata": {
    "collapsed": true
   },
   "outputs": [],
   "source": [
    "alphaX_ref = 10.87\n",
    "alphaZ_ref = 15.736"
   ]
  },
  {
   "cell_type": "code",
   "execution_count": 55,
   "metadata": {
    "collapsed": true
   },
   "outputs": [],
   "source": [
    "alphaX_norm = [i/alphaX_ref for i in alphaX]\n",
    "alphaZ_norm = [i/alphaZ_ref for i in alphaZ]"
   ]
  },
  {
   "cell_type": "code",
   "execution_count": 56,
   "metadata": {},
   "outputs": [
    {
     "data": {
      "image/png": "[encoded data removed]",
      "text/plain": [
       "<matplotlib.figure.Figure at 0x7f68fa385110>"
      ]
     },
     "metadata": {},
     "output_type": "display_data"
    }
   ],
   "source": [
    "%matplotlib inline\n",
    "plt.plot(virt,alphaX_norm,label='alphaX')\n",
    "plt.axhline(y=1.0, color='r', linestyle='--')\n",
    "plt.plot(virt,alphaZ_norm,label='alphaZ')\n",
    "plt.legend()\n",
    "plt.show()"
   ]
  },
  {
   "cell_type": "markdown",
   "metadata": {},
   "source": [
    "We compare the absorption spectrum"
   ]
  },
  {
   "cell_type": "code",
   "execution_count": 45,
   "metadata": {},
   "outputs": [
    {
     "name": "stdout",
     "output_type": "stream",
     "text": [
      "/media/DATA/RICERCA/LINEAR RESPONSE/LR-nb/POLARIZABILITY/N2/linear-response\n",
      "lenE2 3030 omegaMax 2.46915758956\n",
      "lenE2 2790 omegaMax 1.92260078949\n",
      "/media/DATA/RICERCA/LINEAR RESPONSE/LR-nb/POLARIZABILITY/N2\n"
     ]
    }
   ],
   "source": [
    "%cd $outputpath\n",
    "dpath = ['log/TDDFT-Results/transition_dipoles_303.txt','log/TDDFT-Results/transition_dipoles_rmult=9.0_279.txt']\n",
    "cpath = ['log/TDDFT-Results/coupling_matrix_303.txt','log/TDDFT-Results/coupling_matrix_rmult=9.0_279.txt']\n",
    "npoint = 1000\n",
    "eta = 1.0e-2\n",
    "omega = []\n",
    "A = []\n",
    "\n",
    "for ii in range(len(dpath)):\n",
    "    dipoles = np.loadtxt(dpath[ii])\n",
    "    C = np.loadtxt(cpath[ii])\n",
    "    E2,C_E2=np.linalg.eigh(C)\n",
    "    omegaMax = np.sqrt(E2[-1])\n",
    "    print 'lenE2', len(E2), 'omegaMax', omegaMax\n",
    "    omega.append(np.linspace(0.0,omegaMax,npoint))\n",
    "    A_nVirt = np.zeros(npoint, dtype=complex)\n",
    "    fE = []\n",
    "    for i in range(len(E2)):\n",
    "        fE.append(np.dot(C_E2.T[i],dipoles[:,2]))\n",
    "    for ind,o in enumerate(omega[ii]):\n",
    "        s = 0.0\n",
    "        for i,e in enumerate(E2):\n",
    "            s+=fE[i]**2/(complex(o,2*eta)**2-e)\n",
    "        A_nVirt[ind] = s\n",
    "    A.append(-np.imag(A_nVirt))\n",
    "%cd .."
   ]
  },
  {
   "cell_type": "code",
   "execution_count": 46,
   "metadata": {
    "collapsed": true
   },
   "outputs": [],
   "source": [
    "omega_ev = []\n",
    "for i in range(len(omega)):\n",
    "    omega_ev.append(27.211*omega[i])"
   ]
  },
  {
   "cell_type": "code",
   "execution_count": 48,
   "metadata": {},
   "outputs": [
    {
     "data": {
      "image/png": "[encoded data removed]",
      "text/plain": [
       "<matplotlib.figure.Figure at 0x7f690065ad90>"
      ]
     },
     "metadata": {},
     "output_type": "display_data"
    }
   ],
   "source": [
    "%matplotlib inline\n",
    "lab = ['7.0','9.0']\n",
    "for i in range(len(dpath)):\n",
    "    plt.plot(omega_ev[i],A[i],label='Rmult='+lab[i])\n",
    "plt.legend()\n",
    "plt.xlabel('energy(eV)')\n",
    "plt.title('Absorptium spectrum of N2', fontsize=14)\n",
    "plt.show()"
   ]
  },
  {
   "cell_type": "markdown",
   "metadata": {
    "collapsed": true
   },
   "source": [
    "We write the spectrum for rmult = 9.0 on a dictionary"
   ]
  },
  {
   "cell_type": "code",
   "execution_count": 31,
   "metadata": {},
   "outputs": [
    {
     "name": "stdout",
     "output_type": "stream",
     "text": [
      "lenE2 320 omegaMax 1.23490452336\n",
      "lenE2 640 omegaMax 1.35957659044\n",
      "lenE2 1280 omegaMax 1.53623398023\n",
      "lenE2 1920 omegaMax 1.72681211035\n",
      "lenE2 2560 omegaMax 1.83111462488\n",
      "lenE2 2790 omegaMax 1.92260078949\n"
     ]
    }
   ],
   "source": [
    "npoint = 1000\n",
    "eta = 1.0e-2\n",
    "omega = []\n",
    "A = []\n",
    "#virt = [64,128,virtMax_rmult7] # for plot\n",
    "virt = [32,64,128,192,256,virtMax_rmult9] # for writing the dictionary on file\n",
    "for ii,nVal in enumerate(virt):\n",
    "    C_ext,dipoles_ext=R.extract_subset([5],[virtMax_rmult9],C,dipoles,[nVal])\n",
    "    E2,C_E2=np.linalg.eigh(C_ext)\n",
    "    omegaMax = np.sqrt(E2[-1]) #square root of the highest eigenvalues\n",
    "    print 'lenE2', len(E2), 'omegaMax', omegaMax\n",
    "    omega.append(np.linspace(0.0,omegaMax,npoint))\n",
    "    A_nVirt = np.zeros(npoint, dtype=complex)\n",
    "    fE = []\n",
    "    for i in range(len(E2)):\n",
    "        fE.append(np.dot(C_E2.T[i],dipoles_ext[:,2]))\n",
    "    for ind,o in enumerate(omega[ii]):\n",
    "        s = 0.0\n",
    "        for i,e in enumerate(E2):\n",
    "            s+=fE[i]**2/(complex(o,2*eta)**2-e)\n",
    "        A_nVirt[ind] = s\n",
    "    A.append(-np.imag(A_nVirt))"
   ]
  },
  {
   "cell_type": "code",
   "execution_count": 32,
   "metadata": {
    "collapsed": true
   },
   "outputs": [],
   "source": [
    "omega_ev = []\n",
    "for i in range(len(omega)):\n",
    "    omega_ev.append(27.211*omega[i])"
   ]
  },
  {
   "cell_type": "code",
   "execution_count": 33,
   "metadata": {},
   "outputs": [
    {
     "name": "stdout",
     "output_type": "stream",
     "text": [
      "\n",
      "\n",
      "\n",
      "\n",
      "\n",
      "\n"
     ]
    }
   ],
   "source": [
    "AbSpectrum = {}\n",
    "for ind,na in enumerate(virt):\n",
    "    print\n",
    "    AbSpectrum[na] = {'omega' : omega_ev[ind].tolist(), 'spectrum' : A[ind].tolist()}\n",
    "filename = outputpath+'log/spectrum_rmult9.0.yaml '\n",
    "#Yaml.dump(AbSpectrum,filename)"
   ]
  },
  {
   "cell_type": "code",
   "execution_count": null,
   "metadata": {
    "collapsed": true
   },
   "outputs": [],
   "source": []
  },
  {
   "cell_type": "code",
   "execution_count": null,
   "metadata": {
    "collapsed": true
   },
   "outputs": [],
   "source": []
  },
  {
   "cell_type": "code",
   "execution_count": null,
   "metadata": {
    "collapsed": true
   },
   "outputs": [],
   "source": []
  }
 ],
 "metadata": {
  "kernelspec": {
   "display_name": "Python 2",
   "language": "python",
   "name": "python2"
  },
  "language_info": {
   "codemirror_mode": {
    "name": "ipython",
    "version": 2
   },
   "file_extension": ".py",
   "mimetype": "text/x-python",
   "name": "python",
   "nbconvert_exporter": "python",
   "pygments_lexer": "ipython2",
   "version": "2.7.13"
  }
 },
 "nbformat": 4,
 "nbformat_minor": 2
}
