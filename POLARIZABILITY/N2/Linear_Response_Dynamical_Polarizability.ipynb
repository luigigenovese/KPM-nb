{
 "cells": [
  {
   "cell_type": "markdown",
   "metadata": {},
   "source": [
    "# Analysis of dynamical polarizability in the linear response formalism"
   ]
  },
  {
   "cell_type": "markdown",
   "metadata": {
    "collapsed": true
   },
   "source": [
    "We analyze the computation of the dynamical polarizabilityi inside the linear response formalism"
   ]
  },
  {
   "cell_type": "code",
   "execution_count": 96,
   "metadata": {},
   "outputs": [
    {
     "data": {
      "application/javascript": [
       "IPython.notebook.set_autosave_interval(0)"
      ]
     },
     "metadata": {},
     "output_type": "display_data"
    },
    {
     "name": "stdout",
     "output_type": "stream",
     "text": [
      "Autosave disabled\n"
     ]
    }
   ],
   "source": [
    "%autosave 0\n",
    "from BigDFT import Logfiles as lf\n",
    "from BigDFT import Calculators as C\n",
    "from futile import Yaml\n",
    "import matplotlib.pyplot as plt\n",
    "import numpy as np\n",
    "import sys\n",
    "sys.path.insert(0,'../')\n",
    "import Routine as R\n",
    "outputpath = 'linear-response/'"
   ]
  },
  {
   "cell_type": "markdown",
   "metadata": {},
   "source": [
    "First of all we compute the coupling matrix for various values of virtual orbitals"
   ]
  },
  {
   "cell_type": "code",
   "execution_count": 9,
   "metadata": {
    "collapsed": true
   },
   "outputs": [],
   "source": [
    "inp0 = {'dft' : \n",
    "        {'hgrids': 0.4,\n",
    "         'gnrm_cv' : 1e-8,\n",
    "         'itermax' : 100,\n",
    "         'inputpsiid': 2},\n",
    "        'tddft':{'tddft_approach': 'full'},\n",
    "        'posinp': 'N2_posinp.xyz'}\n",
    "Yaml.dump(inp0,outputpath + 'default.yaml')"
   ]
  },
  {
   "cell_type": "code",
   "execution_count": 10,
   "metadata": {
    "collapsed": true
   },
   "outputs": [],
   "source": [
    "numVirt=[16,32,64,128,256]"
   ]
  },
  {
   "cell_type": "code",
   "execution_count": 11,
   "metadata": {
    "collapsed": true
   },
   "outputs": [],
   "source": [
    "inp={'dft':\n",
    "     {'rmult': [7.0, 9.0],\n",
    "      'itermax_virt' : 1},\n",
    "     'output': {\n",
    "      'orbitals' : 'No'}, \n",
    "     'radical': 'Rmult_7.0'}\n",
    "for n in numVirt:\n",
    "    inp['dft']['norbv'] = -n\n",
    "    inpname = 'NumVirt_'+str(n)\n",
    "    Yaml.dump(inp,outputpath + inpname + '.yaml')"
   ]
  },
  {
   "cell_type": "markdown",
   "metadata": {},
   "source": [
    "Execute one input file per time and copy by hand the coupling matrix and transition dipoles in the \"TDDFT-Results\" folder with the name coupling_matrix_n and transition_dipoles_n"
   ]
  },
  {
   "cell_type": "code",
   "execution_count": 12,
   "metadata": {},
   "outputs": [
    {
     "name": "stdout",
     "output_type": "stream",
     "text": [
      "/media/DATA/RICERCA/LINEAR RESPONSE/LR-nb/POLARIZABILITY/N2/linear-response\n",
      "Executing command:  OMP_NUM_THREADS=1 mpirun -np 2 $BIGDFT_ROOT/bigdft -n NumVirt_16 -d ./log/ -s Yes\n",
      "/media/DATA/RICERCA/LINEAR RESPONSE/LR-nb/POLARIZABILITY/N2\n"
     ]
    }
   ],
   "source": [
    "code=C.SystemCalculator(omp=1,mpi=2)\n",
    "%cd $outputpath\n",
    "code.run(name='NumVirt_16',skip=True,outdir='./log/')\n",
    "%cd ../"
   ]
  },
  {
   "cell_type": "markdown",
   "metadata": {},
   "source": [
    "Read the data:"
   ]
  },
  {
   "cell_type": "code",
   "execution_count": 13,
   "metadata": {},
   "outputs": [
    {
     "name": "stdout",
     "output_type": "stream",
     "text": [
      "/media/DATA/RICERCA/LINEAR RESPONSE/LR-nb/POLARIZABILITY/N2/linear-response\n",
      "['log/log-NumVirt_128.yaml', 'log/log-NumVirt_16.yaml', 'log/log-NumVirt_256.yaml', 'log/log-NumVirt_32.yaml', 'log/log-NumVirt_64.yaml']\n",
      "/media/DATA/RICERCA/LINEAR RESPONSE/LR-nb/POLARIZABILITY/N2\n"
     ]
    }
   ],
   "source": [
    "Data = []\n",
    "%cd $outputpath\n",
    "spath = 'log/'+str('log-NumVirt_')+str('*') \n",
    "logs = !ls $spath\n",
    "print logs\n",
    "for l in logs:\n",
    "    Data.append(lf.Logfile(l))\n",
    "# sort the Data list in the right order, with respect to the number of virtual orbitals\n",
    "listnorbs=[len(l.evals[0][0]) for l in Data]\n",
    "ipiv=np.argsort(listnorbs)\n",
    "Data=[Data[i] for i in ipiv]\n",
    "%cd .."
   ]
  },
  {
   "cell_type": "markdown",
   "metadata": {},
   "source": [
    "Read the coupling matrix and dipoles for each value of the number of virtual orbitals"
   ]
  },
  {
   "cell_type": "code",
   "execution_count": 14,
   "metadata": {},
   "outputs": [
    {
     "name": "stdout",
     "output_type": "stream",
     "text": [
      "/media/DATA/RICERCA/LINEAR RESPONSE/LR-nb/POLARIZABILITY/N2/linear-response\n",
      "['log/TDDFT-Results/transition_dipoles_128.txt', 'log/TDDFT-Results/transition_dipoles_16.txt', 'log/TDDFT-Results/transition_dipoles_256.txt', 'log/TDDFT-Results/transition_dipoles_32.txt', 'log/TDDFT-Results/transition_dipoles_64.txt']\n",
      "['log/TDDFT-Results/coupling_matrix_128.txt', 'log/TDDFT-Results/coupling_matrix_16.txt', 'log/TDDFT-Results/coupling_matrix_256.txt', 'log/TDDFT-Results/coupling_matrix_32.txt', 'log/TDDFT-Results/coupling_matrix_64.txt']\n",
      "/media/DATA/RICERCA/LINEAR RESPONSE/LR-nb/POLARIZABILITY/N2\n"
     ]
    }
   ],
   "source": [
    "dipoles = []\n",
    "C = []\n",
    "%cd $outputpath\n",
    "dpath = 'log/TDDFT-Results/transition_dipoles_*'\n",
    "logs = !ls $dpath\n",
    "print logs\n",
    "for l in logs:\n",
    "    dipoles.append(np.loadtxt(l))\n",
    "listnorbs=[d.shape[0] for d in dipoles]\n",
    "ipiv=np.argsort(listnorbs)\n",
    "dipoles=[dipoles[i] for i in ipiv]\n",
    "\n",
    "Cpath = 'log/TDDFT-Results/coupling_matrix_*'\n",
    "logs = !ls $Cpath\n",
    "print logs\n",
    "for l in logs:\n",
    "    C.append(np.loadtxt(l))\n",
    "    \n",
    "listnorbs=[c.shape[0] for c in C]\n",
    "ipiv=np.argsort(listnorbs)\n",
    "C=[C[i] for i in ipiv]\n",
    "%cd .."
   ]
  },
  {
   "cell_type": "code",
   "execution_count": 15,
   "metadata": {},
   "outputs": [
    {
     "name": "stdout",
     "output_type": "stream",
     "text": [
      "2560\n",
      "(2560, 2560)\n"
     ]
    }
   ],
   "source": [
    "dipoles[0][:,0] # the x component\n",
    "print dipoles[4].shape[0]\n",
    "print C[4].shape"
   ]
  },
  {
   "cell_type": "markdown",
   "metadata": {},
   "source": [
    "We observe that $C$ is a symmetric matrix"
   ]
  },
  {
   "cell_type": "code",
   "execution_count": 33,
   "metadata": {},
   "outputs": [
    {
     "data": {
      "text/plain": [
       "True"
      ]
     },
     "execution_count": 33,
     "metadata": {},
     "output_type": "execute_result"
    }
   ],
   "source": [
    "np.allclose(C[4],C[4].T,atol=1.e-12)"
   ]
  },
  {
   "cell_type": "markdown",
   "metadata": {},
   "source": [
    "## Spectral representation of the polarizability"
   ]
  },
  {
   "cell_type": "markdown",
   "metadata": {},
   "source": [
    "Let us discuss the main formula needed for the computation of the polarizability. We consider\n",
    "a dipole perturbation on the system so that the perturbing potential can be written as:\n",
    "$$\n",
    "\\phi_j(\\omega) = r_j F(\\omega)\n",
    "$$\n",
    "$r_j$ indicates the direction of the field while the function $F$ keeps into account the amplitude of the pertubation and its $\\omega$ dependence, and includes also the type of time evolution protocol (e.g. adiabatic or sudden). The expression of the induced dipole can be expressed in the basis of transition, according to the formula:\n",
    "$$\n",
    "d_{i}(\\omega) = ( d_{i} | R(\\omega) | d_{j}) F(\\omega)\n",
    "$$\n",
    "Using the Casida formalism we have:\n",
    "$$\n",
    "d_{i}(\\omega) = 2 \\sum_{E^2} \\frac{[d_i|C_{E^2}][\\tilde C_{E^2}|d_j]}{(\\omega+ 2i\\eta)^2-E^2} F(\\omega)\n",
    "$$\n",
    "where $|C_{E^2}]$ and $[\\tilde C_{E^2}|$ are the right and left eigenvectors of the Casida matrix while $|d_i]$ and\n",
    "$[d_j|$ represent the column and row vectors of components:\n",
    "$$\n",
    "d_i^{p\\alpha} = T^{1/2}_{p\\alpha} \\int dr r_i \\psi_p(r)\\psi_{\\alpha}(r)\n",
    "$$"
   ]
  },
  {
   "cell_type": "markdown",
   "metadata": {},
   "source": [
    "### Analysis of the statical polarizability"
   ]
  },
  {
   "cell_type": "markdown",
   "metadata": {},
   "source": [
    "First of all we use this formalism to compare the value of the static polarizability given by this approach to the \"exact\" result obtained by explicitly adding a constant perturbing electric field in a DFT computation.\n",
    "To perform this comparison we consider, in the linear response framework, a field switched on with an adiabatic protocol and we compute the (time dependent) induced dipole a t=0 (in which the damping factor of the adiabatic protocol is equal to one). Using the FT we have that:\n",
    "$$\n",
    "d_i(t=0) = \\int \\frac{d\\omega}{2\\pi} d_i(\\omega)\n",
    "$$\n",
    "The F function associated to the adiabatic protocol of a constant perturbation of module equal to 1 is given by\n",
    "$$\n",
    "F(\\omega) = \\frac{2\\tilde\\eta}{\\omega^2+\\tilde\\eta^2} \n",
    "$$\n",
    "where $\\tilde\\eta$ is the damping parameter of the adiabatic protocol. For $\\tilde\\eta \\rightarrow 0$ we recognize that this expression is equal to $2\\pi\\delta(\\omega)$. So we have:\n",
    "$$\n",
    "d_i(t=0) = - 2 \\sum_{E^2} \\frac{[d_i|C_{E^2}][\\tilde C_{E^2}|d_j]}{E^2}\n",
    "$$\n",
    "and this result has to reproduce, apart from the sign, the value of the static polarizability computed via a DFT computation."
   ]
  },
  {
   "cell_type": "code",
   "execution_count": 16,
   "metadata": {
    "collapsed": true
   },
   "outputs": [],
   "source": [
    "#np.dot(C_E2.T[eigenvalue index],dipoles[numVirt])"
   ]
  },
  {
   "cell_type": "code",
   "execution_count": 17,
   "metadata": {},
   "outputs": [
    {
     "name": "stdout",
     "output_type": "stream",
     "text": [
      "Validation terminated\n",
      "Validation terminated\n",
      "Validation terminated\n",
      "Validation terminated\n",
      "Validation terminated\n",
      "[7.3652949235158021, 9.6242684281771655, 9.9364596435103074, 10.674896451768692, 10.810435542168234]\n",
      "[7.3652950885610453, 9.624268446200837, 9.9364604951900208, 10.674900405725804, 10.809683402363975]\n",
      "[11.059355580932314, 13.34246728190128, 14.112372652233761, 15.130321005997805, 15.477065014764865]\n"
     ]
    }
   ],
   "source": [
    "alphaX = []\n",
    "alphaY = []\n",
    "alphaZ = []\n",
    "for nind,nval in enumerate(numVirt):\n",
    "    E2,C_E2=np.linalg.eigh(C[nind])\n",
    "    R.validate_eigensystem(C[nind],E2,C_E2)\n",
    "    sumx = 0.0\n",
    "    sumy = 0.0\n",
    "    sumz = 0.0\n",
    "    for i,e in enumerate(E2):\n",
    "        a = np.dot(C_E2.T[i],dipoles[nind])\n",
    "        sumx+=2.0*a[0]*a[0]/e\n",
    "        sumy+=2.0*a[1]*a[1]/e\n",
    "        sumz+=2.0*a[2]*a[2]/e\n",
    "    alphaX.append(sumx)\n",
    "    alphaY.append(sumy)\n",
    "    alphaZ.append(sumz)\n",
    "print alphaX\n",
    "print alphaY\n",
    "print alphaZ"
   ]
  },
  {
   "cell_type": "markdown",
   "metadata": {},
   "source": [
    "We plot these values together with the reference results"
   ]
  },
  {
   "cell_type": "code",
   "execution_count": 27,
   "metadata": {
    "collapsed": true
   },
   "outputs": [],
   "source": [
    "alphaX_ref = 10.87\n",
    "alphaZ_ref = 15.74"
   ]
  },
  {
   "cell_type": "code",
   "execution_count": 29,
   "metadata": {},
   "outputs": [
    {
     "data": {
      "image/png": "[encoded data removed]",
      "text/plain": [
       "<matplotlib.figure.Figure at 0x7fac2c4e4f10>"
      ]
     },
     "metadata": {},
     "output_type": "display_data"
    },
    {
     "data": {
      "image/png": "[encoded data removed]",
      "text/plain": [
       "<matplotlib.figure.Figure at 0x7fac2c60f2d0>"
      ]
     },
     "metadata": {},
     "output_type": "display_data"
    }
   ],
   "source": [
    "plt.plot(numVirt,alphaX,color ='b')\n",
    "plt.axhline(y=alphaX_ref, color='r', linestyle='--')\n",
    "plt.show()\n",
    "plt.plot(numVirt,alphaZ,color='b')\n",
    "plt.axhline(y=alphaZ_ref, color='r', linestyle='--')\n",
    "plt.show()"
   ]
  },
  {
   "cell_type": "markdown",
   "metadata": {
    "collapsed": true
   },
   "source": [
    "### Dynamical polarizability in the adiabatic case"
   ]
  },
  {
   "cell_type": "markdown",
   "metadata": {
    "collapsed": true
   },
   "source": [
    "We compute the induced dipole in the adiabatic case. \n",
    "We consider a monocromatic perturbation of the form $H_1(t) = r_jcos(\\omega_0 t)$. Using the formula for the\n",
    "adiabatic case presented in the note, and remembering the representation of the delta function in terms of\n",
    "a lorentzian we have that:\n",
    "$$\n",
    "F(\\omega) = \\frac{1}{2}\\left(\\delta(\\omega-\\omega_0) + \\delta(\\omega+\\omega_0)\\right)\n",
    "$$\n",
    "So, the induced dipole is nonvashing only for $\\omega = \\pm\\omega_0$ and reads:\n",
    "$$\n",
    "d_{i}(\\omega) = \\sum_{E^2} \\frac{[d_i|C_{E^2}][\\tilde C_{E^2}|d_j]}{(\\omega_0+ 2i\\eta)^2-E^2} \\delta(\\omega-\\omega_0)+\n",
    "\\sum_{E^2} \\frac{[d_i|C_{E^2}][\\tilde C_{E^2}|d_j]}{(\\omega_0-2i\\eta)^2-E^2} \\delta(\\omega+\\omega_0)\n",
    "$$"
   ]
  },
  {
   "cell_type": "markdown",
   "metadata": {},
   "source": [
    "Now we want to plot $d_i$ in function of $\\omega_0$, we consider only the first addend.\n",
    "We consider the case with 256 empty orbitals and compute the highest eigenvalue of $C$. \n",
    "We choose $r_j = z$ and compute $d_z$"
   ]
  },
  {
   "cell_type": "code",
   "execution_count": 37,
   "metadata": {
    "collapsed": true
   },
   "outputs": [],
   "source": [
    "E2,C_E2=np.linalg.eigh(C[len(numVirt)-1])"
   ]
  },
  {
   "cell_type": "markdown",
   "metadata": {},
   "source": [
    "The list E2 of the eigenvalues of $C$ is written in increasing order"
   ]
  },
  {
   "cell_type": "code",
   "execution_count": 50,
   "metadata": {},
   "outputs": [
    {
     "data": {
      "image/png": "[encoded data removed]",
      "text/plain": [
       "<matplotlib.figure.Figure at 0x7fac018145d0>"
      ]
     },
     "metadata": {},
     "output_type": "display_data"
    }
   ],
   "source": [
    "plt.plot(E2,color ='b')\n",
    "plt.show()"
   ]
  },
  {
   "cell_type": "markdown",
   "metadata": {},
   "source": [
    "with square root value of the highest eigenvalues"
   ]
  },
  {
   "cell_type": "code",
   "execution_count": 51,
   "metadata": {},
   "outputs": [
    {
     "data": {
      "text/plain": [
       "2.5974064619271817"
      ]
     },
     "execution_count": 51,
     "metadata": {},
     "output_type": "execute_result"
    }
   ],
   "source": [
    "np.sqrt(E2[-1])"
   ]
  },
  {
   "cell_type": "code",
   "execution_count": 103,
   "metadata": {},
   "outputs": [],
   "source": [
    "numVal = 1000\n",
    "omegaMax = 3.0\n",
    "eta = 1.0e-2\n",
    "deltaOmega = omegaMax/numVal\n",
    "omega = [deltaOmega*i for i in range(numVal)]\n",
    "# compute the factors of the numerator\n",
    "A = []\n",
    "for i in range(len(E2)):\n",
    "    A.append(np.dot(C_E2.T[i],dipoles[len(numVirt)-1][:,2]))\n",
    "# compute the induced dipole    \n",
    "dz = []\n",
    "for o in omega:\n",
    "    s = 0.0\n",
    "    for i,e in enumerate(E2):\n",
    "        s+=A[i]**2/(complex(o,2*eta)**2-e)\n",
    "    dz.append(s)"
   ]
  },
  {
   "cell_type": "code",
   "execution_count": 104,
   "metadata": {
    "collapsed": true
   },
   "outputs": [],
   "source": [
    "dz_r = []\n",
    "dz_i = []\n",
    "for x in dz:\n",
    "    dz_r.append(-x.real)\n",
    "    dz_i.append(-x.imag)"
   ]
  },
  {
   "cell_type": "code",
   "execution_count": 105,
   "metadata": {},
   "outputs": [
    {
     "data": {
      "image/png": "[encoded data removed]",
      "text/plain": [
       "<matplotlib.figure.Figure at 0x7fac2c3609d0>"
      ]
     },
     "metadata": {},
     "output_type": "display_data"
    },
    {
     "data": {
      "image/png": "[encoded data removed]",
      "text/plain": [
       "<matplotlib.figure.Figure at 0x7fac0a6106d0>"
      ]
     },
     "metadata": {},
     "output_type": "display_data"
    }
   ],
   "source": [
    "plt.plot(omega,dz_r,color ='b')\n",
    "plt.show()\n",
    "plt.plot(omega,dz_i,color ='r')\n",
    "plt.show()"
   ]
  },
  {
   "cell_type": "code",
   "execution_count": null,
   "metadata": {
    "collapsed": true
   },
   "outputs": [],
   "source": []
  },
  {
   "cell_type": "code",
   "execution_count": null,
   "metadata": {
    "collapsed": true
   },
   "outputs": [],
   "source": []
  },
  {
   "cell_type": "code",
   "execution_count": null,
   "metadata": {
    "collapsed": true
   },
   "outputs": [],
   "source": []
  },
  {
   "cell_type": "code",
   "execution_count": null,
   "metadata": {
    "collapsed": true
   },
   "outputs": [],
   "source": []
  },
  {
   "cell_type": "code",
   "execution_count": null,
   "metadata": {
    "collapsed": true
   },
   "outputs": [],
   "source": []
  },
  {
   "cell_type": "code",
   "execution_count": null,
   "metadata": {
    "collapsed": true
   },
   "outputs": [],
   "source": []
  },
  {
   "cell_type": "code",
   "execution_count": null,
   "metadata": {
    "collapsed": true
   },
   "outputs": [],
   "source": []
  },
  {
   "cell_type": "code",
   "execution_count": null,
   "metadata": {
    "collapsed": true
   },
   "outputs": [],
   "source": []
  },
  {
   "cell_type": "code",
   "execution_count": null,
   "metadata": {
    "collapsed": true
   },
   "outputs": [],
   "source": []
  },
  {
   "cell_type": "code",
   "execution_count": null,
   "metadata": {
    "collapsed": true
   },
   "outputs": [],
   "source": []
  },
  {
   "cell_type": "code",
   "execution_count": null,
   "metadata": {
    "collapsed": true
   },
   "outputs": [],
   "source": []
  },
  {
   "cell_type": "code",
   "execution_count": null,
   "metadata": {
    "collapsed": true
   },
   "outputs": [],
   "source": []
  },
  {
   "cell_type": "code",
   "execution_count": null,
   "metadata": {
    "collapsed": true
   },
   "outputs": [],
   "source": []
  },
  {
   "cell_type": "code",
   "execution_count": null,
   "metadata": {
    "collapsed": true
   },
   "outputs": [],
   "source": []
  },
  {
   "cell_type": "code",
   "execution_count": null,
   "metadata": {
    "collapsed": true
   },
   "outputs": [],
   "source": []
  }
 ],
 "metadata": {
  "kernelspec": {
   "display_name": "Python 2",
   "language": "python",
   "name": "python2"
  },
  "language_info": {
   "codemirror_mode": {
    "name": "ipython",
    "version": 2
   },
   "file_extension": ".py",
   "mimetype": "text/x-python",
   "name": "python",
   "nbconvert_exporter": "python",
   "pygments_lexer": "ipython2",
   "version": "2.7.13"
  }
 },
 "nbformat": 4,
 "nbformat_minor": 2
}
