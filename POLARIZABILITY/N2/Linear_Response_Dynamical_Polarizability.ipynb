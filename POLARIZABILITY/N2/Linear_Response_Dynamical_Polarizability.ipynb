{
 "cells": [
  {
   "cell_type": "markdown",
   "metadata": {},
   "source": [
    "# Analysis of dynamical polarizability of $N_2$ in the linear response formalism"
   ]
  },
  {
   "cell_type": "markdown",
   "metadata": {
    "collapsed": true
   },
   "source": [
    "We analyze the computation of the dynamical polarizability inside the linear response formalism.\n",
    "\n",
    "The aim of this notebook is to:\n",
    "\n",
    "* compute the Casida matrix associated to the highest value of virtual orbitals. \n",
    "* build the matrices associated to a lower number of virtual orbitals (by extracting its elements from the highest one) and discuss the rate of convergence of the statical polarizability to the reference value (formerly computed by including an explicit electric field). \n",
    "* evaluate the dynamical polarizability spectrum and discuss its stability in function of the number of virtual orbitals considered.  "
   ]
  },
  {
   "cell_type": "code",
   "execution_count": 52,
   "metadata": {},
   "outputs": [
    {
     "data": {
      "application/javascript": [
       "IPython.notebook.set_autosave_interval(0)"
      ]
     },
     "metadata": {},
     "output_type": "display_data"
    },
    {
     "name": "stdout",
     "output_type": "stream",
     "text": [
      "Autosave disabled\n"
     ]
    }
   ],
   "source": [
    "%autosave 0\n",
    "from BigDFT import Logfiles as lf\n",
    "from BigDFT import Calculators as C\n",
    "from futile import Yaml\n",
    "import matplotlib.pyplot as plt\n",
    "import numpy as np\n",
    "import scipy.fftpack\n",
    "import sys\n",
    "sys.path.insert(0,'../')\n",
    "import Routine as R\n",
    "outputpath = 'linear-response/'"
   ]
  },
  {
   "cell_type": "markdown",
   "metadata": {},
   "source": [
    "Set up of the main parameters"
   ]
  },
  {
   "cell_type": "code",
   "execution_count": 53,
   "metadata": {},
   "outputs": [],
   "source": [
    "rVal = [7.0, 9.0]\n",
    "virtMax = [303, 279]"
   ]
  },
  {
   "cell_type": "markdown",
   "metadata": {},
   "source": [
    "### Computation of the coupling matrix and transition dipoles"
   ]
  },
  {
   "cell_type": "code",
   "execution_count": 54,
   "metadata": {},
   "outputs": [],
   "source": [
    "inp0 = {'dft' : \n",
    "        {'hgrids': 0.40,\n",
    "         'gnrm_cv' : 1e-8,\n",
    "         'itermax' : 100,\n",
    "         'inputpsiid': 2},\n",
    "        'tddft':{'tddft_approach': 'full'},\n",
    "        'posinp': 'N2_posinp.xyz'}\n",
    "Yaml.dump(inp0,outputpath + 'default.yaml')"
   ]
  },
  {
   "cell_type": "code",
   "execution_count": 55,
   "metadata": {
    "collapsed": true
   },
   "outputs": [],
   "source": [
    "for ind,r in enumerate(rVal):\n",
    "    inp={'dft': {'rmult': [r, 9.0], 'itermax_virt' : 1},\n",
    "         'output': {'orbitals' : 'No', 'verbosity' : 3}, \n",
    "         'radical': 'Rmult_'+str(r)}\n",
    "\n",
    "    inp['dft']['norbv'] = -virtMax[ind]\n",
    "    inpname = 'Rmult_'+str(r)+'_numVirt_'+str(virtMax[ind])\n",
    "    Yaml.dump(inp,outputpath + inpname + '.yaml')"
   ]
  },
  {
   "cell_type": "markdown",
   "metadata": {},
   "source": [
    "We execute the input file and copy the coupling matrix and transition dipoles in the \"TDDFT-Results\" folder"
   ]
  },
  {
   "cell_type": "code",
   "execution_count": 56,
   "metadata": {},
   "outputs": [
    {
     "name": "stdout",
     "output_type": "stream",
     "text": [
      "Run computation for rmult =  9.0\n",
      "/media/DATA/RICERCA/LINEAR RESPONSE/LR-nb/POLARIZABILITY/N2/linear-response\n",
      "Executing command:  mpirun -np 4 $BIGDFT_ROOT/bigdft -n Rmult_9.0_numVirt_279 -d ./log/ -s Yes\n",
      "/media/DATA/RICERCA/LINEAR RESPONSE/LR-nb/POLARIZABILITY/N2\n"
     ]
    }
   ],
   "source": [
    "rmultInd = 1\n",
    "print 'Run computation for rmult = ', rVal[rmultInd]\n",
    "\n",
    "code=C.SystemCalculator(omp=2,mpi=4)\n",
    "%cd $outputpath\n",
    "inpname = 'Rmult_'+str(rVal[rmultInd])+'_numVirt_'+str(virtMax[rmultInd])\n",
    "code.run(name=inpname,skip=True,outdir='./log/')\n",
    "%cd ../"
   ]
  },
  {
   "cell_type": "markdown",
   "metadata": {},
   "source": [
    "## Data analysis"
   ]
  },
  {
   "cell_type": "markdown",
   "metadata": {},
   "source": [
    "Read the dipoles and coupling matrix (for a single value of rVal specified by rmultInd)"
   ]
  },
  {
   "cell_type": "code",
   "execution_count": 64,
   "metadata": {},
   "outputs": [
    {
     "name": "stdout",
     "output_type": "stream",
     "text": [
      "Read data for rmult =  9.0\n",
      "Maximum value of virtual orbitals =  279\n",
      "\n",
      "/media/DATA/RICERCA/LINEAR RESPONSE/LR-nb/POLARIZABILITY/N2/linear-response\n",
      "/media/DATA/RICERCA/LINEAR RESPONSE/LR-nb/POLARIZABILITY/N2\n"
     ]
    }
   ],
   "source": [
    "rmultInd = 1\n",
    "print 'Read data for rmult = ', rVal[rmultInd]\n",
    "print 'Maximum value of virtual orbitals = ', virtMax[rmultInd]\n",
    "print ''\n",
    "\n",
    "%cd $outputpath\n",
    "dpath = 'log/TDDFT-Results/transition_dipoles_rmult'+str(rVal[rmultInd])+'_numVirt'+str(virtMax[rmultInd])+'.txt'\n",
    "dipoles = np.loadtxt(dpath)\n",
    "cpath = 'log/TDDFT-Results/coupling_matrix_rmult'+str(rVal[rmultInd])+'_numVirt'+str(virtMax[rmultInd])+'.txt'\n",
    "Cmat = np.loadtxt(cpath)\n",
    "%cd .."
   ]
  },
  {
   "cell_type": "markdown",
   "metadata": {},
   "source": [
    "We observe that $C$ is a symmetric matrix"
   ]
  },
  {
   "cell_type": "code",
   "execution_count": 65,
   "metadata": {},
   "outputs": [
    {
     "data": {
      "text/plain": [
       "True"
      ]
     },
     "execution_count": 65,
     "metadata": {},
     "output_type": "execute_result"
    }
   ],
   "source": [
    "np.allclose(Cmat,Cmat.T,atol=1.e-12)"
   ]
  },
  {
   "cell_type": "code",
   "execution_count": 66,
   "metadata": {},
   "outputs": [
    {
     "data": {
      "text/plain": [
       "[16, 32, 64, 96, 128, 160, 192, 224, 256, 279]"
      ]
     },
     "execution_count": 66,
     "metadata": {},
     "output_type": "execute_result"
    }
   ],
   "source": [
    "numOrb = 5\n",
    "nalpha = [16,32,64,96,128,160,192,224,256,virtMax[rmultInd]]\n",
    "nalpha"
   ]
  },
  {
   "cell_type": "code",
   "execution_count": 67,
   "metadata": {},
   "outputs": [
    {
     "name": "stdout",
     "output_type": "stream",
     "text": [
      "(160, 160)\n",
      "(320, 320)\n",
      "(640, 640)\n",
      "(960, 960)\n",
      "(1280, 1280)\n",
      "(1600, 1600)\n",
      "(1920, 1920)\n",
      "(2240, 2240)\n",
      "(2560, 2560)\n",
      "(2790, 2790)\n"
     ]
    }
   ],
   "source": [
    "reload(R)\n",
    "eigenproblems = R.solveEigenProblems(numOrb,virtMax[rmultInd],Cmat,dipoles,nalpha)"
   ]
  },
  {
   "cell_type": "code",
   "execution_count": 68,
   "metadata": {},
   "outputs": [
    {
     "data": {
      "text/plain": [
       "[32, 128, 64, 96, 160, 192, 224, 256, 16, 279]"
      ]
     },
     "execution_count": 68,
     "metadata": {},
     "output_type": "execute_result"
    }
   ],
   "source": [
    "eigenproblems.keys()"
   ]
  },
  {
   "cell_type": "markdown",
   "metadata": {},
   "source": [
    "### Analysis of the statical polarizability"
   ]
  },
  {
   "cell_type": "markdown",
   "metadata": {},
   "source": [
    "We discuss the convergence of the static polarizability to its reference value obtained with the explicit electric field."
   ]
  },
  {
   "cell_type": "code",
   "execution_count": 69,
   "metadata": {},
   "outputs": [
    {
     "data": {
      "text/plain": [
       "[10.643700998141032, 10.643701005208033, 15.092620758654903]"
      ]
     },
     "execution_count": 69,
     "metadata": {},
     "output_type": "execute_result"
    }
   ],
   "source": [
    "reload(R)\n",
    "statPol = R.evalStatPol(eigenproblems)\n",
    "statPol[virtMax[rmultInd]]"
   ]
  },
  {
   "cell_type": "code",
   "execution_count": 70,
   "metadata": {
    "collapsed": true
   },
   "outputs": [],
   "source": [
    "statPol_ref = [10.87,10.87,15.736]"
   ]
  },
  {
   "cell_type": "code",
   "execution_count": 72,
   "metadata": {},
   "outputs": [
    {
     "data": {
      "image/png": "[encoded data removed]",
      "text/plain": [
       "<matplotlib.figure.Figure at 0x7fe6700f0b90>"
      ]
     },
     "metadata": {},
     "output_type": "display_data"
    }
   ],
   "source": [
    "for x in range(3):\n",
    "    val = []\n",
    "    for na in nalpha:\n",
    "        val.append(statPol[na][x])\n",
    "    val = np.array(val)/statPol_ref[x]\n",
    "    plt.plot(nalpha,val,label='alpha_'+str(x))\n",
    "plt.axhline(y=1.0, color='r', linestyle='--')\n",
    "plt.legend()\n",
    "plt.show()"
   ]
  },
  {
   "cell_type": "markdown",
   "metadata": {},
   "source": [
    "To check the correctness of the procedure for the construcion of the coupling matrix (given the one with the highest number of virtual orbitals) we compare some of the result (only for rmult = 7) obtained above with the ones build in terms of the true coupling matrix computed with 16 virtual orbitals."
   ]
  },
  {
   "cell_type": "code",
   "execution_count": 50,
   "metadata": {},
   "outputs": [
    {
     "name": "stdout",
     "output_type": "stream",
     "text": [
      "/media/DATA/RICERCA/LINEAR RESPONSE/LR-nb/POLARIZABILITY/N2/linear-response\n",
      "/media/DATA/RICERCA/LINEAR RESPONSE/LR-nb/POLARIZABILITY/N2\n"
     ]
    }
   ],
   "source": [
    "%cd $outputpath\n",
    "dpath = 'log/TDDFT-Results/transition_dipoles_rmult7.0_numVirt16.txt'\n",
    "dipoles_16 = np.loadtxt(dpath)\n",
    "cpath = 'log/TDDFT-Results/coupling_matrix_rmult7.0_numVirt16.txt'\n",
    "C_16 = np.loadtxt(cpath)\n",
    "%cd .."
   ]
  },
  {
   "cell_type": "code",
   "execution_count": 51,
   "metadata": {},
   "outputs": [
    {
     "name": "stdout",
     "output_type": "stream",
     "text": [
      "(160, 160)\n",
      "[7.3652949235158021, 7.3652950885610453, 11.059355580932314]\n",
      "[7.3652950119485476, 7.3652950119485903, 11.059355520654851]\n"
     ]
    }
   ],
   "source": [
    "eigenproblems_16 = R.solveEigenProblems(numOrb,16,C_16,dipoles_16,[16])\n",
    "statPol_16 = R.evalStatPol(eigenproblems_16)\n",
    "print statPol_16[16]\n",
    "print statPol[16]"
   ]
  },
  {
   "cell_type": "markdown",
   "metadata": {},
   "source": [
    "### Dynamical polarizability in the adiabatic case"
   ]
  },
  {
   "cell_type": "code",
   "execution_count": 73,
   "metadata": {},
   "outputs": [
    {
     "name": "stdout",
     "output_type": "stream",
     "text": [
      "for na =  192  numpoint =  345  omegaMax =  1.72681211035\n",
      "for na =  256  numpoint =  366  omegaMax =  1.83111462488\n",
      "for na =  279  numpoint =  384  omegaMax =  1.92260078949\n"
     ]
    },
    {
     "data": {
      "image/png": "[encoded data removed]",
      "text/plain": [
       "<matplotlib.figure.Figure at 0x7fe667122950>"
      ]
     },
     "metadata": {},
     "output_type": "display_data"
    }
   ],
   "source": [
    "reload(R)\n",
    "nalphaPlot = [192,256,virtMax[rmultInd]]\n",
    "spectrum = R.evalSpectrum(eigenproblems,nalphaPlot)\n",
    "for na in nalphaPlot:\n",
    "    plt.plot(spectrum[na]['omega'],spectrum[na]['imagPart'],label='numVirt'+str(na))\n",
    "plt.legend()\n",
    "#plt.xlim(0,50)\n",
    "plt.show()"
   ]
  },
  {
   "cell_type": "markdown",
   "metadata": {
    "collapsed": true
   },
   "source": [
    "We write the spectrum dictionary on file"
   ]
  },
  {
   "cell_type": "code",
   "execution_count": 74,
   "metadata": {},
   "outputs": [
    {
     "name": "stdout",
     "output_type": "stream",
     "text": [
      "Write spectrum data for rmult =  9.0\n"
     ]
    }
   ],
   "source": [
    "print 'Write spectrum data for rmult = ', rVal[rmultInd]\n",
    "spToFile = {}\n",
    "for na, s in spectrum.iteritems():\n",
    "    spToFile[na] = {'omega': spectrum[na]['omega'].tolist(), 'realPart':spectrum[na]['realPart'].tolist(), 'imagPart':spectrum[na]['imagPart'].tolist()}\n",
    "filename = outputpath+'log/spectrum_rmult_'+str(rVal[rmultInd])+'.yaml '\n",
    "Yaml.dump(spToFile,filename)"
   ]
  },
  {
   "cell_type": "code",
   "execution_count": null,
   "metadata": {
    "collapsed": true
   },
   "outputs": [],
   "source": []
  }
 ],
 "metadata": {
  "kernelspec": {
   "display_name": "Python 2",
   "language": "python",
   "name": "python2"
  },
  "language_info": {
   "codemirror_mode": {
    "name": "ipython",
    "version": 2
   },
   "file_extension": ".py",
   "mimetype": "text/x-python",
   "name": "python",
   "nbconvert_exporter": "python",
   "pygments_lexer": "ipython2",
   "version": "2.7.13"
  }
 },
 "nbformat": 4,
 "nbformat_minor": 2
}
