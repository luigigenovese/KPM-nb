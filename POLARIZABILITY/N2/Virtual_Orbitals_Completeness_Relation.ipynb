{
 "cells": [
  {
   "cell_type": "markdown",
   "metadata": {},
   "source": [
    "# Computation of virtual orbitals and check of the completeness relation for $N_2$"
   ]
  },
  {
   "cell_type": "markdown",
   "metadata": {},
   "source": [
    "We compute the virtual orbitals of the $N_2$ molecule and evalute the maximum energy sampled by the system. Then we use this basis to express the occupied orbitals of the same molecule subjected to a static electric field."
   ]
  },
  {
   "cell_type": "code",
   "execution_count": 1,
   "metadata": {},
   "outputs": [
    {
     "data": {
      "application/javascript": [
       "IPython.notebook.set_autosave_interval(0)"
      ]
     },
     "metadata": {},
     "output_type": "display_data"
    },
    {
     "name": "stdout",
     "output_type": "stream",
     "text": [
      "Autosave disabled\n"
     ]
    }
   ],
   "source": [
    "%autosave 0\n",
    "from BigDFT import Logfiles as lf\n",
    "from BigDFT import Calculators as C\n",
    "from futile import Yaml\n",
    "import matplotlib.pyplot as plt\n",
    "import numpy as np\n",
    "import json\n",
    "import sys\n",
    "sys.path.insert(0,'../')\n",
    "import Routine as R\n",
    "outputpath = 'virtual-orbitals/'"
   ]
  },
  {
   "cell_type": "markdown",
   "metadata": {},
   "source": [
    "First of all we define the python dictionary that contains the basic keys common to all the file in the run and we write these common variables in the default file"
   ]
  },
  {
   "cell_type": "code",
   "execution_count": 2,
   "metadata": {
    "collapsed": true
   },
   "outputs": [],
   "source": [
    "inp0 = {'dft' : \n",
    "        {'hgrids': 0.40,\n",
    "         'gnrm_cv' : 1e-8,\n",
    "         'itermax' : 100,\n",
    "         'inputpsiid': 2},\n",
    "        'posinp': 'N2_posinp.xyz'}\n",
    "Yaml.dump(inp0,outputpath + 'default.yaml')"
   ]
  },
  {
   "cell_type": "markdown",
   "metadata": {},
   "source": [
    "## Computation of the virtual orbitals (cubic code)"
   ]
  },
  {
   "cell_type": "markdown",
   "metadata": {},
   "source": [
    "The aim of this computation is to produce the set of virtual orbitals, up to the highest value specified by the 'virtMax' parameter with a maximum residue of $1e^{-4}$. To obtain this result we produce a list of virtual orbitals denoted as 'virt' (using a linear spacing). virt contains a number of virtual orbitals higher than virtMax, because the last elements have a higher residue and are included only to improve the convergence of the lower ones.\n",
    "\n",
    "The computation is performed for rMult = 7.0 and 9.0, but the code is written in a way prone to the inclusion of other values."
   ]
  },
  {
   "cell_type": "code",
   "execution_count": 3,
   "metadata": {},
   "outputs": [
    {
     "name": "stdout",
     "output_type": "stream",
     "text": [
      "[16, 32, 64, 128, 256, 320]\n"
     ]
    }
   ],
   "source": [
    "virt=[16,32,64,128,256,320]\n",
    "print virt\n",
    "rVal = [7.0,9.0]"
   ]
  },
  {
   "cell_type": "markdown",
   "metadata": {},
   "source": [
    "We run the first set of calculation with 'itermax_virt' in the range 20-30. In this way we build a first guess of the virtual orbitals. Further refinement are performed later. We build the input file:"
   ]
  },
  {
   "cell_type": "code",
   "execution_count": 4,
   "metadata": {
    "collapsed": true
   },
   "outputs": [],
   "source": [
    "for r in rVal:\n",
    "    inp={'dft':{\n",
    "          'rmult': [r, 9.0],\n",
    "          'itermax_virt' : 20,\n",
    "          'gnrm_cv_virt' : 1e-4},\n",
    "         'output': {\n",
    "          'orbitals' : 'binary',\n",
    "          'verbosity' : 3}\n",
    "        }\n",
    "    inp['radical'] = 'Rmult_'+str(r)\n",
    "    lrun=[]\n",
    "    for n in virt:\n",
    "        inp['dft']['norbv'] = -n\n",
    "        inpname = 'Rmult_'+str(r)+'_numVirt_'+str(n)\n",
    "        Yaml.dump(inp,outputpath + inpname + '.yaml')\n",
    "        lrun.append(inpname)\n",
    "    Yaml.dump(lrun,outputpath+'runs_'+str(r))"
   ]
  },
  {
   "cell_type": "markdown",
   "metadata": {},
   "source": [
    "and execute the computation via the run file:"
   ]
  },
  {
   "cell_type": "code",
   "execution_count": 5,
   "metadata": {},
   "outputs": [
    {
     "name": "stdout",
     "output_type": "stream",
     "text": [
      "/media/DATA/RICERCA/LINEAR RESPONSE/LR-nb/POLARIZABILITY/N2/virtual-orbitals\n",
      "Executing command:  mpirun -np 4 $BIGDFT_ROOT/bigdft -r runs_7.0 -d ./log/ -s Yes\n",
      "Executing command:  mpirun -np 4 $BIGDFT_ROOT/bigdft -r runs_9.0 -d ./log/ -s Yes\n",
      "/media/DATA/RICERCA/LINEAR RESPONSE/LR-nb/POLARIZABILITY/N2\n"
     ]
    }
   ],
   "source": [
    "code=C.SystemCalculator(omp=2,mpi=4)\n",
    "%cd $outputpath\n",
    "for r in rVal:\n",
    "    code.run(run_name='runs_'+str(r),skip=True,outdir='./log/')\n",
    "%cd ../"
   ]
  },
  {
   "cell_type": "markdown",
   "metadata": {},
   "source": [
    "We read the log files associated to the highest number of virtual orbitals and organize them in the lists Data."
   ]
  },
  {
   "cell_type": "code",
   "execution_count": 6,
   "metadata": {},
   "outputs": [
    {
     "name": "stdout",
     "output_type": "stream",
     "text": [
      "/media/DATA/RICERCA/LINEAR RESPONSE/LR-nb/POLARIZABILITY/N2/virtual-orbitals\n",
      "['log/log-Rmult_7.0_numVirt_320.yaml']\n",
      "['log/log-Rmult_9.0_numVirt_320.yaml']\n",
      "/media/DATA/RICERCA/LINEAR RESPONSE/LR-nb/POLARIZABILITY/N2\n"
     ]
    }
   ],
   "source": [
    "Data = []\n",
    "%cd $outputpath\n",
    "for r in rVal:\n",
    "    spath = 'log/log-Rmult_'+str(r)+'_numVirt_'+str(virt[-1])+'.yaml'\n",
    "    log = !ls $spath\n",
    "    print log\n",
    "    Data.append(lf.Logfile(log[0]))\n",
    "%cd .."
   ]
  },
  {
   "cell_type": "markdown",
   "metadata": {},
   "source": [
    "We extract the value of the residue od the each orbital and plot it (we also display the reference value)."
   ]
  },
  {
   "cell_type": "code",
   "execution_count": 7,
   "metadata": {
    "collapsed": true
   },
   "outputs": [],
   "source": [
    "residues = []\n",
    "for d in Data:\n",
    "    residues.append(d.log['Optimization of virtual orbitals'][-2]['Residues per orbital'])"
   ]
  },
  {
   "cell_type": "code",
   "execution_count": 8,
   "metadata": {},
   "outputs": [
    {
     "data": {
      "image/png": "[encoded data removed]",
      "text/plain": [
       "<matplotlib.figure.Figure at 0x7f24d9fcebd0>"
      ]
     },
     "metadata": {},
     "output_type": "display_data"
    }
   ],
   "source": [
    "for r in range(len(rVal)):\n",
    "    plt.plot(residues[r],label='rmult = '+str(rVal[r]))\n",
    "plt.axhline(y=1e-4, color='r', linestyle='--')\n",
    "plt.title('Residue of virtual orbitals',fontsize=14)\n",
    "plt.yscale('log')\n",
    "plt.legend()\n",
    "plt.show()"
   ]
  },
  {
   "cell_type": "markdown",
   "metadata": {},
   "source": [
    "On the basis of this plot we set the number of virtual orbitals with the chosen level of confidence"
   ]
  },
  {
   "cell_type": "code",
   "execution_count": 9,
   "metadata": {},
   "outputs": [
    {
     "name": "stdout",
     "output_type": "stream",
     "text": [
      "virtMax =  [303, 279]\n"
     ]
    }
   ],
   "source": [
    "virtMax = []\n",
    "errMax = 1e-4\n",
    "for r in residues:\n",
    "    notExcede = True\n",
    "    i = 0\n",
    "    while (notExcede):\n",
    "        if r[i] > errMax:\n",
    "            notExcede = False\n",
    "        i+=1\n",
    "\n",
    "    virtMax.append(i-2)\n",
    "print 'virtMax = ', virtMax"
   ]
  },
  {
   "cell_type": "markdown",
   "metadata": {},
   "source": [
    "To refine the result we perform the computation again (with a higher value of 'itermax_virt') and if needed we repeat the computation starting from the number of virtual orbitals that exceed the maximum allowed value:"
   ]
  },
  {
   "cell_type": "code",
   "execution_count": 10,
   "metadata": {},
   "outputs": [
    {
     "name": "stdout",
     "output_type": "stream",
     "text": [
      "Rmult =  9.0\n",
      "[304, 320]\n"
     ]
    }
   ],
   "source": [
    "r = 1\n",
    "print 'Rmult = ', rVal[r]\n",
    "virt_reduced = [304,320]\n",
    "print virt_reduced"
   ]
  },
  {
   "cell_type": "code",
   "execution_count": 11,
   "metadata": {
    "collapsed": true
   },
   "outputs": [],
   "source": [
    "inp={'dft':{\n",
    "        'rmult': [rVal[r], 9.0],\n",
    "        'itermax_virt' : 50,\n",
    "        'gnrm_cv_virt' : 1e-4},\n",
    "     'output': {\n",
    "        'orbitals' : 'binary',\n",
    "        'verbosity' : 3}\n",
    "     }\n",
    "inp['radical'] = 'Rmult_'+str(rVal[r])\n",
    "lrun=[]\n",
    "for n in virt_reduced:\n",
    "    inp['dft']['norbv'] = -n\n",
    "    inpname = 'Rmult_'+str(rVal[r])+'_numVirt_'+str(n)\n",
    "    Yaml.dump(inp,outputpath + inpname + '.yaml')\n",
    "    lrun.append(inpname)\n",
    "Yaml.dump(lrun,outputpath+'runs_reduced_'+str(rVal[r]))"
   ]
  },
  {
   "cell_type": "markdown",
   "metadata": {},
   "source": [
    "we execute againg the selected input files"
   ]
  },
  {
   "cell_type": "code",
   "execution_count": 12,
   "metadata": {},
   "outputs": [
    {
     "name": "stdout",
     "output_type": "stream",
     "text": [
      "/media/DATA/RICERCA/LINEAR RESPONSE/LR-nb/POLARIZABILITY/N2/virtual-orbitals\n",
      "Executing command:  mpirun -np 4 $BIGDFT_ROOT/bigdft -r runs_reduced_9.0 -d ./log/ -s Yes\n",
      "/media/DATA/RICERCA/LINEAR RESPONSE/LR-nb/POLARIZABILITY/N2\n"
     ]
    }
   ],
   "source": [
    "code=C.SystemCalculator(omp=2,mpi=4)\n",
    "%cd $outputpath\n",
    "code.run(run_name='runs_reduced_'+str(rVal[r]),skip=True,outdir='./log/')\n",
    "%cd ../"
   ]
  },
  {
   "cell_type": "markdown",
   "metadata": {},
   "source": [
    "We proceed with the refinement up to the choosen level of precision.\n",
    "\n",
    "We observe that the last computation performed is the one with the highest number of virtual orbitals, so the orbitals written on file are associated to this log, and we have to refer to it in order to correctly attribute energy and other paramters associated to them."
   ]
  },
  {
   "cell_type": "markdown",
   "metadata": {},
   "source": [
    "## Scaling of the energy vs. number of virtual orbitals"
   ]
  },
  {
   "cell_type": "markdown",
   "metadata": {},
   "source": [
    "We read data in the log associated to a specific number of virtual orbitals"
   ]
  },
  {
   "cell_type": "code",
   "execution_count": 13,
   "metadata": {},
   "outputs": [
    {
     "name": "stdout",
     "output_type": "stream",
     "text": [
      "/media/DATA/RICERCA/LINEAR RESPONSE/LR-nb/POLARIZABILITY/N2/virtual-orbitals\n",
      "['log/log-Rmult_7.0_numVirt_320.yaml']\n",
      "['log/log-Rmult_9.0_numVirt_320.yaml']\n",
      "/media/DATA/RICERCA/LINEAR RESPONSE/LR-nb/POLARIZABILITY/N2\n"
     ]
    }
   ],
   "source": [
    "Data = []\n",
    "%cd $outputpath\n",
    "for r in rVal:\n",
    "    spath = 'log/log-Rmult_'+str(r)+'_numVirt_'+str(virt[-1])+'.yaml'\n",
    "    log = !ls $spath\n",
    "    print log\n",
    "    Data.append(lf.Logfile(log[0]))\n",
    "%cd .."
   ]
  },
  {
   "cell_type": "markdown",
   "metadata": {},
   "source": [
    "We build the array with the energy of the empty orbitals, up to virtMax. Results are expressed in eV"
   ]
  },
  {
   "cell_type": "code",
   "execution_count": 14,
   "metadata": {},
   "outputs": [
    {
     "name": "stdout",
     "output_type": "stream",
     "text": [
      "Rmult =  7.0 virtMax =  303\n",
      "Rmult =  9.0 virtMax =  279\n"
     ]
    }
   ],
   "source": [
    "numOccOrb = 5\n",
    "engVirt = []\n",
    "for r in range(len(rVal)):\n",
    "    print 'Rmult = ', rVal[r], 'virtMax = ', virtMax[r]\n",
    "    eVirt = 27.211*Data[r].evals[0][0][numOccOrb:numOccOrb+virtMax[r]]\n",
    "    engVirt.append([e for e in eVirt])"
   ]
  },
  {
   "cell_type": "code",
   "execution_count": 15,
   "metadata": {},
   "outputs": [
    {
     "data": {
      "image/png": "[encoded data removed]",
      "text/plain": [
       "<matplotlib.figure.Figure at 0x7f24e81b9fd0>"
      ]
     },
     "metadata": {},
     "output_type": "display_data"
    }
   ],
   "source": [
    "for r in range(len(rVal)):\n",
    "    plt.plot(engVirt[r],label='rmult = '+str(rVal[r]))\n",
    "plt.title('Maximum Energy vs. number of virtual orbitals',fontsize=12)\n",
    "plt.legend()\n",
    "plt.show()"
   ]
  },
  {
   "cell_type": "code",
   "execution_count": 16,
   "metadata": {},
   "outputs": [
    {
     "name": "stdout",
     "output_type": "stream",
     "text": [
      "/media/DATA/RICERCA/LINEAR RESPONSE/LR-nb/POLARIZABILITY/N2/virtual-orbitals\n",
      "/media/DATA/RICERCA/LINEAR RESPONSE/LR-nb/POLARIZABILITY/N2\n"
     ]
    }
   ],
   "source": [
    "# write engVirt for rmult = 7.0 on file\n",
    "%cd $outputpath\n",
    "f = open('engVirt.txt','w')\n",
    "json.dump(engVirt[0],f)\n",
    "f.close()\n",
    "%cd ../"
   ]
  },
  {
   "cell_type": "markdown",
   "metadata": {},
   "source": [
    "We also plot the difference of the energy between two adiacent virtual orbitals:"
   ]
  },
  {
   "cell_type": "code",
   "execution_count": 17,
   "metadata": {},
   "outputs": [
    {
     "name": "stdout",
     "output_type": "stream",
     "text": [
      "Rmult =  7.0\n"
     ]
    }
   ],
   "source": [
    "r = 0\n",
    "print 'Rmult = ', rVal[r]\n",
    "deltaEng = []\n",
    "for i in range(len(engVirt[r])-1):\n",
    "    deltaEng.append(engVirt[r][i+1]-engVirt[r][i])"
   ]
  },
  {
   "cell_type": "code",
   "execution_count": 18,
   "metadata": {},
   "outputs": [
    {
     "data": {
      "image/png": "[encoded data removed]",
      "text/plain": [
       "<matplotlib.figure.Figure at 0x7f24d8ece9d0>"
      ]
     },
     "metadata": {},
     "output_type": "display_data"
    }
   ],
   "source": [
    "plt.plot(deltaEng)\n",
    "plt.title('Delta energy vs. number of virtual orbitals',fontsize=12)\n",
    "plt.yscale('log')\n",
    "plt.show()"
   ]
  },
  {
   "cell_type": "markdown",
   "metadata": {
    "collapsed": true
   },
   "source": [
    "## Expansion of the perturbed KS orbitals (cubic code)"
   ]
  },
  {
   "cell_type": "markdown",
   "metadata": {
    "collapsed": true
   },
   "source": [
    "We compute the projection of the KS orbitals for the ground state of the system under the action of a static electric field on the orbitals (both occupied and empty) computed here. We consider a field of norm $1e^{-2}$ both in the $z$ and $x$ directions. First of all we we build the input file, perform the computations and read the results."
   ]
  },
  {
   "cell_type": "markdown",
   "metadata": {},
   "source": [
    "### Generation of the input files and execution of the computations"
   ]
  },
  {
   "cell_type": "code",
   "execution_count": 19,
   "metadata": {},
   "outputs": [
    {
     "name": "stdout",
     "output_type": "stream",
     "text": [
      "/media/DATA/RICERCA/LINEAR RESPONSE/LR-nb/POLARIZABILITY/N2/virtual-orbitals\n",
      "Executing command:  mpirun -np 4 $BIGDFT_ROOT/bigdft -n CR_Ex_rmult_7.0_numVirt_303 -d ./log/ -s Yes\n",
      "Executing command:  mpirun -np 4 $BIGDFT_ROOT/bigdft -n CR_Ez_rmult_7.0_numVirt_303 -d ./log/ -s Yes\n",
      "/media/DATA/RICERCA/LINEAR RESPONSE/LR-nb/POLARIZABILITY/N2\n",
      "/media/DATA/RICERCA/LINEAR RESPONSE/LR-nb/POLARIZABILITY/N2/virtual-orbitals\n",
      "Executing command:  mpirun -np 4 $BIGDFT_ROOT/bigdft -n CR_Ex_rmult_9.0_numVirt_279 -d ./log/ -s Yes\n",
      "Executing command:  mpirun -np 4 $BIGDFT_ROOT/bigdft -n CR_Ez_rmult_9.0_numVirt_279 -d ./log/ -s Yes\n",
      "/media/DATA/RICERCA/LINEAR RESPONSE/LR-nb/POLARIZABILITY/N2\n"
     ]
    }
   ],
   "source": [
    "for i,r in enumerate(rVal):\n",
    "    psip_Ex = '../static-field/log/data-Ex_1em2_rmult_'+str(r) #relative path starting from outputpath\n",
    "    psip_Ez = '../static-field/log/data-Ez_1em2_rmult_'+str(r)\n",
    "    inpEx={'dft':\n",
    "           {'rmult': [r, 9.0],\n",
    "            'norbv': -virtMax[i],\n",
    "            'itermax_virt' : 1},\n",
    "           'output': {'orbitals' : 'No'},\n",
    "           'radical': 'Rmult_'+str(r),\n",
    "           'tddft':{'decompose_perturbation': psip_Ex}}\n",
    "    inpEz={'dft':\n",
    "           {'rmult': [r, 9.0],\n",
    "            'norbv': -virtMax[i],\n",
    "            'itermax_virt' : 1},\n",
    "           'output': {'orbitals' : 'No'},\n",
    "           'radical': 'Rmult_'+str(r),\n",
    "           'tddft':{'decompose_perturbation': psip_Ez}}\n",
    "    InpnameEx = 'CR_Ex_rmult_'+str(r)+'_numVirt_'+str(virtMax[i])\n",
    "    InpnameEz = 'CR_Ez_rmult_'+str(r)+'_numVirt_'+str(virtMax[i])\n",
    "\n",
    "    Yaml.dump(inpEz,outputpath + InpnameEz + '.yaml')\n",
    "    Yaml.dump(inpEx,outputpath + InpnameEx + '.yaml')\n",
    "    # execute the input files\n",
    "    %cd $outputpath\n",
    "    code.run(name=InpnameEx,skip=True,outdir='./log/')\n",
    "    code.run(name=InpnameEz,skip=True,outdir='./log/')\n",
    "    %cd ../"
   ]
  },
  {
   "cell_type": "code",
   "execution_count": 20,
   "metadata": {},
   "outputs": [
    {
     "name": "stdout",
     "output_type": "stream",
     "text": [
      "/media/DATA/RICERCA/LINEAR RESPONSE/LR-nb/POLARIZABILITY/N2/virtual-orbitals\n",
      "['log/log-CR_Ex_rmult_7.0_numVirt_303.yaml', 'log/log-CR_Ez_rmult_7.0_numVirt_303.yaml']\n",
      "['log/log-CR_Ex_rmult_9.0_numVirt_279.yaml', 'log/log-CR_Ez_rmult_9.0_numVirt_279.yaml']\n",
      "/media/DATA/RICERCA/LINEAR RESPONSE/LR-nb/POLARIZABILITY/N2\n"
     ]
    }
   ],
   "source": [
    "# read the data. First index for the value of rmult, second index for the direction of the field\n",
    "CR_data = []\n",
    "%cd $outputpath\n",
    "for i,r in enumerate(rVal):\n",
    "    spath = 'log/log-CR_E*_rmult_'+str(r)+'_numVirt_'+str(virtMax[i])+'.yaml'\n",
    "    logs = !ls $spath\n",
    "    print logs\n",
    "    CR_data.append([lf.Logfile(l) for l in logs])\n",
    "%cd .."
   ]
  },
  {
   "cell_type": "markdown",
   "metadata": {},
   "source": [
    "The element [i,j] of coeff_occ[n] contains the projection of the j-th perturbed (occupied) orbital on the i-th unperturbed (occupied) one. In the same way but with the opposite convention, coeff_vrt contains the projection of the i-th perturbed (occupied) orbital on the j-th unperturbed empty one"
   ]
  },
  {
   "cell_type": "markdown",
   "metadata": {},
   "source": [
    "### Assessment of the completeness of the basis"
   ]
  },
  {
   "cell_type": "markdown",
   "metadata": {},
   "source": [
    "The natural normalization condition for the (perturbed) occupied orbitals and the fact that orbitals can be chosen to be real functions, imply the following condition:\n",
    "$$\n",
    "n_{occ} = \\sum_p \\langle\\psi'_p|\\psi'_p\\rangle =\n",
    "\\sum_p \\int dr \\psi'_p(r)^2\n",
    "$$\n",
    "We expand the perturbed orbitals on the basis of the unpertubed ones (occupied and empty). If the basis is complete we have the following equality:\n",
    "$$\n",
    "\\psi'_p(r) = \\sum_p a_{pq}\\psi_p(r) + \\sum_{\\alpha}a_{p\\alpha}\\psi_{\\alpha}(r)\n",
    "$$\n",
    "Plugging this expansion in the first formula and remembering that the eigenstates of $H_0$ are orthonormal we have:\n",
    "$$\n",
    "n_{occ} = \\sum_{pq}a_{pq}^2 + \\sum_{p\\alpha}a_{p\\alpha}^2\n",
    "$$\n",
    "This equation can be used as an estimator to assess the completeness of a basis (built in terms of a finite number of empty orbitals). We observe that the contribute of the empty orbitals has to be equal to:\n",
    "$$\n",
    "R = n_{occ} - \\sum_{pq}a_{pq}^2 \n",
    "$$\n",
    "and we can intrdoduce the following estimator\n",
    "$$\n",
    "S_{n_{virt}} = R - \\sum_{p}\\sum_{\\alpha=1}^{n_{virt}}a_{p\\alpha}^2\n",
    "$$\n",
    "$S_{n_{virt}}$ is positive definite and vanishes only id the basis is complete. We observe that $S_{n_{virt}}$ is an extensive quantity (it scales linearly with the number of electrons), so in order to define an estimator that is independent from the size of the system we can analyze the quantity $S_{n_{virt}}/n_{occ}$. \n",
    "\n",
    "If we want to analyze the influence of the basis orbital per orbital we can introduce the partial estimators\n",
    "$$\n",
    "S^{p}_{n_{virt}} = 1 - \\sum_{q}a_{pq}^2  - \\sum_{\\alpha=1}^{n_{virt}}a_{p\\alpha}^2 \\doteq R^{p} \n",
    "- \\sum_{\\alpha=1}^{n_{virt}}a_{p\\alpha}^2 \n",
    "$$\n",
    "$S^{p}_{n_{virt}}$ is linked to the global estimator by the relation:\n",
    "$$\n",
    "\\sum_{p}S^{p}_{n_{virt}} = S_{n_{virt}}\n",
    "$$\n",
    "The routine that perform this computation is defined in the Routine.py module. The function evalS_nirt computes the \"intensive\" estimator $S_{n_{virt}}/n_{occ}$."
   ]
  },
  {
   "cell_type": "code",
   "execution_count": 30,
   "metadata": {},
   "outputs": [
    {
     "name": "stdout",
     "output_type": "stream",
     "text": [
      "Rmult =  7.0\n",
      "no_occ 5 n_vrt 303\n",
      "R =  0.000371753750386\n",
      "no_occ 5 n_vrt 303\n",
      "R =  0.000533261680008\n"
     ]
    }
   ],
   "source": [
    "reload(R)\n",
    "r = 0\n",
    "print 'Rmult = ', rVal[r]\n",
    "S_nvirt_Ex = R.evalS_nvirt(CR_data[r][0])\n",
    "S_nvirt_Ez = R.evalS_nvirt(CR_data[r][1])"
   ]
  },
  {
   "cell_type": "code",
   "execution_count": 31,
   "metadata": {},
   "outputs": [
    {
     "data": {
      "image/png": "[encoded data removed]",
      "text/plain": [
       "<matplotlib.figure.Figure at 0x7f24d8d69bd0>"
      ]
     },
     "metadata": {},
     "output_type": "display_data"
    }
   ],
   "source": [
    "plt.semilogy(engVirt[r],S_nvirt_Ex,label='Ex')\n",
    "plt.semilogy(engVirt[r],S_nvirt_Ez,label='Ez')\n",
    "plt.xlabel('energy(eV)')\n",
    "plt.legend()\n",
    "plt.show()"
   ]
  },
  {
   "cell_type": "markdown",
   "metadata": {},
   "source": [
    "It is also interesting to compare the shape of the curves when plotted in terms of the number of virtual orbitals:"
   ]
  },
  {
   "cell_type": "code",
   "execution_count": 51,
   "metadata": {},
   "outputs": [
    {
     "data": {
      "image/png": "[encoded data removed]",
      "text/plain": [
       "<matplotlib.figure.Figure at 0x7fc218527dd0>"
      ]
     },
     "metadata": {},
     "output_type": "display_data"
    }
   ],
   "source": [
    "plt.semilogy(S_nvirt_Ex,label='Ex')\n",
    "plt.semilogy(S_nvirt_Ez,label='Ez')\n",
    "plt.xlabel('number of virtual orbitals')\n",
    "plt.legend()\n",
    "plt.show()"
   ]
  },
  {
   "cell_type": "code",
   "execution_count": 21,
   "metadata": {},
   "outputs": [
    {
     "name": "stdout",
     "output_type": "stream",
     "text": [
      "no_occ 5 n_vrt 303\n",
      "R =  0.000371753750386\n",
      "no_occ 5 n_vrt 303\n",
      "R =  0.000533261680008\n",
      "/media/DATA/RICERCA/LINEAR RESPONSE/LR-nb/POLARIZABILITY/N2/virtual-orbitals\n",
      "/media/DATA/RICERCA/LINEAR RESPONSE/LR-nb/POLARIZABILITY/N2\n"
     ]
    }
   ],
   "source": [
    "# write S_nvirt_Ex and S_nvirt_Ez on file (for rmult = 7.0)\n",
    "r = 0\n",
    "S_nvirt_Ex = R.evalS_nvirt(CR_data[r][0])\n",
    "S_nvirt_Ez = R.evalS_nvirt(CR_data[r][1])\n",
    "%cd $outputpath\n",
    "f = open('S_nvirt_Ex.txt','w')\n",
    "json.dump(S_nvirt_Ex,f)\n",
    "f.close()\n",
    "f = open('S_nvirt_Ez.txt','w')\n",
    "json.dump(S_nvirt_Ez,f)\n",
    "f.close()\n",
    "%cd ../"
   ]
  },
  {
   "cell_type": "markdown",
   "metadata": {
    "collapsed": true
   },
   "source": [
    "### A different assessment of the completeness of the basis"
   ]
  },
  {
   "cell_type": "markdown",
   "metadata": {},
   "source": [
    "We consider a generic observable $O$ and remember the formal definition of $Q_0$, the projection operator on the subspace orthogonal to $\\rho_0$:\n",
    "$$\n",
    "Q_0 = 1 - \\rho_0\n",
    "$$\n",
    "We can write the following operatorial equality:\n",
    "$$\n",
    "1\\cdot O \\cdot 1 = (Q_0+\\rho_0)O(Q_0+\\rho_0) = \\bar O + \\tilde O\n",
    "$$\n",
    "where\n",
    "$$\n",
    "\\bar O = \\rho_0 O \\rho_0 + Q_0 O Q_0 \\, , \\quad\n",
    "\\tilde O = Q_0 O \\rho_0 + \\rho_0 O Q_0\n",
    "$$\n",
    "$\\bar O$ is the part of $O$ that commutes with $\\rho_0$, while $\\tilde O$ does not commute with $\\rho_0$ and satisfies the properties:\n",
    "$$\n",
    "tr(\\tilde O) = 0\n",
    "$$"
   ]
  },
  {
   "cell_type": "markdown",
   "metadata": {},
   "source": [
    "We now consider the expectation value of $O$:\n",
    "$$\n",
    "R(O) = tr(O\\rho')\n",
    "$$\n",
    "In the framework of linear response $\\rho'$ is written as the commutator of a proper time evolution operator with \n",
    "$\\rho'$, so applying the previous decomposition we can substitute $\\rho'$ with $\\tilde\\rho'$. Using the explict expression of $\\tilde\\rho'$ we have:\n",
    "$$\n",
    "R(O) = tr(O\\tilde\\rho') = tr(OQ_0\\rho'\\rho_0 + O\\rho_0\\rho'Q_0) = \n",
    "tr(\\rho_0 O Q_0\\rho' + Q_0 O\\rho_0\\rho') = tr(\\tilde O\\rho')\n",
    "$$\n",
    "As a final remark, we observe that $\\rho'=\\rho-\\rho_0$ and the trace of $\\tilde O$ with $\\rho_0$ vanishes due to the presence of $Q_0$ in the definition of $\\tilde O$. So we can write:\n",
    "$$\n",
    "R(O) = tr(\\tilde O \\rho)\n",
    "$$"
   ]
  },
  {
   "cell_type": "markdown",
   "metadata": {},
   "source": [
    "We use this equation to perform an assessment of the completeness of the transition basis. We consider the dipole operator and perform a (statical) computation with the BigDFT code, using the explicit electric field, to build the reference result. So, according to the previous equations we have:\n",
    "$$\n",
    "<d> = tr(\\rho_0 d Q_0 \\rho) + tr(Q_0 d \\rho_0 \\rho)\n",
    "$$\n",
    "We choose a basis considering both occupied and empty orbitals, as usual. If this basis is complete the completeness relation is satisfied:\n",
    "$$\n",
    "1 = \\sum_p |\\psi_p><\\psi_p| + \\sum_{\\alpha}|\\psi_\\alpha><\\psi_\\alpha|\n",
    "$$\n",
    "This relation implies that:\n",
    "$$\n",
    "\\rho_0 = \\sum_p |\\psi_p><\\psi_p| \\;, \\quad Q_0 = \\sum_{\\alpha}|\\psi_\\alpha><\\psi_\\alpha|\n",
    "$$\n",
    "furthemore we have that:\n",
    "$$\n",
    "\\rho = \\sum_p |\\psi'_p><\\psi'_p|\n",
    "$$\n",
    "where the states $|\\psi'_p>$ are the occupied orbitals in the system with the explicit electric field. We have that:\n",
    "$$\n",
    "tr(\\rho_0 d Q_0 \\rho) = tr\\left(\\sum_p|\\psi_p><\\psi_p|d\n",
    "\\sum_{\\alpha}|\\psi_\\alpha><\\psi_\\alpha| \\sum_q |\\psi'_q><\\psi'_q| \\right) = \\\\ =\n",
    "\\sum_{pq\\alpha}<\\psi_p|d|\\psi_\\alpha><\\psi_\\alpha|\\psi'_q><\\psi'_q|\\psi_p>\n",
    "$$\n",
    "We introduce some other notation:\n",
    "$$\n",
    "|\\psi'_p> = \\sum_q a_{pq}|\\psi_q> + \\sum_\\alpha b_{p\\alpha}|\\psi_\\alpha> \\, \\rightarrow\n",
    "a_{pq} = <\\psi_q|\\psi'_p> \\;\\; , b_{p\\alpha} = <\\psi_\\alpha|\\psi'_p> \\\\\n",
    "<\\psi_p|d|\\psi_\\alpha> = d_{p\\alpha}\n",
    "$$\n",
    "I also observe that, since the states are real:\n",
    "$$\n",
    "a_{pq} = <\\psi_q|\\psi'_p> = <\\psi'_p|\\psi_q>\n",
    "$$\n",
    "so we have:\n",
    "$$\n",
    "tr(\\rho_0 d Q_0 \\rho) = \\sum_{pq\\alpha} d_{p\\alpha} b_{q\\alpha}a_{qp} = \n",
    "\\sum_{pq\\alpha} d_{p\\alpha} b^{T}_{\\alpha q}a_{qp} = tr(d b^{T} a)\n",
    "$$\n",
    "We can analyze the second trace in the same way:\n",
    "$$\n",
    "tr(Q_0 d \\rho_0 \\rho) = \n",
    "\\sum_{pq\\alpha}<\\psi_\\alpha|d|\\psi_p><\\psi_p|\\psi'_q><\\psi'_q|\\psi_\\alpha> = \\\\\n",
    "= \\sum_{pq\\alpha} d_{p\\alpha}a_{pq}b_{q\\alpha}\n",
    "= \\sum_{pq\\alpha} d_{p\\alpha}b^{T}_{\\alpha q}a^T_{pq} = tr(db^{T}a^{T})\n",
    "$$"
   ]
  },
  {
   "cell_type": "code",
   "execution_count": null,
   "metadata": {
    "collapsed": true
   },
   "outputs": [],
   "source": []
  }
 ],
 "metadata": {
  "kernelspec": {
   "display_name": "Python 2",
   "language": "python",
   "name": "python2"
  },
  "language_info": {
   "codemirror_mode": {
    "name": "ipython",
    "version": 2
   },
   "file_extension": ".py",
   "mimetype": "text/x-python",
   "name": "python",
   "nbconvert_exporter": "python",
   "pygments_lexer": "ipython2",
   "version": "2.7.13"
  }
 },
 "nbformat": 4,
 "nbformat_minor": 2
}
