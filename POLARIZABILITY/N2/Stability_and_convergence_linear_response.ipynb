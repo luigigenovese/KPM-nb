{
 "cells": [
  {
   "cell_type": "markdown",
   "metadata": {},
   "source": [
    "# Stability and convergence criteria for the linear response"
   ]
  },
  {
   "cell_type": "code",
   "execution_count": 1,
   "metadata": {},
   "outputs": [
    {
     "data": {
      "application/javascript": [
       "IPython.notebook.set_autosave_interval(0)"
      ]
     },
     "metadata": {},
     "output_type": "display_data"
    },
    {
     "name": "stdout",
     "output_type": "stream",
     "text": [
      "Autosave disabled\n"
     ]
    }
   ],
   "source": [
    "%autosave 0\n",
    "from BigDFT import Logfiles as lf\n",
    "from BigDFT import Calculators as C\n",
    "from futile import Yaml\n",
    "import matplotlib.pyplot as plt\n",
    "import numpy as np\n",
    "import scipy.fftpack\n",
    "import sys\n",
    "sys.path.insert(0,'../')\n",
    "import Routine as R\n",
    "outputpath = '/linear-response'"
   ]
  },
  {
   "cell_type": "markdown",
   "metadata": {},
   "source": [
    "The aim of this notebook is to perform an assessment of the reliability of the results given by the linear response. \n",
    "First of all we analyze the absorption spectrum and discuss its stability in terms of both the number of virtual orbitals and the dimension of the simulation box. \n",
    "Then we try to define a set of tools for perfoming a (semi)-automatic analysis of the excitonic states of the system. We want to define a procedure that is able to state if a given excitation can be considered as \"well-sampled\" or not (using the given values of number of virtual states and dimension of the simulation box)"
   ]
  },
  {
   "cell_type": "markdown",
   "metadata": {},
   "source": [
    "## Construction of the relevant dictionaries"
   ]
  },
  {
   "cell_type": "markdown",
   "metadata": {},
   "source": [
    "We set some general parameters and perform the analysis reading the results obtained in the others notebook"
   ]
  },
  {
   "cell_type": "code",
   "execution_count": 2,
   "metadata": {
    "collapsed": true
   },
   "outputs": [],
   "source": [
    "numOrb = 5\n",
    "simSetup = {\n",
    "    'free-bc' : {'rmult' : [7.0,9.0], 'nVirtMax' : [303,279]},\n",
    "    'periodic-bc' : {'rmult' :[7.0], 'nVirtMax' : [296]}\n",
    "    }"
   ]
  },
  {
   "cell_type": "code",
   "execution_count": 3,
   "metadata": {},
   "outputs": [
    {
     "data": {
      "text/plain": [
       "[7.0, 9.0]"
      ]
     },
     "execution_count": 3,
     "metadata": {},
     "output_type": "execute_result"
    }
   ],
   "source": [
    "simSetup['free-bc']['rmult']"
   ]
  },
  {
   "cell_type": "code",
   "execution_count": 4,
   "metadata": {},
   "outputs": [
    {
     "name": "stdout",
     "output_type": "stream",
     "text": [
      "path is :  periodic-bc/linear-response\n",
      "/media/DATA/RICERCA/LINEAR RESPONSE/LR-nb/POLARIZABILITY/N2/periodic-bc/linear-response\n",
      "['log/log-Rmult_7.0_numVirt_296.yaml']\n",
      "/media/DATA/RICERCA/LINEAR RESPONSE/LR-nb/POLARIZABILITY/N2\n",
      "path is :  free-bc/linear-response\n",
      "/media/DATA/RICERCA/LINEAR RESPONSE/LR-nb/POLARIZABILITY/N2/free-bc/linear-response\n",
      "['log/log-Rmult_7.0_numVirt_303.yaml']\n",
      "['log/log-Rmult_9.0_numVirt_279.yaml']\n",
      "/media/DATA/RICERCA/LINEAR RESPONSE/LR-nb/POLARIZABILITY/N2\n"
     ]
    }
   ],
   "source": [
    "statPol = {}\n",
    "spectrum = {}\n",
    "excitations = {}\n",
    "Data = {}\n",
    "for bc,s in simSetup.iteritems():\n",
    "    statPol[bc] = {}\n",
    "    spectrum[bc] = {}\n",
    "    excitations[bc] = {}\n",
    "    Data[bc] = {}\n",
    "    \n",
    "    path = bc+outputpath\n",
    "    print 'path is : ', path\n",
    "    %cd $path\n",
    "    for ind,r in enumerate(s['rmult']):\n",
    "        filename = 'log/statPol_rmult_'+str(r)+'.yaml '\n",
    "        statPol[bc][r] = Yaml.load(filename)\n",
    "        filename = 'log/spectrum_rmult_'+str(r)+'.yaml '\n",
    "        spectrum[bc][r] = Yaml.load(filename)\n",
    "        filename = 'log/excitations_rmult_'+str(r)+'.yaml '\n",
    "        excitations[bc][r] = Yaml.load(filename)\n",
    "        logpath = 'log/log-Rmult_'+str(r)+'_numVirt_'+str(s['nVirtMax'][ind])+'.yaml'\n",
    "        log = !ls $logpath\n",
    "        print log\n",
    "        Data[bc][r] = lf.Logfile(log[0])\n",
    "    %cd ../.."
   ]
  },
  {
   "cell_type": "markdown",
   "metadata": {},
   "source": [
    "## Analysis of the convergence of the statical polarizability"
   ]
  },
  {
   "cell_type": "code",
   "execution_count": 5,
   "metadata": {
    "collapsed": true
   },
   "outputs": [],
   "source": [
    "statPol_ref = [10.87,10.87,15.736]"
   ]
  },
  {
   "cell_type": "markdown",
   "metadata": {},
   "source": [
    "Comparison of the i-component of the statical polarizability in function of the number of virtual orbitals for each of the simulation setup:"
   ]
  },
  {
   "cell_type": "code",
   "execution_count": 6,
   "metadata": {},
   "outputs": [
    {
     "name": "stdout",
     "output_type": "stream",
     "text": [
      "bc :  periodic-bc  rmult =  7.0 nalpha =  [16, 32, 64, 96, 128, 160, 192, 224, 256, 296]\n",
      "bc :  free-bc  rmult =  9.0 nalpha =  [16, 32, 64, 96, 128, 160, 192, 224, 256, 279]\n",
      "bc :  free-bc  rmult =  7.0 nalpha =  [16, 32, 64, 96, 128, 160, 192, 224, 256, 303]\n"
     ]
    },
    {
     "data": {
      "text/plain": [
       "<matplotlib.legend.Legend at 0x7f2c860da450>"
      ]
     },
     "execution_count": 6,
     "metadata": {},
     "output_type": "execute_result"
    },
    {
     "data": {
      "image/png": "[encoded data removed]",
      "text/plain": [
       "<matplotlib.figure.Figure at 0x7f2c63185b10>"
      ]
     },
     "metadata": {},
     "output_type": "display_data"
    }
   ],
   "source": [
    "%matplotlib inline\n",
    "alphaInd = 2\n",
    "for bc in statPol:\n",
    "    for r,s in statPol[bc].iteritems():\n",
    "        nalpha = s.keys()\n",
    "        nalpha.sort()\n",
    "        print 'bc : ', bc, ' rmult = ', r, 'nalpha = ', nalpha\n",
    "        val = [] \n",
    "        for na in nalpha:\n",
    "            val.append(s[na][alphaInd])\n",
    "        val = np.array(val)/statPol_ref[alphaInd]\n",
    "        plt.plot(nalpha,val,label=bc+'_rmult_'+str(r))\n",
    "plt.axhline(y=1.0, color='r', linestyle='--')\n",
    "plt.xlabel('number of virtual orbitals', size=12)\n",
    "plt.title('Alpha_'+str(alphaInd))\n",
    "plt.legend()"
   ]
  },
  {
   "cell_type": "markdown",
   "metadata": {},
   "source": [
    "It is interesting to perform the same plot in function of the energy"
   ]
  },
  {
   "cell_type": "code",
   "execution_count": 7,
   "metadata": {},
   "outputs": [
    {
     "data": {
      "text/plain": [
       "8.6421718443782112"
      ]
     },
     "execution_count": 7,
     "metadata": {},
     "output_type": "execute_result"
    }
   ],
   "source": [
    "R.engMax(Data['free-bc'][7.0],numOrb,32)"
   ]
  },
  {
   "cell_type": "code",
   "execution_count": 8,
   "metadata": {},
   "outputs": [
    {
     "name": "stdout",
     "output_type": "stream",
     "text": [
      "bc :  periodic-bc  rmult =  7.0 emax =  [2.6672106440028158, 5.2218160404593901, 7.7144062661554527, 11.710592566463321, 13.199349917397839, 15.951539363135284, 17.763164604488804, 19.601837512350389, 20.862938164094253, 24.404509573511138]\n",
      "bc :  free-bc  rmult =  9.0 emax =  [3.6716402668845434, 5.4820832514334379, 8.8989781346906742, 11.211925798428849, 13.703921739448221, 16.112665759400539, 18.154253352748867, 20.143045157365865, 21.730045603572854, 23.475958406502457]\n",
      "bc :  free-bc  rmult =  7.0 emax =  [5.6075245995729288, 8.6421718443782112, 14.441475837420493, 17.98130707653603, 21.8635160883255, 25.610339556955523, 29.281299232055698, 31.815552411348662, 34.523930354607771, 39.092177066279902]\n"
     ]
    },
    {
     "data": {
      "text/plain": [
       "<matplotlib.legend.Legend at 0x7f2c84f9f890>"
      ]
     },
     "execution_count": 8,
     "metadata": {},
     "output_type": "execute_result"
    },
    {
     "data": {
      "image/png": "[encoded data removed]",
      "text/plain": [
       "<matplotlib.figure.Figure at 0x7f2c85073710>"
      ]
     },
     "metadata": {},
     "output_type": "display_data"
    }
   ],
   "source": [
    "%matplotlib inline\n",
    "alphaInd = 2\n",
    "for bc in statPol:\n",
    "    for r,s in statPol[bc].iteritems():\n",
    "        nalpha = s.keys()\n",
    "        nalpha.sort()\n",
    "        emax = [R.engMax(Data[bc][r],numOrb,na) for na in nalpha]\n",
    "        print 'bc : ', bc, ' rmult = ', r, 'emax = ', emax\n",
    "        val = [] \n",
    "        for na in nalpha:\n",
    "            val.append(s[na][alphaInd])\n",
    "        val = np.array(val)/statPol_ref[alphaInd]\n",
    "        plt.plot(emax,val,label=bc+'_rmult_'+str(r))\n",
    "plt.axhline(y=1.0, color='r', linestyle='--')\n",
    "plt.xlabel('energy eV', size=12)\n",
    "plt.title('Alpha_'+str(alphaInd))\n",
    "plt.legend()"
   ]
  },
  {
   "cell_type": "markdown",
   "metadata": {},
   "source": [
    "## Stability of the  spectrum"
   ]
  },
  {
   "cell_type": "markdown",
   "metadata": {},
   "source": [
    "Firstly we analyze the convergence of the spectrum in function of the number of virtual orbitals"
   ]
  },
  {
   "cell_type": "code",
   "execution_count": 9,
   "metadata": {
    "collapsed": true
   },
   "outputs": [],
   "source": [
    "bc = 'free-bc'\n",
    "r = 7.0\n",
    "part = 'imagPart'"
   ]
  },
  {
   "cell_type": "code",
   "execution_count": 10,
   "metadata": {},
   "outputs": [
    {
     "data": {
      "text/plain": [
       "<matplotlib.legend.Legend at 0x7f2c84f205d0>"
      ]
     },
     "execution_count": 10,
     "metadata": {},
     "output_type": "execute_result"
    },
    {
     "data": {
      "image/png": "[encoded data removed]",
      "text/plain": [
       "<matplotlib.figure.Figure at 0x7f2c84f0ab10>"
      ]
     },
     "metadata": {},
     "output_type": "display_data"
    }
   ],
   "source": [
    "nVmax = simSetup[bc]['nVirtMax'][simSetup[bc]['rmult'].index(r)]\n",
    "na_plot = [192,256,nVmax]\n",
    "for na in na_plot:\n",
    "    if na in spectrum[bc][r]:\n",
    "        plt.plot(spectrum[bc][r][na]['omega'],spectrum[bc][r][na][part],label = bc+'_rmult_'+str(r)+'_numVirt_'+str(na))\n",
    "plt.legend()\n",
    "plt.legend(loc=(1.1,0))"
   ]
  },
  {
   "cell_type": "markdown",
   "metadata": {},
   "source": [
    "The analysis of the plot for the two values of rmult show that:\n",
    "* For rmult = 7.0 the spectrum is stable up to 40 eV\n",
    "* For rmult = 9.0 the spectrum is stable up to 30 eV\n",
    "These results indicate that it is interesting to compare the spectrum for the two values of rmult up to 30 eV"
   ]
  },
  {
   "cell_type": "markdown",
   "metadata": {},
   "source": [
    "Then we compare the spectrum with different boundary conditions"
   ]
  },
  {
   "cell_type": "code",
   "execution_count": 11,
   "metadata": {
    "collapsed": true
   },
   "outputs": [],
   "source": [
    "part = 'imagPart'"
   ]
  },
  {
   "cell_type": "code",
   "execution_count": 12,
   "metadata": {},
   "outputs": [
    {
     "name": "stdout",
     "output_type": "stream",
     "text": [
      "periodic-bc\n",
      "free-bc\n"
     ]
    },
    {
     "data": {
      "text/plain": [
       "<matplotlib.legend.Legend at 0x7f2c84d95850>"
      ]
     },
     "execution_count": 12,
     "metadata": {},
     "output_type": "execute_result"
    },
    {
     "data": {
      "image/png": "[encoded data removed]",
      "text/plain": [
       "<matplotlib.figure.Figure at 0x7f2c84e96090>"
      ]
     },
     "metadata": {},
     "output_type": "display_data"
    }
   ],
   "source": [
    "for bc,sim in simSetup.iteritems():\n",
    "    print bc\n",
    "    for r in sim['rmult']:\n",
    "        na = simSetup[bc]['nVirtMax'][simSetup[bc]['rmult'].index(r)]\n",
    "        plt.plot(spectrum[bc][r][na]['omega'],spectrum[bc][r][na][part],label = bc+'_rmult_'+str(r)+'_numVirt_'+str(na))\n",
    "plt.legend()\n",
    "plt.xlim(0,40)\n",
    "plt.legend(loc=(1.1,0))"
   ]
  },
  {
   "cell_type": "code",
   "execution_count": 13,
   "metadata": {
    "collapsed": true
   },
   "outputs": [],
   "source": [
    "#spectrum['free-bc'][7.0][simSetup['free-bc']['nVirtMax'][simSetup['free-bc']['rmult'].index(7.0)]]"
   ]
  },
  {
   "cell_type": "markdown",
   "metadata": {},
   "source": [
    "## Comparison of the low energy excitations"
   ]
  },
  {
   "cell_type": "markdown",
   "metadata": {
    "collapsed": true
   },
   "source": [
    "We set the number of virtual orbitals with negative energy equal to 2, as obtained in the free-bc simulation (the periodic code gives 3, but we use the same value for both the cases)"
   ]
  },
  {
   "cell_type": "code",
   "execution_count": 14,
   "metadata": {
    "collapsed": true
   },
   "outputs": [],
   "source": [
    "numVirtBound = 2"
   ]
  },
  {
   "cell_type": "markdown",
   "metadata": {},
   "source": [
    "We compute the some over bound for each case"
   ]
  },
  {
   "cell_type": "code",
   "execution_count": 27,
   "metadata": {},
   "outputs": [
    {
     "name": "stdout",
     "output_type": "stream",
     "text": [
      "[64, 128, 192, 256, 296]\n",
      "Number of distinct transisitons =  56\n",
      "Number of transisitons removed =  0\n",
      "[64, 128, 192, 256, 279]\n",
      "Number of distinct transisitons =  56\n",
      "Number of transisitons removed =  0\n",
      "[64, 128, 192, 256, 303]\n",
      "Number of distinct transisitons =  66\n",
      "Number of transisitons removed =  0\n"
     ]
    }
   ],
   "source": [
    "sob = {}\n",
    "for bc,e in excitations.iteritems():\n",
    "    sob[bc] = {}\n",
    "    for r,val in e.iteritems():\n",
    "        sob[bc][r] = R.evalSob(numVirtBound,val)"
   ]
  },
  {
   "cell_type": "code",
   "execution_count": 32,
   "metadata": {},
   "outputs": [
    {
     "name": "stdout",
     "output_type": "stream",
     "text": [
      "[64, 128, 192, 256, 303]\n"
     ]
    }
   ],
   "source": [
    "bc = 'free-bc'\n",
    "rmult = 7\n",
    "nalpha = excitations[bc][rmult].keys()\n",
    "nalpha.sort()\n",
    "print nalpha\n",
    "sobStability = R.evalSobStability(sob[bc][r],nalpha)"
   ]
  },
  {
   "cell_type": "code",
   "execution_count": 33,
   "metadata": {},
   "outputs": [
    {
     "data": {
      "text/plain": [
       "['2to7-1', '2to1-0+2to2-0']"
      ]
     },
     "execution_count": 33,
     "metadata": {},
     "output_type": "execute_result"
    }
   ],
   "source": [
    "derThreshold = 1.0e-4\n",
    "highDerivativeTr = []\n",
    "for tr, s in sobStability.iteritems():\n",
    "    if abs(s['derivative']) > derThreshold:\n",
    "        highDerivativeTr.append(tr)\n",
    "highDerivativeTr"
   ]
  },
  {
   "cell_type": "code",
   "execution_count": null,
   "metadata": {
    "collapsed": true
   },
   "outputs": [],
   "source": []
  },
  {
   "cell_type": "code",
   "execution_count": null,
   "metadata": {
    "collapsed": true
   },
   "outputs": [],
   "source": []
  },
  {
   "cell_type": "code",
   "execution_count": null,
   "metadata": {
    "collapsed": true
   },
   "outputs": [],
   "source": []
  },
  {
   "cell_type": "code",
   "execution_count": null,
   "metadata": {
    "collapsed": true
   },
   "outputs": [],
   "source": []
  },
  {
   "cell_type": "code",
   "execution_count": null,
   "metadata": {
    "collapsed": true
   },
   "outputs": [],
   "source": [
    "#####################################################################################################"
   ]
  },
  {
   "cell_type": "markdown",
   "metadata": {},
   "source": [
    "## Comparison of the lower energy excitations"
   ]
  },
  {
   "cell_type": "markdown",
   "metadata": {},
   "source": [
    "To undestand the effect of rmult on the excitations of the system we star by comparing the lower energy exctitations. Since the usage of more than one value of na can remove some the excitations we perform this comparison using a dictionary that contains, for each value of rmult, only the excitations computed with the highest number of virtual orbitals."
   ]
  },
  {
   "cell_type": "code",
   "execution_count": 50,
   "metadata": {},
   "outputs": [
    {
     "name": "stdout",
     "output_type": "stream",
     "text": [
      "/media/DATA/RICERCA/LINEAR RESPONSE/LR-nb/POLARIZABILITY/N2/linear-response\n",
      "/media/DATA/RICERCA/LINEAR RESPONSE/LR-nb/POLARIZABILITY/N2\n",
      "\n"
     ]
    }
   ],
   "source": [
    "excitations = {}\n",
    "\n",
    "%cd $outputpath\n",
    "for ind, r in enumerate(rmult):\n",
    "    #filename = 'log/excitations_rmult'+str(r)+'.yaml '\n",
    "    filename = 'log/excitations_singlena_rmult'+str(r)+'.yaml '\n",
    "    excitations[r] = Yaml.load(filename)\n",
    "%cd .."
   ]
  },
  {
   "cell_type": "markdown",
   "metadata": {},
   "source": [
    "First of all we display the lower energy transitions for both values of the box"
   ]
  },
  {
   "cell_type": "code",
   "execution_count": 51,
   "metadata": {
    "collapsed": true
   },
   "outputs": [],
   "source": [
    "allTr = {}\n",
    "trEnergy = {}\n",
    "for r in rmult:\n",
    "    allTr[r], trEnergy[r] = R.allTransitions(excitations[r])"
   ]
  },
  {
   "cell_type": "code",
   "execution_count": 52,
   "metadata": {},
   "outputs": [
    {
     "name": "stdout",
     "output_type": "stream",
     "text": [
      "lev :  1 Lab r=7 : 3,4to1,2-0 Lab r=9 :  3,4to1,2-0 E(r=7) =  7.30809173305 dE =  0.0300166690571\n",
      "lev :  2 Lab r=7 : 5to1-0+5to2-0 Lab r=9 :  5to1-0+5to2-0 E(r=7) =  7.34378457737 dE =  0.0106894167869\n",
      "lev :  3 Lab r=7 : 3,4to1,2-1 Lab r=9 :  3,4to1,2-1 E(r=7) =  8.43623824312 dE =  0.011099242685\n",
      "lev :  4 Lab r=7 : 3,4to1,2-2 Lab r=9 :  3,4to1,2-2 E(r=7) =  8.43917784921 dE =  0.0111468176282\n",
      "lev :  5 Lab r=7 : 5to1-1+5to2-1 Lab r=9 :  5to1-1+5to2-1 E(r=7) =  8.90000231349 dE =  0.0296469900353\n",
      "lev :  6 Lab r=7 : 3,4to1,2-3+3,4to1,2-4 Lab r=9 :  3,4to1,2-3+3,4to1,2-4 E(r=7) =  9.35069114931 dE =  0.00112711302177\n",
      "lev :  7 Lab r=7 : 3,4to1,2-5 Lab r=9 :  3,4to1,2-5 E(r=7) =  9.85047044711 dE =  0.0041152072531\n",
      "lev :  8 Lab r=7 : 3,4to1,2-6 Lab r=9 :  3,4to1,2-6 E(r=7) =  9.85313464686 dE =  0.00418370847078\n",
      "lev :  9 Lab r=7 : 2to1,2-1+2to1,2-0 Lab r=9 :  2to1-0+2to2-0 E(r=7) =  10.2326504097 dE =  0.0145459535511\n",
      "lev :  10 Lab r=7 : 5to3-0 Lab r=9 :  5to3-0 E(r=7) =  10.9098389505 dE =  0.367078940942\n",
      "lev :  11 Lab r=7 : 5to3-1 Lab r=9 :  5to3-1 E(r=7) =  11.32946811 dE =  0.4943893561\n",
      "lev :  12 Lab r=7 : 5to4-0 Lab r=9 :  5to4-0 E(r=7) =  11.9447622578 dE =  0.590274776553\n",
      "lev :  13 Lab r=7 : 5to4-1 Lab r=9 :  5to4-1 E(r=7) =  11.9980813938 dE =  0.633245181591\n",
      "lev :  14 Lab r=7 : 5to6-0+5to5-0 Lab r=9 :  5to6-0+5to5-0 E(r=7) =  12.0181394238 dE =  0.631237744006\n",
      "lev :  15 Lab r=7 : 5to6-1+5to5-1 Lab r=9 :  5to6-1+5to5-1 E(r=7) =  12.0262857616 dE =  0.625678112178\n",
      "lev :  16 Lab r=7 : 4to3-0+3to3-0 Lab r=9 :  4to3-0+3to3-0 E(r=7) =  12.3466407934 dE =  0.395050760189\n",
      "lev :  17 Lab r=7 : 4to3-1+3to3-1 Lab r=9 :  4to3-1+3to3-1 E(r=7) =  12.4109579664 dE =  0.41653669839\n",
      "lev :  18 Lab r=7 : 2to1-0+2to2-0 Lab r=9 :  5to7-0 E(r=7) =  13.1802509783 dE =  0.792553209169\n",
      "lev :  19 Lab r=7 : 3,4to5,6-0 Lab r=9 :  5to7-1 E(r=7) =  13.2535399126 dE =  0.836503365515\n",
      "lev :  20 Lab r=7 : 5to7-0 Lab r=9 :  5to8-0 E(r=7) =  13.262531659 dE =  0.667626373386\n"
     ]
    }
   ],
   "source": [
    "numexc = 20\n",
    "for ind in range(numexc):\n",
    "    print 'lev : ',ind+1, 'Lab r=7 :',allTr[rmult[0]][ind], 'Lab r=9 : ',allTr[rmult[1]][ind], 'E(r=7) = ', trEnergy[rmult[0]][ind], 'dE = ', abs(trEnergy[rmult[1]][ind] - trEnergy[rmult[0]][ind]) "
   ]
  },
  {
   "cell_type": "markdown",
   "metadata": {},
   "source": [
    "COMMENTS : \n",
    "* There are 17 excitations in which the lab is the same for both value of rmult\n",
    "* Only for the first 9 excitations dE is lower than 0.1 eV"
   ]
  },
  {
   "cell_type": "markdown",
   "metadata": {},
   "source": [
    "## Stability of the relevant excitations"
   ]
  },
  {
   "cell_type": "markdown",
   "metadata": {},
   "source": [
    "To understand why the spectrum changes from rmult 7 to 9 we perform an analysis of the properties of the excitations that are relevant for the costruction of the spectrum e compare the results for the two values of rmult."
   ]
  },
  {
   "cell_type": "markdown",
   "metadata": {},
   "source": [
    "Now we start to analyze the transitions more relevant for the specrtum. We plot the oscillator strenght"
   ]
  },
  {
   "cell_type": "code",
   "execution_count": 48,
   "metadata": {},
   "outputs": [
    {
     "data": {
      "image/png": "[encoded data removed]",
      "text/plain": [
       "<matplotlib.figure.Figure at 0x7f3a49cde390>"
      ]
     },
     "metadata": {},
     "output_type": "display_data"
    }
   ],
   "source": [
    "offs = 0.0\n",
    "for r in rmult:\n",
    "    allTr, trEnergy = R.allTransitions(excitations[r])\n",
    "    na = excitations[r].keys()[-1]\n",
    "    oscStrenght = []\n",
    "    for tr in allTr:\n",
    "        oscStrenght.append(excitations[r][na]['transitions'][tr]['oscStrenght'])\n",
    "    plt.plot(trEnergy,offs+np.array(oscStrenght),'o')\n",
    "    plt.plot(trEnergy,offs+np.array(oscStrenght),label = 'rmult='+str(r))\n",
    "    #plt.plot(offs+np.array(oscStrenght),'o')\n",
    "    #plt.plot(offs+np.array(oscStrenght),label = 'rmult='+str(r))\n",
    "    offs+=0.5\n",
    "plt.legend()\n",
    "plt.xlabel('energy eV', size=12)\n",
    "plt.show()"
   ]
  },
  {
   "cell_type": "markdown",
   "metadata": {},
   "source": [
    "Build the dictionary with the most relevant transitions"
   ]
  },
  {
   "cell_type": "code",
   "execution_count": 27,
   "metadata": {
    "collapsed": true
   },
   "outputs": [],
   "source": [
    "relTransitions = {}\n",
    "relEnergy = {}\n",
    "relOscStrenght = {}\n",
    "for r in rmult:\n",
    "    relTransitions[r] = []\n",
    "    relEnergy[r] = []\n",
    "    relOscStrenght[r] = []\n",
    "    na = excitations[r].keys()[-1]\n",
    "    allTr, trEnergy = R.allTransitions(excitations[r])\n",
    "    for ind,tr in enumerate(allTr):\n",
    "        osc = excitations[r][na]['transitions'][tr]['oscStrenght'] \n",
    "        if  osc > 0.1:\n",
    "            relTransitions[r].append(tr)\n",
    "            relEnergy[r].append(trEnergy[ind])\n",
    "            relOscStrenght[r].append(osc)\n",
    "        "
   ]
  },
  {
   "cell_type": "code",
   "execution_count": 28,
   "metadata": {},
   "outputs": [
    {
     "name": "stdout",
     "output_type": "stream",
     "text": [
      "['5to4-0', '3,4to5,6-6+3,4to5,6-5', '2to7-1', '5to22-0', '2to30-0']\n",
      "[11.94476225779843, 13.431632699878232, 16.492041953851057, 17.72398010006172, 21.907486314446217]\n",
      "[0.2926858196809133, 0.5155401131505235, 0.3891823859612723, 0.2651982944933355, 0.2402204650804506]\n",
      "['5to4-0', '2to1-1+2to2-1', '2,5to4,22-1', '3to12-1+4to12-1', '5to71-0']\n",
      "[11.354487481245043, 13.241617360350151, 14.519996884955464, 15.104261081447103, 19.852670105093267]\n",
      "[0.16684251889565177, 0.4410122563599942, 0.2741581074909661, 0.22246241572469436, 0.27540134296020063]\n"
     ]
    }
   ],
   "source": [
    "for r in rmult:\n",
    "    print relTransitions[r]\n",
    "    print relEnergy[r]\n",
    "    print relOscStrenght[r]"
   ]
  },
  {
   "cell_type": "code",
   "execution_count": null,
   "metadata": {
    "collapsed": true
   },
   "outputs": [],
   "source": []
  },
  {
   "cell_type": "code",
   "execution_count": null,
   "metadata": {
    "collapsed": true
   },
   "outputs": [],
   "source": []
  },
  {
   "cell_type": "code",
   "execution_count": null,
   "metadata": {
    "collapsed": true
   },
   "outputs": [],
   "source": []
  },
  {
   "cell_type": "code",
   "execution_count": null,
   "metadata": {
    "collapsed": true
   },
   "outputs": [],
   "source": []
  },
  {
   "cell_type": "code",
   "execution_count": null,
   "metadata": {
    "collapsed": true
   },
   "outputs": [],
   "source": []
  },
  {
   "cell_type": "code",
   "execution_count": null,
   "metadata": {
    "collapsed": true
   },
   "outputs": [],
   "source": []
  },
  {
   "cell_type": "code",
   "execution_count": null,
   "metadata": {
    "collapsed": true
   },
   "outputs": [],
   "source": []
  }
 ],
 "metadata": {
  "kernelspec": {
   "display_name": "Python 2",
   "language": "python",
   "name": "python2"
  },
  "language_info": {
   "codemirror_mode": {
    "name": "ipython",
    "version": 2
   },
   "file_extension": ".py",
   "mimetype": "text/x-python",
   "name": "python",
   "nbconvert_exporter": "python",
   "pygments_lexer": "ipython2",
   "version": "2.7.13"
  }
 },
 "nbformat": 4,
 "nbformat_minor": 2
}
