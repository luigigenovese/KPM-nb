{
 "cells": [
  {
   "cell_type": "markdown",
   "metadata": {},
   "source": [
    "# Analysis of excitonic states for N2 with pbc"
   ]
  },
  {
   "cell_type": "code",
   "execution_count": 1,
   "metadata": {},
   "outputs": [
    {
     "data": {
      "application/javascript": [
       "IPython.notebook.set_autosave_interval(0)"
      ]
     },
     "metadata": {},
     "output_type": "display_data"
    },
    {
     "name": "stdout",
     "output_type": "stream",
     "text": [
      "Autosave disabled\n"
     ]
    }
   ],
   "source": [
    "%autosave 0\n",
    "from BigDFT import Logfiles as lf\n",
    "from BigDFT import Calculators as C\n",
    "from futile import Yaml\n",
    "import matplotlib.pyplot as plt\n",
    "import numpy as np\n",
    "import scipy.fftpack\n",
    "import sys\n",
    "sys.path.insert(0,'../../')\n",
    "import Routine as R\n",
    "outputpath = 'linear-response/'"
   ]
  },
  {
   "cell_type": "markdown",
   "metadata": {},
   "source": [
    "Set up of the main parameters"
   ]
  },
  {
   "cell_type": "code",
   "execution_count": 2,
   "metadata": {
    "collapsed": true
   },
   "outputs": [],
   "source": [
    "rVal = [7.0]\n",
    "virtMax = [296]"
   ]
  },
  {
   "cell_type": "markdown",
   "metadata": {},
   "source": [
    "## Construction of the excitation dictionary"
   ]
  },
  {
   "cell_type": "markdown",
   "metadata": {},
   "source": [
    "Read the dipoles and coupling matrix (for a single value of rVal specified by rmultInd)"
   ]
  },
  {
   "cell_type": "code",
   "execution_count": 3,
   "metadata": {},
   "outputs": [
    {
     "name": "stdout",
     "output_type": "stream",
     "text": [
      "Read data for rmult =  7.0\n",
      "Maximum value of virtual orbitals =  296\n",
      "\n",
      "/media/DATA/RICERCA/LINEAR RESPONSE/LR-nb/POLARIZABILITY/N2/periodic-bc/linear-response\n",
      "/media/DATA/RICERCA/LINEAR RESPONSE/LR-nb/POLARIZABILITY/N2/periodic-bc\n"
     ]
    },
    {
     "data": {
      "text/plain": [
       "(2960, 2960)"
      ]
     },
     "execution_count": 3,
     "metadata": {},
     "output_type": "execute_result"
    }
   ],
   "source": [
    "rmultInd = 0\n",
    "print 'Read data for rmult = ', rVal[rmultInd]\n",
    "print 'Maximum value of virtual orbitals = ', virtMax[rmultInd]\n",
    "print ''\n",
    "\n",
    "%cd $outputpath\n",
    "dpath = 'log/TDDFT-Results/transition_dipoles_rmult'+str(rVal[rmultInd])+'_numVirt'+str(virtMax[rmultInd])+'.txt'\n",
    "dipoles = np.loadtxt(dpath)\n",
    "cpath = 'log/TDDFT-Results/coupling_matrix_rmult'+str(rVal[rmultInd])+'_numVirt'+str(virtMax[rmultInd])+'.txt'\n",
    "Cmat = np.loadtxt(cpath)\n",
    "logpath = 'log/log-Rmult_'+str(rVal[rmultInd])+'_numVirt_'+str(virtMax[rmultInd])+'.yaml'\n",
    "log = !ls $logpath\n",
    "Data = lf.Logfile(log[0])\n",
    "%cd ..\n",
    "\n",
    "Cmat.shape"
   ]
  },
  {
   "cell_type": "markdown",
   "metadata": {},
   "source": [
    "We set the number of occupied orbitals and define the list nalpha used to analyze the convergence of the excitations with respect to the number of virtual orbitals"
   ]
  },
  {
   "cell_type": "code",
   "execution_count": 4,
   "metadata": {},
   "outputs": [
    {
     "data": {
      "text/plain": [
       "[64, 128, 192, 256, 296]"
      ]
     },
     "execution_count": 4,
     "metadata": {},
     "output_type": "execute_result"
    }
   ],
   "source": [
    "numOrb = 5\n",
    "nalpha = [64,128,192,256,virtMax[rmultInd]]\n",
    "nalpha"
   ]
  },
  {
   "cell_type": "code",
   "execution_count": 5,
   "metadata": {},
   "outputs": [
    {
     "data": {
      "text/plain": [
       "7.7144062661554527"
      ]
     },
     "execution_count": 5,
     "metadata": {},
     "output_type": "execute_result"
    }
   ],
   "source": [
    "reload(R)\n",
    "R.engMax(Data,numOrb,64)"
   ]
  },
  {
   "cell_type": "markdown",
   "metadata": {},
   "source": [
    "We solve the eigenproblems"
   ]
  },
  {
   "cell_type": "code",
   "execution_count": 6,
   "metadata": {},
   "outputs": [
    {
     "name": "stdout",
     "output_type": "stream",
     "text": [
      "(640, 640)\n",
      "(1280, 1280)\n",
      "(1920, 1920)\n",
      "(2560, 2560)\n",
      "(2960, 2960)\n"
     ]
    }
   ],
   "source": [
    "reload(R)\n",
    "eigenproblems = R.solveEigenProblems(numOrb,virtMax[rmultInd],Cmat,dipoles,nalpha)"
   ]
  },
  {
   "cell_type": "markdown",
   "metadata": {},
   "source": [
    "We build the dictionary with the first excitations (for each na) and remove the degeneracies"
   ]
  },
  {
   "cell_type": "code",
   "execution_count": 7,
   "metadata": {
    "collapsed": true
   },
   "outputs": [],
   "source": [
    "reload(R)\n",
    "exc = [i for i in range(1,100)]\n",
    "excitations = R.buildExcitations(numOrb,nalpha,exc,eigenproblems)\n",
    "excitations = R.removeDegenarices(excitations)"
   ]
  },
  {
   "cell_type": "markdown",
   "metadata": {},
   "source": [
    "The list allTr contains the labels of the transitions considered (the procedure consider only the transitions that appears for all the values of nalpha). The list is sorted with increasing energy (for each transition it consider the energy of the highest na)."
   ]
  },
  {
   "cell_type": "code",
   "execution_count": 9,
   "metadata": {},
   "outputs": [
    {
     "name": "stdout",
     "output_type": "stream",
     "text": [
      "Number of distinct transisitons =  88\n",
      "Number of transisitons removed =  32\n",
      "Number of transition 56\n",
      "['3,4to1,2-0', '5to1-0+5to2-0', '3,4to1,2-1', '3,4to1,2-2', '3,4to1,2-3+3,4to1,2-4', '3,4to1,2-5', '3,4to1,2-6', '5to3-0', '5to3-1', '2to1-0+2to2-0', '5to5-0', '5to5-1', '4,5to3,7-0+3,5to3,6-0', '4,5to3,7-1+3,5to3,6-1', '3,5to3,6-3+3,5to3,6-2', '4,5to3,7-3+4,5to3,7-2', '5to8-0', '5to8-1', '5to9-0', '5to9-1', '3to4-0+4to4-0', '3to4-1+4to4-1', '4to5-0+3to5-0', '5to10-0', '4to5-1+3to5-1', '5to10-1', '5to11-0+5to12-0', '5to11-1+5to12-1', '3,4to6,7-0', '3,4,5to6,7,17-0', '3,4to6,7-1', '3,4to6,7-2', '3,4to6,7-3', '5to14-0+5to13-0', '5to14-1+5to13-1', '3,4to6,7-4+3,4to6,7-5', '5to16-0', '5to15-0', '5to15-1', '5to17-0', '5to17-1', '3to8-0+4to8-0', '5to19-0+5to20-0', '5to19-1+5to20-1', '2to3-0', '5to21-0', '5to21-1', '3,4to11,12-0', '4to10-0+3to10-0', '3,4to11,12-1', '3,4to11,12-2', '3,4to11,12-3', '3,4to11,12-4', '4to10-1+3to10-1', '3,4to11,12-5+3,4to11,12-6', '3,4to13,14-0']\n"
     ]
    }
   ],
   "source": [
    "reload(R)\n",
    "allTr = R.allTransitions(excitations)\n",
    "print 'Number of transition', len(allTr)\n",
    "print allTr"
   ]
  },
  {
   "cell_type": "markdown",
   "metadata": {},
   "source": [
    "We remove the transitions that are not in allTr from excitations"
   ]
  },
  {
   "cell_type": "code",
   "execution_count": 11,
   "metadata": {},
   "outputs": [
    {
     "name": "stdout",
     "output_type": "stream",
     "text": [
      "na =  64  - number of transitions 56\n",
      "na =  128  - number of transitions 56\n",
      "na =  192  - number of transitions 56\n",
      "na =  256  - number of transitions 56\n",
      "na =  296  - number of transitions 56\n"
     ]
    }
   ],
   "source": [
    "for na in nalpha:\n",
    "    transitions = excitations[na].keys()\n",
    "    for tr in transitions:\n",
    "        if tr not in allTr:\n",
    "            del excitations[na][tr]\n",
    "    print 'na = ', na,' - number of transitions', len(transitions)"
   ]
  },
  {
   "cell_type": "markdown",
   "metadata": {},
   "source": [
    "We add the key oscillator strenght"
   ]
  },
  {
   "cell_type": "code",
   "execution_count": 12,
   "metadata": {
    "collapsed": true
   },
   "outputs": [],
   "source": [
    "fAvg = R.evalOscStrenghtAvg(eigenproblems)\n",
    "for na,e in excitations.iteritems():\n",
    "    for tr in e:\n",
    "        level = excitations[na][tr]['level']\n",
    "        os = 0.0\n",
    "        for l in range(len(level)):\n",
    "            os+=fAvg[na][l]\n",
    "        e[tr]['oscillatorStrenght'] = os"
   ]
  },
  {
   "cell_type": "code",
   "execution_count": 13,
   "metadata": {
    "collapsed": true
   },
   "outputs": [],
   "source": [
    "#excitations[64]"
   ]
  },
  {
   "cell_type": "markdown",
   "metadata": {},
   "source": [
    "Save the excitation dictionary on a file for further compared analysis in other notebook"
   ]
  },
  {
   "cell_type": "code",
   "execution_count": 14,
   "metadata": {
    "collapsed": true
   },
   "outputs": [],
   "source": [
    "excList = {}\n",
    "for na,e in excitations.iteritems():\n",
    "    val = {}\n",
    "    for tr,v in e.iteritems():\n",
    "        val[tr] = {'weightP' : v['weightP'].tolist(),'weightAlpha' : v['weightAlpha'].tolist(),'level' : v['level'], 'energy' : v['energy'].tolist(), 'oscillatorStrenght' : v['oscillatorStrenght'].tolist()}\n",
    "    excList[na] = val"
   ]
  },
  {
   "cell_type": "code",
   "execution_count": 15,
   "metadata": {},
   "outputs": [
    {
     "name": "stdout",
     "output_type": "stream",
     "text": [
      "Save data for rmult =  7.0\n",
      "Maximum value of virtual orbitals =  296\n",
      "\n",
      "linear-response/log/excitations_rmult_7.0.yaml \n"
     ]
    }
   ],
   "source": [
    "print 'Save data for rmult = ', rVal[rmultInd]\n",
    "print 'Maximum value of virtual orbitals = ', virtMax[rmultInd]\n",
    "print ''\n",
    "\n",
    "filename = outputpath+'log/excitations_rmult_'+str(rVal[rmultInd])+'.yaml '\n",
    "#filename = outputpath+'log/excitations_singlena_rmult'+str(rmult)+'.yaml ' # for the single na analysis\n",
    "print filename\n",
    "#Yaml.dump(excList,filename)"
   ]
  },
  {
   "cell_type": "markdown",
   "metadata": {},
   "source": [
    "### Analysis of the energy (stability and convergence)"
   ]
  },
  {
   "cell_type": "markdown",
   "metadata": {},
   "source": [
    "We define a routine to plot the energy of the excitations (specified in the list using the level of the excitations) in function of the number of virtual orbitals. "
   ]
  },
  {
   "cell_type": "code",
   "execution_count": 16,
   "metadata": {},
   "outputs": [
    {
     "data": {
      "image/png": "[encoded data removed]",
      "text/plain": [
       "<matplotlib.figure.Figure at 0x7f9e137cae90>"
      ]
     },
     "metadata": {},
     "output_type": "display_data"
    }
   ],
   "source": [
    "%matplotlib inline\n",
    "reload(R)\n",
    "selTr = [1,2,3]\n",
    "R.pltTrLevel(selTr,excitations,Data,numOrb,True)"
   ]
  },
  {
   "cell_type": "markdown",
   "metadata": {},
   "source": [
    "Transitions energies can be also plotted specifying the values of the transition labels"
   ]
  },
  {
   "cell_type": "code",
   "execution_count": 17,
   "metadata": {},
   "outputs": [
    {
     "data": {
      "image/png": "[encoded data removed]",
      "text/plain": [
       "<matplotlib.figure.Figure at 0x7f9dfedf3110>"
      ]
     },
     "metadata": {},
     "output_type": "display_data"
    }
   ],
   "source": [
    "reload(R)\n",
    "selLab = ['3,4to1,2-0','5to1-0+5to2-0','3,4to1,2-1']#,'3,4to1,2-3+3,4to1,2-4']\n",
    "R.pltTrLabel(selLab,excitations,Data,numOrb,True)"
   ]
  },
  {
   "cell_type": "markdown",
   "metadata": {},
   "source": [
    "### Analysis of the someOverBound parameter"
   ]
  },
  {
   "cell_type": "markdown",
   "metadata": {},
   "source": [
    "For each transition in allTr we build a dictionary that contains a list with the value of 1 - sum of the coefficients of weightAlpha over the bounded virtual orbtilas (a value for each choice of na).\n",
    "\n",
    "A value close to zero of this parameters denotes a negligible contribution of the unbounded virtual orbitals to the transition. It will be interesting to check if there is a correlation with this parameter and the depenedence of the energy of the transition to the boundary condition adopted (dimension of the box, free boundary condition vs periodic bc) "
   ]
  },
  {
   "cell_type": "code",
   "execution_count": 19,
   "metadata": {},
   "outputs": [
    {
     "name": "stdout",
     "output_type": "stream",
     "text": [
      "number of virtual orbitals with negative energy =  2\n"
     ]
    }
   ],
   "source": [
    "# we set the same number of bounded virtual orbitals obtained for free-bc\n",
    "numVirtBound = 2\n",
    "\n",
    "print 'number of virtual orbitals with negative energy = ', numVirtBound"
   ]
  },
  {
   "cell_type": "code",
   "execution_count": 20,
   "metadata": {},
   "outputs": [
    {
     "name": "stdout",
     "output_type": "stream",
     "text": [
      "[64, 128, 192, 256, 296]\n",
      "Number of distinct transisitons =  56\n",
      "Number of transisitons removed =  0\n"
     ]
    }
   ],
   "source": [
    "reload(R)\n",
    "sob = R.evalSob(numBound,excitations)\n",
    "#sob"
   ]
  },
  {
   "cell_type": "code",
   "execution_count": 21,
   "metadata": {},
   "outputs": [
    {
     "data": {
      "image/png": "[encoded data removed]",
      "text/plain": [
       "<matplotlib.figure.Figure at 0x7f9dff73dd90>"
      ]
     },
     "metadata": {},
     "output_type": "display_data"
    }
   ],
   "source": [
    "selLab = allTr[0:10] # ['3,4to1,2-0','5to1-0+5to2-0','3,4to1,2-1']\n",
    "for tr in selLab:\n",
    "    plt.plot(nalpha,sob[tr])"
   ]
  },
  {
   "cell_type": "markdown",
   "metadata": {
    "collapsed": true
   },
   "source": [
    "We further inspect sob and define a procedure that assign to each transition the value of sob (computed for na = nVirtMax) and the derivative of the sob curve (computed as the difference between the sob in the last two points, divided by the difference between the corrispective number of virtual orbitals)"
   ]
  },
  {
   "cell_type": "code",
   "execution_count": 22,
   "metadata": {
    "collapsed": true
   },
   "outputs": [],
   "source": [
    "sobStability = R.evalSobStability(sob,nalpha)\n",
    "#sobStability"
   ]
  },
  {
   "cell_type": "markdown",
   "metadata": {},
   "source": [
    "The analysis of the derivative of the sob indicates the convergence of the exctiations with respect to the number of virtual orbitals. "
   ]
  },
  {
   "cell_type": "code",
   "execution_count": 29,
   "metadata": {},
   "outputs": [
    {
     "data": {
      "text/plain": [
       "['3to8-0+4to8-0']"
      ]
     },
     "execution_count": 29,
     "metadata": {},
     "output_type": "execute_result"
    }
   ],
   "source": [
    "derThreshold = 1.0e-4\n",
    "highDerivativeTr = []\n",
    "for tr, s in sobStability.iteritems():\n",
    "    if abs(s['derivative']) > derThreshold:\n",
    "        highDerivativeTr.append(tr)\n",
    "highDerivativeTr"
   ]
  },
  {
   "cell_type": "code",
   "execution_count": 30,
   "metadata": {},
   "outputs": [
    {
     "data": {
      "text/plain": [
       "{'derivative': 0.0021288320301565827, 'value': 0.99995890855597647}"
      ]
     },
     "execution_count": 30,
     "metadata": {},
     "output_type": "execute_result"
    }
   ],
   "source": [
    "sobStability['3to8-0+4to8-0']"
   ]
  },
  {
   "cell_type": "code",
   "execution_count": 31,
   "metadata": {},
   "outputs": [
    {
     "data": {
      "image/png": "[encoded data removed]",
      "text/plain": [
       "<matplotlib.figure.Figure at 0x7f9e131f0b50>"
      ]
     },
     "metadata": {},
     "output_type": "display_data"
    }
   ],
   "source": [
    "for tr in highDerivativeTr:\n",
    "    plt.plot(nalpha,sob[tr])"
   ]
  },
  {
   "cell_type": "markdown",
   "metadata": {},
   "source": [
    "This analysis implies that only the transition '3to8-0+4to8-0' is not stable in terms of the number of virtual orbitals. The same conclusion can be obtained by looking at the (normalized) plot of the sob "
   ]
  },
  {
   "cell_type": "code",
   "execution_count": 25,
   "metadata": {},
   "outputs": [
    {
     "data": {
      "image/png": "[encoded data removed]",
      "text/plain": [
       "<matplotlib.figure.Figure at 0x7f9e13621450>"
      ]
     },
     "metadata": {},
     "output_type": "display_data"
    }
   ],
   "source": [
    "for tr in allTr:\n",
    "    val = np.array(sob[tr])/sob[tr][0]\n",
    "    plt.plot(nalpha,val)"
   ]
  },
  {
   "cell_type": "markdown",
   "metadata": {},
   "source": [
    "We analyze the transitions looking at the value of the sob. In this way we can differenziate between transitions that are mostly project on the bound state on the others. The first set should be more stable with respect to the boundary conditions chosen for the computation."
   ]
  },
  {
   "cell_type": "code",
   "execution_count": 27,
   "metadata": {},
   "outputs": [
    {
     "data": {
      "text/plain": [
       "['2to3-0',\n",
       " '3,4to1,2-5',\n",
       " '3,4to1,2-1',\n",
       " '5to1-0+5to2-0',\n",
       " '5to3-0',\n",
       " '5to3-1',\n",
       " '3,4to1,2-2',\n",
       " '3,4to1,2-0',\n",
       " '3,4to1,2-6',\n",
       " '2to1-0+2to2-0',\n",
       " '3,4to1,2-3+3,4to1,2-4']"
      ]
     },
     "execution_count": 27,
     "metadata": {},
     "output_type": "execute_result"
    }
   ],
   "source": [
    "valThreshold = 1.0e-2\n",
    "lowSobTr = []\n",
    "for tr, s in sobStability.iteritems():\n",
    "    if s['value'] < valThreshold:\n",
    "        lowSobTr.append(tr)\n",
    "lowSobTr"
   ]
  },
  {
   "cell_type": "code",
   "execution_count": null,
   "metadata": {
    "collapsed": true
   },
   "outputs": [],
   "source": []
  }
 ],
 "metadata": {
  "kernelspec": {
   "display_name": "Python 2",
   "language": "python",
   "name": "python2"
  },
  "language_info": {
   "codemirror_mode": {
    "name": "ipython",
    "version": 2
   },
   "file_extension": ".py",
   "mimetype": "text/x-python",
   "name": "python",
   "nbconvert_exporter": "python",
   "pygments_lexer": "ipython2",
   "version": "2.7.13"
  }
 },
 "nbformat": 4,
 "nbformat_minor": 2
}
