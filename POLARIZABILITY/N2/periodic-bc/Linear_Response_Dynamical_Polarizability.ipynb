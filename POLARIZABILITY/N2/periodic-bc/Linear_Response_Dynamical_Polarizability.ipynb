{
 "cells": [
  {
   "cell_type": "markdown",
   "metadata": {},
   "source": [
    "# Analysis of dynamical polarizability of $N_2$ with pbc in the linear response formalism"
   ]
  },
  {
   "cell_type": "markdown",
   "metadata": {
    "collapsed": true
   },
   "source": [
    "We analyze the computation of the dynamical polarizability inside the linear response formalism.\n",
    "\n",
    "The aim of this notebook is to:\n",
    "\n",
    "* compute the Casida matrix associated to the highest value of virtual orbitals. \n",
    "* build the matrices associated to a lower number of virtual orbitals (by extracting its elements from the highest one) and discuss the rate of convergence of the statical polarizability to the reference value (formerly computed by including an explicit electric field). \n",
    "* evaluate the dynamical polarizability spectrum and discuss its stability in function of the number of virtual orbitals considered.  "
   ]
  },
  {
   "cell_type": "code",
   "execution_count": 1,
   "metadata": {},
   "outputs": [
    {
     "data": {
      "application/javascript": [
       "IPython.notebook.set_autosave_interval(0)"
      ]
     },
     "metadata": {},
     "output_type": "display_data"
    },
    {
     "name": "stdout",
     "output_type": "stream",
     "text": [
      "Autosave disabled\n"
     ]
    }
   ],
   "source": [
    "%autosave 0\n",
    "from BigDFT import Logfiles as lf\n",
    "from BigDFT import Calculators as C\n",
    "from futile import Yaml\n",
    "import matplotlib.pyplot as plt\n",
    "import numpy as np\n",
    "import scipy.fftpack\n",
    "import sys\n",
    "sys.path.insert(0,'../../')\n",
    "import Routine as R\n",
    "outputpath = 'linear-response/'"
   ]
  },
  {
   "cell_type": "markdown",
   "metadata": {},
   "source": [
    "Set up of the main parameters"
   ]
  },
  {
   "cell_type": "code",
   "execution_count": 4,
   "metadata": {},
   "outputs": [],
   "source": [
    "rVal = [7.0]\n",
    "virtMax = [296]"
   ]
  },
  {
   "cell_type": "markdown",
   "metadata": {},
   "source": [
    "### Computation of the coupling matrix and transition dipoles"
   ]
  },
  {
   "cell_type": "code",
   "execution_count": 5,
   "metadata": {
    "collapsed": true
   },
   "outputs": [],
   "source": [
    "inp0 = {'dft' : {\n",
    "         'hgrids': 0.40,\n",
    "         'rmult': [20.0,9.0],\n",
    "         'disablesym' : 'Yes',\n",
    "         'gnrm_cv' : 1e-8,\n",
    "         'itermax' : 100,\n",
    "         'inputpsiid': 2},\n",
    "        'output': {'orbitals' : 'No', 'verbosity' : 3},\n",
    "        'tddft':{'tddft_approach': 'full'}}\n",
    "Yaml.dump(inp0,outputpath + 'default.yaml')"
   ]
  },
  {
   "cell_type": "code",
   "execution_count": 6,
   "metadata": {},
   "outputs": [],
   "source": [
    "for ind,r in enumerate(rVal):\n",
    "    inp={'dft': {'itermax_virt' : 1},\n",
    "         'posinp': 'N2_posinp_rmult'+str(r)+'-pbc.xyz',\n",
    "         'radical': 'Rmult_'+str(r)}\n",
    "\n",
    "    inp['dft']['norbv'] = -virtMax[ind]\n",
    "    inpname = 'Rmult_'+str(r)+'_numVirt_'+str(virtMax[ind])\n",
    "    Yaml.dump(inp,outputpath + inpname + '.yaml')"
   ]
  },
  {
   "cell_type": "markdown",
   "metadata": {},
   "source": [
    "We execute the input file and copy the coupling matrix and transition dipoles in the \"TDDFT-Results\" folder"
   ]
  },
  {
   "cell_type": "code",
   "execution_count": 7,
   "metadata": {},
   "outputs": [
    {
     "name": "stdout",
     "output_type": "stream",
     "text": [
      "Run computation for rmult =  7.0\n",
      "\n",
      "/media/DATA/RICERCA/LINEAR RESPONSE/LR-nb/POLARIZABILITY/N2/periodic-bc/linear-response\n",
      "Executing command:  mpirun -np 4 $BIGDFT_ROOT/bigdft -n Rmult_7.0_numVirt_296 -d ./log/ -s Yes\n",
      "/media/DATA/RICERCA/LINEAR RESPONSE/LR-nb/POLARIZABILITY/N2/periodic-bc\n"
     ]
    }
   ],
   "source": [
    "rmultInd = 0\n",
    "print 'Run computation for rmult = ', rVal[rmultInd]\n",
    "print ''\n",
    "\n",
    "code=C.SystemCalculator(omp=2,mpi=4)\n",
    "%cd $outputpath\n",
    "inpname = 'Rmult_'+str(rVal[rmultInd])+'_numVirt_'+str(virtMax[rmultInd])\n",
    "code.run(name=inpname,skip=True,outdir='./log/')\n",
    "%cd ../"
   ]
  },
  {
   "cell_type": "markdown",
   "metadata": {},
   "source": [
    "## Data analysis"
   ]
  },
  {
   "cell_type": "markdown",
   "metadata": {},
   "source": [
    "Read the dipoles and coupling matrix (for a single value of rVal specified by rmultInd)"
   ]
  },
  {
   "cell_type": "code",
   "execution_count": 27,
   "metadata": {},
   "outputs": [
    {
     "name": "stdout",
     "output_type": "stream",
     "text": [
      "Read data for rmult =  7.0\n",
      "Maximum value of virtual orbitals =  296\n",
      "\n",
      "/media/DATA/RICERCA/LINEAR RESPONSE/LR-nb/POLARIZABILITY/N2-pbc/linear-response\n",
      "/media/DATA/RICERCA/LINEAR RESPONSE/LR-nb/POLARIZABILITY/N2-pbc\n"
     ]
    }
   ],
   "source": [
    "rmultInd = 0\n",
    "print 'Read data for rmult = ', rVal[rmultInd]\n",
    "print 'Maximum value of virtual orbitals = ', virtMax[rmultInd]\n",
    "print ''\n",
    "\n",
    "%cd $outputpath\n",
    "dpath = 'log/TDDFT-Results/transition_dipoles_rmult'+str(rVal[rmultInd])+'_numVirt'+str(virtMax[rmultInd])+'.txt'\n",
    "dipoles = np.loadtxt(dpath)\n",
    "cpath = 'log/TDDFT-Results/coupling_matrix_rmult'+str(rVal[rmultInd])+'_numVirt'+str(virtMax[rmultInd])+'.txt'\n",
    "Cmat = np.loadtxt(cpath)\n",
    "%cd .."
   ]
  },
  {
   "cell_type": "markdown",
   "metadata": {},
   "source": [
    "We observe that $C$ is a symmetric matrix"
   ]
  },
  {
   "cell_type": "code",
   "execution_count": 28,
   "metadata": {},
   "outputs": [
    {
     "data": {
      "text/plain": [
       "True"
      ]
     },
     "execution_count": 28,
     "metadata": {},
     "output_type": "execute_result"
    }
   ],
   "source": [
    "np.allclose(Cmat,Cmat.T,atol=1.e-12)"
   ]
  },
  {
   "cell_type": "code",
   "execution_count": 30,
   "metadata": {},
   "outputs": [
    {
     "data": {
      "text/plain": [
       "[32, 64, 96, 128, 160, 192, 224, 256, 296]"
      ]
     },
     "execution_count": 30,
     "metadata": {},
     "output_type": "execute_result"
    }
   ],
   "source": [
    "numOrb = 5\n",
    "nalpha = [32,64,96,128,160,192,224,256,virtMax[rmultInd]]\n",
    "nalpha"
   ]
  },
  {
   "cell_type": "code",
   "execution_count": 31,
   "metadata": {},
   "outputs": [
    {
     "name": "stdout",
     "output_type": "stream",
     "text": [
      "(320, 320)\n",
      "(640, 640)\n",
      "(960, 960)\n",
      "(1280, 1280)\n",
      "(1600, 1600)\n",
      "(1920, 1920)\n",
      "(2240, 2240)\n",
      "(2560, 2560)\n",
      "(2960, 2960)\n"
     ]
    }
   ],
   "source": [
    "reload(R)\n",
    "eigenproblems = R.solveEigenProblems(numOrb,virtMax[rmultInd],Cmat,dipoles,nalpha)"
   ]
  },
  {
   "cell_type": "code",
   "execution_count": 32,
   "metadata": {},
   "outputs": [
    {
     "data": {
      "text/plain": [
       "[32, 64, 296, 96, 128, 160, 192, 224, 256]"
      ]
     },
     "execution_count": 32,
     "metadata": {},
     "output_type": "execute_result"
    }
   ],
   "source": [
    "eigenproblems.keys()"
   ]
  },
  {
   "cell_type": "markdown",
   "metadata": {},
   "source": [
    "### Analysis of the statical polarizability"
   ]
  },
  {
   "cell_type": "markdown",
   "metadata": {},
   "source": [
    "We discuss the convergence of the static polarizability to its reference value obtained with the explicit electric field."
   ]
  },
  {
   "cell_type": "code",
   "execution_count": 33,
   "metadata": {},
   "outputs": [
    {
     "data": {
      "text/plain": [
       "[10.763747732167165, 10.764275151963231, 15.218276224131749]"
      ]
     },
     "execution_count": 33,
     "metadata": {},
     "output_type": "execute_result"
    }
   ],
   "source": [
    "reload(R)\n",
    "statPol = R.evalStatPol(eigenproblems)\n",
    "statPol[virtMax[rmultInd]]"
   ]
  },
  {
   "cell_type": "code",
   "execution_count": 34,
   "metadata": {
    "collapsed": true
   },
   "outputs": [],
   "source": [
    "statPol_ref = [10.87,10.87,15.736]"
   ]
  },
  {
   "cell_type": "code",
   "execution_count": 35,
   "metadata": {},
   "outputs": [
    {
     "data": {
      "image/png": "[encoded data removed]",
      "text/plain": [
       "<matplotlib.figure.Figure at 0x7f525b76dcd0>"
      ]
     },
     "metadata": {},
     "output_type": "display_data"
    }
   ],
   "source": [
    "for x in range(3):\n",
    "    val = []\n",
    "    for na in nalpha:\n",
    "        val.append(statPol[na][x])\n",
    "    val = np.array(val)/statPol_ref[x]\n",
    "    plt.plot(nalpha,val,label='alpha_'+str(x))\n",
    "plt.axhline(y=1.0, color='r', linestyle='--')\n",
    "plt.legend()\n",
    "plt.show()"
   ]
  },
  {
   "cell_type": "markdown",
   "metadata": {},
   "source": [
    "### Dynamical polarizability in the adiabatic case"
   ]
  },
  {
   "cell_type": "code",
   "execution_count": 36,
   "metadata": {},
   "outputs": [
    {
     "name": "stdout",
     "output_type": "stream",
     "text": [
      "for na =  192  numpoint =  337  omegaMax =  1.68931999445\n",
      "for na =  256  numpoint =  367  omegaMax =  1.8393166793\n",
      "for na =  296  numpoint =  384  omegaMax =  1.92338258159\n"
     ]
    },
    {
     "data": {
      "image/png": "[encoded data removed]",
      "text/plain": [
       "<matplotlib.figure.Figure at 0x7f52640f00d0>"
      ]
     },
     "metadata": {},
     "output_type": "display_data"
    }
   ],
   "source": [
    "reload(R)\n",
    "nalphaPlot = [192,256,virtMax[rmultInd]]\n",
    "spectrum = R.evalSpectrum(eigenproblems,nalphaPlot)\n",
    "for na in nalphaPlot:\n",
    "    plt.plot(spectrum[na]['omega'],spectrum[na]['imagPart'],label='numVirt'+str(na))\n",
    "plt.legend()\n",
    "plt.show()"
   ]
  },
  {
   "cell_type": "markdown",
   "metadata": {
    "collapsed": true
   },
   "source": [
    "We write the spectrum dictionary on file"
   ]
  },
  {
   "cell_type": "code",
   "execution_count": 39,
   "metadata": {},
   "outputs": [
    {
     "name": "stdout",
     "output_type": "stream",
     "text": [
      "Write spectrum data for rmult =  7.0\n"
     ]
    }
   ],
   "source": [
    "print 'Write spectrum data for rmult = ', rVal[rmultInd]\n",
    "spToFile = {}\n",
    "for na, s in spectrum.iteritems():\n",
    "    spToFile[na] = {'omega': spectrum[na]['omega'].tolist(), 'realPart':spectrum[na]['realPart'].tolist(), 'imagPart':spectrum[na]['imagPart'].tolist()}\n",
    "filename = outputpath+'log/spectrum_rmult_'+str(rVal[rmultInd])+'.yaml '\n",
    "Yaml.dump(spToFile,filename)"
   ]
  },
  {
   "cell_type": "code",
   "execution_count": null,
   "metadata": {
    "collapsed": true
   },
   "outputs": [],
   "source": []
  }
 ],
 "metadata": {
  "kernelspec": {
   "display_name": "Python 2",
   "language": "python",
   "name": "python2"
  },
  "language_info": {
   "codemirror_mode": {
    "name": "ipython",
    "version": 2
   },
   "file_extension": ".py",
   "mimetype": "text/x-python",
   "name": "python",
   "nbconvert_exporter": "python",
   "pygments_lexer": "ipython2",
   "version": "2.7.13"
  }
 },
 "nbformat": 4,
 "nbformat_minor": 2
}
