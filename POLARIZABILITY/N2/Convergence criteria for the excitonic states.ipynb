{
 "cells": [
  {
   "cell_type": "markdown",
   "metadata": {},
   "source": [
    "# Convergence criteria for the excitonic states"
   ]
  },
  {
   "cell_type": "code",
   "execution_count": 1,
   "metadata": {},
   "outputs": [
    {
     "data": {
      "application/javascript": [
       "IPython.notebook.set_autosave_interval(0)"
      ]
     },
     "metadata": {},
     "output_type": "display_data"
    },
    {
     "name": "stdout",
     "output_type": "stream",
     "text": [
      "Autosave disabled\n"
     ]
    }
   ],
   "source": [
    "%autosave 0\n",
    "from BigDFT import Logfiles as lf\n",
    "from BigDFT import Calculators as C\n",
    "from futile import Yaml\n",
    "import matplotlib.pyplot as plt\n",
    "import numpy as np\n",
    "import scipy.fftpack\n",
    "import sys\n",
    "sys.path.insert(0,'../')\n",
    "import Routine as R\n",
    "outputpath = 'linear-response/'"
   ]
  },
  {
   "cell_type": "markdown",
   "metadata": {},
   "source": [
    "The aim of this notebook is to define the tools for perfoming a (semi)-automatic analysis of the excitations of the system. We want to define a procedure that is able to state if a given excitation can be considered as \"well-sampled\" or not (using the given values of number of virtual states and dimension of the simulation box)"
   ]
  },
  {
   "cell_type": "markdown",
   "metadata": {},
   "source": [
    "We read the results for the excitations and for the log of DFT and organize them in a dictionary according to rmult"
   ]
  },
  {
   "cell_type": "code",
   "execution_count": 2,
   "metadata": {},
   "outputs": [
    {
     "name": "stdout",
     "output_type": "stream",
     "text": [
      "/media/DATA/RICERCA/LINEAR RESPONSE/LR-nb/POLARIZABILITY/N2/linear-response\n",
      "/media/DATA/RICERCA/LINEAR RESPONSE/LR-nb/POLARIZABILITY/N2\n"
     ]
    }
   ],
   "source": [
    "numOrb = 5\n",
    "rmult = [7.0, 9.0]\n",
    "nVirtMax = [303, 279]\n",
    "excitations = {}\n",
    "Data = {}\n",
    "\n",
    "%cd $outputpath\n",
    "for ind, r in enumerate(rmult):\n",
    "    filename = 'log/excitations_rmult'+str(r)+'.yaml '\n",
    "    excitations[r] = Yaml.load(filename)\n",
    "    logpath = 'log/log-NumVirt_'+str(nVirtMax[ind])+'.yaml'\n",
    "    log = !ls $logpath\n",
    "    Data[r] = lf.Logfile(log[0])\n",
    "%cd .."
   ]
  },
  {
   "cell_type": "code",
   "execution_count": 3,
   "metadata": {
    "collapsed": true
   },
   "outputs": [],
   "source": [
    "#excitations[7][32]['transitions']"
   ]
  },
  {
   "cell_type": "markdown",
   "metadata": {},
   "source": [
    "We display the list of the labels of all the transitions considered in exc, using the appropriate method. The list of the transition is sorted in order of increasing energy."
   ]
  },
  {
   "cell_type": "code",
   "execution_count": 4,
   "metadata": {},
   "outputs": [
    {
     "name": "stdout",
     "output_type": "stream",
     "text": [
      "['3,4to1,2-0', '5to1-0+5to2-0', '3,4to1,2-1', '3,4to1,2-2', '5to1-1+5to2-1', '3,4to1,2-3+3,4to1,2-4', '3,4to1,2-5', '3,4to1,2-6', '2to1,2-1+2to1,2-0', '5to3-0', '5to3-1', '5to4-0', '5to4-1', '5to6-0+5to5-0', '5to6-1+5to5-1', '3to3-0+4to3-0', '3to3-1+4to3-1', '2to1-0+2to2-0', '2to1-1+2to2-1', '2to2-1', '2to1-1', '3,4to5,6-0', '5to7-0', '5to7-1', '3,4to5,6-1']\n"
     ]
    }
   ],
   "source": [
    "reload(R)\n",
    "allTr = R.allTransitions(excitations[7.0])\n",
    "print allTr[0:]"
   ]
  },
  {
   "cell_type": "markdown",
   "metadata": {},
   "source": [
    "## Stability of the energy of the excitonic states"
   ]
  },
  {
   "cell_type": "markdown",
   "metadata": {},
   "source": [
    "As a first criterium for study of the reliability of an excitation we analyze the stability of its energy. We consider an excitation as well-sampled if two condition are satisfied:\n",
    "* the variation of its energy as the number of virtual states is increased is below a given threshold\n",
    "* the values of the energy of the excitation obtained for two different box are equal with a given tolerance "
   ]
  },
  {
   "cell_type": "code",
   "execution_count": 5,
   "metadata": {},
   "outputs": [
    {
     "name": "stdout",
     "output_type": "stream",
     "text": [
      "['5to1-0+5to2-0']\n"
     ]
    }
   ],
   "source": [
    "selLab = allTr[1:2]\n",
    "print selLab"
   ]
  },
  {
   "cell_type": "code",
   "execution_count": 6,
   "metadata": {},
   "outputs": [
    {
     "data": {
      "image/png": "[encoded data removed]",
      "text/plain": [
       "<matplotlib.figure.Figure at 0x7f8b1106d750>"
      ]
     },
     "metadata": {},
     "output_type": "display_data"
    }
   ],
   "source": [
    "%matplotlib inline\n",
    "r = 7\n",
    "R.pltTrLabel(selLab,excitations[r],Data[r],numOrb,True)"
   ]
  },
  {
   "cell_type": "markdown",
   "metadata": {
    "collapsed": true
   },
   "source": [
    "### Analysis of the dipendence of the energy to the number of virtual orbitals"
   ]
  },
  {
   "cell_type": "code",
   "execution_count": null,
   "metadata": {
    "collapsed": true
   },
   "outputs": [],
   "source": []
  },
  {
   "cell_type": "code",
   "execution_count": null,
   "metadata": {
    "collapsed": true
   },
   "outputs": [],
   "source": []
  },
  {
   "cell_type": "markdown",
   "metadata": {
    "collapsed": true
   },
   "source": [
    "### Analysis of the dipendence of the energy with respect to the box size"
   ]
  },
  {
   "cell_type": "code",
   "execution_count": 31,
   "metadata": {},
   "outputs": [
    {
     "name": "stdout",
     "output_type": "stream",
     "text": [
      "Delta HOMO-LUMO 0.00111483372394\n",
      "Delta highest bound 0.00136220664727\n"
     ]
    }
   ],
   "source": [
    "# box dipendence homo-lumo gap\n",
    "v = []\n",
    "for d in Data.values():\n",
    "    v.append(27.211*(d.evals[0][0][numOrb]-d.evals[0][0][numOrb-1]))\n",
    "print 'Delta HOMO-LUMO', abs(v[0]-v[1])\n",
    "# energy highest bound virtual state (state number seven)\n",
    "v = []\n",
    "for d in Data.values():\n",
    "    v.append(27.211*d.evals[0][0][6])\n",
    "print 'Delta highest bound', abs(v[0]-v[1])"
   ]
  },
  {
   "cell_type": "code",
   "execution_count": 32,
   "metadata": {},
   "outputs": [
    {
     "data": {
      "text/plain": [
       "['3,4to1,2-0']"
      ]
     },
     "execution_count": 32,
     "metadata": {},
     "output_type": "execute_result"
    }
   ],
   "source": [
    "selLab = allTr[0:1]\n",
    "selLab"
   ]
  },
  {
   "cell_type": "code",
   "execution_count": 41,
   "metadata": {},
   "outputs": [
    {
     "name": "stdout",
     "output_type": "stream",
     "text": [
      "7.34587283931\n",
      "7.33810840211\n"
     ]
    }
   ],
   "source": [
    "for s in selLab:\n",
    "    print excitations[7][128]['transitions'][s]['eng']\n",
    "    print excitations[9][279]['transitions'][s]['eng']\n",
    "    "
   ]
  },
  {
   "cell_type": "markdown",
   "metadata": {},
   "source": [
    "Cosi non ha molto senso, è un confronto fatto con un numero di orbitali vuoti diverso e una energia massima molto diversa (anche a causa del collasso del continuo), credo vada fatto scegliendo il numero di orbitali vuoti del caso r=7 in modo che la emax coincida per le 2 box...."
   ]
  },
  {
   "cell_type": "code",
   "execution_count": null,
   "metadata": {
    "collapsed": true
   },
   "outputs": [],
   "source": []
  },
  {
   "cell_type": "code",
   "execution_count": null,
   "metadata": {
    "collapsed": true
   },
   "outputs": [],
   "source": []
  }
 ],
 "metadata": {
  "kernelspec": {
   "display_name": "Python 2",
   "language": "python",
   "name": "python2"
  },
  "language_info": {
   "codemirror_mode": {
    "name": "ipython",
    "version": 2
   },
   "file_extension": ".py",
   "mimetype": "text/x-python",
   "name": "python",
   "nbconvert_exporter": "python",
   "pygments_lexer": "ipython2",
   "version": "2.7.13"
  }
 },
 "nbformat": 4,
 "nbformat_minor": 2
}
