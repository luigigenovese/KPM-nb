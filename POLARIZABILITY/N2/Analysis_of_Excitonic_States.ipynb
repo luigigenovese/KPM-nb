{
 "cells": [
  {
   "cell_type": "markdown",
   "metadata": {},
   "source": [
    "# Analysis of excitonic states"
   ]
  },
  {
   "cell_type": "markdown",
   "metadata": {
    "collapsed": true
   },
   "source": []
  },
  {
   "cell_type": "code",
   "execution_count": 1,
   "metadata": {},
   "outputs": [
    {
     "data": {
      "application/javascript": [
       "IPython.notebook.set_autosave_interval(0)"
      ]
     },
     "metadata": {},
     "output_type": "display_data"
    },
    {
     "name": "stdout",
     "output_type": "stream",
     "text": [
      "Autosave disabled\n"
     ]
    }
   ],
   "source": [
    "%autosave 0\n",
    "from BigDFT import Logfiles as lf\n",
    "from BigDFT import Calculators as C\n",
    "from futile import Yaml\n",
    "import matplotlib.pyplot as plt\n",
    "import numpy as np\n",
    "import scipy.fftpack\n",
    "import sys\n",
    "sys.path.insert(0,'../')\n",
    "import Routine as R\n",
    "outputpath = 'linear-response/'"
   ]
  },
  {
   "cell_type": "markdown",
   "metadata": {},
   "source": [
    "We read the coupling matrix and dipoles (with the highest given number of virtual orbitals)"
   ]
  },
  {
   "cell_type": "code",
   "execution_count": 2,
   "metadata": {},
   "outputs": [
    {
     "name": "stdout",
     "output_type": "stream",
     "text": [
      "/media/DATA/RICERCA/LINEAR RESPONSE/LR-nb/POLARIZABILITY/N2/linear-response\n",
      "/media/DATA/RICERCA/LINEAR RESPONSE/LR-nb/POLARIZABILITY/N2\n"
     ]
    },
    {
     "data": {
      "text/plain": [
       "(3030, 3030)"
      ]
     },
     "execution_count": 2,
     "metadata": {},
     "output_type": "execute_result"
    }
   ],
   "source": [
    "nVirtMax = 303\n",
    "%cd $outputpath\n",
    "dpath = 'log/TDDFT-Results/transition_dipoles_'+str(nVirtMax)+'.txt'\n",
    "dipoles = np.loadtxt(dpath)\n",
    "cpath = 'log/TDDFT-Results/coupling_matrix_'+str(nVirtMax)+'.txt'\n",
    "Cmat = np.loadtxt(cpath)\n",
    "%cd ..\n",
    "Cmat.shape"
   ]
  },
  {
   "cell_type": "markdown",
   "metadata": {},
   "source": [
    "We set the number of empty and virtual states and build the C submatrix with the chosen values of nalpha"
   ]
  },
  {
   "cell_type": "code",
   "execution_count": 3,
   "metadata": {
    "collapsed": true
   },
   "outputs": [],
   "source": [
    "numOrb = 5\n",
    "nalpha = [32,64,128,nVirtMax]"
   ]
  },
  {
   "cell_type": "markdown",
   "metadata": {},
   "source": [
    "We compute the eigenvalues and vectors of C_ext (linalg.eigh gives the eigenvectors in the transpose form so we peform an explicit transpose to the vectors sorted as row vectors)"
   ]
  },
  {
   "cell_type": "code",
   "execution_count": 4,
   "metadata": {},
   "outputs": [
    {
     "name": "stdout",
     "output_type": "stream",
     "text": [
      "(320, 320)\n",
      "(640, 640)\n",
      "(1280, 1280)\n",
      "(3030, 3030)\n"
     ]
    }
   ],
   "source": [
    "eigenproblems = {}\n",
    "for na in nalpha:\n",
    "    C_ext,dipoles_ext=R.extract_subset([numOrb],[nVirtMax],Cmat,dipoles,[na])\n",
    "    print C_ext.shape\n",
    "    E2,C_E2 = np.linalg.eigh(C_ext)\n",
    "    C_E2 = C_E2.T\n",
    "    eigenproblems[na] = (C_ext,E2,C_E2)"
   ]
  },
  {
   "cell_type": "code",
   "execution_count": 5,
   "metadata": {},
   "outputs": [
    {
     "name": "stdout",
     "output_type": "stream",
     "text": [
      "Validation terminated\n"
     ]
    }
   ],
   "source": [
    "for na in nalpha:\n",
    "    C_ext = eigenproblems[na][0]\n",
    "    E2 = eigenproblems[na][1]\n",
    "    C_E2 = eigenproblems[na][2]\n",
    "    for ind,e in enumerate(E2):\n",
    "        isok = np.allclose(C_ext.dot(C_E2[ind]),e*C_E2[ind],atol=1.e-12)\n",
    "        if not isok: print('Eigenvalue',ind,'is false')\n",
    "print('Validation terminated')"
   ]
  },
  {
   "cell_type": "markdown",
   "metadata": {},
   "source": [
    "We choose a set of excitations and compute the contribution of the virtual states in the corresponding eigenstates of C_ext"
   ]
  },
  {
   "cell_type": "code",
   "execution_count": 78,
   "metadata": {
    "collapsed": true
   },
   "outputs": [],
   "source": [
    "exc = [0,1,2,3] # [i for i in range(20)] # select the list of excitation index"
   ]
  },
  {
   "cell_type": "code",
   "execution_count": 79,
   "metadata": {
    "scrolled": false
   },
   "outputs": [
    {
     "name": "stdout",
     "output_type": "stream",
     "text": [
      "nalpha =  32\n",
      "\n",
      "Excitation number : 1  energy =  7.36721935915\n",
      "  ******* occupied state contribution ********\n",
      "  occupied state : 5  weight =  0.99974275101\n",
      "  1 - sumOverThreshold p =  2.572e-04\n",
      "  ******* virtual state contribution *********\n",
      "  virtual state  : 2  weight =  0.999495503353\n",
      "  1 - sumOverThreshold alpha =  5.045e-04\n",
      "\n",
      "Excitation number : 2  energy =  7.36722034469\n",
      "  ******* occupied state contribution ********\n",
      "  occupied state : 5  weight =  0.999744978956\n",
      "  1 - sumOverThreshold p =  2.550e-04\n",
      "  ******* virtual state contribution *********\n",
      "  virtual state  : 1  weight =  0.999496672574\n",
      "  1 - sumOverThreshold alpha =  5.033e-04\n",
      "\n",
      "Excitation number : 3  energy =  7.44747757742\n",
      "  ******* occupied state contribution ********\n",
      "  occupied state : 3  weight =  0.499112669575\n",
      "  occupied state : 4  weight =  0.499129695311\n",
      "  1 - sumOverThreshold p =  1.758e-03\n",
      "  ******* virtual state contribution *********\n",
      "  virtual state  : 1  weight =  0.497387563155\n",
      "  virtual state  : 2  weight =  0.497405839325\n",
      "  1 - sumOverThreshold alpha =  5.207e-03\n",
      "\n",
      "Excitation number : 4  energy =  8.46650849654\n",
      "  ******* occupied state contribution ********\n",
      "  occupied state : 3  weight =  0.499895666427\n",
      "  occupied state : 4  weight =  0.499897115947\n",
      "  1 - sumOverThreshold p =  2.072e-04\n",
      "  ******* virtual state contribution *********\n",
      "  virtual state  : 1  weight =  0.499403106174\n",
      "  virtual state  : 2  weight =  0.499401427888\n",
      "  1 - sumOverThreshold alpha =  1.195e-03\n",
      "\n",
      "nalpha =  64\n",
      "\n",
      "Excitation number : 1  energy =  7.3628480509\n",
      "  ******* occupied state contribution ********\n",
      "  occupied state : 5  weight =  0.99965926888\n",
      "  1 - sumOverThreshold p =  3.407e-04\n",
      "  ******* virtual state contribution *********\n",
      "  virtual state  : 1  weight =  0.999353603709\n",
      "  1 - sumOverThreshold alpha =  6.464e-04\n",
      "\n",
      "Excitation number : 2  energy =  7.36285157522\n",
      "  ******* occupied state contribution ********\n",
      "  occupied state : 5  weight =  0.999658776783\n",
      "  1 - sumOverThreshold p =  3.412e-04\n",
      "  ******* virtual state contribution *********\n",
      "  virtual state  : 2  weight =  0.999353408363\n",
      "  1 - sumOverThreshold alpha =  6.466e-04\n",
      "\n",
      "Excitation number : 3  energy =  7.40469995485\n",
      "  ******* occupied state contribution ********\n",
      "  occupied state : 3  weight =  0.499023231413\n",
      "  occupied state : 4  weight =  0.499019189598\n",
      "  1 - sumOverThreshold p =  1.958e-03\n",
      "  ******* virtual state contribution *********\n",
      "  virtual state  : 1  weight =  0.496523883202\n",
      "  virtual state  : 2  weight =  0.496520642457\n",
      "  1 - sumOverThreshold alpha =  6.955e-03\n",
      "\n",
      "Excitation number : 4  energy =  8.45761121963\n",
      "  ******* occupied state contribution ********\n",
      "  occupied state : 3  weight =  0.499876147002\n",
      "  occupied state : 4  weight =  0.499877873393\n",
      "  1 - sumOverThreshold p =  2.460e-04\n",
      "  ******* virtual state contribution *********\n",
      "  virtual state  : 1  weight =  0.49920402698\n",
      "  virtual state  : 2  weight =  0.499202377212\n",
      "  1 - sumOverThreshold alpha =  1.594e-03\n",
      "\n",
      "nalpha =  128\n",
      "\n",
      "Excitation number : 1  energy =  7.34587283931\n",
      "  ******* occupied state contribution ********\n",
      "  occupied state : 3  weight =  0.498665597369\n",
      "  occupied state : 4  weight =  0.498663588088\n",
      "  1 - sumOverThreshold p =  2.671e-03\n",
      "  ******* virtual state contribution *********\n",
      "  virtual state  : 1  weight =  0.49579786782\n",
      "  virtual state  : 2  weight =  0.495876199052\n",
      "  1 - sumOverThreshold alpha =  8.326e-03\n",
      "\n",
      "Excitation number : 2  energy =  7.35463119882\n",
      "  ******* occupied state contribution ********\n",
      "  occupied state : 5  weight =  0.999540781285\n",
      "  1 - sumOverThreshold p =  4.592e-04\n",
      "  ******* virtual state contribution *********\n",
      "  virtual state  : 1  weight =  0.999217859959\n",
      "  1 - sumOverThreshold alpha =  7.821e-04\n",
      "\n",
      "Excitation number : 3  energy =  7.35463793929\n",
      "  ******* occupied state contribution ********\n",
      "  occupied state : 5  weight =  0.999460696126\n",
      "  1 - sumOverThreshold p =  5.393e-04\n",
      "  ******* virtual state contribution *********\n",
      "  virtual state  : 2  weight =  0.999177593963\n",
      "  1 - sumOverThreshold alpha =  8.224e-04\n",
      "\n",
      "Excitation number : 4  energy =  8.4466774764\n",
      "  ******* occupied state contribution ********\n",
      "  occupied state : 3  weight =  0.499814361301\n",
      "  occupied state : 4  weight =  0.499816042263\n",
      "  1 - sumOverThreshold p =  3.696e-04\n",
      "  ******* virtual state contribution *********\n",
      "  virtual state  : 1  weight =  0.49908519238\n",
      "  virtual state  : 2  weight =  0.499083566031\n",
      "  1 - sumOverThreshold alpha =  1.831e-03\n",
      "\n",
      "nalpha =  303\n",
      "\n",
      "Excitation number : 1  energy =  7.30809173305\n",
      "  ******* occupied state contribution ********\n",
      "  occupied state : 3  weight =  0.498515591291\n",
      "  occupied state : 4  weight =  0.498518966476\n",
      "  1 - sumOverThreshold p =  2.965e-03\n",
      "  ******* virtual state contribution *********\n",
      "  virtual state  : 1  weight =  0.495473966778\n",
      "  virtual state  : 2  weight =  0.495485240895\n",
      "  1 - sumOverThreshold alpha =  9.041e-03\n",
      "\n",
      "Excitation number : 2  energy =  7.34378290214\n",
      "  ******* occupied state contribution ********\n",
      "  occupied state : 5  weight =  0.999450975096\n",
      "  1 - sumOverThreshold p =  5.490e-04\n",
      "  ******* virtual state contribution *********\n",
      "  virtual state  : 1  weight =  0.997945825866\n",
      "  1 - sumOverThreshold alpha =  2.054e-03\n",
      "\n",
      "Excitation number : 3  energy =  7.3437862526\n",
      "  ******* occupied state contribution ********\n",
      "  occupied state : 5  weight =  0.999443205895\n",
      "  1 - sumOverThreshold p =  5.568e-04\n",
      "  ******* virtual state contribution *********\n",
      "  virtual state  : 2  weight =  0.997941930992\n",
      "  1 - sumOverThreshold alpha =  2.058e-03\n",
      "\n",
      "Excitation number : 4  energy =  8.43623824312\n",
      "  ******* occupied state contribution ********\n",
      "  occupied state : 3  weight =  0.499775805625\n",
      "  occupied state : 4  weight =  0.49977744544\n",
      "  1 - sumOverThreshold p =  4.467e-04\n",
      "  ******* virtual state contribution *********\n",
      "  virtual state  : 1  weight =  0.499019882403\n",
      "  virtual state  : 2  weight =  0.499018281491\n",
      "  1 - sumOverThreshold alpha =  1.962e-03\n",
      "\n"
     ]
    }
   ],
   "source": [
    "reload(R)\n",
    "weightP,weightAlpha = R.weight(numOrb,nalpha,exc,eigenproblems)"
   ]
  },
  {
   "cell_type": "markdown",
   "metadata": {},
   "source": [
    "We build a dictionary that collects all the excitations. These quantities contain, for each value of the number of virtual orbitals, the eigenproblems data and the transition data. This latter dictionary is parametreized in term of the\n",
    "findTransition parameter and contains the weights (p and alpha) and the index of the eigenvalue"
   ]
  },
  {
   "cell_type": "code",
   "execution_count": 80,
   "metadata": {},
   "outputs": [],
   "source": [
    "excitations = {}\n",
    "for a,na in enumerate(nalpha):\n",
    "    transitions = {}\n",
    "    for i in range(len(exc)):\n",
    "        tr = R.findTransition(weightP[a][i],weightAlpha[a][i])\n",
    "        transitions[tr] = {'weightP' : weightP[a][i], 'weightAlpha' : weightAlpha[a][i], 'ind' : i, 'eng' : 27.211*np.sqrt(eigenproblems[na][1][i]) }\n",
    "    excitations[na] = {'Cmat' : eigenproblems[na][0], 'E2': eigenproblems[na][1], 'C_E2' : eigenproblems[na][2], 'transitions' : transitions}"
   ]
  },
  {
   "cell_type": "code",
   "execution_count": 81,
   "metadata": {},
   "outputs": [],
   "source": [
    "excitations = {}\n",
    "for a,na in enumerate(nalpha):\n",
    "    transitions = {}\n",
    "    for i in range(len(exc)):\n",
    "        tr = R.findTransition(weightP[a][i],weightAlpha[a][i])\n",
    "        ind=0\n",
    "        while tr+'-'+str(ind) in transitions:\n",
    "            ind+=1\n",
    "        tr=tr + '-' + str(ind)\n",
    "        transitions[tr] = {'weightP' : weightP[a][i], 'weightAlpha' : weightAlpha[a][i], 'ind' : i, 'eng' : 27.211*np.sqrt(eigenproblems[na][1][i]) }\n",
    "    excitations[na] = {'Cmat' : eigenproblems[na][0], 'E2': eigenproblems[na][1], 'C_E2' : eigenproblems[na][2], 'transitions' : transitions}"
   ]
  },
  {
   "cell_type": "code",
   "execution_count": 82,
   "metadata": {},
   "outputs": [
    {
     "data": {
      "text/plain": [
       "{'34to12-0': {'eng': 7.3458728393126993,\n",
       "  'ind': 0,\n",
       "  'weightAlpha': array([  4.95797868e-01,   4.95876199e-01,   9.60896554e-04,\n",
       "           5.89525412e-04,   6.83512300e-08,   4.69043231e-07,\n",
       "           2.07457129e-05,   4.09113825e-11,   4.72847262e-11,\n",
       "           1.88998919e-03,   1.89106648e-03,   4.14710557e-06,\n",
       "           6.62336381e-07,   6.49610259e-07,   7.12859673e-07,\n",
       "           7.21294260e-07,   4.37962098e-10,   2.90438807e-08,\n",
       "           2.24937036e-04,   1.85832696e-04,   3.70817168e-07,\n",
       "           1.31461700e-06,   3.11321739e-05,   5.06444538e-09,\n",
       "           2.55948158e-05,   2.58348363e-05,   1.83948877e-08,\n",
       "           6.10977020e-08,   6.28817744e-08,   6.38800401e-05,\n",
       "           2.34810874e-09,   4.68910400e-09,   4.44605315e-08,\n",
       "           1.78957921e-13,   7.45611191e-04,   7.48471531e-04,\n",
       "           2.12119375e-05,   2.40054568e-07,   2.30306974e-07,\n",
       "           1.22129709e-07,   1.24425692e-07,   6.66250871e-10,\n",
       "           5.32429930e-10,   2.73727191e-06,   7.23361113e-12,\n",
       "           6.59673135e-05,   1.36257817e-07,   1.47451972e-07,\n",
       "           5.06303166e-07,   5.57125846e-07,   7.45792621e-07,\n",
       "           7.53115687e-07,   2.53589081e-10,   3.02434699e-10,\n",
       "           4.17220402e-08,   1.62413313e-07,   1.49929660e-07,\n",
       "           2.15876160e-12,   2.01456297e-12,   1.56436343e-09,\n",
       "           1.47254423e-09,   6.77276495e-08,   1.55388862e-15,\n",
       "           6.04313464e-09,   6.29413599e-09,   2.77891359e-05,\n",
       "           2.23141912e-12,   2.20803488e-04,   3.15056149e-10,\n",
       "           9.04218180e-09,   2.15409041e-08,   8.21653721e-06,\n",
       "           8.73142055e-06,   9.98382485e-06,   1.98097700e-07,\n",
       "           1.09561308e-06,   3.62867582e-08,   3.18436739e-08,\n",
       "           7.41779591e-07,   1.35505710e-12,   6.80626634e-09,\n",
       "           3.64371535e-09,   2.07570979e-08,   2.03593074e-10,\n",
       "           9.51791262e-08,   5.76018131e-10,   1.94842352e-08,\n",
       "           3.23798027e-07,   6.22825415e-05,   1.25143867e-12,\n",
       "           1.28935949e-07,   3.08349778e-10,   8.55940327e-05,\n",
       "           2.02195166e-07,   3.46169888e-12,   2.40742747e-11,\n",
       "           7.76296818e-13,   5.33919984e-09,   5.89960342e-09,\n",
       "           1.80404298e-04,   1.76892361e-04,   7.82195409e-06,\n",
       "           8.61831157e-06,   7.86931134e-07,   7.89464777e-07,\n",
       "           1.51370361e-05,   3.85574628e-07,   3.51934237e-07,\n",
       "           1.04466297e-08,   8.49216634e-11,   1.43602890e-10,\n",
       "           8.05915485e-08,   8.33515126e-08,   4.00284824e-09,\n",
       "           2.98698640e-09,   6.63643242e-09,   1.29872910e-14,\n",
       "           1.85172599e-07,   2.39869101e-07,   1.43570407e-10,\n",
       "           1.59813776e-10,   8.87213745e-08,   6.65657880e-12,\n",
       "           2.83314006e-11,   2.03707372e-12,   4.58970487e-07,\n",
       "           4.49983665e-07,   4.67068603e-09]),\n",
       "  'weightP': array([  4.15008825e-04,   1.39180707e-03,   4.98665597e-01,\n",
       "           4.98663588e-01,   8.63998651e-04])},\n",
       " '34to12-1': {'eng': 8.4466774763952088,\n",
       "  'ind': 3,\n",
       "  'weightAlpha': array([  4.99085192e-01,   4.99083566e-01,   2.63588661e-12,\n",
       "           7.68929110e-08,   2.49279620e-08,   2.17295684e-08,\n",
       "           7.07330721e-11,   7.44018378e-05,   1.15002642e-11,\n",
       "           5.07430361e-04,   5.07700809e-04,   7.79385028e-08,\n",
       "           1.64417803e-07,   1.63584822e-07,   1.61220589e-05,\n",
       "           1.67302401e-07,   1.01157165e-07,   2.28370528e-10,\n",
       "           8.04301221e-10,   4.05132082e-07,   6.37666569e-07,\n",
       "           9.26514707e-08,   5.29754464e-09,   2.47556753e-05,\n",
       "           5.83823623e-06,   5.91615781e-06,   2.42639454e-09,\n",
       "           6.09355425e-07,   5.88652616e-07,   2.22697288e-09,\n",
       "           9.78353602e-05,   6.67493802e-10,   3.65776673e-12,\n",
       "           2.98748042e-10,   1.71243204e-04,   1.72007864e-04,\n",
       "           2.56031366e-07,   5.20563249e-08,   5.16631561e-08,\n",
       "           1.79305658e-06,   2.67946764e-08,   1.16501275e-09,\n",
       "           1.23130699e-09,   1.57238622e-08,   1.10008612e-09,\n",
       "           1.88116363e-07,   3.18262999e-08,   2.98926207e-08,\n",
       "           1.17395870e-07,   1.13415529e-07,   3.67545452e-05,\n",
       "           1.32509789e-07,   2.16030321e-07,   4.33323238e-10,\n",
       "           5.23174130e-13,   3.84606799e-08,   3.87997711e-08,\n",
       "           3.48263035e-07,   6.52617314e-15,   4.83395378e-08,\n",
       "           4.87271115e-08,   3.75010526e-12,   2.73767932e-12,\n",
       "           1.99179997e-09,   1.81341899e-09,   1.04095686e-10,\n",
       "           3.07524375e-07,   3.96788722e-08,   4.23456558e-15,\n",
       "           2.76452697e-05,   2.11288220e-09,   1.51047460e-06,\n",
       "           1.45468642e-06,   6.14560232e-09,   5.84830531e-07,\n",
       "           4.59835506e-08,   2.01632591e-06,   1.92109896e-06,\n",
       "           2.69195964e-09,   1.43442335e-05,   1.03527776e-09,\n",
       "           8.55525754e-06,   2.65826404e-05,   3.28310434e-11,\n",
       "           5.34168655e-09,   2.97491886e-09,   6.52127048e-10,\n",
       "           7.00409420e-10,   7.24856533e-08,   1.21224643e-11,\n",
       "           7.29448233e-10,   6.19780175e-10,   7.95977198e-07,\n",
       "           1.71551807e-09,   8.75794205e-12,   6.02526983e-09,\n",
       "           3.53572306e-13,   1.08071537e-09,   1.27284077e-09,\n",
       "           3.84134304e-05,   3.73040594e-05,   1.67207706e-06,\n",
       "           1.78002294e-06,   1.09662176e-05,   1.37763907e-07,\n",
       "           8.74882417e-09,   7.83268425e-08,   7.48824998e-08,\n",
       "           1.50139970e-12,   7.69833372e-08,   2.28696348e-11,\n",
       "           6.75580963e-09,   7.49883283e-09,   6.09306803e-09,\n",
       "           6.09195796e-09,   1.85650166e-12,   1.88051521e-12,\n",
       "           4.91099381e-08,   3.73895902e-08,   7.96261674e-12,\n",
       "           1.71210578e-11,   4.73553286e-09,   5.97505892e-09,\n",
       "           1.57429176e-08,   2.67094671e-13,   2.79194413e-05,\n",
       "           5.42276096e-08,   1.83436335e-09]),\n",
       "  'weightP': array([  1.04493208e-05,   2.76293502e-04,   4.99814361e-01,\n",
       "           4.99816042e-01,   8.28536128e-05])},\n",
       " '5to1-0': {'eng': 7.3546311988156896,\n",
       "  'ind': 1,\n",
       "  'weightAlpha': array([  9.99217860e-01,   1.38306603e-11,   7.41797583e-09,\n",
       "           9.26117413e-05,   3.39988981e-05,   4.38822717e-09,\n",
       "           2.62975708e-08,   7.00362289e-09,   4.30658818e-11,\n",
       "           1.81108691e-08,   3.27904144e-04,   1.35381328e-07,\n",
       "           6.45795316e-12,   1.88877919e-05,   3.96592615e-06,\n",
       "           3.90697678e-06,   1.54181960e-08,   7.65226690e-13,\n",
       "           1.91831871e-08,   2.30924433e-05,   6.59596097e-06,\n",
       "           1.32487476e-09,   9.35804992e-08,   5.75661304e-08,\n",
       "           1.03174504e-08,   7.50736647e-06,   4.18416139e-09,\n",
       "           1.34245105e-08,   6.06268394e-09,   6.56810313e-08,\n",
       "           5.65062782e-10,   9.38825244e-12,   1.08423367e-10,\n",
       "           1.70341986e-14,   3.11497150e-09,   5.43853699e-05,\n",
       "           7.57673039e-07,   3.62270452e-12,   5.70518338e-06,\n",
       "           5.07378770e-07,   5.23843832e-07,   1.15387439e-11,\n",
       "           2.49896579e-08,   9.84725080e-08,   5.71801675e-12,\n",
       "           2.58476686e-06,   1.09221785e-05,   7.36975003e-13,\n",
       "           4.14902533e-05,   1.13584047e-11,   1.06577885e-05,\n",
       "           1.06596527e-05,   2.29700076e-08,   2.77647096e-11,\n",
       "           9.18379137e-11,   6.79006238e-10,   1.45821277e-07,\n",
       "           7.69523468e-10,   4.74493570e-12,   1.44822979e-10,\n",
       "           2.03149047e-09,   4.46917669e-11,   1.57934390e-14,\n",
       "           1.32189165e-10,   7.37113229e-12,   4.71036411e-08,\n",
       "           7.99949221e-11,   4.10176591e-06,   1.14952862e-11,\n",
       "           2.76086184e-08,   1.73133024e-08,   7.33033718e-06,\n",
       "           3.62913697e-09,   3.30435815e-08,   1.18258061e-07,\n",
       "           6.76635502e-10,   2.60078823e-08,   2.07130832e-08,\n",
       "           1.02209389e-07,   4.45273185e-09,   4.17095828e-11,\n",
       "           3.46276348e-08,   7.82468656e-08,   1.78723468e-08,\n",
       "           4.72331787e-09,   7.08612974e-10,   8.77938857e-10,\n",
       "           1.20948411e-08,   2.43791731e-06,   4.60797715e-14,\n",
       "           2.14960471e-08,   1.01100389e-08,   1.31446722e-05,\n",
       "           2.50690182e-08,   2.52519830e-11,   1.82462322e-09,\n",
       "           5.14095614e-11,   3.39263469e-12,   1.36688073e-08,\n",
       "           4.70465215e-06,   5.20360251e-08,   4.41910769e-05,\n",
       "           1.27766968e-10,   3.06716141e-06,   3.25682699e-06,\n",
       "           1.45302031e-06,   2.73547448e-09,   1.35600889e-09,\n",
       "           1.11475992e-09,   1.72073477e-09,   3.24226043e-10,\n",
       "           8.33291456e-11,   1.55887673e-09,   7.94827414e-11,\n",
       "           2.79677573e-07,   6.76353975e-12,   6.00318037e-15,\n",
       "           2.36389895e-05,   1.69908937e-12,   1.33799176e-09,\n",
       "           1.41723135e-12,   8.43306736e-09,   2.10002372e-10,\n",
       "           7.12584645e-10,   3.19041409e-11,   8.25315326e-06,\n",
       "           8.13559895e-06,   8.22796797e-12]),\n",
       "  'weightP': array([  7.70306307e-05,   1.88207843e-04,   1.67533541e-04,\n",
       "           2.64467014e-05,   9.99540781e-01])},\n",
       " '5to2-0': {'eng': 7.3546379392860457,\n",
       "  'ind': 2,\n",
       "  'weightAlpha': array([  3.97973252e-05,   9.99177594e-01,   4.21704336e-08,\n",
       "           9.25226544e-05,   5.26775399e-12,   3.40537207e-05,\n",
       "           2.91345659e-08,   4.27449091e-11,   7.11127519e-09,\n",
       "           3.28133389e-04,   1.65400901e-07,   1.82928617e-07,\n",
       "           1.88564271e-05,   7.15311940e-11,   3.84990370e-06,\n",
       "           3.95412553e-06,   7.04375289e-12,   1.48863171e-08,\n",
       "           4.18017005e-08,   2.30716980e-05,   8.97887355e-11,\n",
       "           6.57695661e-06,   9.97683560e-08,   4.38069318e-09,\n",
       "           7.48614837e-06,   8.04889458e-10,   5.68353649e-08,\n",
       "           6.32315725e-09,   1.26955695e-08,   1.45474890e-07,\n",
       "           2.14935011e-11,   3.21630316e-10,   3.48724234e-10,\n",
       "           3.25743594e-16,   5.43473008e-05,   1.26045332e-07,\n",
       "           8.87857418e-07,   5.70206477e-06,   5.23947562e-11,\n",
       "           4.87649548e-07,   5.34576361e-07,   2.66900305e-08,\n",
       "           1.36402554e-11,   1.01220187e-07,   6.32536592e-12,\n",
       "           2.72163720e-06,   6.93572479e-11,   1.07564593e-05,\n",
       "           2.96558586e-10,   4.15359203e-05,   1.05811474e-05,\n",
       "           1.05747686e-05,   3.21296472e-11,   2.21064927e-08,\n",
       "           2.15816188e-09,   1.47114226e-07,   1.11372772e-10,\n",
       "           1.35888231e-11,   1.01378488e-09,   2.15255315e-09,\n",
       "           1.03490451e-10,   1.61300104e-10,   3.49941657e-15,\n",
       "           2.64345509e-12,   1.37948342e-10,   5.51461979e-08,\n",
       "           1.48912489e-11,   4.19041239e-06,   1.38688221e-11,\n",
       "           1.36898420e-08,   2.35352805e-08,   2.91564452e-11,\n",
       "           7.25825086e-06,   9.84421058e-08,   1.79785538e-10,\n",
       "           6.38091211e-08,   2.20137130e-08,   2.47281259e-08,\n",
       "           1.01169645e-07,   2.04805822e-10,   4.25844536e-08,\n",
       "           7.05635525e-09,   8.95275019e-10,   1.78166744e-08,\n",
       "           1.07022106e-07,   7.04644720e-14,   1.93582090e-09,\n",
       "           1.34049266e-08,   2.69097347e-06,   2.61283326e-14,\n",
       "           3.15630794e-08,   7.20814110e-14,   1.28054207e-05,\n",
       "           2.73730556e-08,   1.50009973e-14,   1.82547313e-09,\n",
       "           5.55527154e-11,   1.32478140e-08,   3.45965251e-12,\n",
       "           1.48880682e-07,   5.58226773e-06,   1.00209100e-08,\n",
       "           4.36352040e-05,   3.01803636e-06,   3.19630808e-06,\n",
       "           1.40951252e-06,   3.77718713e-09,   8.71997757e-11,\n",
       "           2.30243649e-09,   2.07489913e-10,   3.58485659e-09,\n",
       "           2.51909046e-09,   6.16325337e-11,   2.88275738e-07,\n",
       "           8.30730532e-11,   2.91654800e-10,   1.98094642e-15,\n",
       "           1.67566297e-10,   2.36311379e-05,   6.23672527e-13,\n",
       "           1.36405240e-09,   1.27965364e-08,   2.20535268e-10,\n",
       "           6.21743524e-10,   3.23155335e-11,   8.21745451e-06,\n",
       "           7.95613767e-06,   8.38012199e-12]),\n",
       "  'weightP': array([  7.70553503e-05,   1.88232067e-04,   6.64616755e-05,\n",
       "           2.07554781e-04,   9.99460696e-01])}}"
      ]
     },
     "execution_count": 82,
     "metadata": {},
     "output_type": "execute_result"
    }
   ],
   "source": [
    "# example\n",
    "excitations[128]['transitions']"
   ]
  },
  {
   "cell_type": "markdown",
   "metadata": {},
   "source": [
    "## Data analysis"
   ]
  },
  {
   "cell_type": "markdown",
   "metadata": {},
   "source": [
    "We define some tools to analyze the properties of the first excitations. In particular, we want to be able to understand the following points:\n",
    "* unambigous characterization of the excitations and degeneracy\n",
    "* dependence of the energy of the excitation with respect to the number of virtual orbitals\n",
    "* analysis of the coefficients of the expansion of the eigenvectors and appearence of new contributions in function\n",
    "  of the number of virtual orbitals\n",
    "* properties of convergence of the sumBelowThreshold coefficients in function of the number of virtual orbitals"
   ]
  },
  {
   "cell_type": "code",
   "execution_count": 83,
   "metadata": {},
   "outputs": [
    {
     "data": {
      "text/plain": [
       "[[32, 7.367219359154765, '5to2-0'],\n",
       " [32, 7.3672203446853626, '5to1-0'],\n",
       " [32, 7.447477577424376, '34to12-0'],\n",
       " [32, 8.4665084965352566, '34to12-1'],\n",
       " [64, 7.3628515752171113, '5to2-0'],\n",
       " [64, 7.3628480509030094, '5to1-0'],\n",
       " [64, 7.4046999548546824, '34to12-0'],\n",
       " [64, 8.4576112196257931, '34to12-1'],\n",
       " [128, 7.3546379392860457, '5to2-0'],\n",
       " [128, 7.3546311988156896, '5to1-0'],\n",
       " [128, 7.3458728393126993, '34to12-0'],\n",
       " [128, 8.4466774763952088, '34to12-1'],\n",
       " [303, 7.3437862525955486, '5to2-0'],\n",
       " [303, 7.3437829021443095, '5to1-0'],\n",
       " [303, 7.3080917330483448, '34to12-0'],\n",
       " [303, 8.4362382431192238, '34to12-1']]"
      ]
     },
     "execution_count": 83,
     "metadata": {},
     "output_type": "execute_result"
    }
   ],
   "source": [
    "# val += [ v['eng'] for  v in excitations[na]['transitions'].values() ]\n",
    "val = []\n",
    "for na in nalpha:\n",
    "    for k in excitations[na]['transitions']:\n",
    "        val.append([na,excitations[na]['transitions'][k]['eng'],k])\n",
    "val    "
   ]
  },
  {
   "cell_type": "code",
   "execution_count": 84,
   "metadata": {},
   "outputs": [
    {
     "name": "stdout",
     "output_type": "stream",
     "text": [
      "Using matplotlib backend: TkAgg\n"
     ]
    }
   ],
   "source": [
    "%matplotlib auto\n",
    "for v in val:\n",
    "    plt.scatter(v[0],v[1],label=v[2])\n",
    "    plt.annotate(v[2],xy=(v[0],v[1]))\n",
    "#plt.legend(loc=(1.05,0))\n",
    "plt.show()"
   ]
  },
  {
   "cell_type": "code",
   "execution_count": null,
   "metadata": {
    "collapsed": true
   },
   "outputs": [],
   "source": []
  },
  {
   "cell_type": "code",
   "execution_count": null,
   "metadata": {
    "collapsed": true
   },
   "outputs": [],
   "source": []
  },
  {
   "cell_type": "code",
   "execution_count": null,
   "metadata": {
    "collapsed": true
   },
   "outputs": [],
   "source": []
  },
  {
   "cell_type": "markdown",
   "metadata": {},
   "source": [
    "To know which transition are included in the exc list we can compute"
   ]
  },
  {
   "cell_type": "code",
   "execution_count": 10,
   "metadata": {},
   "outputs": [
    {
     "data": {
      "text/plain": [
       "['5to2', '34to12', '5to1']"
      ]
     },
     "execution_count": 10,
     "metadata": {},
     "output_type": "execute_result"
    }
   ],
   "source": [
    "transitionVal = []\n",
    "for na in nalpha:\n",
    "    for key in excitations[na]['transitions']:\n",
    "        transitionVal.append(key)\n",
    "transitionVal = list(set(transitionVal))\n",
    "transitionVal"
   ]
  },
  {
   "cell_type": "code",
   "execution_count": 14,
   "metadata": {},
   "outputs": [
    {
     "name": "stdout",
     "output_type": "stream",
     "text": [
      "selected transition :  5to2\n"
     ]
    },
    {
     "data": {
      "image/png": "[encoded data removed]",
      "text/plain": [
       "<matplotlib.figure.Figure at 0x7fdbf05d6590>"
      ]
     },
     "metadata": {},
     "output_type": "display_data"
    }
   ],
   "source": [
    "%matplotlib inline\n",
    "tr = transitionVal[0]\n",
    "print 'selected transition : ', tr\n",
    "offset = 0.0\n",
    "for na in nalpha:\n",
    "    if tr in excitations[na]['transitions'].keys():\n",
    "        alpha = [i for i in range(1,na+1)]\n",
    "        wAlpha = R.weightCut(excitations[na]['transitions'][tr]['weightAlpha'])\n",
    "        ind = str(excitations[na]['transitions'][tr]['ind'])\n",
    "        plt.plot(alpha,offset + wAlpha,label = 'numAlpha='+str(na) + '_ind='+ind)\n",
    "        offset = max(wAlpha)\n",
    "plt.legend(loc = (1.05,0))        \n",
    "plt.show()"
   ]
  },
  {
   "cell_type": "code",
   "execution_count": null,
   "metadata": {
    "collapsed": true
   },
   "outputs": [],
   "source": []
  },
  {
   "cell_type": "code",
   "execution_count": null,
   "metadata": {
    "collapsed": true
   },
   "outputs": [],
   "source": []
  },
  {
   "cell_type": "code",
   "execution_count": null,
   "metadata": {
    "collapsed": true
   },
   "outputs": [],
   "source": []
  },
  {
   "cell_type": "code",
   "execution_count": null,
   "metadata": {
    "collapsed": true
   },
   "outputs": [],
   "source": []
  },
  {
   "cell_type": "code",
   "execution_count": null,
   "metadata": {
    "collapsed": true
   },
   "outputs": [],
   "source": []
  }
 ],
 "metadata": {
  "kernelspec": {
   "display_name": "Python 2",
   "language": "python",
   "name": "python2"
  },
  "language_info": {
   "codemirror_mode": {
    "name": "ipython",
    "version": 2
   },
   "file_extension": ".py",
   "mimetype": "text/x-python",
   "name": "python",
   "nbconvert_exporter": "python",
   "pygments_lexer": "ipython2",
   "version": "2.7.13"
  }
 },
 "nbformat": 4,
 "nbformat_minor": 2
}
