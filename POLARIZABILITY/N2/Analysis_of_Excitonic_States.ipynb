{
 "cells": [
  {
   "cell_type": "markdown",
   "metadata": {},
   "source": [
    "# Analysis of excitonic states"
   ]
  },
  {
   "cell_type": "markdown",
   "metadata": {
    "collapsed": true
   },
   "source": []
  },
  {
   "cell_type": "code",
   "execution_count": 1,
   "metadata": {},
   "outputs": [
    {
     "data": {
      "application/javascript": [
       "IPython.notebook.set_autosave_interval(0)"
      ]
     },
     "metadata": {},
     "output_type": "display_data"
    },
    {
     "name": "stdout",
     "output_type": "stream",
     "text": [
      "Autosave disabled\n"
     ]
    }
   ],
   "source": [
    "%autosave 0\n",
    "from BigDFT import Logfiles as lf\n",
    "from BigDFT import Calculators as C\n",
    "from futile import Yaml\n",
    "import matplotlib.pyplot as plt\n",
    "import numpy as np\n",
    "import scipy.fftpack\n",
    "import sys\n",
    "sys.path.insert(0,'../')\n",
    "import Routine as R\n",
    "outputpath = 'linear-response/'"
   ]
  },
  {
   "cell_type": "markdown",
   "metadata": {},
   "source": [
    "We read the coupling matrix and dipoles (with the highest given number of virtual orbitals)"
   ]
  },
  {
   "cell_type": "code",
   "execution_count": 2,
   "metadata": {},
   "outputs": [
    {
     "name": "stdout",
     "output_type": "stream",
     "text": [
      "/media/DATA/RICERCA/LINEAR RESPONSE/LR-nb/POLARIZABILITY/N2/linear-response\n",
      "/media/DATA/RICERCA/LINEAR RESPONSE/LR-nb/POLARIZABILITY/N2\n"
     ]
    },
    {
     "data": {
      "text/plain": [
       "(3030, 3030)"
      ]
     },
     "execution_count": 2,
     "metadata": {},
     "output_type": "execute_result"
    }
   ],
   "source": [
    "nVirtMax = 303\n",
    "%cd $outputpath\n",
    "dpath = 'log/TDDFT-Results/transition_dipoles_'+str(nVirtMax)+'.txt'\n",
    "dipoles = np.loadtxt(dpath)\n",
    "cpath = 'log/TDDFT-Results/coupling_matrix_'+str(nVirtMax)+'.txt'\n",
    "Cmat = np.loadtxt(cpath)\n",
    "%cd ..\n",
    "Cmat.shape"
   ]
  },
  {
   "cell_type": "markdown",
   "metadata": {},
   "source": [
    "We set the number of empty and virtual states and build the C submatrix with the chosen values of nalpha"
   ]
  },
  {
   "cell_type": "code",
   "execution_count": 3,
   "metadata": {
    "collapsed": true
   },
   "outputs": [],
   "source": [
    "numOrb = 5\n",
    "nalpha = [32,64,128,nVirtMax]"
   ]
  },
  {
   "cell_type": "markdown",
   "metadata": {},
   "source": [
    "We compute the eigenvalues and vectors of C_ext (linalg.eigh gives the eigenvectors in the transpose form so we peform an explicit transpose to the vectors sorted as row vectors)"
   ]
  },
  {
   "cell_type": "code",
   "execution_count": 4,
   "metadata": {},
   "outputs": [
    {
     "name": "stdout",
     "output_type": "stream",
     "text": [
      "(320, 320)\n",
      "(640, 640)\n",
      "(1280, 1280)\n",
      "(3030, 3030)\n"
     ]
    }
   ],
   "source": [
    "eigenproblems = {}\n",
    "for na in nalpha:\n",
    "    C_ext,dipoles_ext=R.extract_subset([numOrb],[nVirtMax],Cmat,dipoles,[na])\n",
    "    print C_ext.shape\n",
    "    E2,C_E2 = np.linalg.eigh(C_ext)\n",
    "    C_E2 = C_E2.T\n",
    "    eigenproblems[na] = (C_ext,E2,C_E2)"
   ]
  },
  {
   "cell_type": "code",
   "execution_count": 5,
   "metadata": {},
   "outputs": [
    {
     "name": "stdout",
     "output_type": "stream",
     "text": [
      "Validation terminated\n"
     ]
    }
   ],
   "source": [
    "for na in nalpha:\n",
    "    C_ext = eigenproblems[na][0]\n",
    "    E2 = eigenproblems[na][1]\n",
    "    C_E2 = eigenproblems[na][2]\n",
    "    for ind,e in enumerate(E2):\n",
    "        isok = np.allclose(C_ext.dot(C_E2[ind]),e*C_E2[ind],atol=1.e-12)\n",
    "        if not isok: print('Eigenvalue',ind,'is false')\n",
    "print('Validation terminated')"
   ]
  },
  {
   "cell_type": "markdown",
   "metadata": {},
   "source": [
    "We choose a set of excitations and compute the contribution of the virtual states in the corresponding eigenstates of C_ext"
   ]
  },
  {
   "cell_type": "code",
   "execution_count": 10,
   "metadata": {
    "collapsed": true
   },
   "outputs": [],
   "source": [
    "exc = [0,1,7] # [i for i in range(20)] # select the list of excitation index"
   ]
  },
  {
   "cell_type": "code",
   "execution_count": 11,
   "metadata": {
    "scrolled": false
   },
   "outputs": [
    {
     "name": "stdout",
     "output_type": "stream",
     "text": [
      "nalpha =  32\n",
      "\n",
      "Excitation number : 1  energy =  7.36721935915\n",
      "  ******* occupied state contribution ********\n",
      "  occupied state : 5  weight =  0.99974275101\n",
      "  1 - sumOverThreshold p =  2.572e-04\n",
      "  ******* virtual state contribution *********\n",
      "  virtual state  : 2  weight =  0.999495503353\n",
      "  1 - sumOverThreshold alpha =  5.045e-04\n",
      "\n",
      "Excitation number : 2  energy =  7.36722034469\n",
      "  ******* occupied state contribution ********\n",
      "  occupied state : 5  weight =  0.999744978956\n",
      "  1 - sumOverThreshold p =  2.550e-04\n",
      "  ******* virtual state contribution *********\n",
      "  virtual state  : 1  weight =  0.999496672574\n",
      "  1 - sumOverThreshold alpha =  5.033e-04\n",
      "\n",
      "Excitation number : 8  energy =  9.35069114923\n",
      "  ******* occupied state contribution ********\n",
      "  occupied state : 3  weight =  0.500000838245\n",
      "  occupied state : 4  weight =  0.499999161755\n",
      "  1 - sumOverThreshold p =  4.392e-13\n",
      "  ******* virtual state contribution *********\n",
      "  virtual state  : 1  weight =  0.499999161755\n",
      "  virtual state  : 2  weight =  0.500000838244\n",
      "  1 - sumOverThreshold alpha =  5.820e-13\n",
      "\n",
      "nalpha =  64\n",
      "\n",
      "Excitation number : 1  energy =  7.3628480509\n",
      "  ******* occupied state contribution ********\n",
      "  occupied state : 5  weight =  0.99965926888\n",
      "  1 - sumOverThreshold p =  3.407e-04\n",
      "  ******* virtual state contribution *********\n",
      "  virtual state  : 1  weight =  0.999353603709\n",
      "  1 - sumOverThreshold alpha =  6.464e-04\n",
      "\n",
      "Excitation number : 2  energy =  7.36285157522\n",
      "  ******* occupied state contribution ********\n",
      "  occupied state : 5  weight =  0.999658776783\n",
      "  1 - sumOverThreshold p =  3.412e-04\n",
      "  ******* virtual state contribution *********\n",
      "  virtual state  : 2  weight =  0.999353408363\n",
      "  1 - sumOverThreshold alpha =  6.466e-04\n",
      "\n",
      "Excitation number : 8  energy =  9.35069114923\n",
      "  ******* occupied state contribution ********\n",
      "  occupied state : 3  weight =  0.500000824266\n",
      "  occupied state : 4  weight =  0.499999175734\n",
      "  1 - sumOverThreshold p =  4.872e-13\n",
      "  ******* virtual state contribution *********\n",
      "  virtual state  : 1  weight =  0.499999175734\n",
      "  virtual state  : 2  weight =  0.500000824265\n",
      "  1 - sumOverThreshold alpha =  6.442e-13\n",
      "\n",
      "nalpha =  128\n",
      "\n",
      "Excitation number : 1  energy =  7.34587283931\n",
      "  ******* occupied state contribution ********\n",
      "  occupied state : 3  weight =  0.498665597369\n",
      "  occupied state : 4  weight =  0.498663588088\n",
      "  1 - sumOverThreshold p =  2.671e-03\n",
      "  ******* virtual state contribution *********\n",
      "  virtual state  : 1  weight =  0.49579786782\n",
      "  virtual state  : 2  weight =  0.495876199052\n",
      "  1 - sumOverThreshold alpha =  8.326e-03\n",
      "\n",
      "Excitation number : 2  energy =  7.35463119882\n",
      "  ******* occupied state contribution ********\n",
      "  occupied state : 5  weight =  0.999540781285\n",
      "  1 - sumOverThreshold p =  4.592e-04\n",
      "  ******* virtual state contribution *********\n",
      "  virtual state  : 1  weight =  0.999217859959\n",
      "  1 - sumOverThreshold alpha =  7.821e-04\n",
      "\n",
      "Excitation number : 8  energy =  9.35069114923\n",
      "  ******* occupied state contribution ********\n",
      "  occupied state : 3  weight =  0.500000812499\n",
      "  occupied state : 4  weight =  0.499999187501\n",
      "  1 - sumOverThreshold p =  5.360e-13\n",
      "  ******* virtual state contribution *********\n",
      "  virtual state  : 1  weight =  0.499999187501\n",
      "  virtual state  : 2  weight =  0.500000812498\n",
      "  1 - sumOverThreshold alpha =  7.880e-13\n",
      "\n",
      "nalpha =  303\n",
      "\n",
      "Excitation number : 1  energy =  7.30809173305\n",
      "  ******* occupied state contribution ********\n",
      "  occupied state : 3  weight =  0.498515591291\n",
      "  occupied state : 4  weight =  0.498518966476\n",
      "  1 - sumOverThreshold p =  2.965e-03\n",
      "  ******* virtual state contribution *********\n",
      "  virtual state  : 1  weight =  0.495473966778\n",
      "  virtual state  : 2  weight =  0.495485240895\n",
      "  1 - sumOverThreshold alpha =  9.041e-03\n",
      "\n",
      "Excitation number : 2  energy =  7.34378290214\n",
      "  ******* occupied state contribution ********\n",
      "  occupied state : 5  weight =  0.999450975096\n",
      "  1 - sumOverThreshold p =  5.490e-04\n",
      "  ******* virtual state contribution *********\n",
      "  virtual state  : 1  weight =  0.997945825866\n",
      "  1 - sumOverThreshold alpha =  2.054e-03\n",
      "\n",
      "Excitation number : 8  energy =  9.35069114923\n",
      "  ******* occupied state contribution ********\n",
      "  occupied state : 3  weight =  0.500000799746\n",
      "  occupied state : 4  weight =  0.499999200254\n",
      "  1 - sumOverThreshold p =  5.607e-13\n",
      "  ******* virtual state contribution *********\n",
      "  virtual state  : 1  weight =  0.499999200254\n",
      "  virtual state  : 2  weight =  0.500000799745\n",
      "  1 - sumOverThreshold alpha =  8.433e-13\n",
      "\n"
     ]
    }
   ],
   "source": [
    "reload(R)\n",
    "weightP,weightAlpha = R.weight(numOrb,nalpha,exc,eigenproblems)"
   ]
  },
  {
   "cell_type": "markdown",
   "metadata": {},
   "source": [
    "We build a dictionary that collects all the excitations. These quantities contain, for each value of the number of virtual orbitals, the eigenproblems data and the transition data. This latter dictionary is parametreized in term of the\n",
    "findTransition parameter and contains the weights (p and alpha) and the index of the eigenvalue"
   ]
  },
  {
   "cell_type": "code",
   "execution_count": 13,
   "metadata": {},
   "outputs": [],
   "source": [
    "excitations = {}\n",
    "for a,na in enumerate(nalpha):\n",
    "    transitions = {}\n",
    "    for i in range(len(exc)):\n",
    "        tr = R.findTransition(weightP[a][i],weightAlpha[a][i])\n",
    "        transitions[tr] = {'weightP' : weightP[a][i], 'weightAlpha' : weightAlpha[a][i], 'ind' : i}\n",
    "    excitations[na] = {'Cmat' : eigenproblems[na][0], 'E2': eigenproblems[na][1], 'C_E2' : eigenproblems[na][2], 'transitions' : transitions}"
   ]
  },
  {
   "cell_type": "code",
   "execution_count": 15,
   "metadata": {},
   "outputs": [
    {
     "data": {
      "text/plain": [
       "{'34to12': {'ind': 2,\n",
       "  'weightAlpha': array([  4.99999162e-01,   5.00000838e-01,   1.75910018e-15,\n",
       "           2.54013972e-13,   1.09030098e-13,   1.80029790e-17,\n",
       "           7.20281724e-17,   1.71758830e-17,   1.29497082e-20,\n",
       "           1.33764322e-15,   7.76762151e-14,   3.05484768e-16,\n",
       "           3.95047933e-19,   3.16823383e-16,   1.52130776e-15,\n",
       "           1.40477652e-15,   1.38004504e-17,   2.43141534e-20,\n",
       "           5.93193640e-17,   9.08705210e-14,   4.12461144e-14,\n",
       "           6.77020339e-18,   4.85505039e-16,   1.42572574e-17,\n",
       "           5.18546097e-17,   4.33104606e-16,   3.54622278e-18,\n",
       "           4.28662881e-18,   5.70966158e-19,   4.82485613e-16,\n",
       "           4.56404416e-18,   4.11532318e-18]),\n",
       "  'weightP': array([  1.15693238e-13,   2.44464253e-13,   5.00000838e-01,\n",
       "           4.99999162e-01,   7.79132740e-14])},\n",
       " '5to1': {'ind': 1,\n",
       "  'weightAlpha': array([  9.99496673e-01,   4.83722246e-10,   6.89184427e-09,\n",
       "           9.07101951e-05,   3.30195657e-05,   4.29481316e-09,\n",
       "           2.51654911e-08,   6.65474665e-09,   5.10237618e-11,\n",
       "           1.72580860e-08,   3.16889227e-04,   9.68446853e-08,\n",
       "           4.36493848e-12,   1.80337201e-05,   3.90439786e-06,\n",
       "           3.84496620e-06,   1.49069081e-08,   8.06679705e-13,\n",
       "           1.81126052e-08,   2.29113011e-05,   6.41939035e-06,\n",
       "           1.33548791e-09,   9.11058280e-08,   5.55135784e-08,\n",
       "           9.73750142e-09,   7.15773715e-06,   4.19077107e-09,\n",
       "           1.31263706e-08,   5.98492525e-09,   6.46839762e-08,\n",
       "           5.64776556e-10,   1.35924424e-11]),\n",
       "  'weightP': array([  7.59480451e-05,   5.74277247e-05,   1.17812622e-04,\n",
       "           3.83265209e-06,   9.99744979e-01])},\n",
       " '5to2': {'ind': 0,\n",
       "  'weightAlpha': array([  1.05356409e-06,   9.99495503e-01,   2.54343616e-08,\n",
       "           9.08048520e-05,   5.81056287e-14,   3.29994556e-05,\n",
       "           2.52709589e-08,   5.26040821e-11,   6.77612473e-09,\n",
       "           3.16719805e-04,   1.94559687e-09,   1.33271156e-07,\n",
       "           1.80087699e-05,   5.57549637e-15,   3.82577353e-06,\n",
       "           3.92341366e-06,   5.84631864e-12,   1.48053892e-08,\n",
       "           1.09883521e-07,   2.30997192e-05,   1.09881629e-11,\n",
       "           6.35138307e-06,   9.37092934e-08,   4.29681113e-09,\n",
       "           7.11679977e-06,   5.76834257e-10,   5.46267518e-08,\n",
       "           5.85046520e-09,   1.27816893e-08,   1.03456999e-07,\n",
       "           3.36343872e-11,   3.21811809e-10]),\n",
       "  'weightP': array([  7.59493823e-05,   5.74604645e-05,   4.89211047e-06,\n",
       "           1.18947033e-04,   9.99742751e-01])}}"
      ]
     },
     "execution_count": 15,
     "metadata": {},
     "output_type": "execute_result"
    }
   ],
   "source": [
    "# example\n",
    "excitations[32]['transitions']"
   ]
  },
  {
   "cell_type": "markdown",
   "metadata": {},
   "source": [
    "To know which transition are included in the exc list we can compute"
   ]
  },
  {
   "cell_type": "code",
   "execution_count": 27,
   "metadata": {},
   "outputs": [
    {
     "data": {
      "text/plain": [
       "['5to2', '34to12', '5to1']"
      ]
     },
     "execution_count": 27,
     "metadata": {},
     "output_type": "execute_result"
    }
   ],
   "source": [
    "transitionVal = []\n",
    "for na in nalpha:\n",
    "    for key in excitations[na]['transitions']:\n",
    "        transitionVal.append(key)\n",
    "transitionVal = list(set(transitionVal))\n",
    "transitionVal"
   ]
  },
  {
   "cell_type": "markdown",
   "metadata": {},
   "source": [
    "Remove the components above the threshold"
   ]
  },
  {
   "cell_type": "code",
   "execution_count": 31,
   "metadata": {
    "collapsed": true
   },
   "outputs": [],
   "source": [
    "def weightCut(w, threshold = 0.1):\n",
    "    wCut = np.zeros(len(w))\n",
    "    for i,ww in enumerate(w):\n",
    "        if ww < threshold:\n",
    "            wCut[i] = ww\n",
    "    return wCut"
   ]
  },
  {
   "cell_type": "code",
   "execution_count": 32,
   "metadata": {},
   "outputs": [
    {
     "data": {
      "text/plain": [
       "array([  7.59493823e-05,   5.74604645e-05,   4.89211047e-06,\n",
       "         1.18947033e-04,   0.00000000e+00])"
      ]
     },
     "execution_count": 32,
     "metadata": {},
     "output_type": "execute_result"
    }
   ],
   "source": [
    "bla = weightCut(weightP[0][0])\n",
    "bla"
   ]
  },
  {
   "cell_type": "code",
   "execution_count": 52,
   "metadata": {},
   "outputs": [
    {
     "name": "stdout",
     "output_type": "stream",
     "text": [
      "selected transition :  5to2\n"
     ]
    },
    {
     "data": {
      "image/png": "[encoded data removed]",
      "text/plain": [
       "<matplotlib.figure.Figure at 0x7faa78053390>"
      ]
     },
     "metadata": {},
     "output_type": "display_data"
    }
   ],
   "source": [
    "tr = transitionVal[0]\n",
    "print 'selected transition : ', tr\n",
    "offset = 0.0\n",
    "for na in nalpha:\n",
    "    if tr in excitations[na]['transitions'].keys():\n",
    "        alpha = [i for i in range(1,na+1)]\n",
    "        wAlpha = weightCut(excitations[na]['transitions'][tr]['weightAlpha'])\n",
    "        ind = str(excitations[na]['transitions'][tr]['ind'])\n",
    "        plt.plot(alpha,offset + wAlpha,label = 'numAlpha='+str(na) + '_ind='+ind)\n",
    "        offset = max(wAlpha)\n",
    "plt.legend()        \n",
    "plt.show()"
   ]
  },
  {
   "cell_type": "code",
   "execution_count": 55,
   "metadata": {},
   "outputs": [
    {
     "name": "stdout",
     "output_type": "stream",
     "text": [
      "selected transition :  34to12\n"
     ]
    },
    {
     "data": {
      "image/png": "[encoded data removed]",
      "text/plain": [
       "<matplotlib.figure.Figure at 0x7faa7c94d890>"
      ]
     },
     "metadata": {},
     "output_type": "display_data"
    }
   ],
   "source": [
    "tr = transitionVal[1]\n",
    "print 'selected transition : ', tr\n",
    "offset = 0.0\n",
    "for na in nalpha:\n",
    "    if tr in excitations[na]['transitions'].keys():\n",
    "        alpha = [i for i in range(1,na+1)]\n",
    "        wAlpha = weightCut(excitations[na]['transitions'][tr]['weightAlpha'])\n",
    "        ind = str(excitations[na]['transitions'][tr]['ind'])\n",
    "        plt.plot(alpha,offset + wAlpha,label = 'numAlpha='+str(na) + '_ind='+ind)\n",
    "        offset = max(wAlpha)\n",
    "plt.legend()        \n",
    "plt.show()"
   ]
  },
  {
   "cell_type": "code",
   "execution_count": 56,
   "metadata": {},
   "outputs": [
    {
     "name": "stdout",
     "output_type": "stream",
     "text": [
      "selected transition :  5to1\n"
     ]
    },
    {
     "data": {
      "image/png": "[encoded data removed]",
      "text/plain": [
       "<matplotlib.figure.Figure at 0x7faa77c36b50>"
      ]
     },
     "metadata": {},
     "output_type": "display_data"
    }
   ],
   "source": [
    "tr = transitionVal[2]\n",
    "print 'selected transition : ', tr\n",
    "offset = 0.0\n",
    "for na in nalpha:\n",
    "    if tr in excitations[na]['transitions'].keys():\n",
    "        alpha = [i for i in range(1,na+1)]\n",
    "        wAlpha = weightCut(excitations[na]['transitions'][tr]['weightAlpha'])\n",
    "        ind = str(excitations[na]['transitions'][tr]['ind'])\n",
    "        plt.plot(alpha,offset + wAlpha,label = 'numAlpha='+str(na) + '_ind='+ind)\n",
    "        offset = max(wAlpha)\n",
    "plt.legend()        \n",
    "plt.show()"
   ]
  },
  {
   "cell_type": "code",
   "execution_count": null,
   "metadata": {
    "collapsed": true
   },
   "outputs": [],
   "source": []
  },
  {
   "cell_type": "code",
   "execution_count": null,
   "metadata": {
    "collapsed": true
   },
   "outputs": [],
   "source": []
  },
  {
   "cell_type": "code",
   "execution_count": null,
   "metadata": {
    "collapsed": true
   },
   "outputs": [],
   "source": [
    "####################################################################################################"
   ]
  },
  {
   "cell_type": "markdown",
   "metadata": {},
   "source": [
    "We analyze the formation of wave packet in the virtual states with a low weight on the eigenvectors of C. We consider a single excitation and plot the contribution of the states below the threshold (for each value of the number of virtual states)"
   ]
  },
  {
   "cell_type": "code",
   "execution_count": 7,
   "metadata": {},
   "outputs": [
    {
     "name": "stdout",
     "output_type": "stream",
     "text": [
      "nalpha =  32\n",
      "Excitation number : 1  energy =  7.36721935915\n",
      "  ******* occupied state contribution ********\n",
      "  occupied state : 5  weight =  0.99974275101\n",
      "  1 - sumOverThreshold p =  2.572e-04\n",
      "  ******* virtual state contribution *********\n",
      "  virtual state  : 2  weight =  0.999495503353\n",
      "  1 - sumOverThreshold alpha =  5.045e-04\n",
      "\n",
      "nalpha =  64\n",
      "Excitation number : 1  energy =  7.3628480509\n",
      "  ******* occupied state contribution ********\n",
      "  occupied state : 5  weight =  0.99965926888\n",
      "  1 - sumOverThreshold p =  3.407e-04\n",
      "  ******* virtual state contribution *********\n",
      "  virtual state  : 1  weight =  0.999353603709\n",
      "  1 - sumOverThreshold alpha =  6.464e-04\n",
      "\n",
      "nalpha =  128\n",
      "Excitation number : 1  energy =  7.34587283931\n",
      "  ******* occupied state contribution ********\n",
      "  occupied state : 3  weight =  0.498665597369\n",
      "  occupied state : 4  weight =  0.498663588088\n",
      "  1 - sumOverThreshold p =  2.671e-03\n",
      "  ******* virtual state contribution *********\n",
      "  virtual state  : 1  weight =  0.49579786782\n",
      "  virtual state  : 2  weight =  0.495876199052\n",
      "  1 - sumOverThreshold alpha =  8.326e-03\n",
      "\n",
      "nalpha =  303\n",
      "Excitation number : 1  energy =  7.30809173305\n",
      "  ******* occupied state contribution ********\n",
      "  occupied state : 3  weight =  0.498515591291\n",
      "  occupied state : 4  weight =  0.498518966476\n",
      "  1 - sumOverThreshold p =  2.965e-03\n",
      "  ******* virtual state contribution *********\n",
      "  virtual state  : 1  weight =  0.495473966778\n",
      "  virtual state  : 2  weight =  0.495485240895\n",
      "  1 - sumOverThreshold alpha =  9.041e-03\n",
      "\n"
     ]
    },
    {
     "data": {
      "image/png": "[encoded data removed]",
      "text/plain": [
       "<matplotlib.figure.Figure at 0x7ff5b9ac9f90>"
      ]
     },
     "metadata": {},
     "output_type": "display_data"
    },
    {
     "data": {
      "image/png": "[encoded data removed]",
      "text/plain": [
       "<matplotlib.figure.Figure at 0x7ff5b53e5bd0>"
      ]
     },
     "metadata": {},
     "output_type": "display_data"
    }
   ],
   "source": [
    "exc = [0] #select the excitation index\n",
    "weightP = []\n",
    "weightAlpha = []\n",
    "for inda in range(len(nalpha)):\n",
    "    print 'nalpha = ', nalpha[inda]\n",
    "    wP,wAlpha = R.weight(numOrb,nalpha[inda],exc,eigenproblems[nalpha[inda]][2],eigenproblems[nalpha[inda]][1])\n",
    "    weightP.append(wP[0])\n",
    "    weightAlpha.append(wAlpha[0])\n",
    "    \n",
    "# remove the component above the treshold\n",
    "weightAlphaCut = weightAlpha\n",
    "for a in range(len(nalpha)):\n",
    "    for i,w in enumerate(weightAlphaCut[a]):\n",
    "        if w > 0.1:\n",
    "            weightAlphaCut[a][i] = 0.0\n",
    "weightPCut = weightP\n",
    "for a in range(len(nalpha)):\n",
    "    for i,w in enumerate(weightPCut[a]):\n",
    "        if w > 0.1:\n",
    "            weightPCut[a][i] = 0.0\n",
    "#plot\n",
    "p = [i for i in range(1,numOrb+1)]\n",
    "for a in range(len(nalpha)):\n",
    "    plt.plot(p,weightPCut[a],label = 'numAlpha = ' + str(nalpha[a]))\n",
    "    plt.legend()\n",
    "plt.show()\n",
    "\n",
    "offs = 0\n",
    "for a in range(len(nalpha)):\n",
    "    alpha = [i for i in range(1,nalpha[a]+1)]\n",
    "    plt.plot(alpha,offs + weightAlphaCut[a],label = 'numAlpha = ' + str(nalpha[a]))\n",
    "    offs+=5e-4 #2e-13 \n",
    "    plt.legend()\n",
    "plt.show()"
   ]
  },
  {
   "cell_type": "code",
   "execution_count": 8,
   "metadata": {
    "collapsed": true
   },
   "outputs": [],
   "source": []
  },
  {
   "cell_type": "code",
   "execution_count": null,
   "metadata": {
    "collapsed": true
   },
   "outputs": [],
   "source": []
  },
  {
   "cell_type": "code",
   "execution_count": null,
   "metadata": {
    "collapsed": true
   },
   "outputs": [],
   "source": []
  }
 ],
 "metadata": {
  "kernelspec": {
   "display_name": "Python 2",
   "language": "python",
   "name": "python2"
  },
  "language_info": {
   "codemirror_mode": {
    "name": "ipython",
    "version": 2
   },
   "file_extension": ".py",
   "mimetype": "text/x-python",
   "name": "python",
   "nbconvert_exporter": "python",
   "pygments_lexer": "ipython2",
   "version": "2.7.13"
  }
 },
 "nbformat": 4,
 "nbformat_minor": 2
}
