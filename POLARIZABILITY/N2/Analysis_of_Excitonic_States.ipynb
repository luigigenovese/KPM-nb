{
 "cells": [
  {
   "cell_type": "markdown",
   "metadata": {},
   "source": [
    "# Analysis of excitonic states"
   ]
  },
  {
   "cell_type": "markdown",
   "metadata": {
    "collapsed": true
   },
   "source": []
  },
  {
   "cell_type": "code",
   "execution_count": 6,
   "metadata": {},
   "outputs": [
    {
     "data": {
      "application/javascript": [
       "IPython.notebook.set_autosave_interval(0)"
      ]
     },
     "metadata": {},
     "output_type": "display_data"
    },
    {
     "name": "stdout",
     "output_type": "stream",
     "text": [
      "Autosave disabled\n"
     ]
    }
   ],
   "source": [
    "%autosave 0\n",
    "from BigDFT import Logfiles as lf\n",
    "from BigDFT import Calculators as C\n",
    "from futile import Yaml\n",
    "import matplotlib.pyplot as plt\n",
    "import numpy as np\n",
    "import scipy.fftpack\n",
    "import sys\n",
    "sys.path.insert(0,'../')\n",
    "import Routine as R\n",
    "outputpath = 'linear-response/'"
   ]
  },
  {
   "cell_type": "markdown",
   "metadata": {},
   "source": [
    "We read the coupling matrix and dipoles (with the highest given number of virtual orbitals)"
   ]
  },
  {
   "cell_type": "code",
   "execution_count": 7,
   "metadata": {},
   "outputs": [
    {
     "name": "stdout",
     "output_type": "stream",
     "text": [
      "/media/DATA/RICERCA/LINEAR RESPONSE/LR-nb/POLARIZABILITY/N2/linear-response\n",
      "/media/DATA/RICERCA/LINEAR RESPONSE/LR-nb/POLARIZABILITY/N2\n"
     ]
    },
    {
     "data": {
      "text/plain": [
       "(3030, 3030)"
      ]
     },
     "execution_count": 7,
     "metadata": {},
     "output_type": "execute_result"
    }
   ],
   "source": [
    "nVirtMax = 303\n",
    "%cd $outputpath\n",
    "dpath = 'log/TDDFT-Results/transition_dipoles_'+str(nVirtMax)+'.txt'\n",
    "dipoles = np.loadtxt(dpath)\n",
    "cpath = 'log/TDDFT-Results/coupling_matrix_'+str(nVirtMax)+'.txt'\n",
    "Cmat = np.loadtxt(cpath)\n",
    "%cd ..\n",
    "Cmat.shape"
   ]
  },
  {
   "cell_type": "markdown",
   "metadata": {},
   "source": [
    "We set the number of empty and virtual states and build the C submatrix with the chosen value of nalpha"
   ]
  },
  {
   "cell_type": "code",
   "execution_count": 8,
   "metadata": {},
   "outputs": [
    {
     "data": {
      "text/plain": [
       "(3030, 3030)"
      ]
     },
     "execution_count": 8,
     "metadata": {},
     "output_type": "execute_result"
    }
   ],
   "source": [
    "numOrb = 5\n",
    "nalpha = nVirtMax\n",
    "C_ext,dipoles_ext=R.extract_subset([numOrb],[nVirtMax],Cmat,dipoles,[nalpha])\n",
    "C_ext.shape"
   ]
  },
  {
   "cell_type": "markdown",
   "metadata": {},
   "source": [
    "We compute the eigenvalues and vectors of C_ext (linalg.eigh gives the eigenvectors in the transpose form so we peform an explicit transpose to the vectors sorted as row vectors)"
   ]
  },
  {
   "cell_type": "code",
   "execution_count": 9,
   "metadata": {
    "collapsed": true
   },
   "outputs": [],
   "source": [
    "E2,C_E2 = np.linalg.eigh(C_ext)\n",
    "C_E2 = C_E2.T"
   ]
  },
  {
   "cell_type": "code",
   "execution_count": 10,
   "metadata": {},
   "outputs": [
    {
     "name": "stdout",
     "output_type": "stream",
     "text": [
      "Validation terminated\n"
     ]
    }
   ],
   "source": [
    "for ind,e in enumerate(E2):\n",
    "        isok = np.allclose(C_ext.dot(C_E2[ind]),e*C_E2[ind],atol=1.e-12)\n",
    "        if not isok: print('Eigenvalue',ind,'is false')\n",
    "print('Validation terminated')"
   ]
  },
  {
   "cell_type": "markdown",
   "metadata": {},
   "source": [
    "We compute the contribution of the virtual states in the lower energy eigenstates of C_ext"
   ]
  },
  {
   "cell_type": "code",
   "execution_count": 31,
   "metadata": {
    "scrolled": false
   },
   "outputs": [
    {
     "name": "stdout",
     "output_type": "stream",
     "text": [
      "Exctation number : 1  energy =  0.268571229762\n",
      "  virtual state : 1  weight =  0.495473966778\n",
      "  virtual state : 2  weight =  0.495485240895\n",
      "1 - sumOverThreshold =  9.041e-03\n",
      "\n",
      "Exctation number : 2  energy =  0.269882874652\n",
      "  virtual state : 1  weight =  0.997945825866\n",
      "1 - sumOverThreshold =  2.054e-03\n",
      "\n",
      "Exctation number : 3  energy =  0.26988299778\n",
      "  virtual state : 2  weight =  0.997941930992\n",
      "1 - sumOverThreshold =  2.058e-03\n",
      "\n",
      "Exctation number : 4  energy =  0.310030437805\n",
      "  virtual state : 1  weight =  0.499019882403\n",
      "  virtual state : 2  weight =  0.499018281491\n",
      "1 - sumOverThreshold =  1.962e-03\n",
      "\n",
      "Exctation number : 5  energy =  0.31013846787\n",
      "  virtual state : 1  weight =  0.499026115967\n",
      "  virtual state : 2  weight =  0.49902271426\n",
      "1 - sumOverThreshold =  1.951e-03\n",
      "\n",
      "Exctation number : 6  energy =  0.327073677418\n",
      "  virtual state : 2  weight =  0.954379966086\n",
      "1 - sumOverThreshold =  4.562e-02\n",
      "\n",
      "Exctation number : 7  energy =  0.327073712498\n",
      "  virtual state : 1  weight =  0.95437990445\n",
      "1 - sumOverThreshold =  4.562e-02\n",
      "\n",
      "Exctation number : 8  energy =  0.343636439279\n",
      "  virtual state : 1  weight =  0.499999200254\n",
      "  virtual state : 2  weight =  0.500000799745\n",
      "1 - sumOverThreshold =  8.433e-13\n",
      "\n",
      "Exctation number : 9  energy =  0.343636439285\n",
      "  virtual state : 1  weight =  0.500002122414\n",
      "  virtual state : 2  weight =  0.499997877584\n",
      "1 - sumOverThreshold =  1.347e-12\n",
      "\n",
      "Exctation number : 10  energy =  0.362003250417\n",
      "  virtual state : 1  weight =  0.499516062365\n",
      "  virtual state : 2  weight =  0.499520306164\n",
      "1 - sumOverThreshold =  9.636e-04\n",
      "\n",
      "Exctation number : 11  energy =  0.362101159342\n",
      "  virtual state : 1  weight =  0.499513454521\n",
      "  virtual state : 2  weight =  0.499511870329\n",
      "1 - sumOverThreshold =  9.747e-04\n",
      "\n",
      "Exctation number : 12  energy =  0.376048301354\n",
      "  virtual state : 1  weight =  0.31863921929\n",
      "  virtual state : 2  weight =  0.673653839004\n",
      "1 - sumOverThreshold =  7.707e-03\n",
      "\n",
      "Exctation number : 13  energy =  0.37604830735\n",
      "  virtual state : 1  weight =  0.67365407752\n",
      "  virtual state : 2  weight =  0.318639109992\n",
      "1 - sumOverThreshold =  7.707e-03\n",
      "\n",
      "Exctation number : 14  energy =  0.400934877456\n",
      "  virtual state : 3  weight =  0.996443760208\n",
      "1 - sumOverThreshold =  3.556e-03\n",
      "\n",
      "Exctation number : 15  energy =  0.416356183528\n",
      "  virtual state : 3  weight =  0.985911740081\n",
      "1 - sumOverThreshold =  1.409e-02\n",
      "\n",
      "Exctation number : 16  energy =  0.438968147359\n",
      "  virtual state : 4  weight =  0.995920276723\n",
      "1 - sumOverThreshold =  4.080e-03\n",
      "\n",
      "Exctation number : 17  energy =  0.440927617279\n",
      "  virtual state : 4  weight =  0.989518415116\n",
      "1 - sumOverThreshold =  1.048e-02\n",
      "\n",
      "Exctation number : 18  energy =  0.441659237235\n",
      "  virtual state : 5  weight =  0.970422212742\n",
      "1 - sumOverThreshold =  2.958e-02\n",
      "\n",
      "Exctation number : 19  energy =  0.441670256264\n",
      "  virtual state : 6  weight =  0.970356864737\n",
      "1 - sumOverThreshold =  2.964e-02\n",
      "\n",
      "Exctation number : 20  energy =  0.441952772568\n",
      "  virtual state : 5  weight =  0.994513112532\n",
      "1 - sumOverThreshold =  5.487e-03\n",
      "\n"
     ]
    }
   ],
   "source": [
    "reload(R)\n",
    "numExc = 20\n",
    "weight = R.alphaWeight(numOrb,nalpha,numExc,C_E2,E2)"
   ]
  },
  {
   "cell_type": "code",
   "execution_count": 10,
   "metadata": {},
   "outputs": [
    {
     "data": {
      "image/png": "[encoded data removed]",
      "text/plain": [
       "<matplotlib.figure.Figure at 0x7fc54906d650>"
      ]
     },
     "metadata": {},
     "output_type": "display_data"
    }
   ],
   "source": [
    "for e in range(numExc):\n",
    "    plt.plot(weight[e])\n",
    "plt.show()"
   ]
  },
  {
   "cell_type": "code",
   "execution_count": 39,
   "metadata": {},
   "outputs": [],
   "source": [
    "for w in weight:\n",
    "    s = 0.0\n",
    "    for i in w:\n",
    "        s+=i\n",
    "    if np.allclose(s,1.0,atol=1.e-12) == False:\n",
    "        print 'errore'"
   ]
  },
  {
   "cell_type": "code",
   "execution_count": null,
   "metadata": {
    "collapsed": true
   },
   "outputs": [],
   "source": []
  },
  {
   "cell_type": "code",
   "execution_count": null,
   "metadata": {
    "collapsed": true
   },
   "outputs": [],
   "source": []
  },
  {
   "cell_type": "code",
   "execution_count": null,
   "metadata": {
    "collapsed": true
   },
   "outputs": [],
   "source": []
  },
  {
   "cell_type": "code",
   "execution_count": null,
   "metadata": {
    "collapsed": true
   },
   "outputs": [],
   "source": []
  },
  {
   "cell_type": "code",
   "execution_count": null,
   "metadata": {
    "collapsed": true
   },
   "outputs": [],
   "source": []
  },
  {
   "cell_type": "code",
   "execution_count": null,
   "metadata": {
    "collapsed": true
   },
   "outputs": [],
   "source": []
  },
  {
   "cell_type": "code",
   "execution_count": null,
   "metadata": {
    "collapsed": true
   },
   "outputs": [],
   "source": []
  }
 ],
 "metadata": {
  "kernelspec": {
   "display_name": "Python 2",
   "language": "python",
   "name": "python2"
  },
  "language_info": {
   "codemirror_mode": {
    "name": "ipython",
    "version": 2
   },
   "file_extension": ".py",
   "mimetype": "text/x-python",
   "name": "python",
   "nbconvert_exporter": "python",
   "pygments_lexer": "ipython2",
   "version": "2.7.13"
  }
 },
 "nbformat": 4,
 "nbformat_minor": 2
}
