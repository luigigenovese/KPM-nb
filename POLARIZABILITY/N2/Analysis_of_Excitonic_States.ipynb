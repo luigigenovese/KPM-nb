{
 "cells": [
  {
   "cell_type": "markdown",
   "metadata": {},
   "source": [
    "# Analysis of excitonic states"
   ]
  },
  {
   "cell_type": "markdown",
   "metadata": {
    "collapsed": true
   },
   "source": []
  },
  {
   "cell_type": "code",
   "execution_count": 1,
   "metadata": {},
   "outputs": [
    {
     "data": {
      "application/javascript": [
       "IPython.notebook.set_autosave_interval(0)"
      ]
     },
     "metadata": {},
     "output_type": "display_data"
    },
    {
     "name": "stdout",
     "output_type": "stream",
     "text": [
      "Autosave disabled\n"
     ]
    }
   ],
   "source": [
    "%autosave 0\n",
    "from BigDFT import Logfiles as lf\n",
    "from BigDFT import Calculators as C\n",
    "from futile import Yaml\n",
    "import matplotlib.pyplot as plt\n",
    "import numpy as np\n",
    "import scipy.fftpack\n",
    "import sys\n",
    "sys.path.insert(0,'../')\n",
    "import Routine as R\n",
    "outputpath = 'linear-response/'"
   ]
  },
  {
   "cell_type": "markdown",
   "metadata": {},
   "source": [
    "We read the coupling matrix and dipoles (with the highest given number of virtual orbitals)"
   ]
  },
  {
   "cell_type": "code",
   "execution_count": 2,
   "metadata": {},
   "outputs": [
    {
     "name": "stdout",
     "output_type": "stream",
     "text": [
      "/media/DATA/RICERCA/LINEAR RESPONSE/LR-nb/POLARIZABILITY/N2/linear-response\n",
      "/media/DATA/RICERCA/LINEAR RESPONSE/LR-nb/POLARIZABILITY/N2\n"
     ]
    },
    {
     "data": {
      "text/plain": [
       "(3030, 3030)"
      ]
     },
     "execution_count": 2,
     "metadata": {},
     "output_type": "execute_result"
    }
   ],
   "source": [
    "nVirtMax = 303\n",
    "%cd $outputpath\n",
    "dpath = 'log/TDDFT-Results/transition_dipoles_'+str(nVirtMax)+'.txt'\n",
    "dipoles = np.loadtxt(dpath)\n",
    "cpath = 'log/TDDFT-Results/coupling_matrix_'+str(nVirtMax)+'.txt'\n",
    "Cmat = np.loadtxt(cpath)\n",
    "%cd ..\n",
    "Cmat.shape"
   ]
  },
  {
   "cell_type": "markdown",
   "metadata": {},
   "source": [
    "We set the number of empty and virtual states and build the C submatrix with the chosen values of nalpha"
   ]
  },
  {
   "cell_type": "code",
   "execution_count": 3,
   "metadata": {},
   "outputs": [],
   "source": [
    "numOrb = 5\n",
    "nalpha = [32,64,128,nVirtMax]"
   ]
  },
  {
   "cell_type": "markdown",
   "metadata": {},
   "source": [
    "We compute the eigenvalues and vectors of C_ext (linalg.eigh gives the eigenvectors in the transpose form so we peform an explicit transpose to the vectors sorted as row vectors)"
   ]
  },
  {
   "cell_type": "code",
   "execution_count": 4,
   "metadata": {},
   "outputs": [
    {
     "name": "stdout",
     "output_type": "stream",
     "text": [
      "(320, 320)\n",
      "(640, 640)\n",
      "(1280, 1280)\n",
      "(3030, 3030)\n"
     ]
    }
   ],
   "source": [
    "eigenproblems = {}\n",
    "for na in nalpha:\n",
    "    C_ext,dipoles_ext=R.extract_subset([numOrb],[nVirtMax],Cmat,dipoles,[na])\n",
    "    print C_ext.shape\n",
    "    E2,C_E2 = np.linalg.eigh(C_ext)\n",
    "    C_E2 = C_E2.T\n",
    "    eigenproblems[na] = (C_ext,E2,C_E2)"
   ]
  },
  {
   "cell_type": "code",
   "execution_count": 5,
   "metadata": {},
   "outputs": [
    {
     "name": "stdout",
     "output_type": "stream",
     "text": [
      "Validation terminated\n"
     ]
    }
   ],
   "source": [
    "for na in nalpha:\n",
    "    C_ext = eigenproblems[na][0]\n",
    "    E2 = eigenproblems[na][1]\n",
    "    C_E2 = eigenproblems[na][2]\n",
    "    for ind,e in enumerate(E2):\n",
    "        isok = np.allclose(C_ext.dot(C_E2[ind]),e*C_E2[ind],atol=1.e-12)\n",
    "        if not isok: print('Eigenvalue',ind,'is false')\n",
    "print('Validation terminated')"
   ]
  },
  {
   "cell_type": "markdown",
   "metadata": {},
   "source": [
    "We compute the contribution of the virtual states in the lower energy eigenstates of C_ext"
   ]
  },
  {
   "cell_type": "code",
   "execution_count": 14,
   "metadata": {},
   "outputs": [
    {
     "name": "stdout",
     "output_type": "stream",
     "text": [
      "nalpha =  303\n",
      "\n",
      "Exctation number : 1  energy =  0.268571229762\n",
      "  ******* occupied state contribution ********\n",
      "  occupied state : 3  weight =  0.498515591291\n",
      "  occupied state : 4  weight =  0.498518966476\n",
      "  1 - sumOverThreshold p =  2.965e-03\n",
      "  ******* virtual state contribution *********\n",
      "  virtual state  : 1  weight =  0.495473966778\n",
      "  virtual state  : 2  weight =  0.495485240895\n",
      "  1 - sumOverThreshold alpha =  9.041e-03\n",
      "\n",
      "Exctation number : 2  energy =  0.269882874652\n",
      "  ******* occupied state contribution ********\n",
      "  occupied state : 5  weight =  0.999450975096\n",
      "  1 - sumOverThreshold p =  5.490e-04\n",
      "  ******* virtual state contribution *********\n",
      "  virtual state  : 1  weight =  0.997945825866\n",
      "  1 - sumOverThreshold alpha =  2.054e-03\n",
      "\n",
      "Exctation number : 3  energy =  0.26988299778\n",
      "  ******* occupied state contribution ********\n",
      "  occupied state : 5  weight =  0.999443205895\n",
      "  1 - sumOverThreshold p =  5.568e-04\n",
      "  ******* virtual state contribution *********\n",
      "  virtual state  : 2  weight =  0.997941930992\n",
      "  1 - sumOverThreshold alpha =  2.058e-03\n",
      "\n",
      "Exctation number : 4  energy =  0.310030437805\n",
      "  ******* occupied state contribution ********\n",
      "  occupied state : 3  weight =  0.499775805625\n",
      "  occupied state : 4  weight =  0.49977744544\n",
      "  1 - sumOverThreshold p =  4.467e-04\n",
      "  ******* virtual state contribution *********\n",
      "  virtual state  : 1  weight =  0.499019882403\n",
      "  virtual state  : 2  weight =  0.499018281491\n",
      "  1 - sumOverThreshold alpha =  1.962e-03\n",
      "\n",
      "Exctation number : 8  energy =  0.343636439279\n",
      "  ******* occupied state contribution ********\n",
      "  occupied state : 3  weight =  0.500000799746\n",
      "  occupied state : 4  weight =  0.499999200254\n",
      "  1 - sumOverThreshold p =  5.607e-13\n",
      "  ******* virtual state contribution *********\n",
      "  virtual state  : 1  weight =  0.499999200254\n",
      "  virtual state  : 2  weight =  0.500000799745\n",
      "  1 - sumOverThreshold alpha =  8.433e-13\n",
      "\n",
      "Exctation number : 9  energy =  0.343636439285\n",
      "  ******* occupied state contribution ********\n",
      "  occupied state : 3  weight =  0.499997877585\n",
      "  occupied state : 4  weight =  0.500002122302\n",
      "  1 - sumOverThreshold p =  1.130e-10\n",
      "  ******* virtual state contribution *********\n",
      "  virtual state  : 1  weight =  0.500002122414\n",
      "  virtual state  : 2  weight =  0.499997877584\n",
      "  1 - sumOverThreshold alpha =  1.347e-12\n",
      "\n"
     ]
    }
   ],
   "source": [
    "reload(R)\n",
    "exc = [0,1,2,3,7,8] # [i for i in range(20)] # select the list of excitation index\n",
    "inda = len(nalpha)-1 # select the number of virtual states\n",
    "print 'nalpha = ', nalpha[inda]\n",
    "print ''\n",
    "weightP,weightAlpha = R.weight(numOrb,nalpha[inda],exc,eigenproblems[nalpha[inda]][2],eigenproblems[nalpha[inda]][1])\n",
    "\n",
    "for w in weightAlpha:\n",
    "    s = 0.0\n",
    "    for i in w:\n",
    "        s+=i\n",
    "    if np.allclose(s,1.0,atol=1.e-12) == False:\n",
    "        print 'norm error on virtual states'\n",
    "for w in weightP:\n",
    "    s = 0.0\n",
    "    for i in w:\n",
    "        s+=i\n",
    "    if np.allclose(s,1.0,atol=1.e-12) == False:\n",
    "        print 'norm error on occupied states'"
   ]
  },
  {
   "cell_type": "markdown",
   "metadata": {},
   "source": [
    "We analyze the formation of wave packet in the virtual states with a low weight on the eigenvectors of C. We consider a single excitation and plot the contribution of the states below the threshold (for each value of the number of virtual states)"
   ]
  },
  {
   "cell_type": "code",
   "execution_count": 16,
   "metadata": {},
   "outputs": [
    {
     "name": "stdout",
     "output_type": "stream",
     "text": [
      "nalpha =  32\n",
      "Exctation number : 1  energy =  0.270744160786\n",
      "  ******* occupied state contribution ********\n",
      "  occupied state : 5  weight =  0.99974275101\n",
      "  1 - sumOverThreshold p =  2.572e-04\n",
      "  ******* virtual state contribution *********\n",
      "  virtual state  : 2  weight =  0.999495503353\n",
      "  1 - sumOverThreshold alpha =  5.045e-04\n",
      "\n",
      "nalpha =  64\n",
      "Exctation number : 1  energy =  0.270583515891\n",
      "  ******* occupied state contribution ********\n",
      "  occupied state : 5  weight =  0.99965926888\n",
      "  1 - sumOverThreshold p =  3.407e-04\n",
      "  ******* virtual state contribution *********\n",
      "  virtual state  : 1  weight =  0.999353603709\n",
      "  1 - sumOverThreshold alpha =  6.464e-04\n",
      "\n",
      "nalpha =  128\n",
      "Exctation number : 1  energy =  0.269959679516\n",
      "  ******* occupied state contribution ********\n",
      "  occupied state : 3  weight =  0.498665597369\n",
      "  occupied state : 4  weight =  0.498663588088\n",
      "  1 - sumOverThreshold p =  2.671e-03\n",
      "  ******* virtual state contribution *********\n",
      "  virtual state  : 1  weight =  0.49579786782\n",
      "  virtual state  : 2  weight =  0.495876199052\n",
      "  1 - sumOverThreshold alpha =  8.326e-03\n",
      "\n",
      "nalpha =  303\n",
      "Exctation number : 1  energy =  0.268571229762\n",
      "  ******* occupied state contribution ********\n",
      "  occupied state : 3  weight =  0.498515591291\n",
      "  occupied state : 4  weight =  0.498518966476\n",
      "  1 - sumOverThreshold p =  2.965e-03\n",
      "  ******* virtual state contribution *********\n",
      "  virtual state  : 1  weight =  0.495473966778\n",
      "  virtual state  : 2  weight =  0.495485240895\n",
      "  1 - sumOverThreshold alpha =  9.041e-03\n",
      "\n"
     ]
    },
    {
     "data": {
      "image/png": "[encoded data removed]",
      "text/plain": [
       "<matplotlib.figure.Figure at 0x7f9da2de2390>"
      ]
     },
     "metadata": {},
     "output_type": "display_data"
    },
    {
     "data": {
      "image/png": "[encoded data removed]",
      "text/plain": [
       "<matplotlib.figure.Figure at 0x7f9da2bd7fd0>"
      ]
     },
     "metadata": {},
     "output_type": "display_data"
    }
   ],
   "source": [
    "exc = [0] #select the excitation index\n",
    "weightP = []\n",
    "weightAlpha = []\n",
    "for inda in range(len(nalpha)):\n",
    "    print 'nalpha = ', nalpha[inda]\n",
    "    wP,wAlpha = R.weight(numOrb,nalpha[inda],exc,eigenproblems[nalpha[inda]][2],eigenproblems[nalpha[inda]][1])\n",
    "    weightP.append(wP[0])\n",
    "    weightAlpha.append(wAlpha[0])\n",
    "    \n",
    "# remove the component above th treshold\n",
    "weightAlphaCut = weightAlpha\n",
    "for a in range(len(nalpha)):\n",
    "    for i,w in enumerate(weightAlphaCut[a]):\n",
    "        if w > 0.1:\n",
    "            weightAlphaCut[a][i] = 0.0\n",
    "weightPCut = weightP\n",
    "for a in range(len(nalpha)):\n",
    "    for i,w in enumerate(weightPCut[a]):\n",
    "        if w > 0.1:\n",
    "            weightPCut[a][i] = 0.0\n",
    "#plot\n",
    "p = [i for i in range(1,numOrb+1)]\n",
    "for a in range(len(nalpha)):\n",
    "    plt.plot(p,weightPCut[a],label = 'numAlpha = ' + str(nalpha[a]))\n",
    "    plt.legend()\n",
    "plt.show()\n",
    "\n",
    "offs = 0\n",
    "for a in range(len(nalpha)):\n",
    "    alpha = [i for i in range(1,nalpha[a]+1)]\n",
    "    plt.plot(alpha,offs + weightAlphaCut[a],label = 'numAlpha = ' + str(nalpha[a]))\n",
    "    offs+=5e-4 #2e-13 \n",
    "    plt.legend()\n",
    "plt.show()"
   ]
  },
  {
   "cell_type": "code",
   "execution_count": null,
   "metadata": {
    "collapsed": true
   },
   "outputs": [],
   "source": []
  }
 ],
 "metadata": {
  "kernelspec": {
   "display_name": "Python 2",
   "language": "python",
   "name": "python2"
  },
  "language_info": {
   "codemirror_mode": {
    "name": "ipython",
    "version": 2
   },
   "file_extension": ".py",
   "mimetype": "text/x-python",
   "name": "python",
   "nbconvert_exporter": "python",
   "pygments_lexer": "ipython2",
   "version": "2.7.13"
  }
 },
 "nbformat": 4,
 "nbformat_minor": 2
}
