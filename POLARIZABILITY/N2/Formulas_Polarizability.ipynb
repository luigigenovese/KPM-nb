{
 "cells": [
  {
   "cell_type": "markdown",
   "metadata": {},
   "source": [
    "# Formula for statical and dynamical polarizability"
   ]
  },
  {
   "cell_type": "markdown",
   "metadata": {},
   "source": [
    "## Spectral representation of the polarizability"
   ]
  },
  {
   "cell_type": "markdown",
   "metadata": {},
   "source": [
    "Let us discuss the main formula needed for the computation of the polarizability. We consider\n",
    "a dipole perturbation on the system so that the perturbing potential can be written as:\n",
    "$$\n",
    "\\phi_j(\\omega) = r_j F(\\omega)\n",
    "$$\n",
    "$r_j$ indicates the direction of the field while the function $F$ keeps into account the amplitude of the pertubation and its $\\omega$ dependence, and includes also the type of time evolution protocol (e.g. adiabatic or sudden). The expression of the induced dipole can be expressed in the basis of transition, according to the formula:\n",
    "$$\n",
    "d_{i}(\\omega) = ( d_{i} | R(\\omega) | d_{j}) F(\\omega)\n",
    "$$\n",
    "Using the Casida formalism we have:\n",
    "$$\n",
    "d_{i}(\\omega) = 2 \\sum_{E^2} \\frac{[d_i|C_{E^2}][\\tilde C_{E^2}|d_j]}{(\\omega+ 2i\\eta)^2-E^2} F(\\omega)\n",
    "$$\n",
    "where $|C_{E^2}]$ and $[\\tilde C_{E^2}|$ are the right and left eigenvectors of the Casida matrix while $|d_i]$ and\n",
    "$[d_j|$ represent the column and row vectors of components:\n",
    "$$\n",
    "d_i^{p\\alpha} = T^{1/2}_{p\\alpha} \\int dr r_i \\psi_p(r)\\psi_{\\alpha}(r)\n",
    "$$"
   ]
  },
  {
   "cell_type": "markdown",
   "metadata": {},
   "source": [
    "### Analysis of the statical polarizability"
   ]
  },
  {
   "cell_type": "markdown",
   "metadata": {},
   "source": [
    "First of all we use this formalism to compare the value of the static polarizability given by this approach to the \"exact\" result obtained by explicitly adding a constant perturbing electric field in a DFT computation.\n",
    "To perform this comparison we consider, in the linear response framework, a field switched on with an adiabatic protocol and we compute the (time dependent) induced dipole a t=0 (in which the damping factor of the adiabatic protocol is equal to one). Using the FT we have that:\n",
    "$$\n",
    "d_i(t=0) = \\int \\frac{d\\omega}{2\\pi} d_i(\\omega)\n",
    "$$\n",
    "The F function associated to the adiabatic protocol of a constant perturbation of module equal to 1 is given by\n",
    "$$\n",
    "F(\\omega) = \\frac{2\\tilde\\eta}{\\omega^2+\\tilde\\eta^2} \n",
    "$$\n",
    "where $\\tilde\\eta$ is the damping parameter of the adiabatic protocol. For $\\tilde\\eta \\rightarrow 0$ we recognize that this expression is equal to $2\\pi\\delta(\\omega)$. So we have:\n",
    "$$\n",
    "d_i(t=0) = - 2 \\sum_{E^2} \\frac{[d_i|C_{E^2}][\\tilde C_{E^2}|d_j]}{E^2}\n",
    "$$\n",
    "and this result has to reproduce, apart from the sign, the value of the static polarizability computed via a DFT computation."
   ]
  },
  {
   "cell_type": "markdown",
   "metadata": {
    "collapsed": true
   },
   "source": [
    "### Dynamical polarizability in the adiabatic case"
   ]
  },
  {
   "cell_type": "markdown",
   "metadata": {
    "collapsed": true
   },
   "source": [
    "We compute the induced dipole in the adiabatic case. \n",
    "We consider a monocromatic perturbation of the form $H_1(t) = r_jcos(\\omega_0 t)$. Using the formula for the\n",
    "adiabatic case presented in the note, and remembering the representation of the delta function in terms of\n",
    "a lorentzian we have that:\n",
    "$$\n",
    "F(\\omega) = \\pi\\left(\\delta(\\omega-\\omega_0) + \\delta(\\omega+\\omega_0)\\right)\n",
    "$$\n",
    "So, the induced dipole is nonvashing only for $\\omega = \\pm\\omega_0$ and reads:\n",
    "$$\n",
    "d_{i}(\\omega) = 2\\pi\\sum_{E^2} \\frac{[d_i|C_{E^2}][\\tilde C_{E^2}|d_j]}{(\\omega+ 2i\\eta)^2-E^2} \\left(\\delta(\\omega-\\omega_0)+ \\delta(\\omega+\\omega_0) \\right)\n",
    "$$"
   ]
  },
  {
   "cell_type": "markdown",
   "metadata": {},
   "source": [
    "We observe that $d_i(\\omega)$ satisfies the property $d_i^{*}(\\omega)=d_i(-\\omega)$. This condition ensures that $d_i(t)$ is real. Performing the inverse FT we have:\n",
    "$$\n",
    "d_i(t) = \\left[\\sum_{E^2} \\frac{[d_i|C_{E^2}][\\tilde C_{E^2}|d_j]}{(\\omega_0+ 2i\\eta)^2-E^2}e^{-i\\omega_0 t}+\\sum_{E^2} \\frac{[d_i|C_{E^2}][\\tilde C_{E^2}|d_j]}{(\\omega_0-2i\\eta)^2-E^2}e^{i\\omega_0 t}\\right]\n",
    "$$\n",
    "We write this quantity in the form:\n",
    "$$\n",
    "d_i(t) = A(\\omega_0)e^{-i\\omega_0 t} + A^*(\\omega_0)e^{i\\omega_0 t}\n",
    "$$\n",
    "and introducing the polar representation for $A(\\omega_0)=|A(\\omega_0)|e^{-i\\phi(\\omega)}$ we have:\n",
    "$$\n",
    "d_i(t) = 2|A(\\omega_0)|cos(\\omega_0 t + \\phi(\\omega_0)\n",
    "$$"
   ]
  },
  {
   "cell_type": "markdown",
   "metadata": {},
   "source": [
    "Now we want to plot $A(\\omega_0)$ in function of $\\omega_0$. We choose $r_j = z$ and compute $d_z$ so, remembering that $C$ is real and symmetric we have to compute the modulus and phase of the quantity:\n",
    "$$\n",
    "A(\\omega_0) = \\sum_{E^2} \\frac{[d_z|C_{E^2}]^2}{(\\omega_0+ 2i\\eta)^2-E^2}\n",
    "$$\n",
    "We consider the case with 256 empty orbitals and compute the square root of the highest eigenvalue of $C$. This value si used to understand up to which $\\omega_0$ is meaningfull to compute $A$. "
   ]
  },
  {
   "cell_type": "markdown",
   "metadata": {},
   "source": [
    "It is also interesting to compute the real and imaginary part of $A$ (with a minus sign!) that are related to the real and imaginary part of the index of refraction"
   ]
  },
  {
   "cell_type": "markdown",
   "metadata": {
    "collapsed": true
   },
   "source": [
    "### Constant perturbation in the sudden limit"
   ]
  },
  {
   "cell_type": "markdown",
   "metadata": {
    "collapsed": true
   },
   "source": [
    "We consider a constant perturbation $H_1=1$, abruptly switched on at $t=0$. Using the formula for the sudden limit applied to this case we have that:\n",
    "$$\n",
    "F(\\omega) = \\frac{i}{\\omega+i\\eta} = \\theta(\\omega)\n",
    "$$\n",
    "Again we assume that the perturbation is along the $z$ axis and we compute the induced dipole along the same axis. So, introducing the notation $f(E) = [d_z|C_{E^2}]$ we have:\n",
    "$$\n",
    "d_{z}(\\omega) = 2 \\sum_{E^2} \\frac{f(E)^2}{(\\omega+ 2i\\eta)^2-E^2} \\theta(\\omega)\n",
    "$$\n",
    "Also in this case we observe that $d_z^{*}(\\omega) = d_z(-\\omega)$ so that $d_z(t)$ is real.\n",
    "Since $d_{z}(\\omega)$ is expressed as the product of two functions (one is the $\\theta(\\omega)$ while the other one will be denoted as $A(\\omega)$), its inverse FT can be written as the convolution of the inverse FT of the two factors, that is:\n",
    "$$\n",
    "d_z(t) = \\int_{-\\infty}^{\\infty} dt' \\theta(t') A(t-t') = \\int_{0}^{\\infty} dt' A(t-t') \n",
    "$$"
   ]
  },
  {
   "cell_type": "markdown",
   "metadata": {},
   "source": [
    "Let us compute the expression of $A(t)$. We have that:\n",
    "$$\n",
    "A(t) = \\frac{1}{\\pi}\\sum_{E^2}f(E)^2 \\int_{-\\infty}^{\\infty}d\\omega\\frac{e^{-i\\omega t}}\n",
    "{(\\omega+ 2i\\eta)^2-E^2}\n",
    "$$\n",
    "The last integral can be computed with the residue method. The poles are in $\\bar\\omega^+\\equiv E-2i\\eta$ and in \n",
    "$\\bar\\omega^-\\equiv -E-2i\\eta$, both in the lower half plane. Extending the integrand in the complex plane we have that $-i\\omega t \\rightarrow-ixt + yt$ so for $t>0$ we have to close the path below (pole inside the domain), while for $t<0$ we have to close above and the integral is zero."
   ]
  },
  {
   "cell_type": "markdown",
   "metadata": {},
   "source": [
    "We observe that the integrand can be written as:\n",
    "$$\n",
    "\\frac{e^{-i\\omega t}} {(\\omega+ 2i\\eta)^2-E^2} = \\frac{e^{-i\\omega t}} {(\\omega-\\bar\\omega^+)(\\omega+2i\\eta+E)} \n",
    "$$\n",
    "and also as:\n",
    "$$\n",
    "\\frac{e^{-i\\omega t}} {(\\omega+ 2i\\eta)^2-E^2} = \\frac{e^{-i\\omega t}} {(\\omega-\\bar\\omega^-)(\\omega+2i\\eta-E)} \n",
    "$$\n",
    "so the values of the residue in $\\bar\\omega^{\\pm}$ are:\n",
    "$$\n",
    "\\frac{e^{-iE t}e^{-2\\eta t}} {2E} \\;,\\qquad\n",
    "-\\frac{e^{iE t}e^{-2\\eta t}} {2E}\n",
    "$$\n",
    "Putting these results togethere we have:\n",
    "$$\n",
    "A(t) = \\frac{\\theta(t)}{\\pi}\\sum_{E^2}f(E)^2 (-2\\pi i) \\frac{e^{-iE t}e^{-2\\eta t}-e^{iE t}e^{-2\\eta t}} {2E} =\n",
    "-i\\theta(t)\\sum_{E^2}f(E)^2 \\frac{e^{-iE t}e^{-2\\eta t}-e^{iE t}e^{-2\\eta t}} {E}\n",
    "$$"
   ]
  },
  {
   "cell_type": "markdown",
   "metadata": {},
   "source": [
    "Plugging this result in the formula for $d_z(t)$ provides:\n",
    "$$\n",
    "d_z(t) = -i\\sum_{E^2}\\frac{f(E)^2}{E} \\int_{0}^{t}dt'\\left(\n",
    "e^{-iE (t-t')}e^{-2\\eta (t-t')}-e^{iE (t-t')}e^{-2\\eta (t-t')} \\right)\n",
    "$$\n",
    "We observe that time dependence of the integral is consistent both with the fact the perturbation is switched on at $t=0$\n",
    "and with the causality condition. Performing the last integral provides:\n",
    "$$\n",
    "d_z(t) = -i\\sum_{E^2}\\frac{f(E)^2}{E} \\left[\\frac{1}{iE+2\\eta}\\left(1-e^{-iE t}e^{-2\\eta t}\\right) - \n",
    "\\frac{1}{-iE+2\\eta}\\left(1-e^{iE t}e^{-2\\eta t}\\right)\n",
    "\\right]\n",
    "$$\n",
    "the $\\eta$ term in the denominator can be dropped out and we obtain:\n",
    "$$\n",
    "d_z(t) = -2\\sum_{E^2}\\frac{f(E)^2}{E^2}\\left[1-cos(Et)e^{-2\\eta t}\\right]\n",
    "$$"
   ]
  },
  {
   "cell_type": "markdown",
   "metadata": {},
   "source": [
    "We want to plot $d_z(t)$ (with the minus sign to compare with the result obtained in the static case). To find a good choice of sampling of the $t$ variable we observe that, for each value of $E$, the period of the oscillating function is $2\\pi/E$. So, for instance, we can sample up to $T_{max} = 8/(2\\eta)$ (to ensure that the damping factors has produced the asimptotic result) with a time step lower than $2\\pi/E_{max}$"
   ]
  },
  {
   "cell_type": "code",
   "execution_count": 10,
   "metadata": {},
   "outputs": [
    {
     "name": "stdout",
     "output_type": "stream",
     "text": [
      "2560\n",
      "0.268654196567 2.59740646193\n"
     ]
    }
   ],
   "source": [
    "E2,C_E2=np.linalg.eigh(C[len(numVirt)-1])\n",
    "nE2 = len(E2) #numbers of eigenvalues\n",
    "print nE2\n",
    "E2maxSR = np.sqrt(E2[-1]) #square root of the highest eigenvalues\n",
    "E2minSR = np.sqrt(E2[0])\n",
    "print E2minSR, E2maxSR"
   ]
  },
  {
   "cell_type": "code",
   "execution_count": 53,
   "metadata": {},
   "outputs": [
    {
     "name": "stdout",
     "output_type": "stream",
     "text": [
      "2.41902274414 400.0\n"
     ]
    }
   ],
   "source": [
    "npoint = 500\n",
    "eta = 1.0e-2\n",
    "tMax = 8/(2*eta)\n",
    "tMin = 2*np.pi/E2maxSR\n",
    "print tMin, tMax\n",
    "t = np.linspace(0.0,tMax,npoint)\n",
    "dz = np.zeros(npoint, dtype=complex)\n",
    "fE = []\n",
    "for i in range(nE2):\n",
    "    fE.append(np.dot(C_E2.T[i],dipoles[len(numVirt)-1][:,2]))\n",
    "for ind,tt in enumerate(t):\n",
    "    s = 0.0\n",
    "    for i,e in enumerate(E2):\n",
    "        s+=2.0*fE[i]**2/e*(1.0-np.cos(np.sqrt(e)*tt)*np.exp(-eta*tt))\n",
    "    dz[ind] = s"
   ]
  },
  {
   "cell_type": "code",
   "execution_count": 54,
   "metadata": {},
   "outputs": [
    {
     "data": {
      "image/png": "[encoded data removed]",
      "text/plain": [
       "<matplotlib.figure.Figure at 0x7fc2b2c24bd0>"
      ]
     },
     "metadata": {},
     "output_type": "display_data"
    }
   ],
   "source": [
    "alphaZ_ref = 15.74\n",
    "plt.plot(t,dz,color ='b')\n",
    "plt.axhline(y=alphaZ_ref, color='r', linestyle='--')\n",
    "plt.show()"
   ]
  },
  {
   "cell_type": "code",
   "execution_count": null,
   "metadata": {
    "collapsed": true
   },
   "outputs": [],
   "source": []
  }
 ],
 "metadata": {
  "kernelspec": {
   "display_name": "Python 2",
   "language": "python",
   "name": "python2"
  },
  "language_info": {
   "codemirror_mode": {
    "name": "ipython",
    "version": 2
   },
   "file_extension": ".py",
   "mimetype": "text/x-python",
   "name": "python",
   "nbconvert_exporter": "python",
   "pygments_lexer": "ipython2",
   "version": "2.7.12"
  }
 },
 "nbformat": 4,
 "nbformat_minor": 2
}
