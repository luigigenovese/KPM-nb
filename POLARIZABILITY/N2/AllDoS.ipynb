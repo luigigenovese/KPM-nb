{
 "cells": [
  {
   "cell_type": "markdown",
   "metadata": {},
   "source": [
    "# Test of the Continuum Collapse of the different runs\n",
    "We would like to visualize the DOS of the virtual states of the runs under considerations and of the coupling matrix, to see if some accumulation regions of the respective eigenvalues might be visible"
   ]
  },
  {
   "cell_type": "code",
   "execution_count": 12,
   "metadata": {
    "collapsed": true
   },
   "outputs": [],
   "source": [
    "from BigDFT import Logfiles as L\n",
    "f7=L.Logfile('free-bc/virtual-orbitals/log/log-Rmult_7.0_numVirt_320.yaml')\n",
    "f9=L.Logfile('free-bc/virtual-orbitals/log/log-Rmult_9.0_numVirt_320.yaml')\n",
    "f11=L.Logfile('free-bc/virtual-orbitals/log/log-Rmult_11.0_numVirt_272.yaml')\n",
    "p7=L.Logfile('periodic-bc/virtual-orbitals/log/log-Rmult_7.0_numVirt_320.yaml')"
   ]
  },
  {
   "cell_type": "markdown",
   "metadata": {},
   "source": [
    "We can visualize the DOS of the three setup together"
   ]
  },
  {
   "cell_type": "code",
   "execution_count": 13,
   "metadata": {
    "collapsed": true
   },
   "outputs": [],
   "source": [
    "dos=f7.get_dos(label='f7')\n",
    "dos.append_from_bandarray(f9.evals,label='f9')\n",
    "dos.append_from_bandarray(f11.evals,label='f11')\n",
    "#dos.append_from_bandarray(p7.evals,label='p7')"
   ]
  },
  {
   "cell_type": "code",
   "execution_count": 14,
   "metadata": {},
   "outputs": [
    {
     "name": "stdout",
     "output_type": "stream",
     "text": [
      "Using matplotlib backend: Qt4Agg\n"
     ]
    }
   ],
   "source": [
    "%matplotlib auto\n",
    "dos.plot()"
   ]
  },
  {
   "cell_type": "markdown",
   "metadata": {},
   "source": [
    "## Coupling Matrix collapse"
   ]
  },
  {
   "cell_type": "code",
   "execution_count": 15,
   "metadata": {
    "collapsed": true
   },
   "outputs": [],
   "source": [
    "from futile import Yaml as Y\n",
    "exc7=Y.load('free-bc/linear-response/log/excitations_rmult_7.0.yaml')\n",
    "exc9=Y.load('free-bc/linear-response/log/excitations_rmult_9.0.yaml')"
   ]
  },
  {
   "cell_type": "code",
   "execution_count": 52,
   "metadata": {},
   "outputs": [],
   "source": [
    "import numpy as np\n",
    "en70=np.array(sorted([ tr['energy'] for tr in exc7[64].values()]))\n",
    "en7=np.array(sorted([ tr['energy'] for tr in exc7[303].values()]))\n",
    "en9=np.array(sorted([ tr['energy'] for tr in exc9[279].values()]))"
   ]
  },
  {
   "cell_type": "code",
   "execution_count": 53,
   "metadata": {
    "collapsed": true
   },
   "outputs": [],
   "source": [
    "from BigDFT import DoS as D"
   ]
  },
  {
   "cell_type": "code",
   "execution_count": 54,
   "metadata": {},
   "outputs": [],
   "source": [
    "edos=D.DoS(energies=en7,label='en7',fermi_level=-f7.fermi_level*27.211)\n",
    "edos.append(energies=np.array([en9]),label='en9')\n",
    "edos.append(energies=np.array([en70]),label='en7-64')"
   ]
  },
  {
   "cell_type": "code",
   "execution_count": 57,
   "metadata": {},
   "outputs": [],
   "source": [
    "edos.plot(sigma=0.02)"
   ]
  },
  {
   "cell_type": "code",
   "execution_count": null,
   "metadata": {
    "collapsed": true
   },
   "outputs": [],
   "source": []
  }
 ],
 "metadata": {
  "kernelspec": {
   "display_name": "Python 2",
   "language": "python",
   "name": "python2"
  },
  "language_info": {
   "codemirror_mode": {
    "name": "ipython",
    "version": 2
   },
   "file_extension": ".py",
   "mimetype": "text/x-python",
   "name": "python",
   "nbconvert_exporter": "python",
   "pygments_lexer": "ipython2",
   "version": "2.7.13"
  }
 },
 "nbformat": 4,
 "nbformat_minor": 1
}
