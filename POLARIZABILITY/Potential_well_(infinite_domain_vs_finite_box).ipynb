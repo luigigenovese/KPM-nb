{
 "cells": [
  {
   "cell_type": "code",
   "execution_count": 1,
   "metadata": {},
   "outputs": [],
   "source": [
    "import matplotlib.pyplot as plt\n",
    "import numpy as np\n",
    "from scipy import optimize"
   ]
  },
  {
   "cell_type": "markdown",
   "metadata": {},
   "source": [
    "We study the energy eigenvalues and eigenstates of a potential well of width $2a$ and depth $V_0$ simmetrically placed around the origin. We compare the results in two cases:\n",
    "* Infinite domain\n",
    "* System placed in a box of width $2L$"
   ]
  },
  {
   "cell_type": "markdown",
   "metadata": {},
   "source": [
    "# Solution in the infinite domain"
   ]
  },
  {
   "cell_type": "markdown",
   "metadata": {},
   "source": [
    "In this case the system has both bound and unbound solutions. We mainly follow the notation of the book of Gasiorowicz."
   ]
  },
  {
   "cell_type": "code",
   "execution_count": 2,
   "metadata": {},
   "outputs": [],
   "source": [
    "V0 = 500\n",
    "a = 0.5"
   ]
  },
  {
   "cell_type": "markdown",
   "metadata": {},
   "source": [
    "## Bound state solutions"
   ]
  },
  {
   "cell_type": "markdown",
   "metadata": {},
   "source": [
    "Outside the potential domain solutions have an exponential behaviour:\n",
    "$$\n",
    "\\psi(x) = C_1e^{-\\mu x} \\;\\; x > a \\quad \\psi(x) = C_2e^{\\mu x} \\;\\; x < -a\n",
    "$$\n",
    "and $E=-\\frac{\\mu^2}{2}$. Inside the region of the potential the behavious is oscillatory and it is useful to use the parity symmetry of the potential to separe the solutions in even and odd."
   ]
  },
  {
   "cell_type": "markdown",
   "metadata": {},
   "source": [
    "### Even solutions"
   ]
  },
  {
   "cell_type": "markdown",
   "metadata": {},
   "source": [
    "In this case we have that $\\psi(x) = Acos(kx)$ for $|x|<a$. The matching conditions of the wave functions and its derivative at the junction points impose the conditions $\\mu= k tan(ka)$. We introduce the auxiliary variables $z=ka$ and $z_0 = \\sqrt{2V_0}a^2$ and rewrite the previous condition as (we use the fact that $k^2+\\mu^2 = 2V_0)$:\n",
    "$$\n",
    "\\sqrt{\\left(\\frac{z_0}{z}\\right)^2-1} = tan(z)\n",
    "$$\n",
    "and we solve this equation for $z$ (in the range $(0,z_0]$). Once that the solutions are provided we have:\n",
    "$$\n",
    "k = \\frac{z}{a} \\;\\;, \\mu = \\frac{z}{a}tan(z) \\;\\;, E = -\\frac{1}{2}\\left(\\frac{z}{a}tan(z)\\right)^2\n",
    "$$\n",
    "Furthermore we have $C_1=C_2=C$ and:\n",
    "$$\n",
    "A = \\frac{Ce^{-ztan(z)}}{cos(z)}\n",
    "$$\n",
    "and $C$ is determined by the normalization condition of the wave function."
   ]
  },
  {
   "cell_type": "code",
   "execution_count": 3,
   "metadata": {},
   "outputs": [
    {
     "name": "stdout",
     "output_type": "stream",
     "text": [
      "z0 =  15.811388300841896\n"
     ]
    }
   ],
   "source": [
    "z0 = np.sqrt(2*V0)*a\n",
    "print('z0 = ',z0)"
   ]
  },
  {
   "cell_type": "code",
   "execution_count": 4,
   "metadata": {},
   "outputs": [],
   "source": [
    "z = np.linspace(1e-4,z0,1000)"
   ]
  },
  {
   "cell_type": "code",
   "execution_count": 5,
   "metadata": {},
   "outputs": [
    {
     "data": {
      "image/png": "[encoded data removed]",
      "text/plain": [
       "<matplotlib.figure.Figure at 0x7f090045bcf8>"
      ]
     },
     "metadata": {},
     "output_type": "display_data"
    }
   ],
   "source": [
    "plt.plot(z,np.tan(z))\n",
    "plt.plot(z,np.sqrt((z0/z)**2-1))\n",
    "plt.ylim([0,20])\n",
    "plt.show()"
   ]
  },
  {
   "cell_type": "code",
   "execution_count": 6,
   "metadata": {},
   "outputs": [],
   "source": [
    "f_sym = lambda x: np.tan(x) - np.sqrt((z0/x)**2-1)"
   ]
  },
  {
   "cell_type": "code",
   "execution_count": 7,
   "metadata": {},
   "outputs": [],
   "source": [
    "s = np.sign(f_sym(z))"
   ]
  },
  {
   "cell_type": "code",
   "execution_count": 8,
   "metadata": {},
   "outputs": [],
   "source": [
    "z_zeroes = []\n",
    "for i in range(len(s)-1):\n",
    "    if s[i]+s[i+1] == 0:\n",
    "        zero = optimize.brentq(f_sym, z[i], z[i+1])\n",
    "        z_zeroes.append(zero)\n",
    "# cut the spurious solutions\n",
    "z_zeroes = [z_zeroes[i] for i in range(0,len(z_zeroes),2)]\n",
    "#z_zeroes"
   ]
  },
  {
   "cell_type": "markdown",
   "metadata": {},
   "source": [
    "Bound (even) energy levels:"
   ]
  },
  {
   "cell_type": "code",
   "execution_count": 9,
   "metadata": {},
   "outputs": [
    {
     "name": "stdout",
     "output_type": "stream",
     "text": [
      "Number of bound states =  6\n",
      "E0 =  -495.6355739281896\n",
      "E1 =  -460.7766345332049\n",
      "E2 =  -391.3914606763265\n",
      "E3 =  -288.34801385072495\n",
      "E4 =  -153.91686909426528\n",
      "E5 =  -2.2720098493715524\n"
     ]
    }
   ],
   "source": [
    "Energy_e = [-0.5*(val/a*np.tan(val))**2 for val in z_zeroes]\n",
    "print('Number of bound states = ',len(Energy_e))\n",
    "for i,e in enumerate(Energy_e):\n",
    "    print('E'+str(i)+' = ',e)"
   ]
  },
  {
   "cell_type": "markdown",
   "metadata": {},
   "source": [
    "Calculation of the wave functions"
   ]
  },
  {
   "cell_type": "code",
   "execution_count": 10,
   "metadata": {},
   "outputs": [],
   "source": [
    "k_e = [val/a for val in z_zeroes]\n",
    "mu_e = [val/a*np.tan(val) for val in z_zeroes]\n",
    "C_e = [1 for val in z_zeroes]\n",
    "C_e = []\n",
    "for val in z_zeroes:\n",
    "    num = np.exp(2*val*np.tan(val))\n",
    "    den = a*(1.0/(np.cos(val)**2)+np.sin(val)/(val*np.cos(val))+1.0/(val*np.tan(val)))\n",
    "    C_e.append(np.sqrt(num/den))\n",
    "A_e = [] \n",
    "for i,val in enumerate(z_zeroes):\n",
    "    A_e.append(C_e[i]*np.exp(-val*np.tan(val))/np.cos(val))"
   ]
  },
  {
   "cell_type": "code",
   "execution_count": 11,
   "metadata": {},
   "outputs": [],
   "source": [
    "x = np.linspace(-2*a,2*a,1000)"
   ]
  },
  {
   "cell_type": "code",
   "execution_count": 12,
   "metadata": {},
   "outputs": [],
   "source": [
    "def psi_e(i,x):\n",
    "    out = 0.0\n",
    "    if x <= -a: out = C_e[i]*np.exp(mu_e[i]*x)\n",
    "    if x > -a and x <= a: out =  A_e[i]*np.cos(k_e[i]*x)\n",
    "    if x > a: out = C_e[i]*np.exp(-mu_e[i]*x)\n",
    "    return out"
   ]
  },
  {
   "cell_type": "code",
   "execution_count": 13,
   "metadata": {},
   "outputs": [
    {
     "data": {
      "text/plain": [
       "<matplotlib.lines.Line2D at 0x7f08fdead780>"
      ]
     },
     "execution_count": 13,
     "metadata": {},
     "output_type": "execute_result"
    },
    {
     "data": {
      "image/png": "[encoded data removed]",
      "text/plain": [
       "<matplotlib.figure.Figure at 0x7f08fdf5f2e8>"
      ]
     },
     "metadata": {},
     "output_type": "display_data"
    }
   ],
   "source": [
    "nstate = 2\n",
    "psival = [psi_e(nstate,val) for val in x]\n",
    "plt.plot(x,psival)\n",
    "plt.axvline(x=-a, color='r', linestyle='--')\n",
    "plt.axvline(x=a, color='r', linestyle='--')"
   ]
  },
  {
   "cell_type": "markdown",
   "metadata": {},
   "source": [
    "Numerical check of the normalization of the wavefunction"
   ]
  },
  {
   "cell_type": "code",
   "execution_count": 14,
   "metadata": {},
   "outputs": [
    {
     "name": "stdout",
     "output_type": "stream",
     "text": [
      "1.000000101831613\n"
     ]
    }
   ],
   "source": [
    "inte = 0.0\n",
    "dx = x[1]-x[0]\n",
    "for p in psival:\n",
    "    inte += p**2\n",
    "inte = inte*dx\n",
    "print(inte)"
   ]
  },
  {
   "cell_type": "markdown",
   "metadata": {},
   "source": [
    "## Unbound state solutions"
   ]
  },
  {
   "cell_type": "markdown",
   "metadata": {},
   "source": [
    "We build the unbound solution obtained for $E>0$."
   ]
  },
  {
   "cell_type": "markdown",
   "metadata": {},
   "source": [
    "### Solutions travelling from the left"
   ]
  },
  {
   "cell_type": "markdown",
   "metadata": {},
   "source": [
    "Following Gasiorowicz we build solutions \"from the left\". This means that the wave function is parametrized as follows:\n",
    "$$\n",
    "\\psi(x) = e^{i k x} + R e^{-ikx} \\;\\;, x < -a \\\\\n",
    "\\psi(x) = A e^{i q x} + B e^{-i q x} \\;\\;, -a< x < a \\\\\n",
    "\\psi(x) = T e^{i k x} \\;\\;, x > a\n",
    "$$\n",
    "The Schroedinger equation imposes that:\n",
    "$$\n",
    "\\frac{k^2}{2} = E = \\frac{q^2}{2} - V_0\n",
    "$$\n",
    "We can parametrize the solution in function of $E$ so that:\n",
    "$$\n",
    "k = \\sqrt{2E} \\;\\;, \\quad q = \\sqrt{2(E+V_0)} \n",
    "$$"
   ]
  },
  {
   "cell_type": "markdown",
   "metadata": {},
   "source": [
    "We propose a solution based on the numerical analysis of the matching of wave function and its derivative:\n",
    "$$\n",
    "-e^{ika}R+0+e^{-iqa}A+e^{iqa}B = -e^{ika} \\\\\n",
    "ik e^{ika}R+0+iqe^{-iqa}A-iqe^{iqa}B = ike^{-ika} \\\\\n",
    "0-e^{ika}T+e^{iqa}A+e^{-iqa}B = 0 \\\\\n",
    "0+ike^{ika}T-iqe^{iqa}A+iqe^{-iqa}B = 0\n",
    "$$\n",
    "We write this system of equation as $M(E)*C(E) = b(E)$ where C(E) is the column array $[R,T,A,B]$"
   ]
  },
  {
   "cell_type": "code",
   "execution_count": 17,
   "metadata": {},
   "outputs": [],
   "source": [
    "def k(E): return np.sqrt(2*E)\n",
    "\n",
    "def q(E): return np.sqrt(2*(E+V0))\n",
    "\n",
    "def M(E):\n",
    "    ek = np.exp(1j*k(E)*a)\n",
    "    eq = np.exp(1j*q(E)*a)\n",
    "    M = np.array([[-ek,0,1.0/eq,eq],[1j*k(E)*ek,0,1j*q(E)/eq,-1j*q(E)*eq],[0,ek,-eq,-1.0/eq],[0,1j*k(E)*ek,-1j*q(E)*eq,1j*q(E)/eq]])\n",
    "    return M\n",
    "\n",
    "def b(E):\n",
    "    ek = np.exp(1j*k(E)*a)\n",
    "    eq = np.exp(1j*q(E)*a)\n",
    "    return np.array([1.0/ek,1j*k(E)/ek,0,0])\n",
    "\n",
    "def psi_uL(E,C,x):\n",
    "    out = 0.0\n",
    "    if x <= -a: out = np.exp(1j*k(E)*x)+C[0]*np.exp(-1j*k(E)*x)\n",
    "    if x > -a and x <= a: out =  C[2]*np.exp(1j*q(E)*x)+C[3]*np.exp(-1j*q(E)*x)\n",
    "    if x > a: out = C[1]*np.exp(1j*k(E)*x)\n",
    "    return out"
   ]
  },
  {
   "cell_type": "code",
   "execution_count": 18,
   "metadata": {},
   "outputs": [
    {
     "name": "stdout",
     "output_type": "stream",
     "text": [
      "True\n",
      "|R(E)|^2 = 0.5941488434418412\n",
      "|T(E)|^2 = 0.40585115655815884\n",
      " sum = 1.0\n"
     ]
    },
    {
     "data": {
      "text/plain": [
       "<matplotlib.lines.Line2D at 0x7f341da60d30>"
      ]
     },
     "execution_count": 18,
     "metadata": {},
     "output_type": "execute_result"
    },
    {
     "data": {
      "image/png": "[encoded data removed]",
      "text/plain": [
       "<matplotlib.figure.Figure at 0x7f341da75be0>"
      ]
     },
     "metadata": {},
     "output_type": "display_data"
    }
   ],
   "source": [
    "E = 60\n",
    "C = np.linalg.solve(M(E), b(E))\n",
    "print(np.allclose(np.dot(M(E), C), b(E)))\n",
    "print('|R(E)|^2 =', np.absolute(C[0])**2)\n",
    "print('|T(E)|^2 =', np.absolute(C[1])**2)\n",
    "print(' sum =', np.absolute(C[1])**2+np.absolute(C[0])**2)\n",
    "x = np.linspace(-3*a,3*a,1000)\n",
    "#psival = [np.absolute(psi_uL(E,C,val)) for val in x]\n",
    "psival = [psi_uL(E,C,val).real for val in x]\n",
    "plt.plot(x,psival)\n",
    "plt.axvline(x=-a, color='r', linestyle='--')\n",
    "plt.axvline(x=a, color='r', linestyle='--')"
   ]
  },
  {
   "cell_type": "markdown",
   "metadata": {},
   "source": [
    "We can sum a left and right solution:"
   ]
  },
  {
   "cell_type": "code",
   "execution_count": 19,
   "metadata": {},
   "outputs": [],
   "source": [
    "def psi_uLR(E,C,x):\n",
    "    out = 0.0\n",
    "    if x <= -a: out = np.exp(1j*k(E)*x)+(C[0]+C[1])*np.exp(-1j*k(E)*x)\n",
    "    if x > -a and x <= a: out =  (C[2]+C[3])*2.0*np.cos(q(E)*x)\n",
    "    if x > a: out = np.exp(-1j*k(E)*x)+(C[0]+C[1])*np.exp(1j*k(E)*x)\n",
    "    return out"
   ]
  },
  {
   "cell_type": "code",
   "execution_count": 20,
   "metadata": {},
   "outputs": [
    {
     "name": "stdout",
     "output_type": "stream",
     "text": [
      "True\n"
     ]
    },
    {
     "data": {
      "text/plain": [
       "<matplotlib.lines.Line2D at 0x7f341d9c4be0>"
      ]
     },
     "execution_count": 20,
     "metadata": {},
     "output_type": "execute_result"
    },
    {
     "data": {
      "image/png": "[encoded data removed]",
      "text/plain": [
       "<matplotlib.figure.Figure at 0x7f341da68940>"
      ]
     },
     "metadata": {},
     "output_type": "display_data"
    }
   ],
   "source": [
    "E = 60\n",
    "C = np.linalg.solve(M(E), b(E))\n",
    "print(np.allclose(np.dot(M(E), C), b(E)))\n",
    "x = np.linspace(-3*a,3*a,1000)\n",
    "#psivalLR = [np.absolute(psi_uLR(E,C,val)) for val in x]\n",
    "psivalLR = [psi_uLR(E,C,val).real for val in x]\n",
    "plt.plot(x,psivalLR)\n",
    "plt.axvline(x=-a, color='r', linestyle='--')\n",
    "plt.axvline(x=a, color='r', linestyle='--')"
   ]
  },
  {
   "cell_type": "code",
   "execution_count": 21,
   "metadata": {},
   "outputs": [
    {
     "name": "stdout",
     "output_type": "stream",
     "text": [
      "(-0.343978169696477-0.9389776455125336j) (0.43019423860357253-0.6157459319458113j)\n"
     ]
    }
   ],
   "source": [
    "print(C[0]+C[1],(C[2]+C[3])*2.0)"
   ]
  },
  {
   "cell_type": "markdown",
   "metadata": {},
   "source": [
    "### Even solution"
   ]
  },
  {
   "cell_type": "markdown",
   "metadata": {},
   "source": [
    "We directly build a symmetric solution (that however is always complex!). We look for a solution of the form: \n",
    "$$\n",
    "\\psi(x) = e^{i k x} + A e^{-ikx} \\;\\;, x < -a \\\\\n",
    "\\psi(x) = B cos(q x) \\;\\;, -a< x < a \\\\\n",
    "\\psi(x) = e^{-i k x} + A e^{ikx} \\;\\;, x > a\n",
    "$$\n",
    "We write the equations of the boundary conditions. The four equations are equal in pairs and so we obtain two equations for A and B:\n",
    "$$\n",
    "-e^{ika}A+cos(qa)B = e^{-ika} \\\\\n",
    "ike^{ika}A+Bsin(qa) = ike^{-ika}\n",
    "$$\n",
    "The two equations can be solved analitically:\n",
    "$$\n",
    "A = \\frac{e^{-2ika}(ik-tan(qa))}{ik+tan(qa)} \\\\\n",
    "B = \\frac{e^{-ika}+Ae^{ika}}{cos(qa)}\n",
    "$$"
   ]
  },
  {
   "cell_type": "code",
   "execution_count": 22,
   "metadata": {},
   "outputs": [],
   "source": [
    "def k(E): return np.sqrt(2*E)\n",
    "\n",
    "def q(E): return np.sqrt(2*(E+V0))\n",
    "\n",
    "def A(E):\n",
    "    ek = np.exp(1j*k(E)*a)\n",
    "    eq = np.exp(1j*q(E)*a)\n",
    "    return 1.0/ek**2*(1j*k(E)-np.tan(q(E)*a))/(1j*k(E)+np.tan(q(E)*a))\n",
    "\n",
    "def B(E):\n",
    "    ek = np.exp(1j*k(E)*a)\n",
    "    eq = np.exp(1j*q(E)*a)\n",
    "    return (1.0/ek + A(E)*ek)/np.cos(q(E)*a)\n",
    "\n",
    "def C(E): return np.array([A(E),B(E)])\n",
    "\n",
    "def psi_ue(E,CC,x):\n",
    "    out = 0.0\n",
    "    if x <= -a: out = np.exp(1j*k(E)*x)+CC[0]*np.exp(-1j*k(E)*x)\n",
    "    if x > -a and x <= a: out =  CC[1]*np.cos(q(E)*x)\n",
    "    if x > a: out = np.exp(-1j*k(E)*x)+CC[0]*np.exp(1j*k(E)*x)\n",
    "    return out"
   ]
  },
  {
   "cell_type": "code",
   "execution_count": 23,
   "metadata": {},
   "outputs": [
    {
     "name": "stdout",
     "output_type": "stream",
     "text": [
      "True\n",
      "True\n"
     ]
    }
   ],
   "source": [
    "# Check the solution\n",
    "E = 60\n",
    "CC = C(E)\n",
    "print(np.allclose(-np.exp(1j*k(E)*a)*CC[0]+np.cos(q(E)*a)*CC[1],np.exp(-1j*k(E)*a)))\n",
    "print(np.allclose(1j*k(E)*np.exp(1j*k(E)*a)*CC[0]+np.sin(q(E)*a)*CC[1],1j*k(E)*np.exp(-1j*k(E)*a)))"
   ]
  },
  {
   "cell_type": "code",
   "execution_count": 24,
   "metadata": {},
   "outputs": [
    {
     "data": {
      "text/plain": [
       "<matplotlib.lines.Line2D at 0x7f341d9a6e48>"
      ]
     },
     "execution_count": 24,
     "metadata": {},
     "output_type": "execute_result"
    },
    {
     "data": {
      "image/png": "[encoded data removed]",
      "text/plain": [
       "<matplotlib.figure.Figure at 0x7f341da68cc0>"
      ]
     },
     "metadata": {},
     "output_type": "display_data"
    }
   ],
   "source": [
    "E = 60\n",
    "CC = C(E)\n",
    "x = np.linspace(-3*a,3*a,1000)\n",
    "#psivalLR = [np.absolute(psi_ue(E,CC,val)) for val in x]\n",
    "psival = [psi_ue(E,CC,val).real for val in x]\n",
    "plt.plot(x,psival)\n",
    "plt.axvline(x=-a, color='r', linestyle='--')\n",
    "plt.axvline(x=a, color='r', linestyle='--')"
   ]
  },
  {
   "cell_type": "code",
   "execution_count": 25,
   "metadata": {},
   "outputs": [
    {
     "data": {
      "text/plain": [
       "array([-0.33316788+0.94286752j, -2.20082986-3.1118642 j])"
      ]
     },
     "execution_count": 25,
     "metadata": {},
     "output_type": "execute_result"
    }
   ],
   "source": [
    "CC"
   ]
  },
  {
   "cell_type": "code",
   "execution_count": 26,
   "metadata": {},
   "outputs": [],
   "source": [
    "def M(E):\n",
    "    ek = np.exp(1j*k(E)*a)\n",
    "    eq = np.exp(1j*q(E)*a)\n",
    "    M = np.array([[-ek,np.cos(q(E)*a)],[1j*k(E)*ek,np.sin(q(E)*a)]])\n",
    "    return M\n",
    "\n",
    "def b(E):\n",
    "    ek = np.exp(1j*k(E)*a)\n",
    "    eq = np.exp(1j*q(E)*a)\n",
    "    return np.array([1.0/ek,1j*k(E)/ek])"
   ]
  },
  {
   "cell_type": "code",
   "execution_count": 27,
   "metadata": {},
   "outputs": [
    {
     "name": "stdout",
     "output_type": "stream",
     "text": [
      "[-0.33316788+0.94286752j -2.20082986-3.1118642 j]\n",
      "True\n",
      "True\n"
     ]
    }
   ],
   "source": [
    "E = 60\n",
    "CC = np.linalg.solve(M(E), b(E))\n",
    "print(CC)\n",
    "# Check the solution\n",
    "print(np.allclose(-np.exp(1j*k(E)*a)*CC[0]+np.cos(q(E)*a)*CC[1],np.exp(-1j*k(E)*a)))\n",
    "print(np.allclose(1j*k(E)*np.exp(1j*k(E)*a)*CC[0]+np.sin(q(E)*a)*CC[1],1j*k(E)*np.exp(-1j*k(E)*a)))"
   ]
  },
  {
   "cell_type": "markdown",
   "metadata": {},
   "source": [
    " qualcosa non torna ma non capisco cosa...."
   ]
  },
  {
   "cell_type": "code",
   "execution_count": null,
   "metadata": {},
   "outputs": [],
   "source": []
  },
  {
   "cell_type": "code",
   "execution_count": null,
   "metadata": {},
   "outputs": [],
   "source": []
  },
  {
   "cell_type": "code",
   "execution_count": null,
   "metadata": {},
   "outputs": [],
   "source": []
  },
  {
   "cell_type": "code",
   "execution_count": null,
   "metadata": {},
   "outputs": [],
   "source": []
  },
  {
   "cell_type": "code",
   "execution_count": null,
   "metadata": {},
   "outputs": [],
   "source": []
  },
  {
   "cell_type": "code",
   "execution_count": null,
   "metadata": {},
   "outputs": [],
   "source": []
  },
  {
   "cell_type": "code",
   "execution_count": null,
   "metadata": {},
   "outputs": [],
   "source": []
  },
  {
   "cell_type": "code",
   "execution_count": null,
   "metadata": {},
   "outputs": [],
   "source": []
  },
  {
   "cell_type": "code",
   "execution_count": null,
   "metadata": {},
   "outputs": [],
   "source": []
  },
  {
   "cell_type": "code",
   "execution_count": 26,
   "metadata": {},
   "outputs": [],
   "source": [
    "#################################################################################################"
   ]
  },
  {
   "cell_type": "markdown",
   "metadata": {},
   "source": [
    "### Even solutions"
   ]
  },
  {
   "cell_type": "markdown",
   "metadata": {},
   "source": [
    "We look for solutions of the form:\n",
    "$$\n",
    "\\psi(x) = A cos(qx) \\;\\; |x| > a \\;,\\quad \\psi(x) = B cos(kx) \\;\\; |x| < a\n",
    "$$\n",
    "The Schroedinger equation imposes that:\n",
    "$$\n",
    "\\frac{q^2}{2} = E = \\frac{k^2}{2} - V_0\n",
    "$$\n",
    "We can parametrize the solution in function of $E$ so that:\n",
    "$$\n",
    "q = \\sqrt{2E} \\;\\;, \\quad k = \\sqrt{2(E+V_0)} \n",
    "$$"
   ]
  },
  {
   "cell_type": "markdown",
   "metadata": {},
   "source": [
    "The matching conditions of the wave functions and its derivative at the junction points impose that:\n",
    "$$\n",
    "B = A \\frac{cos(qa)}{cos(ka)} \\;\\;, \\quad q tan(qa) = k tan(ka)\n",
    "$$"
   ]
  },
  {
   "cell_type": "code",
   "execution_count": 27,
   "metadata": {},
   "outputs": [],
   "source": [
    "# A = 1\n",
    "def q(E): return np.sqrt(2*E)\n",
    "\n",
    "def k(E): return np.sqrt(2*(E+V0))\n",
    "\n",
    "def B(E): return np.cos(q(E)*a)/np.cos(k(E)*a)\n",
    "\n",
    "def psi_ue(E,x):\n",
    "    out = 0.0\n",
    "    if x <= -a: out = np.cos(q(E)*x)\n",
    "    if x > -a and x <= a: out =  B(E)*np.cos(k(E)*x)\n",
    "    if x > a: out = np.cos(q(E)*x)\n",
    "    return out"
   ]
  },
  {
   "cell_type": "code",
   "execution_count": 28,
   "metadata": {},
   "outputs": [
    {
     "data": {
      "text/plain": [
       "0.15594369476537437"
      ]
     },
     "execution_count": 28,
     "metadata": {},
     "output_type": "execute_result"
    }
   ],
   "source": [
    "psi_ue(1,1)"
   ]
  },
  {
   "cell_type": "code",
   "execution_count": 29,
   "metadata": {
    "scrolled": true
   },
   "outputs": [
    {
     "data": {
      "text/plain": [
       "<matplotlib.lines.Line2D at 0x7f08fdce5e80>"
      ]
     },
     "execution_count": 29,
     "metadata": {},
     "output_type": "execute_result"
    },
    {
     "data": {
      "image/png": "[encoded data removed]",
      "text/plain": [
       "<matplotlib.figure.Figure at 0x7f08fde33fd0>"
      ]
     },
     "metadata": {},
     "output_type": "display_data"
    }
   ],
   "source": [
    "Eval = 50\n",
    "x = np.linspace(-3*a,3*a,1000)\n",
    "psival = [psi_ue(Eval,val) for val in x]\n",
    "plt.plot(x,psival)\n",
    "plt.axvline(x=-a, color='r', linestyle='--')\n",
    "plt.axvline(x=a, color='r', linestyle='--')"
   ]
  },
  {
   "cell_type": "markdown",
   "metadata": {},
   "source": [
    "There is a problem with the continuity of the derivative....maybe it is not meaningfull to look for real wave function in this case...."
   ]
  },
  {
   "cell_type": "code",
   "execution_count": null,
   "metadata": {},
   "outputs": [],
   "source": []
  },
  {
   "cell_type": "markdown",
   "metadata": {},
   "source": [
    "Solutions are parametrized in function of the energy so that:\n",
    "$$\n",
    "k = \\sqrt{2E} \\;, \\quad q = \\sqrt{2(E+V_0)}\n",
    "$$\n",
    "The reflection and transimission coefficients are expressed as:\n",
    "$$\n",
    "R = i e^{-2ika} \\frac{(q^2-k^2)sin(2qa)}{2kq cos(2qa) - i(q^2+k^2)sin(2qa)} \\\\\n",
    "T = e^{-2ika} \\frac{2kq}{2kq cos(2qa) - i(q^2+k^2)sin(2qa)}\n",
    "$$\n",
    "and the A,B coefficients are given by:\n",
    "$$\n",
    "A = \\frac{e^{-ika} + R e^{ika} - T e^{ia(2q+k)}}{e^{-iqa}-e^{3iqa}} \\\\\n",
    "B = \\frac{T e^{ika} - Ae^{iqa}}{e^{-iqa}}\n",
    "$$\n"
   ]
  },
  {
   "cell_type": "code",
   "execution_count": null,
   "metadata": {},
   "outputs": [],
   "source": []
  },
  {
   "cell_type": "code",
   "execution_count": 30,
   "metadata": {},
   "outputs": [],
   "source": [
    "def k(E): return np.sqrt(2*E)\n",
    "\n",
    "def q(E): return np.sqrt(2*(E+V0))\n",
    "\n",
    "def R(E): \n",
    "    num = 1j*np.exp(2j*k(E)*a)*(q(E)**2-k(E)**2)*np.sin(2*q(E)*a)\n",
    "    den = 2*k(E)*q(E)*np.cos(2*q(E)*a)-1j*(q(E)**2+k(E)**2)*np.sin(2*q(E)*a)\n",
    "    return num / den\n",
    "\n",
    "def T(E): \n",
    "    num = np.exp(-2j*k(E)*a)*2*k(E)*q(E)\n",
    "    den = 2*k(E)*q(E)*np.cos(2*q(E)*a)-1j*(q(E)**2+k(E)**2)*np.sin(2*q(E)*a)\n",
    "    return num / den\n",
    "\n",
    "def A(E):\n",
    "    num = np.exp(-1j*k(E)*a)+R(E)*np.exp(1j*k(E)*a)-T(E)*np.exp(1j*(2*q(E)+k(E))*a)\n",
    "    den = np.exp(-1j*q(E)*a)-np.exp(3j*q(E)*a)\n",
    "    return num / den\n",
    "\n",
    "def B(E):\n",
    "    num = T(E)*np.exp(1j*k(E)*a)-A(E)*np.exp(1j*q(E)*a)\n",
    "    den = np.exp(-1j*q(E)*a)\n",
    "    return num / den\n",
    "\n",
    "def psi_uL(E,x):\n",
    "    out = 0.0\n",
    "    if x <= -a: out = np.exp(1j*k(E)*x)+R(E)*np.exp(-1j*k(E)*x)\n",
    "    if x > -a and x <= a: out =  A(E)*np.exp(1j*q(E)*x)+B(E)*np.exp(-1j*q(E)*x)\n",
    "    if x > a: out = T(E)*np.exp(1j*k(E)*x)\n",
    "    return out"
   ]
  },
  {
   "cell_type": "code",
   "execution_count": 31,
   "metadata": {},
   "outputs": [
    {
     "name": "stdout",
     "output_type": "stream",
     "text": [
      "|R(E)|^2 = 0.5941488434418415\n",
      "|T(E)|^2 = 0.4058511565581587\n"
     ]
    },
    {
     "data": {
      "text/plain": [
       "<matplotlib.lines.Line2D at 0x7f08fdcdeda0>"
      ]
     },
     "execution_count": 31,
     "metadata": {},
     "output_type": "execute_result"
    },
    {
     "data": {
      "image/png": "[encoded data removed]",
      "text/plain": [
       "<matplotlib.figure.Figure at 0x7f08fdd2ab00>"
      ]
     },
     "metadata": {},
     "output_type": "display_data"
    }
   ],
   "source": [
    "Eval = 60\n",
    "print('|R(E)|^2 =', np.absolute(R(E))**2)\n",
    "print('|T(E)|^2 =', np.absolute(T(E))**2)\n",
    "x = np.linspace(-3*a,3*a,1000)\n",
    "#psival = [np.absolute(psi_uL(Eval,val)) for val in x]\n",
    "psival = [psi_uL(Eval,val).real for val in x]\n",
    "plt.plot(x,psival)\n",
    "plt.axvline(x=-a, color='r', linestyle='--')\n",
    "plt.axvline(x=a, color='r', linestyle='--')"
   ]
  },
  {
   "cell_type": "code",
   "execution_count": 32,
   "metadata": {},
   "outputs": [
    {
     "name": "stdout",
     "output_type": "stream",
     "text": [
      "(-1.9984014443252818e-15+1.4432899320127035e-15j) (-1.6174959732524083-10.40490739669659j)\n"
     ]
    }
   ],
   "source": [
    "E = 50\n",
    "eq1 = np.exp(-1j*k(E)*a)+R(E)*np.exp(1j*k(E)*a)-(A(E)*np.exp(-1j*q(E)*a)+B(E)*np.exp(1j*q(E)*a))\n",
    "eq2 = 1j*k(E)*(np.exp(-1j*k(E)*a)-R(E)*np.exp(1j*k(E)*a))-1j*q(E)*(A(E)*np.exp(-1j*q(E)*a)-B(E)*np.exp(1j*q(E)*a))\n",
    "print(eq1,eq2)"
   ]
  },
  {
   "cell_type": "markdown",
   "metadata": {},
   "source": [
    "We propose a solution based on the numerical analysis of the matching of wave function and its derivative:\n",
    "$$\n",
    "-e^{ika}R+0+e^{-iqa}A+e^{iqa}B = -e^{ika} \\\\\n",
    "ik e^{ika}R+0+iqe^{-iqa}A-iqe^{iqa}B = ike^{-ika} \\\\\n",
    "0-e^{ika}T+e^{iqa}A+e^{-iqa}B = 0 \\\\\n",
    "0+ike^{ika}T-iqe^{iqa}A+iqe^{-iqa}B = 0\n",
    "$$\n",
    "We write this system of equation as $M(E)*C(E) = b(E)$ where C(E) is the column array $[R,T,A,B]$"
   ]
  },
  {
   "cell_type": "code",
   "execution_count": 33,
   "metadata": {},
   "outputs": [],
   "source": [
    "def k(E): return np.sqrt(2*E)\n",
    "\n",
    "def q(E): return np.sqrt(2*(E+V0))\n",
    "\n",
    "def M(E):\n",
    "    ek = np.exp(1j*k(E)*a)\n",
    "    eq = np.exp(1j*q(E)*a)\n",
    "    M = np.array([[-ek,0,1.0/eq,eq],[1j*k(E)*ek,0,1j*q(E)/eq,-1j*q(E)*eq],[0,ek,-eq,-1.0/eq],[0,1j*k(E)*ek,-1j*q(E)*eq,1j*q(E)/eq]])\n",
    "    return M\n",
    "\n",
    "def b(E):\n",
    "    ek = np.exp(1j*k(E)*a)\n",
    "    eq = np.exp(1j*q(E)*a)\n",
    "    return np.array([1.0/ek,1j*k(E)/ek,0,0])\n",
    "\n",
    "def psi_uL(E,C,x):\n",
    "    out = 0.0\n",
    "    if x <= -a: out = np.exp(1j*k(E)*x)+C[0]*np.exp(-1j*k(E)*x)\n",
    "    if x > -a and x <= a: out =  C[2]*np.exp(1j*q(E)*x)+C[3]*np.exp(-1j*q(E)*x)\n",
    "    if x > a: out = C[1]*np.exp(1j*k(E)*x)\n",
    "    return out"
   ]
  },
  {
   "cell_type": "code",
   "execution_count": 34,
   "metadata": {},
   "outputs": [
    {
     "name": "stdout",
     "output_type": "stream",
     "text": [
      "True\n",
      "|R(E)|^2 = 0.5941488434418412\n",
      "|T(E)|^2 = 0.40585115655815884\n",
      " sum = 1.0\n"
     ]
    },
    {
     "data": {
      "text/plain": [
       "<matplotlib.lines.Line2D at 0x7f08fdc4b4a8>"
      ]
     },
     "execution_count": 34,
     "metadata": {},
     "output_type": "execute_result"
    },
    {
     "data": {
      "image/png": "[encoded data removed]",
      "text/plain": [
       "<matplotlib.figure.Figure at 0x7f08fdc76748>"
      ]
     },
     "metadata": {},
     "output_type": "display_data"
    }
   ],
   "source": [
    "E = 60\n",
    "C = np.linalg.solve(M(E), b(E))\n",
    "print(np.allclose(np.dot(M(E), C), b(E)))\n",
    "print('|R(E)|^2 =', np.absolute(C[0])**2)\n",
    "print('|T(E)|^2 =', np.absolute(C[1])**2)\n",
    "print(' sum =', np.absolute(C[1])**2+np.absolute(C[0])**2)\n",
    "x = np.linspace(-3*a,3*a,1000)\n",
    "#psival = [np.absolute(psi_uL(E,C,val)) for val in x]\n",
    "psival = [psi_uL(E,C,val).real for val in x]\n",
    "plt.plot(x,psival)\n",
    "plt.axvline(x=-a, color='r', linestyle='--')\n",
    "plt.axvline(x=a, color='r', linestyle='--')"
   ]
  },
  {
   "cell_type": "code",
   "execution_count": null,
   "metadata": {},
   "outputs": [],
   "source": []
  },
  {
   "cell_type": "code",
   "execution_count": null,
   "metadata": {},
   "outputs": [],
   "source": []
  },
  {
   "cell_type": "code",
   "execution_count": null,
   "metadata": {},
   "outputs": [],
   "source": []
  },
  {
   "cell_type": "code",
   "execution_count": null,
   "metadata": {},
   "outputs": [],
   "source": []
  },
  {
   "cell_type": "code",
   "execution_count": null,
   "metadata": {},
   "outputs": [],
   "source": []
  },
  {
   "cell_type": "code",
   "execution_count": null,
   "metadata": {},
   "outputs": [],
   "source": []
  },
  {
   "cell_type": "code",
   "execution_count": null,
   "metadata": {},
   "outputs": [],
   "source": []
  },
  {
   "cell_type": "code",
   "execution_count": null,
   "metadata": {},
   "outputs": [],
   "source": []
  },
  {
   "cell_type": "code",
   "execution_count": null,
   "metadata": {},
   "outputs": [],
   "source": []
  },
  {
   "cell_type": "code",
   "execution_count": null,
   "metadata": {},
   "outputs": [],
   "source": []
  },
  {
   "cell_type": "code",
   "execution_count": null,
   "metadata": {},
   "outputs": [],
   "source": []
  },
  {
   "cell_type": "code",
   "execution_count": null,
   "metadata": {},
   "outputs": [],
   "source": []
  },
  {
   "cell_type": "code",
   "execution_count": null,
   "metadata": {},
   "outputs": [],
   "source": []
  },
  {
   "cell_type": "code",
   "execution_count": 35,
   "metadata": {},
   "outputs": [],
   "source": [
    "from sympy import *"
   ]
  },
  {
   "cell_type": "code",
   "execution_count": 36,
   "metadata": {},
   "outputs": [],
   "source": [
    "x = Symbol('x')\n",
    "a = Symbol('a')\n",
    "k = Symbol('k')"
   ]
  },
  {
   "cell_type": "code",
   "execution_count": 37,
   "metadata": {},
   "outputs": [],
   "source": [
    "y = cos(x)**2"
   ]
  },
  {
   "cell_type": "code",
   "execution_count": 38,
   "metadata": {},
   "outputs": [
    {
     "data": {
      "text/plain": [
       "x/2 + sin(x)*cos(x)/2"
      ]
     },
     "execution_count": 38,
     "metadata": {},
     "output_type": "execute_result"
    }
   ],
   "source": [
    "integrate(y,x)"
   ]
  },
  {
   "cell_type": "code",
   "execution_count": null,
   "metadata": {},
   "outputs": [],
   "source": []
  },
  {
   "cell_type": "code",
   "execution_count": null,
   "metadata": {},
   "outputs": [],
   "source": []
  }
 ],
 "metadata": {
  "kernelspec": {
   "display_name": "Python 3",
   "language": "python",
   "name": "python3"
  },
  "language_info": {
   "codemirror_mode": {
    "name": "ipython",
    "version": 3
   },
   "file_extension": ".py",
   "mimetype": "text/x-python",
   "name": "python",
   "nbconvert_exporter": "python",
   "pygments_lexer": "ipython3",
   "version": "3.6.3"
  }
 },
 "nbformat": 4,
 "nbformat_minor": 2
}
