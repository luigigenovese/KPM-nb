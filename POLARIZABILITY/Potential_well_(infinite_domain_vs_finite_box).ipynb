{
 "cells": [
  {
   "cell_type": "code",
   "execution_count": 83,
   "metadata": {},
   "outputs": [],
   "source": [
    "import matplotlib.pyplot as plt\n",
    "import numpy as np\n",
    "from scipy import optimize"
   ]
  },
  {
   "cell_type": "markdown",
   "metadata": {},
   "source": [
    "We study the energy eigenvalues and eigenstates of a potential well of width $2a$ and depth $V_0$ simmetrically placed around the origin. We compare the results in two cases:\n",
    "* Infinite domain\n",
    "* System placed in a box of width $2L$"
   ]
  },
  {
   "cell_type": "markdown",
   "metadata": {},
   "source": [
    "# Solution in the infinite domain"
   ]
  },
  {
   "cell_type": "markdown",
   "metadata": {},
   "source": [
    "In this case the system has both bound and unbound solutions. We mainly follow the notation of the book of Gasiorowicz."
   ]
  },
  {
   "cell_type": "code",
   "execution_count": 84,
   "metadata": {},
   "outputs": [],
   "source": [
    "V0 = 500\n",
    "a = 0.5"
   ]
  },
  {
   "cell_type": "markdown",
   "metadata": {},
   "source": [
    "## Bound state solutions"
   ]
  },
  {
   "cell_type": "markdown",
   "metadata": {},
   "source": [
    "Outside the potential domain solutions have an exponential behaviour:\n",
    "$$\n",
    "\\psi(x) = C_1e^{-\\mu x} \\;\\; x > a \\quad \\psi(x) = C_2e^{\\mu x} \\;\\; x < -a\n",
    "$$\n",
    "and $E=-\\frac{\\mu^2}{2}$. Inside the region of the potential the behavious is oscillatory and it is useful to use the parity symmetry of the potential to separe the solutions in even and odd."
   ]
  },
  {
   "cell_type": "markdown",
   "metadata": {},
   "source": [
    "### Even solutions"
   ]
  },
  {
   "cell_type": "markdown",
   "metadata": {},
   "source": [
    "In this case we have that $\\psi(x) = Acos(kx)$ for $|x|<a$. The matching conditions of the wave functions and its derivative at the junction points impose the conditions $\\mu= k tan(ka)$. We introduce the auxiliary variables $z=ka$ and $z_0 = \\sqrt{2V_0}a^2$ and rewrite the previous condition as (we use the fact that $k^2+\\mu^2 = 2V_0)$:\n",
    "$$\n",
    "\\sqrt{\\left(\\frac{z_0}{z}\\right)^2-1} = tan(z)\n",
    "$$\n",
    "and we solve this equation for $z$ (in the range $(0,z_0]$). Once that the solutions are provided we have:\n",
    "$$\n",
    "k = \\frac{z}{a} \\;\\;, \\mu = \\frac{z}{a}tan(z) \\;\\;, E = -\\frac{1}{2}\\left(\\frac{z}{a}tan(z)\\right)^2\n",
    "$$\n",
    "Furthermore we have $C_1=C_2=C$ and:\n",
    "$$\n",
    "A = \\frac{Ce^{-ztan(z)}}{cos(z)}\n",
    "$$\n",
    "and $C$ is determined by the normalization condition of the wave function."
   ]
  },
  {
   "cell_type": "code",
   "execution_count": 85,
   "metadata": {},
   "outputs": [
    {
     "name": "stdout",
     "output_type": "stream",
     "text": [
      "z0 =  15.811388300841896\n"
     ]
    }
   ],
   "source": [
    "z0 = np.sqrt(2*V0)*a\n",
    "print('z0 = ',z0)"
   ]
  },
  {
   "cell_type": "code",
   "execution_count": 86,
   "metadata": {},
   "outputs": [],
   "source": [
    "z = np.linspace(1e-4,z0,1000)"
   ]
  },
  {
   "cell_type": "code",
   "execution_count": 87,
   "metadata": {},
   "outputs": [
    {
     "data": {
      "image/png": "[encoded data removed]",
      "text/plain": [
       "<matplotlib.figure.Figure at 0x7fda0c7403c8>"
      ]
     },
     "metadata": {},
     "output_type": "display_data"
    }
   ],
   "source": [
    "plt.plot(z,np.tan(z))\n",
    "plt.plot(z,np.sqrt((z0/z)**2-1))\n",
    "plt.ylim([0,20])\n",
    "plt.show()"
   ]
  },
  {
   "cell_type": "code",
   "execution_count": 88,
   "metadata": {},
   "outputs": [],
   "source": [
    "f_sym = lambda x: np.tan(x) - np.sqrt((z0/x)**2-1)"
   ]
  },
  {
   "cell_type": "code",
   "execution_count": 89,
   "metadata": {},
   "outputs": [],
   "source": [
    "s = np.sign(f_sym(z))"
   ]
  },
  {
   "cell_type": "code",
   "execution_count": 90,
   "metadata": {},
   "outputs": [],
   "source": [
    "z_zeroes = []\n",
    "for i in range(len(s)-1):\n",
    "    if s[i]+s[i+1] == 0:\n",
    "        zero = optimize.brentq(f_sym, z[i], z[i+1])\n",
    "        z_zeroes.append(zero)\n",
    "# cut the spurious solutions\n",
    "z_zeroes = [z_zeroes[i] for i in range(0,len(z_zeroes),2)]\n",
    "#z_zeroes"
   ]
  },
  {
   "cell_type": "markdown",
   "metadata": {},
   "source": [
    "Bound (even) energy levels:"
   ]
  },
  {
   "cell_type": "code",
   "execution_count": 91,
   "metadata": {},
   "outputs": [
    {
     "name": "stdout",
     "output_type": "stream",
     "text": [
      "Number of bound states =  6\n",
      "E0 =  -495.6355739281896\n",
      "E1 =  -460.7766345332049\n",
      "E2 =  -391.3914606763265\n",
      "E3 =  -288.34801385072495\n",
      "E4 =  -153.91686909426528\n",
      "E5 =  -2.2720098493715524\n"
     ]
    }
   ],
   "source": [
    "Energy_eID = [-0.5*(val/a*np.tan(val))**2 for val in z_zeroes]\n",
    "print('Number of bound states = ',len(Energy_eID))\n",
    "for i,e in enumerate(Energy_eID):\n",
    "    print('E'+str(i)+' = ',e)"
   ]
  },
  {
   "cell_type": "markdown",
   "metadata": {},
   "source": [
    "Calculation of the wave functions"
   ]
  },
  {
   "cell_type": "code",
   "execution_count": 10,
   "metadata": {},
   "outputs": [],
   "source": [
    "k_e = [val/a for val in z_zeroes]\n",
    "mu_e = [val/a*np.tan(val) for val in z_zeroes]\n",
    "C_e = [1 for val in z_zeroes]\n",
    "C_e = []\n",
    "for val in z_zeroes:\n",
    "    num = np.exp(2*val*np.tan(val))\n",
    "    den = a*(1.0/(np.cos(val)**2)+np.sin(val)/(val*np.cos(val))+1.0/(val*np.tan(val)))\n",
    "    C_e.append(np.sqrt(num/den))\n",
    "A_e = [] \n",
    "for i,val in enumerate(z_zeroes):\n",
    "    A_e.append(C_e[i]*np.exp(-val*np.tan(val))/np.cos(val))"
   ]
  },
  {
   "cell_type": "code",
   "execution_count": 11,
   "metadata": {},
   "outputs": [],
   "source": [
    "x = np.linspace(-2*a,2*a,1000)"
   ]
  },
  {
   "cell_type": "code",
   "execution_count": 12,
   "metadata": {},
   "outputs": [],
   "source": [
    "def psi_e(i,x):\n",
    "    out = 0.0\n",
    "    if x <= -a: out = C_e[i]*np.exp(mu_e[i]*x)\n",
    "    if x > -a and x <= a: out =  A_e[i]*np.cos(k_e[i]*x)\n",
    "    if x > a: out = C_e[i]*np.exp(-mu_e[i]*x)\n",
    "    return out"
   ]
  },
  {
   "cell_type": "code",
   "execution_count": 13,
   "metadata": {},
   "outputs": [
    {
     "data": {
      "text/plain": [
       "<matplotlib.lines.Line2D at 0x7f095258c7b8>"
      ]
     },
     "execution_count": 13,
     "metadata": {},
     "output_type": "execute_result"
    },
    {
     "data": {
      "image/png": "[encoded data removed]",
      "text/plain": [
       "<matplotlib.figure.Figure at 0x7f09525e2f98>"
      ]
     },
     "metadata": {},
     "output_type": "display_data"
    }
   ],
   "source": [
    "nstate = 2\n",
    "psival = [psi_e(nstate,val) for val in x]\n",
    "plt.plot(x,psival)\n",
    "plt.axvline(x=-a, color='r', linestyle='--')\n",
    "plt.axvline(x=a, color='r', linestyle='--')"
   ]
  },
  {
   "cell_type": "markdown",
   "metadata": {},
   "source": [
    "Numerical check of the normalization of the wavefunction"
   ]
  },
  {
   "cell_type": "code",
   "execution_count": 14,
   "metadata": {},
   "outputs": [
    {
     "name": "stdout",
     "output_type": "stream",
     "text": [
      "1.000000101831613\n"
     ]
    }
   ],
   "source": [
    "inte = 0.0\n",
    "dx = x[1]-x[0]\n",
    "for p in psival:\n",
    "    inte += p**2\n",
    "inte = inte*dx\n",
    "print(inte)"
   ]
  },
  {
   "cell_type": "markdown",
   "metadata": {},
   "source": [
    "## Unbound state solutions"
   ]
  },
  {
   "cell_type": "markdown",
   "metadata": {},
   "source": [
    "We build the unbound solution obtained for $E>0$."
   ]
  },
  {
   "cell_type": "markdown",
   "metadata": {},
   "source": [
    "### Solutions travelling from the left"
   ]
  },
  {
   "cell_type": "markdown",
   "metadata": {},
   "source": [
    "Following Gasiorowicz we build solutions \"from the left\". This means that the wave function is parametrized as follows:\n",
    "$$\n",
    "\\psi(x) = e^{i k x} + R e^{-ikx} \\;\\;, x < -a \\\\\n",
    "\\psi(x) = A e^{i q x} + B e^{-i q x} \\;\\;, -a< x < a \\\\\n",
    "\\psi(x) = T e^{i k x} \\;\\;, x > a\n",
    "$$\n",
    "The Schroedinger equation imposes that:\n",
    "$$\n",
    "\\frac{k^2}{2} = E = \\frac{q^2}{2} - V_0\n",
    "$$\n",
    "We can parametrize the solution in function of $E$ so that:\n",
    "$$\n",
    "k = \\sqrt{2E} \\;\\;, \\quad q = \\sqrt{2(E+V_0)} \n",
    "$$"
   ]
  },
  {
   "cell_type": "markdown",
   "metadata": {},
   "source": [
    "We propose a solution based on the numerical analysis of the matching of wave function and its derivative:\n",
    "$$\n",
    "-e^{ika}R+0+e^{-iqa}A+e^{iqa}B = -e^{ika} \\\\\n",
    "ik e^{ika}R+0+iqe^{-iqa}A-iqe^{iqa}B = ike^{-ika} \\\\\n",
    "0-e^{ika}T+e^{iqa}A+e^{-iqa}B = 0 \\\\\n",
    "0+ike^{ika}T-iqe^{iqa}A+iqe^{-iqa}B = 0\n",
    "$$\n",
    "We write this system of equation as $M(E)*C(E) = b(E)$ where C(E) is the column array $[R,T,A,B]$"
   ]
  },
  {
   "cell_type": "code",
   "execution_count": 15,
   "metadata": {},
   "outputs": [],
   "source": [
    "def k(E): return np.sqrt(2*E)\n",
    "\n",
    "def q(E): return np.sqrt(2*(E+V0))\n",
    "\n",
    "def M(E):\n",
    "    ek = np.exp(1j*k(E)*a)\n",
    "    eq = np.exp(1j*q(E)*a)\n",
    "    M = np.array([[-ek,0,1.0/eq,eq],[1j*k(E)*ek,0,1j*q(E)/eq,-1j*q(E)*eq],[0,ek,-eq,-1.0/eq],[0,1j*k(E)*ek,-1j*q(E)*eq,1j*q(E)/eq]])\n",
    "    return M\n",
    "\n",
    "def b(E):\n",
    "    ek = np.exp(1j*k(E)*a)\n",
    "    eq = np.exp(1j*q(E)*a)\n",
    "    return np.array([1.0/ek,1j*k(E)/ek,0,0])\n",
    "\n",
    "def psi_uL(E,C,x):\n",
    "    out = 0.0\n",
    "    if x <= -a: out = np.exp(1j*k(E)*x)+C[0]*np.exp(-1j*k(E)*x)\n",
    "    if x > -a and x <= a: out =  C[2]*np.exp(1j*q(E)*x)+C[3]*np.exp(-1j*q(E)*x)\n",
    "    if x > a: out = C[1]*np.exp(1j*k(E)*x)\n",
    "    return out"
   ]
  },
  {
   "cell_type": "code",
   "execution_count": 16,
   "metadata": {},
   "outputs": [
    {
     "name": "stdout",
     "output_type": "stream",
     "text": [
      "True\n",
      "|R(E)|^2 = 0.5941488434418412\n",
      "|T(E)|^2 = 0.40585115655815884\n",
      " sum = 1.0\n"
     ]
    },
    {
     "data": {
      "text/plain": [
       "<matplotlib.lines.Line2D at 0x7f0952506be0>"
      ]
     },
     "execution_count": 16,
     "metadata": {},
     "output_type": "execute_result"
    },
    {
     "data": {
      "image/png": "[encoded data removed]",
      "text/plain": [
       "<matplotlib.figure.Figure at 0x7f09525e2e10>"
      ]
     },
     "metadata": {},
     "output_type": "display_data"
    }
   ],
   "source": [
    "E = 60\n",
    "C = np.linalg.solve(M(E), b(E))\n",
    "print(np.allclose(np.dot(M(E), C), b(E)))\n",
    "print('|R(E)|^2 =', np.absolute(C[0])**2)\n",
    "print('|T(E)|^2 =', np.absolute(C[1])**2)\n",
    "print(' sum =', np.absolute(C[1])**2+np.absolute(C[0])**2)\n",
    "x = np.linspace(-3*a,3*a,1000)\n",
    "#psival = [np.absolute(psi_uL(E,C,val)) for val in x]\n",
    "psival = [psi_uL(E,C,val).real for val in x]\n",
    "plt.plot(x,psival)\n",
    "plt.axvline(x=-a, color='r', linestyle='--')\n",
    "plt.axvline(x=a, color='r', linestyle='--')"
   ]
  },
  {
   "cell_type": "markdown",
   "metadata": {},
   "source": [
    "We can sum a left and right solution:"
   ]
  },
  {
   "cell_type": "code",
   "execution_count": 17,
   "metadata": {},
   "outputs": [],
   "source": [
    "def psi_uLR(E,C,x):\n",
    "    out = 0.0\n",
    "    if x <= -a: out = np.exp(1j*k(E)*x)+(C[0]+C[1])*np.exp(-1j*k(E)*x)\n",
    "    if x > -a and x <= a: out =  (C[2]+C[3])*2.0*np.cos(q(E)*x)\n",
    "    if x > a: out = np.exp(-1j*k(E)*x)+(C[0]+C[1])*np.exp(1j*k(E)*x)\n",
    "    return out"
   ]
  },
  {
   "cell_type": "code",
   "execution_count": 18,
   "metadata": {},
   "outputs": [
    {
     "name": "stdout",
     "output_type": "stream",
     "text": [
      "True\n"
     ]
    },
    {
     "data": {
      "text/plain": [
       "<matplotlib.lines.Line2D at 0x7f09524eef60>"
      ]
     },
     "execution_count": 18,
     "metadata": {},
     "output_type": "execute_result"
    },
    {
     "data": {
      "image/png": "[encoded data removed]",
      "text/plain": [
       "<matplotlib.figure.Figure at 0x7f0952675ac8>"
      ]
     },
     "metadata": {},
     "output_type": "display_data"
    }
   ],
   "source": [
    "E = 60\n",
    "C = np.linalg.solve(M(E), b(E))\n",
    "print(np.allclose(np.dot(M(E), C), b(E)))\n",
    "x = np.linspace(-3*a,3*a,1000)\n",
    "#psivalLR = [np.absolute(psi_uLR(E,C,val)) for val in x]\n",
    "psivalLR = [psi_uLR(E,C,val).real for val in x]\n",
    "plt.plot(x,psivalLR)\n",
    "plt.axvline(x=-a, color='r', linestyle='--')\n",
    "plt.axvline(x=a, color='r', linestyle='--')"
   ]
  },
  {
   "cell_type": "code",
   "execution_count": 19,
   "metadata": {},
   "outputs": [
    {
     "name": "stdout",
     "output_type": "stream",
     "text": [
      "(-0.343978169696477-0.9389776455125336j) (0.43019423860357253-0.6157459319458113j)\n"
     ]
    }
   ],
   "source": [
    "print(C[0]+C[1],(C[2]+C[3])*2.0)"
   ]
  },
  {
   "cell_type": "markdown",
   "metadata": {},
   "source": [
    "### Even solution"
   ]
  },
  {
   "cell_type": "markdown",
   "metadata": {},
   "source": [
    "We directly build a symmetric solution (that however is always complex!). We look for a solution of the form: \n",
    "$$\n",
    "\\psi(x) = e^{i k x} + A e^{-ikx} \\;\\;, x < -a \\\\\n",
    "\\psi(x) = B cos(q x) \\;\\;, -a< x < a \\\\\n",
    "\\psi(x) = e^{-i k x} + A e^{ikx} \\;\\;, x > a\n",
    "$$\n",
    "We write the equations of the boundary conditions. The four equations are equal in pairs and so we obtain two equations for A and B:\n",
    "$$\n",
    "e^{-ika}+Ae^{ika} = Bcos(qa) \\\\\n",
    "ik(e^{-ika}-Ae^{ika}) = Bqsin(qa)\n",
    "$$\n",
    "The two equations can be solved analitically:\n",
    "$$\n",
    "A = e^{-2ika}\\frac{ik-qtan(qa)}{ik+qtan(qa)} \\\\\n",
    "B = 2\\frac{e^{-ika}}{cos(qa)}\\frac{ik}{ik+tan(qa)}\n",
    "$$"
   ]
  },
  {
   "cell_type": "code",
   "execution_count": 24,
   "metadata": {},
   "outputs": [],
   "source": [
    "def k(E): return np.sqrt(2*E)\n",
    "\n",
    "def q(E): return np.sqrt(2*(E+V0))\n",
    "\n",
    "def A(E):\n",
    "    num = np.exp(-2j*k(E)*a)*(1j*k(E)-q(E)*np.tan(q(E)*a))\n",
    "    den = 1j*k(E)+q(E)*np.tan(q(E)*a)\n",
    "    return num / den\n",
    "\n",
    "def B(E):\n",
    "    num = 2.0*np.exp(-1j*k(E)*a)*1j*k(E)\n",
    "    den = np.cos(q(E)*a)*(1j*k(E)+q(E)*np.tan(q(E)*a))\n",
    "    return num / den\n",
    "\n",
    "def psi_ue(E,x):\n",
    "    if x <= -a: out = np.exp(1j*k(E)*x)+A(E)*np.exp(-1j*k(E)*x)\n",
    "    if x > -a and x <= a: out =  B(E)*np.cos(q(E)*x)\n",
    "    if x > a: out = np.exp(-1j*k(E)*x)+A(E)*np.exp(1j*k(E)*x)\n",
    "    return out"
   ]
  },
  {
   "cell_type": "code",
   "execution_count": 25,
   "metadata": {},
   "outputs": [
    {
     "name": "stdout",
     "output_type": "stream",
     "text": [
      "True\n",
      "True\n"
     ]
    }
   ],
   "source": [
    "# Check the solution\n",
    "E = 60\n",
    "#CC = C(E)\n",
    "print(np.allclose(np.exp(1j*k(E)*(-a))+A(E)*np.exp(-1j*k(E)*(-a)),B(E)*np.cos(q(E)*(-a))))\n",
    "print(np.allclose(1j*k(E)*(np.exp(1j*k(E)*(-a))-A(E)*np.exp(-1j*k(E)*(-a))),-B(E)*q(E)*np.sin(q(E)*(-a))))"
   ]
  },
  {
   "cell_type": "code",
   "execution_count": 26,
   "metadata": {},
   "outputs": [
    {
     "data": {
      "text/plain": [
       "<matplotlib.lines.Line2D at 0x7fda0cc24f28>"
      ]
     },
     "execution_count": 26,
     "metadata": {},
     "output_type": "execute_result"
    },
    {
     "data": {
      "image/png": "[encoded data removed]",
      "text/plain": [
       "<matplotlib.figure.Figure at 0x7fda0ce21f60>"
      ]
     },
     "metadata": {},
     "output_type": "display_data"
    }
   ],
   "source": [
    "E = 60\n",
    "x = np.linspace(-3*a,3*a,1000)\n",
    "#psivalLR = [np.absolute(psi_ue(E,CC,val)) for val in x]\n",
    "psival = [psi_ue(E,val).real for val in x]\n",
    "plt.plot(x,psival)\n",
    "plt.axvline(x=-a, color='r', linestyle='--')\n",
    "plt.axvline(x=a, color='r', linestyle='--')"
   ]
  },
  {
   "cell_type": "markdown",
   "metadata": {},
   "source": [
    "\n",
    "# Solution in the finite box of width 2L"
   ]
  },
  {
   "cell_type": "markdown",
   "metadata": {},
   "source": [
    "We build the solutions of the potential well in a box of width 2L (with L>a)"
   ]
  },
  {
   "cell_type": "code",
   "execution_count": 92,
   "metadata": {},
   "outputs": [],
   "source": [
    "L = 1.0"
   ]
  },
  {
   "cell_type": "markdown",
   "metadata": {},
   "source": [
    "## Even solutions"
   ]
  },
  {
   "cell_type": "markdown",
   "metadata": {},
   "source": [
    "We look for a symmetric solution int the form: \n",
    "$$\n",
    "\\psi(x) = e^{i k x} + A e^{-ikx} \\;\\;, x < -a \\\\\n",
    "\\psi(x) = B cos(q x) \\;\\;, -a< x < a \\\\\n",
    "\\psi(x) = e^{-i k x} + A e^{ikx} \\;\\;, x > a\n",
    "$$\n",
    "The Schroedinger equation imposes that:\n",
    "$$\n",
    "\\frac{k^2}{2} = E = \\frac{q^2}{2} - V_0\n",
    "$$\n",
    "We can parametrize the solution in function of $E$ so that:\n",
    "$$\n",
    "k = \\sqrt{2E} \\;\\;, \\quad q = \\sqrt{2(E+V_0)} \n",
    "$$"
   ]
  },
  {
   "cell_type": "markdown",
   "metadata": {},
   "source": [
    "### Negative energy solutions"
   ]
  },
  {
   "cell_type": "markdown",
   "metadata": {},
   "source": [
    "We look for solution with negative energy in the range $[-V_0,0]$. So $k$ is pure imaginary, while $q$ is real and positive. We introduce $\\mu=\\sqrt{2|E|}$ and choose the root so that $k=-i\\mu$. The wf can be written as:\n",
    "$$\n",
    "\\psi(x) = e^{\\mu x} + A e^{-\\mu x} \\;\\;, x < -a \\\\\n",
    "\\psi(x) = B cos(q x) \\;\\;, -a< x < a \\\\\n",
    "\\psi(x) = e^{-\\mu x} + A e^{\\mu x} \\;\\;, x > a\n",
    "$$"
   ]
  },
  {
   "cell_type": "markdown",
   "metadata": {},
   "source": [
    "The matching conditions can be derived from the solution of the even unbounded solutions in the infinite domain and read:\n",
    "$$\n",
    "A = e^{-2\\mu a}\\frac{\\mu-qtan(qa)}{\\mu+qtan(qa)} \\\\\n",
    "B = 2\\frac{e^{-\\mu a}}{cos(qa)}\\frac{\\mu}{\\mu+tan(qa)}\n",
    "$$\n",
    "Furthermore the presence of the finite box imposes that $\\psi(L)=\\psi(-L)=0$ so we have a further condition for A:\n",
    "$$\n",
    "A = e^{-2\\mu L}\n",
    "$$\n",
    "These conditions impose a quantization condition for the energy. We have to solve:\n",
    "$$\n",
    "\\frac{\\mu-qtan(qa)}{\\mu+qtan(qa)} = e^{-2\\mu (L-a)}\n",
    "$$"
   ]
  },
  {
   "cell_type": "code",
   "execution_count": 99,
   "metadata": {},
   "outputs": [],
   "source": [
    "E = np.linspace(-V0,0,1000)"
   ]
  },
  {
   "cell_type": "code",
   "execution_count": 100,
   "metadata": {},
   "outputs": [],
   "source": [
    "def mu(E): return np.sqrt(-2*E)\n",
    "def q(E): return np.sqrt(2*(E+V0))"
   ]
  },
  {
   "cell_type": "code",
   "execution_count": 101,
   "metadata": {},
   "outputs": [
    {
     "data": {
      "image/png": "[encoded data removed]",
      "text/plain": [
       "<matplotlib.figure.Figure at 0x7fda0c786278>"
      ]
     },
     "metadata": {},
     "output_type": "display_data"
    }
   ],
   "source": [
    "plt.plot(E,np.exp(-2.0*mu(E)*(L-a)))\n",
    "plt.plot(E,(mu(E)-q(E)*np.tan(q(E)*a))/(mu(E)+q(E)*np.tan(q(E)*a)))\n",
    "plt.ylim([0,20])\n",
    "plt.show()"
   ]
  },
  {
   "cell_type": "code",
   "execution_count": 102,
   "metadata": {},
   "outputs": [
    {
     "name": "stdout",
     "output_type": "stream",
     "text": [
      "31.622776601683793\n"
     ]
    }
   ],
   "source": [
    "muMax = np.sqrt(2.0*V0)\n",
    "print (muMax)\n",
    "mu = np.linspace(muMax,0,1000)\n",
    "def q(mu): return np.sqrt(-mu**2+2*V0)"
   ]
  },
  {
   "cell_type": "code",
   "execution_count": 103,
   "metadata": {},
   "outputs": [
    {
     "data": {
      "image/png": "[encoded data removed]",
      "text/plain": [
       "<matplotlib.figure.Figure at 0x7fda0cb76518>"
      ]
     },
     "metadata": {},
     "output_type": "display_data"
    }
   ],
   "source": [
    "plt.plot(mu,np.exp(-2.0*mu*(L-a)))\n",
    "plt.plot(mu,(mu-q(mu)*np.tan(q(mu)*a))/(mu+q(mu)*np.tan(q(mu)*a)))\n",
    "plt.ylim([0,20])\n",
    "plt.show()"
   ]
  },
  {
   "cell_type": "code",
   "execution_count": 104,
   "metadata": {},
   "outputs": [],
   "source": [
    "f_sym = lambda x: np.exp(-2.0*x*(L-a)) - (x-q(x)*np.tan(q(x)*a))/(x+q(x)*np.tan(q(x)*a))"
   ]
  },
  {
   "cell_type": "code",
   "execution_count": 105,
   "metadata": {},
   "outputs": [],
   "source": [
    "s = np.sign(f_sym(mu))"
   ]
  },
  {
   "cell_type": "code",
   "execution_count": 113,
   "metadata": {},
   "outputs": [
    {
     "data": {
      "text/plain": [
       "[31.484458830771178,\n",
       " 30.357095860217086,\n",
       " 27.978258011403906,\n",
       " 24.01449619925935,\n",
       " 17.545191372044503,\n",
       " 2.3265600094484005]"
      ]
     },
     "execution_count": 113,
     "metadata": {},
     "output_type": "execute_result"
    }
   ],
   "source": [
    "mu_zeroes = []\n",
    "for i in range(len(s)-1):\n",
    "    if s[i]+s[i+1] == 0:\n",
    "        zero = optimize.brentq(f_sym, mu[i], mu[i+1])\n",
    "        mu_zeroes.append(zero)\n",
    "# cut the spurious solutions\n",
    "mu_zeroes = [mu_zeroes[i] for i in range(0,len(mu_zeroes),2)]\n",
    "mu_zeroes"
   ]
  },
  {
   "cell_type": "markdown",
   "metadata": {},
   "source": [
    "Bound (even) energy levels:"
   ]
  },
  {
   "cell_type": "code",
   "execution_count": 115,
   "metadata": {},
   "outputs": [
    {
     "name": "stdout",
     "output_type": "stream",
     "text": [
      "Number of bound states =  6\n",
      "E0 =  -495.6355739332626\n",
      "E1 =  -460.7766345332047\n",
      "E2 =  -391.3914606763434\n",
      "E3 =  -288.3480138521209\n",
      "E4 =  -153.91687014083243\n",
      "E5 =  -2.7064407387822706\n"
     ]
    }
   ],
   "source": [
    "Energy_eBox = [-0.5*val**2 for val in mu_zeroes]\n",
    "print('Number of bound states = ',len(Energy_eBox))\n",
    "for i,e in enumerate(Energy_eBox):\n",
    "    print('E'+str(i)+' = ',e)"
   ]
  },
  {
   "cell_type": "code",
   "execution_count": 116,
   "metadata": {},
   "outputs": [
    {
     "data": {
      "text/plain": [
       "[-495.6355739281896,\n",
       " -460.7766345332049,\n",
       " -391.3914606763265,\n",
       " -288.34801385072495,\n",
       " -153.91686909426528,\n",
       " -2.2720098493715524]"
      ]
     },
     "execution_count": 116,
     "metadata": {},
     "output_type": "execute_result"
    }
   ],
   "source": [
    "Energy_eID"
   ]
  },
  {
   "cell_type": "code",
   "execution_count": null,
   "metadata": {},
   "outputs": [],
   "source": []
  },
  {
   "cell_type": "code",
   "execution_count": null,
   "metadata": {},
   "outputs": [],
   "source": []
  },
  {
   "cell_type": "code",
   "execution_count": null,
   "metadata": {},
   "outputs": [],
   "source": []
  },
  {
   "cell_type": "code",
   "execution_count": null,
   "metadata": {},
   "outputs": [],
   "source": []
  },
  {
   "cell_type": "code",
   "execution_count": null,
   "metadata": {},
   "outputs": [],
   "source": []
  },
  {
   "cell_type": "code",
   "execution_count": null,
   "metadata": {},
   "outputs": [],
   "source": []
  },
  {
   "cell_type": "code",
   "execution_count": null,
   "metadata": {},
   "outputs": [],
   "source": []
  }
 ],
 "metadata": {
  "kernelspec": {
   "display_name": "Python 3",
   "language": "python",
   "name": "python3"
  },
  "language_info": {
   "codemirror_mode": {
    "name": "ipython",
    "version": 3
   },
   "file_extension": ".py",
   "mimetype": "text/x-python",
   "name": "python",
   "nbconvert_exporter": "python",
   "pygments_lexer": "ipython3",
   "version": "3.6.3"
  }
 },
 "nbformat": 4,
 "nbformat_minor": 2
}
