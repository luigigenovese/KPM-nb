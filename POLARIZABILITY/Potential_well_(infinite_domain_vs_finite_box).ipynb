{
 "cells": [
  {
   "cell_type": "code",
   "execution_count": 4,
   "metadata": {},
   "outputs": [],
   "source": [
    "import matplotlib.pyplot as plt\n",
    "import numpy as np\n",
    "from scipy import optimize"
   ]
  },
  {
   "cell_type": "markdown",
   "metadata": {},
   "source": [
    "We study the energy eigenvalues and eigenstates of a potential well of width $2a$ and depth $V_0$ simmetrically placed around the origin. We compare the results in two cases:\n",
    "* Infinite domain\n",
    "* System placed in a box of width $2L$"
   ]
  },
  {
   "cell_type": "markdown",
   "metadata": {},
   "source": [
    "# Solution in the infinite domain"
   ]
  },
  {
   "cell_type": "markdown",
   "metadata": {},
   "source": [
    "In this case the system has both bound and unbound solutions. We mainly follow the notation of the book of Gasiorowicz."
   ]
  },
  {
   "cell_type": "code",
   "execution_count": 219,
   "metadata": {},
   "outputs": [],
   "source": [
    "V0 = 500\n",
    "a = 0.5"
   ]
  },
  {
   "cell_type": "markdown",
   "metadata": {},
   "source": [
    "## Bound state solutions"
   ]
  },
  {
   "cell_type": "markdown",
   "metadata": {},
   "source": [
    "Outside the potential domain solutions have an exponential behaviour:\n",
    "$$\n",
    "\\psi(x) = C_1e^{-\\mu x} \\;\\; x > a \\quad \\psi(x) = C_2e^{\\mu x} \\;\\; x < -a\n",
    "$$\n",
    "and $E=-\\frac{\\mu^2}{2}$. Inside the region of the potential the behavious is oscillatory and it is useful to use the parity symmetry of the potential to separe the solutions in even and odd."
   ]
  },
  {
   "cell_type": "markdown",
   "metadata": {},
   "source": [
    "### Even solutions"
   ]
  },
  {
   "cell_type": "markdown",
   "metadata": {},
   "source": [
    "In this case we have that $\\psi(x) = Acos(kx)$ for $|x|<a$. The matching conditions of the wave functions and its derivative at the junction points impose the conditions $\\mu= k tan(ka)$. We introduce the auxiliary variables $z=ka$ and $z_0 = \\sqrt{2V_0}a^2$ and rewrite the previous condition as (we use the fact that $k^2+\\mu^2 = 2V_0)$:\n",
    "$$\n",
    "\\sqrt{\\left(\\frac{z_0}{z}\\right)^2-1} = tan(z)\n",
    "$$\n",
    "and we solve this equation for $z$ (in the range $(0,z_0]$). Once that the solutions are provided we have:\n",
    "$$\n",
    "k = \\frac{z}{a} \\;\\;, \\mu = \\frac{z}{a}tan(z) \\;\\;, E = -\\frac{1}{2}\\left(\\frac{z}{a}tan(z)\\right)^2\n",
    "$$\n",
    "Furthermore we have $C_1=C_2=C$ and:\n",
    "$$\n",
    "A = \\frac{Ce^{-ztan(z)}}{cos(z)}\n",
    "$$\n",
    "and $C$ is determined by the normalization condition of the wave function."
   ]
  },
  {
   "cell_type": "code",
   "execution_count": 220,
   "metadata": {},
   "outputs": [
    {
     "name": "stdout",
     "output_type": "stream",
     "text": [
      "z0 =  15.811388300841896\n"
     ]
    }
   ],
   "source": [
    "z0 = np.sqrt(2*V0)*a\n",
    "print('z0 = ',z0)"
   ]
  },
  {
   "cell_type": "code",
   "execution_count": 221,
   "metadata": {},
   "outputs": [],
   "source": [
    "z = np.linspace(1e-4,z0,1000)"
   ]
  },
  {
   "cell_type": "code",
   "execution_count": 222,
   "metadata": {},
   "outputs": [
    {
     "data": {
      "image/png": "[encoded data removed]",
      "text/plain": [
       "<matplotlib.figure.Figure at 0x7f887864c320>"
      ]
     },
     "metadata": {},
     "output_type": "display_data"
    }
   ],
   "source": [
    "plt.plot(z,np.tan(z))\n",
    "plt.plot(z,np.sqrt((z0/z)**2-1))\n",
    "plt.ylim([0,20])\n",
    "plt.show()"
   ]
  },
  {
   "cell_type": "code",
   "execution_count": 223,
   "metadata": {},
   "outputs": [],
   "source": [
    "f_sym = lambda x: np.tan(x) - np.sqrt((z0/x)**2-1)"
   ]
  },
  {
   "cell_type": "code",
   "execution_count": 224,
   "metadata": {},
   "outputs": [],
   "source": [
    "s = np.sign(f_sym(z))"
   ]
  },
  {
   "cell_type": "code",
   "execution_count": 225,
   "metadata": {},
   "outputs": [],
   "source": [
    "z_zeroes = []\n",
    "for i in range(len(s)-1):\n",
    "    if s[i]+s[i+1] == 0:\n",
    "        zero = optimize.brentq(f_sym, z[i], z[i+1])\n",
    "        z_zeroes.append(zero)\n",
    "# cut the spurious solutions\n",
    "z_zeroes = [z_zeroes[i] for i in range(0,len(z_zeroes),2)]\n",
    "#z_zeroes"
   ]
  },
  {
   "cell_type": "markdown",
   "metadata": {},
   "source": [
    "Bound (even) energy levels:"
   ]
  },
  {
   "cell_type": "code",
   "execution_count": 226,
   "metadata": {},
   "outputs": [
    {
     "name": "stdout",
     "output_type": "stream",
     "text": [
      "Number of bound states =  6\n",
      "E0 =  -495.6355739281896\n",
      "E1 =  -460.7766345332049\n",
      "E2 =  -391.3914606763265\n",
      "E3 =  -288.34801385072495\n",
      "E4 =  -153.91686909426528\n",
      "E5 =  -2.2720098493715524\n"
     ]
    }
   ],
   "source": [
    "Energy_e = [-0.5*(val/a*np.tan(val))**2 for val in z_zeroes]\n",
    "print('Number of bound states = ',len(Energy_e))\n",
    "for i,e in enumerate(Energy_e):\n",
    "    print('E'+str(i)+' = ',e)"
   ]
  },
  {
   "cell_type": "markdown",
   "metadata": {},
   "source": [
    "Calculation of the wave functions"
   ]
  },
  {
   "cell_type": "code",
   "execution_count": 227,
   "metadata": {},
   "outputs": [],
   "source": [
    "k_e = [val/a for val in z_zeroes]\n",
    "mu_e = [val/a*np.tan(val) for val in z_zeroes]\n",
    "C_e = [1 for val in z_zeroes]\n",
    "C_e = []\n",
    "for val in z_zeroes:\n",
    "    num = np.exp(2*val*np.tan(val))\n",
    "    den = a*(1.0/(np.cos(val)**2)+np.sin(val)/(val*np.cos(val))+1.0/(val*np.tan(val)))\n",
    "    C_e.append(np.sqrt(num/den))\n",
    "A_e = [] \n",
    "for i,val in enumerate(z_zeroes):\n",
    "    A_e.append(C_e[i]*np.exp(-val*np.tan(val))/np.cos(val))"
   ]
  },
  {
   "cell_type": "code",
   "execution_count": 228,
   "metadata": {},
   "outputs": [],
   "source": [
    "x = np.linspace(-2*a,2*a,1000)"
   ]
  },
  {
   "cell_type": "code",
   "execution_count": 229,
   "metadata": {},
   "outputs": [],
   "source": [
    "def psi_e(i,x):\n",
    "    out = 0.0\n",
    "    if x <= -a: out = C_e[i]*np.exp(mu_e[i]*x)\n",
    "    if x > -a and x <= a: out =  A_e[i]*np.cos(k_e[i]*x)\n",
    "    if x > a: out = C_e[i]*np.exp(-mu_e[i]*x)\n",
    "    return out"
   ]
  },
  {
   "cell_type": "code",
   "execution_count": 267,
   "metadata": {},
   "outputs": [
    {
     "data": {
      "text/plain": [
       "<matplotlib.lines.Line2D at 0x7f88780c84a8>"
      ]
     },
     "execution_count": 267,
     "metadata": {},
     "output_type": "execute_result"
    },
    {
     "data": {
      "image/png": "[encoded data removed]",
      "text/plain": [
       "<matplotlib.figure.Figure at 0x7f88781025f8>"
      ]
     },
     "metadata": {},
     "output_type": "display_data"
    }
   ],
   "source": [
    "nstate = 2\n",
    "psival = [psi_e(nstate,val) for val in x]\n",
    "plt.plot(x,psival)\n",
    "plt.axvline(x=-a, color='r', linestyle='--')\n",
    "plt.axvline(x=a, color='r', linestyle='--')"
   ]
  },
  {
   "cell_type": "markdown",
   "metadata": {},
   "source": [
    "Numerical check of the normalization of the wavefunction"
   ]
  },
  {
   "cell_type": "code",
   "execution_count": 231,
   "metadata": {},
   "outputs": [
    {
     "name": "stdout",
     "output_type": "stream",
     "text": [
      "1.0000000041227526\n"
     ]
    }
   ],
   "source": [
    "inte = 0.0\n",
    "dx = x[1]-x[0]\n",
    "for p in psival:\n",
    "    inte += p**2\n",
    "inte = inte*dx\n",
    "print(inte)"
   ]
  },
  {
   "cell_type": "markdown",
   "metadata": {},
   "source": [
    "## Unbound state solutions"
   ]
  },
  {
   "cell_type": "markdown",
   "metadata": {},
   "source": [
    "We build the unbound solution obtained for $E>0$."
   ]
  },
  {
   "cell_type": "markdown",
   "metadata": {},
   "source": [
    "### Even solutions"
   ]
  },
  {
   "cell_type": "markdown",
   "metadata": {},
   "source": [
    "We look for solutions of the form:\n",
    "$$\n",
    "\\psi(x) = A cos(qx) \\;\\; |x| > a \\;,\\quad \\psi(x) = B cos(kx) \\;\\; |x| < a\n",
    "$$\n",
    "The Schroedinger equation imposes that:\n",
    "$$\n",
    "\\frac{q^2}{2} = E = \\frac{k^2}{2} - V_0\n",
    "$$\n",
    "We can parametrize the solution in function of $E$ so that:\n",
    "$$\n",
    "q = \\sqrt{2E} \\;\\;, \\quad k = \\sqrt{2(E+V_0)} \n",
    "$$"
   ]
  },
  {
   "cell_type": "markdown",
   "metadata": {},
   "source": [
    "The matching conditions of the wave functions and its derivative at the junction points impose that:\n",
    "$$\n",
    "B = A \\frac{cos(qa)}{cos(ka)} \\;\\;, \\quad q tan(qa) = k tan(ka)\n",
    "$$"
   ]
  },
  {
   "cell_type": "code",
   "execution_count": 268,
   "metadata": {},
   "outputs": [],
   "source": [
    "# A = 1\n",
    "def q(E): return np.sqrt(2*E)\n",
    "\n",
    "def k(E): return np.sqrt(2*(E+V0))\n",
    "\n",
    "def B(E): return np.cos(q(E)*a)/np.cos(k(E)*a)\n",
    "\n",
    "def psi_ue(E,x):\n",
    "    out = 0.0\n",
    "    if x <= -a: out = np.cos(q(E)*x)\n",
    "    if x > -a and x <= a: out =  B(E)*np.cos(k(E)*x)\n",
    "    if x > a: out = np.cos(q(E)*x)\n",
    "    return out"
   ]
  },
  {
   "cell_type": "code",
   "execution_count": 269,
   "metadata": {},
   "outputs": [
    {
     "data": {
      "text/plain": [
       "0.15594369476537437"
      ]
     },
     "execution_count": 269,
     "metadata": {},
     "output_type": "execute_result"
    }
   ],
   "source": [
    "psi_ue(1,1)"
   ]
  },
  {
   "cell_type": "code",
   "execution_count": 270,
   "metadata": {
    "scrolled": true
   },
   "outputs": [
    {
     "data": {
      "text/plain": [
       "<matplotlib.lines.Line2D at 0x7f88780a4f60>"
      ]
     },
     "execution_count": 270,
     "metadata": {},
     "output_type": "execute_result"
    },
    {
     "data": {
      "image/png": "[encoded data removed]",
      "text/plain": [
       "<matplotlib.figure.Figure at 0x7f8878083438>"
      ]
     },
     "metadata": {},
     "output_type": "display_data"
    }
   ],
   "source": [
    "x = np.linspace(-3*a,3*a,1000)\n",
    "Eval = 0.8\n",
    "psival = [psi_ue(Eval,val) for val in x]\n",
    "plt.plot(x,psival)\n",
    "plt.axvline(x=-a, color='r', linestyle='--')\n",
    "plt.axvline(x=a, color='r', linestyle='--')"
   ]
  },
  {
   "cell_type": "markdown",
   "metadata": {},
   "source": [
    "There is a problem with the continuity of the derivative....maybe it is not meaningfull to look for real wave function in this case...."
   ]
  },
  {
   "cell_type": "code",
   "execution_count": null,
   "metadata": {},
   "outputs": [],
   "source": []
  },
  {
   "cell_type": "code",
   "execution_count": null,
   "metadata": {},
   "outputs": [],
   "source": []
  },
  {
   "cell_type": "code",
   "execution_count": null,
   "metadata": {},
   "outputs": [],
   "source": []
  },
  {
   "cell_type": "code",
   "execution_count": null,
   "metadata": {},
   "outputs": [],
   "source": []
  },
  {
   "cell_type": "code",
   "execution_count": 165,
   "metadata": {},
   "outputs": [],
   "source": [
    "from sympy import *"
   ]
  },
  {
   "cell_type": "code",
   "execution_count": 166,
   "metadata": {},
   "outputs": [],
   "source": [
    "x = Symbol('x')\n",
    "a = Symbol('a')\n",
    "k = Symbol('k')"
   ]
  },
  {
   "cell_type": "code",
   "execution_count": 167,
   "metadata": {},
   "outputs": [],
   "source": [
    "y = cos(x)**2"
   ]
  },
  {
   "cell_type": "code",
   "execution_count": 168,
   "metadata": {},
   "outputs": [
    {
     "data": {
      "text/plain": [
       "x/2 + sin(x)*cos(x)/2"
      ]
     },
     "execution_count": 168,
     "metadata": {},
     "output_type": "execute_result"
    }
   ],
   "source": [
    "integrate(y,x)"
   ]
  },
  {
   "cell_type": "code",
   "execution_count": null,
   "metadata": {},
   "outputs": [],
   "source": []
  },
  {
   "cell_type": "code",
   "execution_count": null,
   "metadata": {},
   "outputs": [],
   "source": []
  }
 ],
 "metadata": {
  "kernelspec": {
   "display_name": "Python 3",
   "language": "python",
   "name": "python3"
  },
  "language_info": {
   "codemirror_mode": {
    "name": "ipython",
    "version": 3
   },
   "file_extension": ".py",
   "mimetype": "text/x-python",
   "name": "python",
   "nbconvert_exporter": "python",
   "pygments_lexer": "ipython3",
   "version": "3.6.3"
  }
 },
 "nbformat": 4,
 "nbformat_minor": 2
}
