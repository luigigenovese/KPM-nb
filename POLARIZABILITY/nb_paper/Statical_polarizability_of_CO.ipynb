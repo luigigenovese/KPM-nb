{
 "cells": [
  {
   "cell_type": "code",
   "execution_count": 1,
   "metadata": {},
   "outputs": [],
   "source": [
    "from BigDFT import Logfiles as lf\n",
    "from BigDFT import Calculators as C\n",
    "from futile import Yaml\n",
    "import matplotlib.pyplot as plt\n",
    "import numpy as np"
   ]
  },
  {
   "cell_type": "markdown",
   "metadata": {},
   "source": [
    "# Analysis of the $CO$ molecule in a static electric field"
   ]
  },
  {
   "cell_type": "markdown",
   "metadata": {},
   "source": [
    "We consider a $CO$ molecule (oriented along the $z$-axis) in a static electric field. We present results for fields both directed in the z (axial) and in the x directions. \n",
    "The main aim of this analysis is to compute the statical polarizability of the molecule and check its convergence w.r.t. the size of the simulation domain"
   ]
  },
  {
   "cell_type": "markdown",
   "metadata": {},
   "source": [
    "## Generation and execution of the input files"
   ]
  },
  {
   "cell_type": "code",
   "execution_count": 2,
   "metadata": {},
   "outputs": [],
   "source": [
    "outputpath = 'CO/static-field/'"
   ]
  },
  {
   "cell_type": "markdown",
   "metadata": {},
   "source": [
    "We define the python dictionary that contains the basic keys common to all the file in the run"
   ]
  },
  {
   "cell_type": "code",
   "execution_count": 3,
   "metadata": {},
   "outputs": [],
   "source": [
    "inp0 = {'dft' : \n",
    "        {'hgrids': 0.37,\n",
    "         'gnrm_cv' : 1e-8,\n",
    "         'itermax' : 100},\n",
    "        'posinp': 'CO_posinp.xyz'}\n",
    "Yaml.dump(inp0,outputpath + 'default.yaml')"
   ]
  },
  {
   "cell_type": "markdown",
   "metadata": {},
   "source": [
    "We perform the analysis for different box sizes and for the field norm equal to 0.0 and 1e-2 (a.u.) both in the z and x direction"
   ]
  },
  {
   "cell_type": "code",
   "execution_count": 4,
   "metadata": {},
   "outputs": [],
   "source": [
    "enorm = [[0.0,str('0_')],[1e-2,str('1em2_')]]\n",
    "rVal = [float(i) for i in range(4,11)]"
   ]
  },
  {
   "cell_type": "markdown",
   "metadata": {},
   "source": [
    "Generate the input files and the run files (one for each value of the field norm)"
   ]
  },
  {
   "cell_type": "code",
   "execution_count": 5,
   "metadata": {},
   "outputs": [],
   "source": [
    "for e in enorm:\n",
    "    ez=[0.0,0.0,e[0]]\n",
    "    ex=[e[0],0.0,0.0]\n",
    "    inpEz={'dft':{'elecfield': ez}}\n",
    "    inpEx={'dft':{'elecfield': ex}}\n",
    "    lrun=[]\n",
    "    for r in rVal:\n",
    "        inpEz['dft']['rmult'] = [r, 9.0]\n",
    "        inpEx['dft']['rmult'] = [r, 9.0]\n",
    "        inpnameEz = 'Ez_'+e[1]+str('rmult_')+str(r)\n",
    "        inpnameEx = 'Ex_'+e[1]+str('rmult_')+str(r)\n",
    "        Yaml.dump(inpEz,outputpath + inpnameEz + '.yaml')\n",
    "        Yaml.dump(inpEx,outputpath + inpnameEx + '.yaml')\n",
    "        lrun.append(inpnameEz)\n",
    "        lrun.append(inpnameEx)\n",
    "    Yaml.dump(lrun,outputpath+'runs_'+e[1])"
   ]
  },
  {
   "cell_type": "markdown",
   "metadata": {},
   "source": [
    "Execute the run files"
   ]
  },
  {
   "cell_type": "code",
   "execution_count": 6,
   "metadata": {
    "scrolled": true
   },
   "outputs": [
    {
     "name": "stdout",
     "output_type": "stream",
     "text": [
      "/media/DATA/RICERCA/LINEAR RESPONSE/LR-nb/POLARIZABILITY/nb_paper/CO/static-field\n",
      "Executing command:  mpirun -np 4 $BIGDFT_ROOT/bigdft -r runs_0_ -d ./log/ -s Yes\n",
      "Executing command:  mpirun -np 4 $BIGDFT_ROOT/bigdft -r runs_1em2_ -d ./log/ -s Yes\n",
      "/media/DATA/RICERCA/LINEAR RESPONSE/LR-nb/POLARIZABILITY/nb_paper\n"
     ]
    }
   ],
   "source": [
    "code=C.SystemCalculator(omp=2,mpi=4)\n",
    "%cd $outputpath\n",
    "for e in enorm:\n",
    "    code.run(run_name='runs_'+e[1],skip=True,outdir='./log/')\n",
    "%cd ../../"
   ]
  },
  {
   "cell_type": "markdown",
   "metadata": {
    "collapsed": true
   },
   "source": [
    "## Data Analysis"
   ]
  },
  {
   "cell_type": "markdown",
   "metadata": {},
   "source": [
    "We build python dictionary with the structure \n",
    "\n",
    "CO['field direction']['field norm']['box size']\n",
    "\n",
    "and add the log-file of the associated BigDFT computation"
   ]
  },
  {
   "cell_type": "code",
   "execution_count": 7,
   "metadata": {},
   "outputs": [],
   "source": [
    "CO = {'x':{}, 'z':{}}\n",
    "logpath = outputpath+'log/'\n",
    "for e in enorm:\n",
    "    CO['x'][e[0]] = {}\n",
    "    CO['z'][e[0]] = {}\n",
    "    for r in rVal:\n",
    "        CO['x'][e[0]][r] = {'log' : lf.Logfile(logpath+str('log-Ex_')+e[1]+'rmult_'+str(r)+'.yaml')} \n",
    "        CO['z'][e[0]][r] = {'log' : lf.Logfile(logpath+str('log-Ez_')+e[1]+'rmult_'+str(r)+'.yaml')}"
   ]
  },
  {
   "cell_type": "code",
   "execution_count": 8,
   "metadata": {},
   "outputs": [
    {
     "data": {
      "text/plain": [
       "<BigDFT.Logfiles.Logfile instance at 0x7fbf0c8cdd40>"
      ]
     },
     "execution_count": 8,
     "metadata": {},
     "output_type": "execute_result"
    }
   ],
   "source": [
    "CO['x'][0.01][7]['log']"
   ]
  },
  {
   "cell_type": "markdown",
   "metadata": {},
   "source": [
    "For instance to extract the z dimension of the simulation box in Angstroem"
   ]
  },
  {
   "cell_type": "code",
   "execution_count": 9,
   "metadata": {},
   "outputs": [
    {
     "data": {
      "text/plain": [
       "11.552"
      ]
     },
     "execution_count": 9,
     "metadata": {},
     "output_type": "execute_result"
    }
   ],
   "source": [
    "CO['x'][0.01][7]['log'].log['Sizes of the simulation domain']['Angstroem'][2]"
   ]
  },
  {
   "cell_type": "markdown",
   "metadata": {},
   "source": [
    "### Convergence of the statical polarizability w.r.t the box size"
   ]
  },
  {
   "cell_type": "markdown",
   "metadata": {},
   "source": [
    "Compute the statical polarizability (as the ratio between the induced dipole minus the permament one divided for the value of the field) in each simulation box and check of the convergence of the result "
   ]
  },
  {
   "cell_type": "code",
   "execution_count": 10,
   "metadata": {},
   "outputs": [],
   "source": [
    "alpha = {'x': {}, 'z': {}}\n",
    "dipoleGS = {'x': {}, 'z': {}}\n",
    "for fieldir in [['x',0],['z',2]]:\n",
    "    for r in rVal:\n",
    "        indipole = CO[fieldir[0]][enorm[1][0]][r]['log'].log['Electric Dipole Moment (AU)']['P vector'][fieldir[1]]\n",
    "        dipGS = CO[fieldir[0]][enorm[0][0]][r]['log'].log['Electric Dipole Moment (AU)']['P vector'][fieldir[1]]\n",
    "        alpha[fieldir[0]][r] = (indipole-dipGS)/enorm[1][0]\n",
    "        dipoleGS[fieldir[0]][r] = np.abs(dipGS)\n",
    "boxSize = []\n",
    "for r in rVal:\n",
    "    boxSize.append(CO['x'][0.0][r]['log'].log['Sizes of the simulation domain']['Angstroem'][2])"
   ]
  },
  {
   "cell_type": "code",
   "execution_count": 11,
   "metadata": {},
   "outputs": [
    {
     "data": {
      "image/png": "[encoded data removed]",
      "text/plain": [
       "<matplotlib.figure.Figure at 0x7fbf0cdff290>"
      ]
     },
     "metadata": {},
     "output_type": "display_data"
    }
   ],
   "source": [
    "%matplotlib inline\n",
    "\n",
    "fig, ax1 = plt.subplots()\n",
    "\n",
    "ax1.set_xlabel('box size ($\\AA$)',size = 14)\n",
    "plt.ylabel(r'$\\alpha_{zz}$ (a.u.)',size = 14)\n",
    "ax1.plot(boxSize,alpha['z'].values())\n",
    "for ind,r in enumerate(rVal):\n",
    "    ax1.scatter(boxSize[ind],alpha['z'][r],color='black')\n",
    "\n",
    "ax2 = ax1.twinx()\n",
    "ax2.plot(boxSize,dipoleGS['z'].values(),color='red',linestyle='-')\n",
    "#plt.yticks([])\n",
    "plt.ylim(ymax=0.08)\n",
    "plt.ylabel(r'$d_z^{(GS)}$ (a.u.)',size=14)\n",
    "plt.show()"
   ]
  },
  {
   "cell_type": "code",
   "execution_count": null,
   "metadata": {},
   "outputs": [],
   "source": []
  },
  {
   "cell_type": "code",
   "execution_count": null,
   "metadata": {},
   "outputs": [],
   "source": []
  }
 ],
 "metadata": {
  "kernelspec": {
   "display_name": "Python 2",
   "language": "python",
   "name": "python2"
  },
  "language_info": {
   "codemirror_mode": {
    "name": "ipython",
    "version": 2
   },
   "file_extension": ".py",
   "mimetype": "text/x-python",
   "name": "python",
   "nbconvert_exporter": "python",
   "pygments_lexer": "ipython2",
   "version": "2.7.14"
  }
 },
 "nbformat": 4,
 "nbformat_minor": 2
}
