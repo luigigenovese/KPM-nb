{
 "cells": [
  {
   "cell_type": "code",
   "execution_count": 2,
   "metadata": {},
   "outputs": [],
   "source": [
    "from BigDFT import Logfiles as lf\n",
    "from BigDFT import Calculators as C\n",
    "from futile import YamlIO as Yaml\n",
    "import matplotlib.pyplot as plt\n",
    "import numpy as np"
   ]
  },
  {
   "cell_type": "markdown",
   "metadata": {},
   "source": [
    "# Analysis of the $CO$ molecule in a static electric field"
   ]
  },
  {
   "cell_type": "markdown",
   "metadata": {},
   "source": [
    "We consider a $CO$ molecule (oriented along the $z$-axis) in a static electric field. We present results for fields both directed in the z (axial) and in the x directions. \n",
    "The main aim of this analysis is to compute the statical polarizability of the molecule and check its convergence w.r.t. the size of the simulation domain"
   ]
  },
  {
   "cell_type": "markdown",
   "metadata": {},
   "source": [
    "## System definition and computations"
   ]
  },
  {
   "cell_type": "code",
   "execution_count": 3,
   "metadata": {},
   "outputs": [],
   "source": [
    "outputpath = 'CO/static-field/'"
   ]
  },
  {
   "cell_type": "markdown",
   "metadata": {},
   "source": [
    "We define the python dictionary that contains the basic keys common to all the file in the run"
   ]
  },
  {
   "cell_type": "code",
   "execution_count": 4,
   "metadata": {},
   "outputs": [],
   "source": [
    "inp0 = {'dft' : \n",
    "        {'hgrids': 0.37,\n",
    "         'gnrm_cv' : 1e-8,\n",
    "         'itermax' : 100},\n",
    "        'posinp': 'CO_posinp.xyz'}\n",
    "Yaml.dump(inp0,outputpath + 'default.yaml')"
   ]
  },
  {
   "cell_type": "markdown",
   "metadata": {},
   "source": [
    "We perform the analysis for different box sizes and for the field norm equal to 0.0 and 1e-2 (a.u.) both in the z and x direction. \n",
    "We build python dictionary with the structure \n",
    "\n",
    "CO['field direction']['field norm']['box size']"
   ]
  },
  {
   "cell_type": "code",
   "execution_count": 5,
   "metadata": {},
   "outputs": [],
   "source": [
    "enorm = [0.0,1e-2]\n",
    "rVal = [float(i) for i in range(4,11)]"
   ]
  },
  {
   "cell_type": "code",
   "execution_count": 6,
   "metadata": {},
   "outputs": [],
   "source": [
    "CO = {'x':{}, 'z':{}}\n",
    "for e in enorm:\n",
    "    ex=[e,0.0,0.0]\n",
    "    ez=[0.0,0.0,e]\n",
    "    CO['x'][e] = {}\n",
    "    CO['z'][e] = {}\n",
    "    for r in rVal:\n",
    "        box = [r,9.0]\n",
    "        CO['x'][e][r] = {'input' : {'dft':{'rmult':box,'elecfield':ex}}} \n",
    "        CO['z'][e][r] = {'input' : {'dft':{'rmult':box,'elecfield':ez}}}"
   ]
  },
  {
   "cell_type": "code",
   "execution_count": 7,
   "metadata": {},
   "outputs": [
    {
     "data": {
      "text/plain": [
       "{'dft': {'elecfield': [0.01, 0.0, 0.0], 'rmult': [7.0, 9.0]}}"
      ]
     },
     "execution_count": 7,
     "metadata": {},
     "output_type": "execute_result"
    }
   ],
   "source": [
    "CO['x'][0.01][7.0]['input']"
   ]
  },
  {
   "cell_type": "code",
   "execution_count": 8,
   "metadata": {},
   "outputs": [
    {
     "name": "stdout",
     "output_type": "stream",
     "text": [
      "Initialize a Calculator with OMP_NUM_THREADS=2 and command mpirun -np 4 /home/marco/Applications/BigDFT/binaries/v1.8.3/install/bin/bigdft\n"
     ]
    }
   ],
   "source": [
    "study = C.SystemCalculator(omp='2',mpi_run='mpirun -np 4')"
   ]
  },
  {
   "cell_type": "code",
   "execution_count": 9,
   "metadata": {},
   "outputs": [
    {
     "name": "stdout",
     "output_type": "stream",
     "text": [
      "/home/marco/Data/RICERCA/LINEAR RESPONSE/LR-nb/POLARIZABILITY/nb_paper/CO/static-field\n",
      "Creating the yaml input file \"./Ex_enorm_0.0_rmult_4.0.yaml\"\n",
      "Executing command:  mpirun -np 4 /home/marco/Applications/BigDFT/binaries/v1.8.3/install/bin/bigdft -n Ex_enorm_0.0_rmult_4.0 -d ./log/ -s Yes\n",
      "Creating the yaml input file \"./Ex_enorm_0.0_rmult_5.0.yaml\"\n",
      "Executing command:  mpirun -np 4 /home/marco/Applications/BigDFT/binaries/v1.8.3/install/bin/bigdft -n Ex_enorm_0.0_rmult_5.0 -d ./log/ -s Yes\n",
      "Creating the yaml input file \"./Ex_enorm_0.0_rmult_6.0.yaml\"\n",
      "Executing command:  mpirun -np 4 /home/marco/Applications/BigDFT/binaries/v1.8.3/install/bin/bigdft -n Ex_enorm_0.0_rmult_6.0 -d ./log/ -s Yes\n",
      "Creating the yaml input file \"./Ex_enorm_0.0_rmult_7.0.yaml\"\n",
      "Executing command:  mpirun -np 4 /home/marco/Applications/BigDFT/binaries/v1.8.3/install/bin/bigdft -n Ex_enorm_0.0_rmult_7.0 -d ./log/ -s Yes\n",
      "Creating the yaml input file \"./Ex_enorm_0.0_rmult_8.0.yaml\"\n",
      "Executing command:  mpirun -np 4 /home/marco/Applications/BigDFT/binaries/v1.8.3/install/bin/bigdft -n Ex_enorm_0.0_rmult_8.0 -d ./log/ -s Yes\n",
      "Creating the yaml input file \"./Ex_enorm_0.0_rmult_9.0.yaml\"\n",
      "Executing command:  mpirun -np 4 /home/marco/Applications/BigDFT/binaries/v1.8.3/install/bin/bigdft -n Ex_enorm_0.0_rmult_9.0 -d ./log/ -s Yes\n",
      "Creating the yaml input file \"./Ex_enorm_0.0_rmult_10.0.yaml\"\n",
      "Executing command:  mpirun -np 4 /home/marco/Applications/BigDFT/binaries/v1.8.3/install/bin/bigdft -n Ex_enorm_0.0_rmult_10.0 -d ./log/ -s Yes\n",
      "Creating the yaml input file \"./Ex_enorm_0.01_rmult_4.0.yaml\"\n",
      "Executing command:  mpirun -np 4 /home/marco/Applications/BigDFT/binaries/v1.8.3/install/bin/bigdft -n Ex_enorm_0.01_rmult_4.0 -d ./log/ -s Yes\n",
      "Creating the yaml input file \"./Ex_enorm_0.01_rmult_5.0.yaml\"\n",
      "Executing command:  mpirun -np 4 /home/marco/Applications/BigDFT/binaries/v1.8.3/install/bin/bigdft -n Ex_enorm_0.01_rmult_5.0 -d ./log/ -s Yes\n",
      "Creating the yaml input file \"./Ex_enorm_0.01_rmult_6.0.yaml\"\n",
      "Executing command:  mpirun -np 4 /home/marco/Applications/BigDFT/binaries/v1.8.3/install/bin/bigdft -n Ex_enorm_0.01_rmult_6.0 -d ./log/ -s Yes\n",
      "Creating the yaml input file \"./Ex_enorm_0.01_rmult_7.0.yaml\"\n",
      "Executing command:  mpirun -np 4 /home/marco/Applications/BigDFT/binaries/v1.8.3/install/bin/bigdft -n Ex_enorm_0.01_rmult_7.0 -d ./log/ -s Yes\n",
      "Creating the yaml input file \"./Ex_enorm_0.01_rmult_8.0.yaml\"\n",
      "Executing command:  mpirun -np 4 /home/marco/Applications/BigDFT/binaries/v1.8.3/install/bin/bigdft -n Ex_enorm_0.01_rmult_8.0 -d ./log/ -s Yes\n",
      "Creating the yaml input file \"./Ex_enorm_0.01_rmult_9.0.yaml\"\n",
      "Executing command:  mpirun -np 4 /home/marco/Applications/BigDFT/binaries/v1.8.3/install/bin/bigdft -n Ex_enorm_0.01_rmult_9.0 -d ./log/ -s Yes\n",
      "Creating the yaml input file \"./Ex_enorm_0.01_rmult_10.0.yaml\"\n",
      "Executing command:  mpirun -np 4 /home/marco/Applications/BigDFT/binaries/v1.8.3/install/bin/bigdft -n Ex_enorm_0.01_rmult_10.0 -d ./log/ -s Yes\n",
      "Creating the yaml input file \"./Ez_enorm_0.0_rmult_4.0.yaml\"\n",
      "Executing command:  mpirun -np 4 /home/marco/Applications/BigDFT/binaries/v1.8.3/install/bin/bigdft -n Ez_enorm_0.0_rmult_4.0 -d ./log/ -s Yes\n",
      "Creating the yaml input file \"./Ez_enorm_0.0_rmult_5.0.yaml\"\n",
      "Executing command:  mpirun -np 4 /home/marco/Applications/BigDFT/binaries/v1.8.3/install/bin/bigdft -n Ez_enorm_0.0_rmult_5.0 -d ./log/ -s Yes\n",
      "Creating the yaml input file \"./Ez_enorm_0.0_rmult_6.0.yaml\"\n",
      "Executing command:  mpirun -np 4 /home/marco/Applications/BigDFT/binaries/v1.8.3/install/bin/bigdft -n Ez_enorm_0.0_rmult_6.0 -d ./log/ -s Yes\n",
      "Creating the yaml input file \"./Ez_enorm_0.0_rmult_7.0.yaml\"\n",
      "Executing command:  mpirun -np 4 /home/marco/Applications/BigDFT/binaries/v1.8.3/install/bin/bigdft -n Ez_enorm_0.0_rmult_7.0 -d ./log/ -s Yes\n",
      "Creating the yaml input file \"./Ez_enorm_0.0_rmult_8.0.yaml\"\n",
      "Executing command:  mpirun -np 4 /home/marco/Applications/BigDFT/binaries/v1.8.3/install/bin/bigdft -n Ez_enorm_0.0_rmult_8.0 -d ./log/ -s Yes\n",
      "Creating the yaml input file \"./Ez_enorm_0.0_rmult_9.0.yaml\"\n",
      "Executing command:  mpirun -np 4 /home/marco/Applications/BigDFT/binaries/v1.8.3/install/bin/bigdft -n Ez_enorm_0.0_rmult_9.0 -d ./log/ -s Yes\n",
      "Creating the yaml input file \"./Ez_enorm_0.0_rmult_10.0.yaml\"\n",
      "Executing command:  mpirun -np 4 /home/marco/Applications/BigDFT/binaries/v1.8.3/install/bin/bigdft -n Ez_enorm_0.0_rmult_10.0 -d ./log/ -s Yes\n",
      "Creating the yaml input file \"./Ez_enorm_0.01_rmult_4.0.yaml\"\n",
      "Executing command:  mpirun -np 4 /home/marco/Applications/BigDFT/binaries/v1.8.3/install/bin/bigdft -n Ez_enorm_0.01_rmult_4.0 -d ./log/ -s Yes\n",
      "Creating the yaml input file \"./Ez_enorm_0.01_rmult_5.0.yaml\"\n",
      "Executing command:  mpirun -np 4 /home/marco/Applications/BigDFT/binaries/v1.8.3/install/bin/bigdft -n Ez_enorm_0.01_rmult_5.0 -d ./log/ -s Yes\n",
      "Creating the yaml input file \"./Ez_enorm_0.01_rmult_6.0.yaml\"\n",
      "Executing command:  mpirun -np 4 /home/marco/Applications/BigDFT/binaries/v1.8.3/install/bin/bigdft -n Ez_enorm_0.01_rmult_6.0 -d ./log/ -s Yes\n",
      "Creating the yaml input file \"./Ez_enorm_0.01_rmult_7.0.yaml\"\n",
      "Executing command:  mpirun -np 4 /home/marco/Applications/BigDFT/binaries/v1.8.3/install/bin/bigdft -n Ez_enorm_0.01_rmult_7.0 -d ./log/ -s Yes\n",
      "Creating the yaml input file \"./Ez_enorm_0.01_rmult_8.0.yaml\"\n",
      "Executing command:  mpirun -np 4 /home/marco/Applications/BigDFT/binaries/v1.8.3/install/bin/bigdft -n Ez_enorm_0.01_rmult_8.0 -d ./log/ -s Yes\n",
      "Creating the yaml input file \"./Ez_enorm_0.01_rmult_9.0.yaml\"\n",
      "Executing command:  mpirun -np 4 /home/marco/Applications/BigDFT/binaries/v1.8.3/install/bin/bigdft -n Ez_enorm_0.01_rmult_9.0 -d ./log/ -s Yes\n",
      "Creating the yaml input file \"./Ez_enorm_0.01_rmult_10.0.yaml\"\n",
      "Executing command:  mpirun -np 4 /home/marco/Applications/BigDFT/binaries/v1.8.3/install/bin/bigdft -n Ez_enorm_0.01_rmult_10.0 -d ./log/ -s Yes\n",
      "/home/marco/Data/RICERCA/LINEAR RESPONSE/LR-nb/POLARIZABILITY/nb_paper\n"
     ]
    }
   ],
   "source": [
    "%cd $outputpath\n",
    "for edir in ['x','z']:\n",
    "    for e in enorm:\n",
    "        for r in rVal:\n",
    "            inpName = 'E'+str(edir)+'_enorm_'+str(e)+'_rmult_'+str(r)\n",
    "            CO[edir][e][r]['log'] = study.run(name=inpName,input=CO[edir][e][r]['input'],outdir='./log/',skip=True)\n",
    "%cd ../../"
   ]
  },
  {
   "cell_type": "markdown",
   "metadata": {},
   "source": [
    "For instance to extract the z dimension of the simulation box in Angstroem"
   ]
  },
  {
   "cell_type": "code",
   "execution_count": 10,
   "metadata": {
    "scrolled": true
   },
   "outputs": [
    {
     "data": {
      "text/plain": [
       "11.552"
      ]
     },
     "execution_count": 10,
     "metadata": {},
     "output_type": "execute_result"
    }
   ],
   "source": [
    "CO['x'][0.01][7]['log'].log['Sizes of the simulation domain']['Angstroem'][2]"
   ]
  },
  {
   "cell_type": "markdown",
   "metadata": {},
   "source": [
    "### Convergence of the statical polarizability w.r.t the box size"
   ]
  },
  {
   "cell_type": "markdown",
   "metadata": {},
   "source": [
    "Compute the statical polarizability (as the ratio between the induced dipole minus the permament one divided for the value of the field) in each simulation box and check of the convergence of the result "
   ]
  },
  {
   "cell_type": "code",
   "execution_count": 11,
   "metadata": {},
   "outputs": [],
   "source": [
    "alpha = {'x': {}, 'z': {}}\n",
    "dipoleGS = {'x': {}, 'z': {}}\n",
    "for r in rVal:\n",
    "    dipGSX = CO['x'][enorm[0]][r]['log'].log['Electric Dipole Moment (AU)']['P vector'][0]\n",
    "    indipoleX = CO['x'][enorm[1]][r]['log'].log['Electric Dipole Moment (AU)']['P vector'][0]\n",
    "    dipGSZ = CO['z'][enorm[0]][r]['log'].log['Electric Dipole Moment (AU)']['P vector'][2]\n",
    "    indipoleZ = CO['z'][enorm[1]][r]['log'].log['Electric Dipole Moment (AU)']['P vector'][2]\n",
    "    alpha['x'][r] = (indipoleX-dipGSX)/enorm[1]\n",
    "    alpha['z'][r] = (indipoleZ-dipGSZ)/enorm[1]\n",
    "    dipoleGS['x'][r] = np.abs(dipGSX)\n",
    "    dipoleGS['z'][r] = np.abs(dipGSZ)\n",
    "boxSize = []\n",
    "for r in rVal:\n",
    "    boxSize.append(CO['x'][0.0][r]['log'].log['Sizes of the simulation domain']['Angstroem'][2])    "
   ]
  },
  {
   "cell_type": "code",
   "execution_count": 12,
   "metadata": {},
   "outputs": [
    {
     "data": {
      "image/png": "[encoded data removed]",
      "text/plain": [
       "<Figure size 432x288 with 2 Axes>"
      ]
     },
     "metadata": {},
     "output_type": "display_data"
    }
   ],
   "source": [
    "%matplotlib inline\n",
    "\n",
    "fig, ax1 = plt.subplots()\n",
    "\n",
    "ax1.set_xlabel('box size ($\\AA$)',size = 14)\n",
    "plt.ylabel(r'$\\alpha_{zz}$ (a.u.)',size = 14)\n",
    "ax1.plot(boxSize,alpha['z'].values())\n",
    "for ind,r in enumerate(rVal):\n",
    "    ax1.scatter(boxSize[ind],alpha['z'][r],color='black')\n",
    "\n",
    "ax2 = ax1.twinx()\n",
    "ax2.plot(boxSize,dipoleGS['z'].values(),color='red',linestyle='-')\n",
    "#plt.yticks([])\n",
    "plt.ylim(ymax=0.08)\n",
    "plt.ylabel(r'$d_z^{(GS)}$ (a.u.)',size=14)\n",
    "plt.show()"
   ]
  },
  {
   "cell_type": "code",
   "execution_count": null,
   "metadata": {},
   "outputs": [],
   "source": []
  }
 ],
 "metadata": {
  "kernelspec": {
   "display_name": "Python 2",
   "language": "python",
   "name": "python2"
  },
  "language_info": {
   "codemirror_mode": {
    "name": "ipython",
    "version": 2
   },
   "file_extension": ".py",
   "mimetype": "text/x-python",
   "name": "python",
   "nbconvert_exporter": "python",
   "pygments_lexer": "ipython2",
   "version": "2.7.15rc1"
  }
 },
 "nbformat": 4,
 "nbformat_minor": 2
}
