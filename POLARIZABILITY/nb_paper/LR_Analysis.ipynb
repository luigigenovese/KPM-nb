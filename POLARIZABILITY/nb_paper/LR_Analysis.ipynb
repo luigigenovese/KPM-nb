{
 "cells": [
  {
   "cell_type": "code",
   "execution_count": 1,
   "metadata": {},
   "outputs": [],
   "source": [
    "from BigDFT import Logfiles as lf\n",
    "from BigDFT import DoS as D\n",
    "from futile import Yaml\n",
    "from futile.Utils import write\n",
    "import matplotlib\n",
    "import matplotlib.pyplot as plt\n",
    "import numpy as np\n",
    "import LRTDDFT as LR\n",
    "HaeV=27.21138386"
   ]
  },
  {
   "cell_type": "code",
   "execution_count": 2,
   "metadata": {},
   "outputs": [],
   "source": [
    "def build_syst_dict(systPath,norb):\n",
    "    syst = {}\n",
    "    outp = systPath+'/log'\n",
    "    %cd $outp\n",
    "    logs = !ls log-Rmult_*\n",
    "    for l in logs:\n",
    "        data = lf.Logfile(l)\n",
    "        rmult = data.log['dft']['rmult'][0]\n",
    "        nvirt = len(data.evals[0][0]) - norb\n",
    "        syst[rmult] = {'nvirt':nvirt}\n",
    "    %cd ../../../\n",
    "    return syst\n",
    "    \n",
    "def get_tddft_quantities(syst,sysPath):\n",
    "    from futile.Utils import write\n",
    "    outp = sysPath+'/log'\n",
    "    %cd $outp\n",
    "    for rVal in syst:\n",
    "        dpath = 'data-'+'Rmult_'+str(rVal)+'/transition_quantities.txt'\n",
    "        trans = np.loadtxt(dpath)\n",
    "        syst[rVal]['T']=trans\n",
    "        cpath = 'data-'+'Rmult_'+str(rVal)+'/coupling_matrix.txt'\n",
    "        Cmat = np.loadtxt(cpath)\n",
    "        syst[rVal]['C']=Cmat\n",
    "        write('Casida Matrix is symmetric',np.allclose(Cmat,Cmat.T,atol=1.e-12))\n",
    "        syst[rVal]['logfile'] = lf.Logfile('log-Rmult_'+str(rVal)+'_numVirt_'+str(syst[rVal]['nvirt'])+'.yaml')\n",
    "    %cd ../../../"
   ]
  },
  {
   "cell_type": "markdown",
   "metadata": {},
   "source": [
    "# LR Analysis"
   ]
  },
  {
   "cell_type": "markdown",
   "metadata": {},
   "source": [
    "This notebook analyze the LR properties of a system. It assumes that the TDDFT-BigDFT computation has already been performed."
   ]
  },
  {
   "cell_type": "markdown",
   "metadata": {},
   "source": [
    "## Analysis of the $CO$ molecule"
   ]
  },
  {
   "cell_type": "code",
   "execution_count": 3,
   "metadata": {},
   "outputs": [
    {
     "name": "stdout",
     "output_type": "stream",
     "text": [
      "/media/DATA/RICERCA/LINEAR RESPONSE/LR-nb/POLARIZABILITY/nb_paper/CO/linear-response/log\n",
      "/media/DATA/RICERCA/LINEAR RESPONSE/LR-nb/POLARIZABILITY/nb_paper\n"
     ]
    },
    {
     "data": {
      "text/plain": [
       "{7.0: {'nvirt': 280}, 9.0: {'nvirt': 280}, 10.0: {'nvirt': 280}}"
      ]
     },
     "execution_count": 3,
     "metadata": {},
     "output_type": "execute_result"
    }
   ],
   "source": [
    "norbCO = 5\n",
    "pathCO = 'CO/linear-response/'\n",
    "CO = build_syst_dict(pathCO, norbCO)\n",
    "CO"
   ]
  },
  {
   "cell_type": "code",
   "execution_count": 4,
   "metadata": {},
   "outputs": [
    {
     "name": "stdout",
     "output_type": "stream",
     "text": [
      "/media/DATA/RICERCA/LINEAR RESPONSE/LR-nb/POLARIZABILITY/nb_paper/CO/linear-response/log\n",
      "Casida Matrix is symmetric True\n",
      "Casida Matrix is symmetric True\n",
      "Casida Matrix is symmetric True\n",
      "/media/DATA/RICERCA/LINEAR RESPONSE/LR-nb/POLARIZABILITY/nb_paper\n"
     ]
    }
   ],
   "source": [
    "get_tddft_quantities(CO,pathCO)"
   ]
  },
  {
   "cell_type": "markdown",
   "metadata": {},
   "source": [
    "Solve the Casida eigenproblems using naSmall virtual orbitals. In this example the choice naSmall = nvirt is performed but the actual number of virtual orbitals can be reduced to check the convergence of the results w.r.t. the \n",
    "dimension of the basis in the empty-state subspace."
   ]
  },
  {
   "cell_type": "code",
   "execution_count": 5,
   "metadata": {},
   "outputs": [],
   "source": [
    "naSmall = [280]"
   ]
  },
  {
   "cell_type": "code",
   "execution_count": 6,
   "metadata": {},
   "outputs": [
    {
     "name": "stdout",
     "output_type": "stream",
     "text": [
      "Solve for rVal =  9.0\n",
      "Eigensystem solved for 280\n",
      "Solve for rVal =  10.0\n",
      "Eigensystem solved for 280\n",
      "Solve for rVal =  7.0\n",
      "Eigensystem solved for 280\n"
     ]
    }
   ],
   "source": [
    "reload(LR)\n",
    "LR.diagonalize_CM(norbCO,CO,naSmall)\n",
    "LR.collect_LR(CO)"
   ]
  },
  {
   "cell_type": "markdown",
   "metadata": {},
   "source": [
    "#### Dynamical polarizability"
   ]
  },
  {
   "cell_type": "code",
   "execution_count": 7,
   "metadata": {},
   "outputs": [
    {
     "name": "stdout",
     "output_type": "stream",
     "text": [
      "Compute for rVal =  9.0  with nalpha =  280\n",
      "numpoint =  336  omegaMax (eV) =  45.8183849825\n",
      "Compute for rVal =  10.0  with nalpha =  280\n",
      "numpoint =  311  omegaMax (eV) =  42.431982253\n",
      "Compute for rVal =  7.0  with nalpha =  280\n",
      "numpoint =  434  omegaMax (eV) =  59.1066901023\n"
     ]
    }
   ],
   "source": [
    "reload(LR)\n",
    "CO_spectrum = LR.collect_spectrum(CO)"
   ]
  },
  {
   "cell_type": "code",
   "execution_count": 13,
   "metadata": {},
   "outputs": [
    {
     "data": {
      "image/png": "[encoded data removed]",
      "text/plain": [
       "<matplotlib.figure.Figure at 0x7f5add97fd10>"
      ]
     },
     "metadata": {},
     "output_type": "display_data"
    }
   ],
   "source": [
    "%matplotlib inline\n",
    "syst = CO_spectrum\n",
    "part = 'imagPart' #use 'realPart' to plot the real part of the dynamical polarizability\n",
    "size = str(CO[7.0]['logfile'].log['Sizes of the simulation domain']['Angstroem'][2])\n",
    "plt.plot(syst[7.0]['omega'],syst[7.0][part],'--',c='red',linewidth=2,label= size + ' $\\AA$')\n",
    "size = str(CO[9.0]['logfile'].log['Sizes of the simulation domain']['Angstroem'][2])\n",
    "plt.plot(syst[9.0]['omega'],syst[9.0][part],'-.',c='blue',linewidth=2,label= size + ' $\\AA$')\n",
    "size = str(CO[10.0]['logfile'].log['Sizes of the simulation domain']['Angstroem'][2])\n",
    "plt.plot(syst[10.0]['omega'],syst[10.0][part],'-',c='black',linewidth=1.5,label= size + ' $\\AA$')\n",
    "plt.xlim(xmax=30)\n",
    "plt.yticks([])\n",
    "plt.xlabel(r'$\\omega$ (eV)',size = 14)\n",
    "#plt.title('Absorption spectrum')\n",
    "eps_h = abs(HaeV*LR.get_alpha_energy(CO[7.0]['logfile'],norbCO,0))\n",
    "plt.axvline(x=eps_h, color='black', linestyle='--')\n",
    "plt.legend(loc='best')\n",
    "plt.show()"
   ]
  },
  {
   "cell_type": "markdown",
   "metadata": {},
   "source": [
    "### Excitations"
   ]
  },
  {
   "cell_type": "markdown",
   "metadata": {},
   "source": [
    "We attribute to the first numExc excitations a threshold key ('th') that contain the value of the psi_p of highest energy that contributes to the excitation, with a threshold level given by th_value. We take into account the degenaracy of the psi_p states to build the threshold levels.  "
   ]
  },
  {
   "cell_type": "code",
   "execution_count": null,
   "metadata": {},
   "outputs": [],
   "source": []
  },
  {
   "cell_type": "code",
   "execution_count": null,
   "metadata": {},
   "outputs": [],
   "source": []
  },
  {
   "cell_type": "code",
   "execution_count": null,
   "metadata": {},
   "outputs": [],
   "source": []
  },
  {
   "cell_type": "code",
   "execution_count": null,
   "metadata": {},
   "outputs": [],
   "source": []
  },
  {
   "cell_type": "code",
   "execution_count": null,
   "metadata": {},
   "outputs": [],
   "source": []
  },
  {
   "cell_type": "code",
   "execution_count": null,
   "metadata": {},
   "outputs": [],
   "source": []
  }
 ],
 "metadata": {
  "kernelspec": {
   "display_name": "Python 2",
   "language": "python",
   "name": "python2"
  },
  "language_info": {
   "codemirror_mode": {
    "name": "ipython",
    "version": 2
   },
   "file_extension": ".py",
   "mimetype": "text/x-python",
   "name": "python",
   "nbconvert_exporter": "python",
   "pygments_lexer": "ipython2",
   "version": "2.7.14"
  }
 },
 "nbformat": 4,
 "nbformat_minor": 2
}
