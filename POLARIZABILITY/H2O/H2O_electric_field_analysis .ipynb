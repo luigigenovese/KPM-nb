{
 "cells": [
  {
   "cell_type": "markdown",
   "metadata": {},
   "source": [
    "# Analysis of $H_2O$ in a static electric field"
   ]
  },
  {
   "cell_type": "markdown",
   "metadata": {},
   "source": [
    "We consider a $H_2O$ molecule in a static electric field. The atomic configuration is chosen so that the intrinsic dipole moment is oriented along the $z$ axis. We present results for fields both directed in the z and in the x directions. \n",
    "\n",
    "The main aim of this analysis is to determine the range of the amplitude of the electric field for which a linear response regime can be applied. Moreover we also check for the influence of the simulation box on the perturbed system.\n",
    "As a criterium of consistency we require that the energy of the occupied KS orbitals should remain constant as the dimension of the box is increased.  "
   ]
  },
  {
   "cell_type": "code",
   "execution_count": 1,
   "metadata": {
    "collapsed": true
   },
   "outputs": [],
   "source": [
    "#%autosave 0\n",
    "from BigDFT import Logfiles as lf\n",
    "from futile import Yaml\n",
    "import matplotlib.pyplot as plt\n",
    "inputpath = 'input/'"
   ]
  },
  {
   "cell_type": "markdown",
   "metadata": {},
   "source": [
    "First of all we define the python dictionary that contains the default input file."
   ]
  },
  {
   "cell_type": "code",
   "execution_count": 2,
   "metadata": {
    "collapsed": true
   },
   "outputs": [],
   "source": [
    "inp0 = {'dft' : \n",
    "        {'hgrids': 0.4,\n",
    "         'gnrm_cv' : 1e-8,\n",
    "         'itermax' :100},\n",
    "        'posinp': 'H2O_posinp.xyz'}"
   ]
  },
  {
   "cell_type": "code",
   "execution_count": 3,
   "metadata": {
    "collapsed": true
   },
   "outputs": [],
   "source": [
    "Yaml.dump(inp0,inputpath + 'default.yaml')"
   ]
  },
  {
   "cell_type": "markdown",
   "metadata": {},
   "source": [
    "We perform the analysis for different values of the field norm."
   ]
  },
  {
   "cell_type": "markdown",
   "metadata": {},
   "source": [
    "We build the following lists, with the values of the x and z components of the induced dipole moments (corresponding to the largest simulation box) and of the fields. We use these values to check the linearity of the dipole moments with respect to the field"
   ]
  },
  {
   "cell_type": "code",
   "execution_count": 4,
   "metadata": {
    "collapsed": true
   },
   "outputs": [],
   "source": [
    "PxEx=[]\n",
    "PxEz=[]\n",
    "PzEx=[]\n",
    "PzEz=[]\n",
    "ExField=[]\n",
    "EzField=[]"
   ]
  },
  {
   "cell_type": "markdown",
   "metadata": {},
   "source": [
    "# $E$-norm = $0$"
   ]
  },
  {
   "cell_type": "markdown",
   "metadata": {},
   "source": [
    "## Set up of the simulations"
   ]
  },
  {
   "cell_type": "markdown",
   "metadata": {},
   "source": [
    "We build a set of input files with increasing values of the box dimension for both the x and z electric field configurations. "
   ]
  },
  {
   "cell_type": "code",
   "execution_count": 5,
   "metadata": {
    "collapsed": true
   },
   "outputs": [],
   "source": [
    "enorm = 0.0\n",
    "en = str('0')"
   ]
  },
  {
   "cell_type": "code",
   "execution_count": 6,
   "metadata": {
    "collapsed": true
   },
   "outputs": [],
   "source": [
    "ez=[0.0,0.0,enorm]\n",
    "ex=[enorm,0.0,0.0]"
   ]
  },
  {
   "cell_type": "code",
   "execution_count": 7,
   "metadata": {
    "collapsed": true
   },
   "outputs": [],
   "source": [
    "inpEz={'dft':{'elecfield': ez}}\n",
    "inpEx={'dft':{'elecfield': ex}}"
   ]
  },
  {
   "cell_type": "code",
   "execution_count": 8,
   "metadata": {},
   "outputs": [
    {
     "data": {
      "text/plain": [
       "[[4.0, 9.0], [5.0, 9.0], [6.0, 9.0], [7.0, 9.0], [8.0, 9.0], [9.0, 9.0]]"
      ]
     },
     "execution_count": 8,
     "metadata": {},
     "output_type": "execute_result"
    }
   ],
   "source": [
    "rmult = [[float(i), 9.0] for i in range(4,10)]\n",
    "rmult"
   ]
  },
  {
   "cell_type": "code",
   "execution_count": 9,
   "metadata": {
    "collapsed": true
   },
   "outputs": [],
   "source": [
    "lrun=[]\n",
    "for r in rmult:\n",
    "    inpEz['dft']['rmult'] = r\n",
    "    inpEx['dft']['rmult'] = r\n",
    "    inpnameEz = 'Ez_'+en+str('rmult_')+str(r[0])\n",
    "    inpnameEx = 'Ex_'+en+str('rmult_')+str(r[0])\n",
    "    Yaml.dump(inpEz,inputpath + inpnameEz + '.yaml')\n",
    "    Yaml.dump(inpEx,inputpath + inpnameEx + '.yaml')\n",
    "    lrun.append(inpnameEz)\n",
    "    lrun.append(inpnameEx)\n",
    "Yaml.dump(lrun,inputpath+'runs_'+en)"
   ]
  },
  {
   "cell_type": "markdown",
   "metadata": {},
   "source": [
    "We execute the single file with the command:\n",
    "\n",
    "OMP_NUM_THREADS=1 mpirun -np 8 $BIGDFT_ROOT/bigdft -d ../log/ -n namefile\n",
    "\n",
    "or the sequence of file in the runs as:\n",
    "\n",
    "OMP_NUM_THREADS=1 mpirun -np 8 $BIGDFT_ROOT/bigdft -d ../log/ -r runs_en\n",
    "\n",
    "if we want to not run again the runs already performed the command is as:\n",
    "\n",
    "OMP_NUM_THREADS=1 mpirun -np 8 $BIGDFT_ROOT/bigdft -d ../log/ -r runs_en -s yes"
   ]
  },
  {
   "cell_type": "markdown",
   "metadata": {},
   "source": [
    "## Data analysis"
   ]
  },
  {
   "cell_type": "markdown",
   "metadata": {
    "collapsed": true
   },
   "source": [
    "Now we plot the energy of the KS orbitals as a function of the dimension of the box. We import the log files with the results of the simulations:"
   ]
  },
  {
   "cell_type": "code",
   "execution_count": 10,
   "metadata": {},
   "outputs": [
    {
     "name": "stdout",
     "output_type": "stream",
     "text": [
      "['log/log-Ex_0rmult_4.0.yaml', 'log/log-Ex_0rmult_5.0.yaml', 'log/log-Ex_0rmult_6.0.yaml', 'log/log-Ex_0rmult_7.0.yaml', 'log/log-Ex_0rmult_8.0.yaml', 'log/log-Ex_0rmult_9.0.yaml']\n",
      "['log/log-Ez_0rmult_4.0.yaml', 'log/log-Ez_0rmult_5.0.yaml', 'log/log-Ez_0rmult_6.0.yaml', 'log/log-Ez_0rmult_7.0.yaml', 'log/log-Ez_0rmult_8.0.yaml', 'log/log-Ez_0rmult_9.0.yaml']\n"
     ]
    }
   ],
   "source": [
    "logsEx = !ls log/log-Ex_0*\n",
    "Ex=[lf.Logfile(l) for l in logsEx]\n",
    "nRunEx=len(Ex)\n",
    "print(logsEx)\n",
    "\n",
    "logsEz = !ls log/log-Ez_0*\n",
    "Ez=[lf.Logfile(l) for l in logsEz]\n",
    "nRunEz=len(Ez)\n",
    "print(logsEz)"
   ]
  },
  {
   "cell_type": "markdown",
   "metadata": {
    "collapsed": true
   },
   "source": [
    "for each run i the lists Ex[i].evals[0][0] and Ez[i].evals[0][0] contain the energy of the orbitals, for instance:"
   ]
  },
  {
   "cell_type": "code",
   "execution_count": 11,
   "metadata": {},
   "outputs": [
    {
     "data": {
      "text/plain": [
       "BandArray([-0.91762587, -0.47906366, -0.33721525, -0.26518905])"
      ]
     },
     "execution_count": 11,
     "metadata": {},
     "output_type": "execute_result"
    }
   ],
   "source": [
    "Ez[0].evals[0][0]"
   ]
  },
  {
   "cell_type": "markdown",
   "metadata": {},
   "source": [
    "The number of orbitals is given by"
   ]
  },
  {
   "cell_type": "code",
   "execution_count": 12,
   "metadata": {
    "collapsed": true
   },
   "outputs": [],
   "source": [
    "norb =len(Ex[0].evals[0][0])"
   ]
  },
  {
   "cell_type": "markdown",
   "metadata": {},
   "source": [
    "we introduce the lists enEx[i], enEz[i] (with i in range(norb)) that contains the energy of the i-th orbital for\n",
    "all the runs"
   ]
  },
  {
   "cell_type": "code",
   "execution_count": 13,
   "metadata": {
    "collapsed": true
   },
   "outputs": [],
   "source": [
    "enEx=[]\n",
    "for orb in range(norb):\n",
    "    eorb=[]\n",
    "    for run in range(nRunEx):\n",
    "        eorb.append(Ex[run].evals[0][0][orb])\n",
    "    enEx.append(eorb)\n",
    "\n",
    "enEz=[]\n",
    "for orb in range(norb):\n",
    "    eorb=[]\n",
    "    for run in range(nRunEx):\n",
    "        eorb.append(Ez[run].evals[0][0][orb])\n",
    "    enEz.append(eorb)"
   ]
  },
  {
   "cell_type": "code",
   "execution_count": 14,
   "metadata": {
    "collapsed": true
   },
   "outputs": [],
   "source": [
    "dimBoxEx=[]\n",
    "dimBoxEz=[]\n",
    "for ind in range(nRunEx):\n",
    "    dimBoxEx.append(Ex[ind].log['Sizes of the simulation domain']['Angstroem'][0])\n",
    "    dimBoxEz.append(Ez[ind].log['Sizes of the simulation domain']['Angstroem'][0])"
   ]
  },
  {
   "cell_type": "code",
   "execution_count": 15,
   "metadata": {},
   "outputs": [
    {
     "data": {
      "image/png": "[encoded data removed]",
      "text/plain": [
       "<matplotlib.figure.Figure at 0x7fd1888c99d0>"
      ]
     },
     "metadata": {},
     "output_type": "display_data"
    },
    {
     "data": {
      "image/png": "[encoded data removed]",
      "text/plain": [
       "<matplotlib.figure.Figure at 0x7fd1a12cd510>"
      ]
     },
     "metadata": {},
     "output_type": "display_data"
    }
   ],
   "source": [
    "for orb in range(norb):\n",
    "    plt.plot(dimBoxEx,enEx[orb])\n",
    "    plt.scatter(dimBoxEx,enEx[orb])\n",
    "plt.title('Energy of KS orbitals (Ex)',fontsize=16)\n",
    "plt.show()\n",
    "\n",
    "for orb in range(norb):\n",
    "    plt.plot(dimBoxEz,enEz[orb])\n",
    "    plt.scatter(dimBoxEz,enEz[orb])\n",
    "plt.title('Energy of KS orbitals (Ez)',fontsize=16)\n",
    "plt.show()"
   ]
  },
  {
   "cell_type": "markdown",
   "metadata": {},
   "source": [
    "We also plot the difference between the energy of each orbital and its value for the greatest simulation box"
   ]
  },
  {
   "cell_type": "code",
   "execution_count": 16,
   "metadata": {
    "collapsed": true
   },
   "outputs": [],
   "source": [
    "deltaEx=[]\n",
    "for orb in range(norb):\n",
    "    delta = enEx[orb]-enEx[orb][nRunEx-1]\n",
    "    deltaEx.append(delta)\n",
    "    \n",
    "deltaEz=[]\n",
    "for orb in range(norb):\n",
    "    delta = enEz[orb]-enEz[orb][nRunEz-1]\n",
    "    deltaEz.append(delta)"
   ]
  },
  {
   "cell_type": "code",
   "execution_count": 17,
   "metadata": {
    "scrolled": false
   },
   "outputs": [
    {
     "data": {
      "image/png": "[encoded data removed]",
      "text/plain": [
       "<matplotlib.figure.Figure at 0x7fd1a0777b50>"
      ]
     },
     "metadata": {},
     "output_type": "display_data"
    },
    {
     "data": {
      "image/png": "[encoded data removed]",
      "text/plain": [
       "<matplotlib.figure.Figure at 0x7fd1a0647350>"
      ]
     },
     "metadata": {},
     "output_type": "display_data"
    }
   ],
   "source": [
    "for orb in range(norb):\n",
    "    plt.plot(dimBoxEx,deltaEx[orb])\n",
    "    plt.scatter(dimBoxEx,deltaEx[orb])\n",
    "plt.title('Delta energy of KS orbitals (Ex)',fontsize=16)\n",
    "plt.show()\n",
    "\n",
    "for orb in range(norb):\n",
    "    plt.plot(dimBoxEz,deltaEz[orb])\n",
    "    plt.scatter(dimBoxEz,deltaEz[orb])\n",
    "plt.title('Delta energy of KS orbitals (Ez)',fontsize=16)\n",
    "plt.show()"
   ]
  },
  {
   "cell_type": "markdown",
   "metadata": {},
   "source": [
    "We compute the intrisc dipole moment (of the system in the largest box)"
   ]
  },
  {
   "cell_type": "code",
   "execution_count": 18,
   "metadata": {},
   "outputs": [
    {
     "name": "stdout",
     "output_type": "stream",
     "text": [
      "Px0 5.0444e-06\n",
      "Py0 -2.5024e-05\n",
      "Pz0 0.73066\n"
     ]
    }
   ],
   "source": [
    "Px0=Ex[-1].log['Electric Dipole Moment (AU)']['P vector'][0]\n",
    "Py0=Ez[-1].log['Electric Dipole Moment (AU)']['P vector'][1]\n",
    "Pz0=Ez[-1].log['Electric Dipole Moment (AU)']['P vector'][2]\n",
    "print 'Px0', Px0\n",
    "print 'Py0', Py0\n",
    "print 'Pz0', Pz0"
   ]
  },
  {
   "cell_type": "markdown",
   "metadata": {},
   "source": [
    "# $E$-norm = $5e^{-4}$"
   ]
  },
  {
   "cell_type": "markdown",
   "metadata": {},
   "source": [
    "## Set up of the simulations"
   ]
  },
  {
   "cell_type": "markdown",
   "metadata": {},
   "source": [
    "We build a set of input files with increasing values of the box dimension for both the x and z electric field configurations. "
   ]
  },
  {
   "cell_type": "code",
   "execution_count": 19,
   "metadata": {
    "collapsed": true
   },
   "outputs": [],
   "source": [
    "enorm = 5e-4\n",
    "en = str('5em4_')"
   ]
  },
  {
   "cell_type": "code",
   "execution_count": 20,
   "metadata": {
    "collapsed": true
   },
   "outputs": [],
   "source": [
    "ez=[0.0,0.0,enorm]\n",
    "ex=[enorm,0.0,0.0]"
   ]
  },
  {
   "cell_type": "code",
   "execution_count": 21,
   "metadata": {
    "collapsed": true
   },
   "outputs": [],
   "source": [
    "inpEz={'dft':{'elecfield': ez}}\n",
    "inpEx={'dft':{'elecfield': ex}}"
   ]
  },
  {
   "cell_type": "code",
   "execution_count": 22,
   "metadata": {},
   "outputs": [
    {
     "data": {
      "text/plain": [
       "[[4.0, 9.0], [5.0, 9.0], [6.0, 9.0], [7.0, 9.0], [8.0, 9.0], [9.0, 9.0]]"
      ]
     },
     "execution_count": 22,
     "metadata": {},
     "output_type": "execute_result"
    }
   ],
   "source": [
    "rmult = [[float(i), 9.0] for i in range(4,10)]\n",
    "rmult"
   ]
  },
  {
   "cell_type": "code",
   "execution_count": 23,
   "metadata": {
    "collapsed": true
   },
   "outputs": [],
   "source": [
    "lrun=[]\n",
    "for r in rmult:\n",
    "    inpEz['dft']['rmult'] = r\n",
    "    inpEx['dft']['rmult'] = r\n",
    "    inpnameEz = 'Ez_'+en+str('rmult_')+str(r[0])\n",
    "    inpnameEx = 'Ex_'+en+str('rmult_')+str(r[0])\n",
    "    Yaml.dump(inpEz,inputpath + inpnameEz + '.yaml')\n",
    "    Yaml.dump(inpEx,inputpath + inpnameEx + '.yaml')\n",
    "    lrun.append(inpnameEz)\n",
    "    lrun.append(inpnameEx)\n",
    "Yaml.dump(lrun,inputpath+'runs_'+en)"
   ]
  },
  {
   "cell_type": "markdown",
   "metadata": {},
   "source": [
    "## Data analysis"
   ]
  },
  {
   "cell_type": "markdown",
   "metadata": {
    "collapsed": true
   },
   "source": [
    "Now we plot the energy of the KS orbitals as a function of the dimension of the box. We import the log files with the results of the simulations:"
   ]
  },
  {
   "cell_type": "code",
   "execution_count": 24,
   "metadata": {},
   "outputs": [
    {
     "name": "stdout",
     "output_type": "stream",
     "text": [
      "['log/log-Ex_5em4_rmult_4.0.yaml', 'log/log-Ex_5em4_rmult_5.0.yaml', 'log/log-Ex_5em4_rmult_6.0.yaml', 'log/log-Ex_5em4_rmult_7.0.yaml', 'log/log-Ex_5em4_rmult_8.0.yaml', 'log/log-Ex_5em4_rmult_9.0.yaml']\n",
      "['log/log-Ez_5em4_rmult_4.0.yaml', 'log/log-Ez_5em4_rmult_5.0.yaml', 'log/log-Ez_5em4_rmult_6.0.yaml', 'log/log-Ez_5em4_rmult_7.0.yaml', 'log/log-Ez_5em4_rmult_8.0.yaml', 'log/log-Ez_5em4_rmult_9.0.yaml']\n"
     ]
    }
   ],
   "source": [
    "logsEx = !ls log/log-Ex_5em4*\n",
    "Ex=[lf.Logfile(l) for l in logsEx]\n",
    "nRunEx=len(Ex)\n",
    "print(logsEx)\n",
    "\n",
    "logsEz = !ls log/log-Ez_5em4*\n",
    "Ez=[lf.Logfile(l) for l in logsEz]\n",
    "nRunEz=len(Ez)\n",
    "print(logsEz)"
   ]
  },
  {
   "cell_type": "markdown",
   "metadata": {
    "collapsed": true
   },
   "source": [
    "for each run i the lists Ex[i].evals[0][0] and Ez[i].evals[0][0] contain the energy of the orbitals, for instance:"
   ]
  },
  {
   "cell_type": "code",
   "execution_count": 25,
   "metadata": {},
   "outputs": [
    {
     "data": {
      "text/plain": [
       "BandArray([-0.9174702 , -0.47892248, -0.33720052, -0.26511792])"
      ]
     },
     "execution_count": 25,
     "metadata": {},
     "output_type": "execute_result"
    }
   ],
   "source": [
    "Ez[0].evals[0][0]"
   ]
  },
  {
   "cell_type": "markdown",
   "metadata": {},
   "source": [
    " The number of orbitals is given by:"
   ]
  },
  {
   "cell_type": "code",
   "execution_count": 26,
   "metadata": {
    "collapsed": true
   },
   "outputs": [],
   "source": [
    "norb =len(Ex[0].evals[0][0])"
   ]
  },
  {
   "cell_type": "markdown",
   "metadata": {},
   "source": [
    "we introduce the lists enEx[i], enEz[i] (with i in range(norb)) that contains the energy of the i-th orbital for\n",
    "all the runs"
   ]
  },
  {
   "cell_type": "code",
   "execution_count": 27,
   "metadata": {
    "collapsed": true
   },
   "outputs": [],
   "source": [
    "enEx=[]\n",
    "for orb in range(norb):\n",
    "    eorb=[]\n",
    "    for run in range(nRunEx):\n",
    "        eorb.append(Ex[run].evals[0][0][orb])\n",
    "    enEx.append(eorb)\n",
    "\n",
    "enEz=[]\n",
    "for orb in range(norb):\n",
    "    eorb=[]\n",
    "    for run in range(nRunEx):\n",
    "        eorb.append(Ez[run].evals[0][0][orb])\n",
    "    enEz.append(eorb)"
   ]
  },
  {
   "cell_type": "code",
   "execution_count": 28,
   "metadata": {
    "collapsed": true
   },
   "outputs": [],
   "source": [
    "dimBoxEx=[]\n",
    "dimBoxEz=[]\n",
    "for ind in range(nRunEx):\n",
    "    dimBoxEx.append(Ex[ind].log['Sizes of the simulation domain']['Angstroem'][0])\n",
    "    dimBoxEz.append(Ez[ind].log['Sizes of the simulation domain']['Angstroem'][0])"
   ]
  },
  {
   "cell_type": "code",
   "execution_count": 29,
   "metadata": {},
   "outputs": [
    {
     "data": {
      "image/png": "[encoded data removed]",
      "text/plain": [
       "<matplotlib.figure.Figure at 0x7fd1a043c390>"
      ]
     },
     "metadata": {},
     "output_type": "display_data"
    },
    {
     "data": {
      "image/png": "[encoded data removed]",
      "text/plain": [
       "<matplotlib.figure.Figure at 0x7fd1a05edf90>"
      ]
     },
     "metadata": {},
     "output_type": "display_data"
    }
   ],
   "source": [
    "for orb in range(norb):\n",
    "    plt.plot(dimBoxEx,enEx[orb])\n",
    "    plt.scatter(dimBoxEx,enEx[orb])\n",
    "plt.title('Energy of KS orbitals (Ex)',fontsize=16)\n",
    "plt.show()\n",
    "\n",
    "for orb in range(norb):\n",
    "    plt.plot(dimBoxEz,enEz[orb])\n",
    "    plt.scatter(dimBoxEz,enEz[orb])\n",
    "plt.title('Energy of KS orbitals (Ez)',fontsize=16)\n",
    "plt.show()"
   ]
  },
  {
   "cell_type": "markdown",
   "metadata": {},
   "source": [
    "We also plot the difference between the energy of each orbital and its value for the greatest simulation box"
   ]
  },
  {
   "cell_type": "code",
   "execution_count": 30,
   "metadata": {
    "collapsed": true
   },
   "outputs": [],
   "source": [
    "deltaEx=[]\n",
    "for orb in range(norb):\n",
    "    delta = enEx[orb]-enEx[orb][nRunEx-1]\n",
    "    deltaEx.append(delta)\n",
    "    \n",
    "deltaEz=[]\n",
    "for orb in range(norb):\n",
    "    delta = enEz[orb]-enEz[orb][nRunEz-1]\n",
    "    deltaEz.append(delta)"
   ]
  },
  {
   "cell_type": "code",
   "execution_count": 31,
   "metadata": {
    "scrolled": false
   },
   "outputs": [
    {
     "data": {
      "image/png": "[encoded data removed]",
      "text/plain": [
       "<matplotlib.figure.Figure at 0x7fd1a03f0750>"
      ]
     },
     "metadata": {},
     "output_type": "display_data"
    },
    {
     "data": {
      "image/png": "[encoded data removed]",
      "text/plain": [
       "<matplotlib.figure.Figure at 0x7fd1a05c5690>"
      ]
     },
     "metadata": {},
     "output_type": "display_data"
    }
   ],
   "source": [
    "for orb in range(norb):\n",
    "    plt.plot(dimBoxEx,deltaEx[orb])\n",
    "    plt.scatter(dimBoxEx,deltaEx[orb])\n",
    "plt.title('Delta energy of KS orbitals (Ex)',fontsize=16)\n",
    "plt.show()\n",
    "\n",
    "for orb in range(norb):\n",
    "    plt.plot(dimBoxEz,deltaEz[orb])\n",
    "    plt.scatter(dimBoxEz,deltaEz[orb])\n",
    "plt.title('Delta energy of KS orbitals (Ez)',fontsize=16)\n",
    "plt.show()"
   ]
  },
  {
   "cell_type": "code",
   "execution_count": 32,
   "metadata": {},
   "outputs": [
    {
     "name": "stdout",
     "output_type": "stream",
     "text": [
      "PxEx= [0.005451155599999999]\n",
      "PxEz= [6.08999999999997e-08]\n",
      "PzEx= [-9.99999999995449e-06]\n",
      "PzEz= [0.005400000000000071]\n",
      "ExField [0.0005]\n",
      "EzField [0.0005]\n"
     ]
    }
   ],
   "source": [
    "PxEx.append(Ex[-1].log['Electric Dipole Moment (AU)']['P vector'][0]-Px0)\n",
    "PxEz.append(Ez[-1].log['Electric Dipole Moment (AU)']['P vector'][0]-Px0)\n",
    "PzEx.append(Ex[-1].log['Electric Dipole Moment (AU)']['P vector'][2]-Pz0)\n",
    "PzEz.append(Ez[-1].log['Electric Dipole Moment (AU)']['P vector'][2]-Pz0)\n",
    "ExField.append(enorm)\n",
    "EzField.append(enorm)\n",
    "print 'PxEx=', PxEx\n",
    "print 'PxEz=', PxEz\n",
    "print 'PzEx=', PzEx\n",
    "print 'PzEz=', PzEz\n",
    "print 'ExField', ExField\n",
    "print 'EzField', EzField"
   ]
  },
  {
   "cell_type": "markdown",
   "metadata": {},
   "source": [
    "# $E$-norm = $1e^{-3}$"
   ]
  },
  {
   "cell_type": "markdown",
   "metadata": {},
   "source": [
    "## Set up of the simulations"
   ]
  },
  {
   "cell_type": "markdown",
   "metadata": {},
   "source": [
    "We build a set of input files with increasing values of the box dimension for both the x and z electric field configurations. "
   ]
  },
  {
   "cell_type": "code",
   "execution_count": 33,
   "metadata": {
    "collapsed": true
   },
   "outputs": [],
   "source": [
    "enorm = 1e-3\n",
    "en = str('1em3_')"
   ]
  },
  {
   "cell_type": "code",
   "execution_count": 34,
   "metadata": {
    "collapsed": true
   },
   "outputs": [],
   "source": [
    "ez=[0.0,0.0,enorm]\n",
    "ex=[enorm,0.0,0.0]"
   ]
  },
  {
   "cell_type": "code",
   "execution_count": 35,
   "metadata": {
    "collapsed": true
   },
   "outputs": [],
   "source": [
    "inpEz={'dft':{'elecfield': ez}}\n",
    "inpEx={'dft':{'elecfield': ex}}"
   ]
  },
  {
   "cell_type": "code",
   "execution_count": 36,
   "metadata": {},
   "outputs": [
    {
     "data": {
      "text/plain": [
       "[[4.0, 9.0], [5.0, 9.0], [6.0, 9.0], [7.0, 9.0], [8.0, 9.0], [9.0, 9.0]]"
      ]
     },
     "execution_count": 36,
     "metadata": {},
     "output_type": "execute_result"
    }
   ],
   "source": [
    "rmult = [[float(i), 9.0] for i in range(4,10)]\n",
    "rmult"
   ]
  },
  {
   "cell_type": "code",
   "execution_count": 37,
   "metadata": {
    "collapsed": true
   },
   "outputs": [],
   "source": [
    "lrun=[]\n",
    "for r in rmult:\n",
    "    inpEz['dft']['rmult'] = r\n",
    "    inpEx['dft']['rmult'] = r\n",
    "    inpnameEz = 'Ez_'+en+str('rmult_')+str(r[0])\n",
    "    inpnameEx = 'Ex_'+en+str('rmult_')+str(r[0])\n",
    "    Yaml.dump(inpEz,inputpath + inpnameEz + '.yaml')\n",
    "    Yaml.dump(inpEx,inputpath + inpnameEx + '.yaml')\n",
    "    lrun.append(inpnameEz)\n",
    "    lrun.append(inpnameEx)\n",
    "Yaml.dump(lrun,inputpath+'runs_'+en)"
   ]
  },
  {
   "cell_type": "markdown",
   "metadata": {},
   "source": [
    "## Data analysis"
   ]
  },
  {
   "cell_type": "markdown",
   "metadata": {
    "collapsed": true
   },
   "source": [
    "Now we plot the energy of the KS orbitals as a function of the dimension of the box. We import the log files with the results of the simulations:"
   ]
  },
  {
   "cell_type": "code",
   "execution_count": 38,
   "metadata": {},
   "outputs": [
    {
     "name": "stdout",
     "output_type": "stream",
     "text": [
      "['log/log-Ex_1em3_rmult_4.0.yaml', 'log/log-Ex_1em3_rmult_5.0.yaml', 'log/log-Ex_1em3_rmult_6.0.yaml', 'log/log-Ex_1em3_rmult_7.0.yaml', 'log/log-Ex_1em3_rmult_8.0.yaml', 'log/log-Ex_1em3_rmult_9.0.yaml']\n",
      "['log/log-Ez_1em3_rmult_4.0.yaml', 'log/log-Ez_1em3_rmult_5.0.yaml', 'log/log-Ez_1em3_rmult_6.0.yaml', 'log/log-Ez_1em3_rmult_7.0.yaml', 'log/log-Ez_1em3_rmult_8.0.yaml', 'log/log-Ez_1em3_rmult_9.0.yaml']\n"
     ]
    }
   ],
   "source": [
    "logsEx = !ls log/log-Ex_1em3*\n",
    "Ex=[lf.Logfile(l) for l in logsEx]\n",
    "nRunEx=len(Ex)\n",
    "print(logsEx)\n",
    "\n",
    "logsEz = !ls log/log-Ez_1em3*\n",
    "Ez=[lf.Logfile(l) for l in logsEz]\n",
    "nRunEz=len(Ez)\n",
    "print(logsEz)"
   ]
  },
  {
   "cell_type": "markdown",
   "metadata": {
    "collapsed": true
   },
   "source": [
    "for each run i the lists Ex[i].evals[0][0] and Ez[i].evals[0][0] contain the energy of the orbitals, for instance:"
   ]
  },
  {
   "cell_type": "code",
   "execution_count": 39,
   "metadata": {},
   "outputs": [
    {
     "data": {
      "text/plain": [
       "BandArray([-0.91731609, -0.47878275, -0.33718774, -0.26504841])"
      ]
     },
     "execution_count": 39,
     "metadata": {},
     "output_type": "execute_result"
    }
   ],
   "source": [
    "Ez[0].evals[0][0]"
   ]
  },
  {
   "cell_type": "markdown",
   "metadata": {},
   "source": [
    " The number of orbitals is given by:"
   ]
  },
  {
   "cell_type": "code",
   "execution_count": 40,
   "metadata": {
    "collapsed": true
   },
   "outputs": [],
   "source": [
    "norb =len(Ex[0].evals[0][0])"
   ]
  },
  {
   "cell_type": "markdown",
   "metadata": {},
   "source": [
    "we introduce the lists enEx[i], enEz[i] (with i in range(norb)) that contains the energy of the i-th orbital for\n",
    "all the runs"
   ]
  },
  {
   "cell_type": "code",
   "execution_count": 41,
   "metadata": {
    "collapsed": true
   },
   "outputs": [],
   "source": [
    "enEx=[]\n",
    "for orb in range(norb):\n",
    "    eorb=[]\n",
    "    for run in range(nRunEx):\n",
    "        eorb.append(Ex[run].evals[0][0][orb])\n",
    "    enEx.append(eorb)\n",
    "\n",
    "enEz=[]\n",
    "for orb in range(norb):\n",
    "    eorb=[]\n",
    "    for run in range(nRunEx):\n",
    "        eorb.append(Ez[run].evals[0][0][orb])\n",
    "    enEz.append(eorb)"
   ]
  },
  {
   "cell_type": "code",
   "execution_count": 42,
   "metadata": {
    "collapsed": true
   },
   "outputs": [],
   "source": [
    "dimBoxEx=[]\n",
    "dimBoxEz=[]\n",
    "for ind in range(nRunEx):\n",
    "    dimBoxEx.append(Ex[ind].log['Sizes of the simulation domain']['Angstroem'][0])\n",
    "    dimBoxEz.append(Ez[ind].log['Sizes of the simulation domain']['Angstroem'][0])"
   ]
  },
  {
   "cell_type": "code",
   "execution_count": 43,
   "metadata": {},
   "outputs": [
    {
     "data": {
      "image/png": "[encoded data removed]",
      "text/plain": [
       "<matplotlib.figure.Figure at 0x7fd1a0550b50>"
      ]
     },
     "metadata": {},
     "output_type": "display_data"
    },
    {
     "data": {
      "image/png": "[encoded data removed]",
      "text/plain": [
       "<matplotlib.figure.Figure at 0x7fd1a11dcdd0>"
      ]
     },
     "metadata": {},
     "output_type": "display_data"
    }
   ],
   "source": [
    "for orb in range(norb):\n",
    "    plt.plot(dimBoxEx,enEx[orb])\n",
    "    plt.scatter(dimBoxEx,enEx[orb])\n",
    "plt.title('Energy of KS orbitals (Ex)',fontsize=16)\n",
    "plt.show()\n",
    "\n",
    "for orb in range(norb):\n",
    "    plt.plot(dimBoxEz,enEz[orb])\n",
    "    plt.scatter(dimBoxEz,enEz[orb])\n",
    "plt.title('Energy of KS orbitals (Ez)',fontsize=16)\n",
    "plt.show()"
   ]
  },
  {
   "cell_type": "markdown",
   "metadata": {},
   "source": [
    "We also plot the difference between the energy of each orbital and its value for the greatest simulation box"
   ]
  },
  {
   "cell_type": "code",
   "execution_count": 44,
   "metadata": {
    "collapsed": true
   },
   "outputs": [],
   "source": [
    "deltaEx=[]\n",
    "for orb in range(norb):\n",
    "    delta = enEx[orb]-enEx[orb][nRunEx-1]\n",
    "    deltaEx.append(delta)\n",
    "    \n",
    "deltaEz=[]\n",
    "for orb in range(norb):\n",
    "    delta = enEz[orb]-enEz[orb][nRunEz-1]\n",
    "    deltaEz.append(delta)"
   ]
  },
  {
   "cell_type": "code",
   "execution_count": 45,
   "metadata": {
    "scrolled": false
   },
   "outputs": [
    {
     "data": {
      "image/png": "[encoded data removed]",
      "text/plain": [
       "<matplotlib.figure.Figure at 0x7fd1a03ea6d0>"
      ]
     },
     "metadata": {},
     "output_type": "display_data"
    },
    {
     "data": {
      "image/png": "[encoded data removed]",
      "text/plain": [
       "<matplotlib.figure.Figure at 0x7fd1a070e610>"
      ]
     },
     "metadata": {},
     "output_type": "display_data"
    }
   ],
   "source": [
    "for orb in range(norb):\n",
    "    plt.plot(dimBoxEx,deltaEx[orb])\n",
    "    plt.scatter(dimBoxEx,deltaEx[orb])\n",
    "plt.title('Delta energy of KS orbitals (Ex)',fontsize=16)\n",
    "plt.show()\n",
    "\n",
    "for orb in range(norb):\n",
    "    plt.plot(dimBoxEz,deltaEz[orb])\n",
    "    plt.scatter(dimBoxEz,deltaEz[orb])\n",
    "plt.title('Delta energy of KS orbitals (Ez)',fontsize=16)\n",
    "plt.show()"
   ]
  },
  {
   "cell_type": "code",
   "execution_count": 46,
   "metadata": {},
   "outputs": [
    {
     "name": "stdout",
     "output_type": "stream",
     "text": [
      "PxEx= [0.005451155599999999, 0.0109029556]\n",
      "PxEz= [6.08999999999997e-08, 1.2189999999999963e-07]\n",
      "PzEx= [-9.99999999995449e-06, -9.99999999995449e-06]\n",
      "PzEz= [0.005400000000000071, 0.010790000000000077]\n",
      "ExField [0.0005, 0.001]\n",
      "EzField [0.0005, 0.001]\n"
     ]
    }
   ],
   "source": [
    "PxEx.append(Ex[-1].log['Electric Dipole Moment (AU)']['P vector'][0]-Px0)\n",
    "PxEz.append(Ez[-1].log['Electric Dipole Moment (AU)']['P vector'][0]-Px0)\n",
    "PzEx.append(Ex[-1].log['Electric Dipole Moment (AU)']['P vector'][2]-Pz0)\n",
    "PzEz.append(Ez[-1].log['Electric Dipole Moment (AU)']['P vector'][2]-Pz0)\n",
    "ExField.append(enorm)\n",
    "EzField.append(enorm)\n",
    "print 'PxEx=', PxEx\n",
    "print 'PxEz=', PxEz\n",
    "print 'PzEx=', PzEx\n",
    "print 'PzEz=', PzEz\n",
    "print 'ExField', ExField\n",
    "print 'EzField', EzField"
   ]
  },
  {
   "cell_type": "markdown",
   "metadata": {},
   "source": [
    "# $E$-norm = $5e^{-3}$"
   ]
  },
  {
   "cell_type": "markdown",
   "metadata": {},
   "source": [
    "## Set up of the simulations"
   ]
  },
  {
   "cell_type": "markdown",
   "metadata": {},
   "source": [
    "We build a set of input files with increasing values of the box dimension for both the x and z electric field configurations. "
   ]
  },
  {
   "cell_type": "code",
   "execution_count": 47,
   "metadata": {
    "collapsed": true
   },
   "outputs": [],
   "source": [
    "enorm = 5e-3\n",
    "en = str('5em3_')"
   ]
  },
  {
   "cell_type": "code",
   "execution_count": 48,
   "metadata": {
    "collapsed": true
   },
   "outputs": [],
   "source": [
    "ez=[0.0,0.0,enorm]\n",
    "ex=[enorm,0.0,0.0]"
   ]
  },
  {
   "cell_type": "code",
   "execution_count": 49,
   "metadata": {
    "collapsed": true
   },
   "outputs": [],
   "source": [
    "inpEz={'dft':{'elecfield': ez}}\n",
    "inpEx={'dft':{'elecfield': ex}}"
   ]
  },
  {
   "cell_type": "code",
   "execution_count": 50,
   "metadata": {},
   "outputs": [
    {
     "data": {
      "text/plain": [
       "[[4.0, 9.0], [5.0, 9.0], [6.0, 9.0], [7.0, 9.0], [8.0, 9.0], [9.0, 9.0]]"
      ]
     },
     "execution_count": 50,
     "metadata": {},
     "output_type": "execute_result"
    }
   ],
   "source": [
    "rmult = [[float(i), 9.0] for i in range(4,10)]\n",
    "rmult"
   ]
  },
  {
   "cell_type": "code",
   "execution_count": 51,
   "metadata": {
    "collapsed": true
   },
   "outputs": [],
   "source": [
    "lrun=[]\n",
    "for r in rmult:\n",
    "    inpEz['dft']['rmult'] = r\n",
    "    inpEx['dft']['rmult'] = r\n",
    "    inpnameEz = 'Ez_'+en+str('rmult_')+str(r[0])\n",
    "    inpnameEx = 'Ex_'+en+str('rmult_')+str(r[0])\n",
    "    Yaml.dump(inpEz,inputpath + inpnameEz + '.yaml')\n",
    "    Yaml.dump(inpEx,inputpath + inpnameEx + '.yaml')\n",
    "    lrun.append(inpnameEz)\n",
    "    lrun.append(inpnameEx)\n",
    "Yaml.dump(lrun,inputpath+'runs_'+en)"
   ]
  },
  {
   "cell_type": "markdown",
   "metadata": {},
   "source": [
    "## Data analysis"
   ]
  },
  {
   "cell_type": "markdown",
   "metadata": {
    "collapsed": true
   },
   "source": [
    "Now we plot the energy of the KS orbitals as a function of the dimension of the box. We import the log files with the results of the simulations:"
   ]
  },
  {
   "cell_type": "code",
   "execution_count": 52,
   "metadata": {},
   "outputs": [
    {
     "name": "stdout",
     "output_type": "stream",
     "text": [
      "['log/log-Ex_5em3_rmult_4.0.yaml', 'log/log-Ex_5em3_rmult_5.0.yaml', 'log/log-Ex_5em3_rmult_6.0.yaml', 'log/log-Ex_5em3_rmult_7.0.yaml', 'log/log-Ex_5em3_rmult_8.0.yaml', 'log/log-Ex_5em3_rmult_9.0.yaml']\n",
      "['log/log-Ez_5em3_rmult_4.0.yaml', 'log/log-Ez_5em3_rmult_5.0.yaml', 'log/log-Ez_5em3_rmult_6.0.yaml', 'log/log-Ez_5em3_rmult_7.0.yaml', 'log/log-Ez_5em3_rmult_8.0.yaml', 'log/log-Ez_5em3_rmult_9.0.yaml']\n"
     ]
    }
   ],
   "source": [
    "logsEx = !ls log/log-Ex_5em3*\n",
    "Ex=[lf.Logfile(l) for l in logsEx]\n",
    "nRunEx=len(Ex)\n",
    "print(logsEx)\n",
    "\n",
    "logsEz = !ls log/log-Ez_5em3*\n",
    "Ez=[lf.Logfile(l) for l in logsEz]\n",
    "nRunEz=len(Ez)\n",
    "print(logsEz)"
   ]
  },
  {
   "cell_type": "markdown",
   "metadata": {
    "collapsed": true
   },
   "source": [
    "for each run i the lists Ex[i].evals[0][0] and Ez[i].evals[0][0] contain the energy of the orbitals, for instance:"
   ]
  },
  {
   "cell_type": "code",
   "execution_count": 53,
   "metadata": {},
   "outputs": [
    {
     "data": {
      "text/plain": [
       "BandArray([-0.91613936, -0.47771623, -0.33715474, -0.26454973])"
      ]
     },
     "execution_count": 53,
     "metadata": {},
     "output_type": "execute_result"
    }
   ],
   "source": [
    "Ez[0].evals[0][0]"
   ]
  },
  {
   "cell_type": "markdown",
   "metadata": {},
   "source": [
    " The number of orbitals is given by:"
   ]
  },
  {
   "cell_type": "code",
   "execution_count": 54,
   "metadata": {
    "collapsed": true
   },
   "outputs": [],
   "source": [
    "norb =len(Ex[0].evals[0][0])"
   ]
  },
  {
   "cell_type": "markdown",
   "metadata": {},
   "source": [
    "we introduce the lists enEx[i], enEz[i] (with i in range(norb)) that contains the energy of the i-th orbital for\n",
    "all the runs"
   ]
  },
  {
   "cell_type": "code",
   "execution_count": 55,
   "metadata": {
    "collapsed": true
   },
   "outputs": [],
   "source": [
    "enEx=[]\n",
    "for orb in range(norb):\n",
    "    eorb=[]\n",
    "    for run in range(nRunEx):\n",
    "        eorb.append(Ex[run].evals[0][0][orb])\n",
    "    enEx.append(eorb)\n",
    "\n",
    "enEz=[]\n",
    "for orb in range(norb):\n",
    "    eorb=[]\n",
    "    for run in range(nRunEx):\n",
    "        eorb.append(Ez[run].evals[0][0][orb])\n",
    "    enEz.append(eorb)"
   ]
  },
  {
   "cell_type": "code",
   "execution_count": 56,
   "metadata": {
    "collapsed": true
   },
   "outputs": [],
   "source": [
    "dimBoxEx=[]\n",
    "dimBoxEz=[]\n",
    "for ind in range(nRunEx):\n",
    "    dimBoxEx.append(Ex[ind].log['Sizes of the simulation domain']['Angstroem'][0])\n",
    "    dimBoxEz.append(Ez[ind].log['Sizes of the simulation domain']['Angstroem'][0])"
   ]
  },
  {
   "cell_type": "code",
   "execution_count": 57,
   "metadata": {},
   "outputs": [
    {
     "data": {
      "image/png": "[encoded data removed]",
      "text/plain": [
       "<matplotlib.figure.Figure at 0x7fd1a123e650>"
      ]
     },
     "metadata": {},
     "output_type": "display_data"
    },
    {
     "data": {
      "image/png": "[encoded data removed]",
      "text/plain": [
       "<matplotlib.figure.Figure at 0x7fd1a05f1750>"
      ]
     },
     "metadata": {},
     "output_type": "display_data"
    }
   ],
   "source": [
    "for orb in range(norb):\n",
    "    plt.plot(dimBoxEx,enEx[orb])\n",
    "    plt.scatter(dimBoxEx,enEx[orb])\n",
    "plt.title('Energy of KS orbitals (Ex)',fontsize=16)\n",
    "plt.show()\n",
    "\n",
    "for orb in range(norb):\n",
    "    plt.plot(dimBoxEz,enEz[orb])\n",
    "    plt.scatter(dimBoxEz,enEz[orb])\n",
    "plt.title('Energy of KS orbitals (Ez)',fontsize=16)\n",
    "plt.show()"
   ]
  },
  {
   "cell_type": "markdown",
   "metadata": {},
   "source": [
    "We also plot the difference between the energy of each orbital and its value for the greatest simulation box"
   ]
  },
  {
   "cell_type": "code",
   "execution_count": 58,
   "metadata": {
    "collapsed": true
   },
   "outputs": [],
   "source": [
    "deltaEx=[]\n",
    "for orb in range(norb):\n",
    "    delta = enEx[orb]-enEx[orb][nRunEx-1]\n",
    "    deltaEx.append(delta)\n",
    "    \n",
    "deltaEz=[]\n",
    "for orb in range(norb):\n",
    "    delta = enEz[orb]-enEz[orb][nRunEz-1]\n",
    "    deltaEz.append(delta)"
   ]
  },
  {
   "cell_type": "code",
   "execution_count": 59,
   "metadata": {
    "scrolled": false
   },
   "outputs": [
    {
     "data": {
      "image/png": "[encoded data removed]",
      "text/plain": [
       "<matplotlib.figure.Figure at 0x7fd1a123e810>"
      ]
     },
     "metadata": {},
     "output_type": "display_data"
    },
    {
     "data": {
      "image/png": "[encoded data removed]",
      "text/plain": [
       "<matplotlib.figure.Figure at 0x7fd1a12e19d0>"
      ]
     },
     "metadata": {},
     "output_type": "display_data"
    }
   ],
   "source": [
    "for orb in range(norb):\n",
    "    plt.plot(dimBoxEx,deltaEx[orb])\n",
    "    plt.scatter(dimBoxEx,deltaEx[orb])\n",
    "plt.title('Delta energy of KS orbitals (Ex)',fontsize=16)\n",
    "plt.show()\n",
    "\n",
    "for orb in range(norb):\n",
    "    plt.plot(dimBoxEz,deltaEz[orb])\n",
    "    plt.scatter(dimBoxEz,deltaEz[orb])\n",
    "plt.title('Delta energy of KS orbitals (Ez)',fontsize=16)\n",
    "plt.show()"
   ]
  },
  {
   "cell_type": "code",
   "execution_count": 60,
   "metadata": {},
   "outputs": [
    {
     "name": "stdout",
     "output_type": "stream",
     "text": [
      "PxEx= [0.005451155599999999, 0.0109029556, 0.0545419556]\n",
      "PxEz= [6.08999999999997e-08, 1.2189999999999963e-07, 6.096000000000001e-07]\n",
      "PzEx= [-9.99999999995449e-06, -9.99999999995449e-06, -0.00017000000000000348]\n",
      "PzEz= [0.005400000000000071, 0.010790000000000077, 0.05381999999999998]\n",
      "ExField [0.0005, 0.001, 0.005]\n",
      "EzField [0.0005, 0.001, 0.005]\n"
     ]
    }
   ],
   "source": [
    "PxEx.append(Ex[-1].log['Electric Dipole Moment (AU)']['P vector'][0]-Px0)\n",
    "PxEz.append(Ez[-1].log['Electric Dipole Moment (AU)']['P vector'][0]-Px0)\n",
    "PzEx.append(Ex[-1].log['Electric Dipole Moment (AU)']['P vector'][2]-Pz0)\n",
    "PzEz.append(Ez[-1].log['Electric Dipole Moment (AU)']['P vector'][2]-Pz0)\n",
    "ExField.append(enorm)\n",
    "EzField.append(enorm)\n",
    "print 'PxEx=', PxEx\n",
    "print 'PxEz=', PxEz\n",
    "print 'PzEx=', PzEx\n",
    "print 'PzEz=', PzEz\n",
    "print 'ExField', ExField\n",
    "print 'EzField', EzField"
   ]
  },
  {
   "cell_type": "markdown",
   "metadata": {},
   "source": [
    "# $E$-norm = $1e^{-2}$"
   ]
  },
  {
   "cell_type": "markdown",
   "metadata": {},
   "source": [
    "## Set up of the simulations"
   ]
  },
  {
   "cell_type": "markdown",
   "metadata": {},
   "source": [
    "We build a set of input files with increasing values of the box dimension for both the x and z electric field configurations. "
   ]
  },
  {
   "cell_type": "code",
   "execution_count": 61,
   "metadata": {
    "collapsed": true
   },
   "outputs": [],
   "source": [
    "enorm = 1e-2\n",
    "en = str('1em2_')"
   ]
  },
  {
   "cell_type": "code",
   "execution_count": 62,
   "metadata": {
    "collapsed": true
   },
   "outputs": [],
   "source": [
    "ez=[0.0,0.0,enorm]\n",
    "ex=[enorm,0.0,0.0]"
   ]
  },
  {
   "cell_type": "code",
   "execution_count": 63,
   "metadata": {
    "collapsed": true
   },
   "outputs": [],
   "source": [
    "inpEz={'dft':{'elecfield': ez}}\n",
    "inpEx={'dft':{'elecfield': ex}}"
   ]
  },
  {
   "cell_type": "code",
   "execution_count": 64,
   "metadata": {},
   "outputs": [
    {
     "data": {
      "text/plain": [
       "[[4.0, 9.0], [5.0, 9.0], [6.0, 9.0], [7.0, 9.0], [8.0, 9.0], [9.0, 9.0]]"
      ]
     },
     "execution_count": 64,
     "metadata": {},
     "output_type": "execute_result"
    }
   ],
   "source": [
    "rmult = [[float(i), 9.0] for i in range(4,10)]\n",
    "rmult"
   ]
  },
  {
   "cell_type": "code",
   "execution_count": 65,
   "metadata": {
    "collapsed": true
   },
   "outputs": [],
   "source": [
    "lrun=[]\n",
    "for r in rmult:\n",
    "    inpEz['dft']['rmult'] = r\n",
    "    inpEx['dft']['rmult'] = r\n",
    "    inpnameEz = 'Ez_'+en+str('rmult_')+str(r[0])\n",
    "    inpnameEx = 'Ex_'+en+str('rmult_')+str(r[0])\n",
    "    Yaml.dump(inpEz,inputpath + inpnameEz + '.yaml')\n",
    "    Yaml.dump(inpEx,inputpath + inpnameEx + '.yaml')\n",
    "    lrun.append(inpnameEz)\n",
    "    lrun.append(inpnameEx)\n",
    "Yaml.dump(lrun,inputpath+'runs_'+en)"
   ]
  },
  {
   "cell_type": "markdown",
   "metadata": {},
   "source": [
    "## Data analysis"
   ]
  },
  {
   "cell_type": "markdown",
   "metadata": {
    "collapsed": true
   },
   "source": [
    "Now we plot the energy of the KS orbitals as a function of the dimension of the box. We import the log files with the results of the simulations:"
   ]
  },
  {
   "cell_type": "code",
   "execution_count": 66,
   "metadata": {},
   "outputs": [
    {
     "name": "stdout",
     "output_type": "stream",
     "text": [
      "['log/log-Ex_1em2_rmult_4.0.yaml', 'log/log-Ex_1em2_rmult_5.0.yaml', 'log/log-Ex_1em2_rmult_6.0.yaml', 'log/log-Ex_1em2_rmult_7.0.yaml', 'log/log-Ex_1em2_rmult_8.0.yaml', 'log/log-Ex_1em2_rmult_9.0.yaml']\n",
      "['log/log-Ez_1em2_rmult_4.0.yaml', 'log/log-Ez_1em2_rmult_5.0.yaml', 'log/log-Ez_1em2_rmult_6.0.yaml', 'log/log-Ez_1em2_rmult_7.0.yaml', 'log/log-Ez_1em2_rmult_8.0.yaml', 'log/log-Ez_1em2_rmult_9.0.yaml']\n"
     ]
    }
   ],
   "source": [
    "logsEx = !ls log/log-Ex_1em2*\n",
    "Ex=[lf.Logfile(l) for l in logsEx]\n",
    "nRunEx=len(Ex)\n",
    "print(logsEx)\n",
    "\n",
    "logsEz = !ls log/log-Ez_1em2*\n",
    "Ez=[lf.Logfile(l) for l in logsEz]\n",
    "nRunEz=len(Ez)\n",
    "print(logsEz)"
   ]
  },
  {
   "cell_type": "markdown",
   "metadata": {
    "collapsed": true
   },
   "source": [
    "for each run i the lists Ex[i].evals[0][0] and Ez[i].evals[0][0] contain the energy of the orbitals, for instance:"
   ]
  },
  {
   "cell_type": "code",
   "execution_count": 67,
   "metadata": {},
   "outputs": [
    {
     "data": {
      "text/plain": [
       "BandArray([-0.91480613, -0.47650908, -0.33728226, -0.264067  ])"
      ]
     },
     "execution_count": 67,
     "metadata": {},
     "output_type": "execute_result"
    }
   ],
   "source": [
    "Ez[0].evals[0][0]"
   ]
  },
  {
   "cell_type": "markdown",
   "metadata": {},
   "source": [
    " The number of orbitals is given by:"
   ]
  },
  {
   "cell_type": "code",
   "execution_count": 68,
   "metadata": {
    "collapsed": true
   },
   "outputs": [],
   "source": [
    "norb =len(Ex[0].evals[0][0])"
   ]
  },
  {
   "cell_type": "markdown",
   "metadata": {},
   "source": [
    "we introduce the lists enEx[i], enEz[i] (with i in range(norb)) that contains the energy of the i-th orbital for\n",
    "all the runs"
   ]
  },
  {
   "cell_type": "code",
   "execution_count": 69,
   "metadata": {
    "collapsed": true
   },
   "outputs": [],
   "source": [
    "enEx=[]\n",
    "for orb in range(norb):\n",
    "    eorb=[]\n",
    "    for run in range(nRunEx):\n",
    "        eorb.append(Ex[run].evals[0][0][orb])\n",
    "    enEx.append(eorb)\n",
    "\n",
    "enEz=[]\n",
    "for orb in range(norb):\n",
    "    eorb=[]\n",
    "    for run in range(nRunEx):\n",
    "        eorb.append(Ez[run].evals[0][0][orb])\n",
    "    enEz.append(eorb)"
   ]
  },
  {
   "cell_type": "code",
   "execution_count": 70,
   "metadata": {
    "collapsed": true
   },
   "outputs": [],
   "source": [
    "dimBoxEx=[]\n",
    "dimBoxEz=[]\n",
    "for ind in range(nRunEx):\n",
    "    dimBoxEx.append(Ex[ind].log['Sizes of the simulation domain']['Angstroem'][0])\n",
    "    dimBoxEz.append(Ez[ind].log['Sizes of the simulation domain']['Angstroem'][0])"
   ]
  },
  {
   "cell_type": "code",
   "execution_count": 71,
   "metadata": {},
   "outputs": [
    {
     "data": {
      "image/png": "[encoded data removed]",
      "text/plain": [
       "<matplotlib.figure.Figure at 0x7fd1888c9c10>"
      ]
     },
     "metadata": {},
     "output_type": "display_data"
    },
    {
     "data": {
      "image/png": "[encoded data removed]",
      "text/plain": [
       "<matplotlib.figure.Figure at 0x7fd1a04d9ad0>"
      ]
     },
     "metadata": {},
     "output_type": "display_data"
    }
   ],
   "source": [
    "for orb in range(norb):\n",
    "    plt.plot(dimBoxEx,enEx[orb])\n",
    "    plt.scatter(dimBoxEx,enEx[orb])\n",
    "plt.title('Energy of KS orbitals (Ex)',fontsize=16)\n",
    "plt.show()\n",
    "\n",
    "for orb in range(norb):\n",
    "    plt.plot(dimBoxEz,enEz[orb])\n",
    "    plt.scatter(dimBoxEz,enEz[orb])\n",
    "plt.title('Energy of KS orbitals (Ez)',fontsize=16)\n",
    "plt.show()"
   ]
  },
  {
   "cell_type": "markdown",
   "metadata": {},
   "source": [
    "We also plot the difference between the energy of each orbital and its value for the greatest simulation box"
   ]
  },
  {
   "cell_type": "code",
   "execution_count": 72,
   "metadata": {
    "collapsed": true
   },
   "outputs": [],
   "source": [
    "deltaEx=[]\n",
    "for orb in range(norb):\n",
    "    delta = enEx[orb]-enEx[orb][nRunEx-1]\n",
    "    deltaEx.append(delta)\n",
    "    \n",
    "deltaEz=[]\n",
    "for orb in range(norb):\n",
    "    delta = enEz[orb]-enEz[orb][nRunEz-1]\n",
    "    deltaEz.append(delta)"
   ]
  },
  {
   "cell_type": "code",
   "execution_count": 73,
   "metadata": {
    "scrolled": false
   },
   "outputs": [
    {
     "data": {
      "image/png": "[encoded data removed]",
      "text/plain": [
       "<matplotlib.figure.Figure at 0x7fd1a0656a50>"
      ]
     },
     "metadata": {},
     "output_type": "display_data"
    },
    {
     "data": {
      "image/png": "[encoded data removed]",
      "text/plain": [
       "<matplotlib.figure.Figure at 0x7fd1a063da10>"
      ]
     },
     "metadata": {},
     "output_type": "display_data"
    }
   ],
   "source": [
    "for orb in range(norb):\n",
    "    plt.plot(dimBoxEx,deltaEx[orb])\n",
    "    plt.scatter(dimBoxEx,deltaEx[orb])\n",
    "plt.title('Delta energy of KS orbitals (Ex)',fontsize=16)\n",
    "plt.show()\n",
    "\n",
    "for orb in range(norb):\n",
    "    plt.plot(dimBoxEz,deltaEz[orb])\n",
    "    plt.scatter(dimBoxEz,deltaEz[orb])\n",
    "plt.title('Delta energy of KS orbitals (Ez)',fontsize=16)\n",
    "plt.show()"
   ]
  },
  {
   "cell_type": "code",
   "execution_count": 74,
   "metadata": {},
   "outputs": [
    {
     "name": "stdout",
     "output_type": "stream",
     "text": [
      "PxEx= [0.005451155599999999, 0.0109029556, 0.0545419556, 0.1092749556]\n",
      "PxEz= [6.08999999999997e-08, 1.2189999999999963e-07, 6.096000000000001e-07, 1.2157e-06]\n",
      "PzEx= [-9.99999999995449e-06, -9.99999999995449e-06, -0.00017000000000000348, -0.0006599999999999939]\n",
      "PzEz= [0.005400000000000071, 0.010790000000000077, 0.05381999999999998, 0.10743000000000003]\n",
      "ExField [0.0005, 0.001, 0.005, 0.01]\n",
      "EzField [0.0005, 0.001, 0.005, 0.01]\n"
     ]
    }
   ],
   "source": [
    "PxEx.append(Ex[-1].log['Electric Dipole Moment (AU)']['P vector'][0]-Px0)\n",
    "PxEz.append(Ez[-1].log['Electric Dipole Moment (AU)']['P vector'][0]-Px0)\n",
    "PzEx.append(Ex[-1].log['Electric Dipole Moment (AU)']['P vector'][2]-Pz0)\n",
    "PzEz.append(Ez[-1].log['Electric Dipole Moment (AU)']['P vector'][2]-Pz0)\n",
    "ExField.append(enorm)\n",
    "EzField.append(enorm)\n",
    "print 'PxEx=', PxEx\n",
    "print 'PxEz=', PxEz\n",
    "print 'PzEx=', PzEx\n",
    "print 'PzEz=', PzEz\n",
    "print 'ExField', ExField\n",
    "print 'EzField', EzField"
   ]
  },
  {
   "cell_type": "markdown",
   "metadata": {},
   "source": [
    "# $E$-norm = $5e^{-2}$"
   ]
  },
  {
   "cell_type": "markdown",
   "metadata": {},
   "source": [
    "## Set up of the simulations"
   ]
  },
  {
   "cell_type": "markdown",
   "metadata": {},
   "source": [
    "We build a set of input files with increasing values of the box dimension for both the x and z electric field configurations. "
   ]
  },
  {
   "cell_type": "code",
   "execution_count": 75,
   "metadata": {
    "collapsed": true
   },
   "outputs": [],
   "source": [
    "enorm = 5e-2\n",
    "en = str('5em2_')"
   ]
  },
  {
   "cell_type": "code",
   "execution_count": 76,
   "metadata": {
    "collapsed": true
   },
   "outputs": [],
   "source": [
    "ez=[0.0,0.0,enorm]\n",
    "ex=[enorm,0.0,0.0]"
   ]
  },
  {
   "cell_type": "code",
   "execution_count": 77,
   "metadata": {
    "collapsed": true
   },
   "outputs": [],
   "source": [
    "inpEz={'dft':{'elecfield': ez}}\n",
    "inpEx={'dft':{'elecfield': ex}}"
   ]
  },
  {
   "cell_type": "code",
   "execution_count": 78,
   "metadata": {},
   "outputs": [
    {
     "data": {
      "text/plain": [
       "[[4.0, 9.0], [5.0, 9.0], [6.0, 9.0], [7.0, 9.0], [8.0, 9.0], [9.0, 9.0]]"
      ]
     },
     "execution_count": 78,
     "metadata": {},
     "output_type": "execute_result"
    }
   ],
   "source": [
    "rmult = [[float(i), 9.0] for i in range(4,10)]\n",
    "rmult"
   ]
  },
  {
   "cell_type": "code",
   "execution_count": 79,
   "metadata": {
    "collapsed": true
   },
   "outputs": [],
   "source": [
    "lrun=[]\n",
    "for r in rmult:\n",
    "    inpEz['dft']['rmult'] = r\n",
    "    inpEx['dft']['rmult'] = r\n",
    "    inpnameEz = 'Ez_'+en+str('rmult_')+str(r[0])\n",
    "    inpnameEx = 'Ex_'+en+str('rmult_')+str(r[0])\n",
    "    Yaml.dump(inpEz,inputpath + inpnameEz + '.yaml')\n",
    "    Yaml.dump(inpEx,inputpath + inpnameEx + '.yaml')\n",
    "    lrun.append(inpnameEz)\n",
    "    lrun.append(inpnameEx)\n",
    "Yaml.dump(lrun,inputpath+'runs_'+en)"
   ]
  },
  {
   "cell_type": "markdown",
   "metadata": {},
   "source": [
    "## Data analysis"
   ]
  },
  {
   "cell_type": "markdown",
   "metadata": {
    "collapsed": true
   },
   "source": [
    "Now we plot the energy of the KS orbitals as a function of the dimension of the box. We import the log files with the results of the simulations:"
   ]
  },
  {
   "cell_type": "code",
   "execution_count": 80,
   "metadata": {
    "scrolled": true
   },
   "outputs": [
    {
     "name": "stdout",
     "output_type": "stream",
     "text": [
      "['log/log-Ex_5em2_rmult_4.0.yaml', 'log/log-Ex_5em2_rmult_5.0.yaml', 'log/log-Ex_5em2_rmult_6.0.yaml', 'log/log-Ex_5em2_rmult_7.0.yaml', 'log/log-Ex_5em2_rmult_8.0.yaml', 'log/log-Ex_5em2_rmult_9.0.yaml']\n",
      "['log/log-Ez_5em2_rmult_4.0.yaml', 'log/log-Ez_5em2_rmult_5.0.yaml', 'log/log-Ez_5em2_rmult_6.0.yaml', 'log/log-Ez_5em2_rmult_7.0.yaml', 'log/log-Ez_5em2_rmult_8.0.yaml', 'log/log-Ez_5em2_rmult_9.0.yaml']\n"
     ]
    }
   ],
   "source": [
    "logsEx = !ls log/log-Ex_5em2*\n",
    "Ex=[lf.Logfile(l) for l in logsEx]\n",
    "nRunEx=len(Ex)\n",
    "print(logsEx)\n",
    "\n",
    "logsEz = !ls log/log-Ez_5em2*\n",
    "Ez=[lf.Logfile(l) for l in logsEz]\n",
    "nRunEz=len(Ez)\n",
    "print(logsEz)"
   ]
  },
  {
   "cell_type": "markdown",
   "metadata": {
    "collapsed": true
   },
   "source": [
    "for each run i the lists Ex[i].evals[0][0] and Ez[i].evals[0][0] contain the energy of the orbitals, for instance:"
   ]
  },
  {
   "cell_type": "code",
   "execution_count": 81,
   "metadata": {},
   "outputs": [
    {
     "data": {
      "text/plain": [
       "BandArray([-0.90929254, -0.4715566 , -0.34440517, -0.26541276])"
      ]
     },
     "execution_count": 81,
     "metadata": {},
     "output_type": "execute_result"
    }
   ],
   "source": [
    "Ez[0].evals[0][0]"
   ]
  },
  {
   "cell_type": "markdown",
   "metadata": {},
   "source": [
    " The number of orbitals is given by:"
   ]
  },
  {
   "cell_type": "code",
   "execution_count": 82,
   "metadata": {
    "collapsed": true
   },
   "outputs": [],
   "source": [
    "norb =len(Ex[0].evals[0][0])"
   ]
  },
  {
   "cell_type": "markdown",
   "metadata": {},
   "source": [
    "we introduce the lists enEx[i], enEz[i] (with i in range(norb)) that contains the energy of the i-th orbital for\n",
    "all the runs"
   ]
  },
  {
   "cell_type": "code",
   "execution_count": 83,
   "metadata": {
    "collapsed": true
   },
   "outputs": [],
   "source": [
    "enEx=[]\n",
    "for orb in range(norb):\n",
    "    eorb=[]\n",
    "    for run in range(nRunEx):\n",
    "        eorb.append(Ex[run].evals[0][0][orb])\n",
    "    enEx.append(eorb)\n",
    "\n",
    "enEz=[]\n",
    "for orb in range(norb):\n",
    "    eorb=[]\n",
    "    for run in range(nRunEx):\n",
    "        eorb.append(Ez[run].evals[0][0][orb])\n",
    "    enEz.append(eorb)"
   ]
  },
  {
   "cell_type": "code",
   "execution_count": 84,
   "metadata": {
    "collapsed": true
   },
   "outputs": [],
   "source": [
    "dimBoxEx=[]\n",
    "dimBoxEz=[]\n",
    "for ind in range(nRunEx):\n",
    "    dimBoxEx.append(Ex[ind].log['Sizes of the simulation domain']['Angstroem'][0])\n",
    "    dimBoxEz.append(Ez[ind].log['Sizes of the simulation domain']['Angstroem'][0])"
   ]
  },
  {
   "cell_type": "code",
   "execution_count": 85,
   "metadata": {},
   "outputs": [
    {
     "data": {
      "image/png": "[encoded data removed]",
      "text/plain": [
       "<matplotlib.figure.Figure at 0x7fd1a122a790>"
      ]
     },
     "metadata": {},
     "output_type": "display_data"
    },
    {
     "data": {
      "image/png": "[encoded data removed]",
      "text/plain": [
       "<matplotlib.figure.Figure at 0x7fd1a0459a50>"
      ]
     },
     "metadata": {},
     "output_type": "display_data"
    }
   ],
   "source": [
    "for orb in range(norb):\n",
    "    plt.plot(dimBoxEx,enEx[orb])\n",
    "    plt.scatter(dimBoxEx,enEx[orb])\n",
    "plt.title('Energy of KS orbitals (Ex)',fontsize=16)\n",
    "plt.show()\n",
    "\n",
    "for orb in range(norb):\n",
    "    plt.plot(dimBoxEz,enEz[orb])\n",
    "    plt.scatter(dimBoxEz,enEz[orb])\n",
    "plt.title('Energy of KS orbitals (Ez)',fontsize=16)\n",
    "plt.show()"
   ]
  },
  {
   "cell_type": "markdown",
   "metadata": {},
   "source": [
    "In this case we observe that the self consistent cicles stop at itermax, so probabibly the system is not converging."
   ]
  },
  {
   "cell_type": "markdown",
   "metadata": {
    "collapsed": true
   },
   "source": [
    "## Computation of the linear polarizability"
   ]
  },
  {
   "cell_type": "markdown",
   "metadata": {},
   "source": [
    "We plot the induced dipole moment vs. the corresponding component of the electric field (for the field norm up to $1e-2$)"
   ]
  },
  {
   "cell_type": "code",
   "execution_count": 95,
   "metadata": {},
   "outputs": [
    {
     "data": {
      "image/png": "[encoded data removed]",
      "text/plain": [
       "<matplotlib.figure.Figure at 0x7fd1a06e1c90>"
      ]
     },
     "metadata": {},
     "output_type": "display_data"
    }
   ],
   "source": [
    "plt.plot(ExField,PxEx,label = 'Ex')\n",
    "plt.scatter(ExField,PxEx, color='r')\n",
    "plt.plot(EzField,PxEz,label = 'Ez')\n",
    "plt.scatter(EzField,PxEz, color='r')\n",
    "plt.title('Px vs E',fontsize=16)\n",
    "plt.legend()\n",
    "plt.show()"
   ]
  },
  {
   "cell_type": "code",
   "execution_count": 96,
   "metadata": {},
   "outputs": [
    {
     "data": {
      "image/png": "[encoded data removed]",
      "text/plain": [
       "<matplotlib.figure.Figure at 0x7fd1a12e88d0>"
      ]
     },
     "metadata": {},
     "output_type": "display_data"
    }
   ],
   "source": [
    "plt.plot(EzField,PzEz,label = 'Ez')\n",
    "plt.scatter(EzField,PzEz, color='b')\n",
    "plt.plot(ExField,PzEx,label = 'Ex')\n",
    "plt.scatter(EzField,PzEx, color='r')\n",
    "plt.title('Pz vs E',fontsize=16)\n",
    "plt.legend()\n",
    "plt.show()"
   ]
  },
  {
   "cell_type": "markdown",
   "metadata": {},
   "source": [
    "We compute the polarizability, as the ratio between the induced dipole and the field. We use the highest value of the field in the linear regime and the highest value of the simulation box (however this value is stable for rmult greater or equal to 7)"
   ]
  },
  {
   "cell_type": "code",
   "execution_count": 101,
   "metadata": {},
   "outputs": [
    {
     "name": "stdout",
     "output_type": "stream",
     "text": [
      "alphaXX =  10.92749556\n",
      "alphaXZ =  0.00012157\n",
      "alphaZX =  -0.066\n",
      "alphaZZ =  10.743\n"
     ]
    }
   ],
   "source": [
    "alphaXX = PxEx[-1]/ExField[-1]\n",
    "alphaXZ = PxEz[-1]/EzField[-1]\n",
    "alphaZX = PzEx[-1]/ExField[-1]\n",
    "alphaZZ = PzEz[-1]/EzField[-1]\n",
    "print 'alphaXX = ', alphaXX\n",
    "print 'alphaXZ = ', alphaXZ\n",
    "print 'alphaZX = ', alphaZX\n",
    "print 'alphaZZ = ', alphaZZ"
   ]
  },
  {
   "cell_type": "markdown",
   "metadata": {
    "collapsed": true
   },
   "source": [
    "## Computation of the orbitals"
   ]
  },
  {
   "cell_type": "markdown",
   "metadata": {},
   "source": [
    "As a final task of thi nb we compute the KS orbitals of the ground state for the field norm equal to $1e-2$, which is the highest computed value of the field for which the linear response regime has been confirmed."
   ]
  },
  {
   "cell_type": "markdown",
   "metadata": {},
   "source": [
    "First we perform this computation for rmult = 7"
   ]
  },
  {
   "cell_type": "code",
   "execution_count": 102,
   "metadata": {
    "collapsed": true
   },
   "outputs": [],
   "source": [
    "enorm = 1e-2\n",
    "en = str('1em2_')"
   ]
  },
  {
   "cell_type": "code",
   "execution_count": 90,
   "metadata": {
    "collapsed": true
   },
   "outputs": [],
   "source": [
    "ez=[0.0,0.0,enorm]\n",
    "ex=[enorm,0.0,0.0]"
   ]
  },
  {
   "cell_type": "code",
   "execution_count": 103,
   "metadata": {
    "collapsed": true
   },
   "outputs": [],
   "source": [
    "inpEz={'dft':\n",
    "       {'elecfield': ez, \n",
    "        'rmult' : [7.0, 9.0],\n",
    "        'output_wf' : 2},\n",
    "       'radical' : 'Ez_1em2_rmult_7'}\n",
    "inpEx={'dft':\n",
    "       {'elecfield': ex, \n",
    "        'rmult' : [7.0, 9.0],\n",
    "        'output_wf' : 2},\n",
    "       'radical' : 'Ex_1em2_rmult_7'}"
   ]
  },
  {
   "cell_type": "code",
   "execution_count": 104,
   "metadata": {
    "collapsed": true
   },
   "outputs": [],
   "source": [
    "inpnameEz = 'Ez_'+en+str('rmult_7_')+'wf'\n",
    "inpnameEx = 'Ex_'+en+str('rmult_7_')+'wf'\n",
    "Yaml.dump(inpEz,inputpath + inpnameEz + '.yaml')\n",
    "Yaml.dump(inpEx,inputpath + inpnameEx + '.yaml')\n"
   ]
  },
  {
   "cell_type": "markdown",
   "metadata": {
    "collapsed": true
   },
   "source": [
    "Now we repeat the computation for rmult = 9"
   ]
  },
  {
   "cell_type": "code",
   "execution_count": 105,
   "metadata": {
    "collapsed": true
   },
   "outputs": [],
   "source": [
    "inpEz={'dft':\n",
    "       {'elecfield': ez, \n",
    "        'rmult' : [9.0, 9.0],\n",
    "        'output_wf' : 2},\n",
    "       'radical' : 'Ez_1em2_rmult_9'}\n",
    "inpEx={'dft':\n",
    "       {'elecfield': ex, \n",
    "        'rmult' : [9.0, 9.0],\n",
    "        'output_wf' : 2},\n",
    "       'radical' : 'Ex_1em2_rmult_9'}"
   ]
  },
  {
   "cell_type": "code",
   "execution_count": 94,
   "metadata": {
    "collapsed": true
   },
   "outputs": [],
   "source": [
    "inpnameEz = 'Ez_'+en+str('rmult_9_')+'wf'\n",
    "inpnameEx = 'Ex_'+en+str('rmult_9_')+'wf'\n",
    "Yaml.dump(inpEz,inputpath + inpnameEz + '.yaml')\n",
    "Yaml.dump(inpEx,inputpath + inpnameEx + '.yaml')"
   ]
  },
  {
   "cell_type": "code",
   "execution_count": null,
   "metadata": {
    "collapsed": true
   },
   "outputs": [],
   "source": []
  }
 ],
 "metadata": {
  "kernelspec": {
   "display_name": "Python 2",
   "language": "python",
   "name": "python2"
  },
  "language_info": {
   "codemirror_mode": {
    "name": "ipython",
    "version": 2
   },
   "file_extension": ".py",
   "mimetype": "text/x-python",
   "name": "python",
   "nbconvert_exporter": "python",
   "pygments_lexer": "ipython2",
   "version": "2.7.13"
  }
 },
 "nbformat": 4,
 "nbformat_minor": 2
}
