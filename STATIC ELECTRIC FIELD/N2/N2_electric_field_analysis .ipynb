{
 "cells": [
  {
   "cell_type": "markdown",
   "metadata": {},
   "source": [
    "# Analysis of $N_2$ in a static electric field"
   ]
  },
  {
   "cell_type": "markdown",
   "metadata": {},
   "source": [
    "We consider a $N_2$ molecule in a static electric field. We present results for fields both directed in the z (axial) and in the x directions. \n",
    "\n",
    "The main aim of this analysis is to determine the minimum dimension allowed of the simulation box as a function of the field intensity. As a criterium of consistency we require that the energy of the occupied KS orbitals should remain constant as the dimension of the box is increased.  "
   ]
  },
  {
   "cell_type": "code",
   "execution_count": 1,
   "metadata": {
    "collapsed": true
   },
   "outputs": [],
   "source": [
    "from BigDFT import Logfiles as lf\n",
    "from futile import Yaml\n",
    "import matplotlib.pyplot as plt\n",
    "inputpath = 'input/'"
   ]
  },
  {
   "cell_type": "markdown",
   "metadata": {},
   "source": [
    "First of all we define the python dictionary that contains the basic keys common to all the file in the run"
   ]
  },
  {
   "cell_type": "code",
   "execution_count": 2,
   "metadata": {
    "collapsed": true
   },
   "outputs": [],
   "source": [
    "inp0 = {'dft' : \n",
    "        {'hgrids': 0.4,\n",
    "         'itermax' : 100},\n",
    "        'posinp': 'N2_posinp.xyz'}"
   ]
  },
  {
   "cell_type": "markdown",
   "metadata": {},
   "source": [
    "and we write these common variables in the default file (named \"default.yaml\" according to BigDFT specification):"
   ]
  },
  {
   "cell_type": "code",
   "execution_count": 3,
   "metadata": {
    "collapsed": true
   },
   "outputs": [],
   "source": [
    "Yaml.dump(inp0,inputpath + 'default.yaml')"
   ]
  },
  {
   "cell_type": "markdown",
   "metadata": {},
   "source": [
    "We perform the analysis for different values of the field norm."
   ]
  },
  {
   "cell_type": "markdown",
   "metadata": {},
   "source": [
    "We build the following lists, with the values of the x and z components of the induced dipole moments (corresponding to the largest simulation box) and of the fields. We use these values to check the linearity of the dipole moments with respect to the field"
   ]
  },
  {
   "cell_type": "code",
   "execution_count": 4,
   "metadata": {
    "collapsed": true
   },
   "outputs": [],
   "source": [
    "dipoleX=[]\n",
    "dipoleZ=[]\n",
    "eFieldX=[]\n",
    "eFieldZ=[]"
   ]
  },
  {
   "cell_type": "markdown",
   "metadata": {},
   "source": [
    "# $E$-norm = $1e^{-4}$"
   ]
  },
  {
   "cell_type": "markdown",
   "metadata": {},
   "source": [
    "## Set up of the simulations"
   ]
  },
  {
   "cell_type": "markdown",
   "metadata": {},
   "source": [
    "We build a set of input files with increasing values of the box dimension for both the x and z electric field configurations. "
   ]
  },
  {
   "cell_type": "code",
   "execution_count": 5,
   "metadata": {
    "collapsed": true
   },
   "outputs": [],
   "source": [
    "enorm = 1e-4\n",
    "en = str('1em4_')"
   ]
  },
  {
   "cell_type": "code",
   "execution_count": 6,
   "metadata": {
    "collapsed": true
   },
   "outputs": [],
   "source": [
    "ez=[0.0,0.0,enorm]\n",
    "ex=[enorm,0.0,0.0]"
   ]
  },
  {
   "cell_type": "code",
   "execution_count": 7,
   "metadata": {
    "collapsed": true
   },
   "outputs": [],
   "source": [
    "inpEz={'dft':{'elecfield': ez}}\n",
    "inpEx={'dft':{'elecfield': ex}}"
   ]
  },
  {
   "cell_type": "code",
   "execution_count": 8,
   "metadata": {},
   "outputs": [
    {
     "data": {
      "text/plain": [
       "[[7.0, 9.0], [8.0, 9.0], [9.0, 9.0]]"
      ]
     },
     "execution_count": 8,
     "metadata": {},
     "output_type": "execute_result"
    }
   ],
   "source": [
    "rmult = [[float(i), 9.0] for i in range(7,10)]\n",
    "rmult"
   ]
  },
  {
   "cell_type": "code",
   "execution_count": 9,
   "metadata": {
    "collapsed": true
   },
   "outputs": [],
   "source": [
    "lrun=[]\n",
    "for r in rmult:\n",
    "    inpEz['dft']['rmult'] = r\n",
    "    inpEx['dft']['rmult'] = r\n",
    "    inpnameEz = 'Ez_'+en+str('rmult_')+str(r[0])\n",
    "    inpnameEx = 'Ex_'+en+str('rmult_')+str(r[0])\n",
    "    Yaml.dump(inpEz,inputpath + inpnameEz + '.yaml')\n",
    "    Yaml.dump(inpEx,inputpath + inpnameEx + '.yaml')\n",
    "    lrun.append(inpnameEz)\n",
    "    lrun.append(inpnameEx)\n",
    "Yaml.dump(lrun,inputpath+'runs_'+en)"
   ]
  },
  {
   "cell_type": "markdown",
   "metadata": {},
   "source": [
    "We execute the single file with the command:\n",
    "\n",
    "OMP_NUM_THREADS=1 mpirun -np 8 $BIGDFT_ROOT/bigdft -d ../log/ -n namefile\n",
    "\n",
    "or the sequence of file in the runs as:\n",
    "\n",
    "OMP_NUM_THREADS=1 mpirun -np 8 $BIGDFT_ROOT/bigdft -d ../log/ -r runs_en\n",
    "\n",
    "if we want to not run again the runs already performed the command is as:\n",
    "\n",
    "OMP_NUM_THREADS=1 mpirun -np 8 $BIGDFT_ROOT/bigdft -d ../log/ -r runs_en -s yes"
   ]
  },
  {
   "cell_type": "markdown",
   "metadata": {},
   "source": [
    "## Data analysis"
   ]
  },
  {
   "cell_type": "markdown",
   "metadata": {
    "collapsed": true
   },
   "source": [
    "Now we plot the energy of the KS orbitals as a function of the dimension of the box. We import the log files with the results of the simulations:"
   ]
  },
  {
   "cell_type": "code",
   "execution_count": 10,
   "metadata": {},
   "outputs": [
    {
     "name": "stdout",
     "output_type": "stream",
     "text": [
      "['log/log-Ex_1em4_rmult_7.0.yaml', 'log/log-Ex_1em4_rmult_8.0.yaml', 'log/log-Ex_1em4_rmult_9.0.yaml']\n",
      "['log/log-Ez_1em4_rmult_7.0.yaml', 'log/log-Ez_1em4_rmult_8.0.yaml', 'log/log-Ez_1em4_rmult_9.0.yaml']\n"
     ]
    }
   ],
   "source": [
    "logsEx = !ls log/log-Ex_1em4*\n",
    "Ex=[lf.Logfile(l) for l in logsEx]\n",
    "nRunEx=len(Ex)\n",
    "print(logsEx)\n",
    "\n",
    "logsEz = !ls log/log-Ez_1em4*\n",
    "Ez=[lf.Logfile(l) for l in logsEz]\n",
    "nRunEz=len(Ez)\n",
    "print(logsEz)"
   ]
  },
  {
   "cell_type": "markdown",
   "metadata": {
    "collapsed": true
   },
   "source": [
    "for each run i the lists Ex[i].evals[0][0] and Ez[i].evals[0][0] contain the energy of the orbitals, for instance:"
   ]
  },
  {
   "cell_type": "code",
   "execution_count": 11,
   "metadata": {},
   "outputs": [
    {
     "data": {
      "text/plain": [
       "BandArray([-1.03253096, -0.49763623, -0.43147406, -0.43147406, -0.38199635])"
      ]
     },
     "execution_count": 11,
     "metadata": {},
     "output_type": "execute_result"
    }
   ],
   "source": [
    "Ez[0].evals[0][0]"
   ]
  },
  {
   "cell_type": "markdown",
   "metadata": {},
   "source": [
    "The number of orbitals is given by"
   ]
  },
  {
   "cell_type": "code",
   "execution_count": 12,
   "metadata": {
    "collapsed": true
   },
   "outputs": [],
   "source": [
    "norb =len(Ex[0].evals[0][0])"
   ]
  },
  {
   "cell_type": "markdown",
   "metadata": {},
   "source": [
    "we introduce the lists enEx[i], enEz[i] (with i in range(norb)) that contains the energy of the i-th orbital for\n",
    "all the runs"
   ]
  },
  {
   "cell_type": "code",
   "execution_count": 13,
   "metadata": {
    "collapsed": true
   },
   "outputs": [],
   "source": [
    "enEx=[]\n",
    "for orb in range(norb):\n",
    "    eorb=[]\n",
    "    for run in range(nRunEx):\n",
    "        eorb.append(Ex[run].evals[0][0][orb])\n",
    "    enEx.append(eorb)\n",
    "\n",
    "enEz=[]\n",
    "for orb in range(norb):\n",
    "    eorb=[]\n",
    "    for run in range(nRunEx):\n",
    "        eorb.append(Ez[run].evals[0][0][orb])\n",
    "    enEz.append(eorb)"
   ]
  },
  {
   "cell_type": "code",
   "execution_count": 14,
   "metadata": {
    "collapsed": true
   },
   "outputs": [],
   "source": [
    "dimBoxEx=[]\n",
    "dimBoxEz=[]\n",
    "for ind in range(nRunEx):\n",
    "    dimBoxEx.append(Ex[ind].log['Sizes of the simulation domain']['Angstroem'][0])\n",
    "    dimBoxEz.append(Ez[ind].log['Sizes of the simulation domain']['Angstroem'][0])"
   ]
  },
  {
   "cell_type": "code",
   "execution_count": 15,
   "metadata": {},
   "outputs": [
    {
     "data": {
      "image/png": "[encoded data removed]",
      "text/plain": [
       "<matplotlib.figure.Figure at 0x7f652104a1d0>"
      ]
     },
     "metadata": {},
     "output_type": "display_data"
    },
    {
     "data": {
      "image/png": "[encoded data removed]",
      "text/plain": [
       "<matplotlib.figure.Figure at 0x7f652066fad0>"
      ]
     },
     "metadata": {},
     "output_type": "display_data"
    }
   ],
   "source": [
    "for orb in range(norb):\n",
    "    plt.plot(dimBoxEx,enEx[orb])\n",
    "plt.title('Energy of KS orbitals (Ex)',fontsize=16)\n",
    "plt.show()\n",
    "\n",
    "for orb in range(norb):\n",
    "    plt.plot(dimBoxEz,enEz[orb])\n",
    "plt.title('Energy of KS orbitals (Ez)',fontsize=16)\n",
    "plt.show()"
   ]
  },
  {
   "cell_type": "code",
   "execution_count": 16,
   "metadata": {
    "collapsed": true
   },
   "outputs": [],
   "source": [
    "dipoleX.append(Ex[nRunEx-1].log['Electric Dipole Moment (AU)']['P vector'][0])\n",
    "dipoleZ.append(Ez[nRunEx-1].log['Electric Dipole Moment (AU)']['P vector'][2])\n",
    "eFieldX.append(enorm)\n",
    "eFieldZ.append(enorm)"
   ]
  },
  {
   "cell_type": "markdown",
   "metadata": {},
   "source": [
    "# $E$-norm = $1e^{-3}$"
   ]
  },
  {
   "cell_type": "markdown",
   "metadata": {},
   "source": [
    "## Set up of the simulations"
   ]
  },
  {
   "cell_type": "markdown",
   "metadata": {},
   "source": [
    "We build a set of input files with increasing values of the box dimension for both the x and z electric field configurations. "
   ]
  },
  {
   "cell_type": "code",
   "execution_count": 17,
   "metadata": {
    "collapsed": true
   },
   "outputs": [],
   "source": [
    "enorm = 1e-3\n",
    "en = str('1em3_')"
   ]
  },
  {
   "cell_type": "code",
   "execution_count": 18,
   "metadata": {
    "collapsed": true
   },
   "outputs": [],
   "source": [
    "ez=[0.0,0.0,enorm]\n",
    "ex=[enorm,0.0,0.0]"
   ]
  },
  {
   "cell_type": "code",
   "execution_count": 19,
   "metadata": {
    "collapsed": true
   },
   "outputs": [],
   "source": [
    "inpEz={'dft':{'elecfield': ez}}\n",
    "inpEx={'dft':{'elecfield': ex}}"
   ]
  },
  {
   "cell_type": "code",
   "execution_count": 20,
   "metadata": {},
   "outputs": [
    {
     "data": {
      "text/plain": [
       "[[4.0, 9.0], [5.0, 9.0], [6.0, 9.0], [7.0, 9.0], [8.0, 9.0], [9.0, 9.0]]"
      ]
     },
     "execution_count": 20,
     "metadata": {},
     "output_type": "execute_result"
    }
   ],
   "source": [
    "rmult = [[float(i), 9.0] for i in range(4,10)]\n",
    "rmult"
   ]
  },
  {
   "cell_type": "code",
   "execution_count": 21,
   "metadata": {
    "collapsed": true
   },
   "outputs": [],
   "source": [
    "lrun=[]\n",
    "for r in rmult:\n",
    "    inpEz['dft']['rmult'] = r\n",
    "    inpEx['dft']['rmult'] = r\n",
    "    inpnameEz = 'Ez_'+en+str('rmult_')+str(r[0])\n",
    "    inpnameEx = 'Ex_'+en+str('rmult_')+str(r[0])\n",
    "    Yaml.dump(inpEz,inputpath + inpnameEz + '.yaml')\n",
    "    Yaml.dump(inpEx,inputpath + inpnameEx + '.yaml')\n",
    "    lrun.append(inpnameEz)\n",
    "    lrun.append(inpnameEx)\n",
    "Yaml.dump(lrun,inputpath+'runs_'+en)"
   ]
  },
  {
   "cell_type": "markdown",
   "metadata": {},
   "source": [
    "## Data analysis"
   ]
  },
  {
   "cell_type": "markdown",
   "metadata": {
    "collapsed": true
   },
   "source": [
    "Now we plot the energy of the KS orbitals as a function of the dimension of the box. We import the log files with the results of the simulations:"
   ]
  },
  {
   "cell_type": "code",
   "execution_count": 22,
   "metadata": {},
   "outputs": [
    {
     "name": "stdout",
     "output_type": "stream",
     "text": [
      "['log/log-Ex_1em3_rmult_4.0.yaml', 'log/log-Ex_1em3_rmult_5.0.yaml', 'log/log-Ex_1em3_rmult_6.0.yaml', 'log/log-Ex_1em3_rmult_7.0.yaml', 'log/log-Ex_1em3_rmult_8.0.yaml', 'log/log-Ex_1em3_rmult_9.0.yaml']\n",
      "['log/log-Ez_1em3_rmult_4.0.yaml', 'log/log-Ez_1em3_rmult_5.0.yaml', 'log/log-Ez_1em3_rmult_6.0.yaml', 'log/log-Ez_1em3_rmult_7.0.yaml', 'log/log-Ez_1em3_rmult_8.0.yaml', 'log/log-Ez_1em3_rmult_9.0.yaml']\n"
     ]
    }
   ],
   "source": [
    "logsEx = !ls log/log-Ex_1em3*\n",
    "Ex=[lf.Logfile(l) for l in logsEx]\n",
    "nRunEx=len(Ex)\n",
    "print(logsEx)\n",
    "\n",
    "logsEz = !ls log/log-Ez_1em3*\n",
    "Ez=[lf.Logfile(l) for l in logsEz]\n",
    "nRunEz=len(Ez)\n",
    "print(logsEz)"
   ]
  },
  {
   "cell_type": "markdown",
   "metadata": {
    "collapsed": true
   },
   "source": [
    "for each run i the lists Ex[i].evals[0][0] and Ez[i].evals[0][0] contain the energy of the orbitals, for instance:"
   ]
  },
  {
   "cell_type": "code",
   "execution_count": 23,
   "metadata": {},
   "outputs": [
    {
     "data": {
      "text/plain": [
       "BandArray([-1.02650501, -0.4921193 , -0.42574634, -0.425744  , -0.37584628])"
      ]
     },
     "execution_count": 23,
     "metadata": {},
     "output_type": "execute_result"
    }
   ],
   "source": [
    "Ez[0].evals[0][0]"
   ]
  },
  {
   "cell_type": "markdown",
   "metadata": {},
   "source": [
    " The number of orbitals is given by:"
   ]
  },
  {
   "cell_type": "code",
   "execution_count": 24,
   "metadata": {
    "collapsed": true
   },
   "outputs": [],
   "source": [
    "norb =len(Ex[0].evals[0][0])"
   ]
  },
  {
   "cell_type": "markdown",
   "metadata": {},
   "source": [
    "we introduce the lists enEx[i], enEz[i] (with i in range(norb)) that contains the energy of the i-th orbital for\n",
    "all the runs"
   ]
  },
  {
   "cell_type": "code",
   "execution_count": 25,
   "metadata": {
    "collapsed": true
   },
   "outputs": [],
   "source": [
    "enEx=[]\n",
    "for orb in range(norb):\n",
    "    eorb=[]\n",
    "    for run in range(nRunEx):\n",
    "        eorb.append(Ex[run].evals[0][0][orb])\n",
    "    enEx.append(eorb)\n",
    "\n",
    "enEz=[]\n",
    "for orb in range(norb):\n",
    "    eorb=[]\n",
    "    for run in range(nRunEx):\n",
    "        eorb.append(Ez[run].evals[0][0][orb])\n",
    "    enEz.append(eorb)"
   ]
  },
  {
   "cell_type": "code",
   "execution_count": 26,
   "metadata": {
    "collapsed": true
   },
   "outputs": [],
   "source": [
    "dimBoxEx=[]\n",
    "dimBoxEz=[]\n",
    "for ind in range(nRunEx):\n",
    "    dimBoxEx.append(Ex[ind].log['Sizes of the simulation domain']['Angstroem'][0])\n",
    "    dimBoxEz.append(Ez[ind].log['Sizes of the simulation domain']['Angstroem'][0])"
   ]
  },
  {
   "cell_type": "code",
   "execution_count": 27,
   "metadata": {},
   "outputs": [
    {
     "data": {
      "image/png": "[encoded data removed]",
      "text/plain": [
       "<matplotlib.figure.Figure at 0x7f652100e050>"
      ]
     },
     "metadata": {},
     "output_type": "display_data"
    },
    {
     "data": {
      "image/png": "[encoded data removed]",
      "text/plain": [
       "<matplotlib.figure.Figure at 0x7f652060e1d0>"
      ]
     },
     "metadata": {},
     "output_type": "display_data"
    }
   ],
   "source": [
    "for orb in range(norb):\n",
    "    plt.plot(dimBoxEx,enEx[orb])\n",
    "plt.title('Energy of KS orbitals (Ex)',fontsize=16)\n",
    "plt.show()\n",
    "\n",
    "for orb in range(norb):\n",
    "    plt.plot(dimBoxEz,enEz[orb])\n",
    "plt.title('Energy of KS orbitals (Ez)',fontsize=16)\n",
    "plt.show()"
   ]
  },
  {
   "cell_type": "markdown",
   "metadata": {},
   "source": [
    "We also plot the difference between the energy of each orbital and its value for the greatest simulation box"
   ]
  },
  {
   "cell_type": "code",
   "execution_count": 28,
   "metadata": {
    "collapsed": true
   },
   "outputs": [],
   "source": [
    "deltaEx=[]\n",
    "for orb in range(norb):\n",
    "    delta = enEx[orb]-enEx[orb][nRunEx-1]\n",
    "    deltaEx.append(delta)\n",
    "    \n",
    "deltaEz=[]\n",
    "for orb in range(norb):\n",
    "    delta = enEz[orb]-enEz[orb][nRunEz-1]\n",
    "    deltaEz.append(delta)"
   ]
  },
  {
   "cell_type": "code",
   "execution_count": 29,
   "metadata": {
    "scrolled": false
   },
   "outputs": [
    {
     "data": {
      "image/png": "[encoded data removed]",
      "text/plain": [
       "<matplotlib.figure.Figure at 0x7f65204caed0>"
      ]
     },
     "metadata": {},
     "output_type": "display_data"
    },
    {
     "data": {
      "image/png": "[encoded data removed]",
      "text/plain": [
       "<matplotlib.figure.Figure at 0x7f652060a390>"
      ]
     },
     "metadata": {},
     "output_type": "display_data"
    }
   ],
   "source": [
    "for orb in range(norb):\n",
    "    plt.plot(dimBoxEx,deltaEx[orb])\n",
    "plt.title('Delta energy of KS orbitals (Ex)',fontsize=16)\n",
    "plt.show()\n",
    "\n",
    "for orb in range(norb):\n",
    "    plt.plot(dimBoxEz,deltaEz[orb])\n",
    "plt.title('Delta energy of KS orbitals (Ez)',fontsize=16)\n",
    "plt.show()"
   ]
  },
  {
   "cell_type": "code",
   "execution_count": 30,
   "metadata": {
    "collapsed": true
   },
   "outputs": [],
   "source": [
    "dipoleX.append(Ex[nRunEx-1].log['Electric Dipole Moment (AU)']['P vector'][0])\n",
    "dipoleZ.append(Ez[nRunEx-1].log['Electric Dipole Moment (AU)']['P vector'][2])\n",
    "eFieldX.append(enorm)\n",
    "eFieldZ.append(enorm)"
   ]
  },
  {
   "cell_type": "markdown",
   "metadata": {},
   "source": [
    "# $E$-norm = $1e^{-2}$"
   ]
  },
  {
   "cell_type": "markdown",
   "metadata": {},
   "source": [
    "## Set up of the simulations"
   ]
  },
  {
   "cell_type": "markdown",
   "metadata": {},
   "source": [
    "We build a set of input files with increasing values of the box dimension for both the x and z electric field configurations. "
   ]
  },
  {
   "cell_type": "code",
   "execution_count": 31,
   "metadata": {
    "collapsed": true
   },
   "outputs": [],
   "source": [
    "enorm = 1e-2\n",
    "en = str('1em2_')"
   ]
  },
  {
   "cell_type": "code",
   "execution_count": 32,
   "metadata": {
    "collapsed": true
   },
   "outputs": [],
   "source": [
    "ez=[0.0,0.0,enorm]\n",
    "ex=[enorm,0.0,0.0]"
   ]
  },
  {
   "cell_type": "code",
   "execution_count": 33,
   "metadata": {
    "collapsed": true
   },
   "outputs": [],
   "source": [
    "inpEz={'dft':{'elecfield': ez}}\n",
    "inpEx={'dft':{'elecfield': ex}}"
   ]
  },
  {
   "cell_type": "code",
   "execution_count": 34,
   "metadata": {},
   "outputs": [
    {
     "data": {
      "text/plain": [
       "[[4.0, 9.0], [5.0, 9.0], [6.0, 9.0], [7.0, 9.0], [8.0, 9.0], [9.0, 9.0]]"
      ]
     },
     "execution_count": 34,
     "metadata": {},
     "output_type": "execute_result"
    }
   ],
   "source": [
    "rmult = [[float(i), 9.0] for i in range(4,10)]\n",
    "rmult"
   ]
  },
  {
   "cell_type": "code",
   "execution_count": 35,
   "metadata": {
    "collapsed": true
   },
   "outputs": [],
   "source": [
    "lrun=[]\n",
    "for r in rmult:\n",
    "    inpEz['dft']['rmult'] = r\n",
    "    inpEx['dft']['rmult'] = r\n",
    "    inpnameEz = 'Ez_'+en+str('rmult_')+str(r[0])\n",
    "    inpnameEx = 'Ex_'+en+str('rmult_')+str(r[0])\n",
    "    Yaml.dump(inpEz,inputpath + inpnameEz + '.yaml')\n",
    "    Yaml.dump(inpEx,inputpath + inpnameEx + '.yaml')\n",
    "    lrun.append(inpnameEz)\n",
    "    lrun.append(inpnameEx)\n",
    "Yaml.dump(lrun,inputpath+'runs_'+en)"
   ]
  },
  {
   "cell_type": "markdown",
   "metadata": {},
   "source": [
    "## Data analysis"
   ]
  },
  {
   "cell_type": "markdown",
   "metadata": {
    "collapsed": true
   },
   "source": [
    "Now we plot the energy of the KS orbitals as a function of the dimension of the box. We import the log files with the results of the simulations:"
   ]
  },
  {
   "cell_type": "code",
   "execution_count": 36,
   "metadata": {},
   "outputs": [
    {
     "name": "stdout",
     "output_type": "stream",
     "text": [
      "['log/log-Ex_1em2_rmult_4.0.yaml', 'log/log-Ex_1em2_rmult_5.0.yaml', 'log/log-Ex_1em2_rmult_6.0.yaml', 'log/log-Ex_1em2_rmult_7.0.yaml', 'log/log-Ex_1em2_rmult_7_wf.yaml', 'log/log-Ex_1em2_rmult_8.0.yaml', 'log/log-Ex_1em2_rmult_9.0.yaml']\n",
      "['log/log-Ez_1em2_rmult_4.0.yaml', 'log/log-Ez_1em2_rmult_5.0.yaml', 'log/log-Ez_1em2_rmult_6.0.yaml', 'log/log-Ez_1em2_rmult_7.0.yaml', 'log/log-Ez_1em2_rmult_7_wf.yaml', 'log/log-Ez_1em2_rmult_8.0.yaml', 'log/log-Ez_1em2_rmult_9.0.yaml']\n"
     ]
    }
   ],
   "source": [
    "logsEx = !ls log/log-Ex_1em2*\n",
    "Ex=[lf.Logfile(l) for l in logsEx]\n",
    "nRunEx=len(Ex)\n",
    "print(logsEx)\n",
    "\n",
    "logsEz = !ls log/log-Ez_1em2*\n",
    "Ez=[lf.Logfile(l) for l in logsEz]\n",
    "nRunEz=len(Ez)\n",
    "print(logsEz)"
   ]
  },
  {
   "cell_type": "markdown",
   "metadata": {
    "collapsed": true
   },
   "source": [
    "for each run i the lists Ex[i].evals[0][0] and Ez[i].evals[0][0] contain the energy of the orbitals, for instance:"
   ]
  },
  {
   "cell_type": "code",
   "execution_count": 37,
   "metadata": {},
   "outputs": [
    {
     "data": {
      "text/plain": [
       "BandArray([-1.02650501, -0.4921193 , -0.42574634, -0.425744  , -0.37584628])"
      ]
     },
     "execution_count": 37,
     "metadata": {},
     "output_type": "execute_result"
    }
   ],
   "source": [
    "Ez[0].evals[0][0]"
   ]
  },
  {
   "cell_type": "markdown",
   "metadata": {},
   "source": [
    " The number of orbitals is given by:"
   ]
  },
  {
   "cell_type": "code",
   "execution_count": 38,
   "metadata": {
    "collapsed": true
   },
   "outputs": [],
   "source": [
    "norb =len(Ex[0].evals[0][0])"
   ]
  },
  {
   "cell_type": "markdown",
   "metadata": {},
   "source": [
    "we introduce the lists enEx[i], enEz[i] (with i in range(norb)) that contains the energy of the i-th orbital for\n",
    "all the runs"
   ]
  },
  {
   "cell_type": "code",
   "execution_count": 39,
   "metadata": {
    "collapsed": true
   },
   "outputs": [],
   "source": [
    "enEx=[]\n",
    "for orb in range(norb):\n",
    "    eorb=[]\n",
    "    for run in range(nRunEx):\n",
    "        eorb.append(Ex[run].evals[0][0][orb])\n",
    "    enEx.append(eorb)\n",
    "\n",
    "enEz=[]\n",
    "for orb in range(norb):\n",
    "    eorb=[]\n",
    "    for run in range(nRunEx):\n",
    "        eorb.append(Ez[run].evals[0][0][orb])\n",
    "    enEz.append(eorb)"
   ]
  },
  {
   "cell_type": "code",
   "execution_count": 40,
   "metadata": {
    "collapsed": true
   },
   "outputs": [],
   "source": [
    "dimBoxEx=[]\n",
    "dimBoxEz=[]\n",
    "for ind in range(nRunEx):\n",
    "    dimBoxEx.append(Ex[ind].log['Sizes of the simulation domain']['Angstroem'][0])\n",
    "    dimBoxEz.append(Ez[ind].log['Sizes of the simulation domain']['Angstroem'][0])"
   ]
  },
  {
   "cell_type": "code",
   "execution_count": 41,
   "metadata": {},
   "outputs": [
    {
     "data": {
      "image/png": "[encoded data removed]",
      "text/plain": [
       "<matplotlib.figure.Figure at 0x7f65204537d0>"
      ]
     },
     "metadata": {},
     "output_type": "display_data"
    },
    {
     "data": {
      "image/png": "[encoded data removed]",
      "text/plain": [
       "<matplotlib.figure.Figure at 0x7f65203b0e90>"
      ]
     },
     "metadata": {},
     "output_type": "display_data"
    }
   ],
   "source": [
    "for orb in range(norb):\n",
    "    plt.plot(dimBoxEx,enEx[orb])\n",
    "plt.title('Energy of KS orbitals (Ex)',fontsize=16)\n",
    "plt.show()\n",
    "\n",
    "for orb in range(norb):\n",
    "    plt.plot(dimBoxEz,enEz[orb])\n",
    "plt.title('Energy of KS orbitals (Ez)',fontsize=16)\n",
    "plt.show()"
   ]
  },
  {
   "cell_type": "markdown",
   "metadata": {},
   "source": [
    "We also plot the difference between the energy of each orbital and its value for the greatest simulation box"
   ]
  },
  {
   "cell_type": "code",
   "execution_count": 42,
   "metadata": {
    "collapsed": true
   },
   "outputs": [],
   "source": [
    "deltaEx=[]\n",
    "for orb in range(norb):\n",
    "    delta = enEx[orb]-enEx[orb][nRunEx-1]\n",
    "    deltaEx.append(delta)\n",
    "    \n",
    "deltaEz=[]\n",
    "for orb in range(norb):\n",
    "    delta = enEz[orb]-enEz[orb][nRunEz-1]\n",
    "    deltaEz.append(delta)"
   ]
  },
  {
   "cell_type": "code",
   "execution_count": 43,
   "metadata": {
    "scrolled": false
   },
   "outputs": [
    {
     "data": {
      "image/png": "[encoded data removed]",
      "text/plain": [
       "<matplotlib.figure.Figure at 0x7f65203f89d0>"
      ]
     },
     "metadata": {},
     "output_type": "display_data"
    },
    {
     "data": {
      "image/png": "[encoded data removed]",
      "text/plain": [
       "<matplotlib.figure.Figure at 0x7f65203b0d90>"
      ]
     },
     "metadata": {},
     "output_type": "display_data"
    }
   ],
   "source": [
    "for orb in range(norb):\n",
    "    plt.plot(dimBoxEx,deltaEx[orb])\n",
    "plt.title('Delta energy of KS orbitals (Ex)',fontsize=16)\n",
    "plt.show()\n",
    "\n",
    "for orb in range(norb):\n",
    "    plt.plot(dimBoxEz,deltaEz[orb])\n",
    "plt.title('Delta energy of KS orbitals (Ez)',fontsize=16)\n",
    "plt.show()"
   ]
  },
  {
   "cell_type": "code",
   "execution_count": 44,
   "metadata": {
    "collapsed": true
   },
   "outputs": [],
   "source": [
    "dipoleX.append(Ex[nRunEx-1].log['Electric Dipole Moment (AU)']['P vector'][0])\n",
    "dipoleZ.append(Ez[nRunEx-1].log['Electric Dipole Moment (AU)']['P vector'][2])\n",
    "eFieldX.append(enorm)\n",
    "eFieldZ.append(enorm)"
   ]
  },
  {
   "cell_type": "markdown",
   "metadata": {},
   "source": [
    "# $E$-norm = $1e^{-1}$"
   ]
  },
  {
   "cell_type": "markdown",
   "metadata": {},
   "source": [
    "## Set up of the simulations"
   ]
  },
  {
   "cell_type": "markdown",
   "metadata": {},
   "source": [
    "We build a set of input files with increasing values of the box dimension for both the x and z electric field configurations. "
   ]
  },
  {
   "cell_type": "code",
   "execution_count": 45,
   "metadata": {
    "collapsed": true
   },
   "outputs": [],
   "source": [
    "enorm = 1e-1\n",
    "en = str('1em1_')"
   ]
  },
  {
   "cell_type": "code",
   "execution_count": 46,
   "metadata": {
    "collapsed": true
   },
   "outputs": [],
   "source": [
    "ez=[0.0,0.0,enorm]\n",
    "ex=[enorm,0.0,0.0]"
   ]
  },
  {
   "cell_type": "code",
   "execution_count": 47,
   "metadata": {
    "collapsed": true
   },
   "outputs": [],
   "source": [
    "inpEz={'dft':{'elecfield': ez}}\n",
    "inpEx={'dft':{'elecfield': ex}}"
   ]
  },
  {
   "cell_type": "code",
   "execution_count": 48,
   "metadata": {},
   "outputs": [
    {
     "data": {
      "text/plain": [
       "[[4.0, 9.0], [5.0, 9.0], [6.0, 9.0], [7.0, 9.0], [8.0, 9.0], [9.0, 9.0]]"
      ]
     },
     "execution_count": 48,
     "metadata": {},
     "output_type": "execute_result"
    }
   ],
   "source": [
    "rmult = [[float(i), 9.0] for i in range(4,10)]\n",
    "rmult"
   ]
  },
  {
   "cell_type": "code",
   "execution_count": 49,
   "metadata": {
    "collapsed": true
   },
   "outputs": [],
   "source": [
    "lrun=[]\n",
    "for r in rmult:\n",
    "    inpEz['dft']['rmult'] = r\n",
    "    inpEx['dft']['rmult'] = r\n",
    "    inpnameEz = 'Ez_'+en+str('rmult_')+str(r[0])\n",
    "    inpnameEx = 'Ex_'+en+str('rmult_')+str(r[0])\n",
    "    Yaml.dump(inpEz,inputpath + inpnameEz + '.yaml')\n",
    "    Yaml.dump(inpEx,inputpath + inpnameEx + '.yaml')\n",
    "    lrun.append(inpnameEz)\n",
    "    lrun.append(inpnameEx)\n",
    "Yaml.dump(lrun,inputpath+'runs_'+en)"
   ]
  },
  {
   "cell_type": "markdown",
   "metadata": {},
   "source": [
    "## Data analysis"
   ]
  },
  {
   "cell_type": "markdown",
   "metadata": {
    "collapsed": true
   },
   "source": [
    "Now we plot the energy of the KS orbitals as a function of the dimension of the box. We import the log files with the results of the simulations:"
   ]
  },
  {
   "cell_type": "code",
   "execution_count": 50,
   "metadata": {
    "scrolled": true
   },
   "outputs": [
    {
     "name": "stdout",
     "output_type": "stream",
     "text": [
      "['log/log-Ex_1em1_rmult_4.0.yaml', 'log/log-Ex_1em1_rmult_5.0.yaml', 'log/log-Ex_1em1_rmult_6.0.yaml', 'log/log-Ex_1em1_rmult_7.0.yaml', 'log/log-Ex_1em1_rmult_8.0.yaml', 'log/log-Ex_1em1_rmult_9.0.yaml']\n",
      "['log/log-Ez_1em1_rmult_4.0.yaml', 'log/log-Ez_1em1_rmult_5.0.yaml', 'log/log-Ez_1em1_rmult_6.0.yaml', 'log/log-Ez_1em1_rmult_7.0.yaml', 'log/log-Ez_1em1_rmult_8.0.yaml', 'log/log-Ez_1em1_rmult_9.0.yaml']\n"
     ]
    }
   ],
   "source": [
    "logsEx = !ls log/log-Ex_1em1*\n",
    "Ex=[lf.Logfile(l) for l in logsEx]\n",
    "nRunEx=len(Ex)\n",
    "print(logsEx)\n",
    "\n",
    "logsEz = !ls log/log-Ez_1em1*\n",
    "Ez=[lf.Logfile(l) for l in logsEz]\n",
    "nRunEz=len(Ez)\n",
    "print(logsEz)"
   ]
  },
  {
   "cell_type": "markdown",
   "metadata": {
    "collapsed": true
   },
   "source": [
    "for each run i the lists Ex[i].evals[0][0] and Ez[i].evals[0][0] contain the energy of the orbitals, for instance:"
   ]
  },
  {
   "cell_type": "code",
   "execution_count": 51,
   "metadata": {},
   "outputs": [
    {
     "data": {
      "text/plain": [
       "BandArray([-1.05596089, -0.55331142, -0.45380212, -0.45379978, -0.36699289])"
      ]
     },
     "execution_count": 51,
     "metadata": {},
     "output_type": "execute_result"
    }
   ],
   "source": [
    "Ez[0].evals[0][0]"
   ]
  },
  {
   "cell_type": "markdown",
   "metadata": {},
   "source": [
    " The number of orbitals is given by:"
   ]
  },
  {
   "cell_type": "code",
   "execution_count": 52,
   "metadata": {
    "collapsed": true
   },
   "outputs": [],
   "source": [
    "norb =len(Ex[0].evals[0][0])"
   ]
  },
  {
   "cell_type": "markdown",
   "metadata": {},
   "source": [
    "we introduce the lists enEx[i], enEz[i] (with i in range(norb)) that contains the energy of the i-th orbital for\n",
    "all the runs"
   ]
  },
  {
   "cell_type": "code",
   "execution_count": 53,
   "metadata": {
    "collapsed": true
   },
   "outputs": [],
   "source": [
    "enEx=[]\n",
    "for orb in range(norb):\n",
    "    eorb=[]\n",
    "    for run in range(nRunEx):\n",
    "        eorb.append(Ex[run].evals[0][0][orb])\n",
    "    enEx.append(eorb)\n",
    "\n",
    "enEz=[]\n",
    "for orb in range(norb):\n",
    "    eorb=[]\n",
    "    for run in range(nRunEx):\n",
    "        eorb.append(Ez[run].evals[0][0][orb])\n",
    "    enEz.append(eorb)"
   ]
  },
  {
   "cell_type": "code",
   "execution_count": 54,
   "metadata": {
    "collapsed": true
   },
   "outputs": [],
   "source": [
    "dimBoxEx=[]\n",
    "dimBoxEz=[]\n",
    "for ind in range(nRunEx):\n",
    "    dimBoxEx.append(Ex[ind].log['Sizes of the simulation domain']['Angstroem'][0])\n",
    "    dimBoxEz.append(Ez[ind].log['Sizes of the simulation domain']['Angstroem'][0])"
   ]
  },
  {
   "cell_type": "code",
   "execution_count": 55,
   "metadata": {},
   "outputs": [
    {
     "data": {
      "image/png": "[encoded data removed]",
      "text/plain": [
       "<matplotlib.figure.Figure at 0x7f65205cf510>"
      ]
     },
     "metadata": {},
     "output_type": "display_data"
    },
    {
     "data": {
      "image/png": "[encoded data removed]",
      "text/plain": [
       "<matplotlib.figure.Figure at 0x7f652062c950>"
      ]
     },
     "metadata": {},
     "output_type": "display_data"
    }
   ],
   "source": [
    "for orb in range(norb):\n",
    "    plt.plot(dimBoxEx,enEx[orb])\n",
    "plt.title('Energy of KS orbitals (Ex)',fontsize=16)\n",
    "plt.show()\n",
    "\n",
    "for orb in range(norb):\n",
    "    plt.plot(dimBoxEz,enEz[orb])\n",
    "plt.title('Energy of KS orbitals (Ez)',fontsize=16)\n",
    "plt.show()"
   ]
  },
  {
   "cell_type": "markdown",
   "metadata": {},
   "source": [
    "In this case we observe that the self consistent cicles stop at itermax, so probabibly the system is not converging"
   ]
  },
  {
   "cell_type": "markdown",
   "metadata": {
    "collapsed": true
   },
   "source": [
    "## Computation of the linear polarizability"
   ]
  },
  {
   "cell_type": "markdown",
   "metadata": {},
   "source": [
    "We plot the induced dipole moment vs. the corresponding component of the electric field (for the field norm up to $1e-2$)"
   ]
  },
  {
   "cell_type": "code",
   "execution_count": 56,
   "metadata": {},
   "outputs": [
    {
     "data": {
      "image/png": "[encoded data removed]",
      "text/plain": [
       "<matplotlib.figure.Figure at 0x7f65203787d0>"
      ]
     },
     "metadata": {},
     "output_type": "display_data"
    },
    {
     "data": {
      "image/png": "[encoded data removed]",
      "text/plain": [
       "<matplotlib.figure.Figure at 0x7f6520698bd0>"
      ]
     },
     "metadata": {},
     "output_type": "display_data"
    }
   ],
   "source": [
    "plt.plot(eFieldX,dipoleX)\n",
    "plt.scatter(eFieldX,dipoleX, color='r')\n",
    "plt.title('Dipole moment vs E field (x component)',fontsize=16)\n",
    "plt.show()\n",
    "\n",
    "plt.plot(eFieldZ,dipoleZ)\n",
    "plt.scatter(eFieldZ,dipoleZ, color='r')\n",
    "plt.title('Dipole moment vs E field (z component)',fontsize=16)\n",
    "plt.show()"
   ]
  },
  {
   "cell_type": "code",
   "execution_count": 57,
   "metadata": {},
   "outputs": [
    {
     "name": "stdout",
     "output_type": "stream",
     "text": [
      "alphaZ = 15.744\n",
      "alphaX = 10.878\n"
     ]
    }
   ],
   "source": [
    "alphaZ = dipoleZ[-1]/eFieldZ[-1]\n",
    "alphaX = dipoleX[-1]/eFieldX[-1]\n",
    "print('alphaZ = ' + str(alphaZ))\n",
    "print('alphaX = ' + str(alphaX))"
   ]
  },
  {
   "cell_type": "markdown",
   "metadata": {
    "collapsed": true
   },
   "source": [
    "## Computation of the orbitals"
   ]
  },
  {
   "cell_type": "markdown",
   "metadata": {},
   "source": [
    "As a final task of thi nb we compute the KS orbitals of the ground state for the field norm equal to $1e-2$, which is the highest computed value of the field for which the linear response regime has been confirmed. We reduce the value of gnrm_cv to 1e-8 to have a more precise reference result."
   ]
  },
  {
   "cell_type": "markdown",
   "metadata": {},
   "source": [
    "First we perform this computation for rmult = 7"
   ]
  },
  {
   "cell_type": "code",
   "execution_count": 62,
   "metadata": {
    "collapsed": true
   },
   "outputs": [],
   "source": [
    "enorm = 1e-2\n",
    "en = str('1em2_')"
   ]
  },
  {
   "cell_type": "code",
   "execution_count": 63,
   "metadata": {
    "collapsed": true
   },
   "outputs": [],
   "source": [
    "ez=[0.0,0.0,enorm]\n",
    "ex=[enorm,0.0,0.0]"
   ]
  },
  {
   "cell_type": "code",
   "execution_count": 64,
   "metadata": {
    "collapsed": true
   },
   "outputs": [],
   "source": [
    "inpEz={'dft':\n",
    "       {'elecfield': ez, \n",
    "        'rmult' : [7.0, 9.0],\n",
    "        'gnrm_cv' : 1e-8,\n",
    "        'output_wf' : 2},\n",
    "       'radical' : 'Ez_1em2_rmult_7'}\n",
    "inpEx={'dft':\n",
    "       {'elecfield': ex, \n",
    "        'rmult' : [7.0, 9.0],\n",
    "        'gnrm_cv' : 1e-8,\n",
    "        'output_wf' : 2},\n",
    "       'radical' : 'Ex_1em2_rmult_7'}"
   ]
  },
  {
   "cell_type": "code",
   "execution_count": 61,
   "metadata": {
    "collapsed": true
   },
   "outputs": [],
   "source": [
    "inpnameEz = 'Ez_'+en+str('rmult_7_')+'wf'\n",
    "inpnameEx = 'Ex_'+en+str('rmult_7_')+'wf'\n",
    "Yaml.dump(inpEz,inputpath + inpnameEz + '.yaml')\n",
    "Yaml.dump(inpEx,inputpath + inpnameEx + '.yaml')\n"
   ]
  },
  {
   "cell_type": "markdown",
   "metadata": {
    "collapsed": true
   },
   "source": [
    "Now we repeat the computation for rmult = 9"
   ]
  },
  {
   "cell_type": "code",
   "execution_count": 65,
   "metadata": {
    "collapsed": true
   },
   "outputs": [],
   "source": [
    "inpEz={'dft':\n",
    "       {'elecfield': ez, \n",
    "        'rmult' : [9.0, 9.0],\n",
    "        'gnrm_cv' : 1e-8,\n",
    "        'output_wf' : 2},\n",
    "       'radical' : 'Ez_1em2_rmult_9'}\n",
    "inpEx={'dft':\n",
    "       {'elecfield': ex, \n",
    "        'rmult' : [9.0, 9.0],\n",
    "        'gnrm_cv' : 1e-8,\n",
    "        'output_wf' : 2},\n",
    "       'radical' : 'Ex_1em2_rmult_9'}"
   ]
  },
  {
   "cell_type": "code",
   "execution_count": 67,
   "metadata": {
    "collapsed": true
   },
   "outputs": [],
   "source": [
    "inpnameEz = 'Ez_'+en+str('rmult_9_')+'wf'\n",
    "inpnameEx = 'Ex_'+en+str('rmult_9_')+'wf'\n",
    "Yaml.dump(inpEz,inputpath + inpnameEz + '.yaml')\n",
    "Yaml.dump(inpEx,inputpath + inpnameEx + '.yaml')"
   ]
  },
  {
   "cell_type": "code",
   "execution_count": null,
   "metadata": {
    "collapsed": true
   },
   "outputs": [],
   "source": []
  }
 ],
 "metadata": {
  "kernelspec": {
   "display_name": "Python 2",
   "language": "python",
   "name": "python2"
  },
  "language_info": {
   "codemirror_mode": {
    "name": "ipython",
    "version": 2
   },
   "file_extension": ".py",
   "mimetype": "text/x-python",
   "name": "python",
   "nbconvert_exporter": "python",
   "pygments_lexer": "ipython2",
   "version": "2.7.13"
  }
 },
 "nbformat": 4,
 "nbformat_minor": 2
}
